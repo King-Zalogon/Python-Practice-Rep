{
 "cells": [
  {
   "cell_type": "code",
   "execution_count": 1,
   "id": "ebb9da52",
   "metadata": {},
   "outputs": [
    {
     "ename": "SyntaxError",
     "evalue": "invalid syntax (Temp/ipykernel_11328/2138558978.py, line 1)",
     "output_type": "error",
     "traceback": [
      "\u001b[1;36m  File \u001b[1;32m\"C:\\Users\\Gin\\AppData\\Local\\Temp/ipykernel_11328/2138558978.py\"\u001b[1;36m, line \u001b[1;32m1\u001b[0m\n\u001b[1;33m    if (n%2 = 0) print ('Par')\u001b[0m\n\u001b[1;37m            ^\u001b[0m\n\u001b[1;31mSyntaxError\u001b[0m\u001b[1;31m:\u001b[0m invalid syntax\n"
     ]
    }
   ],
   "source": [
    "if (n%2 = 0) print ('Par')"
   ]
  },
  {
   "cell_type": "code",
   "execution_count": 2,
   "id": "db3bfd4c",
   "metadata": {},
   "outputs": [],
   "source": [
    "n = 4"
   ]
  },
  {
   "cell_type": "code",
   "execution_count": 4,
   "id": "25af853e",
   "metadata": {},
   "outputs": [
    {
     "ename": "SyntaxError",
     "evalue": "invalid syntax (Temp/ipykernel_11328/1172508240.py, line 1)",
     "output_type": "error",
     "traceback": [
      "\u001b[1;36m  File \u001b[1;32m\"C:\\Users\\Gin\\AppData\\Local\\Temp/ipykernel_11328/1172508240.py\"\u001b[1;36m, line \u001b[1;32m1\u001b[0m\n\u001b[1;33m    if (n%2 = 0):print ('Par')\u001b[0m\n\u001b[1;37m            ^\u001b[0m\n\u001b[1;31mSyntaxError\u001b[0m\u001b[1;31m:\u001b[0m invalid syntax\n"
     ]
    }
   ],
   "source": [
    "if (n%2 = 0):print ('Par')"
   ]
  },
  {
   "cell_type": "code",
   "execution_count": 5,
   "id": "cd85ff5a",
   "metadata": {},
   "outputs": [
    {
     "ename": "SyntaxError",
     "evalue": "invalid syntax (Temp/ipykernel_11328/3451140200.py, line 1)",
     "output_type": "error",
     "traceback": [
      "\u001b[1;36m  File \u001b[1;32m\"C:\\Users\\Gin\\AppData\\Local\\Temp/ipykernel_11328/3451140200.py\"\u001b[1;36m, line \u001b[1;32m1\u001b[0m\n\u001b[1;33m    if n%2 == 0 print ('Par')\u001b[0m\n\u001b[1;37m                ^\u001b[0m\n\u001b[1;31mSyntaxError\u001b[0m\u001b[1;31m:\u001b[0m invalid syntax\n"
     ]
    }
   ],
   "source": [
    "if n%2 == 0 print ('Par')"
   ]
  },
  {
   "cell_type": "code",
   "execution_count": 10,
   "id": "081c3b79",
   "metadata": {},
   "outputs": [],
   "source": [
    "numero_par = (n%2)"
   ]
  },
  {
   "cell_type": "code",
   "execution_count": 22,
   "id": "86043cd9",
   "metadata": {},
   "outputs": [
    {
     "name": "stdout",
     "output_type": "stream",
     "text": [
      "Par\n"
     ]
    }
   ],
   "source": [
    "if numero_par == 0:\n",
    "    print ('Par')"
   ]
  },
  {
   "cell_type": "code",
   "execution_count": 11,
   "id": "2badb1db",
   "metadata": {},
   "outputs": [
    {
     "data": {
      "text/plain": [
       "0"
      ]
     },
     "execution_count": 11,
     "metadata": {},
     "output_type": "execute_result"
    }
   ],
   "source": [
    "numero_par"
   ]
  },
  {
   "cell_type": "code",
   "execution_count": 16,
   "id": "97f3645b",
   "metadata": {},
   "outputs": [
    {
     "name": "stdout",
     "output_type": "stream",
     "text": [
      "False\n"
     ]
    }
   ],
   "source": [
    "print (n < 3)"
   ]
  },
  {
   "cell_type": "code",
   "execution_count": 23,
   "id": "9a7d24b2",
   "metadata": {},
   "outputs": [
    {
     "name": "stdout",
     "output_type": "stream",
     "text": [
      "Es par\n"
     ]
    }
   ],
   "source": [
    "if numero_par == 0:\n",
    "    print ('Es par')\n",
    "else:\n",
    "    print ('Es impar')"
   ]
  },
  {
   "cell_type": "markdown",
   "id": "292aebaf",
   "metadata": {},
   "source": [
    "Given an integer, n ,perform the following conditional actions:\n",
    "\n",
    "If n is odd, print Weird\n",
    "If n is even and in the inclusive range of 2 to 5, print Not Weird\n",
    "If n is even and in the inclusive range of 6 to 20, print Weird\n",
    "If n is even and greater than 20 , print Not Weird"
   ]
  },
  {
   "cell_type": "code",
   "execution_count": 32,
   "id": "e6d9990f",
   "metadata": {},
   "outputs": [
    {
     "ename": "SyntaxError",
     "evalue": "invalid syntax (Temp/ipykernel_11328/2889575897.py, line 7)",
     "output_type": "error",
     "traceback": [
      "\u001b[1;36m  File \u001b[1;32m\"C:\\Users\\Gin\\AppData\\Local\\Temp/ipykernel_11328/2889575897.py\"\u001b[1;36m, line \u001b[1;32m7\u001b[0m\n\u001b[1;33m    else:\u001b[0m\n\u001b[1;37m    ^\u001b[0m\n\u001b[1;31mSyntaxError\u001b[0m\u001b[1;31m:\u001b[0m invalid syntax\n"
     ]
    }
   ],
   "source": [
    "if (n%2 > 0):\n",
    "    print ('Weird')\n",
    "else: \n",
    "    if (n%2 == 0):\n",
    "        if (n > 20):\n",
    "            print ('Not Weird')\n",
    "else:\n",
    "    if (n < 6):\n",
    "        print ('Weird')\n",
    "else:\n",
    "    print ('Not Weird')\n",
    "    "
   ]
  },
  {
   "cell_type": "code",
   "execution_count": 16,
   "id": "e615ce6c",
   "metadata": {},
   "outputs": [],
   "source": [
    "n = 12"
   ]
  },
  {
   "cell_type": "code",
   "execution_count": 2,
   "id": "d3354867",
   "metadata": {},
   "outputs": [],
   "source": [
    "numero_par = (n%2)"
   ]
  },
  {
   "cell_type": "code",
   "execution_count": 9,
   "id": "b7097cb7",
   "metadata": {},
   "outputs": [
    {
     "name": "stdout",
     "output_type": "stream",
     "text": [
      "Weird\n",
      "Not Weird\n"
     ]
    }
   ],
   "source": [
    "if (n%2 > 0):\n",
    "    print ('Weird')\n",
    "\n",
    "if (n%2 == 0):\n",
    "    if (n > 20):\n",
    "        print ('Not Weird')\n",
    "if (n < 6):\n",
    "    print ('Not Weird')\n",
    "else:\n",
    "    print ('Weird')\n",
    "    "
   ]
  },
  {
   "cell_type": "code",
   "execution_count": 17,
   "id": "03c0b883",
   "metadata": {},
   "outputs": [
    {
     "name": "stdout",
     "output_type": "stream",
     "text": [
      "Weird\n"
     ]
    }
   ],
   "source": [
    "if (n%2 > 0):\n",
    "    print ('Weird')\n",
    "if (n%2 == 0):\n",
    "    if (n > 20):\n",
    "        print ('Not Weird')\n",
    "if (n < 6):\n",
    "    print ('Not Weird')\n",
    "else:\n",
    "    print ('Weird')\n",
    "    "
   ]
  },
  {
   "cell_type": "code",
   "execution_count": 22,
   "id": "41ea44ac",
   "metadata": {},
   "outputs": [
    {
     "name": "stdout",
     "output_type": "stream",
     "text": [
      "Not Weird\n"
     ]
    }
   ],
   "source": [
    "if (n%2 > 0):\n",
    "    x='odd'\n",
    "    print ('Weird')\n",
    "else:\n",
    "    x='even'\n",
    "    if (x == 'even'):\n",
    "        if (1 < n > 6):\n",
    "            print ('Not Weird')\n",
    "        else:\n",
    "            print ('Not Weird')"
   ]
  },
  {
   "cell_type": "code",
   "execution_count": 23,
   "id": "667f1b93",
   "metadata": {},
   "outputs": [],
   "source": [
    "n = 1"
   ]
  },
  {
   "cell_type": "code",
   "execution_count": 24,
   "id": "60469565",
   "metadata": {},
   "outputs": [
    {
     "name": "stdout",
     "output_type": "stream",
     "text": [
      "Weird\n"
     ]
    }
   ],
   "source": [
    "if (n%2 > 0):\n",
    "    x='odd'\n",
    "    print ('Weird')\n",
    "else:\n",
    "    x='even'\n",
    "    if (x == 'even'):\n",
    "        if (1 < n > 6):\n",
    "            print ('Not Weird')\n",
    "        else:\n",
    "            print ('Not Weird')"
   ]
  },
  {
   "cell_type": "code",
   "execution_count": 25,
   "id": "f6b78cf5",
   "metadata": {},
   "outputs": [],
   "source": [
    "n= 2"
   ]
  },
  {
   "cell_type": "code",
   "execution_count": 26,
   "id": "fead347f",
   "metadata": {},
   "outputs": [
    {
     "name": "stdout",
     "output_type": "stream",
     "text": [
      "Not Weird\n"
     ]
    }
   ],
   "source": [
    "if (n%2 > 0):\n",
    "    x='odd'\n",
    "    print ('Weird')\n",
    "else:\n",
    "    x='even'\n",
    "    if (x == 'even'):\n",
    "        if (1 < n > 6):\n",
    "            print ('Not Weird')\n",
    "        else:\n",
    "            print ('Not Weird')"
   ]
  },
  {
   "cell_type": "code",
   "execution_count": 27,
   "id": "47f4fdae",
   "metadata": {},
   "outputs": [],
   "source": [
    "n= 3"
   ]
  },
  {
   "cell_type": "code",
   "execution_count": 28,
   "id": "955e3faa",
   "metadata": {},
   "outputs": [
    {
     "name": "stdout",
     "output_type": "stream",
     "text": [
      "Weird\n"
     ]
    }
   ],
   "source": [
    "if (n%2 > 0):\n",
    "    x='odd'\n",
    "    print ('Weird')\n",
    "else:\n",
    "    x='even'\n",
    "    if (x == 'even'):\n",
    "        if (1 < n > 6):\n",
    "            print ('Not Weird')\n",
    "        else:\n",
    "            print ('Not Weird')"
   ]
  },
  {
   "cell_type": "code",
   "execution_count": 29,
   "id": "2c515d64",
   "metadata": {},
   "outputs": [],
   "source": [
    "n=6"
   ]
  },
  {
   "cell_type": "code",
   "execution_count": 30,
   "id": "f7a225d3",
   "metadata": {},
   "outputs": [
    {
     "name": "stdout",
     "output_type": "stream",
     "text": [
      "Not Weird\n"
     ]
    }
   ],
   "source": [
    "if (n%2 > 0):\n",
    "    x='odd'\n",
    "    print ('Weird')\n",
    "else:\n",
    "    x='even'\n",
    "    if (x == 'even'):\n",
    "        if (1 < n > 6):\n",
    "            print ('Not Weird')\n",
    "        else:\n",
    "            print ('Not Weird')"
   ]
  },
  {
   "cell_type": "code",
   "execution_count": 31,
   "id": "9c2057ac",
   "metadata": {},
   "outputs": [],
   "source": [
    "n=13"
   ]
  },
  {
   "cell_type": "code",
   "execution_count": 32,
   "id": "5ebb4f78",
   "metadata": {},
   "outputs": [
    {
     "name": "stdout",
     "output_type": "stream",
     "text": [
      "Weird\n"
     ]
    }
   ],
   "source": [
    "if (n%2 > 0):\n",
    "    x='odd'\n",
    "    print ('Weird')\n",
    "else:\n",
    "    x='even'\n",
    "    if (x == 'even'):\n",
    "        if (1 < n > 6):\n",
    "            print ('Not Weird')\n",
    "        else:\n",
    "            print ('Not Weird')"
   ]
  },
  {
   "cell_type": "code",
   "execution_count": 33,
   "id": "99e83487",
   "metadata": {},
   "outputs": [],
   "source": [
    "n=12"
   ]
  },
  {
   "cell_type": "code",
   "execution_count": 34,
   "id": "218c6470",
   "metadata": {},
   "outputs": [
    {
     "name": "stdout",
     "output_type": "stream",
     "text": [
      "Not Weird\n"
     ]
    }
   ],
   "source": [
    "if (n%2 > 0):\n",
    "    x='odd'\n",
    "    print ('Weird')\n",
    "else:\n",
    "    x='even'\n",
    "    if (x == 'even'):\n",
    "        if (1 < n > 6):\n",
    "            print ('Not Weird')\n",
    "        else:\n",
    "            print ('Not Weird')"
   ]
  },
  {
   "cell_type": "code",
   "execution_count": 35,
   "id": "fac0702d",
   "metadata": {},
   "outputs": [],
   "source": [
    "n=20"
   ]
  },
  {
   "cell_type": "code",
   "execution_count": 36,
   "id": "af475067",
   "metadata": {},
   "outputs": [
    {
     "name": "stdout",
     "output_type": "stream",
     "text": [
      "Not Weird\n"
     ]
    }
   ],
   "source": [
    "if (n%2 > 0):\n",
    "    x='odd'\n",
    "    print ('Weird')\n",
    "else:\n",
    "    x='even'\n",
    "    if (x == 'even'):\n",
    "        if (1 < n > 6):\n",
    "            print ('Not Weird')\n",
    "        else:\n",
    "            print ('Not Weird')"
   ]
  },
  {
   "cell_type": "code",
   "execution_count": 37,
   "id": "7ed23344",
   "metadata": {},
   "outputs": [],
   "source": [
    "n= 33"
   ]
  },
  {
   "cell_type": "code",
   "execution_count": 38,
   "id": "a2ebf191",
   "metadata": {},
   "outputs": [
    {
     "name": "stdout",
     "output_type": "stream",
     "text": [
      "Weird\n"
     ]
    }
   ],
   "source": [
    "if (n%2 > 0):\n",
    "    x='odd'\n",
    "    print ('Weird')\n",
    "else:\n",
    "    x='even'\n",
    "    if (x == 'even'):\n",
    "        if (1 < n > 6):\n",
    "            print ('Not Weird')\n",
    "        else:\n",
    "            print ('Not Weird')"
   ]
  },
  {
   "cell_type": "code",
   "execution_count": 39,
   "id": "d300b308",
   "metadata": {},
   "outputs": [],
   "source": [
    "n=5"
   ]
  },
  {
   "cell_type": "code",
   "execution_count": 40,
   "id": "5a7d73b6",
   "metadata": {},
   "outputs": [
    {
     "name": "stdout",
     "output_type": "stream",
     "text": [
      "Weird\n"
     ]
    }
   ],
   "source": [
    "if (n%2 > 0):\n",
    "    x='odd'\n",
    "    print ('Weird')\n",
    "else:\n",
    "    x='even'\n",
    "    if (x == 'even'):\n",
    "        if (1 < n > 6):\n",
    "            print ('Not Weird')\n",
    "        else:\n",
    "            print ('Not Weird')"
   ]
  },
  {
   "cell_type": "code",
   "execution_count": 41,
   "id": "89c63965",
   "metadata": {},
   "outputs": [
    {
     "name": "stdout",
     "output_type": "stream",
     "text": [
      "Weird\n"
     ]
    }
   ],
   "source": [
    "if (n%2 > 0):\n",
    "    x='odd'\n",
    "    print ('Weird')\n",
    "else:\n",
    "    x='even'\n",
    "    if (x == 'even'):\n",
    "        if (1 < n > 6):\n",
    "            print ('Not Weird')\n",
    "        else:\n",
    "            if (n > 20):\n",
    "                print ('Not Weird')\n",
    "            else:\n",
    "                print ('Weird')"
   ]
  },
  {
   "cell_type": "code",
   "execution_count": 42,
   "id": "c808a647",
   "metadata": {},
   "outputs": [],
   "source": [
    "n=13"
   ]
  },
  {
   "cell_type": "code",
   "execution_count": 43,
   "id": "d09a5c29",
   "metadata": {},
   "outputs": [
    {
     "name": "stdout",
     "output_type": "stream",
     "text": [
      "Weird\n"
     ]
    }
   ],
   "source": [
    "if (n%2 > 0):\n",
    "    x='odd'\n",
    "    print ('Weird')\n",
    "else:\n",
    "    x='even'\n",
    "    if (x == 'even'):\n",
    "        if (1 < n > 6):\n",
    "            print ('Not Weird')\n",
    "        else:\n",
    "            if (n > 20):\n",
    "                print ('Not Weird')\n",
    "            else:\n",
    "                print ('Weird')"
   ]
  },
  {
   "cell_type": "code",
   "execution_count": 44,
   "id": "05b3098d",
   "metadata": {},
   "outputs": [],
   "source": [
    "n=20"
   ]
  },
  {
   "cell_type": "code",
   "execution_count": 45,
   "id": "ee7fc06f",
   "metadata": {},
   "outputs": [
    {
     "name": "stdout",
     "output_type": "stream",
     "text": [
      "Not Weird\n"
     ]
    }
   ],
   "source": [
    "if (n%2 > 0):\n",
    "    x='odd'\n",
    "    print ('Weird')\n",
    "else:\n",
    "    x='even'\n",
    "    if (x == 'even'):\n",
    "        if (1 < n > 6):\n",
    "            print ('Not Weird')\n",
    "        else:\n",
    "            if (n > 20):\n",
    "                print ('Not Weird')\n",
    "            else:\n",
    "                print ('Weird')"
   ]
  },
  {
   "cell_type": "code",
   "execution_count": 46,
   "id": "0108c524",
   "metadata": {},
   "outputs": [],
   "source": [
    "n=22"
   ]
  },
  {
   "cell_type": "code",
   "execution_count": 47,
   "id": "cac72982",
   "metadata": {},
   "outputs": [
    {
     "name": "stdout",
     "output_type": "stream",
     "text": [
      "Not Weird\n"
     ]
    }
   ],
   "source": [
    "if (n%2 > 0):\n",
    "    x='odd'\n",
    "    print ('Weird')\n",
    "else:\n",
    "    x='even'\n",
    "    if (x == 'even'):\n",
    "        if (1 < n > 6):\n",
    "            print ('Not Weird')\n",
    "        else:\n",
    "            if (n > 20):\n",
    "                print ('Not Weird')\n",
    "            else:\n",
    "                print ('Weird')"
   ]
  },
  {
   "cell_type": "code",
   "execution_count": 48,
   "id": "fdcf9a3a",
   "metadata": {},
   "outputs": [],
   "source": [
    "n=2"
   ]
  },
  {
   "cell_type": "code",
   "execution_count": 51,
   "id": "85aac831",
   "metadata": {},
   "outputs": [
    {
     "name": "stdout",
     "output_type": "stream",
     "text": [
      "Weird\n"
     ]
    }
   ],
   "source": [
    "if (n%2 > 0):\n",
    "    x='odd'\n",
    "    print ('Weird')\n",
    "else:\n",
    "    x='even'\n",
    "    if (x == 'even'):\n",
    "        if (1 < n > 6):\n",
    "            print ('Not Weird')\n",
    "        else:\n",
    "            if (x == 'even'):\n",
    "                if (n > 20):\n",
    "                    print ('Not Weird')\n",
    "                else:\n",
    "                    if (x == 'even'):\n",
    "                        print ('Weird')"
   ]
  },
  {
   "cell_type": "code",
   "execution_count": 55,
   "id": "f8e41ae4",
   "metadata": {},
   "outputs": [
    {
     "name": "stdout",
     "output_type": "stream",
     "text": [
      "2\n",
      "Weird\n"
     ]
    }
   ],
   "source": [
    "import math\n",
    "import os\n",
    "import random\n",
    "import re\n",
    "import sys\n",
    "\n",
    "\n",
    "\n",
    "if __name__ == '__main__':\n",
    "    n = int(input().strip())\n",
    "if (n%2 > 0):\n",
    "    x='odd'\n",
    "    print ('Weird')\n",
    "else:\n",
    "    x='even'\n",
    "    if (x == 'even'):\n",
    "        if (1 < n > 6):\n",
    "            print ('Not Weird')\n",
    "        else:\n",
    "            if (n > 20):\n",
    "                print ('Not Weird')\n",
    "            else:\n",
    "                print ('Weird')"
   ]
  },
  {
   "cell_type": "code",
   "execution_count": 54,
   "id": "250676af",
   "metadata": {},
   "outputs": [
    {
     "name": "stdout",
     "output_type": "stream",
     "text": [
      "Weird\n"
     ]
    }
   ],
   "source": [
    "if (n%2 > 0):\n",
    "    x='odd'\n",
    "    print ('Weird')\n",
    "else:\n",
    "    x='even'\n",
    "    if (x == 'even'):\n",
    "        if (1 < n > 6):\n",
    "            print ('Not Weird')\n",
    "        else:\n",
    "            if (n > 20):\n",
    "                print ('Not Weird')\n",
    "            else:\n",
    "                print ('Weird')"
   ]
  },
  {
   "cell_type": "code",
   "execution_count": 56,
   "id": "b3bf8e36",
   "metadata": {},
   "outputs": [
    {
     "name": "stdout",
     "output_type": "stream",
     "text": [
      "4\n",
      "Weird\n"
     ]
    }
   ],
   "source": [
    "import math\n",
    "import os\n",
    "import random\n",
    "import re\n",
    "import sys\n",
    "\n",
    "\n",
    "\n",
    "if __name__ == '__main__':\n",
    "    n = int(input().strip())\n",
    "if (n%2 > 0):\n",
    "    x='odd'\n",
    "    print ('Weird')\n",
    "else:\n",
    "    x='even'\n",
    "    if (x == 'even'):\n",
    "        if (1 < n > 6):\n",
    "            print ('Not Weird')\n",
    "        else:\n",
    "            if (n > 20):\n",
    "                print ('Not Weird')\n",
    "            else:\n",
    "                print ('Weird')"
   ]
  },
  {
   "cell_type": "code",
   "execution_count": 60,
   "id": "b26bab27",
   "metadata": {},
   "outputs": [
    {
     "name": "stdout",
     "output_type": "stream",
     "text": [
      "4\n",
      "Weird\n"
     ]
    }
   ],
   "source": [
    "import math\n",
    "import os\n",
    "import random\n",
    "import re\n",
    "import sys\n",
    "\n",
    "\n",
    "\n",
    "if __name__ == '__main__':\n",
    "    n = int(input().strip())\n",
    "if (n%2 > 0):\n",
    "    x='odd'\n",
    "    print ('Weird')\n",
    "else:\n",
    "    x='even'\n",
    "    if (x == 'even'):\n",
    "        if (1 < n > 6):\n",
    "            print ('Not Weird')\n",
    "        else:\n",
    "            if (n > 20):\n",
    "                print ('Not Weird')\n",
    "            else:\n",
    "                print ('Weird')"
   ]
  },
  {
   "cell_type": "code",
   "execution_count": 61,
   "id": "d5c31915",
   "metadata": {},
   "outputs": [],
   "source": [
    "n=4"
   ]
  },
  {
   "cell_type": "code",
   "execution_count": 66,
   "id": "a41b8916",
   "metadata": {},
   "outputs": [
    {
     "name": "stdout",
     "output_type": "stream",
     "text": [
      "Weird\n"
     ]
    }
   ],
   "source": [
    "if ((n%2) > 0):\n",
    "    x='odd'\n",
    "    print ('Weird')\n",
    "else:\n",
    "    x='even'\n",
    "    if (x == 'even'):\n",
    "        if (1 < n > 6):\n",
    "            print ('Not Weird')\n",
    "        else:\n",
    "            if (n > 20):\n",
    "                print ('Not Weird')\n",
    "            else:\n",
    "                print ('Weird')"
   ]
  },
  {
   "cell_type": "code",
   "execution_count": 63,
   "id": "c48e7181",
   "metadata": {},
   "outputs": [
    {
     "data": {
      "text/plain": [
       "'even'"
      ]
     },
     "execution_count": 63,
     "metadata": {},
     "output_type": "execute_result"
    }
   ],
   "source": [
    "x"
   ]
  },
  {
   "cell_type": "code",
   "execution_count": 64,
   "id": "1c8463c3",
   "metadata": {},
   "outputs": [],
   "source": [
    "n=7"
   ]
  },
  {
   "cell_type": "code",
   "execution_count": 67,
   "id": "7299f00b",
   "metadata": {},
   "outputs": [
    {
     "data": {
      "text/plain": [
       "'odd'"
      ]
     },
     "execution_count": 67,
     "metadata": {},
     "output_type": "execute_result"
    }
   ],
   "source": [
    "x"
   ]
  },
  {
   "cell_type": "code",
   "execution_count": 68,
   "id": "90c8fa2f",
   "metadata": {},
   "outputs": [],
   "source": [
    "n=7"
   ]
  },
  {
   "cell_type": "code",
   "execution_count": 69,
   "id": "9101884d",
   "metadata": {},
   "outputs": [
    {
     "name": "stdout",
     "output_type": "stream",
     "text": [
      "Weird\n"
     ]
    }
   ],
   "source": [
    "if ((n%2) > 0):\n",
    "    x='odd'\n",
    "    print ('Weird')\n",
    "else:\n",
    "    x='even'\n",
    "    if (x == 'even'):\n",
    "        if (1 < n > 6):\n",
    "            print ('Not Weird')\n",
    "        else:\n",
    "            if (n > 20):\n",
    "                print ('Not Weird')\n",
    "            else:\n",
    "                print ('Weird')"
   ]
  },
  {
   "cell_type": "code",
   "execution_count": 70,
   "id": "9a6f71be",
   "metadata": {},
   "outputs": [],
   "source": [
    "n=2"
   ]
  },
  {
   "cell_type": "code",
   "execution_count": 71,
   "id": "87d74b54",
   "metadata": {},
   "outputs": [
    {
     "name": "stdout",
     "output_type": "stream",
     "text": [
      "Weird\n"
     ]
    }
   ],
   "source": [
    "if ((n%2) > 0):\n",
    "    x='odd'\n",
    "else:\n",
    "    x='even'\n",
    "\n",
    "if (x == 'odd'):\n",
    "    result = 'Weird'\n",
    "\n",
    "else:\n",
    "    if (1 < n > 6):\n",
    "            print ('Not Weird')\n",
    "        else:\n",
    "            if (n > 20):\n",
    "                print ('Not Weird')\n",
    "            else:\n",
    "                print ('Weird')"
   ]
  },
  {
   "cell_type": "code",
   "execution_count": 72,
   "id": "7c3a9e87",
   "metadata": {},
   "outputs": [],
   "source": [
    "if ((n%2) > 0):\n",
    "    x='odd'\n",
    "else:\n",
    "    x='even'"
   ]
  },
  {
   "cell_type": "code",
   "execution_count": 73,
   "id": "2af0a0f2",
   "metadata": {},
   "outputs": [],
   "source": [
    "n=56"
   ]
  },
  {
   "cell_type": "code",
   "execution_count": 74,
   "id": "45e0bd10",
   "metadata": {},
   "outputs": [],
   "source": [
    "if ((n%2) > 0):\n",
    "    x='odd'\n",
    "else:\n",
    "    x='even'"
   ]
  },
  {
   "cell_type": "code",
   "execution_count": 75,
   "id": "a6159bb9",
   "metadata": {},
   "outputs": [
    {
     "data": {
      "text/plain": [
       "'even'"
      ]
     },
     "execution_count": 75,
     "metadata": {},
     "output_type": "execute_result"
    }
   ],
   "source": [
    "x"
   ]
  },
  {
   "cell_type": "code",
   "execution_count": 76,
   "id": "31e0ede5",
   "metadata": {},
   "outputs": [],
   "source": [
    "n=57"
   ]
  },
  {
   "cell_type": "code",
   "execution_count": 77,
   "id": "f1c2e116",
   "metadata": {},
   "outputs": [],
   "source": [
    "if ((n%2) > 0):\n",
    "    x='odd'\n",
    "else:\n",
    "    x='even'"
   ]
  },
  {
   "cell_type": "code",
   "execution_count": 78,
   "id": "a8947b9a",
   "metadata": {},
   "outputs": [
    {
     "data": {
      "text/plain": [
       "'odd'"
      ]
     },
     "execution_count": 78,
     "metadata": {},
     "output_type": "execute_result"
    }
   ],
   "source": [
    "x"
   ]
  },
  {
   "cell_type": "code",
   "execution_count": 80,
   "id": "20e1876f",
   "metadata": {},
   "outputs": [
    {
     "name": "stdout",
     "output_type": "stream",
     "text": [
      "Weird\n"
     ]
    }
   ],
   "source": [
    "if ((n%2) > 0):\n",
    "    x='odd'\n",
    "else:\n",
    "    x='even'\n",
    "\n",
    "if (x == 'odd'):\n",
    "    result = 'Weird'\n",
    "\n",
    "else:\n",
    "    if (1 < n > 6):\n",
    "            result ='Not Weird'\n",
    "    else:\n",
    "        if (n > 20):\n",
    "            result = 'Not Weird'\n",
    "        else:\n",
    "            result = 'Weird'\n",
    "print (result)"
   ]
  },
  {
   "cell_type": "code",
   "execution_count": 86,
   "id": "6a6edb6f",
   "metadata": {},
   "outputs": [],
   "source": [
    "n=2"
   ]
  },
  {
   "cell_type": "code",
   "execution_count": 87,
   "id": "b46601dd",
   "metadata": {},
   "outputs": [
    {
     "name": "stdout",
     "output_type": "stream",
     "text": [
      "Weird\n"
     ]
    }
   ],
   "source": [
    "if ((n%2) > 0):\n",
    "    x='odd'\n",
    "else:\n",
    "    x='even'\n",
    "\n",
    "    if (x == 'odd'):\n",
    "        result = 'Weird'\n",
    "\n",
    "    else:\n",
    "        if (1 < n > 6):\n",
    "                result ='Not Weird'\n",
    "        else:\n",
    "            if (n > 20):\n",
    "                result = 'Not Weird'\n",
    "            else:\n",
    "                result = 'Weird'\n",
    "print (result)"
   ]
  },
  {
   "cell_type": "code",
   "execution_count": 88,
   "id": "43ebc946",
   "metadata": {},
   "outputs": [
    {
     "data": {
      "text/plain": [
       "'even'"
      ]
     },
     "execution_count": 88,
     "metadata": {},
     "output_type": "execute_result"
    }
   ],
   "source": [
    "x"
   ]
  },
  {
   "cell_type": "code",
   "execution_count": 89,
   "id": "61bc8a00",
   "metadata": {},
   "outputs": [
    {
     "data": {
      "text/plain": [
       "0"
      ]
     },
     "execution_count": 89,
     "metadata": {},
     "output_type": "execute_result"
    }
   ],
   "source": [
    "n%2"
   ]
  },
  {
   "cell_type": "code",
   "execution_count": 94,
   "id": "beef5122",
   "metadata": {},
   "outputs": [],
   "source": [
    "n=4"
   ]
  },
  {
   "cell_type": "code",
   "execution_count": 91,
   "id": "14057219",
   "metadata": {},
   "outputs": [
    {
     "data": {
      "text/plain": [
       "'even'"
      ]
     },
     "execution_count": 91,
     "metadata": {},
     "output_type": "execute_result"
    }
   ],
   "source": [
    "x"
   ]
  },
  {
   "cell_type": "code",
   "execution_count": 95,
   "id": "fb5da0e6",
   "metadata": {},
   "outputs": [
    {
     "name": "stdout",
     "output_type": "stream",
     "text": [
      "Weird\n"
     ]
    }
   ],
   "source": [
    "if ((n%2) > 0):\n",
    "    x='odd'\n",
    "else:\n",
    "    x='even'\n",
    "\n",
    "    if (x == 'odd'):\n",
    "        result = 'Weird'\n",
    "\n",
    "    else:\n",
    "        if (1 < n > 6):\n",
    "                result ='Not Weird'\n",
    "        else:\n",
    "            if (n > 20):\n",
    "                result = 'Not Weird'\n",
    "            else:\n",
    "                result = 'Weird'\n",
    "print (result)"
   ]
  },
  {
   "cell_type": "code",
   "execution_count": 96,
   "id": "02e93cb8",
   "metadata": {},
   "outputs": [
    {
     "data": {
      "text/plain": [
       "'even'"
      ]
     },
     "execution_count": 96,
     "metadata": {},
     "output_type": "execute_result"
    }
   ],
   "source": [
    "x"
   ]
  },
  {
   "cell_type": "code",
   "execution_count": 100,
   "id": "48f75b57",
   "metadata": {},
   "outputs": [
    {
     "name": "stdout",
     "output_type": "stream",
     "text": [
      "Not Weird - 2 a 6\n"
     ]
    }
   ],
   "source": [
    "if ((n%2) > 0):\n",
    "    print ('Weird - Impar')\n",
    "else:\n",
    "    if((n%2) == 0):\n",
    "        if (n < 6):\n",
    "            print ('Not Weird - 2 a 6')\n",
    "        else:\n",
    "            if (n > 20):\n",
    "                print ('Not Weird > 20')\n",
    "            else:\n",
    "                print ('Weird - 6 a 20')"
   ]
  },
  {
   "cell_type": "code",
   "execution_count": 101,
   "id": "fab03b3d",
   "metadata": {},
   "outputs": [],
   "source": [
    "n=1"
   ]
  },
  {
   "cell_type": "code",
   "execution_count": 102,
   "id": "fcb01789",
   "metadata": {},
   "outputs": [
    {
     "name": "stdout",
     "output_type": "stream",
     "text": [
      "Weird - Impar\n"
     ]
    }
   ],
   "source": [
    "if ((n%2) > 0):\n",
    "    print ('Weird - Impar')\n",
    "else:\n",
    "    if((n%2) == 0):\n",
    "        if (n < 6):\n",
    "            print ('Not Weird - 2 a 6')\n",
    "        else:\n",
    "            if (n > 20):\n",
    "                print ('Not Weird > 20')\n",
    "            else:\n",
    "                print ('Weird - 6 a 20')"
   ]
  },
  {
   "cell_type": "code",
   "execution_count": 103,
   "id": "46d3b00d",
   "metadata": {},
   "outputs": [],
   "source": [
    "n=2"
   ]
  },
  {
   "cell_type": "code",
   "execution_count": 104,
   "id": "c22d6054",
   "metadata": {},
   "outputs": [
    {
     "name": "stdout",
     "output_type": "stream",
     "text": [
      "Not Weird - 2 a 6\n"
     ]
    }
   ],
   "source": [
    "if ((n%2) > 0):\n",
    "    print ('Weird - Impar')\n",
    "else:\n",
    "    if((n%2) == 0):\n",
    "        if (n < 6):\n",
    "            print ('Not Weird - 2 a 6')\n",
    "        else:\n",
    "            if (n > 20):\n",
    "                print ('Not Weird > 20')\n",
    "            else:\n",
    "                print ('Weird - 6 a 20')"
   ]
  },
  {
   "cell_type": "code",
   "execution_count": 105,
   "id": "9431ac48",
   "metadata": {},
   "outputs": [],
   "source": [
    "n=3"
   ]
  },
  {
   "cell_type": "code",
   "execution_count": 106,
   "id": "55cdb28c",
   "metadata": {},
   "outputs": [
    {
     "name": "stdout",
     "output_type": "stream",
     "text": [
      "Weird - Impar\n"
     ]
    }
   ],
   "source": [
    "if ((n%2) > 0):\n",
    "    print ('Weird - Impar')\n",
    "else:\n",
    "    if((n%2) == 0):\n",
    "        if (n < 6):\n",
    "            print ('Not Weird - 2 a 6')\n",
    "        else:\n",
    "            if (n > 20):\n",
    "                print ('Not Weird > 20')\n",
    "            else:\n",
    "                print ('Weird - 6 a 20')"
   ]
  },
  {
   "cell_type": "code",
   "execution_count": 107,
   "id": "8b542a94",
   "metadata": {},
   "outputs": [],
   "source": [
    "n=6"
   ]
  },
  {
   "cell_type": "code",
   "execution_count": 108,
   "id": "3c3c4e0d",
   "metadata": {},
   "outputs": [
    {
     "name": "stdout",
     "output_type": "stream",
     "text": [
      "Weird - 6 a 20\n"
     ]
    }
   ],
   "source": [
    "if ((n%2) > 0):\n",
    "    print ('Weird - Impar')\n",
    "else:\n",
    "    if((n%2) == 0):\n",
    "        if (n < 6):\n",
    "            print ('Not Weird - 2 a 6')\n",
    "        else:\n",
    "            if (n > 20):\n",
    "                print ('Not Weird > 20')\n",
    "            else:\n",
    "                print ('Weird - 6 a 20')"
   ]
  },
  {
   "cell_type": "code",
   "execution_count": 109,
   "id": "060edf11",
   "metadata": {},
   "outputs": [],
   "source": [
    "n=7"
   ]
  },
  {
   "cell_type": "code",
   "execution_count": 110,
   "id": "58f3583b",
   "metadata": {},
   "outputs": [
    {
     "name": "stdout",
     "output_type": "stream",
     "text": [
      "Weird - Impar\n"
     ]
    }
   ],
   "source": [
    "if ((n%2) > 0):\n",
    "    print ('Weird - Impar')\n",
    "else:\n",
    "    if((n%2) == 0):\n",
    "        if (n < 6):\n",
    "            print ('Not Weird - 2 a 6')\n",
    "        else:\n",
    "            if (n > 20):\n",
    "                print ('Not Weird > 20')\n",
    "            else:\n",
    "                print ('Weird - 6 a 20')"
   ]
  },
  {
   "cell_type": "code",
   "execution_count": 111,
   "id": "5aee36a8",
   "metadata": {},
   "outputs": [],
   "source": [
    "n=12"
   ]
  },
  {
   "cell_type": "code",
   "execution_count": 112,
   "id": "ab147fca",
   "metadata": {},
   "outputs": [
    {
     "name": "stdout",
     "output_type": "stream",
     "text": [
      "Weird - 6 a 20\n"
     ]
    }
   ],
   "source": [
    "if ((n%2) > 0):\n",
    "    print ('Weird - Impar')\n",
    "else:\n",
    "    if((n%2) == 0):\n",
    "        if (n < 6):\n",
    "            print ('Not Weird - 2 a 6')\n",
    "        else:\n",
    "            if (n > 20):\n",
    "                print ('Not Weird > 20')\n",
    "            else:\n",
    "                print ('Weird - 6 a 20')"
   ]
  },
  {
   "cell_type": "code",
   "execution_count": 113,
   "id": "868cf562",
   "metadata": {},
   "outputs": [],
   "source": [
    "n=13"
   ]
  },
  {
   "cell_type": "code",
   "execution_count": 114,
   "id": "b4ffdf57",
   "metadata": {},
   "outputs": [
    {
     "name": "stdout",
     "output_type": "stream",
     "text": [
      "Weird - Impar\n"
     ]
    }
   ],
   "source": [
    "if ((n%2) > 0):\n",
    "    print ('Weird - Impar')\n",
    "else:\n",
    "    if((n%2) == 0):\n",
    "        if (n < 6):\n",
    "            print ('Not Weird - 2 a 6')\n",
    "        else:\n",
    "            if (n > 20):\n",
    "                print ('Not Weird > 20')\n",
    "            else:\n",
    "                print ('Weird - 6 a 20')"
   ]
  },
  {
   "cell_type": "code",
   "execution_count": 115,
   "id": "555d09b1",
   "metadata": {},
   "outputs": [],
   "source": [
    "n=20"
   ]
  },
  {
   "cell_type": "code",
   "execution_count": 116,
   "id": "f759e417",
   "metadata": {},
   "outputs": [
    {
     "name": "stdout",
     "output_type": "stream",
     "text": [
      "Weird - 6 a 20\n"
     ]
    }
   ],
   "source": [
    "if ((n%2) > 0):\n",
    "    print ('Weird - Impar')\n",
    "else:\n",
    "    if((n%2) == 0):\n",
    "        if (n < 6):\n",
    "            print ('Not Weird - 2 a 6')\n",
    "        else:\n",
    "            if (n > 20):\n",
    "                print ('Not Weird > 20')\n",
    "            else:\n",
    "                print ('Weird - 6 a 20')"
   ]
  },
  {
   "cell_type": "code",
   "execution_count": 117,
   "id": "7e3e6ad5",
   "metadata": {},
   "outputs": [],
   "source": [
    "n=21"
   ]
  },
  {
   "cell_type": "code",
   "execution_count": 118,
   "id": "c3be6a4f",
   "metadata": {},
   "outputs": [
    {
     "name": "stdout",
     "output_type": "stream",
     "text": [
      "Weird - Impar\n"
     ]
    }
   ],
   "source": [
    "if ((n%2) > 0):\n",
    "    print ('Weird - Impar')\n",
    "else:\n",
    "    if((n%2) == 0):\n",
    "        if (n < 6):\n",
    "            print ('Not Weird - 2 a 6')\n",
    "        else:\n",
    "            if (n > 20):\n",
    "                print ('Not Weird > 20')\n",
    "            else:\n",
    "                print ('Weird - 6 a 20')"
   ]
  },
  {
   "cell_type": "code",
   "execution_count": 119,
   "id": "5893f97b",
   "metadata": {},
   "outputs": [],
   "source": [
    "n=22"
   ]
  },
  {
   "cell_type": "code",
   "execution_count": 120,
   "id": "7128055e",
   "metadata": {},
   "outputs": [
    {
     "name": "stdout",
     "output_type": "stream",
     "text": [
      "Not Weird > 20\n"
     ]
    }
   ],
   "source": [
    "if ((n%2) > 0):\n",
    "    print ('Weird - Impar')\n",
    "else:\n",
    "    if((n%2) == 0):\n",
    "        if (n < 6):\n",
    "            print ('Not Weird - 2 a 6')\n",
    "        else:\n",
    "            if (n > 20):\n",
    "                print ('Not Weird > 20')\n",
    "            else:\n",
    "                print ('Weird - 6 a 20')"
   ]
  },
  {
   "cell_type": "code",
   "execution_count": 121,
   "id": "da01ade5",
   "metadata": {},
   "outputs": [
    {
     "name": "stdout",
     "output_type": "stream",
     "text": [
      "Not Weird\n"
     ]
    }
   ],
   "source": [
    "if ((n%2) > 0):\n",
    "    print ('Weird')\n",
    "else:\n",
    "    if((n%2) == 0):\n",
    "        if (n < 6):\n",
    "            print ('Not Weird')\n",
    "        else:\n",
    "            if (n > 20):\n",
    "                print ('Not Weird')\n",
    "            else:\n",
    "                print ('Weird')"
   ]
  },
  {
   "cell_type": "code",
   "execution_count": 123,
   "id": "67b1a875",
   "metadata": {},
   "outputs": [
    {
     "ename": "SyntaxError",
     "evalue": "unexpected character after line continuation character (Temp/ipykernel_10344/4238831004.py, line 3)",
     "output_type": "error",
     "traceback": [
      "\u001b[1;36m  File \u001b[1;32m\"C:\\Users\\Gin\\AppData\\Local\\Temp/ipykernel_10344/4238831004.py\"\u001b[1;36m, line \u001b[1;32m3\u001b[0m\n\u001b[1;33m    print ((a+b)\\n(a-b)\\n(a*b))\u001b[0m\n\u001b[1;37m                              ^\u001b[0m\n\u001b[1;31mSyntaxError\u001b[0m\u001b[1;31m:\u001b[0m unexpected character after line continuation character\n"
     ]
    }
   ],
   "source": [
    "a = 13\n",
    "b= 4\n",
    "print ((a+b)\\n(a-b)\\n(a*b))"
   ]
  },
  {
   "cell_type": "code",
   "execution_count": 125,
   "id": "4102e12e",
   "metadata": {},
   "outputs": [
    {
     "name": "stdout",
     "output_type": "stream",
     "text": [
      "17\n",
      "9\n",
      "52\n"
     ]
    }
   ],
   "source": [
    "a = 13\n",
    "b= 4\n",
    "print(a+b)\n",
    "print(a-b)\n",
    "print(a*b)"
   ]
  },
  {
   "cell_type": "code",
   "execution_count": 126,
   "id": "18b71ebb",
   "metadata": {},
   "outputs": [
    {
     "name": "stdout",
     "output_type": "stream",
     "text": [
      "3\n",
      "3.25\n"
     ]
    }
   ],
   "source": [
    "print(a//b)\n",
    "print (a/b)"
   ]
  },
  {
   "cell_type": "code",
   "execution_count": 2,
   "id": "67bae9b7",
   "metadata": {},
   "outputs": [
    {
     "data": {
      "text/plain": [
       "100.25"
      ]
     },
     "execution_count": 2,
     "metadata": {},
     "output_type": "execute_result"
    }
   ],
   "source": [
    " ((600/3) - ((5**2)*4))+ 0.25"
   ]
  },
  {
   "cell_type": "code",
   "execution_count": 3,
   "id": "6cdda65c",
   "metadata": {},
   "outputs": [
    {
     "data": {
      "text/plain": [
       "29"
      ]
     },
     "execution_count": 3,
     "metadata": {},
     "output_type": "execute_result"
    }
   ],
   "source": [
    "4 * 6 + 5"
   ]
  },
  {
   "cell_type": "code",
   "execution_count": 4,
   "id": "2e1b3143",
   "metadata": {},
   "outputs": [
    {
     "data": {
      "text/plain": [
       "34"
      ]
     },
     "execution_count": 4,
     "metadata": {},
     "output_type": "execute_result"
    }
   ],
   "source": [
    "4 + 6 * 5"
   ]
  },
  {
   "cell_type": "code",
   "execution_count": 6,
   "id": "31d8df2c",
   "metadata": {},
   "outputs": [
    {
     "name": "stdout",
     "output_type": "stream",
     "text": [
      "44\n",
      "29\n",
      "34\n"
     ]
    }
   ],
   "source": [
    "print (4 * (6 + 5))\n",
    "print (4 * 6 + 5)\n",
    "print (4 + 6 * 5)"
   ]
  },
  {
   "cell_type": "code",
   "execution_count": 7,
   "id": "499bf377",
   "metadata": {},
   "outputs": [
    {
     "data": {
      "text/plain": [
       "8.5"
      ]
     },
     "execution_count": 7,
     "metadata": {},
     "output_type": "execute_result"
    }
   ],
   "source": [
    "3 + 1.5 + 4"
   ]
  },
  {
   "cell_type": "code",
   "execution_count": 8,
   "id": "ec128417",
   "metadata": {},
   "outputs": [
    {
     "data": {
      "text/plain": [
       "float"
      ]
     },
     "execution_count": 8,
     "metadata": {},
     "output_type": "execute_result"
    }
   ],
   "source": [
    "type(8.5)"
   ]
  },
  {
   "cell_type": "code",
   "execution_count": 14,
   "id": "0679ba22",
   "metadata": {},
   "outputs": [
    {
     "name": "stdout",
     "output_type": "stream",
     "text": [
      "e\n"
     ]
    }
   ],
   "source": [
    "s = 'hello'\n",
    "# Print out 'e' using indexing\n",
    "print (s[1])"
   ]
  },
  {
   "cell_type": "code",
   "execution_count": 18,
   "id": "b09a281c",
   "metadata": {},
   "outputs": [
    {
     "data": {
      "text/plain": [
       "'olleh'"
      ]
     },
     "execution_count": 18,
     "metadata": {},
     "output_type": "execute_result"
    }
   ],
   "source": [
    "s='hello'\n",
    "s[::-1]"
   ]
  },
  {
   "cell_type": "code",
   "execution_count": 20,
   "id": "0cb90bc8",
   "metadata": {},
   "outputs": [
    {
     "name": "stdout",
     "output_type": "stream",
     "text": [
      "o\n",
      "o\n"
     ]
    }
   ],
   "source": [
    "s ='hello'\n",
    "# Print out the 'o'\n",
    "print(s[4])\n",
    "# Method 1:\n",
    "print(s[-1])"
   ]
  },
  {
   "cell_type": "code",
   "execution_count": 22,
   "id": "6c54b04b",
   "metadata": {},
   "outputs": [],
   "source": [
    "newlist=[0,0,0]"
   ]
  },
  {
   "cell_type": "code",
   "execution_count": 23,
   "id": "5cf00731",
   "metadata": {},
   "outputs": [
    {
     "data": {
      "text/plain": [
       "[0, 0, 0]"
      ]
     },
     "execution_count": 23,
     "metadata": {},
     "output_type": "execute_result"
    }
   ],
   "source": [
    "newlist"
   ]
  },
  {
   "cell_type": "code",
   "execution_count": 27,
   "id": "43f14f2f",
   "metadata": {},
   "outputs": [],
   "source": [
    "list2 = [0]\n",
    "list2 = list2*3"
   ]
  },
  {
   "cell_type": "code",
   "execution_count": 25,
   "id": "ea3445ee",
   "metadata": {},
   "outputs": [],
   "source": []
  },
  {
   "cell_type": "code",
   "execution_count": 26,
   "id": "65a9d886",
   "metadata": {},
   "outputs": [
    {
     "data": {
      "text/plain": [
       "[0, 0, 0]"
      ]
     },
     "execution_count": 26,
     "metadata": {},
     "output_type": "execute_result"
    }
   ],
   "source": [
    "list2"
   ]
  },
  {
   "cell_type": "code",
   "execution_count": 29,
   "id": "80ef4bb8",
   "metadata": {},
   "outputs": [],
   "source": [
    "list3 = [1,2,[3,4,'hello']]\n",
    "list3[2][2]='goodbye'"
   ]
  },
  {
   "cell_type": "code",
   "execution_count": 30,
   "id": "fbbb3855",
   "metadata": {},
   "outputs": [
    {
     "data": {
      "text/plain": [
       "[1, 2, [3, 4, 'goodbye']]"
      ]
     },
     "execution_count": 30,
     "metadata": {},
     "output_type": "execute_result"
    }
   ],
   "source": [
    "list3"
   ]
  },
  {
   "cell_type": "code",
   "execution_count": 31,
   "id": "8cf53ff5",
   "metadata": {},
   "outputs": [
    {
     "name": "stdout",
     "output_type": "stream",
     "text": [
      "[5, 3, 4, 6, 1]\n"
     ]
    }
   ],
   "source": [
    "list4 = [5,3,4,6,1]\n",
    "list4.reverse\n",
    "print(list4)"
   ]
  },
  {
   "cell_type": "code",
   "execution_count": 32,
   "id": "cd737da3",
   "metadata": {},
   "outputs": [
    {
     "data": {
      "text/plain": [
       "'hello'"
      ]
     },
     "execution_count": 32,
     "metadata": {},
     "output_type": "execute_result"
    }
   ],
   "source": [
    "d = {'simple_key':'hello'}\n",
    "# Grab 'hello'\n",
    "d['simple_key']"
   ]
  },
  {
   "cell_type": "code",
   "execution_count": 34,
   "id": "5db5d084",
   "metadata": {},
   "outputs": [
    {
     "data": {
      "text/plain": [
       "'hello'"
      ]
     },
     "execution_count": 34,
     "metadata": {},
     "output_type": "execute_result"
    }
   ],
   "source": [
    "d = {'k1':{'k2':'hello'}}\n",
    "# Grab 'hello'\n",
    "d['k1']['k2']"
   ]
  },
  {
   "cell_type": "code",
   "execution_count": 35,
   "id": "130669cb",
   "metadata": {},
   "outputs": [
    {
     "data": {
      "text/plain": [
       "'hello'"
      ]
     },
     "execution_count": 35,
     "metadata": {},
     "output_type": "execute_result"
    }
   ],
   "source": [
    "# Getting a little tricker\n",
    "d = {'k1':[{'nest_key':['this is deep',['hello']]}]}\n",
    "\n",
    "#Grab hello\n",
    "d['k1'][0]['nest_key'][1][0]"
   ]
  },
  {
   "cell_type": "code",
   "execution_count": 37,
   "id": "e9e10069",
   "metadata": {},
   "outputs": [
    {
     "data": {
      "text/plain": [
       "'hello'"
      ]
     },
     "execution_count": 37,
     "metadata": {},
     "output_type": "execute_result"
    }
   ],
   "source": [
    "# This will be hard and annoying!\n",
    "d = {'k1':[1,2,{'k2':['this is tricky',{'tough':[1,2,['hello']]}]}]}\n",
    "d['k1'][2]['k2'][1]['tough'][2][0]"
   ]
  },
  {
   "cell_type": "code",
   "execution_count": 38,
   "id": "1fe2c62d",
   "metadata": {},
   "outputs": [],
   "source": [
    "list5 = [1,2,2,33,4,4,11,22,3,3,2]\n",
    "myset = set(list5)"
   ]
  },
  {
   "cell_type": "code",
   "execution_count": 39,
   "id": "d76873a4",
   "metadata": {},
   "outputs": [
    {
     "data": {
      "text/plain": [
       "{1, 2, 3, 4, 11, 22, 33}"
      ]
     },
     "execution_count": 39,
     "metadata": {},
     "output_type": "execute_result"
    }
   ],
   "source": [
    "myset"
   ]
  },
  {
   "cell_type": "code",
   "execution_count": 48,
   "id": "8ffc6588",
   "metadata": {},
   "outputs": [],
   "source": [
    "z=3\n",
    "checklist =[(z == 2), (z < 4)]\n"
   ]
  },
  {
   "cell_type": "code",
   "execution_count": 49,
   "id": "c919cc18",
   "metadata": {},
   "outputs": [
    {
     "data": {
      "text/plain": [
       "[False, True]"
      ]
     },
     "execution_count": 49,
     "metadata": {},
     "output_type": "execute_result"
    }
   ],
   "source": [
    "checklist"
   ]
  },
  {
   "cell_type": "code",
   "execution_count": 56,
   "id": "c0d8c2aa",
   "metadata": {},
   "outputs": [],
   "source": [
    "n=6"
   ]
  },
  {
   "cell_type": "code",
   "execution_count": 52,
   "id": "c7c74953",
   "metadata": {},
   "outputs": [
    {
     "name": "stdout",
     "output_type": "stream",
     "text": [
      "Weird\n"
     ]
    }
   ],
   "source": [
    "if ((n%2) > 0):\n",
    "    print ('Weird')\n",
    "else:\n",
    "    if((n%2) == 0):\n",
    "        if (n < 6):\n",
    "            print ('Not Weird')\n",
    "        else:\n",
    "            if (n > 20):\n",
    "                print ('Not Weird')\n",
    "            else:\n",
    "                print ('Weird')"
   ]
  },
  {
   "cell_type": "code",
   "execution_count": 68,
   "id": "c0429cd7",
   "metadata": {},
   "outputs": [],
   "source": [
    "check1 = ((n%2) > 0) # si da T entonces es Weird\n",
    "check2 = (n < 6) # si da T y check 1 falso entonces es Not W\n",
    "check3 = (n > 20) # si da T y check 1 falso entonces es Not W\n",
    "check4 = ((check1 == False) == (check2 == check3)) # si da T entonces es Not W por ser par entre 6 y 20\n",
    "check5 = (check1 == check4)"
   ]
  },
  {
   "cell_type": "code",
   "execution_count": 69,
   "id": "c81a24f0",
   "metadata": {},
   "outputs": [
    {
     "name": "stdout",
     "output_type": "stream",
     "text": [
      "Weird\n"
     ]
    }
   ],
   "source": [
    "if (check5==False):\n",
    "    print('Weird')\n",
    "else:\n",
    "    print('Not Weird')"
   ]
  },
  {
   "cell_type": "code",
   "execution_count": 70,
   "id": "a2c41150",
   "metadata": {},
   "outputs": [
    {
     "name": "stdout",
     "output_type": "stream",
     "text": [
      "Weird\n"
     ]
    }
   ],
   "source": [
    "check1 = ((n%2) > 0) # si da T entonces es Weird\n",
    "check2 = (n < 6) # si da T y check 1 falso entonces es Not W\n",
    "check3 = (n > 20) # si da T y check 1 falso entonces es Not W\n",
    "check4 = ((check1 == False) == (check2 == check3)) # si da T entonces es Not W por ser par entre 6 y 20\n",
    "check5 = (check1 == check4)\n",
    "if (check5==False):\n",
    "    print('Weird')\n",
    "else:\n",
    "    print('Not Weird')"
   ]
  },
  {
   "cell_type": "code",
   "execution_count": 71,
   "id": "197ddab7",
   "metadata": {},
   "outputs": [],
   "source": [
    "n=1"
   ]
  },
  {
   "cell_type": "code",
   "execution_count": 77,
   "id": "30eeb1c5",
   "metadata": {},
   "outputs": [
    {
     "name": "stdout",
     "output_type": "stream",
     "text": [
      "Weird\n"
     ]
    }
   ],
   "source": [
    "check1 = ((n%2) > 0) # si da T entonces es Weird\n",
    "check2 = (n < 6) # si da T y check 1 falso entonces es Not W\n",
    "check3 = (n > 20) # si da T y check 1 falso entonces es Not W\n",
    "check4 = ((check1 == False) == (check2 != check3)) # si da T entonces es Not W por ser par entre 6 y 20\n",
    "check5 = (check1 == check4)\n",
    "if (check5==False):\n",
    "    print('Weird')\n",
    "else:\n",
    "    print('Not Weird')"
   ]
  },
  {
   "cell_type": "code",
   "execution_count": 90,
   "id": "ac34f36e",
   "metadata": {},
   "outputs": [],
   "source": [
    "n=1"
   ]
  },
  {
   "cell_type": "code",
   "execution_count": 91,
   "id": "57106138",
   "metadata": {},
   "outputs": [
    {
     "name": "stdout",
     "output_type": "stream",
     "text": [
      "Not Weird\n",
      ".\n",
      "True\n",
      "True\n",
      "False\n",
      "True\n",
      "True\n"
     ]
    }
   ],
   "source": [
    "check1 = ((n%2) > 0) # si da T entonces es Weird\n",
    "check2 = (n < 6) # si da T y check 1 falso entonces es Not W\n",
    "check3 = (n > 20) # si da T y check 1 falso entonces es Not W\n",
    "check4 = ((check1 == False) == (check2 == check3)) # si da T entonces es Not W por ser par entre 6 y 20\n",
    "check5 = (check1 == check4)\n",
    "check1\n",
    "check2\n",
    "check3\n",
    "check4\n",
    "check5\n",
    "if (check5==False):\n",
    "    print('Weird')\n",
    "else:\n",
    "    print('Not Weird')\n",
    "print ('.')\n",
    "print (check1)\n",
    "print (check2)\n",
    "print (check3)\n",
    "print (check4)\n",
    "print (check5)"
   ]
  },
  {
   "cell_type": "code",
   "execution_count": 93,
   "id": "a761b3ba",
   "metadata": {},
   "outputs": [
    {
     "name": "stdout",
     "output_type": "stream",
     "text": [
      "Weird\n",
      ".\n",
      "True\n",
      "True\n",
      "False\n",
      "False\n",
      "False\n",
      "False\n"
     ]
    }
   ],
   "source": [
    "check1 = ((n%2) > 0) # si da T entonces es Weird\n",
    "check2 = (n < 6) # si da T y check 1 falso entonces es Not W\n",
    "check3 = (n > 20) # si da T y check 1 falso entonces es Not W\n",
    "check4 = (check2 == check3) # si da T entonces es W por ser entre 6 y 20\n",
    "check5 = (check1 == False)\n",
    "check6 = (check1 == check4) \n",
    "# Si c1 y c4 TT es impar entre 6 y 20 (W) da T,  \n",
    "# Si c1 y c4 FF es par <6 o >20 (NW) da T,  \n",
    "# Si c1 y c4 FT es par entre 6 y 20 (W) da F, \n",
    "# Si c1 y c4 TF es impar <6 o >20 (NW) da F\n",
    "\n",
    "if (check5==False):\n",
    "    print('Weird')\n",
    "else:\n",
    "    print('Not Weird')\n",
    "print ('.')\n",
    "print (check1)\n",
    "print (check2)\n",
    "print (check3)\n",
    "print (check4)\n",
    "print (check5)\n",
    "print (check6)"
   ]
  },
  {
   "cell_type": "markdown",
   "id": "28d848cd",
   "metadata": {},
   "source": []
  },
  {
   "cell_type": "code",
   "execution_count": 96,
   "id": "4f6a0faf",
   "metadata": {},
   "outputs": [],
   "source": [
    "cz = ( 5 <n> 20)"
   ]
  },
  {
   "cell_type": "code",
   "execution_count": 97,
   "id": "42fb458d",
   "metadata": {},
   "outputs": [
    {
     "data": {
      "text/plain": [
       "False"
      ]
     },
     "execution_count": 97,
     "metadata": {},
     "output_type": "execute_result"
    }
   ],
   "source": [
    "cz"
   ]
  },
  {
   "cell_type": "code",
   "execution_count": 102,
   "id": "96b55126",
   "metadata": {},
   "outputs": [],
   "source": [
    "c1 = ((n%2) > 0) # si da T es W e IMPAR\n",
    "c2 = (6 < n > 20) # si da T es W\n",
    "c3 = ((n%2) == 0) # si da T es PAR\n",
    "c4 = ((c1 == c2) == (c2 != c3))# TTF es impart 6a20 W, FTT es par 6a20 W, FFT es par NW, TFF impar NOT 6a20\n",
    "\n",
    "# n1W -> c1T c2F c3F c4T (F - F)\n",
    "# n2NW -> c1F c2F c3T c4T (T - T)\n",
    "# n11W -> c1T c2T c3F c4F (T - F)\n",
    "# n12W -> c1F c2T c3T c4T (F - F)\n"
   ]
  },
  {
   "cell_type": "code",
   "execution_count": 103,
   "id": "b6df0b0a",
   "metadata": {},
   "outputs": [
    {
     "data": {
      "text/plain": [
       "True"
      ]
     },
     "execution_count": 103,
     "metadata": {},
     "output_type": "execute_result"
    }
   ],
   "source": [
    "c4"
   ]
  },
  {
   "cell_type": "code",
   "execution_count": 136,
   "id": "6d72a4d6",
   "metadata": {},
   "outputs": [
    {
     "name": "stdout",
     "output_type": "stream",
     "text": [
      "False\n",
      "True\n",
      "False\n",
      "True\n",
      "False\n",
      "Weird\n"
     ]
    }
   ],
   "source": [
    "n=1\n",
    "c1 = ((n%2) == 0) # c1 para que de True si es par\n",
    "c2 = (n < 6)\n",
    "c3 = (n > 20) \n",
    "c4 = ((c2 == c3)== False) #C4 para que de True si N menor a 6 o mayor a 20\n",
    "c5 = (c1 == c4 == True)\n",
    "print (c1)\n",
    "print (c2)\n",
    "print (c3)\n",
    "print (c4)\n",
    "print (c5)\n",
    "if (c5==False):\n",
    "    print('Weird')\n",
    "else:\n",
    "    print('Not Weird')"
   ]
  },
  {
   "cell_type": "code",
   "execution_count": 115,
   "id": "1d55fd7e",
   "metadata": {},
   "outputs": [
    {
     "data": {
      "text/plain": [
       "False"
      ]
     },
     "execution_count": 115,
     "metadata": {},
     "output_type": "execute_result"
    }
   ],
   "source": []
  },
  {
   "cell_type": "code",
   "execution_count": 1,
   "id": "249276eb",
   "metadata": {},
   "outputs": [
    {
     "ename": "AttributeError",
     "evalue": "'int' object has no attribute 'read'",
     "output_type": "error",
     "traceback": [
      "\u001b[1;31m---------------------------------------------------------------------------\u001b[0m",
      "\u001b[1;31mAttributeError\u001b[0m                            Traceback (most recent call last)",
      "\u001b[1;32m~\\AppData\\Local\\Temp/ipykernel_11168/41031463.py\u001b[0m in \u001b[0;36m<module>\u001b[1;34m\u001b[0m\n\u001b[0;32m      1\u001b[0m \u001b[1;32mfor\u001b[0m \u001b[0mi\u001b[0m \u001b[1;32min\u001b[0m \u001b[0mrange\u001b[0m \u001b[1;33m(\u001b[0m\u001b[1;36m1\u001b[0m\u001b[1;33m,\u001b[0m\u001b[1;36m20\u001b[0m\u001b[1;33m)\u001b[0m\u001b[1;33m:\u001b[0m\u001b[1;33m\u001b[0m\u001b[1;33m\u001b[0m\u001b[0m\n\u001b[1;32m----> 2\u001b[1;33m     \u001b[0mi\u001b[0m\u001b[1;33m.\u001b[0m\u001b[0mread\u001b[0m\u001b[1;33m(\u001b[0m\u001b[1;33m)\u001b[0m\u001b[1;33m\u001b[0m\u001b[1;33m\u001b[0m\u001b[0m\n\u001b[0m",
      "\u001b[1;31mAttributeError\u001b[0m: 'int' object has no attribute 'read'"
     ]
    }
   ],
   "source": [
    "for i in range (1,20):\n",
    "    i.read()"
   ]
  },
  {
   "cell_type": "code",
   "execution_count": null,
   "id": "0ce42d6c",
   "metadata": {},
   "outputs": [],
   "source": []
  }
 ],
 "metadata": {
  "kernelspec": {
   "display_name": "Python 3 (ipykernel)",
   "language": "python",
   "name": "python3"
  },
  "language_info": {
   "codemirror_mode": {
    "name": "ipython",
    "version": 3
   },
   "file_extension": ".py",
   "mimetype": "text/x-python",
   "name": "python",
   "nbconvert_exporter": "python",
   "pygments_lexer": "ipython3",
   "version": "3.9.7"
  }
 },
 "nbformat": 4,
 "nbformat_minor": 5
}
