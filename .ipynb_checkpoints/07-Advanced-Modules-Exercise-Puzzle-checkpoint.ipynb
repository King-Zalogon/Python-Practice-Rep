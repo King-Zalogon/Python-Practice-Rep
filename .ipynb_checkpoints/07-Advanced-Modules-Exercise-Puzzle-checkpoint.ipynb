{
 "cells": [
  {
   "cell_type": "markdown",
   "metadata": {},
   "source": [
    "___\n",
    "\n",
    "<a href='https://www.udemy.com/user/joseportilla/'><img src='../../Pierian_Data_Logo.png'/></a>\n",
    "___\n",
    "<center><em>Content Copyright by Pierian Data</em></center>"
   ]
  },
  {
   "cell_type": "markdown",
   "metadata": {},
   "source": [
    "# Advanced Modules Exercise Puzzle\n",
    "\n",
    "It's time to test your new skills, this puzzle project will combine multiple skills sets, including unzipping files with Python, using os module to automatically search through lots of files.\n",
    "\n",
    "## Your Goal\n",
    "\n",
    "This is a puzzle, so we don't want to give you too much guidance and instead have you figure out things on your own.\n",
    "\n",
    "There is a .zip file called 'unzip_me_for_instructions.zip', unzip it, open the .txt file with Python, read the instructions and see if you can figure out what you need to do!\n",
    "\n",
    "**If you get stuck or don't know where to start, here is a [guide/hints](https://docs.google.com/document/d/1JxydUr4n4fSR0EwwuwT-aHia-yPK6r-oTBuVT2sqheo/edit?usp=sharing)**"
   ]
  },
  {
   "cell_type": "code",
   "execution_count": 1,
   "metadata": {},
   "outputs": [
    {
     "data": {
      "text/plain": [
       "'C:\\\\Users\\\\gonzalo.rey\\\\Desktop\\\\Python\\\\Python-Practice-Rep'"
      ]
     },
     "execution_count": 1,
     "metadata": {},
     "output_type": "execute_result"
    }
   ],
   "source": [
    "pwd"
   ]
  },
  {
   "cell_type": "code",
   "execution_count": 2,
   "metadata": {},
   "outputs": [],
   "source": [
    "import zipfile\n",
    "import re\n",
    "import os\n",
    "import shutil"
   ]
  },
  {
   "cell_type": "code",
   "execution_count": 3,
   "metadata": {},
   "outputs": [],
   "source": [
    "zip_obj = zipfile.ZipFile('unzip_me_for_instructions.zip','r')"
   ]
  },
  {
   "cell_type": "code",
   "execution_count": 4,
   "metadata": {},
   "outputs": [],
   "source": [
    "zip_obj.extractall()"
   ]
  },
  {
   "cell_type": "code",
   "execution_count": 5,
   "metadata": {},
   "outputs": [],
   "source": [
    "instructions = open('C:\\\\Users\\\\gonzalo.rey\\\\Desktop\\\\Python\\\\Python-Practice-Rep\\\\extracted_content\\\\Instructions.txt', 'r')"
   ]
  },
  {
   "cell_type": "code",
   "execution_count": 6,
   "metadata": {},
   "outputs": [
    {
     "name": "stdout",
     "output_type": "stream",
     "text": [
      "Good work on unzipping the file!\n",
      "You should now see 5 folders, each with a lot of random .txt files.\n",
      "Within one of these text files is a telephone number formated ###-###-#### \n",
      "Use the Python os module and regular expressions to iterate through each file, open it, and search for a telephone number.\n",
      "Good luck!\n"
     ]
    }
   ],
   "source": [
    "print(instructions.read())"
   ]
  },
  {
   "cell_type": "code",
   "execution_count": 7,
   "metadata": {},
   "outputs": [],
   "source": [
    "instructions.close()"
   ]
  },
  {
   "cell_type": "code",
   "execution_count": 24,
   "metadata": {},
   "outputs": [],
   "source": [
    "phone_patt = r'(\\d{3})-(\\d{3})-(\\d{4})'"
   ]
  },
  {
   "cell_type": "code",
   "execution_count": 9,
   "metadata": {},
   "outputs": [],
   "source": [
    "test_path = r'C:\\Users\\gonzalo.rey\\Desktop\\Python\\Python-Practice-Rep\\extracted_content'"
   ]
  },
  {
   "cell_type": "code",
   "execution_count": 11,
   "metadata": {},
   "outputs": [
    {
     "name": "stdout",
     "output_type": "stream",
     "text": [
      "C:\\Users\\gonzalo.rey\\Desktop\\Python\\Python-Practice-Rep\\extracted_content\\Instructions.txt\n",
      "C:\\Users\\gonzalo.rey\\Desktop\\Python\\Python-Practice-Rep\\extracted_content\\Five\\AEITMYIRQLP.txt\n",
      "C:\\Users\\gonzalo.rey\\Desktop\\Python\\Python-Practice-Rep\\extracted_content\\Five\\APJKSRITGGX.txt\n",
      "C:\\Users\\gonzalo.rey\\Desktop\\Python\\Python-Practice-Rep\\extracted_content\\Five\\AQKATDFGXTS.txt\n",
      "C:\\Users\\gonzalo.rey\\Desktop\\Python\\Python-Practice-Rep\\extracted_content\\Five\\ARLKFCWIAJE.txt\n",
      "C:\\Users\\gonzalo.rey\\Desktop\\Python\\Python-Practice-Rep\\extracted_content\\Five\\AXJGVPVEFAS.txt\n",
      "C:\\Users\\gonzalo.rey\\Desktop\\Python\\Python-Practice-Rep\\extracted_content\\Five\\BNUQEHCFRTG.txt\n",
      "C:\\Users\\gonzalo.rey\\Desktop\\Python\\Python-Practice-Rep\\extracted_content\\Five\\BSKJDRNEZQM.txt\n",
      "C:\\Users\\gonzalo.rey\\Desktop\\Python\\Python-Practice-Rep\\extracted_content\\Five\\BTYWAHLHKBM.txt\n",
      "C:\\Users\\gonzalo.rey\\Desktop\\Python\\Python-Practice-Rep\\extracted_content\\Five\\BUGKBZWRRVI.txt\n",
      "C:\\Users\\gonzalo.rey\\Desktop\\Python\\Python-Practice-Rep\\extracted_content\\Five\\BVBURZZCAPR.txt\n",
      "C:\\Users\\gonzalo.rey\\Desktop\\Python\\Python-Practice-Rep\\extracted_content\\Five\\CAHBEVSVDDN.txt\n",
      "C:\\Users\\gonzalo.rey\\Desktop\\Python\\Python-Practice-Rep\\extracted_content\\Five\\COMGMZBJAYE.txt\n",
      "C:\\Users\\gonzalo.rey\\Desktop\\Python\\Python-Practice-Rep\\extracted_content\\Five\\CRFSDGYFSHA.txt\n",
      "C:\\Users\\gonzalo.rey\\Desktop\\Python\\Python-Practice-Rep\\extracted_content\\Five\\CSCLFZCDYYC.txt\n",
      "C:\\Users\\gonzalo.rey\\Desktop\\Python\\Python-Practice-Rep\\extracted_content\\Five\\CXBVCTRBBIE.txt\n",
      "C:\\Users\\gonzalo.rey\\Desktop\\Python\\Python-Practice-Rep\\extracted_content\\Five\\DDLASODUVPX.txt\n",
      "C:\\Users\\gonzalo.rey\\Desktop\\Python\\Python-Practice-Rep\\extracted_content\\Five\\DHZBAAYEADM.txt\n",
      "C:\\Users\\gonzalo.rey\\Desktop\\Python\\Python-Practice-Rep\\extracted_content\\Five\\DQPZQLBCJYP.txt\n",
      "C:\\Users\\gonzalo.rey\\Desktop\\Python\\Python-Practice-Rep\\extracted_content\\Five\\DYOPIIVMZOO.txt\n",
      "C:\\Users\\gonzalo.rey\\Desktop\\Python\\Python-Practice-Rep\\extracted_content\\Five\\DZUWWXYIAEL.txt\n",
      "C:\\Users\\gonzalo.rey\\Desktop\\Python\\Python-Practice-Rep\\extracted_content\\Five\\EAAOEPSAWMQ.txt\n",
      "C:\\Users\\gonzalo.rey\\Desktop\\Python\\Python-Practice-Rep\\extracted_content\\Five\\EIPWXMQZJKU.txt\n",
      "C:\\Users\\gonzalo.rey\\Desktop\\Python\\Python-Practice-Rep\\extracted_content\\Five\\ESIZWBHMGDP.txt\n",
      "C:\\Users\\gonzalo.rey\\Desktop\\Python\\Python-Practice-Rep\\extracted_content\\Five\\ETCUEXWNBCF.txt\n",
      "C:\\Users\\gonzalo.rey\\Desktop\\Python\\Python-Practice-Rep\\extracted_content\\Five\\EYTCGIOYWIW.txt\n",
      "C:\\Users\\gonzalo.rey\\Desktop\\Python\\Python-Practice-Rep\\extracted_content\\Four\\ECIOBYCDVFI.txt\n",
      "C:\\Users\\gonzalo.rey\\Desktop\\Python\\Python-Practice-Rep\\extracted_content\\Four\\EMTGPSXQEJX.txt\n",
      "C:\\Users\\gonzalo.rey\\Desktop\\Python\\Python-Practice-Rep\\extracted_content\\Four\\EPRNUHRSESC.txt\n",
      "C:\\Users\\gonzalo.rey\\Desktop\\Python\\Python-Practice-Rep\\extracted_content\\Four\\ESDIZXHYCVY.txt\n",
      "C:\\Users\\gonzalo.rey\\Desktop\\Python\\Python-Practice-Rep\\extracted_content\\Four\\EXVQSVBQQQH.txt\n",
      "C:\\Users\\gonzalo.rey\\Desktop\\Python\\Python-Practice-Rep\\extracted_content\\Four\\QCTCKDIBBVG.txt\n",
      "C:\\Users\\gonzalo.rey\\Desktop\\Python\\Python-Practice-Rep\\extracted_content\\Four\\QCWCFLKNZMN.txt\n",
      "C:\\Users\\gonzalo.rey\\Desktop\\Python\\Python-Practice-Rep\\extracted_content\\Four\\QDDETWBHJYC.txt\n",
      "C:\\Users\\gonzalo.rey\\Desktop\\Python\\Python-Practice-Rep\\extracted_content\\Four\\QTDYYIFPHAU.txt\n",
      "C:\\Users\\gonzalo.rey\\Desktop\\Python\\Python-Practice-Rep\\extracted_content\\Four\\QVNJULGXNUM.txt\n",
      "C:\\Users\\gonzalo.rey\\Desktop\\Python\\Python-Practice-Rep\\extracted_content\\Four\\REAXWSOIQDY.txt\n",
      "C:\\Users\\gonzalo.rey\\Desktop\\Python\\Python-Practice-Rep\\extracted_content\\Four\\ROICPTWKXDX.txt\n",
      "C:\\Users\\gonzalo.rey\\Desktop\\Python\\Python-Practice-Rep\\extracted_content\\Four\\RSXOTNGKBML.txt\n",
      "C:\\Users\\gonzalo.rey\\Desktop\\Python\\Python-Practice-Rep\\extracted_content\\Four\\RXDARIDGKBF.txt\n",
      "C:\\Users\\gonzalo.rey\\Desktop\\Python\\Python-Practice-Rep\\extracted_content\\Four\\RYNXFYXMKHG.txt\n",
      "C:\\Users\\gonzalo.rey\\Desktop\\Python\\Python-Practice-Rep\\extracted_content\\Four\\TAKNAVDMZKV.txt\n",
      "C:\\Users\\gonzalo.rey\\Desktop\\Python\\Python-Practice-Rep\\extracted_content\\Four\\THPNEGKTJWI.txt\n",
      "C:\\Users\\gonzalo.rey\\Desktop\\Python\\Python-Practice-Rep\\extracted_content\\Four\\TJFMLJODVAD.txt\n",
      "C:\\Users\\gonzalo.rey\\Desktop\\Python\\Python-Practice-Rep\\extracted_content\\Four\\TKCZSFQNJTX.txt\n",
      "C:\\Users\\gonzalo.rey\\Desktop\\Python\\Python-Practice-Rep\\extracted_content\\Four\\TWUOYFCCYBQ.txt\n",
      "C:\\Users\\gonzalo.rey\\Desktop\\Python\\Python-Practice-Rep\\extracted_content\\Four\\WFSKPTXPFCH.txt\n",
      "C:\\Users\\gonzalo.rey\\Desktop\\Python\\Python-Practice-Rep\\extracted_content\\Four\\WHTOHQUWXIN.txt\n",
      "C:\\Users\\gonzalo.rey\\Desktop\\Python\\Python-Practice-Rep\\extracted_content\\Four\\WNJISWPEBRS.txt\n",
      "C:\\Users\\gonzalo.rey\\Desktop\\Python\\Python-Practice-Rep\\extracted_content\\Four\\WXDJDOGZEHN.txt\n",
      "C:\\Users\\gonzalo.rey\\Desktop\\Python\\Python-Practice-Rep\\extracted_content\\Four\\WYDLGSGGXKV.txt\n",
      "C:\\Users\\gonzalo.rey\\Desktop\\Python\\Python-Practice-Rep\\extracted_content\\One\\HDOHZHFSTTK.txt\n",
      "C:\\Users\\gonzalo.rey\\Desktop\\Python\\Python-Practice-Rep\\extracted_content\\One\\HFUTPPAXDIS.txt\n",
      "C:\\Users\\gonzalo.rey\\Desktop\\Python\\Python-Practice-Rep\\extracted_content\\One\\HMNZTLIFGPD.txt\n",
      "C:\\Users\\gonzalo.rey\\Desktop\\Python\\Python-Practice-Rep\\extracted_content\\One\\HRQFTHKVJTL.txt\n",
      "C:\\Users\\gonzalo.rey\\Desktop\\Python\\Python-Practice-Rep\\extracted_content\\One\\HVUTZEVMSBW.txt\n",
      "C:\\Users\\gonzalo.rey\\Desktop\\Python\\Python-Practice-Rep\\extracted_content\\One\\JDLRVFCXYLU.txt\n",
      "C:\\Users\\gonzalo.rey\\Desktop\\Python\\Python-Practice-Rep\\extracted_content\\One\\JEHBLZPUPSP.txt\n",
      "C:\\Users\\gonzalo.rey\\Desktop\\Python\\Python-Practice-Rep\\extracted_content\\One\\JLTXKIGCWDL.txt\n",
      "C:\\Users\\gonzalo.rey\\Desktop\\Python\\Python-Practice-Rep\\extracted_content\\One\\JQUOBKFUACN.txt\n",
      "C:\\Users\\gonzalo.rey\\Desktop\\Python\\Python-Practice-Rep\\extracted_content\\One\\JTHSNBNPQSE.txt\n",
      "C:\\Users\\gonzalo.rey\\Desktop\\Python\\Python-Practice-Rep\\extracted_content\\One\\KCXGNQCZBLO.txt\n",
      "C:\\Users\\gonzalo.rey\\Desktop\\Python\\Python-Practice-Rep\\extracted_content\\One\\KFIUZFERLET.txt\n",
      "C:\\Users\\gonzalo.rey\\Desktop\\Python\\Python-Practice-Rep\\extracted_content\\One\\KMMLGJOWLGI.txt\n",
      "C:\\Users\\gonzalo.rey\\Desktop\\Python\\Python-Practice-Rep\\extracted_content\\One\\KNBSKDREHQU.txt\n",
      "C:\\Users\\gonzalo.rey\\Desktop\\Python\\Python-Practice-Rep\\extracted_content\\One\\KTXDHIOKAUI.txt\n",
      "C:\\Users\\gonzalo.rey\\Desktop\\Python\\Python-Practice-Rep\\extracted_content\\One\\LDGOCUQJNNS.txt\n",
      "C:\\Users\\gonzalo.rey\\Desktop\\Python\\Python-Practice-Rep\\extracted_content\\One\\LFEATJAAYDC.txt\n",
      "C:\\Users\\gonzalo.rey\\Desktop\\Python\\Python-Practice-Rep\\extracted_content\\One\\LHODFIKVTQA.txt\n",
      "C:\\Users\\gonzalo.rey\\Desktop\\Python\\Python-Practice-Rep\\extracted_content\\One\\LIFDHOFKWOI.txt\n",
      "C:\\Users\\gonzalo.rey\\Desktop\\Python\\Python-Practice-Rep\\extracted_content\\One\\LPNDVDXPZIG.txt\n",
      "C:\\Users\\gonzalo.rey\\Desktop\\Python\\Python-Practice-Rep\\extracted_content\\One\\PDJMSMNKIRM.txt\n",
      "C:\\Users\\gonzalo.rey\\Desktop\\Python\\Python-Practice-Rep\\extracted_content\\One\\PHWAVPEKAER.txt\n",
      "C:\\Users\\gonzalo.rey\\Desktop\\Python\\Python-Practice-Rep\\extracted_content\\One\\PLYCGPVEAWO.txt\n",
      "C:\\Users\\gonzalo.rey\\Desktop\\Python\\Python-Practice-Rep\\extracted_content\\One\\PQNVCVJINAR.txt\n",
      "C:\\Users\\gonzalo.rey\\Desktop\\Python\\Python-Practice-Rep\\extracted_content\\One\\PTOBBCJYURJ.txt\n",
      "C:\\Users\\gonzalo.rey\\Desktop\\Python\\Python-Practice-Rep\\extracted_content\\Three\\VAQIJTDOFUJ.txt\n",
      "C:\\Users\\gonzalo.rey\\Desktop\\Python\\Python-Practice-Rep\\extracted_content\\Three\\VCFJCGJFBIH.txt\n",
      "C:\\Users\\gonzalo.rey\\Desktop\\Python\\Python-Practice-Rep\\extracted_content\\Three\\VSXFSTABZDY.txt\n",
      "C:\\Users\\gonzalo.rey\\Desktop\\Python\\Python-Practice-Rep\\extracted_content\\Three\\VVHFVZUNLOO.txt\n",
      "C:\\Users\\gonzalo.rey\\Desktop\\Python\\Python-Practice-Rep\\extracted_content\\Three\\VVKGWLRMHLU.txt\n",
      "C:\\Users\\gonzalo.rey\\Desktop\\Python\\Python-Practice-Rep\\extracted_content\\Three\\XAJMCPEWFNI.txt\n",
      "C:\\Users\\gonzalo.rey\\Desktop\\Python\\Python-Practice-Rep\\extracted_content\\Three\\XFHJOTNPEJG.txt\n",
      "C:\\Users\\gonzalo.rey\\Desktop\\Python\\Python-Practice-Rep\\extracted_content\\Three\\XHZPVUQTXIO.txt\n",
      "C:\\Users\\gonzalo.rey\\Desktop\\Python\\Python-Practice-Rep\\extracted_content\\Three\\XJCWENFFGHB.txt\n",
      "C:\\Users\\gonzalo.rey\\Desktop\\Python\\Python-Practice-Rep\\extracted_content\\Three\\XVMPVSVYKFR.txt\n",
      "C:\\Users\\gonzalo.rey\\Desktop\\Python\\Python-Practice-Rep\\extracted_content\\Three\\YCESZHJDBXH.txt\n",
      "C:\\Users\\gonzalo.rey\\Desktop\\Python\\Python-Practice-Rep\\extracted_content\\Three\\YDQFMWXOUMW.txt\n",
      "C:\\Users\\gonzalo.rey\\Desktop\\Python\\Python-Practice-Rep\\extracted_content\\Three\\YQBIUHSUEVW.txt\n",
      "C:\\Users\\gonzalo.rey\\Desktop\\Python\\Python-Practice-Rep\\extracted_content\\Three\\YQRNCMNFFHW.txt\n",
      "C:\\Users\\gonzalo.rey\\Desktop\\Python\\Python-Practice-Rep\\extracted_content\\Three\\YYIZGBTQHZP.txt\n",
      "C:\\Users\\gonzalo.rey\\Desktop\\Python\\Python-Practice-Rep\\extracted_content\\Three\\ZEZKKRBIZEB.txt\n",
      "C:\\Users\\gonzalo.rey\\Desktop\\Python\\Python-Practice-Rep\\extracted_content\\Three\\ZKQJXAYKPVD.txt\n",
      "C:\\Users\\gonzalo.rey\\Desktop\\Python\\Python-Practice-Rep\\extracted_content\\Three\\ZOWVXWPOGWP.txt\n",
      "C:\\Users\\gonzalo.rey\\Desktop\\Python\\Python-Practice-Rep\\extracted_content\\Three\\ZXEZRQXZNPG.txt\n",
      "C:\\Users\\gonzalo.rey\\Desktop\\Python\\Python-Practice-Rep\\extracted_content\\Three\\ZXIBJMPROKW.txt\n",
      "C:\\Users\\gonzalo.rey\\Desktop\\Python\\Python-Practice-Rep\\extracted_content\\Two\\GKQBQRCTNNK.txt\n",
      "C:\\Users\\gonzalo.rey\\Desktop\\Python\\Python-Practice-Rep\\extracted_content\\Two\\GMMQQUBMJNR.txt\n",
      "C:\\Users\\gonzalo.rey\\Desktop\\Python\\Python-Practice-Rep\\extracted_content\\Two\\GQTJJORZBXY.txt\n",
      "C:\\Users\\gonzalo.rey\\Desktop\\Python\\Python-Practice-Rep\\extracted_content\\Two\\GTOTCIWMDBY.txt\n",
      "C:\\Users\\gonzalo.rey\\Desktop\\Python\\Python-Practice-Rep\\extracted_content\\Two\\GXYSEPAFRTP.txt\n",
      "C:\\Users\\gonzalo.rey\\Desktop\\Python\\Python-Practice-Rep\\extracted_content\\Two\\HARDNJGDRBC.txt\n",
      "C:\\Users\\gonzalo.rey\\Desktop\\Python\\Python-Practice-Rep\\extracted_content\\Two\\HEORIXOTANT.txt\n",
      "C:\\Users\\gonzalo.rey\\Desktop\\Python\\Python-Practice-Rep\\extracted_content\\Two\\HMUTDOVNYTV.txt\n",
      "C:\\Users\\gonzalo.rey\\Desktop\\Python\\Python-Practice-Rep\\extracted_content\\Two\\HMZXPBOPRAE.txt\n",
      "C:\\Users\\gonzalo.rey\\Desktop\\Python\\Python-Practice-Rep\\extracted_content\\Two\\HTOHSTYXTCO.txt\n",
      "C:\\Users\\gonzalo.rey\\Desktop\\Python\\Python-Practice-Rep\\extracted_content\\Two\\LCJZYDHBFRM.txt\n",
      "C:\\Users\\gonzalo.rey\\Desktop\\Python\\Python-Practice-Rep\\extracted_content\\Two\\LSQSTGPIGIY.txt\n",
      "C:\\Users\\gonzalo.rey\\Desktop\\Python\\Python-Practice-Rep\\extracted_content\\Two\\LULTNYAQEJG.txt\n",
      "C:\\Users\\gonzalo.rey\\Desktop\\Python\\Python-Practice-Rep\\extracted_content\\Two\\LVMBINRBJXL.txt\n",
      "C:\\Users\\gonzalo.rey\\Desktop\\Python\\Python-Practice-Rep\\extracted_content\\Two\\LYZEQCVYNEZ.txt\n",
      "C:\\Users\\gonzalo.rey\\Desktop\\Python\\Python-Practice-Rep\\extracted_content\\Two\\OHZOUOSFJQC.txt\n",
      "C:\\Users\\gonzalo.rey\\Desktop\\Python\\Python-Practice-Rep\\extracted_content\\Two\\OIHMLGMWTHL.txt\n",
      "C:\\Users\\gonzalo.rey\\Desktop\\Python\\Python-Practice-Rep\\extracted_content\\Two\\OKWFOOYTXFU.txt\n",
      "C:\\Users\\gonzalo.rey\\Desktop\\Python\\Python-Practice-Rep\\extracted_content\\Two\\OMWIMVRCMYM.txt\n",
      "C:\\Users\\gonzalo.rey\\Desktop\\Python\\Python-Practice-Rep\\extracted_content\\Two\\OYMAGXAGWHJ.txt\n",
      "C:\\Users\\gonzalo.rey\\Desktop\\Python\\Python-Practice-Rep\\extracted_content\\Two\\SIKFPPLCJDN.txt\n",
      "C:\\Users\\gonzalo.rey\\Desktop\\Python\\Python-Practice-Rep\\extracted_content\\Two\\SJMJLDGPBSJ.txt\n",
      "C:\\Users\\gonzalo.rey\\Desktop\\Python\\Python-Practice-Rep\\extracted_content\\Two\\SOFUJYXTIMK.txt\n",
      "C:\\Users\\gonzalo.rey\\Desktop\\Python\\Python-Practice-Rep\\extracted_content\\Two\\SPDZYGDHEWO.txt\n",
      "C:\\Users\\gonzalo.rey\\Desktop\\Python\\Python-Practice-Rep\\extracted_content\\Two\\SWOFXREEHWA.txt\n"
     ]
    }
   ],
   "source": [
    "for a,b,c in os.walk(test_path):\n",
    "    for d in c[0:]:\n",
    "        print (f'{a}\\{d}')"
   ]
  },
  {
   "cell_type": "code",
   "execution_count": 64,
   "metadata": {},
   "outputs": [],
   "source": [
    "def match_me(file_path_n_name, pattern):\n",
    "    my_text = open(file_path_n_name, 'r')\n",
    "    my_read = my_text.read()\n",
    "    my_text.close()\n",
    "    \n",
    "    match = re.findall(pattern, my_read)\n",
    "    \n",
    "    for num in match[0:]:\n",
    "        print (num)\n",
    "    \n",
    "    return match\n",
    "    "
   ]
  },
  {
   "cell_type": "code",
   "execution_count": 65,
   "metadata": {},
   "outputs": [],
   "source": [
    "def match_sweap(root_path, pattern):\n",
    "    import os\n",
    "    total_matches = []\n",
    "    for a,b,c in os.walk(root_path):\n",
    "        for d in c[0:]:\n",
    "            match_me (f'{a}\\{d}', pattern)\n",
    "                \n"
   ]
  },
  {
   "cell_type": "code",
   "execution_count": 66,
   "metadata": {},
   "outputs": [
    {
     "name": "stdout",
     "output_type": "stream",
     "text": [
      "('719', '266', '2837')\n"
     ]
    }
   ],
   "source": [
    "match_sweap(test_path, phone_patt)"
   ]
  },
  {
   "cell_type": "code",
   "execution_count": null,
   "metadata": {},
   "outputs": [],
   "source": []
  }
 ],
 "metadata": {
  "anaconda-cloud": {},
  "kernelspec": {
   "display_name": "Python 3 (ipykernel)",
   "language": "python",
   "name": "python3"
  },
  "language_info": {
   "codemirror_mode": {
    "name": "ipython",
    "version": 3
   },
   "file_extension": ".py",
   "mimetype": "text/x-python",
   "name": "python",
   "nbconvert_exporter": "python",
   "pygments_lexer": "ipython3",
   "version": "3.9.12"
  }
 },
 "nbformat": 4,
 "nbformat_minor": 2
}
