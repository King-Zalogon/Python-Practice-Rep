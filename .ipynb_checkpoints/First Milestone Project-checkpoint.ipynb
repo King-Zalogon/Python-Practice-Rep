{
 "cells": [
  {
   "cell_type": "code",
   "execution_count": 1,
   "id": "86759d7b",
   "metadata": {},
   "outputs": [],
   "source": [
    "game_list = [0,1,2]"
   ]
  },
  {
   "cell_type": "code",
   "execution_count": 1,
   "id": "d529480a",
   "metadata": {},
   "outputs": [],
   "source": [
    "def display_game(game_list):\n",
    "    print('Here is the current list: ')\n",
    "    print(game_list)"
   ]
  },
  {
   "cell_type": "code",
   "execution_count": 3,
   "id": "aeeea620",
   "metadata": {},
   "outputs": [
    {
     "name": "stdout",
     "output_type": "stream",
     "text": [
      "Here is the current list: \n",
      "[0, 1, 2]\n"
     ]
    }
   ],
   "source": [
    "display_game(game_list)"
   ]
  },
  {
   "cell_type": "code",
   "execution_count": 2,
   "id": "388f7d24",
   "metadata": {},
   "outputs": [],
   "source": [
    "def position_choice():\n",
    "    \n",
    "    choice = 'wrong'\n",
    "    \n",
    "    while choice not in ['0','1','2']:\n",
    "        \n",
    "        choice = input ('Pick a position (0,1,2): ')\n",
    "        \n",
    "        if choice not in ['0','1','2']:\n",
    "            print('Sorry, invalid choice!')\n",
    "    \n",
    "    return int(choice)"
   ]
  },
  {
   "cell_type": "code",
   "execution_count": 8,
   "id": "f9d2170e",
   "metadata": {},
   "outputs": [
    {
     "name": "stdout",
     "output_type": "stream",
     "text": [
      "Pick a position (0,1,2): one\n",
      "Sorry, invalid choice!\n",
      "Pick a position (0,1,2): 24\n",
      "Sorry, invalid choice!\n",
      "Pick a position (0,1,2): 2\n"
     ]
    },
    {
     "data": {
      "text/plain": [
       "2"
      ]
     },
     "execution_count": 8,
     "metadata": {},
     "output_type": "execute_result"
    }
   ],
   "source": [
    "position_choice ()"
   ]
  },
  {
   "cell_type": "code",
   "execution_count": 3,
   "id": "f24e0edb",
   "metadata": {},
   "outputs": [],
   "source": [
    "def replacement_choice(game_list, position):\n",
    "    \n",
    "    user_placement = input ('Type a string to place at position: ')\n",
    "    \n",
    "    game_list[position] = user_placement\n",
    "    \n",
    "    return game_list"
   ]
  },
  {
   "cell_type": "code",
   "execution_count": 11,
   "id": "12fa99e2",
   "metadata": {},
   "outputs": [
    {
     "name": "stdout",
     "output_type": "stream",
     "text": [
      "Type a string to place at position: new string\n"
     ]
    },
    {
     "data": {
      "text/plain": [
       "[0, 'new string', 2]"
      ]
     },
     "execution_count": 11,
     "metadata": {},
     "output_type": "execute_result"
    }
   ],
   "source": [
    "replacement_choice(game_list,1)"
   ]
  },
  {
   "cell_type": "code",
   "execution_count": 4,
   "id": "c6e06983",
   "metadata": {},
   "outputs": [],
   "source": [
    "def gameon_choice():\n",
    "    \n",
    "    choice = 'wrong'\n",
    "    \n",
    "    while choice not in ['Y', 'N']:\n",
    "        \n",
    "        choice = input ('Keep playing? (Y or N) ')\n",
    "        \n",
    "        if choice not in ['Y', 'N']:\n",
    "            print('Sorry, invalid choice, please choose (Y or N) ')\n",
    "    \n",
    "    if choice == 'Y':\n",
    "        return True\n",
    "    else:\n",
    "        return False"
   ]
  },
  {
   "cell_type": "code",
   "execution_count": 13,
   "id": "e8195d94",
   "metadata": {},
   "outputs": [
    {
     "name": "stdout",
     "output_type": "stream",
     "text": [
      "Keep playing? Y or N asas\n",
      "Sorry, invalid choice, please choice Y or N \n",
      "Keep playing? Y or N Y\n"
     ]
    },
    {
     "data": {
      "text/plain": [
       "True"
      ]
     },
     "execution_count": 13,
     "metadata": {},
     "output_type": "execute_result"
    }
   ],
   "source": [
    "gameon_choice()"
   ]
  },
  {
   "cell_type": "code",
   "execution_count": 14,
   "id": "d63aafbc",
   "metadata": {},
   "outputs": [
    {
     "name": "stdout",
     "output_type": "stream",
     "text": [
      "Keep playing? Y or N N\n"
     ]
    },
    {
     "data": {
      "text/plain": [
       "False"
      ]
     },
     "execution_count": 14,
     "metadata": {},
     "output_type": "execute_result"
    }
   ],
   "source": [
    "gameon_choice()"
   ]
  },
  {
   "cell_type": "code",
   "execution_count": 5,
   "id": "b75bddac",
   "metadata": {},
   "outputs": [
    {
     "name": "stdout",
     "output_type": "stream",
     "text": [
      "Here is the current list: \n",
      "[0, 1, 2]\n",
      "Pick a position (0,1,2): qwe\n",
      "Sorry, invalid choice!\n",
      "Pick a position (0,1,2): 44\n",
      "Sorry, invalid choice!\n",
      "Pick a position (0,1,2): 2\n",
      "Type a string to place at position: Aloha\n",
      "Here is the current list: \n",
      "[0, 1, 'Aloha']\n",
      "Keep playing? (Y or N) asd\n",
      "Sorry, invalid choice, please choose (Y or N) \n",
      "Keep playing? (Y or N) y\n",
      "Sorry, invalid choice, please choose (Y or N) \n",
      "Keep playing? (Y or N) Y\n",
      "Here is the current list: \n",
      "[0, 1, 'Aloha']\n",
      "Pick a position (0,1,2): 2\n",
      "Type a string to place at position: Omnissiah!\n",
      "Here is the current list: \n",
      "[0, 1, 'Omnissiah!']\n",
      "Keep playing? (Y or N) n\n",
      "Sorry, invalid choice, please choose (Y or N) \n",
      "Keep playing? (Y or N) N\n"
     ]
    }
   ],
   "source": [
    "game_on = True\n",
    "game_list = [0,1,2]\n",
    "\n",
    "while game_on:\n",
    "    display_game(game_list)\n",
    "    \n",
    "    position = position_choice()\n",
    "    \n",
    "    game_list = replacement_choice(game_list, position)\n",
    "    \n",
    "    display_game(game_list)\n",
    "    \n",
    "    game_on = gameon_choice()"
   ]
  },
  {
   "cell_type": "markdown",
   "id": "6eadc2d6",
   "metadata": {},
   "source": [
    "# Tic Tac Toe game\n",
    "\n",
    "- 2 players playing on same computer\n",
    "- board should be printed after each move\n",
    "- should take input from player's position and place symbol on board\n",
    "- Use numpad or phonepad to match grid:\n",
    "###    1 2 3\n",
    "###    4 5 6\n",
    "###    7 8 8 \n",
    "\n",
    "\n",
    "\n",
    "- Alternate between X and O (first ask player1 which one they'll be)\n",
    "- Detect when one player has won\n",
    "- Ask if the want to play again"
   ]
  },
  {
   "cell_type": "markdown",
   "id": "c87b3a00",
   "metadata": {},
   "source": [
    "# Board\n",
    "# Players Marker X or O\n",
    "# Display Board\n",
    "# Ask for Input\n",
    "# Update Board and Display Again\n",
    "# Check for Winning Conditions\n",
    "# Game On Question"
   ]
  },
  {
   "cell_type": "code",
   "execution_count": 151,
   "id": "63bccf4b",
   "metadata": {},
   "outputs": [],
   "source": [
    "new_game = False\n",
    "game_on = True\n",
    "choices = [' ', ' ', ' ', ' ', ' ', ' ', ' ', ' ', ' ']\n",
    "markers = ['X','O']\n",
    "\n",
    "def play_tictac:\n",
    "    \n",
    "    #Greet the player\n",
    "    print('Welcom to my Tic Tac Toe game!')\n",
    "    \n",
    "    # Ask who will be X and who O\n",
    "    player_marker()\n",
    "\n",
    "    # While game not new show current score:\n",
    "    scores()\n",
    "    \n",
    "    # Start the game itself\n",
    "    while game_on == True:\n",
    "        \n",
    "        # Display Board\n",
    "        display_board()\n",
    "        \n",
    "        # Ask current player for input\n",
    "        player_choice()\n",
    "        \n",
    "        # Update Board\n",
    "        update_board()\n",
    "        \n",
    "        # Check if they won\n",
    "        result()\n",
    "        \n",
    "        # If non won update current player and restart loop\n",
    "        current_player_update()\n",
    "        \n",
    "        # Else, congrat, ask if game is on.\n",
    "            end_game()\n",
    "            update_scores()\n",
    "            \n",
    "            #If Game on reset the game\n",
    "            reset_game()\n",
    "            \n",
    "            #If Game end say bye bye\n",
    "            bye_bye()"
   ]
  },
  {
   "cell_type": "markdown",
   "id": "988578a1",
   "metadata": {},
   "source": [
    "# Board and Display Board Func"
   ]
  },
  {
   "cell_type": "code",
   "execution_count": 134,
   "id": "51376c37",
   "metadata": {},
   "outputs": [],
   "source": [
    "def board():\n",
    "    if new_game == True:\n",
    "        choices = [' ', ' ', ' ', ' ', ' ', ' ', ' ', ' ', ' ']\n",
    "    else:\n",
    "        pass"
   ]
  },
  {
   "cell_type": "code",
   "execution_count": 135,
   "id": "19bd5413",
   "metadata": {},
   "outputs": [],
   "source": [
    "def display_board():\n",
    "\n",
    "    board = ' '+choices[0]+' || '+choices[1]+' || '+choices[2]+'\\n=============\\n'+' '+choices[3]+' || '+choices[4]+' || '+choices[5]+'\\n=============\\n'+' '+choices[6]+' || '+choices[7]+' || '+choices[8]\n",
    "    print (board)"
   ]
  },
  {
   "cell_type": "code",
   "execution_count": 136,
   "id": "5d2c8ee4",
   "metadata": {},
   "outputs": [
    {
     "name": "stdout",
     "output_type": "stream",
     "text": [
      "   ||   || W\n",
      "=============\n",
      "   ||   ||  \n",
      "=============\n",
      "   ||   ||  \n"
     ]
    }
   ],
   "source": [
    "display_board()"
   ]
  },
  {
   "cell_type": "code",
   "execution_count": 102,
   "id": "6b3a717a",
   "metadata": {},
   "outputs": [
    {
     "data": {
      "text/plain": [
       "'W'"
      ]
     },
     "execution_count": 102,
     "metadata": {},
     "output_type": "execute_result"
    }
   ],
   "source": [
    "choices[2]"
   ]
  },
  {
   "cell_type": "markdown",
   "id": "46c30063",
   "metadata": {},
   "source": [
    "# Players Markers X or O Func"
   ]
  },
  {
   "cell_type": "code",
   "execution_count": 137,
   "id": "ce291cf7",
   "metadata": {},
   "outputs": [],
   "source": [
    "def player_marker():\n",
    "    markers = ['X','O']\n",
    "    player1_marker = (input ('Player 1, which marker do you choose? X or O?' )).upper()\n",
    "    if player1_marker not in markers:\n",
    "        player1_marker = (input ('Sorry, not a valid choice. Type \"X\" or \"O\": ')).upper()\n",
    "    \n",
    "    if player1_marker == markers [0]:\n",
    "        player2_marker = markers [1]\n",
    "    else:\n",
    "        player2_marker = markers [0]\n",
    "    \n",
    "    markers = [player1_marker,player2_marker]\n",
    "    \n",
    "    return markers\n"
   ]
  },
  {
   "cell_type": "code",
   "execution_count": 138,
   "id": "a2d6be28",
   "metadata": {},
   "outputs": [
    {
     "name": "stdout",
     "output_type": "stream",
     "text": [
      "Player 1, which marker do you choose? X or O?o\n"
     ]
    },
    {
     "data": {
      "text/plain": [
       "['O', 'X']"
      ]
     },
     "execution_count": 138,
     "metadata": {},
     "output_type": "execute_result"
    }
   ],
   "source": [
    "player_marker()"
   ]
  },
  {
   "cell_type": "code",
   "execution_count": null,
   "id": "974199e4",
   "metadata": {},
   "outputs": [],
   "source": []
  },
  {
   "cell_type": "markdown",
   "id": "28ad3e65",
   "metadata": {},
   "source": [
    "# Ask for Input Func"
   ]
  },
  {
   "cell_type": "code",
   "execution_count": 149,
   "id": "56986501",
   "metadata": {},
   "outputs": [],
   "source": [
    "def player_choice():\n",
    "    current_player = 1\n",
    "    squares = [1,2,3,4,5,6,7,8,9]\n",
    "    acceptable = False\n",
    "    \n",
    "    while acceptable == False:\n",
    "        choice = input('Player '+ str(current_player) + ' enter de number of square you want to mark: \\n 1|2|3 \\n 4|5|6 \\n 7|8|9 ')\n",
    "        \n",
    "        if choice != int(choice):\n",
    "            \n",
    "            choice = int(input('Sorry Player '+ str(current_player) + \" That's not a number. Type a number from 1 to 9 which square to mark: \\n 1|2|3 \\n 4|5|6 \\n 7|8|9 \"))\n",
    "\n",
    "        if int(choice) not in squares:\n",
    "            \n",
    "            choice = int(input('Sorry Player '+ str(current_player) + ' Thats not a valid number. Choose, from 1 to 9 which square to mark: \\n 1|2|3 \\n 4|5|6 \\n 7|8|9 '))\n",
    "                \n",
    "        if choices[choice - 1] != ' ':\n",
    "            \n",
    "            choice = int(input('Sorry Player '+ str(current_player) + ' That square has already been marked, please choose another: \\n 1|2|3 \\n 4|5|6 \\n 7|8|9 '))\n",
    "    else:    \n",
    "        choice = int(choice)\n",
    "        acceptable = True\n",
    "    \n",
    "    choices[choice - 1] = markers[current_player-1]\n",
    "    \n",
    "    if current_player == 1 :\n",
    "            \n",
    "        current_player = 2\n",
    "    \n",
    "    else:\n",
    "    \n",
    "        current_player = 1\n",
    "        \n",
    "    return(display_board())\n",
    "    \n"
   ]
  },
  {
   "cell_type": "code",
   "execution_count": 150,
   "id": "1e66d5e8",
   "metadata": {},
   "outputs": [
    {
     "name": "stdout",
     "output_type": "stream",
     "text": [
      "Player 1 enter de number of square you want to mark: \n",
      " 1|2|3 \n",
      " 4|5|6 \n",
      " 7|8|9 3\n",
      "Sorry Player 1 That's not a number. Type a number from 1 to 9 which square to mark: \n",
      " 1|2|3 \n",
      " 4|5|6 \n",
      " 7|8|9 r\n"
     ]
    },
    {
     "ename": "ValueError",
     "evalue": "invalid literal for int() with base 10: 'r'",
     "output_type": "error",
     "traceback": [
      "\u001b[1;31m---------------------------------------------------------------------------\u001b[0m",
      "\u001b[1;31mValueError\u001b[0m                                Traceback (most recent call last)",
      "Input \u001b[1;32mIn [150]\u001b[0m, in \u001b[0;36m<cell line: 1>\u001b[1;34m()\u001b[0m\n\u001b[1;32m----> 1\u001b[0m \u001b[43mplayer_choice\u001b[49m\u001b[43m(\u001b[49m\u001b[43m)\u001b[49m\n",
      "Input \u001b[1;32mIn [149]\u001b[0m, in \u001b[0;36mplayer_choice\u001b[1;34m()\u001b[0m\n\u001b[0;32m      7\u001b[0m choice \u001b[38;5;241m=\u001b[39m \u001b[38;5;28minput\u001b[39m(\u001b[38;5;124m'\u001b[39m\u001b[38;5;124mPlayer \u001b[39m\u001b[38;5;124m'\u001b[39m\u001b[38;5;241m+\u001b[39m \u001b[38;5;28mstr\u001b[39m(current_player) \u001b[38;5;241m+\u001b[39m \u001b[38;5;124m'\u001b[39m\u001b[38;5;124m enter de number of square you want to mark: \u001b[39m\u001b[38;5;130;01m\\n\u001b[39;00m\u001b[38;5;124m 1|2|3 \u001b[39m\u001b[38;5;130;01m\\n\u001b[39;00m\u001b[38;5;124m 4|5|6 \u001b[39m\u001b[38;5;130;01m\\n\u001b[39;00m\u001b[38;5;124m 7|8|9 \u001b[39m\u001b[38;5;124m'\u001b[39m)\n\u001b[0;32m      9\u001b[0m \u001b[38;5;28;01mif\u001b[39;00m choice \u001b[38;5;241m!=\u001b[39m \u001b[38;5;28mint\u001b[39m(choice):\n\u001b[1;32m---> 11\u001b[0m     choice \u001b[38;5;241m=\u001b[39m \u001b[38;5;28;43mint\u001b[39;49m\u001b[43m(\u001b[49m\u001b[38;5;28;43minput\u001b[39;49m\u001b[43m(\u001b[49m\u001b[38;5;124;43m'\u001b[39;49m\u001b[38;5;124;43mSorry Player \u001b[39;49m\u001b[38;5;124;43m'\u001b[39;49m\u001b[38;5;241;43m+\u001b[39;49m\u001b[43m \u001b[49m\u001b[38;5;28;43mstr\u001b[39;49m\u001b[43m(\u001b[49m\u001b[43mcurrent_player\u001b[49m\u001b[43m)\u001b[49m\u001b[43m \u001b[49m\u001b[38;5;241;43m+\u001b[39;49m\u001b[43m \u001b[49m\u001b[38;5;124;43m\"\u001b[39;49m\u001b[38;5;124;43m That\u001b[39;49m\u001b[38;5;124;43m'\u001b[39;49m\u001b[38;5;124;43ms not a number. Type a number from 1 to 9 which square to mark: \u001b[39;49m\u001b[38;5;130;43;01m\\n\u001b[39;49;00m\u001b[38;5;124;43m 1|2|3 \u001b[39;49m\u001b[38;5;130;43;01m\\n\u001b[39;49;00m\u001b[38;5;124;43m 4|5|6 \u001b[39;49m\u001b[38;5;130;43;01m\\n\u001b[39;49;00m\u001b[38;5;124;43m 7|8|9 \u001b[39;49m\u001b[38;5;124;43m\"\u001b[39;49m\u001b[43m)\u001b[49m\u001b[43m)\u001b[49m\n\u001b[0;32m     13\u001b[0m \u001b[38;5;28;01mif\u001b[39;00m \u001b[38;5;28mint\u001b[39m(choice) \u001b[38;5;129;01mnot\u001b[39;00m \u001b[38;5;129;01min\u001b[39;00m squares:\n\u001b[0;32m     15\u001b[0m     choice \u001b[38;5;241m=\u001b[39m \u001b[38;5;28mint\u001b[39m(\u001b[38;5;28minput\u001b[39m(\u001b[38;5;124m'\u001b[39m\u001b[38;5;124mSorry Player \u001b[39m\u001b[38;5;124m'\u001b[39m\u001b[38;5;241m+\u001b[39m \u001b[38;5;28mstr\u001b[39m(current_player) \u001b[38;5;241m+\u001b[39m \u001b[38;5;124m'\u001b[39m\u001b[38;5;124m Thats not a valid number. Choose, from 1 to 9 which square to mark: \u001b[39m\u001b[38;5;130;01m\\n\u001b[39;00m\u001b[38;5;124m 1|2|3 \u001b[39m\u001b[38;5;130;01m\\n\u001b[39;00m\u001b[38;5;124m 4|5|6 \u001b[39m\u001b[38;5;130;01m\\n\u001b[39;00m\u001b[38;5;124m 7|8|9 \u001b[39m\u001b[38;5;124m'\u001b[39m))\n",
      "\u001b[1;31mValueError\u001b[0m: invalid literal for int() with base 10: 'r'"
     ]
    }
   ],
   "source": [
    "player_choice()"
   ]
  },
  {
   "cell_type": "code",
   "execution_count": 148,
   "id": "a6b5ede2",
   "metadata": {},
   "outputs": [
    {
     "name": "stdout",
     "output_type": "stream",
     "text": [
      "   ||   || W\n",
      "=============\n",
      "   ||   ||  \n",
      "=============\n",
      "   ||   ||  \n"
     ]
    }
   ],
   "source": [
    "display_board()"
   ]
  },
  {
   "cell_type": "code",
   "execution_count": 161,
   "id": "7a09e4f9",
   "metadata": {},
   "outputs": [
    {
     "ename": "SyntaxError",
     "evalue": "invalid syntax (1719898445.py, line 10)",
     "output_type": "error",
     "traceback": [
      "\u001b[1;36m  Input \u001b[1;32mIn [161]\u001b[1;36m\u001b[0m\n\u001b[1;33m    choice == int(choice):\u001b[0m\n\u001b[1;37m                          ^\u001b[0m\n\u001b[1;31mSyntaxError\u001b[0m\u001b[1;31m:\u001b[0m invalid syntax\n"
     ]
    }
   ],
   "source": [
    "def player_choice2():\n",
    "    current_player = 1\n",
    "    squares = [1,2,3,4,5,6,7,8,9]\n",
    "    acceptable = False\n",
    "    \n",
    "    while acceptable == False:\n",
    "        choice = input('Player '+ str(current_player) + ' enter de number of square you want to mark: \\n 1|2|3 \\n 4|5|6 \\n 7|8|9 ')\n",
    "        \n",
    "        try:\n",
    "            choice == int(choice):\n",
    "            try:\n",
    "                int(choice) in squares\n",
    "                try:\n",
    "                    choices[choice - 1] != ' ':\n",
    "                    acceptable = True\n",
    "\n",
    "                except:\n",
    "                    choice = int(input('Sorry Player '+ str(current_player) + ' That square has already been marked, please choose another: \\n 1|2|3 \\n 4|5|6 \\n 7|8|9 '))\n",
    "\n",
    "            except:\n",
    "                choice = int(input('Sorry Player '+ str(current_player) + ' Thats not a valid number. Choose, from 1 to 9 which square to mark: \\n 1|2|3 \\n 4|5|6 \\n 7|8|9 '))\n",
    "\n",
    "        except:\n",
    "            choice = int(input('Sorry Player '+ str(current_player) + \" That's not a number. Type a number from 1 to 9 which square to mark: \\n 1|2|3 \\n 4|5|6 \\n 7|8|9 \"))\n",
    "\n",
    "    \n",
    "    choices[choice - 1] = markers[current_player-1]\n",
    "    \n",
    "    if current_player == 1 :\n",
    "            \n",
    "        current_player = 2\n",
    "    \n",
    "    else:\n",
    "    \n",
    "        current_player = 1\n",
    "        \n",
    "    return(display_board())"
   ]
  },
  {
   "cell_type": "code",
   "execution_count": 162,
   "id": "84a2fe1b",
   "metadata": {},
   "outputs": [
    {
     "name": "stdout",
     "output_type": "stream",
     "text": [
      "Player 1 enter de number of square you want to mark: \n",
      " 1|2|3 \n",
      " 4|5|6 \n",
      " 7|8|9 r\n",
      "Sorry Player 1 That's not a number. Type a number from 1 to 9 which square to mark: \n",
      " 1|2|3 \n",
      " 4|5|6 \n",
      " 7|8|9 r\n"
     ]
    },
    {
     "ename": "ValueError",
     "evalue": "invalid literal for int() with base 10: 'r'",
     "output_type": "error",
     "traceback": [
      "\u001b[1;31m---------------------------------------------------------------------------\u001b[0m",
      "\u001b[1;31mValueError\u001b[0m                                Traceback (most recent call last)",
      "Input \u001b[1;32mIn [159]\u001b[0m, in \u001b[0;36mplayer_choice2\u001b[1;34m()\u001b[0m\n\u001b[0;32m      9\u001b[0m \u001b[38;5;28;01mtry\u001b[39;00m:\n\u001b[1;32m---> 10\u001b[0m     \u001b[38;5;28;01mif\u001b[39;00m choice \u001b[38;5;241m==\u001b[39m \u001b[38;5;28;43mint\u001b[39;49m\u001b[43m(\u001b[49m\u001b[43mchoice\u001b[49m\u001b[43m)\u001b[49m:\n\u001b[0;32m     12\u001b[0m         \u001b[38;5;28;01mif\u001b[39;00m \u001b[38;5;28mint\u001b[39m(choice) \u001b[38;5;129;01min\u001b[39;00m squares:\n",
      "\u001b[1;31mValueError\u001b[0m: invalid literal for int() with base 10: 'r'",
      "\nDuring handling of the above exception, another exception occurred:\n",
      "\u001b[1;31mValueError\u001b[0m                                Traceback (most recent call last)",
      "Input \u001b[1;32mIn [162]\u001b[0m, in \u001b[0;36m<cell line: 1>\u001b[1;34m()\u001b[0m\n\u001b[1;32m----> 1\u001b[0m \u001b[43mplayer_choice2\u001b[49m\u001b[43m(\u001b[49m\u001b[43m)\u001b[49m\n",
      "Input \u001b[1;32mIn [159]\u001b[0m, in \u001b[0;36mplayer_choice2\u001b[1;34m()\u001b[0m\n\u001b[0;32m     22\u001b[0m                 choice \u001b[38;5;241m=\u001b[39m \u001b[38;5;28mint\u001b[39m(\u001b[38;5;28minput\u001b[39m(\u001b[38;5;124m'\u001b[39m\u001b[38;5;124mSorry Player \u001b[39m\u001b[38;5;124m'\u001b[39m\u001b[38;5;241m+\u001b[39m \u001b[38;5;28mstr\u001b[39m(current_player) \u001b[38;5;241m+\u001b[39m \u001b[38;5;124m'\u001b[39m\u001b[38;5;124m Thats not a valid number. Choose, from 1 to 9 which square to mark: \u001b[39m\u001b[38;5;130;01m\\n\u001b[39;00m\u001b[38;5;124m 1|2|3 \u001b[39m\u001b[38;5;130;01m\\n\u001b[39;00m\u001b[38;5;124m 4|5|6 \u001b[39m\u001b[38;5;130;01m\\n\u001b[39;00m\u001b[38;5;124m 7|8|9 \u001b[39m\u001b[38;5;124m'\u001b[39m))\n\u001b[0;32m     24\u001b[0m     \u001b[38;5;28;01mexcept\u001b[39;00m:\n\u001b[1;32m---> 25\u001b[0m         choice \u001b[38;5;241m=\u001b[39m \u001b[38;5;28;43mint\u001b[39;49m\u001b[43m(\u001b[49m\u001b[38;5;28;43minput\u001b[39;49m\u001b[43m(\u001b[49m\u001b[38;5;124;43m'\u001b[39;49m\u001b[38;5;124;43mSorry Player \u001b[39;49m\u001b[38;5;124;43m'\u001b[39;49m\u001b[38;5;241;43m+\u001b[39;49m\u001b[43m \u001b[49m\u001b[38;5;28;43mstr\u001b[39;49m\u001b[43m(\u001b[49m\u001b[43mcurrent_player\u001b[49m\u001b[43m)\u001b[49m\u001b[43m \u001b[49m\u001b[38;5;241;43m+\u001b[39;49m\u001b[43m \u001b[49m\u001b[38;5;124;43m\"\u001b[39;49m\u001b[38;5;124;43m That\u001b[39;49m\u001b[38;5;124;43m'\u001b[39;49m\u001b[38;5;124;43ms not a number. Type a number from 1 to 9 which square to mark: \u001b[39;49m\u001b[38;5;130;43;01m\\n\u001b[39;49;00m\u001b[38;5;124;43m 1|2|3 \u001b[39;49m\u001b[38;5;130;43;01m\\n\u001b[39;49;00m\u001b[38;5;124;43m 4|5|6 \u001b[39;49m\u001b[38;5;130;43;01m\\n\u001b[39;49;00m\u001b[38;5;124;43m 7|8|9 \u001b[39;49m\u001b[38;5;124;43m\"\u001b[39;49m\u001b[43m)\u001b[49m\u001b[43m)\u001b[49m\n\u001b[0;32m     28\u001b[0m choices[choice \u001b[38;5;241m-\u001b[39m \u001b[38;5;241m1\u001b[39m] \u001b[38;5;241m=\u001b[39m markers[current_player\u001b[38;5;241m-\u001b[39m\u001b[38;5;241m1\u001b[39m]\n\u001b[0;32m     30\u001b[0m \u001b[38;5;28;01mif\u001b[39;00m current_player \u001b[38;5;241m==\u001b[39m \u001b[38;5;241m1\u001b[39m :\n",
      "\u001b[1;31mValueError\u001b[0m: invalid literal for int() with base 10: 'r'"
     ]
    }
   ],
   "source": [
    "player_choice2()"
   ]
  },
  {
   "cell_type": "code",
   "execution_count": null,
   "id": "24c22fae",
   "metadata": {},
   "outputs": [],
   "source": []
  }
 ],
 "metadata": {
  "kernelspec": {
   "display_name": "Python 3 (ipykernel)",
   "language": "python",
   "name": "python3"
  },
  "language_info": {
   "codemirror_mode": {
    "name": "ipython",
    "version": 3
   },
   "file_extension": ".py",
   "mimetype": "text/x-python",
   "name": "python",
   "nbconvert_exporter": "python",
   "pygments_lexer": "ipython3",
   "version": "3.9.12"
  }
 },
 "nbformat": 4,
 "nbformat_minor": 5
}
