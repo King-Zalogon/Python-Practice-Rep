{
 "cells": [
  {
   "cell_type": "markdown",
   "id": "a1f2abaa",
   "metadata": {},
   "source": [
    "# Milestone Project 2 - Blackjack Game\n",
    "In this milestone project you will be creating a Complete BlackJack Card Game in Python.\n",
    "\n",
    "Here are the requirements:\n",
    "\n",
    "* You need to create a simple text-based [BlackJack](https://en.wikipedia.org/wiki/Blackjack) game\n",
    "* The game needs to have one player versus an automated dealer.\n",
    "* The player can stand or hit.\n",
    "* The player must be able to pick their betting amount.\n",
    "* You need to keep track of the player's total money.\n",
    "* You need to alert the player of wins, losses, or busts, etc...\n",
    "\n",
    "And most importantly:\n",
    "\n",
    "* **You must use OOP and classes in some portion of your game. You can not just use functions in your game. Use classes to help you define the Deck and the Player's hand. There are many right ways to do this, so explore it well!**\n",
    "\n",
    "\n",
    "Feel free to expand this game. Try including multiple players. Try adding in Double-Down and card splits! Remember to you are free to use any resources you want and as always:\n",
    "\n",
    "# HAVE FUN!"
   ]
  },
  {
   "cell_type": "code",
   "execution_count": 11,
   "id": "8d1b42ba",
   "metadata": {},
   "outputs": [],
   "source": [
    "import random\n",
    "\n",
    "suits = ('Hearts', 'Diamonds', 'Spades', 'Clubs')\n",
    "ranks = ('Two', 'Three', 'Four', 'Five', 'Six', 'Seven', 'Eight', 'Nine', 'Ten', 'Jack', 'Queen', 'King', 'Ace')\n",
    "values = {'Ace':1,'Two':2, 'Three':3, 'Four':4, 'Five':5, 'Six':6, 'Seven':7, 'Eight':8,'Nine':9, 'Ten':10, 'Jack':10, 'Queen':10, 'King':10}"
   ]
  },
  {
   "cell_type": "code",
   "execution_count": 12,
   "id": "c1df4c74",
   "metadata": {},
   "outputs": [],
   "source": [
    "class Card:\n",
    "    \n",
    "    def __init__(self, suit, rank):\n",
    "        self.suit = suit\n",
    "        self.rank = rank\n",
    "        self.value = values[rank]\n",
    "        \n",
    "    def __str__(self):\n",
    "        return self.rank + \" of \" + self.suit"
   ]
  },
  {
   "cell_type": "code",
   "execution_count": 13,
   "id": "8f28cd6d",
   "metadata": {},
   "outputs": [],
   "source": [
    "class Deck:\n",
    "    \n",
    "    def __init__(self):\n",
    "        \n",
    "        self.all_cards = []\n",
    "        \n",
    "        for suit in suits:\n",
    "            for rank in ranks:\n",
    "                # Here it creats the Card Object of every combination\n",
    "                created_card = Card(suit,rank)\n",
    "                \n",
    "                self.all_cards.append(created_card)\n",
    "                \n",
    "    def shuffle(self):\n",
    "        random.shuffle(self.all_cards)\n",
    "        \n",
    "    def deal_one(self):\n",
    "        return self.all_cards.pop()"
   ]
  },
  {
   "cell_type": "markdown",
   "id": "ef2576ec",
   "metadata": {},
   "source": [
    "# Cambiar __str__ para que indique la mano y suma"
   ]
  },
  {
   "cell_type": "code",
   "execution_count": 25,
   "id": "4df517eb",
   "metadata": {},
   "outputs": [],
   "source": [
    "class Player:\n",
    "    \n",
    "    def __init__(self, name, wallet):\n",
    "        \n",
    "        self.name = name\n",
    "        self.wallet = wallet\n",
    "        \n",
    "    def remove_one(self):\n",
    "        return self.all_cards.pop(0)\n",
    "    \n",
    "    def add_cards(self,new_cards):\n",
    "        if type(new_cards) == type([]):\n",
    "            self.all_cards.extend(new_cards)\n",
    "        else:\n",
    "            self.all_cards.append(new_cards)\n",
    "    def bet (self):\n",
    "        \n",
    "        player_bet = 0\n",
    "\n",
    "        print (f'Player One, you currently have ${wallet}.')\n",
    "        betting = True       \n",
    "        while betting:\n",
    "            try:\n",
    "                bet = int(input('Please enter the amount you want to bet: '))\n",
    "            except:\n",
    "                print(\"That's not a proper number\")\n",
    "            else:\n",
    "                if bet > wallet:\n",
    "                    print(\"You don't have enough cash.\")\n",
    "                    pass\n",
    "                else:\n",
    "                    print(f\"You've betted ${bet}. Game on!\")\n",
    "                    wallet = wallet - bet\n",
    "                    player_bet = bet\n",
    "                    betting = False\n",
    "                    break\n",
    "        return player_bet\n",
    "    \n",
    "    def __str__(self):\n",
    "        return f'Player {self.name} has {len(self.all_cards)} cards.'"
   ]
  },
  {
   "cell_type": "code",
   "execution_count": 44,
   "id": "e359cc71",
   "metadata": {},
   "outputs": [],
   "source": [
    "class Table:\n",
    "    # Incluye current_bet, player_hand, house_hand\n",
    "    \n",
    "    current_bet = 0\n",
    "    \n",
    "    def __init__(self, current_bet, player_hand, house_hand):\n",
    "        self.current_bet = 0\n",
    "        self.player_hand = []\n",
    "        self.house_hand = []\n",
    "    \n",
    "    def take_bet(self):\n",
    "        current_bet = player_one.bet()\n",
    "    \n",
    "    def settle_bet(self):\n",
    "        \n",
    "        if winner == \"p1\":\n",
    "            player_one.wallet = player_one.wallet + (current_bet*2)\n",
    "            print (f\"Player One, you've won ${bet*2}. \\nYour current cash is now ${player_one,wallet}\")\n",
    "        \n",
    "        else:\n",
    "            print (f\"Player One, you've lost ${bet}. \\nYour current cash is now ${player_one,wallet}\")\n",
    "            \n",
    "        current_bet = 0\n",
    "    \n",
    "    def check_result(self):\n",
    "        self.result = 'OK'\n",
    "        \n",
    "        return result"
   ]
  },
  {
   "cell_type": "code",
   "execution_count": 30,
   "id": "1e4d8e44",
   "metadata": {},
   "outputs": [],
   "source": [
    "# Game Setup\n",
    "# Crear player y su wallet\n",
    "\n",
    "player_one = Player('One', 500)\n",
    "\n",
    "current_player = 'P1'\n",
    "\n",
    "winner = ''\n",
    "\n",
    "game_on = True\n",
    "\n",
    "new_deck = Deck()\n",
    "new_deck.shuffle()\n",
    "\n",
    "round_num = 0\n"
   ]
  },
  {
   "cell_type": "code",
   "execution_count": 19,
   "id": "fc4479d2",
   "metadata": {},
   "outputs": [
    {
     "name": "stdout",
     "output_type": "stream",
     "text": [
      "Round 2\n"
     ]
    }
   ],
   "source": [
    "\n",
    "while game_on == True:\n",
    "    \n",
    "    round_num += 1\n",
    "    print(f\"Round {round_num}\")\n",
    "    \n",
    "    break #borrar este break cuando esté listo\n",
    "    \n",
    "    # check for Bust! conditions in Player and House\n",
    "    # if True => break, declare winner, settle bet y play_again() <- crear\n",
    "    # else DEAL INITIAL HAND (esto debería ser un method de Table) print de lo que haya salido\n",
    "        # ASK FOR BET (Table method) player input then remove from wallet and add to current_bet\n",
    "        # HIT or STAY (player input)\n",
    "        # If STAY => pass to house_hand, deal, check for bust, deal, check for bust, etc.\n",
    "        # If HIT => DEAL <=> Check for bust <=> Check for Win (>= a player hand)\n",
    "        # If BUST or WIN => break\n",
    "    # when break => Declare Winner, Settle Bet, play_again()"
   ]
  },
  {
   "cell_type": "code",
   "execution_count": 48,
   "id": "d98f35ec",
   "metadata": {},
   "outputs": [
    {
     "name": "stdout",
     "output_type": "stream",
     "text": [
      "Round 12\n",
      "Deal (d) or Stay (s)? s\n"
     ]
    },
    {
     "ename": "TypeError",
     "evalue": "check_result() missing 1 required positional argument: 'self'",
     "output_type": "error",
     "traceback": [
      "\u001b[1;31m---------------------------------------------------------------------------\u001b[0m",
      "\u001b[1;31mTypeError\u001b[0m                                 Traceback (most recent call last)",
      "Input \u001b[1;32mIn [48]\u001b[0m, in \u001b[0;36m<cell line: 1>\u001b[1;34m()\u001b[0m\n\u001b[0;32m     17\u001b[0m     \u001b[38;5;28;01mbreak\u001b[39;00m\n\u001b[0;32m     18\u001b[0m \u001b[38;5;28;01melse\u001b[39;00m:\n\u001b[0;32m     19\u001b[0m     \u001b[38;5;66;03m# add card to P1 hand\u001b[39;00m\n\u001b[1;32m---> 21\u001b[0m     \u001b[38;5;28;01mif\u001b[39;00m \u001b[43mTable\u001b[49m\u001b[38;5;241;43m.\u001b[39;49m\u001b[43mcheck_result\u001b[49m\u001b[43m(\u001b[49m\u001b[43m)\u001b[49m \u001b[38;5;241m==\u001b[39m \u001b[38;5;124m'\u001b[39m\u001b[38;5;124mBust\u001b[39m\u001b[38;5;124m'\u001b[39m:\n\u001b[0;32m     22\u001b[0m         \u001b[38;5;28;01mbreak\u001b[39;00m\n\u001b[0;32m     24\u001b[0m     \u001b[38;5;28;01melif\u001b[39;00m Table\u001b[38;5;241m.\u001b[39mcheck_result() \u001b[38;5;241m==\u001b[39m \u001b[38;5;124m'\u001b[39m\u001b[38;5;124mBlack Jack\u001b[39m\u001b[38;5;124m'\u001b[39m:\n",
      "\u001b[1;31mTypeError\u001b[0m: check_result() missing 1 required positional argument: 'self'"
     ]
    }
   ],
   "source": [
    "\n",
    "while game_on == True:\n",
    "    \n",
    "    round_num += 1\n",
    "    print(f\"Round {round_num}\")\n",
    "    \n",
    "    while current_player == 'P1':\n",
    "        \n",
    "        try:\n",
    "            deal_or_stay = input ('Deal (d) or Stay (s)? ').lower\n",
    "            if deal_or_stay == 'd' or deal_or_stay == 's':\n",
    "                pass\n",
    "        except:\n",
    "            print('Please type \"d\" to deal or \"s\" to stay')\n",
    "            \n",
    "        if deal_or_stay == 's':\n",
    "            current_player == 'House'\n",
    "            break\n",
    "        else:\n",
    "            # add card to P1 hand\n",
    "            \n",
    "            if Table.check_result() == 'Bust':\n",
    "                break\n",
    "                \n",
    "            elif Table.check_result() == 'Black Jack':\n",
    "                pass\n",
    "            \n",
    "            else:\n",
    "                continue\n",
    "    \n",
    "    break"
   ]
  },
  {
   "cell_type": "markdown",
   "id": "dc78ca3b",
   "metadata": {},
   "source": [
    "# Cómo resolver que el AS puede ser 1 u 11??\n",
    "### If AS in HAND?\n",
    "\n",
    "\n",
    "# Empate gana la banca, frenar si emparda"
   ]
  },
  {
   "cell_type": "code",
   "execution_count": 17,
   "id": "3a766611",
   "metadata": {},
   "outputs": [
    {
     "data": {
      "text/plain": [
       "500"
      ]
     },
     "execution_count": 17,
     "metadata": {},
     "output_type": "execute_result"
    }
   ],
   "source": [
    "player_one.wallet"
   ]
  },
  {
   "cell_type": "code",
   "execution_count": 4,
   "id": "cf6c41f7",
   "metadata": {},
   "outputs": [],
   "source": [
    "def bust_check(self):\n",
    "    checked = False\n",
    "    result = \"\"\n",
    "    while checked == False:\n",
    "        values['Ace']=11\n",
    "        \n",
    "        if self.player_hand.values >21:\n",
    "            values['Ace']=1\n",
    "            \n",
    "            if self.player_hand.values >21:\n",
    "                result = 'Bust'\n",
    "                checked = True\n",
    "            \n",
    "            else:\n",
    "                result = 'OK'\n",
    "                checked = True\n",
    "        \n",
    "        elif self.player_hand.values >21:\n",
    "            result = 'Bust'\n",
    "            checked = True\n",
    "        \n",
    "        else:\n",
    "            result = 'OK'\n",
    "            checked = True\n",
    "    \n",
    "    values['Ace']=1    \n",
    "    \n",
    "    return result\n",
    "                "
   ]
  },
  {
   "cell_type": "code",
   "execution_count": 5,
   "id": "c25d153f",
   "metadata": {},
   "outputs": [],
   "source": [
    "def bust_check(self):\n",
    "    checked = False\n",
    "    result = \"\"\n",
    "    while checked == False:\n",
    "        if 'Ace' not in self.player_hand:\n",
    "            if self.player_hand.values > 21:\n",
    "                result = 'Bust'\n",
    "                checked = True\n",
    "                break\n",
    "            else:\n",
    "                result = 'OK'\n",
    "                checked = True\n",
    "                break\n",
    "        else:\n",
    "            values['Ace'] = 11\n",
    "            if self.player_hand.values > 21:\n",
    "                values['Ace'] = 1\n",
    "                if self.player_hand.values > 21:\n",
    "                    result = 'Bust'\n",
    "                    checked = True\n",
    "                    break\n",
    "                else:\n",
    "                    result = 'OK'\n",
    "                    checked = True\n",
    "                    break\n",
    "            else:\n",
    "                values['Ace'] = 1\n",
    "                result = 'OK'\n",
    "                checked = True\n",
    "                break"
   ]
  },
  {
   "cell_type": "code",
   "execution_count": 7,
   "id": "bc21c4bf",
   "metadata": {},
   "outputs": [],
   "source": [
    "def result_check():\n",
    "    # check who's turn is it\n",
    "    # check the sum of the hand's cards values\n",
    "    # if above 21 then bust (if it has an ACE try with ACE = 11 and ACE = 1)\n",
    "    # if == 21 stop\n",
    "    # if < 21 player chooses if Stay or Deal, but House continues to Deal until >= or Bust\n",
    "    # if player's value > house's then house continues\n",
    "    # Otherwise House wins\n",
    "    pass"
   ]
  },
  {
   "cell_type": "code",
   "execution_count": null,
   "id": "96f03069",
   "metadata": {},
   "outputs": [],
   "source": []
  }
 ],
 "metadata": {
  "kernelspec": {
   "display_name": "Python 3 (ipykernel)",
   "language": "python",
   "name": "python3"
  },
  "language_info": {
   "codemirror_mode": {
    "name": "ipython",
    "version": 3
   },
   "file_extension": ".py",
   "mimetype": "text/x-python",
   "name": "python",
   "nbconvert_exporter": "python",
   "pygments_lexer": "ipython3",
   "version": "3.9.12"
  }
 },
 "nbformat": 4,
 "nbformat_minor": 5
}
