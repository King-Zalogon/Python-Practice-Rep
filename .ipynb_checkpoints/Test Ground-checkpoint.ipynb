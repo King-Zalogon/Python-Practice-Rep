{
 "cells": [
  {
   "cell_type": "code",
   "execution_count": 16,
   "id": "724c2580",
   "metadata": {},
   "outputs": [],
   "source": [
    "def play_tictac():\n",
    "    \n",
    "    import time\n",
    "    \n",
    "    from IPython.display import clear_output\n",
    "     \n",
    "    continue_playing = True\n",
    "    \n",
    "    markers = ['X', 'O']\n",
    "\n",
    "    choices = [' ', ' ', ' ', ' ', ' ', ' ', ' ', ' ', ' '] \n",
    "     \n",
    "    current_p = 1\n",
    "    \n",
    "    p1_score = [0]\n",
    "    p2_score = [0]\n",
    "\n",
    "   \n",
    "    \n",
    "    did_win = []\n",
    "    \n",
    "    p1_mark = ''\n",
    "    p2_mark = 'O'\n",
    "\n",
    "        \n",
    "### START OF THE GAME\n",
    "    \n",
    "    #Greet the player\n",
    "    print('Welcom to my Tic Tac Toe game!')\n",
    "    time.sleep(1)\n",
    "    \n",
    "    # Ask who will be X and who O\n",
    "\n",
    "\n",
    "    while p1_mark not in markers:\n",
    "        p1_mark = input('Player One, choose between \"X\" and \"O\" to be your marker: ').upper()\n",
    "\n",
    "    markers[0] = p1_mark\n",
    "\n",
    "    if p1_mark == 'O':\n",
    "        p2_mark = 'X'\n",
    "    else:\n",
    "        pass\n",
    "\n",
    "    markers[0] = p1_mark\n",
    "    markers[1] = p2_mark\n",
    "\n",
    "    print(\"\\nPlayer 1, you've chosen \"+ p1_mark + ', and Player 2 will be ' + p2_mark)\n",
    "    \n",
    "    time.sleep(1)\n",
    "    \n",
    "    \n",
    "    \n",
    "    # Start the game itself\n",
    "    while continue_playing == True:\n",
    "                \n",
    "        \n",
    "        # While game not new show current score:\n",
    "        print('\\nThe current score is: \\nPlayer 1: '+ str(p1_score) + ' points | VS | Player 2: ' + str(p2_score) + ' points')\n",
    "\n",
    "        time.sleep(1)\n",
    "\n",
    "        # Display Board\n",
    "        board = ' '+choices[0]+' || '+choices[1]+' || '+choices[2]+'\\n=============\\n'+' '+choices[3]+' || '+choices[4]+' || '+choices[5]+'\\n=============\\n'+' '+choices[6]+' || '+choices[7]+' || '+choices[8]\n",
    "        print (board)\n",
    "        \n",
    "        time.sleep(1)\n",
    "        \n",
    "                \n",
    "        while 'Yes' not in did_win:\n",
    "                    \n",
    "            # Ask current player for input\n",
    "\n",
    "            mark = markers[current_p-1]\n",
    "            squares = [1,2,3,4,5,6,7,8,9]\n",
    "            acceptable = False\n",
    "            print('\\nReady Player '+ str(current_p) + '!')\n",
    "\n",
    "            is_int = False\n",
    "            is_range = False\n",
    "            is_free = False\n",
    "\n",
    "            valid = is_int and is_range and is_free\n",
    "\n",
    "\n",
    "            while valid == False:\n",
    "                time.sleep(1)\n",
    "\n",
    "                choice = input ('Select a square from 1 to 9: \\n 1|2|3 \\n 4|5|6 \\n 7|8|9 \\n')\n",
    "\n",
    "                try:\n",
    "                    choice == int(choice)\n",
    "                    is_int = True\n",
    "                except:\n",
    "                    is_int = False\n",
    "                    print ('Not Int')\n",
    "                    continue\n",
    "\n",
    "                if int(choice) in squares:\n",
    "                    is_range = True\n",
    "\n",
    "                else:\n",
    "                    is_range = False\n",
    "                    print ('Not in range 1 to 9')\n",
    "                    continue\n",
    "\n",
    "                if choices [int(choice)-1] == \" \":\n",
    "                    is_free = True\n",
    "\n",
    "                else:\n",
    "                    is_fee = False\n",
    "                    print ('Square already claimed')\n",
    "                    continue\n",
    "\n",
    "                valid = is_int and is_range and is_free\n",
    "\n",
    "                if valid == True:\n",
    "                    break\n",
    "                else:\n",
    "                    continue\n",
    "\n",
    "\n",
    "            choices [int(choice)-1] = mark\n",
    "\n",
    "            print('\\nSquare '+str(choice)+' is now '+mark)\n",
    "    \n",
    "            time.sleep(1)\n",
    "\n",
    "            # Update Board and display it\n",
    "            clear_output()\n",
    "            board = ' '+choices[0]+' || '+choices[1]+' || '+choices[2]+'\\n=============\\n'+' '+choices[3]+' || '+choices[4]+' || '+choices[5]+'\\n=============\\n'+' '+choices[6]+' || '+choices[7]+' || '+choices[8]\n",
    "            print (board)\n",
    "\n",
    "            time.sleep(1)\n",
    "\n",
    "            # Check if they win\n",
    "            \n",
    "            #winning = ([0,1,2], [3,4,5], [6,7,8], [0,3,6], [1,4,7], [2,5,8], [0,4,8], [2,4,6])\n",
    "            winning = ([0,0,0], [3,4,5], [6,7,8], [0,3,6], [1,4,7], [2,5,8], [0,4,8], [2,4,6])\n",
    "\n",
    "            line = False\n",
    "            for lst in winning:\n",
    "\n",
    "                k = lst\n",
    "\n",
    "                if (choices[k[0]] == choices[k[1]] == choices[k[2]] == markers[current_p-1]) != True:\n",
    "                    pass\n",
    "\n",
    "                else:\n",
    "                    line = True\n",
    "\n",
    "                    break\n",
    "\n",
    "            if line == False:\n",
    "\n",
    "                time.sleep(1)\n",
    "                current_p = current_p%2+1\n",
    "                print('\\nNEXT PLAYER!')\n",
    "\n",
    "            elif line == True:\n",
    "\n",
    "                print('\\nGAME OVER')\n",
    "                did_win.append('Yes')\n",
    "\n",
    "\n",
    "            else:\n",
    "                print('\\nLine not returning as T or F')\n",
    "                time.sleep(1)\n",
    "\n",
    "\n",
    "                \n",
    "        \n",
    "\n",
    "        \n",
    "        if current_p == 1:\n",
    "            p1_score[0] = (p1_score[0]+1)\n",
    "            print('Player One Wins!')\n",
    "            time.sleep(1)\n",
    "\n",
    "        elif current_p == 2:\n",
    "            p2_score[0] = (p2_score[0]+1)\n",
    "            print('Player Two Wins!')\n",
    "            time.sleep(1)\n",
    "\n",
    "        else:\n",
    "            pass\n",
    "        \n",
    "        \n",
    "        print('Congratz! \\nDo you wish to continue playing? (Y/N)?')\n",
    "        insert_coin = input('').upper()\n",
    "        \n",
    "        choices = [' ', ' ', ' ', ' ', ' ', ' ', ' ', ' ', ' '] \n",
    "        current_p = 1\n",
    "        did_win = []\n",
    "        p1_mark = ''\n",
    "        p2_mark = 'O'\n",
    "        \n",
    "        if insert_coin == \"Y\":\n",
    "            print('Alright! Game on!')\n",
    "            #Reseteo de valores\n",
    "\n",
    "            continue_playing = True\n",
    "        \n",
    "        else:\n",
    "            print('\\nThe final score is: \\nPlayer 1: '+ str(p1_score) + ' points | VS | Player 2: ' + str(p2_score) + ' points')\n",
    "            print('Thank you for playing! \\nBye bye!')\n",
    "            continue_playing = False\n",
    "        \n"
   ]
  },
  {
   "cell_type": "code",
   "execution_count": 17,
   "id": "60732e68",
   "metadata": {},
   "outputs": [
    {
     "name": "stdout",
     "output_type": "stream",
     "text": [
      " O ||   ||  \n",
      "=============\n",
      " X ||   ||  \n",
      "=============\n",
      "   ||   ||  \n",
      "\n",
      "GAME OVER\n",
      "Player Two Wins!\n",
      "Congratz! \n",
      "Do you wish to continue playing? (Y/N)?\n",
      "n\n",
      "\n",
      "The final score is: \n",
      "Player 1: [0] points | VS | Player 2: [1] points\n",
      "Thank you for playing! \n",
      "Bye bye!\n"
     ]
    }
   ],
   "source": [
    "play_tictac()"
   ]
  },
  {
   "cell_type": "code",
   "execution_count": 199,
   "id": "1f769751",
   "metadata": {},
   "outputs": [],
   "source": [
    "class Chips:\n",
    "    \n",
    "    def __init__(self):\n",
    "        self.total = int(input ('Blah enter total :'))\n",
    "        self.bet = 0\n",
    "        \n",
    "    def __str__(self):\n",
    "        return f'{self.total}'\n",
    "\n",
    "    def win_bet(self):\n",
    "        self.total = self.total + self.bet\n",
    "        self.bet = 0\n",
    "    \n",
    "    def lose_bet(self):\n",
    "        self.total = self.total - self.bet\n",
    "        self.bet = 0\n",
    "                \n",
    "        "
   ]
  },
  {
   "cell_type": "code",
   "execution_count": 200,
   "id": "b60b3250",
   "metadata": {},
   "outputs": [
    {
     "name": "stdout",
     "output_type": "stream",
     "text": [
      "Blah enter total :100\n"
     ]
    }
   ],
   "source": [
    "my_chips = Chips()"
   ]
  },
  {
   "cell_type": "code",
   "execution_count": 201,
   "id": "af1471c7",
   "metadata": {},
   "outputs": [
    {
     "name": "stdout",
     "output_type": "stream",
     "text": [
      "100\n"
     ]
    }
   ],
   "source": [
    "print (my_chips)"
   ]
  },
  {
   "cell_type": "code",
   "execution_count": 202,
   "id": "94dfb34a",
   "metadata": {
    "scrolled": true
   },
   "outputs": [
    {
     "data": {
      "text/plain": [
       "0"
      ]
     },
     "execution_count": 202,
     "metadata": {},
     "output_type": "execute_result"
    }
   ],
   "source": [
    "my_chips.bet"
   ]
  },
  {
   "cell_type": "code",
   "execution_count": 203,
   "id": "e415760a",
   "metadata": {},
   "outputs": [
    {
     "data": {
      "text/plain": [
       "int"
      ]
     },
     "execution_count": 203,
     "metadata": {},
     "output_type": "execute_result"
    }
   ],
   "source": [
    "type(my_chips.total)"
   ]
  },
  {
   "cell_type": "code",
   "execution_count": 204,
   "id": "d9a131e4",
   "metadata": {},
   "outputs": [
    {
     "data": {
      "text/plain": [
       "100"
      ]
     },
     "execution_count": 204,
     "metadata": {},
     "output_type": "execute_result"
    }
   ],
   "source": [
    "my_chips.total"
   ]
  },
  {
   "cell_type": "code",
   "execution_count": 206,
   "id": "4d8481d3",
   "metadata": {},
   "outputs": [],
   "source": [
    "def take_bet():\n",
    "    print (f'You currently have {my_chips.total} chips')\n",
    "    n = 0\n",
    "    tested = False\n",
    "    \n",
    "    while tested == False:\n",
    "        my_bet = input ('Enter the amount you want to bet: ')\n",
    "        \n",
    "        try:\n",
    "            if int(my_bet) <= int(my_chips.total):\n",
    "                print ('Bet is right ammount')\n",
    "                break\n",
    "            else:\n",
    "                print('Bet is to high')\n",
    "        except:\n",
    "            print('Bet not a number')\n",
    "            \n",
    "        finally:\n",
    "            n += 1\n",
    "            print (f'Loop {n}')\n",
    "\n",
    "\n",
    "    my_bet = int(my_bet)\n",
    "    my_chips.bet = my_chips.bet + my_bet\n",
    "    print (f\"Your current bet is {my_chips.bet}.\")"
   ]
  },
  {
   "cell_type": "code",
   "execution_count": 207,
   "id": "4853d1d5",
   "metadata": {
    "scrolled": false
   },
   "outputs": [
    {
     "name": "stdout",
     "output_type": "stream",
     "text": [
      "You currently have 100 chips\n",
      "Enter the amount you want to bet: asdasd\n",
      "Bet not a number\n",
      "Loop 1\n",
      "Enter the amount you want to bet: asdasd\n",
      "Bet not a number\n",
      "Loop 2\n",
      "Enter the amount you want to bet: asdasd\n",
      "Bet not a number\n",
      "Loop 3\n",
      "Enter the amount you want to bet: 1234\n",
      "Bet is to high\n",
      "Loop 4\n",
      "Enter the amount you want to bet: 12345\n",
      "Bet is to high\n",
      "Loop 5\n",
      "Enter the amount you want to bet: asdasd\n",
      "Bet not a number\n",
      "Loop 6\n",
      "Enter the amount you want to bet: 123124\n",
      "Bet is to high\n",
      "Loop 7\n",
      "Enter the amount you want to bet: asdas\n",
      "Bet not a number\n",
      "Loop 8\n",
      "Enter the amount you want to bet: 123123\n",
      "Bet is to high\n",
      "Loop 9\n",
      "Enter the amount you want to bet: 5\n",
      "Bet is right ammount\n",
      "Loop 10\n",
      "Your current bet is 5.\n"
     ]
    }
   ],
   "source": [
    "take_bet()"
   ]
  },
  {
   "cell_type": "code",
   "execution_count": 208,
   "id": "0d1e1b76",
   "metadata": {},
   "outputs": [
    {
     "data": {
      "text/plain": [
       "5"
      ]
     },
     "execution_count": 208,
     "metadata": {},
     "output_type": "execute_result"
    }
   ],
   "source": [
    "my_chips.bet"
   ]
  },
  {
   "cell_type": "code",
   "execution_count": 1,
   "id": "fb26cb70",
   "metadata": {},
   "outputs": [
    {
     "name": "stdout",
     "output_type": "stream",
     "text": [
      "Choose between HIT (type 'H') or STAND (type 'S'): h\n"
     ]
    }
   ],
   "source": [
    "player_choice = input(\"Choose between HIT (type 'H') or STAND (type 'S'): \").upper"
   ]
  },
  {
   "cell_type": "code",
   "execution_count": 2,
   "id": "63b32b5d",
   "metadata": {},
   "outputs": [
    {
     "data": {
      "text/plain": [
       "<function str.upper()>"
      ]
     },
     "execution_count": 2,
     "metadata": {},
     "output_type": "execute_result"
    }
   ],
   "source": [
    "player_choice"
   ]
  },
  {
   "cell_type": "code",
   "execution_count": 3,
   "id": "ecceb74a",
   "metadata": {},
   "outputs": [
    {
     "name": "stdout",
     "output_type": "stream",
     "text": [
      "<built-in method upper of str object at 0x00000190FBE032F0>\n"
     ]
    }
   ],
   "source": [
    "print (player_choice)"
   ]
  },
  {
   "cell_type": "code",
   "execution_count": 19,
   "id": "e21c00c2",
   "metadata": {},
   "outputs": [
    {
     "name": "stdout",
     "output_type": "stream",
     "text": [
      "Choose between HIT (type 'H') or STAND (type 'S'): h\n"
     ]
    }
   ],
   "source": [
    "zaraza = input(\"Choose between HIT (type 'H') or STAND (type 'S'): \").upper()"
   ]
  },
  {
   "cell_type": "code",
   "execution_count": 20,
   "id": "a6a7e32b",
   "metadata": {},
   "outputs": [
    {
     "data": {
      "text/plain": [
       "str"
      ]
     },
     "execution_count": 20,
     "metadata": {},
     "output_type": "execute_result"
    }
   ],
   "source": [
    "type(zaraza)"
   ]
  },
  {
   "cell_type": "code",
   "execution_count": 7,
   "id": "09f951f9",
   "metadata": {},
   "outputs": [],
   "source": [
    "s_list = []"
   ]
  },
  {
   "cell_type": "code",
   "execution_count": 8,
   "id": "37493b77",
   "metadata": {},
   "outputs": [],
   "source": [
    "s_list.append(zaraza)"
   ]
  },
  {
   "cell_type": "code",
   "execution_count": 9,
   "id": "922a0ff5",
   "metadata": {},
   "outputs": [
    {
     "data": {
      "text/plain": [
       "[<function str.upper()>]"
      ]
     },
     "execution_count": 9,
     "metadata": {},
     "output_type": "execute_result"
    }
   ],
   "source": [
    "s_list"
   ]
  },
  {
   "cell_type": "code",
   "execution_count": 21,
   "id": "ea92fd51",
   "metadata": {},
   "outputs": [
    {
     "data": {
      "text/plain": [
       "'H'"
      ]
     },
     "execution_count": 21,
     "metadata": {},
     "output_type": "execute_result"
    }
   ],
   "source": [
    "zaraza"
   ]
  },
  {
   "cell_type": "code",
   "execution_count": 2,
   "id": "27ae87cf",
   "metadata": {},
   "outputs": [
    {
     "name": "stdout",
     "output_type": "stream",
     "text": [
      "0\n",
      "1\n",
      "2\n",
      "3\n",
      "4\n"
     ]
    }
   ],
   "source": [
    "for n in range(5):\n",
    "    print(n)"
   ]
  },
  {
   "cell_type": "code",
   "execution_count": null,
   "id": "b8a3aa9f",
   "metadata": {},
   "outputs": [],
   "source": []
  }
 ],
 "metadata": {
  "kernelspec": {
   "display_name": "Python 3 (ipykernel)",
   "language": "python",
   "name": "python3"
  },
  "language_info": {
   "codemirror_mode": {
    "name": "ipython",
    "version": 3
   },
   "file_extension": ".py",
   "mimetype": "text/x-python",
   "name": "python",
   "nbconvert_exporter": "python",
   "pygments_lexer": "ipython3",
   "version": "3.9.12"
  }
 },
 "nbformat": 4,
 "nbformat_minor": 5
}
