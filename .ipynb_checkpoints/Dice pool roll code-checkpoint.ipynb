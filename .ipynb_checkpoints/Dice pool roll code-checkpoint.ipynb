{
 "cells": [
  {
   "cell_type": "code",
   "execution_count": 1,
   "id": "aa712549",
   "metadata": {},
   "outputs": [
    {
     "name": "stdout",
     "output_type": "stream",
     "text": [
      "What's your dice pool?8\n",
      "[6, 8, 7, 3, 5, 2, 4, 2, 10]\n"
     ]
    }
   ],
   "source": [
    "from random import randint\n",
    "dicepool = int(input (\"What's your dice pool?\"))\n",
    "roll = []\n",
    "diceadded = 0\n",
    "while diceadded <= dicepool:\n",
    "    diceadded = diceadded+1\n",
    "    roll.append(randint(1,10))\n",
    "                \n",
    "else:\n",
    "    print (roll)"
   ]
  },
  {
   "cell_type": "code",
   "execution_count": 12,
   "id": "d80dd580",
   "metadata": {},
   "outputs": [
    {
     "name": "stdout",
     "output_type": "stream",
     "text": [
      "How many faces do your dice have? 8\n",
      "What's your dice pool? 5\n",
      "You rolled 5d8\n",
      "Your results are:[3, 8, 3, 5, 6]\n"
     ]
    }
   ],
   "source": [
    "from random import randint\n",
    "dicetype = int(input (\"How many faces do your dice have? \"))\n",
    "dicepool = int(input (\"What's your dice pool? \"))\n",
    "roll = []\n",
    "diceadded = 0\n",
    "while diceadded < dicepool:\n",
    "    diceadded = diceadded+1\n",
    "    roll.append(randint(1,(dicetype)))\n",
    "                \n",
    "else:\n",
    "    print ('You rolled {}d{}'.format (dicepool,dicetype))\n",
    "    print ('Your results are:{}'.format(roll))"
   ]
  },
  {
   "cell_type": "code",
   "execution_count": 1,
   "id": "4546c21c",
   "metadata": {},
   "outputs": [
    {
     "name": "stdout",
     "output_type": "stream",
     "text": [
      "How many faces do your dice have? 6\n",
      "What's your dice pool? 4\n",
      "You rolled 4d6\n",
      "Your results are:[4, 4, 2, 6]\n"
     ]
    }
   ],
   "source": [
    "from random import randint\n",
    "dicetype = int(input (\"How many faces do your dice have? \"))\n",
    "dicepool = int(input (\"What's your dice pool? \"))\n",
    "roll = []\n",
    "diceadded = 0\n",
    "while diceadded < dicepool:\n",
    "    diceadded = diceadded+1\n",
    "    roll.append(randint(1,(dicetype)))\n",
    "                \n",
    "else:\n",
    "    print ('You rolled {}d{}'.format (dicepool,dicetype))\n",
    "    print ('Your results are:{}'.format(roll))"
   ]
  },
  {
   "cell_type": "code",
   "execution_count": 12,
   "id": "b8a2dac7",
   "metadata": {},
   "outputs": [
    {
     "name": "stdout",
     "output_type": "stream",
     "text": [
      "How many faces do your dice have? 10\n",
      "What's your dice pool? 8\n",
      "Do you need the sum of the dice results (enter A)? or Do you need to compare it agains a target number (enter B)? or both (enter C)? c\n",
      "What's the target number? 6\n",
      "You rolled 8 D 10 dice(s), with a difficulty of 6 , scored 6 successe(s) and the sum of your dice results is 60\n"
     ]
    }
   ],
   "source": [
    "from random import randrange\n",
    "\n",
    "d_size = int(input(\"How many faces do your dice have? \"))\n",
    "d_numb = int(input(\"What's your dice pool? \"))\n",
    "d_type = (str(input(\"Do you need the sum of the dice results (enter A)? or Do you need to compare it agains a target number (enter B)? or both (enter C)? \"))).lower()\n",
    "\n",
    "if d_type == 'b' or d_type == 'c':\n",
    "    d_diff = int(input(\"What's the target number? \"))\n",
    "\n",
    "numb = 0\n",
    "results = []\n",
    "successess = 0\n",
    "d_sum = 0\n",
    "\n",
    "while numb < d_numb:\n",
    "    result = randrange(1,(d_size + 1))\n",
    "    results.append(result)\n",
    "    numb += 1\n",
    "\n",
    "if d_type == 'b' or d_type == 'c':\n",
    "    for result in results:\n",
    "        if result >= d_diff:\n",
    "            successess +=1\n",
    "if d_type == 'a' or d_type == 'c':\n",
    "    d_sum = sum(results)\n",
    "\n",
    "if d_type == 'a':\n",
    "    print ('You rolled', d_numb,'D',d_size,'dice(s) and the sum of your dice results is', d_sum)\n",
    "elif d_type == 'b':\n",
    "    print ('You rolled', d_numb,'D',d_size,'dice(s), with a difficulty of', d_diff, 'and scored', successess,'successe(s)')\n",
    "else:\n",
    "    print ('You rolled', d_numb,'D',d_size,'dice(s), with a difficulty of', d_diff,', scored', successess,'successe(s) and the sum of your dice results is', d_sum)\n",
    "\n"
   ]
  },
  {
   "cell_type": "code",
   "execution_count": 13,
   "id": "2c7de55f",
   "metadata": {},
   "outputs": [
    {
     "name": "stdout",
     "output_type": "stream",
     "text": [
      "[9, 2, 10, 5, 8, 9, 9, 8]\n",
      "60\n"
     ]
    }
   ],
   "source": [
    "print (results)\n",
    "print (d_sum)"
   ]
  },
  {
   "cell_type": "code",
   "execution_count": null,
   "id": "27bb3c0e",
   "metadata": {},
   "outputs": [],
   "source": []
  }
 ],
 "metadata": {
  "kernelspec": {
   "display_name": "Python 3 (ipykernel)",
   "language": "python",
   "name": "python3"
  },
  "language_info": {
   "codemirror_mode": {
    "name": "ipython",
    "version": 3
   },
   "file_extension": ".py",
   "mimetype": "text/x-python",
   "name": "python",
   "nbconvert_exporter": "python",
   "pygments_lexer": "ipython3",
   "version": "3.9.12"
  }
 },
 "nbformat": 4,
 "nbformat_minor": 5
}
