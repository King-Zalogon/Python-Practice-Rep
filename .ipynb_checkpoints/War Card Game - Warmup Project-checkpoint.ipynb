{
 "cells": [
  {
   "cell_type": "markdown",
   "id": "ec6c02cd",
   "metadata": {},
   "source": [
    "## Simple War Game\n",
    "\n",
    "Before we launch in to the OOP Milestone 2 Project, let's walk through together on using OOP for a more robust and complex application, such as a game. We will use Python OOP to simulate a simplified version of the game war. Two players will each start off with half the deck, then they each remove a card, compare which card has the highest value, and the player with the higher card wins both cards. In the event of a time\n"
   ]
  },
  {
   "cell_type": "markdown",
   "id": "98a6a2ed",
   "metadata": {},
   "source": [
    "## Single Card Class\n",
    "\n",
    "### Creating a Card Class with outside variables\n",
    "\n",
    "Here we will use some outside variables that we know don't change regardless of the situation, such as a deck of cards. Regardless of what round,match, or game we're playing, we'll still need the same deck of cards."
   ]
  },
  {
   "cell_type": "markdown",
   "id": "03aee93c",
   "metadata": {},
   "source": [
    "# Card Class\n",
    "# Deck Class\n",
    "# Player Class\n",
    "# Game Logic"
   ]
  },
  {
   "cell_type": "markdown",
   "id": "52775df1",
   "metadata": {},
   "source": [
    "### Card Class"
   ]
  },
  {
   "cell_type": "code",
   "execution_count": 1,
   "id": "9f90197f",
   "metadata": {},
   "outputs": [],
   "source": [
    "# CARD\n",
    "# SUIT, RANK, VALUE"
   ]
  },
  {
   "cell_type": "code",
   "execution_count": 70,
   "id": "81dfacfa",
   "metadata": {},
   "outputs": [],
   "source": [
    "import random\n",
    "\n",
    "suits = ('Hearts', 'Diamonds', 'Spades', 'Clubs')\n",
    "ranks = ('Two', 'Three', 'Four', 'Five', 'Six', 'Seven', 'Eight', 'Nine', 'Ten', 'Jack', 'Queen', 'King', 'Ace')\n",
    "values = {'Two':2, 'Three':3, 'Four':4, 'Five':5, 'Six':6, 'Seven':7, 'Eight':8, \n",
    "            'Nine':9, 'Ten':10, 'Jack':11, 'Queen':12, 'King':13, 'Ace':14}"
   ]
  },
  {
   "cell_type": "code",
   "execution_count": 71,
   "id": "e472125e",
   "metadata": {},
   "outputs": [],
   "source": [
    "class Card:\n",
    "    \n",
    "    def __init__(self, suit, rank):\n",
    "        self.suit = suit\n",
    "        self.rank = rank\n",
    "        self.value = values[rank]\n",
    "        \n",
    "    def __str__(self):\n",
    "        return self.rank + \" of \" + self.suit"
   ]
  },
  {
   "cell_type": "code",
   "execution_count": 16,
   "id": "7a1b0999",
   "metadata": {},
   "outputs": [],
   "source": [
    "two_hearts = Card('Hearts', 'Two')"
   ]
  },
  {
   "cell_type": "code",
   "execution_count": 7,
   "id": "9aa27a94",
   "metadata": {},
   "outputs": [
    {
     "name": "stdout",
     "output_type": "stream",
     "text": [
      "Two of Hearts\n"
     ]
    }
   ],
   "source": [
    "print (two_hearts)"
   ]
  },
  {
   "cell_type": "code",
   "execution_count": 8,
   "id": "572162c4",
   "metadata": {},
   "outputs": [
    {
     "data": {
      "text/plain": [
       "'Hearts'"
      ]
     },
     "execution_count": 8,
     "metadata": {},
     "output_type": "execute_result"
    }
   ],
   "source": [
    "two_hearts.suit"
   ]
  },
  {
   "cell_type": "code",
   "execution_count": 9,
   "id": "1b2d2fc9",
   "metadata": {},
   "outputs": [
    {
     "data": {
      "text/plain": [
       "'Two'"
      ]
     },
     "execution_count": 9,
     "metadata": {},
     "output_type": "execute_result"
    }
   ],
   "source": [
    "two_hearts.rank"
   ]
  },
  {
   "cell_type": "code",
   "execution_count": 10,
   "id": "da9595f0",
   "metadata": {},
   "outputs": [],
   "source": []
  },
  {
   "cell_type": "code",
   "execution_count": 11,
   "id": "a4c29ecc",
   "metadata": {},
   "outputs": [
    {
     "data": {
      "text/plain": [
       "2"
      ]
     },
     "execution_count": 11,
     "metadata": {},
     "output_type": "execute_result"
    }
   ],
   "source": [
    "values[two_hearts.rank]"
   ]
  },
  {
   "cell_type": "code",
   "execution_count": 14,
   "id": "3383667a",
   "metadata": {},
   "outputs": [],
   "source": [
    "three_clubs = Card('Clubs','Three')"
   ]
  },
  {
   "cell_type": "code",
   "execution_count": 15,
   "id": "dfde6ebb",
   "metadata": {},
   "outputs": [
    {
     "data": {
      "text/plain": [
       "3"
      ]
     },
     "execution_count": 15,
     "metadata": {},
     "output_type": "execute_result"
    }
   ],
   "source": [
    "three_clubs.value"
   ]
  },
  {
   "cell_type": "code",
   "execution_count": 17,
   "id": "92fb145f",
   "metadata": {},
   "outputs": [
    {
     "data": {
      "text/plain": [
       "True"
      ]
     },
     "execution_count": 17,
     "metadata": {},
     "output_type": "execute_result"
    }
   ],
   "source": [
    "two_hearts.value < three_clubs.value"
   ]
  },
  {
   "cell_type": "markdown",
   "id": "3a4d87a8",
   "metadata": {},
   "source": [
    "### Deck Class\n",
    "\n",
    "Instatiate a new deck\n",
    "    Creat all 53 Card objects\n",
    "    Hold as a list of Card objects\n",
    "Shuffle a Deck through a method call\n",
    "    Rando library shuffle() function\n",
    "Deal cards from the Deck object\n",
    "    Pop method from card list"
   ]
  },
  {
   "cell_type": "code",
   "execution_count": 72,
   "id": "e19c812f",
   "metadata": {},
   "outputs": [],
   "source": [
    "class Deck:\n",
    "    \n",
    "    def __init__(self):\n",
    "        \n",
    "        self.all_cards = []\n",
    "        \n",
    "        for suit in suits:\n",
    "            for rank in ranks:\n",
    "                # Here it creats the Card Object of every combination\n",
    "                created_card = Card(suit,rank)\n",
    "                \n",
    "                self.all_cards.append(created_card)\n",
    "                \n",
    "    def shuffle(self):\n",
    "        random.shuffle(self.all_cards)\n",
    "        \n",
    "    def deal_one(self):\n",
    "        return self.all_cards.pop()"
   ]
  },
  {
   "cell_type": "code",
   "execution_count": 73,
   "id": "39b95551",
   "metadata": {},
   "outputs": [],
   "source": [
    "new_deck = Deck()"
   ]
  },
  {
   "cell_type": "code",
   "execution_count": 41,
   "id": "8121e307",
   "metadata": {},
   "outputs": [],
   "source": [
    "first_card = new_deck.all_cards[0]\n",
    "last_card = new_deck.all_cards[-1]"
   ]
  },
  {
   "cell_type": "code",
   "execution_count": 74,
   "id": "3c9bb40c",
   "metadata": {},
   "outputs": [
    {
     "name": "stdout",
     "output_type": "stream",
     "text": [
      "Two of Hearts\n",
      "Ace of Clubs\n"
     ]
    }
   ],
   "source": [
    "print(first_card)\n",
    "print(last_card)"
   ]
  },
  {
   "cell_type": "code",
   "execution_count": 75,
   "id": "f08aba76",
   "metadata": {},
   "outputs": [
    {
     "name": "stdout",
     "output_type": "stream",
     "text": [
      "Two of Hearts\n",
      "Three of Hearts\n",
      "Four of Hearts\n",
      "Five of Hearts\n",
      "Six of Hearts\n",
      "Seven of Hearts\n",
      "Eight of Hearts\n",
      "Nine of Hearts\n",
      "Ten of Hearts\n",
      "Jack of Hearts\n",
      "Queen of Hearts\n",
      "King of Hearts\n",
      "Ace of Hearts\n",
      "Two of Diamonds\n",
      "Three of Diamonds\n",
      "Four of Diamonds\n",
      "Five of Diamonds\n",
      "Six of Diamonds\n",
      "Seven of Diamonds\n",
      "Eight of Diamonds\n",
      "Nine of Diamonds\n",
      "Ten of Diamonds\n",
      "Jack of Diamonds\n",
      "Queen of Diamonds\n",
      "King of Diamonds\n",
      "Ace of Diamonds\n",
      "Two of Spades\n",
      "Three of Spades\n",
      "Four of Spades\n",
      "Five of Spades\n",
      "Six of Spades\n",
      "Seven of Spades\n",
      "Eight of Spades\n",
      "Nine of Spades\n",
      "Ten of Spades\n",
      "Jack of Spades\n",
      "Queen of Spades\n",
      "King of Spades\n",
      "Ace of Spades\n",
      "Two of Clubs\n",
      "Three of Clubs\n",
      "Four of Clubs\n",
      "Five of Clubs\n",
      "Six of Clubs\n",
      "Seven of Clubs\n",
      "Eight of Clubs\n",
      "Nine of Clubs\n",
      "Ten of Clubs\n",
      "Jack of Clubs\n",
      "Queen of Clubs\n",
      "King of Clubs\n",
      "Ace of Clubs\n"
     ]
    }
   ],
   "source": [
    "for card_object in new_deck.all_cards:\n",
    "    print(card_object)"
   ]
  },
  {
   "cell_type": "code",
   "execution_count": 76,
   "id": "bd0301ad",
   "metadata": {},
   "outputs": [],
   "source": [
    "new_deck.shuffle()"
   ]
  },
  {
   "cell_type": "code",
   "execution_count": 77,
   "id": "4a966540",
   "metadata": {},
   "outputs": [
    {
     "name": "stdout",
     "output_type": "stream",
     "text": [
      "King of Clubs\n",
      "Six of Clubs\n"
     ]
    }
   ],
   "source": [
    "print (new_deck.all_cards[0])\n",
    "print (new_deck.all_cards[-1])"
   ]
  },
  {
   "cell_type": "code",
   "execution_count": 78,
   "id": "0923fe11",
   "metadata": {},
   "outputs": [
    {
     "name": "stdout",
     "output_type": "stream",
     "text": [
      "King of Clubs\n",
      "King of Hearts\n",
      "Two of Spades\n",
      "Nine of Spades\n",
      "Eight of Hearts\n",
      "Seven of Spades\n",
      "Eight of Diamonds\n",
      "Five of Spades\n",
      "Four of Spades\n",
      "Ace of Clubs\n",
      "Queen of Diamonds\n",
      "Nine of Hearts\n",
      "Jack of Hearts\n",
      "King of Diamonds\n",
      "Five of Diamonds\n",
      "Six of Diamonds\n",
      "Ten of Clubs\n",
      "Queen of Hearts\n",
      "Two of Clubs\n",
      "Jack of Diamonds\n",
      "Ten of Diamonds\n",
      "Four of Clubs\n",
      "Seven of Hearts\n",
      "Three of Hearts\n",
      "Ace of Hearts\n",
      "Seven of Diamonds\n",
      "Four of Hearts\n",
      "Five of Hearts\n",
      "Ten of Spades\n",
      "Six of Hearts\n",
      "Six of Spades\n",
      "Ace of Spades\n",
      "Seven of Clubs\n",
      "Three of Clubs\n",
      "Eight of Spades\n",
      "Ten of Hearts\n",
      "Queen of Spades\n",
      "Eight of Clubs\n",
      "Two of Hearts\n",
      "Ace of Diamonds\n",
      "Queen of Clubs\n",
      "Four of Diamonds\n",
      "Jack of Spades\n",
      "Three of Spades\n",
      "King of Spades\n",
      "Nine of Diamonds\n",
      "Jack of Clubs\n",
      "Five of Clubs\n",
      "Nine of Clubs\n",
      "Two of Diamonds\n",
      "Three of Diamonds\n",
      "Six of Clubs\n"
     ]
    }
   ],
   "source": [
    "for card_object in new_deck.all_cards:\n",
    "    print(card_object)"
   ]
  },
  {
   "cell_type": "code",
   "execution_count": 79,
   "id": "b173716d",
   "metadata": {},
   "outputs": [],
   "source": [
    "mycard = new_deck.deal_one()"
   ]
  },
  {
   "cell_type": "code",
   "execution_count": 80,
   "id": "49ea6657",
   "metadata": {},
   "outputs": [
    {
     "name": "stdout",
     "output_type": "stream",
     "text": [
      "Six of Clubs\n"
     ]
    }
   ],
   "source": [
    "print(mycard)"
   ]
  },
  {
   "cell_type": "code",
   "execution_count": 81,
   "id": "9afa9a68",
   "metadata": {},
   "outputs": [
    {
     "data": {
      "text/plain": [
       "51"
      ]
     },
     "execution_count": 81,
     "metadata": {},
     "output_type": "execute_result"
    }
   ],
   "source": [
    "len(new_deck.all_cards)"
   ]
  },
  {
   "cell_type": "markdown",
   "id": "026e4f89",
   "metadata": {},
   "source": [
    "### Player Class\n",
    "\n",
    "-Can hold the player's current list of cards\n",
    "-Should be able to add or remove single or multiple cards from their \"hand\" (list of Card objects).\n",
    "-Must remove from the \"Top\" of the deck, and add to the \"Bottom\" of it. We have to translate that to the list's handling\n",
    "Being list[0] the top and list[-1] the bottom\n",
    "\n",
    "To play top card -> cards.pop(0)\n",
    "\n",
    "To add at bottom card -> cards.append(card)\n",
    "\n",
    "To add multiple cards -> cards.extend(list_of_new_items) DONT USE APPEND TO ADD A LIST (it adds a nested list within the other list) "
   ]
  },
  {
   "cell_type": "code",
   "execution_count": 82,
   "id": "17b8a67a",
   "metadata": {},
   "outputs": [],
   "source": [
    "class Player:\n",
    "    \n",
    "    def __init__(self, name):\n",
    "        \n",
    "        self.name = name\n",
    "        self.all_cards = []\n",
    "        \n",
    "    def remove(self):\n",
    "        return self.all_cards.pop(0)\n",
    "    \n",
    "    def add_cards(self,new_cards):\n",
    "        if type(new_cards == type([])):\n",
    "            self.all_cards.extend(new_cards)\n",
    "        else:\n",
    "            self.all_cards.append(new_cards)\n",
    "    \n",
    "    def __str__(self):\n",
    "        return f'Player {self.name} has {len(self.all_cards)} cards.'\n",
    "    "
   ]
  },
  {
   "cell_type": "code",
   "execution_count": 83,
   "id": "e882a5bc",
   "metadata": {},
   "outputs": [],
   "source": [
    "new_player = Player ('Zalo')"
   ]
  },
  {
   "cell_type": "code",
   "execution_count": 84,
   "id": "6ff9cacb",
   "metadata": {},
   "outputs": [
    {
     "name": "stdout",
     "output_type": "stream",
     "text": [
      "Player Zalo has 0 cards.\n"
     ]
    }
   ],
   "source": [
    "print (new_player)"
   ]
  },
  {
   "cell_type": "code",
   "execution_count": 85,
   "id": "a8432aa1",
   "metadata": {},
   "outputs": [
    {
     "ename": "TypeError",
     "evalue": "'Card' object is not iterable",
     "output_type": "error",
     "traceback": [
      "\u001b[1;31m---------------------------------------------------------------------------\u001b[0m",
      "\u001b[1;31mTypeError\u001b[0m                                 Traceback (most recent call last)",
      "Input \u001b[1;32mIn [85]\u001b[0m, in \u001b[0;36m<cell line: 1>\u001b[1;34m()\u001b[0m\n\u001b[1;32m----> 1\u001b[0m \u001b[43mnew_player\u001b[49m\u001b[38;5;241;43m.\u001b[39;49m\u001b[43madd_cards\u001b[49m\u001b[43m(\u001b[49m\u001b[43mmycard\u001b[49m\u001b[43m)\u001b[49m\n",
      "Input \u001b[1;32mIn [82]\u001b[0m, in \u001b[0;36mPlayer.add_cards\u001b[1;34m(self, new_cards)\u001b[0m\n\u001b[0;32m     11\u001b[0m \u001b[38;5;28;01mdef\u001b[39;00m \u001b[38;5;21madd_cards\u001b[39m(\u001b[38;5;28mself\u001b[39m,new_cards):\n\u001b[0;32m     12\u001b[0m     \u001b[38;5;28;01mif\u001b[39;00m \u001b[38;5;28mtype\u001b[39m(new_cards \u001b[38;5;241m==\u001b[39m \u001b[38;5;28mtype\u001b[39m([])):\n\u001b[1;32m---> 13\u001b[0m         \u001b[38;5;28;43mself\u001b[39;49m\u001b[38;5;241;43m.\u001b[39;49m\u001b[43mall_cards\u001b[49m\u001b[38;5;241;43m.\u001b[39;49m\u001b[43mextend\u001b[49m\u001b[43m(\u001b[49m\u001b[43mnew_cards\u001b[49m\u001b[43m)\u001b[49m\n\u001b[0;32m     14\u001b[0m     \u001b[38;5;28;01melse\u001b[39;00m:\n\u001b[0;32m     15\u001b[0m         \u001b[38;5;28mself\u001b[39m\u001b[38;5;241m.\u001b[39mall_cards\u001b[38;5;241m.\u001b[39mappend(new_cards)\n",
      "\u001b[1;31mTypeError\u001b[0m: 'Card' object is not iterable"
     ]
    }
   ],
   "source": [
    "new_player.add_cards(mycard)"
   ]
  },
  {
   "cell_type": "code",
   "execution_count": null,
   "id": "0c39279a",
   "metadata": {},
   "outputs": [],
   "source": []
  }
 ],
 "metadata": {
  "kernelspec": {
   "display_name": "Python 3 (ipykernel)",
   "language": "python",
   "name": "python3"
  },
  "language_info": {
   "codemirror_mode": {
    "name": "ipython",
    "version": 3
   },
   "file_extension": ".py",
   "mimetype": "text/x-python",
   "name": "python",
   "nbconvert_exporter": "python",
   "pygments_lexer": "ipython3",
   "version": "3.9.12"
  }
 },
 "nbformat": 4,
 "nbformat_minor": 5
}
