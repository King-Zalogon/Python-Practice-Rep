{
 "cells": [
  {
   "cell_type": "code",
   "execution_count": null,
   "id": "83bf6318",
   "metadata": {},
   "outputs": [],
   "source": [
    "print('hello')"
   ]
  },
  {
   "cell_type": "code",
   "execution_count": null,
   "id": "8ddb3439",
   "metadata": {},
   "outputs": [],
   "source": [
    "print('new')"
   ]
  },
  {
   "cell_type": "markdown",
   "id": "86ccadf0",
   "metadata": {},
   "source": [
    "Nota común"
   ]
  },
  {
   "cell_type": "code",
   "execution_count": null,
   "id": "b141e285",
   "metadata": {},
   "outputs": [],
   "source": [
    "2+1"
   ]
  },
  {
   "cell_type": "code",
   "execution_count": null,
   "id": "b72f5ad1",
   "metadata": {},
   "outputs": [],
   "source": [
    "2-1"
   ]
  },
  {
   "cell_type": "code",
   "execution_count": null,
   "id": "68e50e17",
   "metadata": {},
   "outputs": [],
   "source": [
    "2*2"
   ]
  },
  {
   "cell_type": "code",
   "execution_count": null,
   "id": "2ee6cc8b",
   "metadata": {},
   "outputs": [],
   "source": [
    "3/2"
   ]
  },
  {
   "cell_type": "markdown",
   "id": "0e71cd53",
   "metadata": {},
   "source": [
    "Modulo or \"Mod\" Operator"
   ]
  },
  {
   "cell_type": "code",
   "execution_count": null,
   "id": "8aad8f96",
   "metadata": {},
   "outputs": [],
   "source": [
    "7/4"
   ]
  },
  {
   "cell_type": "code",
   "execution_count": null,
   "id": "f3384738",
   "metadata": {},
   "outputs": [],
   "source": [
    "7%4"
   ]
  },
  {
   "cell_type": "markdown",
   "id": "c78ee2e9",
   "metadata": {},
   "source": [
    "\"Mod\" me trae lo que resta luego de una división. 7 dividido 4, da 1 y un resto de 3, que dividido entre 4 me daría el .75"
   ]
  },
  {
   "cell_type": "code",
   "execution_count": null,
   "id": "2244a3ad",
   "metadata": {},
   "outputs": [],
   "source": [
    "50%5"
   ]
  },
  {
   "cell_type": "markdown",
   "id": "8275ab8e",
   "metadata": {},
   "source": [
    "Puede servir para saber si un número es par o impar (sobre todo si ese valor esta escondido detras de una variabl), si da \"0\" al hace %2 entonces es par"
   ]
  },
  {
   "cell_type": "markdown",
   "id": "f0a15dc3",
   "metadata": {},
   "source": [
    "Para elevar a una potencia se utiliza doble asterisco y la potencia **3 es al cubo"
   ]
  },
  {
   "cell_type": "code",
   "execution_count": null,
   "id": "e33a1205",
   "metadata": {},
   "outputs": [],
   "source": [
    "2**3"
   ]
  },
  {
   "cell_type": "code",
   "execution_count": null,
   "id": "7367b4cd",
   "metadata": {},
   "outputs": [],
   "source": [
    "2 + 10 * 10 + 3"
   ]
  },
  {
   "cell_type": "markdown",
   "id": "51873820",
   "metadata": {},
   "source": [
    " Acá hace primero la multiplicación y luego la sumatoria, 10 * 10 = 100 -> 100 + 2 + 3 = 105"
   ]
  },
  {
   "cell_type": "code",
   "execution_count": null,
   "id": "f25af155",
   "metadata": {},
   "outputs": [],
   "source": [
    "(2+10)*(10+3)"
   ]
  },
  {
   "cell_type": "code",
   "execution_count": null,
   "id": "09b6a022",
   "metadata": {},
   "outputs": [],
   "source": [
    "((2+3)**2)*(6/3)"
   ]
  },
  {
   "cell_type": "code",
   "execution_count": null,
   "id": "13164347",
   "metadata": {},
   "outputs": [],
   "source": [
    "(2+3)**2"
   ]
  },
  {
   "cell_type": "code",
   "execution_count": null,
   "id": "797d7a7c",
   "metadata": {},
   "outputs": [],
   "source": [
    "((2+3)**2)*(2-(6/3))"
   ]
  },
  {
   "cell_type": "code",
   "execution_count": null,
   "id": "4aaf55b7",
   "metadata": {},
   "outputs": [],
   "source": [
    "((2+3)**2)*(2-(6/3)))"
   ]
  },
  {
   "cell_type": "code",
   "execution_count": null,
   "id": "b96a4a87",
   "metadata": {},
   "outputs": [],
   "source": [
    "((2+3)**2)*(9-(15/3))"
   ]
  },
  {
   "cell_type": "code",
   "execution_count": null,
   "id": "a8b2b793",
   "metadata": {},
   "outputs": [],
   "source": [
    "0.1+0.2-0.3"
   ]
  },
  {
   "cell_type": "code",
   "execution_count": null,
   "id": "7b4a206c",
   "metadata": {},
   "outputs": [],
   "source": [
    "0.1 + 0.2 - 0.3"
   ]
  },
  {
   "cell_type": "code",
   "execution_count": null,
   "id": "414dffc2",
   "metadata": {},
   "outputs": [],
   "source": [
    "0.1+0.2"
   ]
  },
  {
   "cell_type": "code",
   "execution_count": null,
   "id": "22080517",
   "metadata": {},
   "outputs": [],
   "source": [
    "6*6"
   ]
  },
  {
   "cell_type": "code",
   "execution_count": null,
   "id": "59214f4a",
   "metadata": {},
   "outputs": [],
   "source": [
    "1/2"
   ]
  },
  {
   "cell_type": "code",
   "execution_count": null,
   "id": "84bb0349",
   "metadata": {},
   "outputs": [],
   "source": [
    "my_dog = 2"
   ]
  },
  {
   "cell_type": "code",
   "execution_count": null,
   "id": "45141505",
   "metadata": {},
   "outputs": [],
   "source": [
    "my_dog = 'Hermes'"
   ]
  },
  {
   "cell_type": "code",
   "execution_count": null,
   "id": "8f52e2d2",
   "metadata": {},
   "outputs": [],
   "source": [
    "my_dog"
   ]
  },
  {
   "cell_type": "code",
   "execution_count": null,
   "id": "256e6d32",
   "metadata": {},
   "outputs": [],
   "source": [
    "a=5"
   ]
  },
  {
   "cell_type": "code",
   "execution_count": null,
   "id": "74de7aa7",
   "metadata": {},
   "outputs": [],
   "source": [
    "a + a"
   ]
  },
  {
   "cell_type": "code",
   "execution_count": null,
   "id": "a466ab4d",
   "metadata": {},
   "outputs": [],
   "source": [
    "a = a + a"
   ]
  },
  {
   "cell_type": "code",
   "execution_count": null,
   "id": "f477008c",
   "metadata": {
    "scrolled": true
   },
   "outputs": [],
   "source": [
    "a"
   ]
  },
  {
   "cell_type": "code",
   "execution_count": null,
   "id": "d894c3e1",
   "metadata": {},
   "outputs": [],
   "source": [
    "a"
   ]
  },
  {
   "cell_type": "code",
   "execution_count": null,
   "id": "75872a28",
   "metadata": {},
   "outputs": [],
   "source": [
    "a"
   ]
  },
  {
   "cell_type": "code",
   "execution_count": null,
   "id": "6d56e43e",
   "metadata": {},
   "outputs": [],
   "source": [
    "type(a)"
   ]
  },
  {
   "cell_type": "code",
   "execution_count": null,
   "id": "df8778f9",
   "metadata": {},
   "outputs": [],
   "source": [
    "a "
   ]
  },
  {
   "cell_type": "code",
   "execution_count": null,
   "id": "cc442a14",
   "metadata": {},
   "outputs": [],
   "source": [
    "a = 30.1"
   ]
  },
  {
   "cell_type": "code",
   "execution_count": null,
   "id": "dbf5114f",
   "metadata": {},
   "outputs": [],
   "source": [
    "type(a)"
   ]
  },
  {
   "cell_type": "code",
   "execution_count": null,
   "id": "2ebac3e2",
   "metadata": {},
   "outputs": [],
   "source": [
    "my_income = 100"
   ]
  },
  {
   "cell_type": "code",
   "execution_count": null,
   "id": "7f3e0d37",
   "metadata": {},
   "outputs": [],
   "source": [
    "tax_rate = 0.1\n",
    "my_taxes = my_income * tax_rate"
   ]
  },
  {
   "cell_type": "code",
   "execution_count": null,
   "id": "0037f47c",
   "metadata": {},
   "outputs": [],
   "source": [
    "my_taxes"
   ]
  },
  {
   "cell_type": "code",
   "execution_count": null,
   "id": "e2ccce36",
   "metadata": {},
   "outputs": [],
   "source": [
    "'hello'\n",
    "\"world\""
   ]
  },
  {
   "cell_type": "code",
   "execution_count": null,
   "id": "4798625a",
   "metadata": {},
   "outputs": [],
   "source": [
    "'this is also a string'"
   ]
  },
  {
   "cell_type": "code",
   "execution_count": null,
   "id": "52a79e99",
   "metadata": {},
   "outputs": [],
   "source": [
    "\" I'm going on a run \""
   ]
  },
  {
   "cell_type": "code",
   "execution_count": null,
   "id": "0c355c23",
   "metadata": {},
   "outputs": [],
   "source": [
    "print (\"hello\")"
   ]
  },
  {
   "cell_type": "code",
   "execution_count": null,
   "id": "322154c7",
   "metadata": {},
   "outputs": [],
   "source": [
    "\"hello world one\"\n",
    "\"hello world two\""
   ]
  },
  {
   "cell_type": "code",
   "execution_count": null,
   "id": "21f4c9bf",
   "metadata": {},
   "outputs": [],
   "source": [
    "print (\"hello world one\")\n",
    "print (\"hello world two\")"
   ]
  },
  {
   "cell_type": "code",
   "execution_count": null,
   "id": "31f9b563",
   "metadata": {},
   "outputs": [],
   "source": [
    "print (\"hello \\n world\")"
   ]
  },
  {
   "cell_type": "code",
   "execution_count": null,
   "id": "c61737b3",
   "metadata": {},
   "outputs": [],
   "source": [
    "print (\"hello \\t world\")"
   ]
  },
  {
   "cell_type": "code",
   "execution_count": null,
   "id": "6b952c22",
   "metadata": {},
   "outputs": [],
   "source": [
    "print (\"hello \\nworld\")"
   ]
  },
  {
   "cell_type": "code",
   "execution_count": null,
   "id": "8977e79d",
   "metadata": {},
   "outputs": [],
   "source": [
    "len ('hello')"
   ]
  },
  {
   "cell_type": "code",
   "execution_count": null,
   "id": "18f4612c",
   "metadata": {},
   "outputs": [],
   "source": [
    "my_dog"
   ]
  },
  {
   "cell_type": "code",
   "execution_count": null,
   "id": "8cae24f5",
   "metadata": {},
   "outputs": [],
   "source": [
    "len (my_dog)"
   ]
  },
  {
   "cell_type": "code",
   "execution_count": null,
   "id": "5da57b0c",
   "metadata": {},
   "outputs": [],
   "source": [
    "my_name = 'Zalogon'"
   ]
  },
  {
   "cell_type": "code",
   "execution_count": null,
   "id": "3293c1c5",
   "metadata": {},
   "outputs": [],
   "source": [
    "print (my_name)"
   ]
  },
  {
   "cell_type": "code",
   "execution_count": null,
   "id": "dfb07e43",
   "metadata": {},
   "outputs": [],
   "source": [
    "len (my_name)"
   ]
  },
  {
   "cell_type": "code",
   "execution_count": null,
   "id": "9b0f4709",
   "metadata": {},
   "outputs": [],
   "source": [
    "print (\"Hello World\")"
   ]
  },
  {
   "cell_type": "code",
   "execution_count": null,
   "id": "54b7af45",
   "metadata": {},
   "outputs": [],
   "source": [
    "mystring = \"Hello World\""
   ]
  },
  {
   "cell_type": "code",
   "execution_count": null,
   "id": "e3058a8f",
   "metadata": {},
   "outputs": [],
   "source": [
    "mystring"
   ]
  },
  {
   "cell_type": "code",
   "execution_count": null,
   "id": "f7244e99",
   "metadata": {},
   "outputs": [],
   "source": [
    "mystring[0]"
   ]
  },
  {
   "cell_type": "code",
   "execution_count": null,
   "id": "49f115a0",
   "metadata": {},
   "outputs": [],
   "source": [
    "mystring[8]"
   ]
  },
  {
   "cell_type": "code",
   "execution_count": null,
   "id": "ab72904e",
   "metadata": {},
   "outputs": [],
   "source": [
    "mystring[-2]"
   ]
  },
  {
   "cell_type": "code",
   "execution_count": null,
   "id": "456173a1",
   "metadata": {},
   "outputs": [],
   "source": [
    "mystring ='abcdefghijk'"
   ]
  },
  {
   "cell_type": "code",
   "execution_count": null,
   "id": "b4c2fe99",
   "metadata": {},
   "outputs": [],
   "source": [
    "mystring[2:]"
   ]
  },
  {
   "cell_type": "code",
   "execution_count": null,
   "id": "3575a809",
   "metadata": {},
   "outputs": [],
   "source": [
    "mystring[:2]"
   ]
  },
  {
   "cell_type": "code",
   "execution_count": null,
   "id": "ff370637",
   "metadata": {},
   "outputs": [],
   "source": [
    "mystring[:3]"
   ]
  },
  {
   "cell_type": "code",
   "execution_count": null,
   "id": "2bbef04d",
   "metadata": {},
   "outputs": [],
   "source": [
    " mystring[3:6]"
   ]
  },
  {
   "cell_type": "code",
   "execution_count": null,
   "id": "e9855a5e",
   "metadata": {},
   "outputs": [],
   "source": [
    "mystring[2:9:2]"
   ]
  },
  {
   "cell_type": "code",
   "execution_count": null,
   "id": "000a4a89",
   "metadata": {},
   "outputs": [],
   "source": [
    "mystring[::2]"
   ]
  },
  {
   "cell_type": "code",
   "execution_count": null,
   "id": "19264a10",
   "metadata": {},
   "outputs": [],
   "source": [
    "mystring[-10]"
   ]
  },
  {
   "cell_type": "code",
   "execution_count": null,
   "id": "e88af5c2",
   "metadata": {},
   "outputs": [],
   "source": [
    "mystring[-10:10:-2]"
   ]
  },
  {
   "cell_type": "code",
   "execution_count": null,
   "id": "bb7afb26",
   "metadata": {},
   "outputs": [],
   "source": [
    "mystring[-10:10]"
   ]
  },
  {
   "cell_type": "code",
   "execution_count": null,
   "id": "f5f668dc",
   "metadata": {},
   "outputs": [],
   "source": [
    "mystring[-10:10:2]"
   ]
  },
  {
   "cell_type": "code",
   "execution_count": null,
   "id": "cdc36ee5",
   "metadata": {},
   "outputs": [],
   "source": [
    "mystring[-10:10:-1]"
   ]
  },
  {
   "cell_type": "code",
   "execution_count": null,
   "id": "72645ba7",
   "metadata": {},
   "outputs": [],
   "source": [
    "mystring[1:-1:-2]"
   ]
  },
  {
   "cell_type": "code",
   "execution_count": null,
   "id": "8a8b0849",
   "metadata": {},
   "outputs": [],
   "source": [
    "mystring[1:10:-2]"
   ]
  },
  {
   "cell_type": "code",
   "execution_count": null,
   "id": "6a796977",
   "metadata": {},
   "outputs": [],
   "source": [
    "mystring[:-1:-2]"
   ]
  },
  {
   "cell_type": "code",
   "execution_count": null,
   "id": "ca91aa06",
   "metadata": {},
   "outputs": [],
   "source": [
    "mystring[::-2]\n"
   ]
  },
  {
   "cell_type": "code",
   "execution_count": null,
   "id": "b43cfd78",
   "metadata": {},
   "outputs": [],
   "source": [
    "mystring = \"Hello World\"\n",
    "mystring[8]"
   ]
  },
  {
   "cell_type": "code",
   "execution_count": null,
   "id": "8c33aebf",
   "metadata": {},
   "outputs": [],
   "source": [
    "'tinker'[1:4]"
   ]
  },
  {
   "cell_type": "code",
   "execution_count": null,
   "id": "6d585367",
   "metadata": {},
   "outputs": [],
   "source": [
    "my_name"
   ]
  },
  {
   "cell_type": "code",
   "execution_count": null,
   "id": "50138103",
   "metadata": {},
   "outputs": [],
   "source": [
    "print(my_name[4:])"
   ]
  },
  {
   "cell_type": "code",
   "execution_count": null,
   "id": "4c78dd3b",
   "metadata": {},
   "outputs": [],
   "source": [
    "print(my_name[:4])"
   ]
  },
  {
   "cell_type": "markdown",
   "id": "3743951c",
   "metadata": {},
   "source": [
    "**IMMUTABILITY**"
   ]
  },
  {
   "cell_type": "code",
   "execution_count": null,
   "id": "4623f69d",
   "metadata": {},
   "outputs": [],
   "source": [
    "name = \"Sam\""
   ]
  },
  {
   "cell_type": "code",
   "execution_count": null,
   "id": "4a87da11",
   "metadata": {},
   "outputs": [],
   "source": [
    "name[0] = \"P\""
   ]
  },
  {
   "cell_type": "code",
   "execution_count": null,
   "id": "7e80041d",
   "metadata": {},
   "outputs": [],
   "source": [
    "# name[0] = \"P\""
   ]
  },
  {
   "cell_type": "code",
   "execution_count": null,
   "id": "741d0c30",
   "metadata": {},
   "outputs": [],
   "source": [
    "name[1:]"
   ]
  },
  {
   "cell_type": "code",
   "execution_count": null,
   "id": "5b776afd",
   "metadata": {},
   "outputs": [],
   "source": [
    "last_letters = name[1:]"
   ]
  },
  {
   "cell_type": "code",
   "execution_count": null,
   "id": "9d3e604b",
   "metadata": {},
   "outputs": [],
   "source": [
    "last_letters"
   ]
  },
  {
   "cell_type": "code",
   "execution_count": null,
   "id": "def085cb",
   "metadata": {},
   "outputs": [],
   "source": [
    "'P' + last_letters"
   ]
  },
  {
   "cell_type": "code",
   "execution_count": null,
   "id": "84bde529",
   "metadata": {},
   "outputs": [],
   "source": [
    "x = 'Hello World'"
   ]
  },
  {
   "cell_type": "code",
   "execution_count": null,
   "id": "8db4c1c1",
   "metadata": {},
   "outputs": [],
   "source": [
    "x + ' it is beautiful outside!'"
   ]
  },
  {
   "cell_type": "code",
   "execution_count": null,
   "id": "a8625f90",
   "metadata": {},
   "outputs": [],
   "source": [
    "x = x + ' it is beautiful outside!'"
   ]
  },
  {
   "cell_type": "code",
   "execution_count": null,
   "id": "a838ad7b",
   "metadata": {},
   "outputs": [],
   "source": [
    "x"
   ]
  },
  {
   "cell_type": "code",
   "execution_count": null,
   "id": "e9bc97b9",
   "metadata": {},
   "outputs": [],
   "source": [
    "name"
   ]
  },
  {
   "cell_type": "code",
   "execution_count": null,
   "id": "c0737e28",
   "metadata": {},
   "outputs": [],
   "source": [
    "name - last_letters"
   ]
  },
  {
   "cell_type": "code",
   "execution_count": null,
   "id": "7e1305d7",
   "metadata": {},
   "outputs": [],
   "source": [
    "b = name - last_letters"
   ]
  },
  {
   "cell_type": "code",
   "execution_count": null,
   "id": "8655c421",
   "metadata": {},
   "outputs": [],
   "source": [
    "letter = 'z'"
   ]
  },
  {
   "cell_type": "code",
   "execution_count": null,
   "id": "46f96304",
   "metadata": {},
   "outputs": [],
   "source": [
    "letter * 10"
   ]
  },
  {
   "cell_type": "code",
   "execution_count": null,
   "id": "50c066a2",
   "metadata": {},
   "outputs": [],
   "source": [
    "2 + 3"
   ]
  },
  {
   "cell_type": "code",
   "execution_count": null,
   "id": "0851366b",
   "metadata": {},
   "outputs": [],
   "source": [
    "'2' + '3'"
   ]
  },
  {
   "cell_type": "code",
   "execution_count": null,
   "id": "7c4e951f",
   "metadata": {},
   "outputs": [],
   "source": [
    "newname = 'P'+last_letters"
   ]
  },
  {
   "cell_type": "code",
   "execution_count": null,
   "id": "c0e9dc30",
   "metadata": {},
   "outputs": [],
   "source": [
    "newname"
   ]
  },
  {
   "cell_type": "code",
   "execution_count": null,
   "id": "e8ebbcab",
   "metadata": {},
   "outputs": [],
   "source": [
    "x = 'Hello World'"
   ]
  },
  {
   "cell_type": "code",
   "execution_count": null,
   "id": "65a6eb68",
   "metadata": {},
   "outputs": [],
   "source": [
    "x.upper ()"
   ]
  },
  {
   "cell_type": "code",
   "execution_count": null,
   "id": "f7c37fbe",
   "metadata": {},
   "outputs": [],
   "source": [
    "x"
   ]
  },
  {
   "cell_type": "code",
   "execution_count": null,
   "id": "a0b1f4b5",
   "metadata": {},
   "outputs": [],
   "source": [
    "x.upper"
   ]
  },
  {
   "cell_type": "code",
   "execution_count": null,
   "id": "69c64e25",
   "metadata": {},
   "outputs": [],
   "source": [
    "x.lower()"
   ]
  },
  {
   "cell_type": "code",
   "execution_count": null,
   "id": "816817c9",
   "metadata": {},
   "outputs": [],
   "source": [
    "x.split()"
   ]
  },
  {
   "cell_type": "code",
   "execution_count": null,
   "id": "cc01003c",
   "metadata": {},
   "outputs": [],
   "source": [
    "x = 'This is a string'"
   ]
  },
  {
   "cell_type": "code",
   "execution_count": null,
   "id": "66ea516b",
   "metadata": {},
   "outputs": [],
   "source": [
    "x.split('i')"
   ]
  },
  {
   "cell_type": "code",
   "execution_count": null,
   "id": "f7f89a8a",
   "metadata": {},
   "outputs": [],
   "source": [
    "x.swapcase()"
   ]
  },
  {
   "cell_type": "code",
   "execution_count": null,
   "id": "99ae47b1",
   "metadata": {},
   "outputs": [],
   "source": [
    "print('Hello ' + my_name)"
   ]
  },
  {
   "cell_type": "code",
   "execution_count": null,
   "id": "977e58bf",
   "metadata": {},
   "outputs": [],
   "source": [
    "print('This is a string {}'.format('INSERTED'))"
   ]
  },
  {
   "cell_type": "code",
   "execution_count": null,
   "id": "7fac7d83",
   "metadata": {},
   "outputs": [],
   "source": [
    " print('The {} is {} and {}.'.format('fox', 'brown', 'quick'))"
   ]
  },
  {
   "cell_type": "code",
   "execution_count": null,
   "id": "9403eb50",
   "metadata": {},
   "outputs": [],
   "source": [
    " print('The {2} {1} {0}.'.format('fox', 'brown', 'quick'))"
   ]
  },
  {
   "cell_type": "code",
   "execution_count": null,
   "id": "98361a0f",
   "metadata": {},
   "outputs": [],
   "source": [
    " print('The {0} {0} {0}.'.format('fox', 'brown', 'quick'))"
   ]
  },
  {
   "cell_type": "code",
   "execution_count": null,
   "id": "4bfe48a9",
   "metadata": {},
   "outputs": [],
   "source": [
    " print('The {2} {1} {0}.'.format(my_name, 'brown', 'quick'))"
   ]
  },
  {
   "cell_type": "code",
   "execution_count": null,
   "id": "e6431082",
   "metadata": {},
   "outputs": [],
   "source": [
    " print('The {q} {b} {f}.'.format(f='fox',b='brown',q='quick'))"
   ]
  },
  {
   "cell_type": "markdown",
   "id": "7622324e",
   "metadata": {},
   "source": [
    "**Float formating follow \"{value:width.precision *f* }\"** "
   ]
  },
  {
   "cell_type": "code",
   "execution_count": null,
   "id": "cedba100",
   "metadata": {},
   "outputs": [],
   "source": [
    "result = 100/777"
   ]
  },
  {
   "cell_type": "raw",
   "id": "f8fecae5",
   "metadata": {},
   "source": [
    "result"
   ]
  },
  {
   "cell_type": "code",
   "execution_count": null,
   "id": "2b05f075",
   "metadata": {},
   "outputs": [],
   "source": [
    "result"
   ]
  },
  {
   "cell_type": "code",
   "execution_count": null,
   "id": "d5b9c28f",
   "metadata": {},
   "outputs": [],
   "source": [
    "print(\"The result was {r}\".format(r=result))"
   ]
  },
  {
   "cell_type": "code",
   "execution_count": null,
   "id": "38f40484",
   "metadata": {},
   "outputs": [],
   "source": [
    "print(\"The result was {r:1.3}\".format(r=result))"
   ]
  },
  {
   "cell_type": "code",
   "execution_count": null,
   "id": "b808a53b",
   "metadata": {},
   "outputs": [],
   "source": [
    "print(\"The result was {r:1.3f}\".format(r=result))"
   ]
  },
  {
   "cell_type": "code",
   "execution_count": null,
   "id": "129bf689",
   "metadata": {},
   "outputs": [],
   "source": [
    "print(\"The result was {r:10.3f}\".format(r=result))"
   ]
  },
  {
   "cell_type": "code",
   "execution_count": null,
   "id": "842aba80",
   "metadata": {},
   "outputs": [],
   "source": [
    "print(\"The result was {r:10.5f}\".format(r=result))"
   ]
  },
  {
   "cell_type": "code",
   "execution_count": null,
   "id": "82cf90df",
   "metadata": {},
   "outputs": [],
   "source": [
    "result = 104.12345"
   ]
  },
  {
   "cell_type": "code",
   "execution_count": null,
   "id": "25fc61b0",
   "metadata": {},
   "outputs": [],
   "source": [
    "print(\"The result was {r:15.3f}\".format(r=result))"
   ]
  },
  {
   "cell_type": "code",
   "execution_count": null,
   "id": "4ad32460",
   "metadata": {},
   "outputs": [],
   "source": [
    "print(\"The result was {r:1.5f}\".format(r=result))"
   ]
  },
  {
   "cell_type": "code",
   "execution_count": null,
   "id": "b0d56513",
   "metadata": {},
   "outputs": [],
   "source": []
  },
  {
   "cell_type": "markdown",
   "id": "69d2f9be",
   "metadata": {},
   "source": [
    "**f-stings method** - *formated strings literals*\n",
    "\n",
    "Se agrega una **f** antes del string y luego se anota entre llaves directo lo que querés que te traiga"
   ]
  },
  {
   "cell_type": "code",
   "execution_count": null,
   "id": "b1d5af67",
   "metadata": {},
   "outputs": [],
   "source": [
    "name = \"Jose\""
   ]
  },
  {
   "cell_type": "code",
   "execution_count": null,
   "id": "d2eac550",
   "metadata": {},
   "outputs": [],
   "source": [
    "print(f'Hello,his name is {name}')"
   ]
  },
  {
   "cell_type": "code",
   "execution_count": null,
   "id": "0b018d31",
   "metadata": {},
   "outputs": [],
   "source": [
    " age = 3"
   ]
  },
  {
   "cell_type": "code",
   "execution_count": null,
   "id": "f95e7d36",
   "metadata": {
    "scrolled": false
   },
   "outputs": [],
   "source": [
    "print(f'{name} is {age} years old.')"
   ]
  },
  {
   "cell_type": "code",
   "execution_count": null,
   "id": "dc11cf2c",
   "metadata": {},
   "outputs": [],
   "source": [
    "'{} rules!'.format('Python')"
   ]
  },
  {
   "cell_type": "markdown",
   "id": "5582963d",
   "metadata": {},
   "source": [
    "\n",
    "**LISTS**\n"
   ]
  },
  {
   "cell_type": "code",
   "execution_count": null,
   "id": "67740024",
   "metadata": {},
   "outputs": [],
   "source": [
    "my_list = [1,2,3]"
   ]
  },
  {
   "cell_type": "code",
   "execution_count": null,
   "id": "87888642",
   "metadata": {},
   "outputs": [],
   "source": [
    "my_list = ['STRING', 100, 23.2]"
   ]
  },
  {
   "cell_type": "code",
   "execution_count": null,
   "id": "586c47ae",
   "metadata": {},
   "outputs": [],
   "source": [
    "len(my_list)"
   ]
  },
  {
   "cell_type": "code",
   "execution_count": null,
   "id": "35c92734",
   "metadata": {},
   "outputs": [],
   "source": [
    "my_list = ['one', 'two', 'three']"
   ]
  },
  {
   "cell_type": "code",
   "execution_count": null,
   "id": "01b0039a",
   "metadata": {},
   "outputs": [],
   "source": [
    "my_list[0]"
   ]
  },
  {
   "cell_type": "code",
   "execution_count": null,
   "id": "856c0333",
   "metadata": {},
   "outputs": [],
   "source": [
    "my_list[1:]"
   ]
  },
  {
   "cell_type": "code",
   "execution_count": null,
   "id": "c72b2e1c",
   "metadata": {},
   "outputs": [],
   "source": [
    "my_list"
   ]
  },
  {
   "cell_type": "code",
   "execution_count": null,
   "id": "ff4b7ff4",
   "metadata": {},
   "outputs": [],
   "source": [
    "another_list=['four', 'five']"
   ]
  },
  {
   "cell_type": "code",
   "execution_count": null,
   "id": "301e1338",
   "metadata": {},
   "outputs": [],
   "source": [
    "my_list + another_list"
   ]
  },
  {
   "cell_type": "code",
   "execution_count": null,
   "id": "17ec496d",
   "metadata": {},
   "outputs": [],
   "source": [
    "new_list = my_list + another_list"
   ]
  },
  {
   "cell_type": "code",
   "execution_count": null,
   "id": "aabfa963",
   "metadata": {},
   "outputs": [],
   "source": [
    "new_list[0] = 'ONE ALL CAPS'"
   ]
  },
  {
   "cell_type": "code",
   "execution_count": null,
   "id": "1578ccb4",
   "metadata": {},
   "outputs": [],
   "source": [
    "my_list"
   ]
  },
  {
   "cell_type": "code",
   "execution_count": null,
   "id": "2b332a7d",
   "metadata": {},
   "outputs": [],
   "source": [
    "new_list"
   ]
  },
  {
   "cell_type": "code",
   "execution_count": null,
   "id": "cc921a3e",
   "metadata": {},
   "outputs": [],
   "source": [
    "my_list"
   ]
  },
  {
   "cell_type": "markdown",
   "id": "ef3fd52f",
   "metadata": {},
   "source": [
    "*Se pueden agregar elementos al final de una lista usando* **.append**\n"
   ]
  },
  {
   "cell_type": "code",
   "execution_count": null,
   "id": "cf2f5b89",
   "metadata": {},
   "outputs": [],
   "source": [
    "new_list.append('six')"
   ]
  },
  {
   "cell_type": "code",
   "execution_count": null,
   "id": "dc868844",
   "metadata": {},
   "outputs": [],
   "source": [
    "new_list"
   ]
  },
  {
   "cell_type": "code",
   "execution_count": null,
   "id": "5a31308a",
   "metadata": {},
   "outputs": [],
   "source": [
    "new_list.append('seven')"
   ]
  },
  {
   "cell_type": "code",
   "execution_count": null,
   "id": "c12cc9a8",
   "metadata": {},
   "outputs": [],
   "source": [
    "new_list"
   ]
  },
  {
   "cell_type": "markdown",
   "id": "3103c75e",
   "metadata": {},
   "source": [
    "*Se pueden quitar elementos al final de una lista usando* **.pop**\n",
    "\n"
   ]
  },
  {
   "cell_type": "code",
   "execution_count": null,
   "id": "9b8df395",
   "metadata": {},
   "outputs": [],
   "source": [
    "new_list.pop()"
   ]
  },
  {
   "cell_type": "code",
   "execution_count": null,
   "id": "d9a76367",
   "metadata": {},
   "outputs": [],
   "source": [
    "new_list"
   ]
  },
  {
   "cell_type": "code",
   "execution_count": null,
   "id": "9ccb69da",
   "metadata": {},
   "outputs": [],
   "source": [
    "popped_item = new_list.pop()"
   ]
  },
  {
   "cell_type": "code",
   "execution_count": null,
   "id": "b255c655",
   "metadata": {},
   "outputs": [],
   "source": [
    "popped_item"
   ]
  },
  {
   "cell_type": "code",
   "execution_count": null,
   "id": "3fd4bf47",
   "metadata": {},
   "outputs": [],
   "source": [
    "new_list"
   ]
  },
  {
   "cell_type": "code",
   "execution_count": null,
   "id": "838ba827",
   "metadata": {},
   "outputs": [],
   "source": [
    "new_list.pop(0)"
   ]
  },
  {
   "cell_type": "code",
   "execution_count": null,
   "id": "118a31d5",
   "metadata": {},
   "outputs": [],
   "source": [
    "new_list"
   ]
  },
  {
   "cell_type": "code",
   "execution_count": null,
   "id": "89ef1cdf",
   "metadata": {},
   "outputs": [],
   "source": [
    "new_list = ['a', 'e', 'x', 'b', 'c']"
   ]
  },
  {
   "cell_type": "code",
   "execution_count": null,
   "id": "6899b050",
   "metadata": {},
   "outputs": [],
   "source": [
    "num_list = [4,1,8,3]"
   ]
  },
  {
   "cell_type": "code",
   "execution_count": null,
   "id": "af64b18f",
   "metadata": {},
   "outputs": [],
   "source": [
    "new_list.sort()"
   ]
  },
  {
   "cell_type": "code",
   "execution_count": null,
   "id": "282bf2fd",
   "metadata": {},
   "outputs": [],
   "source": [
    "new_list"
   ]
  },
  {
   "cell_type": "code",
   "execution_count": null,
   "id": "d8080204",
   "metadata": {},
   "outputs": [],
   "source": [
    "my_sorted_list = new_list.sort()"
   ]
  },
  {
   "cell_type": "code",
   "execution_count": null,
   "id": "fcd5192b",
   "metadata": {},
   "outputs": [],
   "source": [
    "my_sorted_list"
   ]
  },
  {
   "cell_type": "code",
   "execution_count": null,
   "id": "17fbca8f",
   "metadata": {},
   "outputs": [],
   "source": [
    "type(my_sorted_list)"
   ]
  },
  {
   "cell_type": "code",
   "execution_count": null,
   "id": "6d615388",
   "metadata": {},
   "outputs": [],
   "source": [
    "None"
   ]
  },
  {
   "cell_type": "markdown",
   "id": "13bdf71b",
   "metadata": {},
   "source": [
    "\"None\" es un default value para funciones que no traen ningun resultado, como .sort() ordena la lista pero no trae ningun valor, por eso \"my_sorted_list = new_list.sort()\" no trae nada y Python la reconoce como un NoneType"
   ]
  },
  {
   "cell_type": "code",
   "execution_count": null,
   "id": "a6b720eb",
   "metadata": {},
   "outputs": [],
   "source": [
    "num_list"
   ]
  },
  {
   "cell_type": "code",
   "execution_count": null,
   "id": "212080d3",
   "metadata": {},
   "outputs": [],
   "source": [
    "num_list.sort()"
   ]
  },
  {
   "cell_type": "code",
   "execution_count": null,
   "id": "c3cc1e29",
   "metadata": {},
   "outputs": [],
   "source": [
    "num_list"
   ]
  },
  {
   "cell_type": "code",
   "execution_count": null,
   "id": "b7663821",
   "metadata": {},
   "outputs": [],
   "source": [
    "num_list.reverse()"
   ]
  },
  {
   "cell_type": "code",
   "execution_count": null,
   "id": "ded2b988",
   "metadata": {},
   "outputs": [],
   "source": [
    "num_list"
   ]
  },
  {
   "cell_type": "code",
   "execution_count": null,
   "id": "914a6c53",
   "metadata": {},
   "outputs": [],
   "source": [
    "num_list[1:]"
   ]
  },
  {
   "cell_type": "code",
   "execution_count": null,
   "id": "667b93db",
   "metadata": {},
   "outputs": [],
   "source": [
    "num_list[2]"
   ]
  },
  {
   "cell_type": "code",
   "execution_count": null,
   "id": "e61845b9",
   "metadata": {},
   "outputs": [],
   "source": [
    "lst=[0,1,2]"
   ]
  },
  {
   "cell_type": "code",
   "execution_count": null,
   "id": "3b6df3c1",
   "metadata": {},
   "outputs": [],
   "source": [
    "lst.pop()"
   ]
  },
  {
   "cell_type": "code",
   "execution_count": null,
   "id": "cfc9db55",
   "metadata": {},
   "outputs": [],
   "source": [
    "my_dict = {'key1' : 'value1' ,  'key2' : 'value2'}"
   ]
  },
  {
   "cell_type": "code",
   "execution_count": null,
   "id": "225cfccf",
   "metadata": {},
   "outputs": [],
   "source": [
    "my_dict"
   ]
  },
  {
   "cell_type": "code",
   "execution_count": null,
   "id": "c5e3499b",
   "metadata": {},
   "outputs": [],
   "source": [
    "my_dict['key1']"
   ]
  },
  {
   "cell_type": "code",
   "execution_count": null,
   "id": "3bd5485d",
   "metadata": {},
   "outputs": [],
   "source": [
    "prices_lookup = {'apple' : 2.99, 'oranges':1.99, 'milk':5.80}"
   ]
  },
  {
   "cell_type": "code",
   "execution_count": null,
   "id": "3baf8d9b",
   "metadata": {},
   "outputs": [],
   "source": [
    " prices_lookup['apple']"
   ]
  },
  {
   "cell_type": "code",
   "execution_count": null,
   "id": "c22a2821",
   "metadata": {},
   "outputs": [],
   "source": [
    "d = {'k1': 123, 'k2':[0,1,2], 'k3':{'insideKey':100}}"
   ]
  },
  {
   "cell_type": "code",
   "execution_count": null,
   "id": "e36d6782",
   "metadata": {},
   "outputs": [],
   "source": [
    "d['k2']"
   ]
  },
  {
   "cell_type": "code",
   "execution_count": null,
   "id": "646cf608",
   "metadata": {},
   "outputs": [],
   "source": [
    "d['k3']"
   ]
  },
  {
   "cell_type": "code",
   "execution_count": null,
   "id": "4f6a2e80",
   "metadata": {},
   "outputs": [],
   "source": [
    "d['k3']['insideKey']"
   ]
  },
  {
   "cell_type": "code",
   "execution_count": null,
   "id": "21abbad0",
   "metadata": {},
   "outputs": [],
   "source": [
    "d['k2']"
   ]
  },
  {
   "cell_type": "code",
   "execution_count": null,
   "id": "eed6aadd",
   "metadata": {},
   "outputs": [],
   "source": [
    "d['k1']"
   ]
  },
  {
   "cell_type": "code",
   "execution_count": null,
   "id": "c694c846",
   "metadata": {},
   "outputs": [],
   "source": [
    "d['k2'][1]"
   ]
  },
  {
   "cell_type": "code",
   "execution_count": null,
   "id": "09e3acca",
   "metadata": {},
   "outputs": [],
   "source": [
    "d = {'key1':['a', 'b', 'c']}"
   ]
  },
  {
   "cell_type": "code",
   "execution_count": null,
   "id": "770c2ab3",
   "metadata": {},
   "outputs": [],
   "source": [
    "d"
   ]
  },
  {
   "cell_type": "code",
   "execution_count": null,
   "id": "978829a1",
   "metadata": {},
   "outputs": [],
   "source": [
    "d['key1'][2]"
   ]
  },
  {
   "cell_type": "code",
   "execution_count": null,
   "id": "c319743d",
   "metadata": {},
   "outputs": [],
   "source": [
    "d['key1'][2].upper()"
   ]
  },
  {
   "cell_type": "code",
   "execution_count": null,
   "id": "8d73e429",
   "metadata": {},
   "outputs": [],
   "source": [
    "d = {'k1': 100, 'k2':200}"
   ]
  },
  {
   "cell_type": "code",
   "execution_count": null,
   "id": "c87921db",
   "metadata": {},
   "outputs": [],
   "source": [
    "d['k3']=300"
   ]
  },
  {
   "cell_type": "code",
   "execution_count": null,
   "id": "a48cedc6",
   "metadata": {},
   "outputs": [],
   "source": [
    "d"
   ]
  },
  {
   "cell_type": "code",
   "execution_count": null,
   "id": "e8f6cbd0",
   "metadata": {},
   "outputs": [],
   "source": [
    "d['k1']='NEW VALUE'"
   ]
  },
  {
   "cell_type": "code",
   "execution_count": null,
   "id": "bdcb8639",
   "metadata": {},
   "outputs": [],
   "source": [
    "d"
   ]
  },
  {
   "cell_type": "code",
   "execution_count": null,
   "id": "be1195cf",
   "metadata": {},
   "outputs": [],
   "source": [
    "d = {'k1': 100, 'k2': 200, 'k3': 300}"
   ]
  },
  {
   "cell_type": "code",
   "execution_count": null,
   "id": "483e4a92",
   "metadata": {},
   "outputs": [],
   "source": [
    "d.keys()"
   ]
  },
  {
   "cell_type": "code",
   "execution_count": null,
   "id": "d430450a",
   "metadata": {},
   "outputs": [],
   "source": [
    "d.values()"
   ]
  },
  {
   "cell_type": "code",
   "execution_count": null,
   "id": "2d63abc0",
   "metadata": {},
   "outputs": [],
   "source": [
    "d.items()"
   ]
  },
  {
   "cell_type": "markdown",
   "id": "d8bc792c",
   "metadata": {},
   "source": [
    "**KEYS son siempre Strings**"
   ]
  },
  {
   "cell_type": "markdown",
   "id": "f33236cd",
   "metadata": {},
   "source": [
    "**TUPLES** son inmutables, usan ()"
   ]
  },
  {
   "cell_type": "code",
   "execution_count": null,
   "id": "91539345",
   "metadata": {},
   "outputs": [],
   "source": [
    "t = (1, 2, 3)"
   ]
  },
  {
   "cell_type": "code",
   "execution_count": null,
   "id": "f21be837",
   "metadata": {},
   "outputs": [],
   "source": [
    "mylist = [1,2,3]"
   ]
  },
  {
   "cell_type": "code",
   "execution_count": null,
   "id": "bb3c43e1",
   "metadata": {},
   "outputs": [],
   "source": [
    "type(t)"
   ]
  },
  {
   "cell_type": "code",
   "execution_count": null,
   "id": "6c7d44a5",
   "metadata": {},
   "outputs": [],
   "source": [
    "type(mylist)"
   ]
  },
  {
   "cell_type": "code",
   "execution_count": null,
   "id": "184afce5",
   "metadata": {},
   "outputs": [],
   "source": [
    "len(t)"
   ]
  },
  {
   "cell_type": "code",
   "execution_count": null,
   "id": "bf57f3d5",
   "metadata": {},
   "outputs": [],
   "source": [
    "t"
   ]
  },
  {
   "cell_type": "code",
   "execution_count": null,
   "id": "8a2055db",
   "metadata": {},
   "outputs": [],
   "source": [
    "t = ('one', 2)"
   ]
  },
  {
   "cell_type": "code",
   "execution_count": null,
   "id": "895e093b",
   "metadata": {},
   "outputs": [],
   "source": [
    "t[0]"
   ]
  },
  {
   "cell_type": "code",
   "execution_count": null,
   "id": "2d2444af",
   "metadata": {},
   "outputs": [],
   "source": [
    "t[-1]"
   ]
  },
  {
   "cell_type": "code",
   "execution_count": null,
   "id": "173d6adb",
   "metadata": {},
   "outputs": [],
   "source": [
    "t = ('a', 'a', 'b')"
   ]
  },
  {
   "cell_type": "code",
   "execution_count": null,
   "id": "d96d2ba8",
   "metadata": {},
   "outputs": [],
   "source": [
    "t.count('a')"
   ]
  },
  {
   "cell_type": "code",
   "execution_count": null,
   "id": "20afc843",
   "metadata": {},
   "outputs": [],
   "source": [
    "t.index('a')"
   ]
  },
  {
   "cell_type": "markdown",
   "id": "2e66c7d2",
   "metadata": {},
   "source": [
    "Con .index si hay repetidos solo me trae el primero"
   ]
  },
  {
   "cell_type": "code",
   "execution_count": null,
   "id": "95125b71",
   "metadata": {},
   "outputs": [],
   "source": [
    "t.index('b')"
   ]
  },
  {
   "cell_type": "code",
   "execution_count": null,
   "id": "f6fade66",
   "metadata": {},
   "outputs": [],
   "source": [
    "t"
   ]
  },
  {
   "cell_type": "code",
   "execution_count": null,
   "id": "42c5c63d",
   "metadata": {},
   "outputs": [],
   "source": [
    "mylist"
   ]
  },
  {
   "cell_type": "code",
   "execution_count": null,
   "id": "11c10ec0",
   "metadata": {},
   "outputs": [],
   "source": [
    "mylist[0]='NEW'"
   ]
  },
  {
   "cell_type": "code",
   "execution_count": null,
   "id": "0a44f31d",
   "metadata": {},
   "outputs": [],
   "source": [
    "mylist"
   ]
  },
  {
   "cell_type": "code",
   "execution_count": null,
   "id": "fec6fcf5",
   "metadata": {},
   "outputs": [],
   "source": [
    "t[0]= 'NEW'"
   ]
  },
  {
   "cell_type": "code",
   "execution_count": null,
   "id": "bf0f99a3",
   "metadata": {},
   "outputs": [],
   "source": [
    "t=(1,2,[1,2])"
   ]
  },
  {
   "cell_type": "code",
   "execution_count": null,
   "id": "0035625b",
   "metadata": {},
   "outputs": [],
   "source": [
    "t"
   ]
  },
  {
   "cell_type": "markdown",
   "id": "8022b6cb",
   "metadata": {},
   "source": [
    "\n",
    "   **SETS** unordered collection of **unique** elements\n",
    "   "
   ]
  },
  {
   "cell_type": "code",
   "execution_count": null,
   "id": "7011802f",
   "metadata": {},
   "outputs": [],
   "source": [
    " myset = set()"
   ]
  },
  {
   "cell_type": "code",
   "execution_count": null,
   "id": "7fe274a4",
   "metadata": {},
   "outputs": [],
   "source": [
    "myset"
   ]
  },
  {
   "cell_type": "code",
   "execution_count": null,
   "id": "ee6b1076",
   "metadata": {},
   "outputs": [],
   "source": [
    "myset.add(1)"
   ]
  },
  {
   "cell_type": "code",
   "execution_count": null,
   "id": "e5ce4f6d",
   "metadata": {},
   "outputs": [],
   "source": [
    "myset"
   ]
  },
  {
   "cell_type": "code",
   "execution_count": null,
   "id": "14b9bb95",
   "metadata": {},
   "outputs": [],
   "source": [
    "myset.add(2)"
   ]
  },
  {
   "cell_type": "code",
   "execution_count": null,
   "id": "0dc6cc5f",
   "metadata": {},
   "outputs": [],
   "source": [
    "myset"
   ]
  },
  {
   "cell_type": "code",
   "execution_count": null,
   "id": "59dbff80",
   "metadata": {},
   "outputs": [],
   "source": [
    "myset.add(2)"
   ]
  },
  {
   "cell_type": "code",
   "execution_count": null,
   "id": "53ddac01",
   "metadata": {},
   "outputs": [],
   "source": [
    "myset"
   ]
  },
  {
   "cell_type": "markdown",
   "id": "c3f6f17a",
   "metadata": {},
   "source": [
    "Puede servir para meter una lista dentro de un SET y asi obtener solo los valores unicos, sin los repetidos"
   ]
  },
  {
   "cell_type": "code",
   "execution_count": null,
   "id": "d270f5fb",
   "metadata": {},
   "outputs": [],
   "source": [
    "mylist= (1,1,1,1,2,2,2,2,3,3,3,3,)"
   ]
  },
  {
   "cell_type": "code",
   "execution_count": null,
   "id": "397473d0",
   "metadata": {},
   "outputs": [],
   "source": [
    "set(mylist)"
   ]
  },
  {
   "cell_type": "code",
   "execution_count": null,
   "id": "33c7af46",
   "metadata": {},
   "outputs": [],
   "source": [
    "set"
   ]
  },
  {
   "cell_type": "code",
   "execution_count": null,
   "id": "79346691",
   "metadata": {},
   "outputs": [],
   "source": [
    "mylist= (3,3,'asda', 'asda', 'aaa', 3.4,['b','a', 'c', 'c'],[3,'asda', 3.4, 4.5, 'b'])"
   ]
  },
  {
   "cell_type": "code",
   "execution_count": null,
   "id": "dc1549bb",
   "metadata": {},
   "outputs": [],
   "source": [
    "set(mylist)"
   ]
  },
  {
   "cell_type": "code",
   "execution_count": null,
   "id": "7b0098c5",
   "metadata": {},
   "outputs": [],
   "source": [
    "mylist"
   ]
  },
  {
   "cell_type": "code",
   "execution_count": null,
   "id": "5f423951",
   "metadata": {},
   "outputs": [],
   "source": [
    "set(mylist)"
   ]
  },
  {
   "cell_type": "code",
   "execution_count": null,
   "id": "5d668487",
   "metadata": {},
   "outputs": [],
   "source": [
    "set('Mississippi')"
   ]
  },
  {
   "cell_type": "markdown",
   "id": "9377fc45",
   "metadata": {},
   "source": [
    "\n",
    "   **Booleans** operador que permite trasmitir afirmaciones **True** o **False** (Siempre con **T** y **F** mayúsculas)\n",
    "    \n",
    "    (Sirven para el control de flujo y lógica)"
   ]
  },
  {
   "cell_type": "code",
   "execution_count": null,
   "id": "b8610ff3",
   "metadata": {},
   "outputs": [],
   "source": [
    "True"
   ]
  },
  {
   "cell_type": "code",
   "execution_count": null,
   "id": "44ddf964",
   "metadata": {},
   "outputs": [],
   "source": [
    "true"
   ]
  },
  {
   "cell_type": "code",
   "execution_count": null,
   "id": "1331102c",
   "metadata": {},
   "outputs": [],
   "source": [
    "False"
   ]
  },
  {
   "cell_type": "code",
   "execution_count": null,
   "id": "d1e05a87",
   "metadata": {},
   "outputs": [],
   "source": [
    "type(False)"
   ]
  },
  {
   "cell_type": "code",
   "execution_count": null,
   "id": "a9b215e8",
   "metadata": {},
   "outputs": [],
   "source": [
    "1 > 2"
   ]
  },
  {
   "cell_type": "code",
   "execution_count": null,
   "id": "41b1783b",
   "metadata": {},
   "outputs": [],
   "source": [
    "1 < 1"
   ]
  },
  {
   "cell_type": "code",
   "execution_count": null,
   "id": "427e1438",
   "metadata": {},
   "outputs": [],
   "source": [
    "1 == 1"
   ]
  },
  {
   "cell_type": "code",
   "execution_count": null,
   "id": "aee5ae73",
   "metadata": {},
   "outputs": [],
   "source": [
    "1 =< 1"
   ]
  },
  {
   "cell_type": "code",
   "execution_count": null,
   "id": "86a478fd",
   "metadata": {},
   "outputs": [],
   "source": [
    "b = None"
   ]
  },
  {
   "cell_type": "code",
   "execution_count": null,
   "id": "18bb032b",
   "metadata": {},
   "outputs": [],
   "source": [
    "b"
   ]
  },
  {
   "cell_type": "markdown",
   "id": "4a4c6d46",
   "metadata": {},
   "source": [
    "\n",
    "   **I/O** Input and Output with basic .txt files\n",
    "    "
   ]
  },
  {
   "cell_type": "code",
   "execution_count": null,
   "id": "dad0c0b9",
   "metadata": {},
   "outputs": [],
   "source": [
    "test.txt"
   ]
  },
  {
   "cell_type": "markdown",
   "id": "4f7ed3f7",
   "metadata": {},
   "source": [
    " SOLO en Jupyter Notebook se puede usar\n",
    " %%writefile myfile.txt\n",
    " Hello this is a text file\n",
    " this is the second line\n",
    " this is the third line"
   ]
  },
  {
   "cell_type": "code",
   "execution_count": null,
   "id": "d52acb39",
   "metadata": {},
   "outputs": [],
   "source": [
    "%%writefile myfile.txt \n",
    "Hello this is a text file \n",
    "this is the second line \n",
    "this is the third line"
   ]
  },
  {
   "cell_type": "code",
   "execution_count": null,
   "id": "38f2453d",
   "metadata": {},
   "outputs": [],
   "source": [
    "myfile = open('myfile.txt')"
   ]
  },
  {
   "cell_type": "code",
   "execution_count": null,
   "id": "a25be6f9",
   "metadata": {},
   "outputs": [],
   "source": [
    "myfile = open('whoops_wrong.txt')"
   ]
  },
  {
   "cell_type": "code",
   "execution_count": null,
   "id": "9b5793c5",
   "metadata": {},
   "outputs": [],
   "source": [
    "test = open ('test.txt')"
   ]
  },
  {
   "cell_type": "code",
   "execution_count": null,
   "id": "df471555",
   "metadata": {},
   "outputs": [],
   "source": [
    "pwd"
   ]
  },
  {
   "cell_type": "markdown",
   "id": "cb32a48c",
   "metadata": {},
   "source": [
    " Puedo usar **pwd** (*print work directory*) para saber donde está ubicada esta notebook"
   ]
  },
  {
   "cell_type": "code",
   "execution_count": null,
   "id": "b2546a02",
   "metadata": {},
   "outputs": [],
   "source": [
    "test.txt"
   ]
  },
  {
   "cell_type": "code",
   "execution_count": null,
   "id": "b17d72cf",
   "metadata": {},
   "outputs": [],
   "source": [
    "myfile.txt"
   ]
  },
  {
   "cell_type": "code",
   "execution_count": null,
   "id": "06426b96",
   "metadata": {},
   "outputs": [],
   "source": [
    "test = open ('test.txt')"
   ]
  },
  {
   "cell_type": "code",
   "execution_count": null,
   "id": "266459a3",
   "metadata": {},
   "outputs": [],
   "source": [
    "myfile = open('myfile.txt')"
   ]
  },
  {
   "cell_type": "code",
   "execution_count": null,
   "id": "360d60eb",
   "metadata": {},
   "outputs": [],
   "source": [
    "myfile.read()"
   ]
  },
  {
   "cell_type": "markdown",
   "id": "262433ec",
   "metadata": {},
   "source": [
    "Si uso **.read()** me trae todo como una sola string, usando **\\n** para indicar una *nueva linea*"
   ]
  },
  {
   "cell_type": "code",
   "execution_count": null,
   "id": "e9b0e6c9",
   "metadata": {},
   "outputs": [],
   "source": [
    "myfile.read()"
   ]
  },
  {
   "cell_type": "markdown",
   "id": "b9ba460f",
   "metadata": {},
   "source": [
    "Esto pasa porque el \"Cursor\" fue hasta el final del archivo\n",
    "Para resetear eso puedo usar **seek(0)**"
   ]
  },
  {
   "cell_type": "code",
   "execution_count": null,
   "id": "7df5feee",
   "metadata": {},
   "outputs": [],
   "source": [
    "myfile.seek(0)"
   ]
  },
  {
   "cell_type": "code",
   "execution_count": null,
   "id": "f61fedf1",
   "metadata": {},
   "outputs": [],
   "source": [
    "myfile.read()"
   ]
  },
  {
   "cell_type": "code",
   "execution_count": null,
   "id": "285b72b1",
   "metadata": {},
   "outputs": [],
   "source": [
    "myfile.seek(8)"
   ]
  },
  {
   "cell_type": "code",
   "execution_count": null,
   "id": "04219a9a",
   "metadata": {},
   "outputs": [],
   "source": [
    "myfile.read()"
   ]
  },
  {
   "cell_type": "code",
   "execution_count": null,
   "id": "2001a3ab",
   "metadata": {},
   "outputs": [],
   "source": [
    "myfile.seek(0)"
   ]
  },
  {
   "cell_type": "code",
   "execution_count": null,
   "id": "2eb3216c",
   "metadata": {},
   "outputs": [],
   "source": [
    "contents = myfile.read()"
   ]
  },
  {
   "cell_type": "code",
   "execution_count": null,
   "id": "3861b3db",
   "metadata": {},
   "outputs": [],
   "source": [
    "contents"
   ]
  },
  {
   "cell_type": "code",
   "execution_count": null,
   "id": "0e2b7429",
   "metadata": {},
   "outputs": [],
   "source": [
    "myfile.seek(0)"
   ]
  },
  {
   "cell_type": "code",
   "execution_count": null,
   "id": "7b5833b7",
   "metadata": {},
   "outputs": [],
   "source": [
    "myfile.read(4)"
   ]
  },
  {
   "cell_type": "code",
   "execution_count": null,
   "id": "6c3aef1d",
   "metadata": {},
   "outputs": [],
   "source": [
    "myfile.seek(0)"
   ]
  },
  {
   "cell_type": "code",
   "execution_count": null,
   "id": "355d7ea2",
   "metadata": {},
   "outputs": [],
   "source": [
    "myfile.read(:4)"
   ]
  },
  {
   "cell_type": "code",
   "execution_count": null,
   "id": "a0e23621",
   "metadata": {},
   "outputs": [],
   "source": [
    "myfile.seek(0)"
   ]
  },
  {
   "cell_type": "code",
   "execution_count": null,
   "id": "bdf63acc",
   "metadata": {},
   "outputs": [],
   "source": [
    "myfile.read([:4])"
   ]
  },
  {
   "cell_type": "code",
   "execution_count": null,
   "id": "fa14437d",
   "metadata": {},
   "outputs": [],
   "source": [
    "myfile.read()"
   ]
  },
  {
   "cell_type": "code",
   "execution_count": null,
   "id": "3c88c116",
   "metadata": {},
   "outputs": [],
   "source": [
    "myfile.seek(0)"
   ]
  },
  {
   "cell_type": "code",
   "execution_count": null,
   "id": "d309962b",
   "metadata": {},
   "outputs": [],
   "source": [
    "myfile.readlines()"
   ]
  },
  {
   "cell_type": "code",
   "execution_count": null,
   "id": "e7988357",
   "metadata": {},
   "outputs": [],
   "source": [
    "myfile = open('C:\\\\Users\\\\Gin\\\\Desktop\\\\PYTHON\\\\Python - Zero-2-Hero\\\\test.txt')"
   ]
  },
  {
   "cell_type": "markdown",
   "id": "7ef4a109",
   "metadata": {},
   "source": [
    "\n",
    "**Best Practice** Hay que cerrar el archivo que abrimos cuando termino de usarlo. Se usa **.close()**"
   ]
  },
  {
   "cell_type": "code",
   "execution_count": null,
   "id": "85362b52",
   "metadata": {},
   "outputs": [],
   "source": [
    "myfile.close()"
   ]
  },
  {
   "cell_type": "code",
   "execution_count": null,
   "id": "1823e18c",
   "metadata": {},
   "outputs": [],
   "source": [
    "test.close()"
   ]
  },
  {
   "cell_type": "code",
   "execution_count": null,
   "id": "2dcc29bc",
   "metadata": {},
   "outputs": [],
   "source": [
    "myfile = open (myfile.txt)"
   ]
  },
  {
   "cell_type": "code",
   "execution_count": null,
   "id": "1b549324",
   "metadata": {},
   "outputs": [],
   "source": [
    "myfile = open('myfile.txt')"
   ]
  },
  {
   "cell_type": "code",
   "execution_count": null,
   "id": "a558b8e5",
   "metadata": {},
   "outputs": [],
   "source": [
    "myfile.close()"
   ]
  },
  {
   "cell_type": "markdown",
   "id": "055bcd57",
   "metadata": {},
   "source": [
    "\n",
    "Puedo abrirlo como uno nuevo usando **with** antes de open('myfile.txt') **as** my_new_file:\n",
    "\n",
    "    <- Esto genera un \"indented\" block of code que va dentro my_new_file en lugar de myfile"
   ]
  },
  {
   "cell_type": "code",
   "execution_count": null,
   "id": "c2922f18",
   "metadata": {},
   "outputs": [],
   "source": [
    "with open ('myfile.txt') as my_new_file:\n",
    "    contents = my_new_file.read()"
   ]
  },
  {
   "cell_type": "code",
   "execution_count": null,
   "id": "a82177f6",
   "metadata": {},
   "outputs": [],
   "source": [
    "contents"
   ]
  },
  {
   "cell_type": "markdown",
   "id": "967498e1",
   "metadata": {},
   "source": [
    "\n",
    "Para escribir puedo usar **with open('myfile.text',)** al agregar la coma voy con el cursor al espacio entre **(** y **'** , luedo de **open** y hago **shift + tab** para opciones y revisar con que mode quiero abrirlo indicandolo luego de la coma:\n",
    "\n",
    "   **with open('myfile.text',mode='r'** para read"
   ]
  },
  {
   "cell_type": "code",
   "execution_count": null,
   "id": "1a2631a4",
   "metadata": {},
   "outputs": [],
   "source": [
    "with open('myfile.txt',mode='r') as myfile:\n",
    "    contents = myfile.read()"
   ]
  },
  {
   "cell_type": "code",
   "execution_count": null,
   "id": "a3e27055",
   "metadata": {},
   "outputs": [],
   "source": [
    "with open('myfile.txt',mode='w') as myfile:\n",
    "    contents = myfile.read()"
   ]
  },
  {
   "cell_type": "markdown",
   "id": "9dbf3309",
   "metadata": {},
   "source": [
    "Dependiendo del modo que elijo tal vez no puedo hacer lo que quiero, ej: si lo abro para escribir no lo puedo usar para leer\n",
    "\n",
    "...because of permissions"
   ]
  },
  {
   "cell_type": "code",
   "execution_count": null,
   "id": "f960f376",
   "metadata": {},
   "outputs": [],
   "source": [
    "with open('myfile.txt',mode='a') as myfile:\n",
    "    contents = myfile.read()"
   ]
  },
  {
   "cell_type": "markdown",
   "id": "ba4e151e",
   "metadata": {},
   "source": [
    "**Reading, Writing and Appending Modes**"
   ]
  },
  {
   "cell_type": "markdown",
   "id": "3cb7fdd1",
   "metadata": {},
   "source": [
    "**· mode='r'**       open for reading only (default)\n",
    "\n",
    "**· mode='w'**       open for writing only (will overwrite files or create new!)\n",
    "\n",
    "**· mode='a'**       open for appending only (will add on to files)\n",
    "\n",
    "**· mode='r+'**      is reading and writing\n",
    "\n",
    "**· mode='w+'**      is writing and read (Overwrites existing files or creates a new file!)\n",
    "\n",
    "\n",
    "\n",
    "Tambien:\n",
    "'x'       create a new file and open it for writing\n",
    "'b'       binary mode\n",
    "'t'       text mode (default)\n",
    "'+'       open a disk file for updating (reading and writing)\n",
    "'U'       universal newline mode (deprecated)\n"
   ]
  },
  {
   "cell_type": "code",
   "execution_count": null,
   "id": "31ed6c4a",
   "metadata": {},
   "outputs": [],
   "source": [
    "%%writefile my_new_file.txt\n",
    "ONE ON FIRST\n",
    "TWO ON SECOND\n",
    "THREE ON THIRD"
   ]
  },
  {
   "cell_type": "code",
   "execution_count": null,
   "id": "fba57faa",
   "metadata": {},
   "outputs": [],
   "source": [
    "with open('my_new_file.txt',mode='r') as f:\n",
    "    print(f.read())"
   ]
  },
  {
   "cell_type": "code",
   "execution_count": null,
   "id": "9ab8f03c",
   "metadata": {},
   "outputs": [],
   "source": [
    "with open('my_new_file.txt',mode='a') as f:\n",
    "    f.write('FOUR ON FOURTH')"
   ]
  },
  {
   "cell_type": "code",
   "execution_count": null,
   "id": "ef40eeff",
   "metadata": {},
   "outputs": [],
   "source": [
    "with open('my_new_file.txt',mode='r') as f:\n",
    "    print(f.read())"
   ]
  },
  {
   "cell_type": "code",
   "execution_count": null,
   "id": "75626851",
   "metadata": {},
   "outputs": [],
   "source": [
    "with open('asdfghjkl.txt', mode='w') as f:\n",
    "    f.write('I CREATED THIS FILE!')"
   ]
  },
  {
   "cell_type": "code",
   "execution_count": null,
   "id": "eb45fc43",
   "metadata": {},
   "outputs": [],
   "source": [
    "with open('asdfghjkl.txt', mode='r') as f:\n",
    "    print(f.read())"
   ]
  },
  {
   "cell_type": "markdown",
   "id": "fa5c2cfa",
   "metadata": {},
   "source": [
    "# Comparison Operators \n",
    "\n",
    "In this lecture we will be learning about Comparison Operators in Python. These operators will allow us to compare variables and output a Boolean value (True or False). \n",
    "\n",
    "If you have any sort of background in Math, these operators should be very straight forward.\n",
    "\n",
    "First we'll present a table of the comparison operators and then work through some examples:\n",
    "\n",
    "<h2> Table of Comparison Operators </h2><p>  In the table below, a=3 and b=4.</p>\n",
    "\n",
    "<table class=\"table table-bordered\">\n",
    "<tr>\n",
    "<th style=\"width:10%\">Operator</th><th style=\"width:45%\">Description</th><th>Example</th>\n",
    "</tr>\n",
    "<tr>\n",
    "<td>==</td>\n",
    "<td>If the values of two operands are equal, then the condition becomes true.</td>\n",
    "<td> (a == b) is not true.</td>\n",
    "</tr>\n",
    "<tr>\n",
    "<td>!=</td>\n",
    "<td>If values of two operands are not equal, then condition becomes true.</td>\n",
    "<td>(a != b) is true</td>\n",
    "</tr>\n",
    "<tr>\n",
    "<td>&gt;</td>\n",
    "<td>If the value of left operand is greater than the value of right operand, then condition becomes true.</td>\n",
    "<td> (a &gt; b) is not true.</td>\n",
    "</tr>\n",
    "<tr>\n",
    "<td>&lt;</td>\n",
    "<td>If the value of left operand is less than the value of right operand, then condition becomes true.</td>\n",
    "<td> (a &lt; b) is true.</td>\n",
    "</tr>\n",
    "<tr>\n",
    "<td>&gt;=</td>\n",
    "<td>If the value of left operand is greater than or equal to the value of right operand, then condition becomes true.</td>\n",
    "<td> (a &gt;= b) is not true. </td>\n",
    "</tr>\n",
    "<tr>\n",
    "<td>&lt;=</td>\n",
    "<td>If the value of left operand is less than or equal to the value of right operand, then condition becomes true.</td>\n",
    "<td> (a &lt;= b) is true. </td>\n",
    "</tr>\n",
    "</table>"
   ]
  },
  {
   "cell_type": "code",
   "execution_count": null,
   "id": "0ba5e97a",
   "metadata": {},
   "outputs": [],
   "source": [
    "2 == 2"
   ]
  },
  {
   "cell_type": "code",
   "execution_count": null,
   "id": "4cbae667",
   "metadata": {},
   "outputs": [],
   "source": [
    "1 == 2"
   ]
  },
  {
   "cell_type": "code",
   "execution_count": null,
   "id": "d9de68b3",
   "metadata": {},
   "outputs": [],
   "source": [
    "'hello' == 'bye'"
   ]
  },
  {
   "cell_type": "code",
   "execution_count": null,
   "id": "1bcca4e3",
   "metadata": {},
   "outputs": [],
   "source": [
    "'Bye' == 'bye'"
   ]
  },
  {
   "cell_type": "code",
   "execution_count": null,
   "id": "bc6c38df",
   "metadata": {},
   "outputs": [],
   "source": [
    "2.0 == 2"
   ]
  },
  {
   "cell_type": "code",
   "execution_count": null,
   "id": "41bf66af",
   "metadata": {},
   "outputs": [],
   "source": [
    "2 == '2'"
   ]
  },
  {
   "cell_type": "code",
   "execution_count": null,
   "id": "43b63661",
   "metadata": {},
   "outputs": [],
   "source": [
    "3 != 3"
   ]
  },
  {
   "cell_type": "code",
   "execution_count": null,
   "id": "9a4b7f3b",
   "metadata": {},
   "outputs": [],
   "source": [
    "4 != 5"
   ]
  },
  {
   "cell_type": "code",
   "execution_count": null,
   "id": "95eaadfd",
   "metadata": {},
   "outputs": [],
   "source": [
    "2 < 1"
   ]
  },
  {
   "cell_type": "code",
   "execution_count": null,
   "id": "54d071fa",
   "metadata": {},
   "outputs": [],
   "source": [
    "2 > 1"
   ]
  },
  {
   "cell_type": "code",
   "execution_count": null,
   "id": "fec167fe",
   "metadata": {},
   "outputs": [],
   "source": [
    "2 <= 2"
   ]
  },
  {
   "cell_type": "code",
   "execution_count": null,
   "id": "be107590",
   "metadata": {},
   "outputs": [],
   "source": [
    "3 <= 2"
   ]
  },
  {
   "cell_type": "code",
   "execution_count": null,
   "id": "1677afd4",
   "metadata": {},
   "outputs": [],
   "source": [
    "1 <= 2"
   ]
  },
  {
   "cell_type": "code",
   "execution_count": null,
   "id": "4252422b",
   "metadata": {},
   "outputs": [],
   "source": [
    "4 >= 3"
   ]
  },
  {
   "cell_type": "markdown",
   "id": "3c07f5b9",
   "metadata": {},
   "source": [
    "**Chaining comaparison operators**\n",
    "\n",
    "**and**\n",
    "\n",
    "**or**\n",
    "\n",
    "**not** brings the opposite bool of the comparison (if it 1 == 1 is True, \"not 1==1\" brings False)"
   ]
  },
  {
   "cell_type": "code",
   "execution_count": null,
   "id": "454fa614",
   "metadata": {},
   "outputs": [],
   "source": [
    "1 < 2 < 3"
   ]
  },
  {
   "cell_type": "code",
   "execution_count": null,
   "id": "c63a0dd2",
   "metadata": {},
   "outputs": [],
   "source": [
    "1 < 2 > 3"
   ]
  },
  {
   "cell_type": "code",
   "execution_count": null,
   "id": "69e72fb7",
   "metadata": {},
   "outputs": [],
   "source": [
    "1 < 2 and 3 >= 3"
   ]
  },
  {
   "cell_type": "code",
   "execution_count": null,
   "id": "43bc5774",
   "metadata": {},
   "outputs": [],
   "source": [
    "2 > 1 or 4 == 5"
   ]
  },
  {
   "cell_type": "code",
   "execution_count": null,
   "id": "2eec9838",
   "metadata": {},
   "outputs": [],
   "source": [
    "'hello' == 'hello' or 1 == 1"
   ]
  },
  {
   "cell_type": "code",
   "execution_count": null,
   "id": "55d6f447",
   "metadata": {},
   "outputs": [],
   "source": [
    "'hello' != 'hello' or 1 == 2"
   ]
  },
  {
   "cell_type": "code",
   "execution_count": null,
   "id": "bce13a2b",
   "metadata": {},
   "outputs": [],
   "source": [
    "1 == 1"
   ]
  },
  {
   "cell_type": "code",
   "execution_count": null,
   "id": "007a08cd",
   "metadata": {},
   "outputs": [],
   "source": [
    "not (1==1)"
   ]
  },
  {
   "cell_type": "code",
   "execution_count": null,
   "id": "38ab536b",
   "metadata": {},
   "outputs": [],
   "source": [
    "not 1==1"
   ]
  },
  {
   "cell_type": "code",
   "execution_count": null,
   "id": "78b4165d",
   "metadata": {},
   "outputs": [],
   "source": [
    "123 == 5"
   ]
  },
  {
   "cell_type": "code",
   "execution_count": null,
   "id": "18129034",
   "metadata": {},
   "outputs": [],
   "source": [
    "not 123 == 5"
   ]
  },
  {
   "cell_type": "markdown",
   "id": "5e5f2197",
   "metadata": {},
   "source": [
    "# if, elif, else Statements\n",
    "\n",
    "<code>if</code> Statements in Python allows us to tell the computer to perform alternative actions based on a certain set of results.\n",
    "\n",
    "Verbally, we can imagine we are telling the computer:\n",
    "\n",
    "\"Hey if this case happens, perform some action\"\n",
    "\n",
    "We can then expand the idea further with <code>elif</code> and <code>else</code> statements, which allow us to tell the computer:\n",
    "\n",
    "\"Hey if this case happens, perform some action. Else, if another case happens, perform some other action. Else, if *none* of the above cases happened, perform this action.\"\n",
    "\n",
    "Let's go ahead and look at the syntax format for <code>if</code> statements to get a better idea of this:\n",
    "\n",
    "    if case1:\n",
    "        perform action1\n",
    "    elif case2:\n",
    "        perform action2\n",
    "    else: \n",
    "        perform action3"
   ]
  },
  {
   "cell_type": "code",
   "execution_count": null,
   "id": "0bf612b1",
   "metadata": {},
   "outputs": [],
   "source": [
    "if True:\n",
    "    print ('ITS TRUE')"
   ]
  },
  {
   "cell_type": "code",
   "execution_count": null,
   "id": "5f94e9f7",
   "metadata": {},
   "outputs": [],
   "source": [
    "if 3<4:\n",
    "    print ('ITS TRUE')"
   ]
  },
  {
   "cell_type": "code",
   "execution_count": null,
   "id": "adab0f66",
   "metadata": {},
   "outputs": [],
   "source": [
    "hungry = True\n",
    "if hungry:\n",
    "    print('Feed me!')"
   ]
  },
  {
   "cell_type": "code",
   "execution_count": null,
   "id": "b516595b",
   "metadata": {},
   "outputs": [],
   "source": [
    "hungry = False\n",
    "if hungry:\n",
    "    print('Feed me!')\n",
    "else:\n",
    "    print('Im not hungry')"
   ]
  },
  {
   "cell_type": "code",
   "execution_count": null,
   "id": "73086a9d",
   "metadata": {},
   "outputs": [],
   "source": [
    "loc = 'Bank'\n",
    "\n",
    "if loc == 'Auto Shop':\n",
    "    print ('Cars are cool!')\n",
    "else:\n",
    "    print ('I dont know munch')"
   ]
  },
  {
   "cell_type": "code",
   "execution_count": null,
   "id": "c51608a3",
   "metadata": {},
   "outputs": [],
   "source": [
    "loc = 'Game'\n",
    "\n",
    "if loc == 'Auto Shop':\n",
    "    print ('Cars are cool!')\n",
    "elif loc == 'bank':\n",
    "    print ('Money is cool!')\n",
    "elif loc =='Store':\n",
    "    print ('Welcome to the store!')\n",
    "else:\n",
    "    print ('I dont know much')"
   ]
  },
  {
   "cell_type": "code",
   "execution_count": null,
   "id": "bfcd41be",
   "metadata": {},
   "outputs": [],
   "source": [
    "name = 'Ramirez'\n",
    "\n",
    "if name == 'Frankie':\n",
    "    print ('Hello Frankie')\n",
    "elif name == 'Sammy':\n",
    "    print ('Good day Sammy')\n",
    "else:\n",
    "    print(('Wellmet ')+name)"
   ]
  },
  {
   "cell_type": "markdown",
   "id": "3edd63b1",
   "metadata": {},
   "source": [
    "# for Loops\n",
    "\n",
    "A <code>for</code> loop acts as an iterator in Python; it goes through items that are in a *sequence* or any other iterable item. Objects that we've learned about that we can iterate over include strings, lists, tuples, and even built-in iterables for dictionaries, such as keys or values.\n",
    "\n",
    "We've already seen the <code>for</code> statement a little bit in past lectures but now let's formalize our understanding.\n",
    "\n",
    "Here's the general format for a <code>for</code> loop in Python:\n",
    "\n",
    "    for item in object:\n",
    "        statements to do stuff\n",
    "    "
   ]
  },
  {
   "cell_type": "markdown",
   "id": "06eb7799",
   "metadata": {},
   "source": [
    "The variable name used for the item is completely up to the coder, so use your best judgment for choosing a name that makes sense and you will be able to understand when revisiting your code. This item name can then be referenced inside your loop, for example if you wanted to use <code>if</code> statements to perform checks.\n",
    "\n",
    "Let's go ahead and work through several example of <code>for</code> loops using a variety of data object types. We'll start simple and build more complexity later on.\n",
    "\n",
    "## Example 1\n",
    "Iterating through a list"
   ]
  },
  {
   "cell_type": "code",
   "execution_count": null,
   "id": "20e16e31",
   "metadata": {},
   "outputs": [],
   "source": [
    "my_pets = ['Coco', 'Leeloo', 'Hermes']\n",
    "for pet_name in my_pets:\n",
    "    print (pet_name)"
   ]
  },
  {
   "cell_type": "code",
   "execution_count": null,
   "id": "a6171847",
   "metadata": {},
   "outputs": [],
   "source": [
    "mylist = [1,2,3,4,5,6,7,8,9,10]"
   ]
  },
  {
   "cell_type": "code",
   "execution_count": null,
   "id": "ac934c89",
   "metadata": {},
   "outputs": [],
   "source": [
    "for number in mylist:\n",
    "    print(number)\n",
    "    \n",
    "    # ponerle \"number\" puede ser cualquier variable name, pero va a representar cada nùmero dentro de esa lista."
   ]
  },
  {
   "cell_type": "code",
   "execution_count": null,
   "id": "f9d8b588",
   "metadata": {},
   "outputs": [],
   "source": [
    "for number in mylist:\n",
    "    print('Hello')"
   ]
  },
  {
   "cell_type": "code",
   "execution_count": null,
   "id": "bdcffc7c",
   "metadata": {},
   "outputs": [],
   "source": [
    "for number in mylist:\n",
    "    # Check for even\n",
    "    if number % 2 == 0:\n",
    "        print (number)\n",
    "    else:\n",
    "        print (f'Odd Number: {number}')"
   ]
  },
  {
   "cell_type": "code",
   "execution_count": null,
   "id": "d3cab31f",
   "metadata": {},
   "outputs": [],
   "source": [
    "list_sum = 0\n",
    "\n",
    "for number in mylist:\n",
    "    list_sum = list_sum + number\n",
    "\n",
    "print(list_sum)"
   ]
  },
  {
   "cell_type": "code",
   "execution_count": null,
   "id": "1ff416ce",
   "metadata": {},
   "outputs": [],
   "source": [
    "list_sum = 0\n",
    "\n",
    "for number in mylist:\n",
    "    list_sum = list_sum + number\n",
    "\n",
    "    print(list_sum)"
   ]
  },
  {
   "cell_type": "code",
   "execution_count": null,
   "id": "fa9dd451",
   "metadata": {},
   "outputs": [],
   "source": [
    "mystring = 'Praise the Omnissiah!'\n",
    "for letter in mystring:\n",
    "    print (letter)"
   ]
  },
  {
   "cell_type": "code",
   "execution_count": null,
   "id": "bb29e98e",
   "metadata": {},
   "outputs": [],
   "source": [
    "\n",
    "for asdf in 'Bubulele':\n",
    "    print (asdf)"
   ]
  },
  {
   "cell_type": "code",
   "execution_count": null,
   "id": "257b2364",
   "metadata": {},
   "outputs": [],
   "source": [
    "#algunos usan el underscore/guiòn bajo _ para indicar en la función un iterable que no piensa usar luego, y no se gastan en ponerle un nombre acorde\n",
    "for _ in 'Bubulele':\n",
    "    print ('Cool!')"
   ]
  },
  {
   "cell_type": "code",
   "execution_count": null,
   "id": "dfea95aa",
   "metadata": {},
   "outputs": [],
   "source": [
    "tup = (1,2,3)\n",
    "\n",
    "for item in tup:\n",
    "    print (item)"
   ]
  },
  {
   "cell_type": "markdown",
   "id": "2233b399",
   "metadata": {},
   "source": [
    "**Tuples** have a special quality when it comes to for loops. If you are iterating through a sequence that contains tuples, *the item can actually be the tuple itself*, this is an example of **tuple unpacking**. During the for loop we will be unpacking the tuple inside of a sequence and we can access the individual items inside that tuple!"
   ]
  },
  {
   "cell_type": "code",
   "execution_count": null,
   "id": "0ceaa9bb",
   "metadata": {},
   "outputs": [],
   "source": [
    "mylist = [(1,2), (3,4), (5,6), (7,8)]"
   ]
  },
  {
   "cell_type": "code",
   "execution_count": null,
   "id": "ab6aaf71",
   "metadata": {},
   "outputs": [],
   "source": [
    "len (mylist)"
   ]
  },
  {
   "cell_type": "code",
   "execution_count": null,
   "id": "0e5da3ea",
   "metadata": {},
   "outputs": [],
   "source": [
    "for item in mylist:\n",
    "    print(item)"
   ]
  },
  {
   "cell_type": "code",
   "execution_count": null,
   "id": "a660d0e8",
   "metadata": {},
   "outputs": [],
   "source": [
    "for (a,b) in mylist:\n",
    "    print(a)\n",
    "    print(b)"
   ]
  },
  {
   "cell_type": "markdown",
   "id": "24ef1508",
   "metadata": {},
   "source": [
    "Duplicas las estructura de los items dentro de la secuencia para el unpacking"
   ]
  },
  {
   "cell_type": "code",
   "execution_count": null,
   "id": "6c25e89a",
   "metadata": {},
   "outputs": [],
   "source": [
    "for a,b in mylist:\n",
    "    print(a)"
   ]
  },
  {
   "cell_type": "markdown",
   "id": "0f13f34b",
   "metadata": {},
   "source": [
    "De hecho no necesita los ()"
   ]
  },
  {
   "cell_type": "code",
   "execution_count": null,
   "id": "576905dc",
   "metadata": {},
   "outputs": [],
   "source": [
    "x = 'sun'\n",
    "y = 777\n",
    "z = 4.5\n",
    "mylist = [(1,2,3),(x,y,z),('alpha','beta', 'gamma')]"
   ]
  },
  {
   "cell_type": "code",
   "execution_count": null,
   "id": "5bc114b9",
   "metadata": {},
   "outputs": [],
   "source": [
    "for a,b,c in mylist:\n",
    "    print(a)\n",
    "    print(b)\n",
    "    print(c)"
   ]
  },
  {
   "cell_type": "code",
   "execution_count": null,
   "id": "e798cb3e",
   "metadata": {},
   "outputs": [],
   "source": [
    "d = {'k1':1, 'k2':2, 'k3':3}\n",
    "\n",
    "for item in d:\n",
    "    print (item)"
   ]
  },
  {
   "cell_type": "code",
   "execution_count": null,
   "id": "5c78276e",
   "metadata": {},
   "outputs": [],
   "source": [
    "d = {'k1':1, 'k2':2, 'k1':3}\n",
    "\n",
    "for item in d:\n",
    "    print (item)"
   ]
  },
  {
   "cell_type": "code",
   "execution_count": null,
   "id": "b9955978",
   "metadata": {},
   "outputs": [],
   "source": [
    "mylist = [1,2,32,13,2,1,4,1,2,3,3]\n",
    "for number in mylist:\n",
    "    print(number)"
   ]
  },
  {
   "cell_type": "code",
   "execution_count": null,
   "id": "667a7914",
   "metadata": {},
   "outputs": [],
   "source": [
    "d = {'k1':1, 'k2':2, 'k3':3}\n",
    "\n",
    "for item in d.items():\n",
    "    print (item)"
   ]
  },
  {
   "cell_type": "code",
   "execution_count": null,
   "id": "c82d1903",
   "metadata": {},
   "outputs": [],
   "source": [
    "d = {'k1':1, 'k2':2, 'k3':3}\n",
    "\n",
    "for key,value in d.items():\n",
    "    print (value)"
   ]
  },
  {
   "cell_type": "markdown",
   "id": "f9541139",
   "metadata": {},
   "source": [
    "As dictionaries and unordered, when a iterate there is no guarantee that it will return the values in the same order they where introduced to the dictionary."
   ]
  },
  {
   "cell_type": "code",
   "execution_count": null,
   "id": "a320f606",
   "metadata": {},
   "outputs": [],
   "source": [
    "#"
   ]
  },
  {
   "cell_type": "markdown",
   "id": "51f2c4d4",
   "metadata": {},
   "source": [
    "# while Loops\n",
    "\n",
    "The <code>while</code> statement in Python is one of most general ways to perform iteration. A <code>while</code> statement will repeatedly execute a single statement or group of statements as long as the condition is true. The reason it is called a 'loop' is because the code statements are looped through over and over again until the condition is no longer met.\n",
    "\n",
    "The general format of a while loop is:\n",
    "\n",
    "    while test:\n",
    "        code statements\n",
    "    else:\n",
    "        final code statements\n",
    "\n",
    "Let’s look at a few simple <code>while</code> loops in action. "
   ]
  },
  {
   "cell_type": "markdown",
   "id": "65295e34",
   "metadata": {},
   "source": [
    "# break, continue, pass\n",
    "\n",
    "We can use <code>break</code>, <code>continue</code>, and <code>pass</code> statements in our loops to add additional functionality for various cases. The three statements are defined by:\n",
    "\n",
    "    break: Breaks out of the current closest enclosing loop.\n",
    "    continue: Goes to the top of the closest enclosing loop.\n",
    "    pass: Does nothing at all.\n",
    "    \n",
    "    \n",
    "Thinking about <code>break</code> and <code>continue</code> statements, the general format of the <code>while</code> loop looks like this:\n",
    "\n",
    "    while test: \n",
    "        code statement\n",
    "        if test: \n",
    "            break\n",
    "        if test: \n",
    "            continue \n",
    "    else:\n",
    "\n",
    "<code>break</code> and <code>continue</code> statements can appear anywhere inside the loop’s body, but we will usually put them further nested in conjunction with an <code>if</code> statement to perform an action based on some condition."
   ]
  },
  {
   "cell_type": "code",
   "execution_count": null,
   "id": "ed8a9e2f",
   "metadata": {},
   "outputs": [],
   "source": [
    "x = 0\n",
    "\n",
    "while x < 5:\n",
    "    print(f'The current value of x is {x}')\n",
    "    x = x + 1 #can also write \"x += 1\""
   ]
  },
  {
   "cell_type": "code",
   "execution_count": null,
   "id": "7f4d8642",
   "metadata": {},
   "outputs": [],
   "source": [
    "x = 0\n",
    "\n",
    "while x < 5:\n",
    "    print(f'The current value of x is {x}')\n",
    "    x += 1\n",
    "\n",
    "else:\n",
    "    print ('X is not less than 5')"
   ]
  },
  {
   "cell_type": "code",
   "execution_count": null,
   "id": "6e3be55f",
   "metadata": {},
   "outputs": [],
   "source": [
    "x = (1,2,3)\n",
    "\n",
    "for item in x:\n",
    "    # comment\n",
    "    pass\n",
    "\n",
    "print ('end of my script')"
   ]
  },
  {
   "cell_type": "code",
   "execution_count": null,
   "id": "2f241c61",
   "metadata": {},
   "outputs": [],
   "source": [
    "mystring = 'Sammy'"
   ]
  },
  {
   "cell_type": "code",
   "execution_count": null,
   "id": "50a227e8",
   "metadata": {},
   "outputs": [],
   "source": [
    "for letter in mystring:\n",
    "    print (letter)"
   ]
  },
  {
   "cell_type": "code",
   "execution_count": null,
   "id": "d064d1e3",
   "metadata": {},
   "outputs": [],
   "source": [
    "for letter in mystring:\n",
    "    if letter == 'a':\n",
    "        continue\n",
    "    print (letter)"
   ]
  },
  {
   "cell_type": "code",
   "execution_count": null,
   "id": "63812baa",
   "metadata": {},
   "outputs": [],
   "source": [
    "for letter in mystring:\n",
    "    if letter == 'a':\n",
    "        break\n",
    "    print (letter)"
   ]
  },
  {
   "cell_type": "code",
   "execution_count": null,
   "id": "97922491",
   "metadata": {},
   "outputs": [],
   "source": [
    "for letter in mystring:\n",
    "    if letter == 'a':\n",
    "        pass\n",
    "    print (letter)"
   ]
  },
  {
   "cell_type": "code",
   "execution_count": null,
   "id": "37da8d31",
   "metadata": {},
   "outputs": [],
   "source": [
    "x = 0\n",
    "\n",
    "while x < 5:\n",
    "    print (x)\n",
    "    x += 1"
   ]
  },
  {
   "cell_type": "code",
   "execution_count": null,
   "id": "87cbf5ee",
   "metadata": {},
   "outputs": [],
   "source": [
    "x = 0\n",
    "\n",
    "while x < 9:\n",
    "    if x == 2:\n",
    "        break\n",
    "    print(x)\n",
    "    x += 1"
   ]
  },
  {
   "cell_type": "code",
   "execution_count": null,
   "id": "bad9a83f",
   "metadata": {},
   "outputs": [],
   "source": [
    "#\n"
   ]
  },
  {
   "cell_type": "markdown",
   "id": "33d449f9",
   "metadata": {},
   "source": [
    "# Useful Operators\n",
    "\n",
    "There are a few built-in functions and \"operators\" in Python that don't fit well into any category, so we will go over them in this lecture, let's begin!"
   ]
  },
  {
   "cell_type": "markdown",
   "id": "d2a6f576",
   "metadata": {},
   "source": [
    "## range\n",
    "\n",
    "The range function allows you to quickly *generate* a list of integers, this comes in handy a lot, so take note of how to use it! There are 3 parameters you can pass, a start, a stop, and a step size. Let's see some examples:"
   ]
  },
  {
   "cell_type": "code",
   "execution_count": null,
   "id": "0bf310a7",
   "metadata": {},
   "outputs": [],
   "source": [
    "mylist = [1,2,3]"
   ]
  },
  {
   "cell_type": "code",
   "execution_count": null,
   "id": "4aa4b478",
   "metadata": {},
   "outputs": [],
   "source": [
    "for num in range(3,10):\n",
    "    print (num)"
   ]
  },
  {
   "cell_type": "code",
   "execution_count": null,
   "id": "82779520",
   "metadata": {},
   "outputs": [],
   "source": [
    "for num in range(3,10, 2):\n",
    "    print (num)"
   ]
  },
  {
   "cell_type": "code",
   "execution_count": null,
   "id": "db767eab",
   "metadata": {},
   "outputs": [],
   "source": [
    "for num in range(10):\n",
    "    print (num)"
   ]
  },
  {
   "cell_type": "code",
   "execution_count": null,
   "id": "d9394cfa",
   "metadata": {},
   "outputs": [],
   "source": [
    "range (10)"
   ]
  },
  {
   "cell_type": "code",
   "execution_count": null,
   "id": "e720cb7e",
   "metadata": {},
   "outputs": [],
   "source": [
    "list(range(0,11,2))"
   ]
  },
  {
   "cell_type": "markdown",
   "id": "962eef2f",
   "metadata": {},
   "source": [
    "## enumerate\n",
    "\n",
    "enumerate is a very useful function to use with for loops."
   ]
  },
  {
   "cell_type": "code",
   "execution_count": null,
   "id": "d1185f6a",
   "metadata": {},
   "outputs": [],
   "source": [
    "for i,letter in enumerate('abcde'):\n",
    "    print(\"At index {} the letter is {}\".format(i,letter))"
   ]
  },
  {
   "cell_type": "code",
   "execution_count": null,
   "id": "15f949ad",
   "metadata": {},
   "outputs": [],
   "source": [
    "index_count = 0\n",
    "\n",
    "for letter in 'abcde':\n",
    "    print ('At index {} the letter is {}'.format(index_count,letter))\n",
    "    index_count += 1"
   ]
  },
  {
   "cell_type": "code",
   "execution_count": null,
   "id": "2f6cd68a",
   "metadata": {},
   "outputs": [],
   "source": [
    "index_count = 0\n",
    "word = 'abcde'\n",
    "for letter in word:\n",
    "    print (word[index_count])\n",
    "    index_count+=1"
   ]
  },
  {
   "cell_type": "code",
   "execution_count": null,
   "id": "7a8813f3",
   "metadata": {},
   "outputs": [],
   "source": [
    "word = 'abcde'\n",
    "for item in enumerate (word):\n",
    "    print(item)"
   ]
  },
  {
   "cell_type": "raw",
   "id": "f54e3033",
   "metadata": {},
   "source": [
    "regresa un tuple"
   ]
  },
  {
   "cell_type": "code",
   "execution_count": null,
   "id": "de9ee43c",
   "metadata": {},
   "outputs": [],
   "source": [
    "word = 'abcde'\n",
    "for index,letter in enumerate (word):\n",
    "    print(index)\n",
    "    print(letter)\n",
    "    print ('\\n')"
   ]
  },
  {
   "cell_type": "markdown",
   "id": "dc7ef2ab",
   "metadata": {},
   "source": [
    "## zip\n",
    "\n",
    "Notice the format enumerate actually returns, let's take a look by transforming it to a list()"
   ]
  },
  {
   "cell_type": "code",
   "execution_count": null,
   "id": "04926660",
   "metadata": {},
   "outputs": [],
   "source": [
    "list(enumerate('abcde'))"
   ]
  },
  {
   "cell_type": "markdown",
   "id": "e7f5e890",
   "metadata": {},
   "source": [
    "It was a list of tuples, meaning we could use tuple unpacking during our for loop. This data structure is actually very common in Python , especially when working with outside libraries. You can use the zip() function to quickly create a list of tuples by \"zipping\" up together two lists."
   ]
  },
  {
   "cell_type": "code",
   "execution_count": null,
   "id": "ba147bb4",
   "metadata": {},
   "outputs": [],
   "source": [
    "mylist1 = [1,2,3,4,5]"
   ]
  },
  {
   "cell_type": "code",
   "execution_count": null,
   "id": "0bb54fb7",
   "metadata": {},
   "outputs": [],
   "source": [
    "mylist2= ['a', 'b', 'c']"
   ]
  },
  {
   "cell_type": "code",
   "execution_count": null,
   "id": "2e086ca5",
   "metadata": {},
   "outputs": [],
   "source": [
    "zip(mylist1, mylist2)"
   ]
  },
  {
   "cell_type": "code",
   "execution_count": null,
   "id": "a346baf9",
   "metadata": {},
   "outputs": [],
   "source": [
    "for item in zip(mylist1, mylist2):\n",
    "    print(item)"
   ]
  },
  {
   "cell_type": "code",
   "execution_count": null,
   "id": "aa0eb0c6",
   "metadata": {},
   "outputs": [],
   "source": [
    "mylist3 = ['blue', 'red', 'white']\n"
   ]
  },
  {
   "cell_type": "code",
   "execution_count": null,
   "id": "da9ec7aa",
   "metadata": {},
   "outputs": [],
   "source": [
    "for item in zip(mylist1, mylist2, mylist3):\n",
    "    print(item)"
   ]
  },
  {
   "cell_type": "markdown",
   "id": "b909dd37",
   "metadata": {},
   "source": [
    "**It will unify list up to the shortest one**"
   ]
  },
  {
   "cell_type": "code",
   "execution_count": null,
   "id": "5d695a45",
   "metadata": {},
   "outputs": [],
   "source": [
    "list(zip(mylist1, mylist2, mylist3))"
   ]
  },
  {
   "cell_type": "code",
   "execution_count": null,
   "id": "b84fb9f5",
   "metadata": {},
   "outputs": [],
   "source": [
    "for num, let, col in zip(mylist1, mylist2, mylist3):\n",
    "    print (\"I have {} shirt/s with a {} letter {} on it's fornt\".format(num, col, let))"
   ]
  },
  {
   "cell_type": "markdown",
   "id": "ba258b15",
   "metadata": {},
   "source": [
    "\n",
    "## in operator\n",
    "\n",
    "Can use **in** to quickly check if an object is in a list\n",
    "\n",
    "It returns a True or False result"
   ]
  },
  {
   "cell_type": "code",
   "execution_count": null,
   "id": "d86cfe5a",
   "metadata": {},
   "outputs": [],
   "source": [
    "'x' in [1,2,3]"
   ]
  },
  {
   "cell_type": "code",
   "execution_count": null,
   "id": "25b32000",
   "metadata": {},
   "outputs": [],
   "source": [
    "'x' in ('x','y','z') #works with tuples"
   ]
  },
  {
   "cell_type": "code",
   "execution_count": null,
   "id": "7370ad83",
   "metadata": {},
   "outputs": [],
   "source": [
    "'x' in {'a' : 1, 'b' : 'blue' , 'c' : mylist1}"
   ]
  },
  {
   "cell_type": "code",
   "execution_count": null,
   "id": "acbe7cdd",
   "metadata": {},
   "outputs": [],
   "source": [
    "'x' in {'a' : 1, 'x' : 'blue' , 'c' : mylist1} #works with Keys in Dictionaries, not with the Value asociated with that Key unless you use .values()"
   ]
  },
  {
   "cell_type": "code",
   "execution_count": null,
   "id": "52dad5f7",
   "metadata": {},
   "outputs": [],
   "source": [
    "'x' in {'a' : 1, 'b' : 'x' , 'c' : mylist1}"
   ]
  },
  {
   "cell_type": "code",
   "execution_count": null,
   "id": "7bf87214",
   "metadata": {},
   "outputs": [],
   "source": [
    "x = 'whatever'"
   ]
  },
  {
   "cell_type": "code",
   "execution_count": null,
   "id": "af89139a",
   "metadata": {},
   "outputs": [],
   "source": [
    "'x' in {'a' : 1, 'b' : x , 'c' : mylist1}"
   ]
  },
  {
   "cell_type": "code",
   "execution_count": null,
   "id": "2fd649f5",
   "metadata": {},
   "outputs": [],
   "source": [
    "'a' in 'Omnissiah'"
   ]
  },
  {
   "cell_type": "code",
   "execution_count": null,
   "id": "560cd727",
   "metadata": {},
   "outputs": [],
   "source": [
    "d = {'a' : 1, 'b' : 'x' , 'c' : mylist1}\n",
    "'x' in d.values()"
   ]
  },
  {
   "cell_type": "markdown",
   "id": "495c9127",
   "metadata": {},
   "source": [
    "## not in\n",
    "\n",
    "We can combine **in** with a **not** operator, to check if some object or variable is not present in a list.\n"
   ]
  },
  {
   "cell_type": "code",
   "execution_count": null,
   "id": "91bd4da2",
   "metadata": {},
   "outputs": [],
   "source": [
    "'x' not in [1,2,3]"
   ]
  },
  {
   "cell_type": "code",
   "execution_count": null,
   "id": "1b457553",
   "metadata": {},
   "outputs": [],
   "source": [
    "'x' not in ('x','y','z')"
   ]
  },
  {
   "cell_type": "code",
   "execution_count": null,
   "id": "340eb533",
   "metadata": {},
   "outputs": [],
   "source": []
  },
  {
   "cell_type": "markdown",
   "id": "074ad4a7",
   "metadata": {},
   "source": [
    "## min and max\n",
    "\n",
    "Quickly check the minimum or maximum of a list with these functions."
   ]
  },
  {
   "cell_type": "code",
   "execution_count": null,
   "id": "150ab5d3",
   "metadata": {},
   "outputs": [],
   "source": [
    "mylist = [10,200,30,4,100]"
   ]
  },
  {
   "cell_type": "code",
   "execution_count": null,
   "id": "a5388e15",
   "metadata": {},
   "outputs": [],
   "source": [
    "min(mylist)"
   ]
  },
  {
   "cell_type": "code",
   "execution_count": null,
   "id": "90b96706",
   "metadata": {},
   "outputs": [],
   "source": [
    "max(mylist)"
   ]
  },
  {
   "cell_type": "code",
   "execution_count": null,
   "id": "0dac78f3",
   "metadata": {},
   "outputs": [],
   "source": [
    "t = (1,2,3,4,5,9,0)"
   ]
  },
  {
   "cell_type": "code",
   "execution_count": null,
   "id": "9a62bc71",
   "metadata": {},
   "outputs": [],
   "source": [
    "min(t)"
   ]
  },
  {
   "cell_type": "code",
   "execution_count": null,
   "id": "2d1785f3",
   "metadata": {},
   "outputs": [],
   "source": [
    "max(t)"
   ]
  },
  {
   "cell_type": "code",
   "execution_count": null,
   "id": "4bf0fed0",
   "metadata": {},
   "outputs": [],
   "source": [
    "min (d)"
   ]
  },
  {
   "cell_type": "code",
   "execution_count": null,
   "id": "2d11db65",
   "metadata": {},
   "outputs": [],
   "source": [
    "max (d)"
   ]
  },
  {
   "cell_type": "code",
   "execution_count": null,
   "id": "c432f886",
   "metadata": {},
   "outputs": [],
   "source": [
    "d2={'keyZ': '300', 'keyAloha': 43, 'keyFirst': 'a', 'keyMiddle': '1','keyLast' : 'z'}"
   ]
  },
  {
   "cell_type": "code",
   "execution_count": null,
   "id": "8f7256fa",
   "metadata": {},
   "outputs": [],
   "source": [
    "min (d2)"
   ]
  },
  {
   "cell_type": "code",
   "execution_count": null,
   "id": "d9c5b9e9",
   "metadata": {},
   "outputs": [],
   "source": [
    "max (d2)"
   ]
  },
  {
   "cell_type": "code",
   "execution_count": null,
   "id": "d71a1854",
   "metadata": {},
   "outputs": [],
   "source": [
    "d3={'key1': '300', 'zkeyAloha': 43, 'keyFirst': 'a', 'keyMiddle': '1','keyLast' : 'z'}"
   ]
  },
  {
   "cell_type": "code",
   "execution_count": null,
   "id": "a07300bc",
   "metadata": {},
   "outputs": [],
   "source": [
    "min(d3)"
   ]
  },
  {
   "cell_type": "code",
   "execution_count": null,
   "id": "30d14eff",
   "metadata": {},
   "outputs": [],
   "source": [
    "max(d3)"
   ]
  },
  {
   "cell_type": "code",
   "execution_count": null,
   "id": "2f307722",
   "metadata": {},
   "outputs": [],
   "source": [
    "max d2.values()"
   ]
  },
  {
   "cell_type": "code",
   "execution_count": null,
   "id": "9b57d48d",
   "metadata": {},
   "outputs": [],
   "source": []
  },
  {
   "cell_type": "markdown",
   "id": "5c89e6de",
   "metadata": {},
   "source": [
    "## random\n",
    "\n",
    "Python comes with a built in random library. There are a lot of functions included in this random library, so we will only show you two useful functions for now."
   ]
  },
  {
   "cell_type": "code",
   "execution_count": null,
   "id": "30a7f754",
   "metadata": {},
   "outputs": [],
   "source": [
    "from random import shuffle\n",
    "\n",
    "# This shuffles the list \"in-place\" meaning it won't return\n",
    "# anything, instead it will effect the list passed\n",
    "\n",
    "shuffle(mylist1)"
   ]
  },
  {
   "cell_type": "code",
   "execution_count": null,
   "id": "beebe280",
   "metadata": {},
   "outputs": [],
   "source": [
    "mylist1"
   ]
  },
  {
   "cell_type": "code",
   "execution_count": null,
   "id": "a442dc43",
   "metadata": {},
   "outputs": [],
   "source": [
    "shuffle(mylist1)\n",
    "mylist1"
   ]
  },
  {
   "cell_type": "code",
   "execution_count": null,
   "id": "d3f15e57",
   "metadata": {},
   "outputs": [],
   "source": [
    "from random import randint\n",
    "\n",
    "# Return random integer in range [a, b], including both end points.\n",
    "\n",
    "randint(0,100)"
   ]
  },
  {
   "cell_type": "code",
   "execution_count": null,
   "id": "2ae520fe",
   "metadata": {},
   "outputs": [],
   "source": [
    "randint(0,100)"
   ]
  },
  {
   "cell_type": "code",
   "execution_count": null,
   "id": "ff07915a",
   "metadata": {},
   "outputs": [],
   "source": [
    "t = (1,2,3,4,5,6,7,8,9,10)\n",
    "from random import shuffle\n",
    "shuffle(t)"
   ]
  },
  {
   "cell_type": "code",
   "execution_count": null,
   "id": "6aa11a15",
   "metadata": {},
   "outputs": [],
   "source": [
    "mylist_formtuple = [t]"
   ]
  },
  {
   "cell_type": "code",
   "execution_count": null,
   "id": "f25af536",
   "metadata": {},
   "outputs": [],
   "source": [
    "from random import shuffle\n",
    "shuffle(mylist_formtuple)"
   ]
  },
  {
   "cell_type": "code",
   "execution_count": null,
   "id": "a4962e23",
   "metadata": {},
   "outputs": [],
   "source": [
    "mylist_formtuple"
   ]
  },
  {
   "cell_type": "markdown",
   "id": "acf4387b",
   "metadata": {},
   "source": [
    " Shuffle no funciona con Tuples"
   ]
  },
  {
   "cell_type": "code",
   "execution_count": null,
   "id": "0cd3e5ea",
   "metadata": {},
   "outputs": [],
   "source": [
    "from random import randint\n",
    "print ('1d20=',randint(1,20))"
   ]
  },
  {
   "cell_type": "code",
   "execution_count": null,
   "id": "be108ac1",
   "metadata": {},
   "outputs": [],
   "source": [
    "from random import randint\n",
    "print ('3d6=',(randint(1,6))+(randint(1,6))+(randint(1,6)))"
   ]
  },
  {
   "cell_type": "code",
   "execution_count": null,
   "id": "e282d9bf",
   "metadata": {},
   "outputs": [],
   "source": [
    "(randint(1,6))+(randint(1,6))"
   ]
  },
  {
   "cell_type": "code",
   "execution_count": null,
   "id": "1418aee7",
   "metadata": {},
   "outputs": [],
   "source": [
    "dicepool = 10\n",
    "roll = []\n",
    "roll.append((randint(1,10))*dicepool)\n",
    "roll"
   ]
  },
  {
   "cell_type": "code",
   "execution_count": null,
   "id": "bcd4c97c",
   "metadata": {},
   "outputs": [],
   "source": [
    "dicepool = 7\n",
    "roll = []\n",
    "roll.append((randint(1,10))*dicepool)\n",
    "roll"
   ]
  },
  {
   "cell_type": "code",
   "execution_count": null,
   "id": "b700e6ed",
   "metadata": {},
   "outputs": [],
   "source": [
    "dicepool = 7\n",
    "roll = []\n",
    "roll.append((randint(1,10))*dicepool)\n",
    "roll"
   ]
  },
  {
   "cell_type": "code",
   "execution_count": null,
   "id": "c6745769",
   "metadata": {},
   "outputs": [],
   "source": [
    "myroll = roll"
   ]
  },
  {
   "cell_type": "code",
   "execution_count": null,
   "id": "ce254874",
   "metadata": {},
   "outputs": [],
   "source": [
    "myroll"
   ]
  },
  {
   "cell_type": "markdown",
   "id": "e5e4f820",
   "metadata": {},
   "source": [
    "## input"
   ]
  },
  {
   "cell_type": "code",
   "execution_count": null,
   "id": "505936c0",
   "metadata": {},
   "outputs": [],
   "source": [
    "input ('Box to type things: ')"
   ]
  },
  {
   "cell_type": "markdown",
   "id": "d27fa066",
   "metadata": {},
   "source": [
    "Always returns a string, even it the input in the box was a number (it won't recognize it an integer)"
   ]
  },
  {
   "cell_type": "code",
   "execution_count": null,
   "id": "42416daa",
   "metadata": {},
   "outputs": [],
   "source": [
    "dicepool = input (\"What's your dice pool?\")"
   ]
  },
  {
   "cell_type": "code",
   "execution_count": null,
   "id": "f3b2f38c",
   "metadata": {},
   "outputs": [],
   "source": [
    "\n",
    "roll = []\n",
    "roll.append((randint(1,10))*dicepool)\n",
    "roll"
   ]
  },
  {
   "cell_type": "code",
   "execution_count": null,
   "id": "87438095",
   "metadata": {},
   "outputs": [],
   "source": [
    "dicepool = input (\"What's your dice pool?\")"
   ]
  },
  {
   "cell_type": "code",
   "execution_count": null,
   "id": "68cb78fc",
   "metadata": {},
   "outputs": [],
   "source": [
    "type(dicepool)\n"
   ]
  },
  {
   "cell_type": "code",
   "execution_count": null,
   "id": "41b1f256",
   "metadata": {},
   "outputs": [],
   "source": [
    "float(dicepool)"
   ]
  },
  {
   "cell_type": "code",
   "execution_count": null,
   "id": "6f3db494",
   "metadata": {},
   "outputs": [],
   "source": [
    "int(dicepool)"
   ]
  },
  {
   "cell_type": "code",
   "execution_count": null,
   "id": "ce906409",
   "metadata": {},
   "outputs": [],
   "source": [
    "roll = []\n",
    "roll.append((randint(1,10))*(int (dicepool)))\n",
    "roll"
   ]
  },
  {
   "cell_type": "code",
   "execution_count": null,
   "id": "b16b69d4",
   "metadata": {},
   "outputs": [],
   "source": [
    "roll = []\n",
    "roll.append((randint(1,10))*(int (dicepool)))\n",
    "roll"
   ]
  },
  {
   "cell_type": "code",
   "execution_count": null,
   "id": "8856bf7f",
   "metadata": {},
   "outputs": [],
   "source": [
    "roll = []\n",
    "roll.append((randint(1,10))*(int (dicepool)))\n",
    "roll"
   ]
  },
  {
   "cell_type": "code",
   "execution_count": null,
   "id": "978ea005",
   "metadata": {},
   "outputs": [],
   "source": [
    "roll = []\n",
    "roll.append((randint(1,10))*(int (dicepool)))\n",
    "roll"
   ]
  },
  {
   "cell_type": "code",
   "execution_count": null,
   "id": "76c5db9f",
   "metadata": {},
   "outputs": [],
   "source": [
    "# I can transform it into a integer in the same line\n",
    "\n",
    "dicepool = int(input (\"What's your dice pool?\"))"
   ]
  },
  {
   "cell_type": "code",
   "execution_count": null,
   "id": "7186c2f6",
   "metadata": {},
   "outputs": [],
   "source": [
    "type(dicepool)"
   ]
  },
  {
   "cell_type": "code",
   "execution_count": null,
   "id": "370a152a",
   "metadata": {},
   "outputs": [],
   "source": [
    "dicepool"
   ]
  },
  {
   "cell_type": "code",
   "execution_count": null,
   "id": "b6afe00e",
   "metadata": {},
   "outputs": [],
   "source": [
    "roll = []\n",
    "roll.append((randint(1,10))*(dicepool))\n",
    "roll"
   ]
  },
  {
   "cell_type": "code",
   "execution_count": null,
   "id": "f084a82c",
   "metadata": {},
   "outputs": [],
   "source": [
    "roll = []\n",
    "dicepool*roll.append(randint(1,10))\n",
    "roll"
   ]
  },
  {
   "cell_type": "code",
   "execution_count": null,
   "id": "88243c83",
   "metadata": {},
   "outputs": [],
   "source": [
    "roll = []\n",
    "diceadded = 0\n"
   ]
  },
  {
   "cell_type": "code",
   "execution_count": null,
   "id": "2fa664d7",
   "metadata": {},
   "outputs": [],
   "source": [
    "while diceadded <= dicepool:\n",
    "    roll.append(randint(1,10)\n",
    "    diceadded = diceadded+1\n",
    "    print ('We have 'diceadded' dice added to the pool')\n",
    "    \n",
    "else:\n",
    "    print (roll)"
   ]
  },
  {
   "cell_type": "code",
   "execution_count": null,
   "id": "5fc79d1f",
   "metadata": {},
   "outputs": [],
   "source": [
    "from random import randint\n",
    "dicepool = int(input (\"What's your dice pool?\"))\n",
    "roll = []\n",
    "diceadded = 0\n",
    "while diceadded <= dicepool:\n",
    "    diceadded = diceadded+1\n",
    "    roll.append(randint(1,10))\n",
    "                \n",
    "else:\n",
    "    print (roll)"
   ]
  },
  {
   "cell_type": "code",
   "execution_count": null,
   "id": "cadb81f8",
   "metadata": {},
   "outputs": [],
   "source": [
    "from random import randint\n",
    "dicepool = int(input (\"What's your dice pool?\"))\n",
    "roll = []\n",
    "diceadded = 0\n",
    "while diceadded <= dicepool:\n",
    "    diceadded = diceadded+1\n",
    "    roll.append(randint(1,10))\n",
    "                \n",
    "else:\n",
    "    print (roll)"
   ]
  },
  {
   "cell_type": "code",
   "execution_count": null,
   "id": "e803b2e9",
   "metadata": {},
   "outputs": [],
   "source": [
    "from random import randint\n",
    "dicetype = int(input (\"How many faces do your dice have? \"))\n",
    "dicepool = int(input (\"What's your dice pool? \"))\n",
    "roll = []\n",
    "diceadded = 0\n",
    "while diceadded < dicepool:\n",
    "    diceadded = diceadded+1\n",
    "    roll.append(randint(1,(dicetype)))\n",
    "                \n",
    "else:\n",
    "    print ('You rolled {}d{}'.format (dicepool,dicetype))\n",
    "    print ('Your results are:{}'.format(roll))"
   ]
  },
  {
   "cell_type": "markdown",
   "id": "208fe765",
   "metadata": {},
   "source": [
    "# List Comprehensions\n",
    "\n",
    "In addition to sequence operations and list methods, Python includes a more advanced operation called a list comprehension.\n",
    "\n",
    "List comprehensions allow us to build out lists using a different notation. You can think of it as essentially a one line <code>for</code> loop built inside of brackets. For a simple example:\n",
    "## Example 1"
   ]
  },
  {
   "cell_type": "code",
   "execution_count": null,
   "id": "5119448e",
   "metadata": {},
   "outputs": [],
   "source": [
    "mystring = 'hello'"
   ]
  },
  {
   "cell_type": "code",
   "execution_count": null,
   "id": "c6b622a9",
   "metadata": {},
   "outputs": [],
   "source": [
    "mylist = []\n",
    "\n",
    "for letter in mystring:\n",
    "    mylist.append(letter)"
   ]
  },
  {
   "cell_type": "code",
   "execution_count": null,
   "id": "8e19e60a",
   "metadata": {},
   "outputs": [],
   "source": [
    "mylist"
   ]
  },
  {
   "cell_type": "code",
   "execution_count": null,
   "id": "af08d79a",
   "metadata": {},
   "outputs": [],
   "source": [
    "mylist = []"
   ]
  },
  {
   "cell_type": "code",
   "execution_count": null,
   "id": "076ac265",
   "metadata": {},
   "outputs": [],
   "source": [
    "mylist"
   ]
  },
  {
   "cell_type": "code",
   "execution_count": null,
   "id": "4ed23f32",
   "metadata": {},
   "outputs": [],
   "source": [
    "mylist = [letter for letter in mystring]\n"
   ]
  },
  {
   "cell_type": "code",
   "execution_count": null,
   "id": "519e7b32",
   "metadata": {},
   "outputs": [],
   "source": [
    "mylist"
   ]
  },
  {
   "cell_type": "code",
   "execution_count": null,
   "id": "7a78a148",
   "metadata": {},
   "outputs": [],
   "source": [
    "mylist = [x for x in 'word']"
   ]
  },
  {
   "cell_type": "code",
   "execution_count": null,
   "id": "7f8c3765",
   "metadata": {},
   "outputs": [],
   "source": [
    "mylist"
   ]
  },
  {
   "cell_type": "code",
   "execution_count": null,
   "id": "6a0debf2",
   "metadata": {},
   "outputs": [],
   "source": [
    "mylist = [blahblah for blahblah in 'iterable object']"
   ]
  },
  {
   "cell_type": "code",
   "execution_count": null,
   "id": "354f800b",
   "metadata": {},
   "outputs": [],
   "source": [
    "mylist"
   ]
  },
  {
   "cell_type": "code",
   "execution_count": null,
   "id": "9c4b7906",
   "metadata": {},
   "outputs": [],
   "source": [
    "mylist = [num for num in range (0,11)]"
   ]
  },
  {
   "cell_type": "code",
   "execution_count": null,
   "id": "ed2868a5",
   "metadata": {},
   "outputs": [],
   "source": [
    "mylist"
   ]
  },
  {
   "cell_type": "markdown",
   "id": "8b200f57",
   "metadata": {},
   "source": [
    "One can use operations in that first element"
   ]
  },
  {
   "cell_type": "code",
   "execution_count": null,
   "id": "30a2f825",
   "metadata": {},
   "outputs": [],
   "source": [
    "mylist = [num**2 for num in range (0,11)]"
   ]
  },
  {
   "cell_type": "code",
   "execution_count": null,
   "id": "71d924e2",
   "metadata": {},
   "outputs": [],
   "source": [
    "mylist"
   ]
  },
  {
   "cell_type": "code",
   "execution_count": null,
   "id": "00658658",
   "metadata": {},
   "outputs": [],
   "source": [
    "mylist = ['a' for num in range (0,11)]"
   ]
  },
  {
   "cell_type": "code",
   "execution_count": null,
   "id": "3d3281cf",
   "metadata": {},
   "outputs": [],
   "source": [
    "mylist"
   ]
  },
  {
   "cell_type": "markdown",
   "id": "20f5b246",
   "metadata": {},
   "source": [
    "Can also use **if** statements"
   ]
  },
  {
   "cell_type": "code",
   "execution_count": null,
   "id": "f9be738f",
   "metadata": {},
   "outputs": [],
   "source": [
    "mylist = [x for x in range (0,11) if x%2==0]  "
   ]
  },
  {
   "cell_type": "code",
   "execution_count": null,
   "id": "0097f806",
   "metadata": {},
   "outputs": [],
   "source": [
    "mylist"
   ]
  },
  {
   "cell_type": "code",
   "execution_count": null,
   "id": "0a900493",
   "metadata": {},
   "outputs": [],
   "source": [
    "mylist = [x**2 for x in range (0,11) if x%2==0]  "
   ]
  },
  {
   "cell_type": "code",
   "execution_count": null,
   "id": "69f60e97",
   "metadata": {},
   "outputs": [],
   "source": [
    "mylist"
   ]
  },
  {
   "cell_type": "code",
   "execution_count": null,
   "id": "4b2e58f4",
   "metadata": {},
   "outputs": [],
   "source": [
    "celcius = [0,10,24,60,100]\n",
    "\n",
    "fahrenheit = [((9/5)*temp + 32) for temp in celcius]"
   ]
  },
  {
   "cell_type": "code",
   "execution_count": null,
   "id": "26a41887",
   "metadata": {},
   "outputs": [],
   "source": [
    "fahrenheit"
   ]
  },
  {
   "cell_type": "code",
   "execution_count": null,
   "id": "ca66c4b3",
   "metadata": {},
   "outputs": [],
   "source": [
    "fahrenheit = []\n",
    "for temp in celcius:\n",
    "    fahrenheit.append (((9/5)*temp + 32))\n",
    "    "
   ]
  },
  {
   "cell_type": "code",
   "execution_count": null,
   "id": "7b7f372d",
   "metadata": {},
   "outputs": [],
   "source": [
    "fahrenheit"
   ]
  },
  {
   "cell_type": "markdown",
   "id": "d2e8958c",
   "metadata": {},
   "source": [
    "Can also use **if / else** statements inside list comprenhension"
   ]
  },
  {
   "cell_type": "code",
   "execution_count": null,
   "id": "a7260ce2",
   "metadata": {},
   "outputs": [],
   "source": [
    "results = [ x if x%2==0 else 'ODD' for x in range (0,11)]"
   ]
  },
  {
   "cell_type": "code",
   "execution_count": null,
   "id": "ab2b9f16",
   "metadata": {},
   "outputs": [],
   "source": [
    "results"
   ]
  },
  {
   "cell_type": "code",
   "execution_count": null,
   "id": "6400213d",
   "metadata": {},
   "outputs": [],
   "source": [
    "success_count = [ 2 if x ==10 else (1 elif x >= 7 else 0) for x in range (0,10)]"
   ]
  },
  {
   "cell_type": "markdown",
   "id": "8542d366",
   "metadata": {},
   "source": [
    "Can use **Nested Loops** inside list comprenhension"
   ]
  },
  {
   "cell_type": "code",
   "execution_count": null,
   "id": "b40e5101",
   "metadata": {},
   "outputs": [],
   "source": [
    "mylist = []\n",
    "\n",
    "for x in [2,4,6]:\n",
    "    for y in [100,200,300]:\n",
    "        mylist.append (x*y)"
   ]
  },
  {
   "cell_type": "code",
   "execution_count": null,
   "id": "f59e05f4",
   "metadata": {},
   "outputs": [],
   "source": [
    "mylist"
   ]
  },
  {
   "cell_type": "code",
   "execution_count": null,
   "id": "01967ea5",
   "metadata": {},
   "outputs": [],
   "source": [
    "mylist = []\n",
    "\n",
    "for x in ['a','b','c']:\n",
    "    for y in ['d','e','f']:\n",
    "        mylist.append (x+y)"
   ]
  },
  {
   "cell_type": "code",
   "execution_count": null,
   "id": "b6515e6e",
   "metadata": {},
   "outputs": [],
   "source": [
    "mylist"
   ]
  },
  {
   "cell_type": "code",
   "execution_count": null,
   "id": "29d77c4d",
   "metadata": {},
   "outputs": [],
   "source": [
    "mylist = []\n",
    "otherlist = ['a','b','c']\n",
    "for x in otherlist:\n",
    "    for y in otherlist:\n",
    "        if x != y:\n",
    "            mylist.append (x+y)"
   ]
  },
  {
   "cell_type": "code",
   "execution_count": null,
   "id": "cf500f0a",
   "metadata": {},
   "outputs": [],
   "source": [
    "mylist"
   ]
  },
  {
   "cell_type": "code",
   "execution_count": null,
   "id": "971d4602",
   "metadata": {},
   "outputs": [],
   "source": [
    "mylist = [x*y for x in [2,4,6] for y in [1,10,100]]"
   ]
  },
  {
   "cell_type": "code",
   "execution_count": null,
   "id": "e3e862c2",
   "metadata": {},
   "outputs": [],
   "source": [
    "mylist"
   ]
  },
  {
   "cell_type": "markdown",
   "id": "ef3f5cc9",
   "metadata": {},
   "source": [
    "# METHODS AND FUNCTIONS\n",
    "\n",
    "### **Methods**"
   ]
  },
  {
   "cell_type": "code",
   "execution_count": null,
   "id": "a78c6dc5",
   "metadata": {},
   "outputs": [],
   "source": [
    "mylist = [1,2,3]"
   ]
  },
  {
   "cell_type": "code",
   "execution_count": null,
   "id": "ed06c5a5",
   "metadata": {},
   "outputs": [],
   "source": [
    "mylist.append(4)"
   ]
  },
  {
   "cell_type": "code",
   "execution_count": null,
   "id": "aa554f14",
   "metadata": {},
   "outputs": [],
   "source": [
    "mylist"
   ]
  },
  {
   "cell_type": "code",
   "execution_count": null,
   "id": "dcc81231",
   "metadata": {},
   "outputs": [],
   "source": [
    "mylist.pop()"
   ]
  },
  {
   "cell_type": "code",
   "execution_count": null,
   "id": "5d2570e8",
   "metadata": {},
   "outputs": [],
   "source": [
    "mylist"
   ]
  },
  {
   "cell_type": "markdown",
   "id": "37e39e2d",
   "metadata": {},
   "source": [
    "To check a bult-in fuction i can **press SHIFT+TAB** after the object.method (only on Jupiter Notebook) **or** run:\n",
    "**help ( object.method)**\n"
   ]
  },
  {
   "cell_type": "code",
   "execution_count": null,
   "id": "bcbc6f47",
   "metadata": {},
   "outputs": [],
   "source": [
    "help(mylist.insert)"
   ]
  },
  {
   "cell_type": "markdown",
   "id": "2c463ca3",
   "metadata": {},
   "source": [
    "a **third option** is to check the Python Documentation on python.org or https://docs.python.org/3/"
   ]
  },
  {
   "cell_type": "markdown",
   "id": "679fa551",
   "metadata": {},
   "source": [
    "## Functions\n",
    "\n",
    "."
   ]
  },
  {
   "cell_type": "markdown",
   "id": "c2e3bc88",
   "metadata": {},
   "source": [
    "Using **def** *keyword* to create functions"
   ]
  },
  {
   "cell_type": "markdown",
   "id": "4bdb4821",
   "metadata": {},
   "source": [
    "-> def name_of_function():\n",
    "        \n",
    "        '''\n",
    "        \n",
    "        Doctring explaning the function\n",
    "        \n",
    "        '''\n",
    "        \n",
    "        the actual code to be excecuted when the function is called for"
   ]
  },
  {
   "cell_type": "code",
   "execution_count": null,
   "id": "5d388e7f",
   "metadata": {},
   "outputs": [],
   "source": [
    "def say_hello():\n",
    "    print(\"hello\")\n",
    "    print('how are you?')"
   ]
  },
  {
   "cell_type": "code",
   "execution_count": null,
   "id": "1591c3f8",
   "metadata": {},
   "outputs": [],
   "source": [
    "say_hello()"
   ]
  },
  {
   "cell_type": "code",
   "execution_count": null,
   "id": "3cdf1ae7",
   "metadata": {},
   "outputs": [],
   "source": [
    "say_hello"
   ]
  },
  {
   "cell_type": "code",
   "execution_count": null,
   "id": "9125a2a4",
   "metadata": {},
   "outputs": [],
   "source": [
    "def say_hello(name):\n",
    "    print(f'Hello {name}')"
   ]
  },
  {
   "cell_type": "code",
   "execution_count": null,
   "id": "f093f829",
   "metadata": {},
   "outputs": [],
   "source": [
    "say_hello('Zalo')"
   ]
  },
  {
   "cell_type": "code",
   "execution_count": null,
   "id": "1091ef85",
   "metadata": {},
   "outputs": [],
   "source": [
    "say_hello()"
   ]
  },
  {
   "cell_type": "markdown",
   "id": "1845b1be",
   "metadata": {},
   "source": [
    "Here Python asks for the missing parameter. You can go back and complete it, or change the function to have a default value para writing (value='Default_value')"
   ]
  },
  {
   "cell_type": "code",
   "execution_count": null,
   "id": "98743614",
   "metadata": {},
   "outputs": [],
   "source": [
    "def say_hello(name='nameless stranger'):\n",
    "    print(f'Hello {name}')"
   ]
  },
  {
   "cell_type": "code",
   "execution_count": null,
   "id": "db6d2c90",
   "metadata": {},
   "outputs": [],
   "source": [
    "say_hello()"
   ]
  },
  {
   "cell_type": "markdown",
   "id": "1cf67fca",
   "metadata": {},
   "source": [
    "Use of the **return** *keyword*"
   ]
  },
  {
   "cell_type": "code",
   "execution_count": null,
   "id": "a4c0fdfc",
   "metadata": {},
   "outputs": [],
   "source": [
    "def add_num(num1,num2):\n",
    "    return num1+num2\n"
   ]
  },
  {
   "cell_type": "code",
   "execution_count": null,
   "id": "6d5246b2",
   "metadata": {},
   "outputs": [],
   "source": [
    "add_num(10,20)"
   ]
  },
  {
   "cell_type": "code",
   "execution_count": null,
   "id": "c9e78cd5",
   "metadata": {},
   "outputs": [],
   "source": [
    "result = add_num(33,65)\n",
    "print(result)"
   ]
  },
  {
   "cell_type": "code",
   "execution_count": null,
   "id": "9fdfc175",
   "metadata": {},
   "outputs": [],
   "source": [
    "def print_result(a,b):\n",
    "    print(a+b)"
   ]
  },
  {
   "cell_type": "code",
   "execution_count": null,
   "id": "27b6fa7d",
   "metadata": {},
   "outputs": [],
   "source": [
    "def return_result(a,b):\n",
    "    return a+b"
   ]
  },
  {
   "cell_type": "code",
   "execution_count": null,
   "id": "b25ac425",
   "metadata": {},
   "outputs": [],
   "source": [
    "print_result(10,20)"
   ]
  },
  {
   "cell_type": "code",
   "execution_count": null,
   "id": "3483a707",
   "metadata": {},
   "outputs": [],
   "source": [
    "result = print_result(10,20)"
   ]
  },
  {
   "cell_type": "code",
   "execution_count": null,
   "id": "18738793",
   "metadata": {},
   "outputs": [],
   "source": [
    "result"
   ]
  },
  {
   "cell_type": "code",
   "execution_count": null,
   "id": "55df380e",
   "metadata": {},
   "outputs": [],
   "source": [
    "type(result)"
   ]
  },
  {
   "cell_type": "code",
   "execution_count": null,
   "id": "3873937e",
   "metadata": {},
   "outputs": [],
   "source": [
    "return_result(10,20)"
   ]
  },
  {
   "cell_type": "code",
   "execution_count": null,
   "id": "1c9d552a",
   "metadata": {},
   "outputs": [],
   "source": [
    "result = return_result(10,20)"
   ]
  },
  {
   "cell_type": "code",
   "execution_count": null,
   "id": "b7640ee2",
   "metadata": {},
   "outputs": [],
   "source": [
    "result"
   ]
  },
  {
   "cell_type": "code",
   "execution_count": null,
   "id": "d406ddf9",
   "metadata": {},
   "outputs": [],
   "source": [
    "def myfunc(a,b):\n",
    "    print(a+b)\n",
    "    return a+b"
   ]
  },
  {
   "cell_type": "code",
   "execution_count": null,
   "id": "f20f12d7",
   "metadata": {},
   "outputs": [],
   "source": [
    "result = myfunc(10,20)"
   ]
  },
  {
   "cell_type": "code",
   "execution_count": null,
   "id": "c7014263",
   "metadata": {},
   "outputs": [],
   "source": [
    "result"
   ]
  },
  {
   "cell_type": "code",
   "execution_count": null,
   "id": "72b44e63",
   "metadata": {},
   "outputs": [],
   "source": [
    "def sum_numbers(num1,num2):\n",
    "    return num1+num2"
   ]
  },
  {
   "cell_type": "code",
   "execution_count": null,
   "id": "068ff31e",
   "metadata": {},
   "outputs": [],
   "source": [
    "sum_numbers('10','20')"
   ]
  },
  {
   "cell_type": "code",
   "execution_count": null,
   "id": "d5a4bd16",
   "metadata": {},
   "outputs": [],
   "source": [
    "2%2"
   ]
  },
  {
   "cell_type": "code",
   "execution_count": null,
   "id": "4f6066fd",
   "metadata": {},
   "outputs": [],
   "source": [
    "3%2"
   ]
  },
  {
   "cell_type": "code",
   "execution_count": null,
   "id": "f0231ca6",
   "metadata": {},
   "outputs": [],
   "source": [
    "20%2==0"
   ]
  },
  {
   "cell_type": "code",
   "execution_count": null,
   "id": "1c5691af",
   "metadata": {},
   "outputs": [],
   "source": [
    "def even_check(number):\n",
    "    result = number % 2 == 0\n",
    "    return result"
   ]
  },
  {
   "cell_type": "code",
   "execution_count": null,
   "id": "f135db5b",
   "metadata": {},
   "outputs": [],
   "source": [
    "even_check(20)"
   ]
  },
  {
   "cell_type": "code",
   "execution_count": null,
   "id": "74687bde",
   "metadata": {},
   "outputs": [],
   "source": [
    "even_check(21)"
   ]
  },
  {
   "cell_type": "code",
   "execution_count": null,
   "id": "ba1f8bd6",
   "metadata": {},
   "outputs": [],
   "source": [
    "def even_check(number):\n",
    "        return number % 2 == 0"
   ]
  },
  {
   "cell_type": "code",
   "execution_count": null,
   "id": "1745c1fa",
   "metadata": {},
   "outputs": [],
   "source": [
    "even_check(12)"
   ]
  },
  {
   "cell_type": "code",
   "execution_count": null,
   "id": "7e31c169",
   "metadata": {},
   "outputs": [],
   "source": [
    "# Return True if any number is even inside a list"
   ]
  },
  {
   "cell_type": "code",
   "execution_count": null,
   "id": "79babe03",
   "metadata": {},
   "outputs": [],
   "source": [
    "def check_even_list(num_list):\n",
    "    for number in num_list:\n",
    "        if number % 2 == 0:\n",
    "            return True\n",
    "        else:\n",
    "            pass\n",
    "        "
   ]
  },
  {
   "cell_type": "code",
   "execution_count": null,
   "id": "6e9f7b8f",
   "metadata": {},
   "outputs": [],
   "source": [
    "check_even_list([1,3,5,7])"
   ]
  },
  {
   "cell_type": "code",
   "execution_count": null,
   "id": "f49c54f6",
   "metadata": {},
   "outputs": [],
   "source": [
    "check_even_list([1,3,6,7])"
   ]
  },
  {
   "cell_type": "code",
   "execution_count": null,
   "id": "39cb5a0a",
   "metadata": {},
   "outputs": [],
   "source": [
    "def check_even_list(num_list):\n",
    "    for number in num_list:\n",
    "        if number % 2 == 0:\n",
    "            return True\n",
    "        else:\n",
    "            return False # WRONG!!! Because it will stop at the first odd number and not check the rest\n",
    "        "
   ]
  },
  {
   "cell_type": "code",
   "execution_count": null,
   "id": "01020d0d",
   "metadata": {},
   "outputs": [],
   "source": [
    "check_even_list([1,3,6,7])"
   ]
  },
  {
   "cell_type": "code",
   "execution_count": null,
   "id": "2a038386",
   "metadata": {},
   "outputs": [],
   "source": [
    "def check_even_list(num_list):\n",
    "    for number in num_list:\n",
    "        if number % 2 == 0:\n",
    "            return True\n",
    "        else:\n",
    "            pass\n",
    "    return False #It has to be in the same indentation that the FOR loop"
   ]
  },
  {
   "cell_type": "code",
   "execution_count": null,
   "id": "6be9e424",
   "metadata": {},
   "outputs": [],
   "source": [
    "check_even_list([1,3,6,7])"
   ]
  },
  {
   "cell_type": "code",
   "execution_count": null,
   "id": "3a5c8ebd",
   "metadata": {},
   "outputs": [],
   "source": [
    "check_even_list([1,3,5,7])"
   ]
  },
  {
   "cell_type": "code",
   "execution_count": null,
   "id": "ad3cc9f9",
   "metadata": {},
   "outputs": [],
   "source": [
    "def check_even_list(num_list):\n",
    "    # return all the even number in a list\n",
    "    \n",
    "    #placeholder variables:\n",
    "    even_numbers = []\n",
    "        \n",
    "    \n",
    "    for number in num_list:\n",
    "        if number % 2 == 0:\n",
    "            even_numbers.append(number)\n",
    "        else:\n",
    "            pass\n",
    "    return even_numbers"
   ]
  },
  {
   "cell_type": "code",
   "execution_count": null,
   "id": "8629c052",
   "metadata": {},
   "outputs": [],
   "source": [
    "check_even_list([1,2,3,4,5,6,7,8,9,10])"
   ]
  },
  {
   "cell_type": "code",
   "execution_count": null,
   "id": "f3b37f7c",
   "metadata": {},
   "outputs": [],
   "source": [
    "check_even_list([1,3,5,7])"
   ]
  },
  {
   "cell_type": "markdown",
   "id": "c9fec523",
   "metadata": {},
   "source": [
    "\n",
    "**Tuples in def funct**\n"
   ]
  },
  {
   "cell_type": "code",
   "execution_count": null,
   "id": "1fe8eb67",
   "metadata": {},
   "outputs": [],
   "source": [
    "stock_prices = [('APPL', 200), ('GOOG',400),('MSFT',100)]"
   ]
  },
  {
   "cell_type": "code",
   "execution_count": null,
   "id": "c593f549",
   "metadata": {},
   "outputs": [],
   "source": [
    "for item in stock_prices:\n",
    "    print (item)"
   ]
  },
  {
   "cell_type": "code",
   "execution_count": null,
   "id": "47dbd7bc",
   "metadata": {},
   "outputs": [],
   "source": [
    "for ticker,price in stock_prices:\n",
    "    print(price+(0.1*price))"
   ]
  },
  {
   "cell_type": "code",
   "execution_count": null,
   "id": "2f0211df",
   "metadata": {},
   "outputs": [],
   "source": [
    "work_hours = [('Abby',100),('Billy',400),('Cassie',800),('Danny', 600)]"
   ]
  },
  {
   "cell_type": "code",
   "execution_count": null,
   "id": "4f4edb4f",
   "metadata": {},
   "outputs": [],
   "source": [
    "def employee_check (work_hours):\n",
    "    #placeholders\n",
    "    current_max=0\n",
    "    employee_of_month = ''\n",
    "    \n",
    "    for employee,hours in work_hours:\n",
    "        if hours > current_max:\n",
    "            current_max = hours\n",
    "            employee_of_month = employee\n",
    "        else:\n",
    "            pass\n",
    "    \n",
    "    # Return\n",
    "    return (employee_of_month, current_max)"
   ]
  },
  {
   "cell_type": "code",
   "execution_count": null,
   "id": "2f09168f",
   "metadata": {},
   "outputs": [],
   "source": [
    "result = employee_check(work_hours)"
   ]
  },
  {
   "cell_type": "code",
   "execution_count": null,
   "id": "cfebd3e6",
   "metadata": {},
   "outputs": [],
   "source": [
    "result"
   ]
  },
  {
   "cell_type": "code",
   "execution_count": null,
   "id": "a0c2c55b",
   "metadata": {},
   "outputs": [],
   "source": [
    "name,hours = employee_check(work_hours)"
   ]
  },
  {
   "cell_type": "code",
   "execution_count": null,
   "id": "e36061cc",
   "metadata": {},
   "outputs": [],
   "source": [
    "result"
   ]
  },
  {
   "cell_type": "code",
   "execution_count": null,
   "id": "458ee996",
   "metadata": {},
   "outputs": [],
   "source": [
    "name"
   ]
  },
  {
   "cell_type": "code",
   "execution_count": null,
   "id": "10dffcaf",
   "metadata": {},
   "outputs": [],
   "source": [
    "hours"
   ]
  },
  {
   "cell_type": "code",
   "execution_count": null,
   "id": "acd66058",
   "metadata": {},
   "outputs": [],
   "source": [
    "name, hours, location = employee_check(work_hours)"
   ]
  },
  {
   "cell_type": "markdown",
   "id": "eba9e0ea",
   "metadata": {},
   "source": [
    "This up here ^^^ means that I'm asking for more values that the tuple has. I requested 3, it has 2, so it can't unpack it"
   ]
  },
  {
   "cell_type": "markdown",
   "id": "735d6af6",
   "metadata": {},
   "source": [
    "To know how many values a tuple has, I can assign it so a single item and the check that item"
   ]
  },
  {
   "cell_type": "code",
   "execution_count": null,
   "id": "99d5ea72",
   "metadata": {},
   "outputs": [],
   "source": [
    "item = employee_check(work_hours)"
   ]
  },
  {
   "cell_type": "code",
   "execution_count": null,
   "id": "9faee155",
   "metadata": {},
   "outputs": [],
   "source": [
    "item"
   ]
  },
  {
   "cell_type": "markdown",
   "id": "bc11fad3",
   "metadata": {},
   "source": [
    "# Functions interaction\n",
    "The game with the 3 cups and a ball"
   ]
  },
  {
   "cell_type": "code",
   "execution_count": null,
   "id": "cbcdebee",
   "metadata": {},
   "outputs": [],
   "source": [
    "example = [1,2,3,4,5,6,7]"
   ]
  },
  {
   "cell_type": "code",
   "execution_count": null,
   "id": "eaaf7aad",
   "metadata": {},
   "outputs": [],
   "source": [
    " from random import shuffle"
   ]
  },
  {
   "cell_type": "code",
   "execution_count": null,
   "id": "29e71ca9",
   "metadata": {},
   "outputs": [],
   "source": [
    "shuffle (example)"
   ]
  },
  {
   "cell_type": "code",
   "execution_count": null,
   "id": "f9b6046b",
   "metadata": {},
   "outputs": [],
   "source": [
    "example"
   ]
  },
  {
   "cell_type": "code",
   "execution_count": null,
   "id": "3817899c",
   "metadata": {},
   "outputs": [],
   "source": [
    "def shuffle_list(mylist):\n",
    "    shuffle (mylist)\n",
    "    return mylist"
   ]
  },
  {
   "cell_type": "code",
   "execution_count": null,
   "id": "8d8c6abe",
   "metadata": {},
   "outputs": [],
   "source": [
    "result = shuffle_list(example)"
   ]
  },
  {
   "cell_type": "code",
   "execution_count": null,
   "id": "99e77bcf",
   "metadata": {},
   "outputs": [],
   "source": [
    "result"
   ]
  },
  {
   "cell_type": "code",
   "execution_count": null,
   "id": "84a19fc1",
   "metadata": {},
   "outputs": [],
   "source": [
    "mylist = ['','O','']"
   ]
  },
  {
   "cell_type": "code",
   "execution_count": null,
   "id": "65c06a44",
   "metadata": {},
   "outputs": [],
   "source": [
    "shuffle_list(mylist)"
   ]
  },
  {
   "cell_type": "code",
   "execution_count": null,
   "id": "e0fec8c2",
   "metadata": {},
   "outputs": [],
   "source": [
    "def player_guess():\n",
    "    \n",
    "    guess =''\n",
    "    \n",
    "    while guess not in ['0','1','2']:\n",
    "        guess = input(\"Pick a ,number: 0, 1 or 2 : \")\n",
    "        \n",
    "    return int(guess)"
   ]
  },
  {
   "cell_type": "code",
   "execution_count": null,
   "id": "ba33e477",
   "metadata": {},
   "outputs": [],
   "source": [
    "player_guess()"
   ]
  },
  {
   "cell_type": "code",
   "execution_count": null,
   "id": "4120d07c",
   "metadata": {},
   "outputs": [],
   "source": [
    "myindex = player_guess()"
   ]
  },
  {
   "cell_type": "code",
   "execution_count": null,
   "id": "a9bc81a2",
   "metadata": {},
   "outputs": [],
   "source": [
    "myindex"
   ]
  },
  {
   "cell_type": "code",
   "execution_count": null,
   "id": "026232a6",
   "metadata": {},
   "outputs": [],
   "source": [
    "def check_guess(mylist,guess):\n",
    "    if mylist[guess] == 'O':\n",
    "        print ('Correct!')\n",
    "    else:\n",
    "        print('Wrong guess!')\n",
    "        print(mylist)"
   ]
  },
  {
   "cell_type": "code",
   "execution_count": null,
   "id": "7aed7b79",
   "metadata": {},
   "outputs": [],
   "source": [
    "# INITIAL LIST\n",
    "mylist = ['','O','']\n",
    "\n",
    "# SHUFFLE LIST\n",
    "mixedup_list = shuffle_list(mylist)\n",
    "\n",
    "# USER GUESS\n",
    "guess = player_guess()\n",
    "\n",
    "# CHECK GUESS\n",
    "check_guess(mixedup_list, guess)\n"
   ]
  },
  {
   "cell_type": "markdown",
   "id": "98bc1274",
   "metadata": {},
   "source": [
    "\n",
    "# `*args` and `**kwargs`\n",
    "\n",
    "They stand for 'arguments' and 'key word arguments'\n"
   ]
  },
  {
   "cell_type": "code",
   "execution_count": null,
   "id": "34a4a330",
   "metadata": {},
   "outputs": [],
   "source": [
    "def myfunc (a,b):\n",
    "    # returns 5% of the sum of a and b\n",
    "    return sum((a,b))* 0.05"
   ]
  },
  {
   "cell_type": "code",
   "execution_count": null,
   "id": "87d52ca1",
   "metadata": {},
   "outputs": [],
   "source": [
    "myfunc(40,60)"
   ]
  },
  {
   "cell_type": "code",
   "execution_count": null,
   "id": "ea5c09b0",
   "metadata": {},
   "outputs": [],
   "source": [
    "def myfunc (a,b):\n",
    "    # returns 5% of the sum of a and b\n",
    "    return sum [a,b] * 0.05"
   ]
  },
  {
   "cell_type": "code",
   "execution_count": null,
   "id": "21386597",
   "metadata": {},
   "outputs": [],
   "source": [
    "myfunc(40,60)"
   ]
  },
  {
   "cell_type": "code",
   "execution_count": null,
   "id": "325ea4a0",
   "metadata": {},
   "outputs": [],
   "source": [
    "def myfunc (a,b,c=0,d=0,e=0):\n",
    "    # returns 5% of the sum of a and b\n",
    "    return sum((a,b,c,d))* 0.05"
   ]
  },
  {
   "cell_type": "code",
   "execution_count": null,
   "id": "6d0fba9a",
   "metadata": {},
   "outputs": [],
   "source": [
    "myfunc(40,60,100)"
   ]
  },
  {
   "cell_type": "code",
   "execution_count": null,
   "id": "c58db8a0",
   "metadata": {},
   "outputs": [],
   "source": [
    "myfunc(40,60,100,2,5,77,)"
   ]
  },
  {
   "cell_type": "code",
   "execution_count": null,
   "id": "80924c55",
   "metadata": {},
   "outputs": [],
   "source": [
    "def myfunc(*args):\n",
    "    return sum(args)*0.05"
   ]
  },
  {
   "cell_type": "code",
   "execution_count": null,
   "id": "e4591a05",
   "metadata": {},
   "outputs": [],
   "source": [
    "myfunc (40,60,100,2,5,77)"
   ]
  },
  {
   "cell_type": "code",
   "execution_count": null,
   "id": "57e3a446",
   "metadata": {},
   "outputs": [],
   "source": [
    "def myfunc(*args):\n",
    "    print (args)"
   ]
  },
  {
   "cell_type": "code",
   "execution_count": null,
   "id": "ccadc084",
   "metadata": {},
   "outputs": [],
   "source": [
    "myfunc (40,60,100,2,5,77)"
   ]
  },
  {
   "cell_type": "markdown",
   "id": "2544bf05",
   "metadata": {},
   "source": [
    "In this case if a print args it looks like a tuple"
   ]
  },
  {
   "cell_type": "code",
   "execution_count": null,
   "id": "0b19b224",
   "metadata": {},
   "outputs": [],
   "source": [
    "def myfunc(*args):\n",
    "    for item in args:\n",
    "        print (item)"
   ]
  },
  {
   "cell_type": "code",
   "execution_count": null,
   "id": "a0c06fdc",
   "metadata": {},
   "outputs": [],
   "source": [
    "myfunc (40,60,100,2,5,77)"
   ]
  },
  {
   "cell_type": "code",
   "execution_count": null,
   "id": "1a4e09f9",
   "metadata": {},
   "outputs": [],
   "source": [
    "def myfunc (**kwargs):\n",
    "    print (kwargs)# printing the kwarg itself will bring back a dictionary\n",
    "    if 'fruit' in kwargs:\n",
    "    # Here the 'fruit' will be the key (always a string) in the key/value pair of a dict\n",
    "        print ('My fruit of choice is {}'.format(kwargs['fruit'])) \n",
    "        # this kwargs['key string'] will make it bring the value asociated with that key\n",
    "    else:\n",
    "        print ('I did not find any fruit here')"
   ]
  },
  {
   "cell_type": "code",
   "execution_count": null,
   "id": "8b4fb78b",
   "metadata": {},
   "outputs": [],
   "source": [
    "myfunc(fruit = 'apple', veggie = 'lettuce')"
   ]
  },
  {
   "cell_type": "markdown",
   "id": "4b5fdf7f",
   "metadata": {},
   "source": [
    "By convention and readability we use the 'args' and 'kwargs' words, but we could change it to any other word. What really makes it work is the use of ' * ' for args and ' ** 'for kwargs"
   ]
  },
  {
   "cell_type": "code",
   "execution_count": null,
   "id": "3f340998",
   "metadata": {},
   "outputs": [],
   "source": [
    "def myfunc(*args,**kwargs):\n",
    "    print (args)\n",
    "    print (kwargs)\n",
    "    print('I would like {} {}'.format(args[0], kwargs['food']))"
   ]
  },
  {
   "cell_type": "code",
   "execution_count": null,
   "id": "02175188",
   "metadata": {},
   "outputs": [],
   "source": [
    "myfunc(10,20,30, fruit = 'orange', food = 'eggs', animal = 'dog')"
   ]
  },
  {
   "cell_type": "markdown",
   "id": "e6affea0",
   "metadata": {},
   "source": [
    "#### We can combine args and kwargs in the same function but it must go in the same order. If I defined the function as myfunc(*args, **kwargs) the when I run it the args go first and the kwargs after"
   ]
  },
  {
   "cell_type": "markdown",
   "id": "d1fc8390",
   "metadata": {},
   "source": [
    "# Lambda Expressions, Map, and Filter\n",
    "\n",
    "\n",
    "## map function\n",
    "\n",
    "The **map** function allows you to \"map\" a function to an iterable object. That is to say you can quickly call the same function to every item in an iterable, such as a list\n"
   ]
  },
  {
   "cell_type": "code",
   "execution_count": null,
   "id": "c55f9aca",
   "metadata": {},
   "outputs": [],
   "source": [
    "def myfunc(num):\n",
    "    return num**2\n",
    "\n",
    "myiterable_object = [1,2,3,4,5]\n",
    "\n",
    "map(myfunc,myiterable_object) # Basically its say apply this function to every iterable item in the iterable object\n",
    "\n",
    "# To get the results, either iterate through map() \n",
    "# or just cast to a list\n",
    "\n",
    "list(map(myfunc,myiterable_object))"
   ]
  },
  {
   "cell_type": "markdown",
   "id": "6fe79499",
   "metadata": {},
   "source": [
    "The functions can also be more complex"
   ]
  },
  {
   "cell_type": "code",
   "execution_count": null,
   "id": "588ce4d5",
   "metadata": {},
   "outputs": [],
   "source": [
    "def splicer(mystring):\n",
    "    if len(mystring) % 2 == 0:\n",
    "        return 'even'\n",
    "    else:\n",
    "        return mystring[0]\n",
    "    \n",
    "# Here the function defined will interate with a string\n",
    "\n",
    "mynames = ['John','Cindy','Sarah','Kelly','Mike'] # but then we have a list of string\n",
    "\n",
    "# and we use the map function to apply that function to every item/string in the list of strings, \n",
    "# and return it's result as a list\n",
    "\n",
    "list(map(splicer,mynames))"
   ]
  },
  {
   "cell_type": "markdown",
   "id": "124797cc",
   "metadata": {},
   "source": [
    "If a function defines some action for an item **def function (item/s):** then the **map** will apply that function to every iterable part of a iterable object: map(function, iterable object) does function(part), function (part), function (part), etc."
   ]
  },
  {
   "cell_type": "markdown",
   "id": "a35d5e8e",
   "metadata": {},
   "source": [
    "## filter function\n",
    "\n",
    "The filter function returns an iterator yielding those items of iterable for which function(item)\n",
    "is true. Meaning you need to filter by a function that returns either True or False. Then passing that into filter (along with your iterable) and you will get back only the results that would return True when passed to the function."
   ]
  },
  {
   "cell_type": "code",
   "execution_count": null,
   "id": "0f20d730",
   "metadata": {},
   "outputs": [],
   "source": [
    "def check_even(num):\n",
    "    return num % 2 == 0 # functions that returns a True or False result\n",
    "\n",
    "nums = [0,1,2,3,4,5,6,7,8,9,10] # iterable object through which the FILTER will apply a function\n",
    "\n",
    "list(filter(check_even,nums)) # again, my iterate through the Filter or make a list of it\n",
    "\n",
    "#and below it returns only those items that returned True when the function was applied to them"
   ]
  },
  {
   "cell_type": "markdown",
   "id": "9853638b",
   "metadata": {},
   "source": [
    "## lambda expression\n",
    "\n",
    "One of Pythons most useful (and for beginners, confusing) tools is the lambda expression. lambda expressions allow us to create \"anonymous\" functions. This basically means we can quickly make ad-hoc functions without needing to properly define a function using def.\n",
    "\n",
    "Function objects returned by running lambda expressions work exactly the same as those created and assigned by defs. There is key difference that makes lambda useful in specialized roles:\n",
    "\n",
    "**lambda's body is a single expression, not a block of statements.**\n",
    "\n",
    "* The lambda's body is similar to what we would put in a def body's return statement. We simply type the result as an expression instead of explicitly returning it. Because it is limited to an expression, a lambda is less general that a def. We can only squeeze design, to limit program nesting. lambda is designed for coding simple functions, and def handles the larger tasks."
   ]
  },
  {
   "cell_type": "markdown",
   "id": "16ffb940",
   "metadata": {},
   "source": [
    "Lets slowly break down a lambda expression by deconstructing a function:"
   ]
  },
  {
   "cell_type": "code",
   "execution_count": null,
   "id": "6400e09f",
   "metadata": {},
   "outputs": [],
   "source": [
    "def square(num):\n",
    "    result = num**2\n",
    "    return result\n",
    "\n",
    "square(2)"
   ]
  },
  {
   "cell_type": "code",
   "execution_count": null,
   "id": "ea9a8d81",
   "metadata": {},
   "outputs": [],
   "source": [
    "# We could simplify it:\n",
    "def square(num):\n",
    "    return num**2\n",
    "\n",
    "square(2)"
   ]
  },
  {
   "cell_type": "code",
   "execution_count": null,
   "id": "0f39908a",
   "metadata": {},
   "outputs": [],
   "source": [
    "# We could actually even write this all on one line.\n",
    "def square(num): return num**2\n",
    "\n",
    "square(2)"
   ]
  },
  {
   "cell_type": "code",
   "execution_count": null,
   "id": "1b4440c2",
   "metadata": {},
   "outputs": [],
   "source": [
    "# This is the form a function that a lambda expression intends to replicate. A lambda expression can then be written as:\n",
    "\n",
    "lambda num: num ** 2\n",
    "\n",
    "# \"lambda\" replaces the \"def\" and needs no name for it,\n",
    "# the first \"num\" defines the item that would normally go between ()\n",
    "# then the :\n",
    "# then the expected return without the need to type \"return\"\n"
   ]
  },
  {
   "cell_type": "code",
   "execution_count": null,
   "id": "25f37f05",
   "metadata": {},
   "outputs": [],
   "source": [
    "# You wouldn't usually assign a name to a lambda expression, this is just for demonstration!\n",
    "square = lambda num: num **2\n",
    "\n",
    "square (2)"
   ]
  },
  {
   "cell_type": "markdown",
   "id": "09967f82",
   "metadata": {},
   "source": [
    "So why would use this? Many function calls need a function passed in, such as map and filter. Often you only need to use the function you are passing in once, so instead of formally defining it, you just use the lambda expression. Let's repeat some of the examples from above with a lambda expression"
   ]
  },
  {
   "cell_type": "code",
   "execution_count": null,
   "id": "a81a17cd",
   "metadata": {},
   "outputs": [],
   "source": [
    "list(map(lambda item: item ** 2, myiterable_object))\n",
    "# this will make a LIST \n",
    "# that contains the MAPPING of an unnamed function (lambda) \n",
    "# applied to every iterable part of an iterable object"
   ]
  },
  {
   "cell_type": "code",
   "execution_count": null,
   "id": "0de21d52",
   "metadata": {},
   "outputs": [],
   "source": [
    "list(filter(lambda n: n % 2 == 0,nums))\n",
    "# this will make a LIST \n",
    "# that contains the FILTERED the parts of an iterable object\n",
    "# that returned TRUE when an unnamed function (lambda) was applied to that part"
   ]
  },
  {
   "cell_type": "code",
   "execution_count": null,
   "id": "1f377611",
   "metadata": {},
   "outputs": [],
   "source": [
    "# ** Lambda expression for grabbing the first character of a string: **\n",
    "lambda s: s[0]"
   ]
  },
  {
   "cell_type": "code",
   "execution_count": null,
   "id": "cc217931",
   "metadata": {},
   "outputs": [],
   "source": [
    "# ** Lambda expression for reversing a string: **\n",
    "lambda s: s[::-1]"
   ]
  },
  {
   "cell_type": "code",
   "execution_count": null,
   "id": "f1713e39",
   "metadata": {},
   "outputs": [],
   "source": [
    "# You can even pass in multiple arguments into a lambda expression. Again, keep in mind that not every function can be translated into a lambda expression.\n",
    "lambda x,y : x + y"
   ]
  },
  {
   "cell_type": "markdown",
   "id": "712a6927",
   "metadata": {},
   "source": [
    "You will find yourself using lambda expressions often with certain non-built-in libraries, for example the pandas library for data analysis works very well with lambda expressions.\n"
   ]
  },
  {
   "cell_type": "markdown",
   "id": "07321549",
   "metadata": {},
   "source": [
    "# Nested Statements and Scope \n",
    "\n",
    "Now that we have gone over writing our own functions, it's important to understand how Python deals with the variable names you assign. When you create a variable name in Python the name is stored in a *name-space*. Variable names also have a *scope*, the scope determines the visibility of that variable name to other parts of your code."
   ]
  },
  {
   "cell_type": "markdown",
   "id": "7702f072",
   "metadata": {},
   "source": [
    "This is where the idea of scope comes in. Python has a set of rules it follows to decide what variables (such as x in this case) you are referencing in your code. Lets break down the rules:\n",
    "\n",
    "This idea of scope in your code is very important to understand in order to properly assign and call variable names. \n",
    "​\n",
    "\n",
    "In simple terms, the idea of scope can be described by 3 general rules:\n",
    "​\n",
    "\n",
    "1. Name assignments will create or change local names by default.\n",
    "\n",
    "2. Name references search (at most) four scopes, these are:\n",
    "    * local\n",
    "\n",
    "    * enclosing functions\n",
    "\n",
    "    * global\n",
    "\n",
    "    * built-in\n",
    "\n",
    "3. Names declared in global and nonlocal statements map assigned names to enclosing module and function scopes.\n",
    "​\n",
    "​\n",
    "\n",
    "The statement in #2 above can be defined by the LEGB rule.\n",
    "​\n",
    "\n",
    "**LEGB Rule:**\n",
    "​\n",
    "\n",
    "L: Local — Names assigned in any way within a function (def or lambda), and not declared global in that function.\n",
    "​\n",
    "\n",
    "E: Enclosing function locals — Names in the local scope of any and all enclosing functions (def or lambda), from inner to outer.\n",
    "​\n",
    "\n",
    "G: Global (module) — Names assigned at the top-level of a module file, or declared global in a def within the file.\n",
    "​\n",
    "\n",
    "B: Built-in (Python) — Names preassigned in the built-in names module : open, range, SyntaxError,..."
   ]
  },
  {
   "cell_type": "markdown",
   "id": "451ed7ce",
   "metadata": {},
   "source": [
    "## Quick examples of LEGB\n",
    "\n",
    "### Local"
   ]
  },
  {
   "cell_type": "code",
   "execution_count": null,
   "id": "bfb1db57",
   "metadata": {},
   "outputs": [],
   "source": [
    "# x is local here:\n",
    "f = lambda x:x**2"
   ]
  },
  {
   "cell_type": "markdown",
   "id": "6a4e7512",
   "metadata": {},
   "source": [
    "### Enclosing function locals\n",
    "This occurs when we have a function inside a function (nested functions)"
   ]
  },
  {
   "cell_type": "code",
   "execution_count": null,
   "id": "37d4673a",
   "metadata": {},
   "outputs": [],
   "source": [
    "name = 'This is a global name'\n",
    "\n",
    "def greet():\n",
    "    # Enclosing function\n",
    "    name = 'Sammy'\n",
    "    \n",
    "    def hello():\n",
    "        print('Hello '+name)\n",
    "    \n",
    "    hello()\n",
    "\n",
    "greet()"
   ]
  },
  {
   "cell_type": "markdown",
   "id": "eaa6296e",
   "metadata": {},
   "source": [
    "Note how Sammy was used, because the hello() function was enclosed inside of the greet function!"
   ]
  },
  {
   "cell_type": "markdown",
   "id": "6bbdc278",
   "metadata": {},
   "source": [
    "### Global\n",
    "Luckily in Jupyter a quick way to test for global variables is to see if another cell recognizes the variable!"
   ]
  },
  {
   "cell_type": "code",
   "execution_count": null,
   "id": "a887954d",
   "metadata": {},
   "outputs": [],
   "source": [
    "print(name)"
   ]
  },
  {
   "cell_type": "markdown",
   "id": "39193c9b",
   "metadata": {},
   "source": [
    "### Built-in\n",
    "These are the built-in function names in Python (don't overwrite these!)"
   ]
  },
  {
   "cell_type": "code",
   "execution_count": null,
   "id": "cad4000b",
   "metadata": {},
   "outputs": [],
   "source": [
    "len"
   ]
  },
  {
   "cell_type": "markdown",
   "id": "d2c891e8",
   "metadata": {},
   "source": [
    "## Local Variables\n",
    "When you declare variables inside a function definition, they are not related in any way to other variables with the same names used outside the function - i.e. variable names are local to the function. This is called the scope of the variable. All variables have the scope of the block they are declared in starting from the point of definition of the name.\n",
    "\n",
    "Example:"
   ]
  },
  {
   "cell_type": "code",
   "execution_count": null,
   "id": "afd13af6",
   "metadata": {},
   "outputs": [],
   "source": [
    "x = 50\n",
    "\n",
    "def func(x):\n",
    "    print('x is', x)\n",
    "    x = 2\n",
    "    print('Changed local x to', x)\n",
    "\n",
    "func(x)\n",
    "print('x is still', x)"
   ]
  },
  {
   "cell_type": "markdown",
   "id": "ed110501",
   "metadata": {},
   "source": [
    "The first time that we print the value of the name **x** with the first line in the function’s body, Python uses the value of the parameter declared in the main block, above the function definition.\n",
    "\n",
    "Next, we assign the value 2 to **x**. The name **x** is local to our function. So, when we change the value of **x** in the function, the **x** defined in the main block remains unaffected.\n",
    "\n",
    "With the last print statement, we display the value of **x** as defined in the main block, thereby confirming that it is actually unaffected by the local assignment within the previously called function.\n",
    "\n",
    "## The <code>global</code> statement\n",
    "If you want to assign a value to a name defined at the top level of the program (i.e. not inside any kind of scope such as functions or classes), then you have to tell Python that the name is not local, but it is global. We do this using the <code>global</code> statement. It is impossible to assign a value to a variable defined outside a function without the global statement.\n",
    "\n",
    "You can use the values of such variables defined outside the function (assuming there is no variable with the same name within the function). However, this is not encouraged and should be avoided since it becomes unclear to the reader of the program as to where that variable’s definition is. Using the <code>global</code> statement makes it amply clear that the variable is defined in an outermost block.\n",
    "\n",
    "Example:"
   ]
  },
  {
   "cell_type": "code",
   "execution_count": null,
   "id": "42d2216c",
   "metadata": {},
   "outputs": [],
   "source": [
    "x = 50\n",
    "\n",
    "def func():\n",
    "    global x\n",
    "    print('This function is now using the global x!')\n",
    "    print('Because of global x is: ', x)\n",
    "    x = 2\n",
    "    print('Ran func(), changed global x to', x)\n",
    "\n",
    "print('Before calling func(), x is: ', x)\n",
    "func()\n",
    "print('Value of x (outside of func()) is: ', x)"
   ]
  },
  {
   "cell_type": "code",
   "execution_count": null,
   "id": "a766413f",
   "metadata": {},
   "outputs": [],
   "source": [
    "x"
   ]
  },
  {
   "cell_type": "markdown",
   "id": "424e8389",
   "metadata": {},
   "source": [
    "The <code>global</code> statement is used to declare that **x** is a global variable - hence, when we assign a value to **x** inside the function, that change is reflected when we use the value of **x** in the main block.\n",
    "\n",
    "You can specify more than one global variable using the same global statement e.g. <code>global x, y, z</code>."
   ]
  },
  {
   "cell_type": "markdown",
   "id": "c54e954c",
   "metadata": {},
   "source": [
    "## Conclusion\n",
    "You should now have a good understanding of Scope (you may have already intuitively felt right about Scope which is great!) One last mention is that you can use the **globals()** and **locals()** functions to check what are your current local and global variables.\n",
    "\n",
    "Another thing to keep in mind is that everything in Python is an object! I can assign variables to functions just like I can with numbers! We will go over this again in the decorator section of the course!"
   ]
  },
  {
   "cell_type": "code",
   "execution_count": null,
   "id": "735b4d36",
   "metadata": {},
   "outputs": [],
   "source": [
    "globals()"
   ]
  },
  {
   "cell_type": "code",
   "execution_count": null,
   "id": "1c48c960",
   "metadata": {},
   "outputs": [],
   "source": [
    "locals()"
   ]
  },
  {
   "cell_type": "markdown",
   "id": "30d1bb7e",
   "metadata": {},
   "source": [
    "# Function Practice Exercises\n",
    "\n",
    "Problems are arranged in increasing difficulty:\n",
    "* Warmup - these can be solved using basic comparisons and methods\n",
    "* Level 1 - these may involve if/then conditional statements and simple methods\n",
    "* Level 2 - these may require iterating over sequences, usually with some kind of loop\n",
    "* Challenging - these will take some creativity to solve"
   ]
  },
  {
   "cell_type": "markdown",
   "id": "20e5145e",
   "metadata": {},
   "source": [
    "#### LESSER OF TWO EVENS: Write a function that returns the lesser of two given numbers *if* both numbers are even, but returns the greater if one or both numbers are odd\n",
    "    lesser_of_two_evens(2,4) --> 2\n",
    "    lesser_of_two_evens(2,5) --> 5"
   ]
  },
  {
   "cell_type": "code",
   "execution_count": null,
   "id": "3c406d03",
   "metadata": {},
   "outputs": [],
   "source": [
    "def lesser_of_two_evens(a,b):\n",
    "    if (a%2 == 0) and (b%2 == 0):\n",
    "        if a < b:\n",
    "            return a\n",
    "        else:\n",
    "            return b\n",
    "    elif a > b:\n",
    "        return a\n",
    "    else:\n",
    "        return b"
   ]
  },
  {
   "cell_type": "code",
   "execution_count": null,
   "id": "f8e9ffe0",
   "metadata": {},
   "outputs": [],
   "source": [
    "lesser_of_two_evens(2,4)"
   ]
  },
  {
   "cell_type": "code",
   "execution_count": null,
   "id": "e0dd19a7",
   "metadata": {
    "scrolled": true
   },
   "outputs": [],
   "source": [
    "lesser_of_two_evens(2,5)"
   ]
  },
  {
   "cell_type": "code",
   "execution_count": null,
   "id": "15aec8f3",
   "metadata": {},
   "outputs": [],
   "source": [
    "def lesser_of_2_evens(a,b):\n",
    "    if a%2 == 0 and b%2 == 0:\n",
    "        return min(a,b)\n",
    "    else:\n",
    "        return max(a,b)"
   ]
  },
  {
   "cell_type": "code",
   "execution_count": null,
   "id": "2a53c840",
   "metadata": {
    "scrolled": true
   },
   "outputs": [],
   "source": [
    "lesser_of_2_evens(2,4)"
   ]
  },
  {
   "cell_type": "code",
   "execution_count": null,
   "id": "f5b06a9e",
   "metadata": {},
   "outputs": [],
   "source": [
    "lesser_of_2_evens(2,5)"
   ]
  },
  {
   "cell_type": "markdown",
   "id": "c9246aab",
   "metadata": {},
   "source": [
    "#### ANIMAL CRACKERS: Write a function takes a two-word string and returns True if both words begin with same letter\n",
    "    animal_crackers('Levelheaded Llama') --> True\n",
    "    animal_crackers('Crazy Kangaroo') --> False"
   ]
  },
  {
   "cell_type": "code",
   "execution_count": null,
   "id": "46df83bc",
   "metadata": {},
   "outputs": [],
   "source": [
    "def animal_crackers(text):\n",
    "    wordlist = str.split (text)\n",
    "    letterlist = []\n",
    "    for word in wordlist:\n",
    "        letterlist.append (word[0])\n",
    "    if letterlist[0] == letterlist[1]:\n",
    "        return True\n",
    "    else:\n",
    "        return False"
   ]
  },
  {
   "cell_type": "code",
   "execution_count": null,
   "id": "d102662f",
   "metadata": {},
   "outputs": [],
   "source": [
    "animal_crackers('Levelheaded Llama')"
   ]
  },
  {
   "cell_type": "code",
   "execution_count": null,
   "id": "cdfd12ef",
   "metadata": {},
   "outputs": [],
   "source": [
    "animal_crackers('Crazy Kangaroo')"
   ]
  },
  {
   "cell_type": "code",
   "execution_count": null,
   "id": "a92f71f8",
   "metadata": {},
   "outputs": [],
   "source": [
    "def animal_crackers2(text):\n",
    "    wordlist = text.lower().split()\n",
    "\n",
    "    return wordlist[0][0] == wordlist[1][0]"
   ]
  },
  {
   "cell_type": "code",
   "execution_count": null,
   "id": "4e7e5fdd",
   "metadata": {},
   "outputs": [],
   "source": [
    "animal_crackers2('Levelheaded llama')"
   ]
  },
  {
   "cell_type": "code",
   "execution_count": null,
   "id": "dcab21fc",
   "metadata": {},
   "outputs": [],
   "source": [
    "animal_crackers2('Crazy Kangaroo')"
   ]
  },
  {
   "cell_type": "markdown",
   "id": "93869f1a",
   "metadata": {},
   "source": [
    "#### MAKES TWENTY: Given two integers, return True if the sum of the integers is 20 *or* if one of the integers is 20. If not, return False\n",
    "\n",
    "    makes_twenty(20,10) --> True\n",
    "    makes_twenty(12,8) --> True\n",
    "    makes_twenty(2,3) --> False"
   ]
  },
  {
   "cell_type": "code",
   "execution_count": null,
   "id": "b462d72d",
   "metadata": {},
   "outputs": [],
   "source": [
    "def makes_twenty(n1,n2):\n",
    "    mylist = [n1,n2]\n",
    "    for num in mylist:\n",
    "        if num == 20:\n",
    "            return True\n",
    "        else:\n",
    "            pass\n",
    "    if (n1+n2)==20:\n",
    "        return True\n",
    "    else:\n",
    "        return False\n"
   ]
  },
  {
   "cell_type": "code",
   "execution_count": null,
   "id": "d730f11f",
   "metadata": {},
   "outputs": [],
   "source": [
    "makes_twenty(20,10)"
   ]
  },
  {
   "cell_type": "code",
   "execution_count": null,
   "id": "aaddaafc",
   "metadata": {},
   "outputs": [],
   "source": [
    "makes_twenty(2,3)"
   ]
  },
  {
   "cell_type": "code",
   "execution_count": null,
   "id": "1df9b466",
   "metadata": {},
   "outputs": [],
   "source": [
    "def makes_20(n1,n2):\n",
    "    return (n1+n2) == 20 or n1==20 or n2==20"
   ]
  },
  {
   "cell_type": "code",
   "execution_count": null,
   "id": "bafcf88f",
   "metadata": {},
   "outputs": [],
   "source": [
    "makes_20(20,10)"
   ]
  },
  {
   "cell_type": "code",
   "execution_count": null,
   "id": "9bb5dba4",
   "metadata": {},
   "outputs": [],
   "source": [
    "makes_20(2,3)"
   ]
  },
  {
   "cell_type": "code",
   "execution_count": null,
   "id": "1ecd9213",
   "metadata": {},
   "outputs": [],
   "source": [
    "makes_20(12,8)"
   ]
  },
  {
   "cell_type": "code",
   "execution_count": null,
   "id": "9041d44e",
   "metadata": {},
   "outputs": [],
   "source": [
    "makes_20(20,0)"
   ]
  },
  {
   "cell_type": "markdown",
   "id": "fe62ebd1",
   "metadata": {},
   "source": [
    "#### OLD MACDONALD: Write a function that capitalizes the first and fourth letters of a name\n",
    "     \n",
    "    old_macdonald('macdonald') --> MacDonald\n",
    "    \n",
    "Note: `'macdonald'.capitalize()` returns `'Macdonald'`"
   ]
  },
  {
   "cell_type": "code",
   "execution_count": null,
   "id": "61aca4a7",
   "metadata": {},
   "outputs": [],
   "source": [
    "def old_macdonald(name):\n",
    "    letter_list = list(name)\n",
    "    letter_list[0] = str.capitalize(letter_list[0])\n",
    "    letter_list[3] = str.capitalize(letter_list[3])\n",
    "    new_name = ('')\n",
    "    for let in letter_list:\n",
    "        new_name = new_name+let\n",
    "    return new_name"
   ]
  },
  {
   "cell_type": "code",
   "execution_count": null,
   "id": "41a126ee",
   "metadata": {},
   "outputs": [],
   "source": [
    "old_macdonald('macdonald')"
   ]
  },
  {
   "cell_type": "code",
   "execution_count": null,
   "id": "356bde61",
   "metadata": {},
   "outputs": [],
   "source": [
    "def old_macdonald2(name):\n",
    "    first_letter = name [0]\n",
    "    inbetween = name[1:3]\n",
    "    fourth_letter = name[3]\n",
    "    rest = name[4:]\n",
    "    \n",
    "    return first_letter.upper() + inbetween + fourth_letter.upper()+rest"
   ]
  },
  {
   "cell_type": "code",
   "execution_count": null,
   "id": "8e3c815f",
   "metadata": {},
   "outputs": [],
   "source": [
    "old_macdonald2('macdonald')"
   ]
  },
  {
   "cell_type": "code",
   "execution_count": null,
   "id": "ba386da3",
   "metadata": {},
   "outputs": [],
   "source": [
    "def old_macdonald3(name):\n",
    "    \n",
    "    first_half=name[:3]\n",
    "    second_half=name[3:]\n",
    "    \n",
    "    return first_half.capitalize()+second_half.capitalize()"
   ]
  },
  {
   "cell_type": "code",
   "execution_count": null,
   "id": "3d0c5b6e",
   "metadata": {},
   "outputs": [],
   "source": [
    "old_macdonald3('macdonald')"
   ]
  },
  {
   "cell_type": "markdown",
   "id": "8107eeec",
   "metadata": {},
   "source": [
    "#### MASTER YODA: Given a sentence, return a sentence with the words reversed\n",
    "\n",
    "    master_yoda('I am home') --> 'home am I'\n",
    "    master_yoda('We are ready') --> 'ready are We'\n",
    "    \n",
    "Note: The .join() method may be useful here. The .join() method allows you to join together strings in a list with some connector string. For example, some uses of the .join() method:\n",
    "\n",
    "    >>> \"--\".join(['a','b','c'])\n",
    "    >>> 'a--b--c'\n",
    "\n",
    "This means if you had a list of words you wanted to turn back into a sentence, you could just join them with a single space string:\n",
    "\n",
    "    >>> \" \".join(['Hello','world'])\n",
    "    >>> \"Hello world\""
   ]
  },
  {
   "cell_type": "code",
   "execution_count": null,
   "id": "6b62a67d",
   "metadata": {},
   "outputs": [],
   "source": [
    "m_list = ['a','b','c']\n",
    "\" > \".join(m_list[::-1])"
   ]
  },
  {
   "cell_type": "code",
   "execution_count": null,
   "id": "d08b23d3",
   "metadata": {},
   "outputs": [],
   "source": [
    "def master_yoda(str):\n",
    "    w_list = str.split(' ')\n",
    "    y_list = []\n",
    "    for wrd in w_list:\n",
    "        y_list.append(wrd)\n",
    "    yoda_master = \" \".join(y_list[::-1])\n",
    "    return (yoda_master)"
   ]
  },
  {
   "cell_type": "code",
   "execution_count": null,
   "id": "94d173e4",
   "metadata": {},
   "outputs": [],
   "source": [
    "master_yoda('I am home')"
   ]
  },
  {
   "cell_type": "code",
   "execution_count": null,
   "id": "e1d4b9eb",
   "metadata": {},
   "outputs": [],
   "source": [
    "master_yoda('We are ready')"
   ]
  },
  {
   "cell_type": "code",
   "execution_count": null,
   "id": "03fbe5ef",
   "metadata": {},
   "outputs": [],
   "source": [
    "def master_yoda2(text):\n",
    "    wordlist= text.split()\n",
    "    reverse_word_list= ' '.join(wordlist[::-1])\n",
    "    return reverse_word_list"
   ]
  },
  {
   "cell_type": "code",
   "execution_count": null,
   "id": "27dbd201",
   "metadata": {},
   "outputs": [],
   "source": [
    "master_yoda2('I am home')"
   ]
  },
  {
   "cell_type": "code",
   "execution_count": null,
   "id": "fb1da0e0",
   "metadata": {},
   "outputs": [],
   "source": [
    "master_yoda2('We are ready')"
   ]
  },
  {
   "cell_type": "code",
   "execution_count": null,
   "id": "d600229d",
   "metadata": {},
   "outputs": [],
   "source": []
  },
  {
   "cell_type": "markdown",
   "id": "c87569dc",
   "metadata": {},
   "source": [
    "#### ALMOST THERE: Given an integer n, return True if n is within 10 of either 100 or 200\n",
    "\n",
    "    almost_there(90) --> True\n",
    "    almost_there(104) --> True\n",
    "    almost_there(150) --> False\n",
    "    almost_there(209) --> True\n",
    "    \n",
    "NOTE: `abs(num)` returns the absolute value of a number"
   ]
  },
  {
   "cell_type": "code",
   "execution_count": null,
   "id": "47b74d99",
   "metadata": {},
   "outputs": [],
   "source": [
    "def almost_there(int):\n",
    "    if (int > 89) and (int < 111):\n",
    "        return True\n",
    "    elif (int > 189) and (int < 211):\n",
    "        return True\n",
    "    else:\n",
    "        return False       "
   ]
  },
  {
   "cell_type": "code",
   "execution_count": null,
   "id": "9c78dfd3",
   "metadata": {},
   "outputs": [],
   "source": [
    "almost_there(90)"
   ]
  },
  {
   "cell_type": "code",
   "execution_count": null,
   "id": "11c2ea44",
   "metadata": {},
   "outputs": [],
   "source": [
    "almost_there(104)"
   ]
  },
  {
   "cell_type": "code",
   "execution_count": null,
   "id": "e4d5c98e",
   "metadata": {},
   "outputs": [],
   "source": [
    "almost_there(155)"
   ]
  },
  {
   "cell_type": "code",
   "execution_count": null,
   "id": "5d57f9f2",
   "metadata": {},
   "outputs": [],
   "source": [
    "almost_there(209)"
   ]
  },
  {
   "cell_type": "code",
   "execution_count": null,
   "id": "861741d5",
   "metadata": {},
   "outputs": [],
   "source": [
    "def almost_there2(num):\n",
    "    return abs(num-100) <= 10 or abs(num-200) <= 10"
   ]
  },
  {
   "cell_type": "code",
   "execution_count": null,
   "id": "b0e9c80a",
   "metadata": {},
   "outputs": [],
   "source": [
    "almost_there2(90)"
   ]
  },
  {
   "cell_type": "code",
   "execution_count": null,
   "id": "abb9241d",
   "metadata": {},
   "outputs": [],
   "source": [
    "almost_there2(104)"
   ]
  },
  {
   "cell_type": "code",
   "execution_count": null,
   "id": "391afa93",
   "metadata": {},
   "outputs": [],
   "source": [
    "almost_there2(155)"
   ]
  },
  {
   "cell_type": "code",
   "execution_count": null,
   "id": "93215def",
   "metadata": {},
   "outputs": [],
   "source": [
    "almost_there2(209)"
   ]
  },
  {
   "cell_type": "markdown",
   "id": "323977bc",
   "metadata": {},
   "source": [
    "#### FIND 33: \n",
    "\n",
    "Given a list of ints, return True if the array contains a 3 next to a 3 somewhere.\n",
    "\n",
    "    has_33([1, 3, 3]) → True\n",
    "    has_33([1, 3, 1, 3]) → False\n",
    "    has_33([3, 1, 3]) → False"
   ]
  },
  {
   "cell_type": "code",
   "execution_count": null,
   "id": "3a256198",
   "metadata": {},
   "outputs": [],
   "source": [
    "def has_33(list):\n",
    "    has_it = False\n",
    "    l_lenght = 0\n",
    "    while l_lenght < (len(list)-1):\n",
    "        if (list[(l_lenght)] == list[(l_lenght)+1]) and (list[(l_lenght)] == 3):\n",
    "            has_it = True\n",
    "        l_lenght += 1\n",
    "    return has_it"
   ]
  },
  {
   "cell_type": "code",
   "execution_count": null,
   "id": "5630d4c1",
   "metadata": {},
   "outputs": [],
   "source": [
    "has_33([1, 3, 3])"
   ]
  },
  {
   "cell_type": "code",
   "execution_count": null,
   "id": "ba7c5866",
   "metadata": {},
   "outputs": [],
   "source": [
    "has_33([1, 3, 1, 3])"
   ]
  },
  {
   "cell_type": "code",
   "execution_count": null,
   "id": "f52aa541",
   "metadata": {},
   "outputs": [],
   "source": [
    "has_33([3, 1, 3])"
   ]
  },
  {
   "cell_type": "code",
   "execution_count": null,
   "id": "94a26239",
   "metadata": {},
   "outputs": [],
   "source": [
    "def has_33bis(nums):\n",
    "    for i in range(0,len(nums)-1):\n",
    "        if nums[i] == 3 and nums [i+1] == 3:\n",
    "            return True\n",
    "    return False"
   ]
  },
  {
   "cell_type": "code",
   "execution_count": null,
   "id": "10610ce6",
   "metadata": {},
   "outputs": [],
   "source": [
    "has_33bis([1, 3, 3])"
   ]
  },
  {
   "cell_type": "code",
   "execution_count": null,
   "id": "0b9084e9",
   "metadata": {},
   "outputs": [],
   "source": [
    "has_33bis([1, 3, 1, 3])"
   ]
  },
  {
   "cell_type": "code",
   "execution_count": null,
   "id": "c68b4983",
   "metadata": {},
   "outputs": [],
   "source": [
    "has_33bis([3, 1, 3])"
   ]
  },
  {
   "cell_type": "code",
   "execution_count": null,
   "id": "f26dd4da",
   "metadata": {},
   "outputs": [],
   "source": [
    "def has_33tri(nums):\n",
    "    for i in range(0,len(nums)-1):\n",
    "        if nums[i:i+2] == [3,3]:\n",
    "            return True\n",
    "    return False"
   ]
  },
  {
   "cell_type": "code",
   "execution_count": null,
   "id": "6174ea73",
   "metadata": {},
   "outputs": [],
   "source": [
    "has_33tri([1, 3, 3])"
   ]
  },
  {
   "cell_type": "code",
   "execution_count": null,
   "id": "066ad9b9",
   "metadata": {},
   "outputs": [],
   "source": [
    "has_33tri([1, 3, 1, 3])"
   ]
  },
  {
   "cell_type": "code",
   "execution_count": null,
   "id": "6b6c6f43",
   "metadata": {},
   "outputs": [],
   "source": [
    "has_33tri([3, 1, 3])"
   ]
  },
  {
   "cell_type": "markdown",
   "id": "cfca500b",
   "metadata": {},
   "source": [
    "#### PAPER DOLL: Given a string, return a string where for every character in the original there are three characters\n",
    "    paper_doll('Hello') --> 'HHHeeellllllooo'\n",
    "    paper_doll('Mississippi') --> 'MMMiiissssssiiippppppiii'"
   ]
  },
  {
   "cell_type": "code",
   "execution_count": null,
   "id": "49bd7174",
   "metadata": {},
   "outputs": [],
   "source": [
    "def paper_doll(str):\n",
    "    new_wrd = ''\n",
    "    for let in str:\n",
    "        new_wrd = new_wrd+(let*3)\n",
    "    return new_wrd"
   ]
  },
  {
   "cell_type": "code",
   "execution_count": null,
   "id": "571b9453",
   "metadata": {},
   "outputs": [],
   "source": [
    "paper_doll('Hello')"
   ]
  },
  {
   "cell_type": "code",
   "execution_count": null,
   "id": "e852e977",
   "metadata": {},
   "outputs": [],
   "source": [
    "paper_doll('Mississippi')"
   ]
  },
  {
   "cell_type": "code",
   "execution_count": null,
   "id": "42037ef4",
   "metadata": {},
   "outputs": [],
   "source": [
    "def paper_doll2(text):\n",
    "    result = ''\n",
    "    for char in text:\n",
    "        result += char*3\n",
    "    return result"
   ]
  },
  {
   "cell_type": "code",
   "execution_count": null,
   "id": "dc89185d",
   "metadata": {},
   "outputs": [],
   "source": [
    "paper_doll2('Hello')"
   ]
  },
  {
   "cell_type": "code",
   "execution_count": null,
   "id": "9240a1e3",
   "metadata": {},
   "outputs": [],
   "source": [
    "paper_doll2('Mississippi')"
   ]
  },
  {
   "cell_type": "markdown",
   "id": "af873ec7",
   "metadata": {},
   "source": [
    "#### BLACKJACK: Given three integers between 1 and 11, if their sum is less than or equal to 21, return their sum. If their sum exceeds 21 *and* there's an eleven, reduce the total sum by 10. Finally, if the sum (even after adjustment) exceeds 21, return 'BUST'\n",
    "    blackjack(5,6,7) --> 18\n",
    "    blackjack(9,9,9) --> 'BUST'\n",
    "    blackjack(9,9,11) --> 19"
   ]
  },
  {
   "cell_type": "code",
   "execution_count": null,
   "id": "ed863523",
   "metadata": {},
   "outputs": [],
   "source": [
    "def blackjack(a,b,c):\n",
    "    suma = (a + b + c)\n",
    "    if (a == 11) or (b== 11) or (c== 11):\n",
    "        suma = suma-10\n",
    "    \n",
    "    if suma <= 21:\n",
    "        return suma\n",
    "\n",
    "    else:\n",
    "        return 'BUST'"
   ]
  },
  {
   "cell_type": "code",
   "execution_count": null,
   "id": "51fb3c43",
   "metadata": {},
   "outputs": [],
   "source": [
    "blackjack(5,6,7)"
   ]
  },
  {
   "cell_type": "code",
   "execution_count": null,
   "id": "83703ce1",
   "metadata": {},
   "outputs": [],
   "source": [
    "blackjack(9,9,9)"
   ]
  },
  {
   "cell_type": "code",
   "execution_count": null,
   "id": "417fa0de",
   "metadata": {},
   "outputs": [],
   "source": [
    "blackjack(9,9,11)"
   ]
  },
  {
   "cell_type": "code",
   "execution_count": null,
   "id": "3e0cbeb2",
   "metadata": {},
   "outputs": [],
   "source": [
    "def blackjack2(a,b,c):\n",
    "    if sum([a,b,c]) <= 21:\n",
    "        return sum([a,b,c])\n",
    "    elif 11 in [a,b,c] and sum ([a,b,c]) <= 31:\n",
    "        return sum([a,b,c])-10\n",
    "    else:\n",
    "        return 'BUST'"
   ]
  },
  {
   "cell_type": "code",
   "execution_count": null,
   "id": "213606b0",
   "metadata": {},
   "outputs": [],
   "source": [
    "blackjack2(5,6,7)"
   ]
  },
  {
   "cell_type": "code",
   "execution_count": null,
   "id": "df44913a",
   "metadata": {},
   "outputs": [],
   "source": [
    "blackjack2(9,9,9)"
   ]
  },
  {
   "cell_type": "code",
   "execution_count": null,
   "id": "26bbd45e",
   "metadata": {},
   "outputs": [],
   "source": [
    "blackjack2(9,9,11)"
   ]
  },
  {
   "cell_type": "markdown",
   "id": "ad5aecf8",
   "metadata": {},
   "source": [
    "#### SUMMER OF '69: Return the sum of the numbers in the array, except ignore sections of numbers starting with a 6 and extending to the next 9 (every 6 will be followed by at least one 9). Return 0 for no numbers.\n",
    " \n",
    "    summer_69([1, 3, 5]) --> 9\n",
    "    summer_69([4, 5, 6, 7, 8, 9]) --> 9\n",
    "    summer_69([2, 1, 6, 9, 11]) --> 14"
   ]
  },
  {
   "cell_type": "code",
   "execution_count": null,
   "id": "0c98cfda",
   "metadata": {},
   "outputs": [],
   "source": [
    "def summer_69(list):\n",
    "    total = 0\n",
    "    l_pos = 0\n",
    "    its_69 = False\n",
    "    while l_pos < len(list):\n",
    "        if list[l_pos] == 6:\n",
    "            its_69 = True\n",
    "        elif its_69 == False:\n",
    "            total = total+(list[l_pos])\n",
    "            \n",
    "        elif list[l_pos] == 9:\n",
    "            its_69 = False\n",
    "        \n",
    "        l_pos += 1\n",
    "    return total"
   ]
  },
  {
   "cell_type": "code",
   "execution_count": null,
   "id": "2f55b419",
   "metadata": {},
   "outputs": [],
   "source": [
    "summer_69([1, 3, 5])"
   ]
  },
  {
   "cell_type": "code",
   "execution_count": null,
   "id": "bee45d01",
   "metadata": {},
   "outputs": [],
   "source": [
    "summer_69([4, 5, 6, 7, 8, 9])"
   ]
  },
  {
   "cell_type": "code",
   "execution_count": null,
   "id": "fefb14bb",
   "metadata": {},
   "outputs": [],
   "source": [
    "summer_69([2, 1, 6, 9, 11])"
   ]
  },
  {
   "cell_type": "code",
   "execution_count": null,
   "id": "22603c46",
   "metadata": {},
   "outputs": [],
   "source": [
    "def summer_69bis(arr):\n",
    "    total = 0\n",
    "    add = True\n",
    "    for num in arr:\n",
    "        while add:\n",
    "            if num != 6:\n",
    "                total += num\n",
    "                break\n",
    "            else:\n",
    "                add = False\n",
    "        while not add:\n",
    "            if num != 9:\n",
    "                break\n",
    "            else:\n",
    "                add=True\n",
    "                break\n",
    "    return total"
   ]
  },
  {
   "cell_type": "code",
   "execution_count": null,
   "id": "dd7e53d2",
   "metadata": {},
   "outputs": [],
   "source": [
    "summer_69bis([1, 3, 5])"
   ]
  },
  {
   "cell_type": "code",
   "execution_count": null,
   "id": "a88c1f6c",
   "metadata": {},
   "outputs": [],
   "source": [
    "summer_69bis([4, 5, 6, 7, 8, 9])"
   ]
  },
  {
   "cell_type": "code",
   "execution_count": null,
   "id": "f6ec588e",
   "metadata": {},
   "outputs": [],
   "source": [
    "summer_69bis([2, 1, 6, 9, 11])"
   ]
  },
  {
   "cell_type": "markdown",
   "id": "738429b2",
   "metadata": {},
   "source": [
    "#### SPY GAME: Write a function that takes in a list of integers and returns True if it contains 007 in order\n",
    "\n",
    "     spy_game([1,2,4,0,0,7,5]) --> True\n",
    "     spy_game([1,0,2,4,0,5,7]) --> True\n",
    "     spy_game([1,7,2,0,4,5,0]) --> False"
   ]
  },
  {
   "cell_type": "code",
   "execution_count": null,
   "id": "81701ef2",
   "metadata": {},
   "outputs": [],
   "source": [
    "def spy_game (list):\n",
    "    bond = False\n",
    "    l_pos = 0\n",
    "\n",
    "    while l_pos < (len(list)-2):\n",
    "        code = ''\n",
    "      \n",
    "        code = code+str(list[(l_pos)])+str(list[(l_pos)+1])+str(list[(l_pos)+2])\n",
    "        if code == '007':\n",
    "            bond = True\n",
    "        l_pos += 1\n",
    "        print (code)\n",
    "        print (type(code))\n",
    "    return bond\n"
   ]
  },
  {
   "cell_type": "code",
   "execution_count": null,
   "id": "d3be5008",
   "metadata": {},
   "outputs": [],
   "source": [
    "def spy_game (list):\n",
    "    bond = False\n",
    "    l_pos = 0\n",
    "    code = ''\n",
    "    for numb in list:\n",
    "        if (numb == 0) or (numb == 7):\n",
    "            code = code+(str(numb))\n",
    "    if code == '007':\n",
    "        bond = True\n",
    "    \n",
    "    return bond"
   ]
  },
  {
   "cell_type": "code",
   "execution_count": null,
   "id": "df353e74",
   "metadata": {
    "scrolled": true
   },
   "outputs": [],
   "source": [
    "spy_game([1,2,4,0,0,7,5])"
   ]
  },
  {
   "cell_type": "code",
   "execution_count": null,
   "id": "d450c6b2",
   "metadata": {
    "scrolled": true
   },
   "outputs": [],
   "source": [
    "spy_game([1,0,2,4,0,5,7])"
   ]
  },
  {
   "cell_type": "code",
   "execution_count": null,
   "id": "6e563ab0",
   "metadata": {},
   "outputs": [],
   "source": [
    "spy_game([1,7,2,0,4,5,0])"
   ]
  },
  {
   "cell_type": "code",
   "execution_count": null,
   "id": "0b2a3cc8",
   "metadata": {},
   "outputs": [],
   "source": [
    "def spy_game2(nums):\n",
    "    code = [0,0,7,'x']\n",
    "    for num in nums:\n",
    "        if num == code[0]:\n",
    "            code.pop(0)\n",
    "    return len(code) == 1"
   ]
  },
  {
   "cell_type": "code",
   "execution_count": null,
   "id": "558c535a",
   "metadata": {},
   "outputs": [],
   "source": [
    "spy_game2([1,2,4,0,0,7,5])"
   ]
  },
  {
   "cell_type": "code",
   "execution_count": null,
   "id": "0f79d8de",
   "metadata": {},
   "outputs": [],
   "source": [
    "spy_game2([1,0,2,4,0,5,7])"
   ]
  },
  {
   "cell_type": "code",
   "execution_count": null,
   "id": "2678d6cb",
   "metadata": {},
   "outputs": [],
   "source": [
    "spy_game2([1,7,2,0,4,5,0])"
   ]
  },
  {
   "cell_type": "markdown",
   "id": "3d38a7b5",
   "metadata": {},
   "source": [
    "#### COUNT PRIMES: Write a function that returns the *number* of prime numbers that exist up to and including a given number\n",
    "    count_primes(100) --> 25\n",
    "\n",
    "By convention, 0 and 1 are not prime."
   ]
  },
  {
   "cell_type": "code",
   "execution_count": null,
   "id": "3d38c705",
   "metadata": {},
   "outputs": [],
   "source": [
    "def count_primes(int):\n",
    "    n_range = range(2,(int+1))\n",
    "    n_list = []\n",
    "    p_count = 0\n",
    "    p_list = []\n",
    "          \n",
    "    for n in n_range:\n",
    "        c_range = range(2,(n))\n",
    "        is_prime = True\n",
    "        m = n\n",
    "        for c in c_range:\n",
    "            if m%c == 0:\n",
    "                is_prime = False\n",
    "        if is_prime == True:\n",
    "            p_count += 1\n",
    "            p_list.append(m)\n",
    "        \n",
    "    print (p_count)\n",
    "    print (p_list)"
   ]
  },
  {
   "cell_type": "code",
   "execution_count": null,
   "id": "4cd5c2fa",
   "metadata": {},
   "outputs": [],
   "source": [
    "count_primes(100)"
   ]
  },
  {
   "cell_type": "code",
   "execution_count": null,
   "id": "23442467",
   "metadata": {},
   "outputs": [],
   "source": [
    "count_primes(200)"
   ]
  },
  {
   "cell_type": "code",
   "execution_count": null,
   "id": "6f77050e",
   "metadata": {},
   "outputs": [],
   "source": [
    "def count_primes2(num):\n",
    "    # Check for 0 or 1 input\n",
    "    if num < 2:\n",
    "        return 0\n",
    "    # 2 or greater\n",
    "    \n",
    "    primes=[2]\n",
    "    x = 3\n",
    "    \n",
    "    while x <= num:\n",
    "        for y in range(3,x,2): # or i could replace the range for the primes list\n",
    "            if x%y == 0:\n",
    "                x += 2\n",
    "                break\n",
    "        else:\n",
    "            primes.append(x)\n",
    "            x += 2\n",
    "    print(primes)\n",
    "    return len(primes)"
   ]
  },
  {
   "cell_type": "code",
   "execution_count": null,
   "id": "7da5d20f",
   "metadata": {},
   "outputs": [],
   "source": [
    "count_primes2(100)"
   ]
  },
  {
   "cell_type": "code",
   "execution_count": null,
   "id": "b5add97c",
   "metadata": {},
   "outputs": [],
   "source": [
    "count_primes2(200)"
   ]
  },
  {
   "cell_type": "markdown",
   "id": "0bcc7f71",
   "metadata": {},
   "source": [
    "### Just for fun:\n",
    "#### PRINT BIG: Write a function that takes in a single letter, and returns a 5x5 representation of that letter\n",
    "    print_big('a')\n",
    "    \n",
    "    out:   *  \n",
    "          * *\n",
    "         *****\n",
    "         *   *\n",
    "         *   *\n",
    "HINT: Consider making a dictionary of possible patterns, and mapping the alphabet to specific 5-line combinations of patterns. <br>For purposes of this exercise, it's ok if your dictionary stops at \"E\"."
   ]
  },
  {
   "cell_type": "code",
   "execution_count": null,
   "id": "a0e50731",
   "metadata": {},
   "outputs": [],
   "source": [
    "print ('  *  \\n * * \\n*****\\n*   *\\n*   *')"
   ]
  },
  {
   "cell_type": "code",
   "execution_count": null,
   "id": "1bc7c989",
   "metadata": {},
   "outputs": [],
   "source": [
    "let_dict = {'a':'  *  \\n * * \\n*****\\n*   *\\n*   *', 'b':'**** \\n*   *\\n**** \\n*   *\\n**** ', 'c':' ****\\n*   \\n*    \\n*    \\n ****', 'd':'**** \\n*   * \\n*   *\\n*   * \\n**** ', 'e':'*****\\n*    \\n*****\\n*    \\n*****'}"
   ]
  },
  {
   "cell_type": "code",
   "execution_count": null,
   "id": "c0a0af06",
   "metadata": {},
   "outputs": [],
   "source": [
    "print(let_dict['e'])"
   ]
  },
  {
   "cell_type": "code",
   "execution_count": null,
   "id": "f06868ea",
   "metadata": {},
   "outputs": [],
   "source": [
    "def print_big(key):\n",
    "    let_dict = {'a':'  *  \\n * * \\n*****\\n*   *\\n*   *', 'b':'**** \\n*   *\\n**** \\n*   *\\n**** ', 'c':' ****\\n*   \\n*    \\n*    \\n ****', 'd':'**** \\n*   * \\n*   *\\n*   * \\n**** ', 'e':'*****\\n*    \\n*****\\n*    \\n*****'}\n",
    "    \n",
    "    print(let_dict[key])"
   ]
  },
  {
   "cell_type": "code",
   "execution_count": null,
   "id": "de68595e",
   "metadata": {},
   "outputs": [],
   "source": [
    "print_big('a')"
   ]
  },
  {
   "cell_type": "code",
   "execution_count": null,
   "id": "982492ed",
   "metadata": {},
   "outputs": [],
   "source": [
    "print_big('c')"
   ]
  },
  {
   "cell_type": "code",
   "execution_count": null,
   "id": "37b44646",
   "metadata": {},
   "outputs": [],
   "source": [
    "print_big('e')"
   ]
  },
  {
   "cell_type": "code",
   "execution_count": null,
   "id": "571f0857",
   "metadata": {},
   "outputs": [],
   "source": [
    "def print_big2(letter):\n",
    "    patterns = {1:'  *  ', 2:' * * ', 3:'*   *', 4:'*****', 5:'**** ', 6:'    *', 7:' *   ', 8:'*  * ', 9:'*    '}\n",
    "    \n",
    "    alphabet = {'A':[1,2,4,3,3], 'B':[5,3,5,3,5], 'C':[4,9,9,9,4], 'D':[5,3,3,3,5], 'E':[4,9,4,9,4]}\n",
    "    for pattern in alphabet[letter.upper()]:\n",
    "        print(patterns[pattern])"
   ]
  },
  {
   "cell_type": "code",
   "execution_count": null,
   "id": "b945dd79",
   "metadata": {},
   "outputs": [],
   "source": [
    "print_big2('b')"
   ]
  },
  {
   "cell_type": "code",
   "execution_count": null,
   "id": "c919d7bd",
   "metadata": {
    "scrolled": true
   },
   "outputs": [],
   "source": [
    "print_big2('d')"
   ]
  },
  {
   "cell_type": "markdown",
   "id": "61155aad",
   "metadata": {},
   "source": [
    "# Lambda, Filter and Maps"
   ]
  },
  {
   "cell_type": "code",
   "execution_count": null,
   "id": "187ca8f0",
   "metadata": {},
   "outputs": [],
   "source": [
    "my_nums = [1,2,3,4,5]\n",
    "for item in map((lambda num: num**2),my_nums):\n",
    "    print (item)\n"
   ]
  },
  {
   "cell_type": "code",
   "execution_count": null,
   "id": "b29772fb",
   "metadata": {},
   "outputs": [],
   "source": [
    "my_nums = [1,2,3,4,5]\n",
    "list(map((lambda num: num**2),my_nums))"
   ]
  },
  {
   "cell_type": "code",
   "execution_count": null,
   "id": "71407339",
   "metadata": {},
   "outputs": [],
   "source": [
    "def splicer(mystring):\n",
    "    if len(mystring)%2 == 0:\n",
    "        return 'EVEN'\n",
    "    else:\n",
    "        return mystring[0]"
   ]
  },
  {
   "cell_type": "code",
   "execution_count": null,
   "id": "78cac92b",
   "metadata": {},
   "outputs": [],
   "source": [
    "names=['Andy','Eve','Sally']"
   ]
  },
  {
   "cell_type": "code",
   "execution_count": null,
   "id": "d7d56eca",
   "metadata": {},
   "outputs": [],
   "source": [
    "list(map(splicer,names))"
   ]
  },
  {
   "cell_type": "code",
   "execution_count": null,
   "id": "7d7eaee0",
   "metadata": {},
   "outputs": [],
   "source": [
    "def check_even(num):\n",
    "    return num%2 == 0"
   ]
  },
  {
   "cell_type": "code",
   "execution_count": null,
   "id": "a81c0405",
   "metadata": {},
   "outputs": [],
   "source": [
    "mynums = [1,2,3,4,5,6]"
   ]
  },
  {
   "cell_type": "code",
   "execution_count": null,
   "id": "5bcaa160",
   "metadata": {},
   "outputs": [],
   "source": [
    "list(filter(check_even, mynums))"
   ]
  },
  {
   "cell_type": "code",
   "execution_count": null,
   "id": "4b108c21",
   "metadata": {},
   "outputs": [],
   "source": [
    "def square(num):\n",
    "    result = num **2\n",
    "    return result"
   ]
  },
  {
   "cell_type": "code",
   "execution_count": null,
   "id": "2b25c549",
   "metadata": {},
   "outputs": [],
   "source": [
    "square(3)"
   ]
  },
  {
   "cell_type": "code",
   "execution_count": null,
   "id": "11641c1c",
   "metadata": {},
   "outputs": [],
   "source": [
    "def square(num):\n",
    "    return num **2"
   ]
  },
  {
   "cell_type": "code",
   "execution_count": null,
   "id": "0e860d7f",
   "metadata": {},
   "outputs": [],
   "source": [
    "def square(num): return num **2"
   ]
  },
  {
   "cell_type": "code",
   "execution_count": null,
   "id": "40a47bb0",
   "metadata": {},
   "outputs": [],
   "source": [
    "square = lambda num: num **2"
   ]
  },
  {
   "cell_type": "code",
   "execution_count": null,
   "id": "99f3172d",
   "metadata": {},
   "outputs": [],
   "source": [
    "square(5)"
   ]
  },
  {
   "cell_type": "code",
   "execution_count": null,
   "id": "1db60181",
   "metadata": {},
   "outputs": [],
   "source": [
    "list(map(lambda num:num**2, mynums))"
   ]
  },
  {
   "cell_type": "code",
   "execution_count": null,
   "id": "c46a4a64",
   "metadata": {},
   "outputs": [],
   "source": [
    "list(filter(lambda num:num%2 == 0, list(map(lambda num:num**2, mynums))))"
   ]
  },
  {
   "cell_type": "markdown",
   "id": "23f874b4",
   "metadata": {},
   "source": [
    "# Nested Statements and Scope"
   ]
  },
  {
   "cell_type": "code",
   "execution_count": null,
   "id": "bb90aae0",
   "metadata": {},
   "outputs": [],
   "source": [
    "x = 25\n",
    "\n",
    "def printer():\n",
    "    x = 50\n",
    "    return x"
   ]
  },
  {
   "cell_type": "code",
   "execution_count": null,
   "id": "01c3c4bd",
   "metadata": {},
   "outputs": [],
   "source": [
    "print(x)"
   ]
  },
  {
   "cell_type": "code",
   "execution_count": null,
   "id": "511a9946",
   "metadata": {},
   "outputs": [],
   "source": [
    "print(printer())"
   ]
  },
  {
   "cell_type": "code",
   "execution_count": null,
   "id": "6e63ec79",
   "metadata": {},
   "outputs": [],
   "source": [
    "name = 'This is a Global String'\n",
    "\n",
    "def greet():\n",
    "    name = 'Sammy'\n",
    "    \n",
    "    def hello():\n",
    "        print('Hello '+name)\n",
    "    hello()\n",
    "    "
   ]
  },
  {
   "cell_type": "code",
   "execution_count": null,
   "id": "14655786",
   "metadata": {},
   "outputs": [],
   "source": [
    "greet()"
   ]
  },
  {
   "cell_type": "code",
   "execution_count": null,
   "id": "d3bad41a",
   "metadata": {},
   "outputs": [],
   "source": [
    "name"
   ]
  },
  {
   "cell_type": "code",
   "execution_count": null,
   "id": "3d776dfa",
   "metadata": {},
   "outputs": [],
   "source": [
    "greet()\n",
    "name"
   ]
  },
  {
   "cell_type": "code",
   "execution_count": null,
   "id": "2a50c7ce",
   "metadata": {},
   "outputs": [],
   "source": [
    "x = 50\n",
    "def func(x):\n",
    "    print(f'X is {x}')"
   ]
  },
  {
   "cell_type": "code",
   "execution_count": null,
   "id": "bc59796c",
   "metadata": {},
   "outputs": [],
   "source": [
    "func(x)"
   ]
  },
  {
   "cell_type": "code",
   "execution_count": null,
   "id": "fb8c69d5",
   "metadata": {},
   "outputs": [],
   "source": [
    "x = 50\n",
    "def func(x):\n",
    "    print(f'X is {x}')\n",
    "    \n",
    "    # Local Reassigment!\n",
    "    \n",
    "    x = 200\n",
    "    \n",
    "    print(f'I just locally changed X to {x}')"
   ]
  },
  {
   "cell_type": "code",
   "execution_count": null,
   "id": "35345605",
   "metadata": {},
   "outputs": [],
   "source": [
    "func(x)"
   ]
  },
  {
   "cell_type": "code",
   "execution_count": null,
   "id": "6e9aa57b",
   "metadata": {},
   "outputs": [],
   "source": [
    "print(x)"
   ]
  },
  {
   "cell_type": "code",
   "execution_count": null,
   "id": "f9ff3565",
   "metadata": {},
   "outputs": [],
   "source": [
    "x = 50\n",
    "def func():\n",
    "    global x\n",
    "    print(f'X is {x}')\n",
    "    \n",
    "    # Local Reassigment on a global variable!\n",
    "    \n",
    "    x = 'NEW VALUE'\n",
    "    \n",
    "    print(f'I just locally changed GLOBAL X to {x}')"
   ]
  },
  {
   "cell_type": "code",
   "execution_count": null,
   "id": "3c6dbdba",
   "metadata": {},
   "outputs": [],
   "source": [
    "print(x)"
   ]
  },
  {
   "cell_type": "code",
   "execution_count": null,
   "id": "d4cff75e",
   "metadata": {},
   "outputs": [],
   "source": [
    "func()"
   ]
  },
  {
   "cell_type": "code",
   "execution_count": null,
   "id": "4ffe0a2b",
   "metadata": {},
   "outputs": [],
   "source": [
    "print(x)"
   ]
  },
  {
   "cell_type": "markdown",
   "id": "35b528d2",
   "metadata": {},
   "source": [
    "# Functions and Methods Homework \n",
    "\n",
    "Complete the following questions:\n",
    "____\n",
    "**Write a function that computes the volume of a sphere given its radius.**\n",
    "<p>The volume of a sphere is given as $$\\frac{4}{3} πr^3$$</p>"
   ]
  },
  {
   "cell_type": "code",
   "execution_count": null,
   "id": "1d8424f6",
   "metadata": {},
   "outputs": [],
   "source": [
    "\n",
    "def vol(rad):\n",
    "    from math import pi\n",
    "    return (4/3)*pi*(rad**3)"
   ]
  },
  {
   "cell_type": "code",
   "execution_count": null,
   "id": "184f7192",
   "metadata": {},
   "outputs": [],
   "source": [
    "# Check\n",
    "vol(2)"
   ]
  },
  {
   "cell_type": "markdown",
   "id": "5b3ea9bf",
   "metadata": {},
   "source": [
    "___\n",
    "**Write a function that checks whether a number is in a given range (inclusive of high and low)**"
   ]
  },
  {
   "cell_type": "code",
   "execution_count": null,
   "id": "d8b02ffa",
   "metadata": {},
   "outputs": [],
   "source": [
    "def ran_check(num,low,high):\n",
    "    for i in range(low,high+1):\n",
    "        if i == num:\n",
    "            return f'Yes, {num} is between {low} and {high}'\n",
    "        else:\n",
    "            continue\n",
    "    return f'No, {num} is not between {low} and {high}'\n",
    "        "
   ]
  },
  {
   "cell_type": "code",
   "execution_count": null,
   "id": "f598dfdb",
   "metadata": {},
   "outputs": [],
   "source": [
    "ran_check(5,2,7)"
   ]
  },
  {
   "cell_type": "markdown",
   "id": "ebee451e",
   "metadata": {},
   "source": [
    "If you only wanted to return a boolean:"
   ]
  },
  {
   "cell_type": "code",
   "execution_count": null,
   "id": "57d1d26b",
   "metadata": {},
   "outputs": [],
   "source": [
    "def ran_bool(num,low,high):\n",
    "    for i in range(low,high+1):\n",
    "        if i == num:\n",
    "            return i == num\n",
    "        else:\n",
    "            continue\n",
    "    return i == num"
   ]
  },
  {
   "cell_type": "code",
   "execution_count": null,
   "id": "b9a6bede",
   "metadata": {
    "scrolled": true
   },
   "outputs": [],
   "source": [
    "ran_bool(3,1,10)"
   ]
  },
  {
   "cell_type": "code",
   "execution_count": null,
   "id": "8bf45d95",
   "metadata": {},
   "outputs": [],
   "source": [
    "def ran_check2(num,low,high):\n",
    "    if num in range(low,high+1):\n",
    "        return f'Yes, {num} is between {low} and {high}'\n",
    "    else:\n",
    "        return f'No, {num} is not between {low} and {high}'"
   ]
  },
  {
   "cell_type": "code",
   "execution_count": null,
   "id": "5f5cc572",
   "metadata": {},
   "outputs": [],
   "source": [
    "ran_check2(5,2,7)"
   ]
  },
  {
   "cell_type": "code",
   "execution_count": null,
   "id": "4e6a6ee0",
   "metadata": {},
   "outputs": [],
   "source": [
    "def ran_bool2(num,low,high):\n",
    "    return num in range(low,high+1)"
   ]
  },
  {
   "cell_type": "code",
   "execution_count": null,
   "id": "2fa31628",
   "metadata": {},
   "outputs": [],
   "source": [
    "ran_bool2(3,1,10)"
   ]
  },
  {
   "cell_type": "markdown",
   "id": "85bcaa89",
   "metadata": {},
   "source": [
    "____\n",
    "**Write a Python function that accepts a string and calculates the number of upper case letters and lower case letters.**\n",
    "\n",
    "    Sample String : 'Hello Mr. Rogers, how are you this fine Tuesday?'\n",
    "    Expected Output : \n",
    "    No. of Upper case characters : 4\n",
    "    No. of Lower case Characters : 33\n",
    "\n",
    "HINT: Two string methods that might prove useful: **.isupper()** and **.islower()**\n",
    "\n",
    "If you feel ambitious, explore the Collections module to solve this problem!"
   ]
  },
  {
   "cell_type": "code",
   "execution_count": null,
   "id": "339e2b18",
   "metadata": {},
   "outputs": [],
   "source": [
    "def up_low(str):\n",
    "    upp_count = 0\n",
    "    low_count = 0\n",
    "    str_list = []\n",
    "    for i in range(1,len(s)):\n",
    "        str_list.append(s[(i-1)])\n",
    "\n",
    "    for l in str_list:\n",
    "        if l.isupper() == True:\n",
    "            upp_count += 1\n",
    "        else:\n",
    "            low_count += 1\n",
    "    print (f'No. of Upper case characters : {upp_count}')\n",
    "    print (f'No. of Lower case Characters : {low_count}')"
   ]
  },
  {
   "cell_type": "code",
   "execution_count": null,
   "id": "86818ce9",
   "metadata": {
    "scrolled": true
   },
   "outputs": [],
   "source": [
    "s = 'Hello Mr. Rogers, how are you this fine Tuesday?'\n",
    "up_low(s)"
   ]
  },
  {
   "cell_type": "code",
   "execution_count": null,
   "id": "f3a2fc2a",
   "metadata": {},
   "outputs": [],
   "source": [
    "def up_low2(s):\n",
    "    lowcase=0\n",
    "    uppcase=0\n",
    "    \n",
    "    for char in s:\n",
    "        if char.isupper():\n",
    "            uppcase +=1\n",
    "        elif char.islower():\n",
    "            lowcase+=1\n",
    "        else:\n",
    "            pass\n",
    "    print (f'No. of Upper case characters : {uppcase}')\n",
    "    print (f'No. of Lower case Characters : {lowcase}')"
   ]
  },
  {
   "cell_type": "code",
   "execution_count": null,
   "id": "2cdbafa3",
   "metadata": {},
   "outputs": [],
   "source": [
    "s = 'Hello Mr. Rogers, how are you this fine Tuesday?'\n",
    "up_low2(s)"
   ]
  },
  {
   "cell_type": "code",
   "execution_count": null,
   "id": "03a4cdcb",
   "metadata": {},
   "outputs": [],
   "source": [
    "def up_low3(s):\n",
    "    d = {'upper':0,'lower':0}\n",
    "    \n",
    "    for char in s:\n",
    "        if char.isupper():\n",
    "            d['upper']+=1\n",
    "        elif char.islower():\n",
    "            d['lower']+=1\n",
    "        else:\n",
    "            pass\n",
    "    \n",
    "    print (f'No. of Upper case characters : {d[\"upper\"]}')\n",
    "    print (f'No. of Lower case Characters : {d[\"lower\"]}')"
   ]
  },
  {
   "cell_type": "code",
   "execution_count": null,
   "id": "9295341a",
   "metadata": {},
   "outputs": [],
   "source": [
    "s = 'Hello Mr. Rogers, how are you this fine Tuesday?'\n",
    "up_low3(s)"
   ]
  },
  {
   "cell_type": "markdown",
   "id": "68c55f61",
   "metadata": {},
   "source": [
    "____\n",
    "**Write a Python function that takes a list and returns a new list with unique elements of the first list.**\n",
    "\n",
    "    Sample List : [1,1,1,1,2,2,3,3,3,3,4,5]\n",
    "    Unique List : [1, 2, 3, 4, 5]"
   ]
  },
  {
   "cell_type": "code",
   "execution_count": null,
   "id": "2b549c41",
   "metadata": {},
   "outputs": [],
   "source": [
    "def unique_list(lst):\n",
    "  \n",
    "    u_list = []\n",
    "      \n",
    "    for x in lst:\n",
    "        if x not in u_list:\n",
    "            u_list.append(x)\n",
    "\n",
    "    return u_list"
   ]
  },
  {
   "cell_type": "code",
   "execution_count": null,
   "id": "566fdef5",
   "metadata": {},
   "outputs": [],
   "source": [
    "unique_list([1,1,1,1,2,2,3,3,3,3,4,5])"
   ]
  },
  {
   "cell_type": "code",
   "execution_count": null,
   "id": "f0d4a204",
   "metadata": {},
   "outputs": [],
   "source": [
    "def unique_list2(lst):\n",
    "    return list(set(lst))"
   ]
  },
  {
   "cell_type": "code",
   "execution_count": null,
   "id": "11421af9",
   "metadata": {},
   "outputs": [],
   "source": [
    "unique_list2([1,1,1,1,2,2,3,3,3,3,4,5])"
   ]
  },
  {
   "cell_type": "code",
   "execution_count": null,
   "id": "49d7756d",
   "metadata": {},
   "outputs": [],
   "source": [
    "def unique_list3(lst):\n",
    "    import numpy as np\n",
    "    x = np.array(lst)\n",
    "    return np.unique(x)"
   ]
  },
  {
   "cell_type": "code",
   "execution_count": null,
   "id": "897822b8",
   "metadata": {},
   "outputs": [],
   "source": [
    "unique_list3([1,1,1,1,2,2,3,3,3,3,4,5])"
   ]
  },
  {
   "cell_type": "markdown",
   "id": "9b811e2e",
   "metadata": {},
   "source": [
    "____\n",
    "**Write a Python function to multiply all the numbers in a list.**\n",
    "\n",
    "    Sample List : [1, 2, 3, -4]\n",
    "    Expected Output : -24"
   ]
  },
  {
   "cell_type": "code",
   "execution_count": null,
   "id": "433f5430",
   "metadata": {},
   "outputs": [],
   "source": [
    "def multiply(numbers):  \n",
    "    result = 1\n",
    "    for n in numbers:\n",
    "        result = result*n\n",
    "    return result"
   ]
  },
  {
   "cell_type": "code",
   "execution_count": null,
   "id": "ec61bd12",
   "metadata": {},
   "outputs": [],
   "source": [
    "multiply([1,2,3,-4])"
   ]
  },
  {
   "cell_type": "markdown",
   "id": "20c8fb7e",
   "metadata": {},
   "source": [
    "____\n",
    "**Write a Python function that checks whether a word or phrase is palindrome or not.**\n",
    "\n",
    "Note: A palindrome is word, phrase, or sequence that reads the same backward as forward, e.g., madam,kayak,racecar, or a phrase \"nurses run\". Hint: You may want to check out the .replace() method in a string to help out with dealing with spaces. Also google search how to reverse a string in Python, there are some clever ways to do it with slicing notation."
   ]
  },
  {
   "cell_type": "code",
   "execution_count": null,
   "id": "91cc6b83",
   "metadata": {},
   "outputs": [],
   "source": [
    "def palindrome(s):\n",
    "    s_dir = s.replace(' ','')\n",
    "    print (s_dir)\n",
    "    s_inv = s_dir[::-1]\n",
    "    print (s_inv)\n",
    "    return s_dir.lower() == s_inv.lower()"
   ]
  },
  {
   "cell_type": "code",
   "execution_count": null,
   "id": "d39d24d6",
   "metadata": {},
   "outputs": [],
   "source": [
    "palindrome('helleh')"
   ]
  },
  {
   "cell_type": "code",
   "execution_count": null,
   "id": "95b22505",
   "metadata": {},
   "outputs": [],
   "source": [
    "palindrome('nurses run')"
   ]
  },
  {
   "cell_type": "code",
   "execution_count": null,
   "id": "006b6c39",
   "metadata": {},
   "outputs": [],
   "source": [
    "def palindrome2(s):\n",
    "    s = s.replace(' ','')\n",
    "    return s == s[::-1]"
   ]
  },
  {
   "cell_type": "code",
   "execution_count": null,
   "id": "938573c3",
   "metadata": {},
   "outputs": [],
   "source": [
    "palindrome2('helleh')"
   ]
  },
  {
   "cell_type": "code",
   "execution_count": null,
   "id": "618c68ed",
   "metadata": {},
   "outputs": [],
   "source": [
    "palindrome2('nurses run')"
   ]
  },
  {
   "cell_type": "markdown",
   "id": "2218b597",
   "metadata": {},
   "source": [
    "____\n",
    "#### Hard:\n",
    "\n",
    "**Write a Python function to check whether a string is pangram or not. (Assume the string passed in does not have any punctuation)**\n",
    "\n",
    "    Note : Pangrams are words or sentences containing every letter of the alphabet at least once.\n",
    "    For example : \"The quick brown fox jumps over the lazy dog\"\n",
    "\n",
    "Hint: You may want to use .replace() method to get rid of spaces.\n",
    "\n",
    "Hint: Look at the [string module](https://stackoverflow.com/questions/16060899/alphabet-range-in-python)\n",
    "\n",
    "Hint: In case you want to use [set comparisons](https://medium.com/better-programming/a-visual-guide-to-set-comparisons-in-python-6ab7edb9ec41)"
   ]
  },
  {
   "cell_type": "code",
   "execution_count": null,
   "id": "bc54a5c0",
   "metadata": {},
   "outputs": [],
   "source": [
    "import string\n",
    "\n",
    "def ispangram(str1, alphabet=string.ascii_lowercase):\n",
    "    pass"
   ]
  },
  {
   "cell_type": "code",
   "execution_count": null,
   "id": "678275b9",
   "metadata": {},
   "outputs": [],
   "source": [
    "ispangram(\"The quick brown fox jumps over the lazy dog\")"
   ]
  },
  {
   "cell_type": "code",
   "execution_count": null,
   "id": "79cf9eee",
   "metadata": {},
   "outputs": [],
   "source": [
    "string.ascii_lowercase"
   ]
  },
  {
   "cell_type": "code",
   "execution_count": null,
   "id": "fb003a15",
   "metadata": {},
   "outputs": [],
   "source": [
    "def ispangram(str1, alphabet=string.ascii_lowercase):\n",
    "    str1 = str1.replace(' ','')\n",
    "    let_list = []\n",
    "    for let in str1:\n",
    "        let_list.append(let.lower())\n",
    "    let_list = sorted(list(set(let_list)))\n",
    "    str2 =''\n",
    "    for let in let_list:\n",
    "        str2 = str2+let\n",
    "\n",
    "    return alphabet == str2"
   ]
  },
  {
   "cell_type": "code",
   "execution_count": null,
   "id": "6ba536fe",
   "metadata": {},
   "outputs": [],
   "source": [
    "ispangram(\"The quick brown fox jumps over the lazy dog\")"
   ]
  },
  {
   "cell_type": "code",
   "execution_count": null,
   "id": "4fab92b9",
   "metadata": {},
   "outputs": [],
   "source": [
    "ispangram(\"The quick brown\")"
   ]
  },
  {
   "cell_type": "code",
   "execution_count": null,
   "id": "1df1feb0",
   "metadata": {},
   "outputs": [],
   "source": [
    "ispangram(\"M nvbc xgzdashdjhfjgkhljpio u y t r e e w q\")"
   ]
  },
  {
   "cell_type": "code",
   "execution_count": null,
   "id": "64e7468b",
   "metadata": {},
   "outputs": [],
   "source": [
    "ispangram(\"qwer tyuio pasdf ghjklzxcv   bnm\")"
   ]
  },
  {
   "cell_type": "code",
   "execution_count": null,
   "id": "ab06ecba",
   "metadata": {},
   "outputs": [],
   "source": [
    "ispangram(\"wer tyuio pasdf ghjklzxcv   bnmmmmm\")"
   ]
  },
  {
   "cell_type": "code",
   "execution_count": null,
   "id": "37c9b3d2",
   "metadata": {},
   "outputs": [],
   "source": [
    "import string\n",
    "def ispangram2(str1, alphabet=string.ascii_lowercase):\n",
    "    alphaset=set(alphabet)\n",
    "    str1 = set(str1.replace(' ','').lower())\n",
    "    return alphaset == str1"
   ]
  },
  {
   "cell_type": "code",
   "execution_count": null,
   "id": "dd31f22f",
   "metadata": {},
   "outputs": [],
   "source": [
    "ispangram2(\"The quick brown fox jumps over the lazy dog\")"
   ]
  },
  {
   "cell_type": "code",
   "execution_count": null,
   "id": "d69c4204",
   "metadata": {},
   "outputs": [],
   "source": [
    "ispangram2(\"qwer tyuio pasdf ghjklzxcv   bnm\")"
   ]
  },
  {
   "cell_type": "code",
   "execution_count": null,
   "id": "c418fef5",
   "metadata": {},
   "outputs": [],
   "source": [
    "ispangram2(\"wer tyuio pasdf ghjklzxcv   bnmmmmm\")"
   ]
  },
  {
   "cell_type": "markdown",
   "id": "a63df1fc",
   "metadata": {},
   "source": [
    "# Displaying Information"
   ]
  },
  {
   "cell_type": "code",
   "execution_count": null,
   "id": "869415fe",
   "metadata": {},
   "outputs": [],
   "source": [
    "print([1,2,3])\n",
    "print([4,5,6])\n",
    "print([7,8,9])"
   ]
  },
  {
   "cell_type": "code",
   "execution_count": null,
   "id": "5ffdb41b",
   "metadata": {},
   "outputs": [],
   "source": [
    "def display (row1, row2, row3):\n",
    "    print(row1)\n",
    "    print(row2)\n",
    "    print(row3)"
   ]
  },
  {
   "cell_type": "code",
   "execution_count": null,
   "id": "cadc4693",
   "metadata": {},
   "outputs": [],
   "source": [
    "row1 = [' ',' ',' ']\n",
    "row2 = [' ',' ',' ']\n",
    "row3 = [' ',' ',' ']"
   ]
  },
  {
   "cell_type": "code",
   "execution_count": null,
   "id": "de1d20c3",
   "metadata": {},
   "outputs": [],
   "source": [
    "display (row1, row2, row3)"
   ]
  },
  {
   "cell_type": "code",
   "execution_count": null,
   "id": "4f917cb0",
   "metadata": {},
   "outputs": [],
   "source": [
    "row2 [1] = 'X'"
   ]
  },
  {
   "cell_type": "code",
   "execution_count": null,
   "id": "14d69127",
   "metadata": {},
   "outputs": [],
   "source": [
    "display (row1, row2, row3)"
   ]
  },
  {
   "cell_type": "markdown",
   "id": "9ed57a32",
   "metadata": {},
   "source": [
    "# Validate User Input"
   ]
  },
  {
   "cell_type": "code",
   "execution_count": null,
   "id": "4762eaaa",
   "metadata": {},
   "outputs": [],
   "source": [
    "def user_choice():\n",
    "    choice = input('Please enter a number (0-10):')\n",
    "    return int(choice)"
   ]
  },
  {
   "cell_type": "code",
   "execution_count": null,
   "id": "2d341141",
   "metadata": {},
   "outputs": [],
   "source": [
    "user_choice()"
   ]
  },
  {
   "cell_type": "code",
   "execution_count": null,
   "id": "179aa84e",
   "metadata": {},
   "outputs": [],
   "source": [
    "user_choice()"
   ]
  },
  {
   "cell_type": "code",
   "execution_count": null,
   "id": "18da0d5a",
   "metadata": {},
   "outputs": [],
   "source": [
    "user_choice()"
   ]
  },
  {
   "cell_type": "code",
   "execution_count": null,
   "id": "2847fe7b",
   "metadata": {},
   "outputs": [],
   "source": []
  },
  {
   "cell_type": "code",
   "execution_count": null,
   "id": "4ec42e18",
   "metadata": {},
   "outputs": [],
   "source": [
    "some_value = '100'"
   ]
  },
  {
   "cell_type": "code",
   "execution_count": null,
   "id": "16607255",
   "metadata": {},
   "outputs": [],
   "source": [
    "some_value.isdigit()"
   ]
  },
  {
   "cell_type": "code",
   "execution_count": null,
   "id": "e62a0352",
   "metadata": {},
   "outputs": [],
   "source": [
    "int(some_value)"
   ]
  },
  {
   "cell_type": "code",
   "execution_count": null,
   "id": "7901a06e",
   "metadata": {},
   "outputs": [],
   "source": [
    "def user_choice():\n",
    "    \n",
    "    choice = 'Wrong Input'\n",
    "    \n",
    "    while choice.isdigit() == False:\n",
    "    \n",
    "        choice = input('Please enter a number (0-10): ')\n",
    "        if choice.isdigit() == False:\n",
    "            print('Sorry, that is not a digit!')\n",
    "        \n",
    "    return int(choice)"
   ]
  },
  {
   "cell_type": "code",
   "execution_count": null,
   "id": "e148787d",
   "metadata": {},
   "outputs": [],
   "source": [
    "user_choice()"
   ]
  },
  {
   "cell_type": "code",
   "execution_count": null,
   "id": "6dce667c",
   "metadata": {},
   "outputs": [],
   "source": [
    "def user_choice():\n",
    "    #Variables\n",
    "    #Initial\n",
    "    choice = 'Wrong Input'\n",
    "    acceptable_range = range (0,11)\n",
    "    within_range = False\n",
    "    \n",
    "    # Two conditions to check\n",
    "    # The digit or within range is False\n",
    "    \n",
    "    while choice.isdigit() == False or within_range == False :\n",
    "            \n",
    "        choice = input('Please enter a number (0-10): ')\n",
    "        \n",
    "        # Digit Check\n",
    "        if choice.isdigit() == False:\n",
    "            print('Sorry, that is not a digit!')\n",
    "            \n",
    "        # Range Check\n",
    "        if choice.isdigit():\n",
    "            if int(choice) in acceptable_range:\n",
    "                within_range = True\n",
    "            else:\n",
    "                print('You are out of acceptable range 0 to 10')\n",
    "\n",
    "        \n",
    "    return int(choice)"
   ]
  },
  {
   "cell_type": "code",
   "execution_count": null,
   "id": "a7ca0da8",
   "metadata": {},
   "outputs": [],
   "source": [
    "user_choice()"
   ]
  },
  {
   "cell_type": "code",
   "execution_count": null,
   "id": "cb5ebf24",
   "metadata": {},
   "outputs": [],
   "source": []
  },
  {
   "cell_type": "markdown",
   "id": "d33a09d1",
   "metadata": {},
   "source": [
    "# Object Oriented Programming\n",
    "\n",
    "Object Oriented Programming (OOP) tends to be one of the major obstacles for beginners when they are first starting to learn Python.\n",
    "\n",
    "There are many, many tutorials and lessons covering OOP so feel free to Google search other lessons, and I have also put some links to other useful tutorials online at the bottom of this Notebook.\n",
    "\n",
    "For this lesson we will construct our knowledge of OOP in Python by building on the following topics:\n",
    "\n",
    "* Objects\n",
    "* Using the *class* keyword\n",
    "* Creating class attributes\n",
    "* Creating methods in a class\n",
    "* Learning about Inheritance\n",
    "* Learning about Polymorphism\n",
    "* Learning about Special Methods for classes\n"
   ]
  },
  {
   "cell_type": "markdown",
   "id": "4b1a8af3",
   "metadata": {},
   "source": [
    "## Objects\n",
    "In Python, *everything is an object*. Remember from previous lectures we can use type() to check the type of object something is:"
   ]
  },
  {
   "cell_type": "code",
   "execution_count": null,
   "id": "5f8c25fe",
   "metadata": {},
   "outputs": [],
   "source": [
    "print(type(1))\n",
    "print(type([]))\n",
    "print(type(()))\n",
    "print(type({}))"
   ]
  },
  {
   "cell_type": "markdown",
   "id": "0b2899ed",
   "metadata": {},
   "source": [
    "So we know all these things are objects, so how can we create our own Object types? That is where the <code>class</code> keyword comes in.\n",
    "## class\n",
    "User defined objects are created using the <code>class</code> keyword. The class is a blueprint that defines the nature of a future object. From classes we can construct instances. An instance is a specific object created from a particular class. For example, above we created the object <code>lst</code> which was an instance of a list object. \n",
    "\n",
    "Let see how we can use <code>class</code>:"
   ]
  },
  {
   "cell_type": "code",
   "execution_count": null,
   "id": "ceb2641c",
   "metadata": {},
   "outputs": [],
   "source": [
    "class Sample:\n",
    "    pass\n",
    "\n",
    "x = Sample()\n",
    "\n",
    "type(x)"
   ]
  },
  {
   "cell_type": "markdown",
   "id": "80042fb1",
   "metadata": {},
   "source": [
    "By convention we give classes a name that starts with a capital letter. Note how <code>x</code> is now the reference to our new instance of a Sample class. In other words, we **instantiate** the Sample class.\n",
    "\n",
    "Inside of the class we currently just have pass. But we can define class attributes and methods.\n",
    "\n",
    "An **attribute** is a characteristic of an object.\n",
    "A **method** is an operation we can perform with the object.\n",
    "\n",
    "For example, we can create a class called Dog. An attribute of a dog may be its breed or its name, while a method of a dog may be defined by a .bark() method which returns a sound.\n",
    "\n",
    "Let's get a better understanding of attributes through an example.\n",
    "\n",
    "## Attributes\n",
    "The syntax for creating an attribute is:\n",
    "    \n",
    "    self.attribute = something\n",
    "    \n",
    "There is a special method called:\n",
    "\n",
    "    __init__()\n",
    "\n",
    "This method is used to initialize the attributes of an object. For example:"
   ]
  },
  {
   "cell_type": "code",
   "execution_count": null,
   "id": "ce54eb88",
   "metadata": {},
   "outputs": [],
   "source": [
    "class Dog():\n",
    "    \n",
    "    species = 'mammal'\n",
    "    \n",
    "    def __init__(self, breed, name, spots):\n",
    "        self.breed = breed\n",
    "        self.name = name\n",
    "        self.spots = spots\n",
    "        \n",
    "    def bark(self,number):\n",
    "        print('WOOF! My name is {} and the number is {}'.format(self.name, number))"
   ]
  },
  {
   "cell_type": "code",
   "execution_count": null,
   "id": "1bfdf94b",
   "metadata": {},
   "outputs": [],
   "source": [
    "my_dog = Dog(breed = 'Hermeticus', name = 'Hermes', spots = True)"
   ]
  },
  {
   "cell_type": "code",
   "execution_count": null,
   "id": "51d43624",
   "metadata": {},
   "outputs": [],
   "source": [
    "type(my_dog)"
   ]
  },
  {
   "cell_type": "code",
   "execution_count": null,
   "id": "25dfa895",
   "metadata": {},
   "outputs": [],
   "source": [
    "my_dog.breed"
   ]
  },
  {
   "cell_type": "code",
   "execution_count": null,
   "id": "cc353bc3",
   "metadata": {},
   "outputs": [],
   "source": [
    "my_dog.name"
   ]
  },
  {
   "cell_type": "code",
   "execution_count": null,
   "id": "bbfffa41",
   "metadata": {
    "scrolled": true
   },
   "outputs": [],
   "source": [
    "my_dog.spots"
   ]
  },
  {
   "cell_type": "code",
   "execution_count": null,
   "id": "4ed7627f",
   "metadata": {
    "scrolled": false
   },
   "outputs": [],
   "source": [
    "my_dog.species"
   ]
  },
  {
   "cell_type": "code",
   "execution_count": null,
   "id": "4483d04d",
   "metadata": {},
   "outputs": [],
   "source": [
    "my_dog.bark"
   ]
  },
  {
   "cell_type": "code",
   "execution_count": null,
   "id": "f329b316",
   "metadata": {
    "scrolled": true
   },
   "outputs": [],
   "source": [
    "my_dog.bark(3)"
   ]
  },
  {
   "cell_type": "markdown",
   "id": "0c49238b",
   "metadata": {},
   "source": [
    "Lets break down what we have above.The special method \n",
    "\n",
    "    __init__() \n",
    "is called automatically right after the object has been created:\n",
    "\n",
    "    def __init__(self, breed):\n",
    "Each attribute in a class definition begins with a reference to the instance object. It is by convention named self. The breed is the argument. The value is passed during the class instantiation.\n",
    "\n",
    "     self.breed = breed"
   ]
  },
  {
   "cell_type": "code",
   "execution_count": null,
   "id": "b668b124",
   "metadata": {},
   "outputs": [],
   "source": [
    "class MyNewClass():\n",
    "    \n",
    "    # Class Object Attribute - It's the same for all instances of the class\n",
    "    # example: for the class Dog, they'll always be \"mammals\"\n",
    "    # We don't use the \"self\" keyword\n",
    "    \n",
    "    gral_att = \"It's my class general attribute\"\n",
    "    \n",
    "    \n",
    "    \n",
    "    def __init__(self, expected_variable):\n",
    "        self.attribute_name = expected_variable\n",
    "        \n",
    "    def new_method(self, meth_att):\n",
    "        print('This is the method taking action, and calling the attribute: {} and a method defined attribute {}'.format(self.attribute_name, meth_att))"
   ]
  },
  {
   "cell_type": "code",
   "execution_count": null,
   "id": "ff1dd627",
   "metadata": {},
   "outputs": [],
   "source": [
    "my_object = MyNewClass(expected_variable = \"provided_variable\")"
   ]
  },
  {
   "cell_type": "code",
   "execution_count": null,
   "id": "15913f10",
   "metadata": {},
   "outputs": [],
   "source": [
    "my_object.attribute_name"
   ]
  },
  {
   "cell_type": "code",
   "execution_count": null,
   "id": "1c7729ed",
   "metadata": {},
   "outputs": [],
   "source": [
    "my_object.gral_att"
   ]
  },
  {
   "cell_type": "code",
   "execution_count": null,
   "id": "d2b0c344",
   "metadata": {},
   "outputs": [],
   "source": [
    "my_object.new_method"
   ]
  },
  {
   "cell_type": "code",
   "execution_count": null,
   "id": "d333a364",
   "metadata": {},
   "outputs": [],
   "source": [
    "my_object.new_method(\"->I'm the attribute defined in the method<-\")"
   ]
  },
  {
   "cell_type": "code",
   "execution_count": null,
   "id": "15cd1d2b",
   "metadata": {},
   "outputs": [],
   "source": [
    "class Circle():\n",
    "    \n",
    "    # Class object Atrribute\n",
    "    pi = 3.14\n",
    "    \n",
    "    def __init__(self,radius=1):\n",
    "        \n",
    "        self.radius = radius\n",
    "        self.area = radius*radius*Circle.pi\n",
    "        \n",
    "    #Method\n",
    "    def get_circumference(self):\n",
    "        return self.radius * Circle.pi * 2"
   ]
  },
  {
   "cell_type": "code",
   "execution_count": null,
   "id": "0b3ffcc3",
   "metadata": {},
   "outputs": [],
   "source": [
    "my_circle = Circle()"
   ]
  },
  {
   "cell_type": "code",
   "execution_count": null,
   "id": "094c03de",
   "metadata": {},
   "outputs": [],
   "source": [
    "my_circle.pi"
   ]
  },
  {
   "cell_type": "code",
   "execution_count": null,
   "id": "8ebd2654",
   "metadata": {
    "scrolled": true
   },
   "outputs": [],
   "source": [
    "my_circle.radius"
   ]
  },
  {
   "cell_type": "markdown",
   "id": "7ab8971f",
   "metadata": {},
   "source": [
    "### You can have a predefined value (radius=1 in this case) and then overwrite it when you define the instance of the class object"
   ]
  },
  {
   "cell_type": "code",
   "execution_count": null,
   "id": "13e219f7",
   "metadata": {},
   "outputs": [],
   "source": [
    "my_circle = Circle(30)"
   ]
  },
  {
   "cell_type": "code",
   "execution_count": null,
   "id": "a1c647fb",
   "metadata": {},
   "outputs": [],
   "source": [
    "my_circle.radius"
   ]
  },
  {
   "cell_type": "code",
   "execution_count": null,
   "id": "32fe6da9",
   "metadata": {},
   "outputs": [],
   "source": [
    "my_circle.get_circumference()"
   ]
  },
  {
   "cell_type": "code",
   "execution_count": null,
   "id": "c1e2e742",
   "metadata": {},
   "outputs": [],
   "source": [
    "my_circle.area"
   ]
  },
  {
   "cell_type": "markdown",
   "id": "102b65dd",
   "metadata": {},
   "source": [
    "## Inheritance\n",
    "\n",
    "Inheritance is a way to form new classes using classes that have already been defined. The newly formed classes are called derived classes, the classes that we derive from are called base classes. Important benefits of inheritance are code reuse and reduction of complexity of a program. The derived classes (descendants) override or extend the functionality of base classes (ancestors).\n",
    "\n",
    "Let's see an example by incorporating our previous work on the Dog class:"
   ]
  },
  {
   "cell_type": "code",
   "execution_count": null,
   "id": "08148b54",
   "metadata": {},
   "outputs": [],
   "source": [
    "class Animal:\n",
    "    def __init__(self):\n",
    "        print(\"Animal created\")\n",
    "\n",
    "    def whoAmI(self):\n",
    "        print(\"Animal\")\n",
    "\n",
    "    def eat(self):\n",
    "        print(\"Eating\")\n",
    "\n",
    "\n",
    "class Dog(Animal):\n",
    "    def __init__(self):\n",
    "        Animal.__init__(self)\n",
    "        print(\"Dog created\")\n",
    "\n",
    "    def whoAmI(self):\n",
    "        print(\"Dog\")\n",
    "\n",
    "    def bark(self):\n",
    "        print(\"Woof!\")"
   ]
  },
  {
   "cell_type": "code",
   "execution_count": null,
   "id": "666d900d",
   "metadata": {},
   "outputs": [],
   "source": [
    "d = Dog()"
   ]
  },
  {
   "cell_type": "code",
   "execution_count": null,
   "id": "aa35a098",
   "metadata": {},
   "outputs": [],
   "source": [
    "d.whoAmI()"
   ]
  },
  {
   "cell_type": "code",
   "execution_count": null,
   "id": "8d715c5e",
   "metadata": {},
   "outputs": [],
   "source": [
    "d.eat()"
   ]
  },
  {
   "cell_type": "code",
   "execution_count": null,
   "id": "4c4dedb0",
   "metadata": {},
   "outputs": [],
   "source": [
    "d.bark()"
   ]
  },
  {
   "cell_type": "markdown",
   "id": "c6bb49b6",
   "metadata": {},
   "source": [
    "In this example, we have two classes: Animal and Dog. The Animal is the base class, the Dog is the derived class. \n",
    "\n",
    "The derived class inherits the functionality of the base class. \n",
    "\n",
    "* It is shown by the eat() method. \n",
    "\n",
    "The derived class modifies existing behavior of the base class.\n",
    "\n",
    "* shown by the whoAmI() method. \n",
    "\n",
    "Finally, the derived class extends the functionality of the base class, by defining a new bark() method."
   ]
  },
  {
   "cell_type": "code",
   "execution_count": null,
   "id": "29646756",
   "metadata": {},
   "outputs": [],
   "source": [
    "class BaseClass():\n",
    "    def __init__(self):\n",
    "        print('This is the base class INIT')\n",
    "    \n",
    "    def base_class_method(self):\n",
    "        print('This is the base class METHOD')\n",
    "        \n",
    "    def base_class_method_2(self):\n",
    "        print('This is another base METHOD to be overwritten')"
   ]
  },
  {
   "cell_type": "code",
   "execution_count": null,
   "id": "21cb8c7a",
   "metadata": {},
   "outputs": [],
   "source": [
    "class DerivedClass(BaseClass):\n",
    "    def __init__(self):\n",
    "        BaseClass.__init__(self)\n",
    "        print('This is the derived class INIT')\n",
    "    \n",
    "    def base_class_method_2(self):\n",
    "        print('This is the overwritten version of the original base METHOD')\n",
    "    \n",
    "    def derived_class_method (self):\n",
    "        print('This method was added in the Descendant class')"
   ]
  },
  {
   "cell_type": "code",
   "execution_count": null,
   "id": "9fd1faa6",
   "metadata": {},
   "outputs": [],
   "source": [
    "my_derived_class = DerivedClass()"
   ]
  },
  {
   "cell_type": "code",
   "execution_count": null,
   "id": "62ae409a",
   "metadata": {},
   "outputs": [],
   "source": [
    "my_derived_class.base_class_method_2()"
   ]
  },
  {
   "cell_type": "code",
   "execution_count": null,
   "id": "a350cf63",
   "metadata": {},
   "outputs": [],
   "source": [
    "my_derived_class.derived_class_method()"
   ]
  },
  {
   "cell_type": "markdown",
   "id": "c09b6d46",
   "metadata": {},
   "source": [
    "## Polymorphism\n",
    "\n",
    "We've learned that while functions can take in different arguments, methods belong to the objects they act on. In Python, *polymorphism* refers to the way in which different object classes can share the same method name, and those methods can be called from the same place even though a variety of different objects might be passed in. The best way to explain this is by example:"
   ]
  },
  {
   "cell_type": "code",
   "execution_count": null,
   "id": "f15fd25c",
   "metadata": {},
   "outputs": [],
   "source": [
    "class Dog:\n",
    "    def __init__(self, name):\n",
    "        self.name = name\n",
    "\n",
    "    def speak(self):\n",
    "        return self.name+' says Woof!'\n",
    "    \n",
    "class Cat:\n",
    "    def __init__(self, name):\n",
    "        self.name = name\n",
    "\n",
    "    def speak(self):\n",
    "        return self.name+' says Meow!' \n",
    "    \n",
    "niko = Dog('Niko')\n",
    "felix = Cat('Felix')\n",
    "\n",
    "print(niko.speak())\n",
    "print(felix.speak())"
   ]
  },
  {
   "cell_type": "markdown",
   "id": "fcbadcb9",
   "metadata": {},
   "source": [
    "Here we have a Dog class and a Cat class, and each has a `.speak()` method. When called, each object's `.speak()` method returns a result unique to the object.\n",
    "\n",
    "There a few different ways to demonstrate polymorphism. First, with a for loop:"
   ]
  },
  {
   "cell_type": "code",
   "execution_count": null,
   "id": "2d1e1f96",
   "metadata": {},
   "outputs": [],
   "source": [
    "for pet in [niko,felix]:\n",
    "    print(pet.speak())"
   ]
  },
  {
   "cell_type": "markdown",
   "id": "c405f231",
   "metadata": {},
   "source": [
    "Another is with functions:"
   ]
  },
  {
   "cell_type": "code",
   "execution_count": null,
   "id": "0ab493ee",
   "metadata": {},
   "outputs": [],
   "source": [
    "def pet_speak(pet):\n",
    "    print(pet.speak())\n",
    "\n",
    "pet_speak(niko)\n",
    "pet_speak(felix)"
   ]
  },
  {
   "cell_type": "markdown",
   "id": "2dc7a0a1",
   "metadata": {},
   "source": [
    "In both cases we were able to pass in different object types, and we obtained object-specific results from the same mechanism.\n",
    "\n",
    "A more common practice is to use abstract classes and inheritance. An abstract class is one that never expects to be instantiated. For example, we will never have an Animal object, only Dog and Cat objects, although Dogs and Cats are derived from Animals:"
   ]
  },
  {
   "cell_type": "code",
   "execution_count": null,
   "id": "9ac46632",
   "metadata": {},
   "outputs": [],
   "source": [
    "class Animal:\n",
    "    def __init__(self, name):    # Constructor of the class\n",
    "        self.name = name\n",
    "\n",
    "    def speak(self):              # Abstract method, defined by convention only\n",
    "        raise NotImplementedError(\"Subclass must implement abstract method\")\n",
    "\n",
    "\n",
    "class Dog(Animal):\n",
    "    \n",
    "    def speak(self):\n",
    "        return self.name+' says Woof!'\n",
    "    \n",
    "class Cat(Animal):\n",
    "\n",
    "    def speak(self):\n",
    "        return self.name+' says Meow!'\n",
    "    \n",
    "fido = Dog('Fido')\n",
    "isis = Cat('Isis')\n",
    "\n",
    "print(fido.speak())\n",
    "print(isis.speak())"
   ]
  },
  {
   "cell_type": "markdown",
   "id": "74bb1984",
   "metadata": {},
   "source": [
    "Real life examples of polymorphism include:\n",
    "* opening different file types - different tools are needed to display Word, pdf and Excel files\n",
    "* adding different objects - the `+` operator performs arithmetic and concatenation"
   ]
  },
  {
   "cell_type": "code",
   "execution_count": null,
   "id": "1b5eee36",
   "metadata": {},
   "outputs": [],
   "source": [
    "class FirstClass():\n",
    "    def __init__(self, fc_expected_value):\n",
    "        self.fc_attribute_name = fc_expected_value\n",
    "    \n",
    "    def same_name_method(self):\n",
    "        return self.fc_attribute_name + 'this is a first class method after de expected value of the first class attribute'"
   ]
  },
  {
   "cell_type": "code",
   "execution_count": null,
   "id": "d9fe51e3",
   "metadata": {},
   "outputs": [],
   "source": [
    "class SecondClass():\n",
    "    def __init__(self, sc_expected_value):\n",
    "        self.sc_attribute_name = sc_expected_value\n",
    "    \n",
    "    def same_name_method(self):\n",
    "        return self.sc_attribute_name + ' this is a second class method after de expected value of the second class attribute'"
   ]
  },
  {
   "cell_type": "code",
   "execution_count": null,
   "id": "274c46a2",
   "metadata": {},
   "outputs": [],
   "source": [
    "my_first = FirstClass (\"I'm the FirstC \")\n",
    "my_second = SecondClass (\"I'm the SecondC \")"
   ]
  },
  {
   "cell_type": "code",
   "execution_count": null,
   "id": "2fed9289",
   "metadata": {},
   "outputs": [],
   "source": [
    "print(my_first.same_name_method())"
   ]
  },
  {
   "cell_type": "code",
   "execution_count": null,
   "id": "b0004632",
   "metadata": {},
   "outputs": [],
   "source": [
    "print(my_second.same_name_method())"
   ]
  },
  {
   "cell_type": "markdown",
   "id": "0c0b2e33",
   "metadata": {},
   "source": [
    "# Special Methods\n",
    "### Also know as magic methods or dunder methods (double underscore)"
   ]
  },
  {
   "cell_type": "markdown",
   "id": "133fc89b",
   "metadata": {},
   "source": [
    "Classes in Python can implement certain operations with special method names. These methods are not actually called directly but by Python specific language syntax. For example let's create a Book class:"
   ]
  },
  {
   "cell_type": "code",
   "execution_count": 4,
   "id": "544c13fc",
   "metadata": {},
   "outputs": [],
   "source": [
    "class Book:\n",
    "    def __init__(self, title, author, pages):\n",
    "        print(\"A book is created\")\n",
    "        self.title = title\n",
    "        self.author = author\n",
    "        self.pages = pages\n",
    "\n",
    "    def __str__(self):\n",
    "        return \"Title: %s, author: %s, pages: %s\" %(self.title, self.author, self.pages)\n",
    "\n",
    "    def __len__(self):\n",
    "        return self.pages\n",
    "\n",
    "    def __del__(self):\n",
    "        print(\"A book is destroyed\")"
   ]
  },
  {
   "cell_type": "code",
   "execution_count": 5,
   "id": "e2157a8b",
   "metadata": {},
   "outputs": [
    {
     "name": "stdout",
     "output_type": "stream",
     "text": [
      "A book is created\n",
      "Title: Python Rocks!, author: Jose Portilla, pages: 159\n",
      "159\n",
      "A book is destroyed\n"
     ]
    }
   ],
   "source": [
    "book = Book(\"Python Rocks!\", \"Jose Portilla\", 159)\n",
    "\n",
    "#Special Methods\n",
    "print(book)\n",
    "print(len(book))\n",
    "del book"
   ]
  },
  {
   "cell_type": "markdown",
   "id": "9736f4b6",
   "metadata": {},
   "source": [
    "    The __init__(), __str__(), __len__() and __del__() methods\n",
    "These special methods are defined by their use of underscores. They allow us to use Python specific functions on objects created through our class.\n",
    "\n",
    "**Great! After this lecture you should have a basic understanding of how to create your own objects with class in Python. You will be utilizing this heavily in your next milestone project!**\n",
    "\n",
    "For more great resources on this topic, check out:\n",
    "\n",
    "[Jeff Knupp's Post](https://jeffknupp.com/blog/2014/06/18/improve-your-python-python-classes-and-object-oriented-programming/)\n",
    "\n",
    "[Mozilla's Post](https://developer.mozilla.org/en-US/Learn/Python/Quickly_Learn_Object_Oriented_Programming)\n",
    "\n",
    "[Tutorial's Point](http://www.tutorialspoint.com/python/python_classes_objects.htm)\n",
    "\n",
    "[Official Documentation](https://docs.python.org/3/tutorial/classes.html)"
   ]
  },
  {
   "cell_type": "markdown",
   "id": "47bccc9e",
   "metadata": {},
   "source": [
    "# Object Oriented Programming\n",
    "## Homework Assignment\n",
    "\n",
    "#### Problem 1\n",
    "Fill in the Line class methods to accept coordinates as a pair of tuples and return the slope and distance of the line."
   ]
  },
  {
   "cell_type": "code",
   "execution_count": null,
   "id": "fbdfe481",
   "metadata": {},
   "outputs": [],
   "source": [
    "class Line:\n",
    "    \n",
    "    def __init__(self,coor1,coor2):\n",
    "        self.coor1 = coor1\n",
    "        self.coor2 = coor2\n",
    "\n",
    "    \n",
    "    def distance(self):\n",
    "        x1,y1= self.coor1\n",
    "        x2,y2= self.coor2\n",
    "        return ((x2-x1)**2+((y2-y1)**2))**(1.0/2)\n",
    "    \n",
    "    def slope(self):\n",
    "        x1,y1= self.coor1\n",
    "        x2,y2= self.coor2\n",
    "        return (y2-y1)/(x2-x1)"
   ]
  },
  {
   "cell_type": "code",
   "execution_count": null,
   "id": "712d2244",
   "metadata": {},
   "outputs": [],
   "source": [
    "distance_formula: d = (((x2-x1)**2+((y2-y1)**2))***2\n",
    "\n",
    "slope_formula: m = (y2-y1)/(x2-x1)"
   ]
  },
  {
   "cell_type": "code",
   "execution_count": null,
   "id": "ca28d072",
   "metadata": {},
   "outputs": [],
   "source": [
    "# EXAMPLE OUTPUT\n",
    "\n",
    "coordinate1 = (3,2)\n",
    "coordinate2 = (8,10)\n",
    "\n",
    "li = Line(coordinate1,coordinate2)"
   ]
  },
  {
   "cell_type": "code",
   "execution_count": null,
   "id": "04314b3d",
   "metadata": {},
   "outputs": [],
   "source": [
    "li.distance()"
   ]
  },
  {
   "cell_type": "code",
   "execution_count": null,
   "id": "7c793f6f",
   "metadata": {},
   "outputs": [],
   "source": [
    "li.slope()"
   ]
  },
  {
   "cell_type": "markdown",
   "id": "b8b7680f",
   "metadata": {},
   "source": [
    "#### Problem 2\n",
    "\n",
    "Fill in the class "
   ]
  },
  {
   "cell_type": "code",
   "execution_count": null,
   "id": "606792ee",
   "metadata": {},
   "outputs": [],
   "source": [
    "class Cylinder:\n",
    "    \n",
    "    pi = 3.14159\n",
    "    \n",
    "    def __init__(self,height=1,radius=1):\n",
    "        self.height = height\n",
    "        self.radius = radius\n",
    "        \n",
    "    def volume(self):\n",
    "        return Cylinder.pi * (self.radius**2 ) * self.height\n",
    "    \n",
    "    def surface_area(self):\n",
    "        return (2 * Cylinder.pi * self.radius * self.height) + (2 * Cylinder.pi * ( self.radius **2))"
   ]
  },
  {
   "cell_type": "code",
   "execution_count": null,
   "id": "f84b306f",
   "metadata": {},
   "outputs": [],
   "source": [
    "volume_formula: V=πr**2h\n",
    "    \n",
    "surface_formula: A=2πrh+2πr**2\n",
    "\n"
   ]
  },
  {
   "cell_type": "code",
   "execution_count": null,
   "id": "fc2ab44f",
   "metadata": {},
   "outputs": [],
   "source": [
    "# EXAMPLE OUTPUT\n",
    "c = Cylinder(2,3)"
   ]
  },
  {
   "cell_type": "code",
   "execution_count": null,
   "id": "1c416b1c",
   "metadata": {},
   "outputs": [],
   "source": [
    "c.volume()"
   ]
  },
  {
   "cell_type": "code",
   "execution_count": null,
   "id": "6d74b31e",
   "metadata": {},
   "outputs": [],
   "source": [
    "c.surface_area()"
   ]
  },
  {
   "cell_type": "markdown",
   "id": "c59df2cc",
   "metadata": {},
   "source": [
    "# Object Oriented Programming Challenge\n",
    "\n",
    "For this challenge, create a bank account class that has two attributes:\n",
    "\n",
    "* owner\n",
    "* balance\n",
    "\n",
    "and two methods:\n",
    "\n",
    "* deposit\n",
    "* withdraw\n",
    "\n",
    "As an added requirement, withdrawals may not exceed the available balance.\n",
    "\n",
    "Instantiate your class, make several deposits and withdrawals, and test to make sure the account can't be overdrawn."
   ]
  },
  {
   "cell_type": "code",
   "execution_count": 10,
   "id": "ad8bd267",
   "metadata": {},
   "outputs": [],
   "source": [
    "class Account:\n",
    "    \n",
    "    def __init__ (self, owner, balance):\n",
    "        self.owner = owner\n",
    "        self.balance = balance\n",
    "        \n",
    "    def __str__ (self):\n",
    "        return 'Account owner: '+str(self.owner) + \"\\nAccount balance: $\"+str(self.balance)\n",
    "    \n",
    "    def deposit (self, deposit):\n",
    "        self.balance = self.balance + deposit\n",
    "        print ('The deposit of ${} has been accepted. The new balance is ${}.'.format(deposit, self.balance))\n",
    "    \n",
    "    def withdraw (self, withdrawal):\n",
    "        if withdrawal <= self.balance:\n",
    "            self.balance = self.balance - withdrawal\n",
    "            print ('A withdrawal of ${} has been made. The new balance is ${}.'.format(withdrawal, self.balance))\n",
    "        else:\n",
    "            print ('The ammount requested exceeds the current balance.')"
   ]
  },
  {
   "cell_type": "code",
   "execution_count": 11,
   "id": "5d8fb615",
   "metadata": {},
   "outputs": [],
   "source": [
    "# 1. Instantiate the class\n",
    "acct1 = Account('Jose',100)"
   ]
  },
  {
   "cell_type": "code",
   "execution_count": 12,
   "id": "4eb57b50",
   "metadata": {},
   "outputs": [
    {
     "name": "stdout",
     "output_type": "stream",
     "text": [
      "Account owner: Jose\n",
      "Account balance: $100\n"
     ]
    }
   ],
   "source": [
    "# 2. Print the object\n",
    "print(acct1)"
   ]
  },
  {
   "cell_type": "code",
   "execution_count": 13,
   "id": "feeba3d3",
   "metadata": {},
   "outputs": [
    {
     "data": {
      "text/plain": [
       "'Jose'"
      ]
     },
     "execution_count": 13,
     "metadata": {},
     "output_type": "execute_result"
    }
   ],
   "source": [
    "# 3. Show the account owner attribute\n",
    "acct1.owner"
   ]
  },
  {
   "cell_type": "code",
   "execution_count": 14,
   "id": "346992ad",
   "metadata": {},
   "outputs": [
    {
     "data": {
      "text/plain": [
       "100"
      ]
     },
     "execution_count": 14,
     "metadata": {},
     "output_type": "execute_result"
    }
   ],
   "source": [
    "# 4. Show the account balance attribute\n",
    "acct1.balance"
   ]
  },
  {
   "cell_type": "code",
   "execution_count": 15,
   "id": "99deb88f",
   "metadata": {},
   "outputs": [
    {
     "name": "stdout",
     "output_type": "stream",
     "text": [
      "The deposit of $50 has been accepted. The new balance is $150.\n"
     ]
    }
   ],
   "source": [
    "# 5. Make a series of deposits and withdrawals\n",
    "acct1.deposit(50)"
   ]
  },
  {
   "cell_type": "code",
   "execution_count": 16,
   "id": "0d6e3aac",
   "metadata": {},
   "outputs": [
    {
     "name": "stdout",
     "output_type": "stream",
     "text": [
      "A withdrawal of $75 has been made. The new balance is $75.\n"
     ]
    }
   ],
   "source": [
    "acct1.withdraw(75)"
   ]
  },
  {
   "cell_type": "code",
   "execution_count": 17,
   "id": "bf296efd",
   "metadata": {},
   "outputs": [
    {
     "name": "stdout",
     "output_type": "stream",
     "text": [
      "The ammount requested exceeds the current balance.\n"
     ]
    }
   ],
   "source": [
    "# 6. Make a withdrawal that exceeds the available balance\n",
    "acct1.withdraw(500)"
   ]
  },
  {
   "cell_type": "code",
   "execution_count": null,
   "id": "479a8649",
   "metadata": {},
   "outputs": [],
   "source": []
  }
 ],
 "metadata": {
  "kernelspec": {
   "display_name": "Python 3 (ipykernel)",
   "language": "python",
   "name": "python3"
  },
  "language_info": {
   "codemirror_mode": {
    "name": "ipython",
    "version": 3
   },
   "file_extension": ".py",
   "mimetype": "text/x-python",
   "name": "python",
   "nbconvert_exporter": "python",
   "pygments_lexer": "ipython3",
   "version": "3.9.12"
  }
 },
 "nbformat": 4,
 "nbformat_minor": 5
}
