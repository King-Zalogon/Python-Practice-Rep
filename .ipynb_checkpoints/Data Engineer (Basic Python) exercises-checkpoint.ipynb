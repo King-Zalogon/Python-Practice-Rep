{
 "cells": [
  {
   "cell_type": "code",
   "execution_count": 1,
   "id": "e6bc2632",
   "metadata": {},
   "outputs": [],
   "source": [
    "import pandas\n",
    "import numpy\n"
   ]
  },
  {
   "cell_type": "code",
   "execution_count": 2,
   "id": "de3a4d90",
   "metadata": {},
   "outputs": [
    {
     "name": "stdout",
     "output_type": "stream",
     "text": [
      "   Courses    Fee Duration  Discount\n",
      "0    Spark  22000   30days      1000\n",
      "1  PySpark  25000   50days      2300\n",
      "2   Hadoop  23000   30days      1000\n",
      "3   Python  24000     None      1200\n",
      "4   Pandas  26000      NaN      2500\n"
     ]
    }
   ],
   "source": [
    "technologies= {\n",
    "    'Courses':[\"Spark\",\"PySpark\",\"Hadoop\",\"Python\",\"Pandas\"],\n",
    "    'Fee' :[22000,25000,23000,24000,26000],\n",
    "    'Duration':['30days','50days','30days', None,numpy.nan],\n",
    "    'Discount':[1000,2300,1000,1200,2500]\n",
    "          }\n",
    "my_dataframe = pandas.DataFrame(technologies)\n",
    "print(my_dataframe)\n"
   ]
  },
  {
   "cell_type": "code",
   "execution_count": 3,
   "id": "09b3ccd2",
   "metadata": {},
   "outputs": [
    {
     "name": "stdout",
     "output_type": "stream",
     "text": [
      "  Courses    Fee Duration  Discount\n",
      "0   Spark  22000   30days      1000\n"
     ]
    }
   ],
   "source": [
    "value=\"Spark\"\n",
    "\n",
    "my_df2=my_dataframe[my_dataframe[\"Courses\"] == value] \n",
    "print(my_df2)\n"
   ]
  },
  {
   "cell_type": "code",
   "execution_count": 4,
   "id": "02d3796f",
   "metadata": {},
   "outputs": [
    {
     "name": "stdout",
     "output_type": "stream",
     "text": [
      "   Courses    Fee Duration  Discount\n",
      "1  PySpark  25000   50days      2300\n",
      "2   Hadoop  23000   30days      1000\n",
      "3   Python  24000     None      1200\n",
      "4   Pandas  26000      NaN      2500\n"
     ]
    }
   ],
   "source": [
    "my_df3=my_dataframe[my_dataframe[\"Courses\"] != value] \n",
    "print(my_df3)"
   ]
  },
  {
   "cell_type": "code",
   "execution_count": 5,
   "id": "eabb3893",
   "metadata": {
    "scrolled": true
   },
   "outputs": [
    {
     "name": "stdout",
     "output_type": "stream",
     "text": [
      "  Courses    Fee Duration  Discount\n",
      "0   Spark  22000   30days      1000\n"
     ]
    }
   ],
   "source": [
    "my_df3 = my_dataframe.query(\"Courses == 'Spark'\")\n",
    "\n",
    "print(my_df3)"
   ]
  },
  {
   "cell_type": "code",
   "execution_count": 6,
   "id": "6cf6e597",
   "metadata": {},
   "outputs": [
    {
     "name": "stdout",
     "output_type": "stream",
     "text": [
      "  Courses    Fee Duration  Discount\n",
      "0   Spark  22000   30days      1000\n"
     ]
    }
   ],
   "source": [
    "my_df2 = my_dataframe.loc[my_dataframe['Courses'] == \"Spark\"]\n",
    "\n",
    "print(my_df2)"
   ]
  },
  {
   "cell_type": "code",
   "execution_count": 7,
   "id": "0c4e7cc3",
   "metadata": {
    "scrolled": true
   },
   "outputs": [
    {
     "name": "stdout",
     "output_type": "stream",
     "text": [
      "   Courses    Fee Duration  Discount\n",
      "0    Spark  22000   30days      1000\n",
      "1  PySpark  25000   50days      2300\n",
      "  Courses    Fee Duration  Discount\n",
      "2  Hadoop  23000   30days      1000\n",
      "3  Python  24000     None      1200\n",
      "4  Pandas  26000      NaN      2500\n"
     ]
    }
   ],
   "source": [
    "# Filter Rows Based on List of Values\n",
    "values=[\"Spark\",\"PySpark\"]\n",
    "print(my_dataframe[my_dataframe[\"Courses\"].isin(values)] )\n",
    "# Using df.loc\n",
    "my_df2=my_dataframe.loc[~my_dataframe['Courses'].isin(values)]\n",
    "print(my_df2)"
   ]
  },
  {
   "cell_type": "code",
   "execution_count": 8,
   "id": "69dab03c",
   "metadata": {
    "scrolled": true
   },
   "outputs": [
    {
     "name": "stdout",
     "output_type": "stream",
     "text": [
      "  Courses    Fee Duration  Discount\n",
      "0   Spark  22000   30days      1000\n",
      "2  Hadoop  23000   30days      1000\n",
      "3  Python  24000     None      1200\n",
      "  Courses    Fee Duration  Discount\n",
      "0   Spark  22000   30days      1000\n",
      "2  Hadoop  23000   30days      1000\n",
      "3  Python  24000     None      1200\n",
      "  Courses    Fee Duration  Discount\n",
      "0   Spark  22000   30days      1000\n",
      "2  Hadoop  23000   30days      1000\n",
      "3  Python  24000     None      1200\n"
     ]
    }
   ],
   "source": [
    "# Filter Rows based on multiple conditions\n",
    "print(my_dataframe.loc[(my_dataframe['Discount'] >= 1000) & (my_dataframe['Discount'] <= 2000)])\n",
    "print(my_dataframe[(my_dataframe['Discount'] >= 1000) & (my_dataframe['Discount'] <= 2000)])\n",
    "print(my_dataframe.query(\"Discount >= 1000 & Discount <= 2000\"))"
   ]
  },
  {
   "cell_type": "code",
   "execution_count": 9,
   "id": "5457bea9",
   "metadata": {
    "scrolled": true
   },
   "outputs": [
    {
     "name": "stdout",
     "output_type": "stream",
     "text": [
      "   Courses    Fee Duration  Discount\n",
      "0    Spark  22000   30days      1000\n",
      "1  PySpark  25000   50days      2300\n"
     ]
    }
   ],
   "source": [
    "# By using lambda function\n",
    "print(my_dataframe.apply(lambda row: row[my_dataframe['Courses'].isin(['Spark','PySpark'])]))"
   ]
  },
  {
   "cell_type": "code",
   "execution_count": 10,
   "id": "57648857",
   "metadata": {
    "scrolled": true
   },
   "outputs": [
    {
     "name": "stdout",
     "output_type": "stream",
     "text": [
      "   Courses    Fee Duration  Discount\n",
      "0    Spark  22000   30days      1000\n",
      "1  PySpark  25000   50days      2300\n",
      "2   Hadoop  23000   30days      1000\n"
     ]
    }
   ],
   "source": [
    "print(my_dataframe.dropna())"
   ]
  },
  {
   "cell_type": "code",
   "execution_count": 11,
   "id": "8e8718b5",
   "metadata": {
    "scrolled": true
   },
   "outputs": [
    {
     "name": "stdout",
     "output_type": "stream",
     "text": [
      "   Courses    Fee  Discount\n",
      "0    Spark  22000      1000\n",
      "1  PySpark  25000      2300\n",
      "2   Hadoop  23000      1000\n",
      "3   Python  24000      1200\n",
      "4   Pandas  26000      2500\n"
     ]
    }
   ],
   "source": [
    "print(my_dataframe.dropna(axis='columns'))"
   ]
  },
  {
   "cell_type": "code",
   "execution_count": 12,
   "id": "8f4197fe",
   "metadata": {},
   "outputs": [
    {
     "name": "stdout",
     "output_type": "stream",
     "text": [
      "   Courses    Fee Duration  Discount\n",
      "0    Spark  22000   30days      1000\n",
      "1  PySpark  25000   50days      2300\n",
      "   Courses    Fee Duration  Discount\n",
      "0    Spark  22000   30days      1000\n",
      "1  PySpark  25000   50days      2300\n",
      "   Courses    Fee Duration  Discount\n",
      "1  PySpark  25000   50days      2300\n",
      "3   Python  24000     None      1200\n",
      "4   Pandas  26000      NaN      2500\n"
     ]
    }
   ],
   "source": [
    "# Filter based on value contains\n",
    "print(my_dataframe[my_dataframe['Courses'].str.contains(\"Spark\")])\n",
    "\n",
    "# Filter after converting values\n",
    "print(my_dataframe[my_dataframe['Courses'].str.lower().str.contains(\"spark\")])\n",
    "\n",
    "#Filter startswith\n",
    "print(my_dataframe[my_dataframe['Courses'].str.startswith(\"P\")])"
   ]
  },
  {
   "cell_type": "code",
   "execution_count": 13,
   "id": "f6ccd912",
   "metadata": {},
   "outputs": [],
   "source": [
    "text= 'the results cannot be extrapolated to other patient group'"
   ]
  },
  {
   "cell_type": "code",
   "execution_count": 14,
   "id": "388bf74c",
   "metadata": {},
   "outputs": [],
   "source": [
    "def stemmer(text):\n",
    "    word_list = text.split(' ')\n",
    "    \n",
    "    new_list = []\n",
    "    \n",
    "    for word in word_list:\n",
    "        new_word = word    \n",
    "        if word.endswith('ing'):\n",
    "            new_word = word[:-3]\n",
    "            \n",
    "        elif word.endswith('ed') or word.endswith('ly'):\n",
    "            new_word = word[:-2]\n",
    "            \n",
    "        if len(new_word) >8:\n",
    "            new_word = new_word[0:8]\n",
    "        \n",
    "        new_list.append(new_word)\n",
    "        \n",
    "    new_text = \" \".join(new_list)\n",
    "        \n",
    "    return new_text"
   ]
  },
  {
   "cell_type": "code",
   "execution_count": 15,
   "id": "d1a34006",
   "metadata": {},
   "outputs": [
    {
     "data": {
      "text/plain": [
       "'the results cannot be extrapol to other patient group'"
      ]
     },
     "execution_count": 15,
     "metadata": {},
     "output_type": "execute_result"
    }
   ],
   "source": [
    "stemmer(text)"
   ]
  },
  {
   "cell_type": "code",
   "execution_count": null,
   "id": "5089f2f7",
   "metadata": {},
   "outputs": [],
   "source": []
  }
 ],
 "metadata": {
  "kernelspec": {
   "display_name": "Python 3 (ipykernel)",
   "language": "python",
   "name": "python3"
  },
  "language_info": {
   "codemirror_mode": {
    "name": "ipython",
    "version": 3
   },
   "file_extension": ".py",
   "mimetype": "text/x-python",
   "name": "python",
   "nbconvert_exporter": "python",
   "pygments_lexer": "ipython3",
   "version": "3.9.12"
  }
 },
 "nbformat": 4,
 "nbformat_minor": 5
}
