{
 "cells": [
  {
   "cell_type": "code",
   "execution_count": 4,
   "id": "8d3c8c38",
   "metadata": {},
   "outputs": [],
   "source": [
    "from IPython.display import clear_output\n",
    "import random"
   ]
  },
  {
   "cell_type": "code",
   "execution_count": 5,
   "id": "d4f58cf6",
   "metadata": {},
   "outputs": [],
   "source": [
    "def display_board(board):\n",
    "    clear_output()\n",
    "    print(board[1]+' | ' + board[2]+' | '+ board[3])\n",
    "    print(board[4]+' | ' + board[5]+' | '+ board[6])\n",
    "    print(board[7]+' | ' + board[8]+' | '+ board[9])"
   ]
  },
  {
   "cell_type": "markdown",
   "id": "5e33bd05",
   "metadata": {},
   "source": [
    "board = ['#','X', 'O','X', 'O','X', 'O','X', 'O','X']"
   ]
  },
  {
   "cell_type": "markdown",
   "id": "1166fde1",
   "metadata": {},
   "source": [
    "display_board(board)\n",
    "display_board(board)"
   ]
  },
  {
   "cell_type": "code",
   "execution_count": 6,
   "id": "a4e1469c",
   "metadata": {},
   "outputs": [],
   "source": [
    "def player_input():\n",
    "    \n",
    "    \n",
    "    '''\n",
    "    OUTPUT = (Player 1 marker, Player 2 marker)\n",
    "    \n",
    "    '''\n",
    "    \n",
    "    marker = ''\n",
    "    \n",
    "    while marker != 'X' and marker != 'O':\n",
    "        marker = input('Player1: choose X or O: ').upper()\n",
    "    \n",
    "    if marker == 'X':\n",
    "        return ('X','O')\n",
    "    else:\n",
    "        return ('O', 'X')"
   ]
  },
  {
   "cell_type": "markdown",
   "id": "1f849dd7",
   "metadata": {},
   "source": [
    "player1_marker, player2_marker = player_input()"
   ]
  },
  {
   "cell_type": "markdown",
   "id": "7393d228",
   "metadata": {},
   "source": [
    "player1_marker"
   ]
  },
  {
   "cell_type": "markdown",
   "id": "8832eff9",
   "metadata": {},
   "source": [
    "player2_marker"
   ]
  },
  {
   "cell_type": "code",
   "execution_count": 7,
   "id": "ec854407",
   "metadata": {},
   "outputs": [],
   "source": [
    "def place_marker(board, marker, position):\n",
    "    board[position] = marker"
   ]
  },
  {
   "cell_type": "markdown",
   "id": "2b06be03",
   "metadata": {},
   "source": [
    "place_marker(board,'$',8)"
   ]
  },
  {
   "cell_type": "markdown",
   "id": "208aaf46",
   "metadata": {},
   "source": [
    "display_board(board)"
   ]
  },
  {
   "cell_type": "code",
   "execution_count": 8,
   "id": "6d0b8109",
   "metadata": {},
   "outputs": [],
   "source": [
    " def win_check(board, mark):\n",
    "        #(board[1] == mark and board[2]==mark and board[3]) or\n",
    "        #(board[4] == board[5] == board[6] == mark) or\n",
    "        #(board[7] == mark and board[8]==mark and board[9]) ....\n",
    "        \n",
    "        return ((board[1] == board[2] == board[3] == mark) or\n",
    "        (board[4] == board[5] == board[6] == mark) or\n",
    "        (board[7] == board[8] == board[9] == mark) or\n",
    "        (board[1] == board[4] == board[7] == mark) or\n",
    "        (board[2] == board[5] == board[8] == mark) or\n",
    "        (board[3] == board[6] == board[9] == mark) or\n",
    "        (board[1] == board[5] == board[9] == mark) or\n",
    "        (board[3] == board[5] == board[7] == mark))"
   ]
  },
  {
   "cell_type": "markdown",
   "id": "2f1c4778",
   "metadata": {},
   "source": [
    "win_check(board, 'X')"
   ]
  },
  {
   "cell_type": "markdown",
   "id": "b2183c33",
   "metadata": {},
   "source": [
    "display_board(board)"
   ]
  },
  {
   "cell_type": "code",
   "execution_count": 9,
   "id": "97d5285f",
   "metadata": {},
   "outputs": [],
   "source": [
    "def choose_first():\n",
    "    flip = random.randint(0,1)\n",
    "    \n",
    "    if flip == 0:\n",
    "        return 'Player 1'\n",
    "    else:\n",
    "        return 'Player 2'"
   ]
  },
  {
   "cell_type": "markdown",
   "id": "077a3ae0",
   "metadata": {},
   "source": [
    "choose_first()"
   ]
  },
  {
   "cell_type": "code",
   "execution_count": 10,
   "id": "d93a07cc",
   "metadata": {},
   "outputs": [],
   "source": [
    "def space_check(board, position):\n",
    "    return board[position] == ' '"
   ]
  },
  {
   "cell_type": "code",
   "execution_count": 11,
   "id": "72445000",
   "metadata": {},
   "outputs": [],
   "source": [
    "def full_board_check(board):\n",
    "    for i in range (1,10):\n",
    "        if space_check(board,i):\n",
    "            return False\n",
    "    # board is full if we return True\n",
    "    return True"
   ]
  },
  {
   "cell_type": "code",
   "execution_count": 12,
   "id": "7d49c3dd",
   "metadata": {},
   "outputs": [],
   "source": [
    "def player_choice(board):\n",
    "    position = 0\n",
    "    \n",
    "    while position not in [1,2,3,4,5,6,7,8,9] or not space_check(board, position):\n",
    "        position = int(input('Choose a position (1-9): '))\n",
    "    \n",
    "    return"
   ]
  },
  {
   "cell_type": "code",
   "execution_count": 13,
   "id": "a5eb5d01",
   "metadata": {},
   "outputs": [],
   "source": [
    "def replay():\n",
    "    choice = input('Play again? Yes or No: ')\n",
    "    return choice == 'Yes'"
   ]
  },
  {
   "cell_type": "code",
   "execution_count": 14,
   "id": "f83f0891",
   "metadata": {},
   "outputs": [
    {
     "name": "stdout",
     "output_type": "stream",
     "text": [
      "  |   |  \n",
      "  |   |  \n",
      "  |   |  \n",
      "Choose a position (1-9): 1\n"
     ]
    },
    {
     "ename": "TypeError",
     "evalue": "list indices must be integers or slices, not NoneType",
     "output_type": "error",
     "traceback": [
      "\u001b[1;31m---------------------------------------------------------------------------\u001b[0m",
      "\u001b[1;31mTypeError\u001b[0m                                 Traceback (most recent call last)",
      "Input \u001b[1;32mIn [14]\u001b[0m, in \u001b[0;36m<cell line: 5>\u001b[1;34m()\u001b[0m\n\u001b[0;32m     21\u001b[0m display_board(the_board)\n\u001b[0;32m     23\u001b[0m position \u001b[38;5;241m=\u001b[39m player_choice(the_board)\n\u001b[1;32m---> 25\u001b[0m \u001b[43mplace_marker\u001b[49m\u001b[43m(\u001b[49m\u001b[43mthe_board\u001b[49m\u001b[43m,\u001b[49m\u001b[43mplayer1_marker\u001b[49m\u001b[43m,\u001b[49m\u001b[43m \u001b[49m\u001b[43mposition\u001b[49m\u001b[43m)\u001b[49m\n\u001b[0;32m     27\u001b[0m \u001b[38;5;28;01mif\u001b[39;00m win_check(the_board,player1_marker):\n\u001b[0;32m     28\u001b[0m     display_board(the_board)\n",
      "Input \u001b[1;32mIn [7]\u001b[0m, in \u001b[0;36mplace_marker\u001b[1;34m(board, marker, position)\u001b[0m\n\u001b[0;32m      1\u001b[0m \u001b[38;5;28;01mdef\u001b[39;00m \u001b[38;5;21mplace_marker\u001b[39m(board, marker, position):\n\u001b[1;32m----> 2\u001b[0m     board[position] \u001b[38;5;241m=\u001b[39m marker\n",
      "\u001b[1;31mTypeError\u001b[0m: list indices must be integers or slices, not NoneType"
     ]
    }
   ],
   "source": [
    "print ('Welcome to Tic Tac Toe!')\n",
    "\n",
    "while True:\n",
    "    \n",
    "    the_board = [' ']*10\n",
    "    player1_marker, player2_marker = player_input()\n",
    "    \n",
    "    turn = choose_first()\n",
    "    print(turn + ' will go first')\n",
    "    \n",
    "    play_game = input('Ready to play? Y/N ').upper()\n",
    "    \n",
    "    if play_game == 'Y':\n",
    "        game_on = True\n",
    "    else:\n",
    "        game_on = False\n",
    "    \n",
    "    while game_on:\n",
    "        if turn == 'Player 1':\n",
    "            \n",
    "            display_board(the_board)\n",
    "            \n",
    "            position = player_choice(the_board)\n",
    "            \n",
    "            place_marker(the_board,player1_marker, position)\n",
    "            \n",
    "            if win_check(the_board,player1_marker):\n",
    "                display_board(the_board)\n",
    "                print('Player 1 has won!')\n",
    "                game_on = False\n",
    "            else:\n",
    "                if full_board_check(the_board):\n",
    "                    display_board(the_board)\n",
    "                    print('The game is a tie')\n",
    "                    game_on = False\n",
    "                else:\n",
    "                    turn = 'Player 2'\n",
    "        \n",
    "        else:\n",
    "            display_board(the_board)\n",
    "            \n",
    "            position = player_choice(the_board)\n",
    "            \n",
    "            place_marker(the_board,player2_marker, position)\n",
    "            \n",
    "            if win_check(the_board,player2_marker):\n",
    "                display_board(the_board)\n",
    "                print('Player 2 has won!')\n",
    "                game_on = False\n",
    "            else:\n",
    "                if full_board_check(the_board):\n",
    "                    display_board(the_board)\n",
    "                    print('The game is a tie!')\n",
    "                    game_on = False\n",
    "                else:\n",
    "                    turn = 'Player 1'\n",
    "    \n",
    "    if not replay():\n",
    "        break"
   ]
  },
  {
   "cell_type": "code",
   "execution_count": null,
   "id": "86fcb386",
   "metadata": {},
   "outputs": [],
   "source": []
  }
 ],
 "metadata": {
  "kernelspec": {
   "display_name": "Python 3 (ipykernel)",
   "language": "python",
   "name": "python3"
  },
  "language_info": {
   "codemirror_mode": {
    "name": "ipython",
    "version": 3
   },
   "file_extension": ".py",
   "mimetype": "text/x-python",
   "name": "python",
   "nbconvert_exporter": "python",
   "pygments_lexer": "ipython3",
   "version": "3.9.12"
  }
 },
 "nbformat": 4,
 "nbformat_minor": 5
}
