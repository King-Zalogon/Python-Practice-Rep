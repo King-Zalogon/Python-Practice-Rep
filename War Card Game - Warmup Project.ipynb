{
 "cells": [
  {
   "cell_type": "markdown",
   "id": "ec6c02cd",
   "metadata": {},
   "source": [
    "## Simple War Game\n",
    "\n",
    "Before we launch in to the OOP Milestone 2 Project, let's walk through together on using OOP for a more robust and complex application, such as a game. We will use Python OOP to simulate a simplified version of the game war. Two players will each start off with half the deck, then they each remove a card, compare which card has the highest value, and the player with the higher card wins both cards. In the event of a time\n"
   ]
  },
  {
   "cell_type": "markdown",
   "id": "98a6a2ed",
   "metadata": {},
   "source": [
    "## Single Card Class\n",
    "\n",
    "### Creating a Card Class with outside variables\n",
    "\n",
    "Here we will use some outside variables that we know don't change regardless of the situation, such as a deck of cards. Regardless of what round,match, or game we're playing, we'll still need the same deck of cards."
   ]
  },
  {
   "cell_type": "markdown",
   "id": "03aee93c",
   "metadata": {},
   "source": [
    "# Card Class\n",
    "# Deck Class\n",
    "# Player Class\n",
    "# Game Logic"
   ]
  },
  {
   "cell_type": "markdown",
   "id": "52775df1",
   "metadata": {},
   "source": [
    "### Card Class"
   ]
  },
  {
   "cell_type": "code",
   "execution_count": null,
   "id": "9f90197f",
   "metadata": {},
   "outputs": [],
   "source": [
    "# CARD\n",
    "# SUIT, RANK, VALUE"
   ]
  },
  {
   "cell_type": "code",
   "execution_count": 1,
   "id": "81dfacfa",
   "metadata": {},
   "outputs": [],
   "source": [
    "import random\n",
    "\n",
    "suits = ('Hearts', 'Diamonds', 'Spades', 'Clubs')\n",
    "ranks = ('Two', 'Three', 'Four', 'Five', 'Six', 'Seven', 'Eight', 'Nine', 'Ten', 'Jack', 'Queen', 'King', 'Ace')\n",
    "values = {'Two':2, 'Three':3, 'Four':4, 'Five':5, 'Six':6, 'Seven':7, 'Eight':8,'Nine':9, 'Ten':10, 'Jack':11, 'Queen':12, 'King':13, 'Ace':14}"
   ]
  },
  {
   "cell_type": "code",
   "execution_count": 2,
   "id": "e472125e",
   "metadata": {},
   "outputs": [],
   "source": [
    "class Card:\n",
    "    \n",
    "    def __init__(self, suit, rank):\n",
    "        self.suit = suit\n",
    "        self.rank = rank\n",
    "        self.value = values[rank]\n",
    "        \n",
    "    def __str__(self):\n",
    "        return self.rank + \" of \" + self.suit"
   ]
  },
  {
   "cell_type": "code",
   "execution_count": null,
   "id": "7a1b0999",
   "metadata": {},
   "outputs": [],
   "source": [
    "two_hearts = Card('Hearts', 'Two')"
   ]
  },
  {
   "cell_type": "code",
   "execution_count": null,
   "id": "9aa27a94",
   "metadata": {},
   "outputs": [],
   "source": [
    "print (two_hearts)"
   ]
  },
  {
   "cell_type": "code",
   "execution_count": null,
   "id": "572162c4",
   "metadata": {},
   "outputs": [],
   "source": [
    "two_hearts.suit"
   ]
  },
  {
   "cell_type": "code",
   "execution_count": null,
   "id": "1b2d2fc9",
   "metadata": {},
   "outputs": [],
   "source": [
    "two_hearts.rank"
   ]
  },
  {
   "cell_type": "code",
   "execution_count": null,
   "id": "a4c29ecc",
   "metadata": {},
   "outputs": [],
   "source": [
    "values[two_hearts.rank]"
   ]
  },
  {
   "cell_type": "code",
   "execution_count": null,
   "id": "3383667a",
   "metadata": {},
   "outputs": [],
   "source": [
    "three_clubs = Card('Clubs','Three')"
   ]
  },
  {
   "cell_type": "code",
   "execution_count": null,
   "id": "dfde6ebb",
   "metadata": {},
   "outputs": [],
   "source": [
    "three_clubs.value"
   ]
  },
  {
   "cell_type": "code",
   "execution_count": null,
   "id": "92fb145f",
   "metadata": {},
   "outputs": [],
   "source": [
    "two_hearts.value < three_clubs.value"
   ]
  },
  {
   "cell_type": "markdown",
   "id": "3a4d87a8",
   "metadata": {},
   "source": [
    "### Deck Class\n",
    "\n",
    "Instatiate a new deck\n",
    "    Creat all 52 Card objects\n",
    "    Hold as a list of Card objects\n",
    "Shuffle a Deck through a method call\n",
    "    Rando library shuffle() function\n",
    "Deal cards from the Deck object\n",
    "    Pop method from card list"
   ]
  },
  {
   "cell_type": "code",
   "execution_count": 3,
   "id": "e19c812f",
   "metadata": {},
   "outputs": [],
   "source": [
    "class Deck:\n",
    "    \n",
    "    def __init__(self):\n",
    "        \n",
    "        self.all_cards = []\n",
    "        \n",
    "        for suit in suits:\n",
    "            for rank in ranks:\n",
    "                # Here it creats the Card Object of every combination\n",
    "                created_card = Card(suit,rank)\n",
    "                \n",
    "                self.all_cards.append(created_card)\n",
    "                \n",
    "    def shuffle(self):\n",
    "        random.shuffle(self.all_cards)\n",
    "        \n",
    "    def deal_one(self):\n",
    "        return self.all_cards.pop()"
   ]
  },
  {
   "cell_type": "code",
   "execution_count": 4,
   "id": "39b95551",
   "metadata": {},
   "outputs": [],
   "source": [
    "new_deck = Deck()"
   ]
  },
  {
   "cell_type": "code",
   "execution_count": null,
   "id": "8121e307",
   "metadata": {},
   "outputs": [],
   "source": [
    "first_card = new_deck.all_cards[0]\n",
    "last_card = new_deck.all_cards[-1]"
   ]
  },
  {
   "cell_type": "code",
   "execution_count": null,
   "id": "3c9bb40c",
   "metadata": {},
   "outputs": [],
   "source": [
    "print(first_card)\n",
    "print(last_card)"
   ]
  },
  {
   "cell_type": "code",
   "execution_count": null,
   "id": "f08aba76",
   "metadata": {},
   "outputs": [],
   "source": [
    "for card_object in new_deck.all_cards:\n",
    "    print(card_object)"
   ]
  },
  {
   "cell_type": "code",
   "execution_count": 5,
   "id": "bd0301ad",
   "metadata": {},
   "outputs": [],
   "source": [
    "new_deck.shuffle()"
   ]
  },
  {
   "cell_type": "code",
   "execution_count": null,
   "id": "4a966540",
   "metadata": {},
   "outputs": [],
   "source": [
    "print (new_deck.all_cards[0])\n",
    "print (new_deck.all_cards[-1])"
   ]
  },
  {
   "cell_type": "code",
   "execution_count": null,
   "id": "0923fe11",
   "metadata": {},
   "outputs": [],
   "source": [
    "for card_object in new_deck.all_cards:\n",
    "    print(card_object)"
   ]
  },
  {
   "cell_type": "code",
   "execution_count": 6,
   "id": "b173716d",
   "metadata": {},
   "outputs": [],
   "source": [
    "mycard = new_deck.deal_one()"
   ]
  },
  {
   "cell_type": "code",
   "execution_count": 7,
   "id": "49ea6657",
   "metadata": {},
   "outputs": [
    {
     "name": "stdout",
     "output_type": "stream",
     "text": [
      "Ten of Diamonds\n"
     ]
    }
   ],
   "source": [
    "print(mycard)"
   ]
  },
  {
   "cell_type": "code",
   "execution_count": 8,
   "id": "9afa9a68",
   "metadata": {},
   "outputs": [
    {
     "data": {
      "text/plain": [
       "51"
      ]
     },
     "execution_count": 8,
     "metadata": {},
     "output_type": "execute_result"
    }
   ],
   "source": [
    "len(new_deck.all_cards)"
   ]
  },
  {
   "cell_type": "markdown",
   "id": "026e4f89",
   "metadata": {},
   "source": [
    "### Player Class\n",
    "\n",
    "-Can hold the player's current list of cards\n",
    "-Should be able to add or remove single or multiple cards from their \"hand\" (list of Card objects).\n",
    "-Must remove from the \"Top\" of the deck, and add to the \"Bottom\" of it. We have to translate that to the list's handling\n",
    "Being list[0] the top and list[-1] the bottom\n",
    "\n",
    "To play top card -> cards.pop(0)\n",
    "\n",
    "To add at bottom card -> cards.append(card)\n",
    "\n",
    "To add multiple cards -> cards.extend(list_of_new_items) DONT USE APPEND TO ADD A LIST (it adds a nested list within the other list) "
   ]
  },
  {
   "cell_type": "code",
   "execution_count": 9,
   "id": "17b8a67a",
   "metadata": {},
   "outputs": [],
   "source": [
    "class Player:\n",
    "    \n",
    "    def __init__(self, name):\n",
    "        \n",
    "        self.name = name\n",
    "        self.all_cards = []\n",
    "        \n",
    "    def remove_one(self):\n",
    "        return self.all_cards.pop(0)\n",
    "    \n",
    "    def add_cards(self,new_cards):\n",
    "        if type(new_cards) == type([]):\n",
    "            self.all_cards.extend(new_cards)\n",
    "        else:\n",
    "            self.all_cards.append(new_cards)\n",
    "    \n",
    "    def __str__(self):\n",
    "        return f'Player {self.name} has {len(self.all_cards)} cards.'\n",
    "    "
   ]
  },
  {
   "cell_type": "code",
   "execution_count": 10,
   "id": "e882a5bc",
   "metadata": {},
   "outputs": [],
   "source": [
    "new_player = Player ('Zalo')"
   ]
  },
  {
   "cell_type": "code",
   "execution_count": 14,
   "id": "6ff9cacb",
   "metadata": {},
   "outputs": [
    {
     "name": "stdout",
     "output_type": "stream",
     "text": [
      "Player Zalo has 1 cards.\n"
     ]
    }
   ],
   "source": [
    "print (new_player)"
   ]
  },
  {
   "cell_type": "code",
   "execution_count": 12,
   "id": "a8432aa1",
   "metadata": {},
   "outputs": [],
   "source": [
    "new_player.add_cards(mycard)"
   ]
  },
  {
   "cell_type": "code",
   "execution_count": 13,
   "id": "0c39279a",
   "metadata": {},
   "outputs": [
    {
     "data": {
      "text/plain": [
       "type"
      ]
     },
     "execution_count": 13,
     "metadata": {},
     "output_type": "execute_result"
    }
   ],
   "source": [
    "type(Card)"
   ]
  },
  {
   "cell_type": "code",
   "execution_count": null,
   "id": "8a3757c7",
   "metadata": {},
   "outputs": [],
   "source": [
    "type(Deck)"
   ]
  },
  {
   "cell_type": "code",
   "execution_count": null,
   "id": "c39c7975",
   "metadata": {},
   "outputs": [],
   "source": [
    "type (Player)"
   ]
  },
  {
   "cell_type": "code",
   "execution_count": null,
   "id": "ebc843d9",
   "metadata": {},
   "outputs": [],
   "source": [
    "type(mycard)"
   ]
  },
  {
   "cell_type": "code",
   "execution_count": null,
   "id": "e9e0abf6",
   "metadata": {},
   "outputs": [],
   "source": []
  }
 ],
 "metadata": {
  "kernelspec": {
   "display_name": "Python 3 (ipykernel)",
   "language": "python",
   "name": "python3"
  },
  "language_info": {
   "codemirror_mode": {
    "name": "ipython",
    "version": 3
   },
   "file_extension": ".py",
   "mimetype": "text/x-python",
   "name": "python",
   "nbconvert_exporter": "python",
   "pygments_lexer": "ipython3",
   "version": "3.9.12"
  }
 },
 "nbformat": 4,
 "nbformat_minor": 5
}
