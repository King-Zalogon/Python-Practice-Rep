{
 "cells": [
  {
   "cell_type": "markdown",
   "metadata": {},
   "source": [
    "___\n",
    "\n",
    "<a href='https://www.udemy.com/user/joseportilla/'><img src='../Pierian_Data_Logo.png'/></a>\n",
    "___\n",
    "<center><em>Content Copyright by Pierian Data</em></center>"
   ]
  },
  {
   "cell_type": "markdown",
   "metadata": {
    "collapsed": true
   },
   "source": [
    "# Milestone Project 2 - Walkthrough Steps Workbook\n",
    "Below is a set of steps for you to follow to try to create the Blackjack Milestone Project game!"
   ]
  },
  {
   "cell_type": "markdown",
   "metadata": {},
   "source": [
    "## Game Play\n",
    "To play a hand of Blackjack the following steps must be followed:\n",
    "1. Create a deck of 52 cards\n",
    "2. Shuffle the deck\n",
    "3. Ask the Player for their bet\n",
    "4. Make sure that the Player's bet does not exceed their available chips\n",
    "5. Deal two cards to the Dealer and two cards to the Player\n",
    "6. Show only one of the Dealer's cards, the other remains hidden\n",
    "7. Show both of the Player's cards\n",
    "8. Ask the Player if they wish to Hit, and take another card\n",
    "9. If the Player's hand doesn't Bust (go over 21), ask if they'd like to Hit again.\n",
    "10. If a Player Stands, play the Dealer's hand. The dealer will always Hit until the Dealer's value meets or exceeds 17\n",
    "11. Determine the winner and adjust the Player's chips accordingly\n",
    "12. Ask the Player if they'd like to play again"
   ]
  },
  {
   "cell_type": "markdown",
   "metadata": {},
   "source": [
    "## Playing Cards\n",
    "A standard deck of playing cards has four suits (Hearts, Diamonds, Spades and Clubs) and thirteen ranks (2 through 10, then the face cards Jack, Queen, King and Ace) for a total of 52 cards per deck. Jacks, Queens and Kings all have a rank of 10. Aces have a rank of either 11 or 1 as needed to reach 21 without busting. As a starting point in your program, you may want to assign variables to store a list of suits, ranks, and then use a dictionary to map ranks to values."
   ]
  },
  {
   "cell_type": "markdown",
   "metadata": {},
   "source": [
    "## The Game\n",
    "### Imports and Global Variables\n",
    "** Step 1: Import the random module. This will be used to shuffle the deck prior to dealing. Then, declare variables to store suits, ranks and values. You can develop your own system, or copy ours below. Finally, declare a Boolean value to be used to control <code>while</code> loops. This is a common practice used to control the flow of the game.**\n",
    "\n",
    "    suits = ('Hearts', 'Diamonds', 'Spades', 'Clubs')\n",
    "    ranks = ('Two', 'Three', 'Four', 'Five', 'Six', 'Seven', 'Eight', 'Nine', 'Ten', 'Jack', 'Queen', 'King', 'Ace')\n",
    "    values = {'Two':2, 'Three':3, 'Four':4, 'Five':5, 'Six':6, 'Seven':7, 'Eight':8, 'Nine':9, 'Ten':10, 'Jack':10,\n",
    "             'Queen':10, 'King':10, 'Ace':11}"
   ]
  },
  {
   "cell_type": "code",
   "execution_count": 1,
   "metadata": {},
   "outputs": [],
   "source": [
    "import random\n",
    "\n",
    "suits = ('Hearts', 'Diamonds', 'Spades', 'Clubs')\n",
    "ranks = ('Two', 'Three', 'Four', 'Five', 'Six', 'Seven', 'Eight', 'Nine', 'Ten', 'Jack', 'Queen', 'King', 'Ace')\n",
    "values = {'Two':2, 'Three':3, 'Four':4, 'Five':5, 'Six':6, 'Seven':7, 'Eight':8, 'Nine':9, 'Ten':10, 'Jack':10,'Queen':10, 'King':10, 'Ace':11}\n",
    "\n",
    "playing = True"
   ]
  },
  {
   "cell_type": "markdown",
   "metadata": {},
   "source": [
    "### Class Definitions\n",
    "Consider making a Card class where each Card object has a suit and a rank, then a Deck class to hold all 52 Card objects, and can be shuffled, and finally a Hand class that holds those Cards that have been dealt to each player from the Deck."
   ]
  },
  {
   "cell_type": "markdown",
   "metadata": {},
   "source": [
    "**Step 2: Create a Card Class**<br>\n",
    "A Card object really only needs two attributes: suit and rank. You might add an attribute for \"value\" - we chose to handle value later when developing our Hand class.<br>In addition to the Card's \\_\\_init\\_\\_ method, consider adding a \\_\\_str\\_\\_ method that, when asked to print a Card, returns a string in the form \"Two of Hearts\""
   ]
  },
  {
   "cell_type": "code",
   "execution_count": 2,
   "metadata": {},
   "outputs": [],
   "source": [
    "class Card:\n",
    "    \n",
    "    def __init__(self, suit, rank):\n",
    "        self.suit = suit\n",
    "        self.rank = rank\n",
    "        self.value = values[rank]\n",
    "        \n",
    "    def __str__(self):\n",
    "        return self.rank + \" of \" + self.suit"
   ]
  },
  {
   "cell_type": "markdown",
   "metadata": {},
   "source": [
    "**Step 3: Create a Deck Class**<br>\n",
    "Here we might store 52 card objects in a list that can later be shuffled. First, though, we need to *instantiate* all 52 unique card objects and add them to our list. So long as the Card class definition appears in our code, we can build Card objects inside our Deck \\_\\_init\\_\\_ method. Consider iterating over sequences of suits and ranks to build out each card. This might appear inside a Deck class \\_\\_init\\_\\_ method:\n",
    "\n",
    "    for suit in suits:\n",
    "        for rank in ranks:\n",
    "\n",
    "In addition to an \\_\\_init\\_\\_ method we'll want to add methods to shuffle our deck, and to deal out cards during gameplay.<br><br>\n",
    "OPTIONAL: We may never need to print the contents of the deck during gameplay, but having the ability to see the cards inside it may help troubleshoot any problems that occur during development. With this in mind, consider adding a \\_\\_str\\_\\_ method to the class definition."
   ]
  },
  {
   "cell_type": "code",
   "execution_count": 3,
   "metadata": {},
   "outputs": [],
   "source": [
    "class Deck:\n",
    "    \n",
    "    def __init__(self):\n",
    "        \n",
    "        self.deck = []  # start with an empty list\n",
    "        \n",
    "        for suit in suits:\n",
    "            \n",
    "            for rank in ranks:\n",
    "                \n",
    "                card = Card(suit, rank)\n",
    "                                \n",
    "                self.deck.append(card)\n",
    "    \n",
    "    def __str__(self):\n",
    "        return self.deck\n",
    "\n",
    "    def shuffle(self):\n",
    "        random.shuffle(self.deck)\n",
    "        \n",
    "    def deal_one(self):\n",
    "        return self.deck.pop()\n"
   ]
  },
  {
   "cell_type": "markdown",
   "metadata": {},
   "source": [
    "TESTING: Just to see that everything works so far, let's see what our Deck looks like!"
   ]
  },
  {
   "cell_type": "code",
   "execution_count": null,
   "metadata": {},
   "outputs": [],
   "source": [
    "test_deck = Deck()\n",
    "print(*test_deck.deck, sep = \"\\n\")"
   ]
  },
  {
   "cell_type": "markdown",
   "metadata": {},
   "source": [
    "Great! Now let's move on to our Hand class."
   ]
  },
  {
   "cell_type": "markdown",
   "metadata": {},
   "source": [
    "**Step 4: Create a Hand Class**<br>\n",
    "In addition to holding Card objects dealt from the Deck, the Hand class may be used to calculate the value of those cards using the values dictionary defined above. It may also need to adjust for the value of Aces when appropriate."
   ]
  },
  {
   "cell_type": "code",
   "execution_count": 48,
   "metadata": {},
   "outputs": [],
   "source": [
    "class Hand:\n",
    "    def __init__(self):\n",
    "        self.cards = []  # start with an empty list as we did in the Deck class\n",
    "        self.value = 0 #+ (self.cards(Card.value))   # start with zero value\n",
    "        self.aces = 0 + self.cards.count('Ace')   # add an attribute to keep track of aces\n",
    "    # my_deck.deck[0].value\n",
    "    def add_card(self): # saco ,card del parentesis\n",
    "        dealt_card = my_deck.deal_one()\n",
    "        self.cards.append(dealt_card)\n",
    "        self.value = self.value + dealt_card.value\n",
    "        #input(f'The sum of your cards is {self.value}. Press Enter to continue.')\n",
    "    \n",
    "    def adjust_for_ace(self):\n",
    "        adjust = 'NO'\n",
    "        if self.aces > 0:\n",
    "            adjust = input('Type \"YES\" if you want to change your Ace value from 10 to 1: ').upper\n",
    "        else:\n",
    "            print('You have no Aces in your hand')\n",
    "        if adjust == 'YES':\n",
    "            self.value = self.value -10\n",
    "            print('Done!')\n",
    "        else:\n",
    "            print('Ok')\n",
    "        "
   ]
  },
  {
   "cell_type": "markdown",
   "metadata": {},
   "source": [
    "**Step 5: Create a Chips Class**<br>\n",
    "In addition to decks of cards and hands, we need to keep track of a Player's starting chips, bets, and ongoing winnings. This could be done using global variables, but in the spirit of object oriented programming, let's make a Chips class instead!"
   ]
  },
  {
   "cell_type": "code",
   "execution_count": 6,
   "metadata": {},
   "outputs": [],
   "source": [
    "class Chips:\n",
    "    \n",
    "    def __init__(self):\n",
    "        self.total = 100  # This can be set to a default value or supplied by a user input\n",
    "        self.bet = 0\n",
    "\n",
    "    def win_bet(self):\n",
    "        self.total = self.total + self.bet\n",
    "        self.bet = 0\n",
    "    \n",
    "    def lose_bet(self):\n",
    "        self.total = self.total - self.bet\n",
    "        self.bet = 0\n",
    "    \n",
    "    def push_bet(self):\n",
    "        self.bet = 0"
   ]
  },
  {
   "cell_type": "markdown",
   "metadata": {},
   "source": [
    "### Function Defintions\n",
    "A lot of steps are going to be repetitive. That's where functions come in! The following steps are guidelines - add or remove functions as needed in your own program."
   ]
  },
  {
   "cell_type": "markdown",
   "metadata": {},
   "source": [
    "**Step 6: Write a function for taking bets**<br>\n",
    "Since we're asking the user for an integer value, this would be a good place to use <code>try</code>/<code>except</code>. Remember to check that a Player's bet can be covered by their available chips."
   ]
  },
  {
   "cell_type": "code",
   "execution_count": 51,
   "metadata": {},
   "outputs": [],
   "source": [
    "def take_bet():\n",
    "    print (f'You currently have {my_chips.total} chips')\n",
    "    n = 0\n",
    "    tested = False\n",
    "    \n",
    "    while tested == False:\n",
    "        my_bet = input ('Enter the amount you want to bet: ')\n",
    "        \n",
    "        try:\n",
    "            if int(my_bet) <= int(my_chips.total):\n",
    "                #print ('Bet is right ammount')\n",
    "                break\n",
    "            else:\n",
    "                print('Bet is to high')\n",
    "        except:\n",
    "            print('Bet not a number')\n",
    "            \n",
    "        #finally:\n",
    "         #   n += 1\n",
    "          #  print (f'Loop {n}')\n",
    "\n",
    "\n",
    "    my_bet = int(my_bet)\n",
    "    my_chips.bet = my_chips.bet + my_bet\n",
    "    print (f\"Your current bet is {my_chips.bet}.\")\n"
   ]
  },
  {
   "cell_type": "markdown",
   "metadata": {},
   "source": [
    "**Step 7: Write a function for taking hits**<br>\n",
    "Either player can take hits until they bust. This function will be called during gameplay anytime a Player requests a hit, or a Dealer's hand is less than 17. It should take in Deck and Hand objects as arguments, and deal one card off the deck and add it to the Hand. You may want it to check for aces in the event that a player's hand exceeds 21."
   ]
  },
  {
   "cell_type": "code",
   "execution_count": 8,
   "metadata": {},
   "outputs": [],
   "source": [
    "def hit(deck,hand):\n",
    "    \n",
    "    while playing == True:\n",
    "        hand.add_card\n",
    "        break\n",
    "    \n",
    "    while playing == False:\n",
    "        hand.add_card\n",
    "        break\n",
    "    \n",
    "    "
   ]
  },
  {
   "cell_type": "markdown",
   "metadata": {},
   "source": [
    "**Step 8: Write a function prompting the Player to Hit or Stand**<br>\n",
    "This function should accept the deck and the player's hand as arguments, and assign playing as a global variable.<br>\n",
    "If the Player Hits, employ the hit() function above. If the Player Stands, set the playing variable to False - this will control the behavior of a <code>while</code> loop later on in our code."
   ]
  },
  {
   "cell_type": "code",
   "execution_count": 9,
   "metadata": {},
   "outputs": [],
   "source": [
    "def hit_or_stand(deck,hand):\n",
    "    \n",
    "    global playing  # to control an upcoming while loop\n",
    "    \n",
    "    while playing == True:\n",
    "        \n",
    "        player_choice = input(\"Choose between HIT (type 'H') or STAND (type 'S'): \").upper\n",
    "        \n",
    "        if player_choice == 'H':\n",
    "            \n",
    "            hit(my_deck, player_hand)\n",
    "            \n",
    "            adjust_for_ace()\n",
    "        \n",
    "        elif player_choice == 'H':\n",
    "            \n",
    "            playing = False\n",
    "            \n",
    "            break\n",
    "        \n",
    "        else:\n",
    "            print('Please type \"H\" or \"S\": ')\n",
    "        \n",
    "    if playing == False:\n",
    "        while dealer_hand.value < 17:\n",
    "            if dealer_hand.value < player_hand.value:\n",
    "                hit(my_deck, dealer_hand)\n",
    "                adjust_for_ace()\n",
    "            else:\n",
    "                break\n",
    "    else:\n",
    "        pass\n",
    "    \n",
    "                  \n",
    "                  \n",
    "            "
   ]
  },
  {
   "cell_type": "markdown",
   "metadata": {},
   "source": [
    "**Step 9: Write functions to display cards**<br>\n",
    "When the game starts, and after each time Player takes a card, the dealer's first card is hidden and all of Player's cards are visible. At the end of the hand all cards are shown, and you may want to show each hand's total value. Write a function for each of these scenarios."
   ]
  },
  {
   "cell_type": "code",
   "execution_count": 10,
   "metadata": {},
   "outputs": [],
   "source": [
    "def show_some(player,dealer):\n",
    "    \n",
    "    print (\"The player's current hand is: \")\n",
    "    for card in player_hand.cards:\n",
    "        print(card)\n",
    "    print (f'It adds up a total value of {player_hand.value}.')\n",
    "    \n",
    "    print (f\"The dealer's visible card is a {dealer_hand.cards[0]} and has one other card.\")\n",
    "    pass\n",
    "    \n",
    "def show_all(player,dealer):\n",
    "    \n",
    "    print (\"The player's current hand is: \")\n",
    "    for card in player_hand.cards:\n",
    "        print(card)\n",
    "    print (f'It adds up a total value of {player_hand.value}.')\n",
    "\n",
    "    print (\"The dealer's current hand is: \")\n",
    "    for card in dealer_hand.cards:\n",
    "        print(card)\n",
    "    print (f'It adds up a total value of {dealer_hand.value}.')\n",
    "    \n",
    "    pass"
   ]
  },
  {
   "cell_type": "markdown",
   "metadata": {},
   "source": [
    "**Step 10: Write functions to handle end of game scenarios**<br>\n",
    "Remember to pass player's hand, dealer's hand and chips as needed."
   ]
  },
  {
   "cell_type": "code",
   "execution_count": 11,
   "metadata": {},
   "outputs": [],
   "source": [
    "def player_busts():\n",
    "    \n",
    "    if player_hand.value > 21:\n",
    "        \n",
    "        print ('Player busts!')\n",
    "        print (f\"You lost {my_chips.bet}...\")\n",
    "        \n",
    "        my_chips.lose_bet()\n",
    "        \n",
    "        print (f'You now have {my_chips.total} in chips')\n",
    "    \n",
    "    else:\n",
    "        pass        \n",
    "        \n",
    "\n",
    "def player_wins():\n",
    "    \n",
    "    if (player_hand.value < 22) and (player_hand.value > dealer_hand.value):\n",
    "        \n",
    "        print ('Player wins!')\n",
    "        print (f\"You won {my_chips.bet * 2}!\")\n",
    "        \n",
    "        my_chips.win_bet()\n",
    "        \n",
    "        print (f'You now have {my_chips.total} in chips')\n",
    "    \n",
    "    else:\n",
    "        pass\n",
    "\n",
    "def dealer_busts():\n",
    "    \n",
    "    if (dealer_hand.value > 22) and (player_hand.value <22):\n",
    "        \n",
    "        print ('Dealer busted! Player wins!')\n",
    "        print (f'You won {my_chips.bet * 2}!')\n",
    "        \n",
    "        my_chips.win_bet()\n",
    "        \n",
    "        print (f'You now have {my_chips.total} in chips')\n",
    "    \n",
    "    else:\n",
    "        pass\n",
    "    \n",
    "def dealer_wins():\n",
    "    if dealer_hand.value > player_hand.value and dealer_hand.value <22:\n",
    "        \n",
    "        print ('Dealer wins!')\n",
    "        print (f\"You lost {my_chips.bet}...\")\n",
    "        \n",
    "        my_chips.lose_bet()\n",
    "        \n",
    "        print (f'You now have {my_chips.total} in chips')\n",
    "    \n",
    "    else:\n",
    "        pass  \n",
    "    \n",
    "def push():\n",
    "    if dealer_hand.value == player_hand.value and dealer_hand.value < 22:\n",
    "        \n",
    "        print ('We have a push. Nobody wins...')\n",
    "        print (f'Player recovers the bet of {my_chips.bet}')\n",
    "        \n",
    "        my_chips.push_bet()"
   ]
  },
  {
   "cell_type": "markdown",
   "metadata": {},
   "source": [
    "### And now on to the game!!"
   ]
  },
  {
   "cell_type": "code",
   "execution_count": 53,
   "metadata": {},
   "outputs": [
    {
     "name": "stdout",
     "output_type": "stream",
     "text": [
      "Welcome to my Black Jack game!\n",
      "You currently have 100 chips\n",
      "Enter the amount you want to bet: wert\n",
      "Bet not a number\n",
      "Enter the amount you want to bet: 999\n",
      "Bet is to high\n",
      "Enter the amount you want to bet: 10\n",
      "Your current bet is 10.\n",
      "The player's current hand is: \n",
      "Ace of Hearts\n",
      "Three of Clubs\n",
      "It adds up a total value of 14.\n",
      "The dealer's visible card is a Six of Diamonds and has one other card.\n"
     ]
    }
   ],
   "source": [
    "\n",
    "while True:\n",
    "    # Print an opening statement\n",
    "    print ('Welcome to my Black Jack game!')\n",
    "       \n",
    "    # Create & shuffle the deck, deal two cards to each player\n",
    "    my_deck = Deck()\n",
    "    \n",
    "    my_deck.shuffle()\n",
    "    \n",
    "    player_hand = Hand()\n",
    "    \n",
    "    dealer_hand = Hand()\n",
    "    \n",
    "    player_hand.add_card() # player 1st card\n",
    "    \n",
    "    dealer_hand.add_card() # dealer 1st card\n",
    "    \n",
    "    player_hand.add_card() # player 2nd card\n",
    "    \n",
    "    dealer_hand.add_card() # dealer 2nd card\n",
    "    \n",
    "        \n",
    "    # Set up the Player's chips\n",
    "    my_chips = Chips()\n",
    "    \n",
    "    # Prompt the Player for their bet\n",
    "    take_bet()\n",
    "\n",
    "    \n",
    "    # Show cards (but keep one dealer card hidden)\n",
    "    show_some(player_hand, dealer_hand)\n",
    "    \n",
    "    while playing:  # recall this variable from our hit_or_stand function\n",
    "        \n",
    "        # Prompt for Player to Hit or Stand\n",
    "        \n",
    "        \n",
    "        # Show cards (but keep one dealer card hidden)\n",
    " \n",
    "        \n",
    "        # If player's hand exceeds 21, run player_busts() and break out of loop\n",
    "        \n",
    "\n",
    "            break\n",
    "\n",
    "    # If Player hasn't busted, play Dealer's hand until Dealer reaches 17\n",
    "    \n",
    "    \n",
    "        # Show all cards\n",
    "    \n",
    "        # Run different winning scenarios\n",
    "        \n",
    "    \n",
    "    # Inform Player of their chips total \n",
    "    \n",
    "    # Ask to play again\n",
    "\n",
    "    break"
   ]
  },
  {
   "cell_type": "markdown",
   "metadata": {},
   "source": [
    "And that's it! Remember, these steps may differ significantly from your own solution. That's OK! Keep working on different sections of your program until you get the desired results. It takes a lot of time and patience! As always, feel free to post questions and comments to the QA Forums.\n",
    "# Good job!"
   ]
  },
  {
   "cell_type": "code",
   "execution_count": 13,
   "metadata": {},
   "outputs": [
    {
     "ename": "NameError",
     "evalue": "name 'my_chips' is not defined",
     "output_type": "error",
     "traceback": [
      "\u001b[1;31m---------------------------------------------------------------------------\u001b[0m",
      "\u001b[1;31mNameError\u001b[0m                                 Traceback (most recent call last)",
      "Input \u001b[1;32mIn [13]\u001b[0m, in \u001b[0;36m<cell line: 1>\u001b[1;34m()\u001b[0m\n\u001b[1;32m----> 1\u001b[0m \u001b[38;5;28mprint\u001b[39m(\u001b[38;5;124m'\u001b[39m\u001b[38;5;124mCurrent chips:\u001b[39m\u001b[38;5;124m'\u001b[39m, \u001b[43mmy_chips\u001b[49m\u001b[38;5;241m.\u001b[39mtotal)\n\u001b[0;32m      2\u001b[0m \u001b[38;5;28mprint\u001b[39m(\u001b[38;5;124m'\u001b[39m\u001b[38;5;124mBet =\u001b[39m\u001b[38;5;124m'\u001b[39m, my_chips\u001b[38;5;241m.\u001b[39mbet)\n",
      "\u001b[1;31mNameError\u001b[0m: name 'my_chips' is not defined"
     ]
    }
   ],
   "source": [
    "print('Current chips:', my_chips.total)\n",
    "print('Bet =', my_chips.bet)"
   ]
  },
  {
   "cell_type": "code",
   "execution_count": 14,
   "metadata": {},
   "outputs": [
    {
     "name": "stdout",
     "output_type": "stream",
     "text": [
      "Six of Diamonds\n",
      "Two of Clubs\n",
      "Three of Hearts\n",
      "Six of Hearts\n",
      "Two of Diamonds\n",
      "Queen of Clubs\n",
      "Eight of Diamonds\n",
      "Two of Hearts\n",
      "Seven of Clubs\n",
      "Six of Clubs\n",
      "Eight of Hearts\n",
      "Nine of Diamonds\n",
      "Ten of Diamonds\n",
      "Ten of Hearts\n",
      "Three of Spades\n",
      "Seven of Spades\n",
      "Three of Clubs\n",
      "Jack of Clubs\n",
      "Five of Hearts\n",
      "Jack of Hearts\n",
      "Five of Spades\n",
      "King of Spades\n",
      "Jack of Diamonds\n",
      "Five of Clubs\n",
      "Eight of Spades\n",
      "King of Diamonds\n",
      "Four of Hearts\n",
      "Five of Diamonds\n",
      "Four of Clubs\n",
      "Nine of Hearts\n",
      "King of Hearts\n",
      "Ace of Clubs\n",
      "Four of Spades\n",
      "Four of Diamonds\n",
      "Six of Spades\n",
      "King of Clubs\n",
      "Ace of Hearts\n",
      "Two of Spades\n",
      "Seven of Diamonds\n",
      "Jack of Spades\n",
      "Three of Diamonds\n",
      "Queen of Hearts\n",
      "Ace of Diamonds\n",
      "Ace of Spades\n",
      "Ten of Clubs\n",
      "Seven of Hearts\n",
      "Nine of Clubs\n",
      "Eight of Clubs\n",
      "Nine of Spades\n",
      "Ten of Spades\n",
      "Queen of Diamonds\n",
      "Queen of Spades\n"
     ]
    }
   ],
   "source": [
    "print(*my_deck.deck, sep = \"\\n\")"
   ]
  },
  {
   "cell_type": "code",
   "execution_count": 15,
   "metadata": {},
   "outputs": [
    {
     "data": {
      "text/plain": [
       "6"
      ]
     },
     "execution_count": 15,
     "metadata": {},
     "output_type": "execute_result"
    }
   ],
   "source": [
    "my_deck.deck[0].value"
   ]
  },
  {
   "cell_type": "code",
   "execution_count": 17,
   "metadata": {},
   "outputs": [],
   "source": [
    "my_card = Card(suits[1], ranks[12])"
   ]
  },
  {
   "cell_type": "code",
   "execution_count": 18,
   "metadata": {},
   "outputs": [
    {
     "data": {
      "text/plain": [
       "<__main__.Card at 0x2dc7e6e1a90>"
      ]
     },
     "execution_count": 18,
     "metadata": {},
     "output_type": "execute_result"
    }
   ],
   "source": [
    "my_card"
   ]
  },
  {
   "cell_type": "code",
   "execution_count": 19,
   "metadata": {},
   "outputs": [
    {
     "data": {
      "text/plain": [
       "11"
      ]
     },
     "execution_count": 19,
     "metadata": {},
     "output_type": "execute_result"
    }
   ],
   "source": [
    "my_card.value"
   ]
  },
  {
   "cell_type": "code",
   "execution_count": 39,
   "metadata": {},
   "outputs": [],
   "source": [
    "new_card = my_deck.deal_one()"
   ]
  },
  {
   "cell_type": "code",
   "execution_count": 40,
   "metadata": {},
   "outputs": [
    {
     "data": {
      "text/plain": [
       "__main__.Card"
      ]
     },
     "execution_count": 40,
     "metadata": {},
     "output_type": "execute_result"
    }
   ],
   "source": [
    "type(new_card)"
   ]
  },
  {
   "cell_type": "code",
   "execution_count": 43,
   "metadata": {},
   "outputs": [
    {
     "name": "stdout",
     "output_type": "stream",
     "text": [
      "Queen of Diamonds\n"
     ]
    }
   ],
   "source": [
    "print(new_card)"
   ]
  },
  {
   "cell_type": "code",
   "execution_count": 42,
   "metadata": {},
   "outputs": [
    {
     "name": "stdout",
     "output_type": "stream",
     "text": [
      "10\n"
     ]
    }
   ],
   "source": [
    "print(new_card.value)"
   ]
  },
  {
   "cell_type": "code",
   "execution_count": null,
   "metadata": {},
   "outputs": [],
   "source": []
  }
 ],
 "metadata": {
  "kernelspec": {
   "display_name": "Python 3 (ipykernel)",
   "language": "python",
   "name": "python3"
  },
  "language_info": {
   "codemirror_mode": {
    "name": "ipython",
    "version": 3
   },
   "file_extension": ".py",
   "mimetype": "text/x-python",
   "name": "python",
   "nbconvert_exporter": "python",
   "pygments_lexer": "ipython3",
   "version": "3.9.12"
  }
 },
 "nbformat": 4,
 "nbformat_minor": 1
}
