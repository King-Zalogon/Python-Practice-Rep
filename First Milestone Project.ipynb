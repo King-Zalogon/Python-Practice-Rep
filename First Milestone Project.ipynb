{
 "cells": [
  {
   "cell_type": "code",
   "execution_count": 1,
   "id": "4789b7ba",
   "metadata": {},
   "outputs": [],
   "source": [
    "game_list = [0,1,2]"
   ]
  },
  {
   "cell_type": "code",
   "execution_count": 1,
   "id": "f26a6c08",
   "metadata": {},
   "outputs": [],
   "source": [
    "def display_game(game_list):\n",
    "    print('Here is the current list: ')\n",
    "    print(game_list)"
   ]
  },
  {
   "cell_type": "code",
   "execution_count": 3,
   "id": "fa4d6067",
   "metadata": {},
   "outputs": [
    {
     "name": "stdout",
     "output_type": "stream",
     "text": [
      "Here is the current list: \n",
      "[0, 1, 2]\n"
     ]
    }
   ],
   "source": [
    "display_game(game_list)"
   ]
  },
  {
   "cell_type": "code",
   "execution_count": 2,
   "id": "7fd963ea",
   "metadata": {},
   "outputs": [],
   "source": [
    "def position_choice():\n",
    "    \n",
    "    choice = 'wrong'\n",
    "    \n",
    "    while choice not in ['0','1','2']:\n",
    "        \n",
    "        choice = input ('Pick a position (0,1,2): ')\n",
    "        \n",
    "        if choice not in ['0','1','2']:\n",
    "            print('Sorry, invalid choice!')\n",
    "    \n",
    "    return int(choice)"
   ]
  },
  {
   "cell_type": "code",
   "execution_count": 8,
   "id": "47d2e8de",
   "metadata": {},
   "outputs": [
    {
     "name": "stdout",
     "output_type": "stream",
     "text": [
      "Pick a position (0,1,2): one\n",
      "Sorry, invalid choice!\n",
      "Pick a position (0,1,2): 24\n",
      "Sorry, invalid choice!\n",
      "Pick a position (0,1,2): 2\n"
     ]
    },
    {
     "data": {
      "text/plain": [
       "2"
      ]
     },
     "execution_count": 8,
     "metadata": {},
     "output_type": "execute_result"
    }
   ],
   "source": [
    "position_choice ()"
   ]
  },
  {
   "cell_type": "code",
   "execution_count": 3,
   "id": "317bc05c",
   "metadata": {},
   "outputs": [],
   "source": [
    "def replacement_choice(game_list, position):\n",
    "    \n",
    "    user_placement = input ('Type a string to place at position: ')\n",
    "    \n",
    "    game_list[position] = user_placement\n",
    "    \n",
    "    return game_list"
   ]
  },
  {
   "cell_type": "code",
   "execution_count": 11,
   "id": "a2c112f7",
   "metadata": {},
   "outputs": [
    {
     "name": "stdout",
     "output_type": "stream",
     "text": [
      "Type a string to place at position: new string\n"
     ]
    },
    {
     "data": {
      "text/plain": [
       "[0, 'new string', 2]"
      ]
     },
     "execution_count": 11,
     "metadata": {},
     "output_type": "execute_result"
    }
   ],
   "source": [
    "replacement_choice(game_list,1)"
   ]
  },
  {
   "cell_type": "code",
   "execution_count": 4,
   "id": "43ffead8",
   "metadata": {},
   "outputs": [],
   "source": [
    "def gameon_choice():\n",
    "    \n",
    "    choice = 'wrong'\n",
    "    \n",
    "    while choice not in ['Y', 'N']:\n",
    "        \n",
    "        choice = input ('Keep playing? (Y or N) ')\n",
    "        \n",
    "        if choice not in ['Y', 'N']:\n",
    "            print('Sorry, invalid choice, please choose (Y or N) ')\n",
    "    \n",
    "    if choice == 'Y':\n",
    "        return True\n",
    "    else:\n",
    "        return False"
   ]
  },
  {
   "cell_type": "code",
   "execution_count": 13,
   "id": "15324cd2",
   "metadata": {},
   "outputs": [
    {
     "name": "stdout",
     "output_type": "stream",
     "text": [
      "Keep playing? Y or N asas\n",
      "Sorry, invalid choice, please choice Y or N \n",
      "Keep playing? Y or N Y\n"
     ]
    },
    {
     "data": {
      "text/plain": [
       "True"
      ]
     },
     "execution_count": 13,
     "metadata": {},
     "output_type": "execute_result"
    }
   ],
   "source": [
    "gameon_choice()"
   ]
  },
  {
   "cell_type": "code",
   "execution_count": 14,
   "id": "b721a865",
   "metadata": {},
   "outputs": [
    {
     "name": "stdout",
     "output_type": "stream",
     "text": [
      "Keep playing? Y or N N\n"
     ]
    },
    {
     "data": {
      "text/plain": [
       "False"
      ]
     },
     "execution_count": 14,
     "metadata": {},
     "output_type": "execute_result"
    }
   ],
   "source": [
    "gameon_choice()"
   ]
  },
  {
   "cell_type": "code",
   "execution_count": 5,
   "id": "7eb34ffa",
   "metadata": {},
   "outputs": [
    {
     "name": "stdout",
     "output_type": "stream",
     "text": [
      "Here is the current list: \n",
      "[0, 1, 2]\n",
      "Pick a position (0,1,2): qwe\n",
      "Sorry, invalid choice!\n",
      "Pick a position (0,1,2): 44\n",
      "Sorry, invalid choice!\n",
      "Pick a position (0,1,2): 2\n",
      "Type a string to place at position: Aloha\n",
      "Here is the current list: \n",
      "[0, 1, 'Aloha']\n",
      "Keep playing? (Y or N) asd\n",
      "Sorry, invalid choice, please choose (Y or N) \n",
      "Keep playing? (Y or N) y\n",
      "Sorry, invalid choice, please choose (Y or N) \n",
      "Keep playing? (Y or N) Y\n",
      "Here is the current list: \n",
      "[0, 1, 'Aloha']\n",
      "Pick a position (0,1,2): 2\n",
      "Type a string to place at position: Omnissiah!\n",
      "Here is the current list: \n",
      "[0, 1, 'Omnissiah!']\n",
      "Keep playing? (Y or N) n\n",
      "Sorry, invalid choice, please choose (Y or N) \n",
      "Keep playing? (Y or N) N\n"
     ]
    }
   ],
   "source": [
    "game_on = True\n",
    "game_list = [0,1,2]\n",
    "\n",
    "while game_on:\n",
    "    display_game(game_list)\n",
    "    \n",
    "    position = position_choice()\n",
    "    \n",
    "    game_list = replacement_choice(game_list, position)\n",
    "    \n",
    "    display_game(game_list)\n",
    "    \n",
    "    game_on = gameon_choice()"
   ]
  },
  {
   "cell_type": "markdown",
   "id": "1a92e0b0",
   "metadata": {},
   "source": [
    "# Tic Tac Toe game\n",
    "\n",
    "- 2 players playing on same computer\n",
    "- board should be printed after each move\n",
    "- should take input from player's position and place symbol on board\n",
    "- Use numpad or phonepad to match grid:\n",
    "###    1 2 3\n",
    "###    4 5 6\n",
    "###    7 8 8 \n",
    "\n",
    "\n",
    "\n",
    "- Alternate between X and O (first ask player1 which one they'll be)\n",
    "- Detect when one player has won\n",
    "- Ask if the want to play again"
   ]
  },
  {
   "cell_type": "markdown",
   "id": "2f8ddfb3",
   "metadata": {},
   "source": [
    "# Board\n",
    "# Players Marker X or O\n",
    "# Display Board\n",
    "# Ask for Input\n",
    "# Update Board and Display Again\n",
    "# Check for Winning Conditions\n",
    "# Game On Question"
   ]
  },
  {
   "cell_type": "code",
   "execution_count": null,
   "id": "da7a9ba9",
   "metadata": {
    "scrolled": false
   },
   "outputs": [],
   "source": [
    "# Variables globales a definir al comienzo\n",
    "\n",
    "new_game = False # Debería comenzar como True, eso la lleva a Marker Choice y ahí pasa a False hasta el final\n",
    "\n",
    "game_on = True # Se mantiene True hasta que los players elijan terminar\n",
    "\n",
    "choices = [' ', ' ', ' ', ' ', ' ', ' ', ' ', ' ', ' '] # Se recetea con cada new_game\n",
    "\n",
    "p1_score = 0\n",
    "p2_score = \n",
    "p_score = 'Player 1 '+ p1_score + 'points | VS | Player 2 ' + p2_score + ' points'\n",
    "\n",
    "markers = ['X', 'O']\n",
    "\n",
    "current_player = 1 #Se recetea con cada new game\n"
   ]
  },
  {
   "cell_type": "code",
   "execution_count": 227,
   "id": "ed68dfea",
   "metadata": {},
   "outputs": [],
   "source": [
    "def board():\n",
    "    if new_game == True:\n",
    "        choices = [' ', ' ', ' ', ' ', ' ', ' ', ' ', ' ', ' ']\n",
    "    else:\n",
    "        pass\n",
    "\n",
    "def player_marker():\n",
    "    p1_mark = ''\n",
    "    p2_mark = 'O'\n",
    "    while p1_mark not in markers:\n",
    "        p1_mark = input('Enter: ').upper()\n",
    "\n",
    "    markers[0] = p1_mark\n",
    "    \n",
    "    if p1_mark == 'O':\n",
    "        p2_mark = 'X'\n",
    "    else:\n",
    "        pass\n",
    "    \n",
    "    markers[0] = p1_mark\n",
    "    markers[1] = p2_mark\n",
    "    \n",
    "    print(\"Player 1, you've chosen \"+ p1_mark + ', and Player 2 will be ' + p2_mark)\n",
    "\n",
    "def score(p1_score, p2_score):\n",
    "    if new_game == True:\n",
    "        pass\n",
    "        \n",
    "    else:\n",
    "        print('The current score is: \\nPlayer 1: '+ str(p1_score) + ' points | VS | Player 2: ' + str(p2_score) + ' points')\n",
    "\n",
    "def game_on():\n",
    "    pass\n",
    "\n",
    "def display_board():\n",
    "    board = ' '+choices[0]+' || '+choices[1]+' || '+choices[2]+'\\n=============\\n'+' '+choices[3]+' || '+choices[4]+' || '+choices[5]+'\\n=============\\n'+' '+choices[6]+' || '+choices[7]+' || '+choices[8]\n",
    "    print (board)\n",
    "\n",
    "def player_choice():\n",
    "    pass\n",
    "\n",
    "def update_board():\n",
    "    pass\n",
    "\n",
    "def result():\n",
    "    pass\n",
    "\n",
    "def current_player_update():\n",
    "    pass\n",
    "\n",
    "def end_game():\n",
    "    pass\n",
    "\n",
    "def update_scores():\n",
    "    pass\n",
    "\n",
    "def reset_game():\n",
    "    pass\n",
    "\n",
    "def bye_bye():\n",
    "    pass\n"
   ]
  },
  {
   "cell_type": "code",
   "execution_count": null,
   "id": "083e3e9a",
   "metadata": {},
   "outputs": [],
   "source": [
    "def play_tictac():\n",
    "    \n",
    "    #Greet the player\n",
    "    print('Welcom to my Tic Tac Toe game!')\n",
    "    \n",
    "    # Ask who will be X and who O\n",
    "    p_markers()\n",
    "\n",
    "    # While game not new show current score:\n",
    "    score()\n",
    "    \n",
    "    # Start the game itself\n",
    "    while game_on == True:\n",
    "        \n",
    "        # Display Board\n",
    "        display_board()\n",
    "        \n",
    "        # Ask current player for input\n",
    "        player_choice()\n",
    "        \n",
    "        # Update Board\n",
    "        update_board()\n",
    "        \n",
    "        # Check if they won\n",
    "        result()\n",
    "        \n",
    "        # If non won update current player and restart loop\n",
    "        current_player_update()\n",
    "        \n",
    "        # Else, congrat, ask if game is on.\n",
    "            end_game()\n",
    "            update_scores()\n",
    "            \n",
    "            #If Game on reset the game\n",
    "            reset_game()\n",
    "            \n",
    "            #If Game end say bye bye\n",
    "            bye_bye()"
   ]
  },
  {
   "cell_type": "markdown",
   "id": "2cb15efc",
   "metadata": {},
   "source": [
    "# Board and Display Board Func ==== OK!"
   ]
  },
  {
   "cell_type": "code",
   "execution_count": 221,
   "id": "0acf396f",
   "metadata": {},
   "outputs": [],
   "source": [
    "def board():\n",
    "    if new_game == True:\n",
    "        choices = [' ', ' ', ' ', ' ', ' ', ' ', ' ', ' ', ' ']\n",
    "    else:\n",
    "        pass"
   ]
  },
  {
   "cell_type": "code",
   "execution_count": 222,
   "id": "61652611",
   "metadata": {},
   "outputs": [],
   "source": [
    "def display_board():\n",
    "\n",
    "    board = ' '+choices[0]+' || '+choices[1]+' || '+choices[2]+'\\n=============\\n'+' '+choices[3]+' || '+choices[4]+' || '+choices[5]+'\\n=============\\n'+' '+choices[6]+' || '+choices[7]+' || '+choices[8]\n",
    "    print (board)"
   ]
  },
  {
   "cell_type": "code",
   "execution_count": 223,
   "id": "4a15a3f7",
   "metadata": {},
   "outputs": [
    {
     "name": "stdout",
     "output_type": "stream",
     "text": [
      "   ||   ||  \n",
      "=============\n",
      "   ||   ||  \n",
      "=============\n",
      "   ||   ||  \n"
     ]
    }
   ],
   "source": [
    "display_board()"
   ]
  },
  {
   "cell_type": "code",
   "execution_count": 102,
   "id": "466402d7",
   "metadata": {},
   "outputs": [
    {
     "data": {
      "text/plain": [
       "'W'"
      ]
     },
     "execution_count": 102,
     "metadata": {},
     "output_type": "execute_result"
    }
   ],
   "source": [
    "choices[2]"
   ]
  },
  {
   "cell_type": "markdown",
   "id": "fbd91d03",
   "metadata": {},
   "source": [
    "# Players Markers X or O Func ------ OK!"
   ]
  },
  {
   "cell_type": "code",
   "execution_count": 210,
   "id": "f117f522",
   "metadata": {},
   "outputs": [],
   "source": [
    "def p_markers():\n",
    "    p1_mark = ''\n",
    "    p2_mark = 'O'\n",
    "    while p1_mark not in markers:\n",
    "        p1_mark = input('Enter: ').upper()\n",
    "\n",
    "    markers[0] = p1_mark\n",
    "    \n",
    "    if p1_mark == 'O':\n",
    "        p2_mark = 'X'\n",
    "    else:\n",
    "        pass\n",
    "    \n",
    "    markers[0] = p1_mark\n",
    "    markers[1] = p2_mark\n",
    "    \n",
    "    print(\"You've chosen \"+ p1_mark + ', and Player 2 will be ' + p2_mark)"
   ]
  },
  {
   "cell_type": "code",
   "execution_count": 214,
   "id": "fe3dd68d",
   "metadata": {},
   "outputs": [
    {
     "name": "stdout",
     "output_type": "stream",
     "text": [
      "Enter: o\n",
      "You've chosen O, and Player 2 will be X\n"
     ]
    }
   ],
   "source": [
    "p_markers()"
   ]
  },
  {
   "cell_type": "code",
   "execution_count": 215,
   "id": "94cde36e",
   "metadata": {},
   "outputs": [
    {
     "data": {
      "text/plain": [
       "['O', 'X']"
      ]
     },
     "execution_count": 215,
     "metadata": {},
     "output_type": "execute_result"
    }
   ],
   "source": [
    "markers"
   ]
  },
  {
   "cell_type": "markdown",
   "id": "e5c7270e",
   "metadata": {},
   "source": [
    "# Ask for Input Func"
   ]
  },
  {
   "cell_type": "code",
   "execution_count": 149,
   "id": "7b5e8080",
   "metadata": {},
   "outputs": [],
   "source": [
    "def player_choice():\n",
    "    current_player = 1\n",
    "    squares = [1,2,3,4,5,6,7,8,9]\n",
    "    acceptable = False\n",
    "    \n",
    "    while acceptable == False:\n",
    "        choice = input('Player '+ str(current_player) + ' enter de number of square you want to mark: \\n 1|2|3 \\n 4|5|6 \\n 7|8|9 ')\n",
    "        \n",
    "        if choice != int(choice):\n",
    "            \n",
    "            choice = int(input('Sorry Player '+ str(current_player) + \" That's not a number. Type a number from 1 to 9 which square to mark: \\n 1|2|3 \\n 4|5|6 \\n 7|8|9 \"))\n",
    "\n",
    "        if int(choice) not in squares:\n",
    "            \n",
    "            choice = int(input('Sorry Player '+ str(current_player) + ' Thats not a valid number. Choose, from 1 to 9 which square to mark: \\n 1|2|3 \\n 4|5|6 \\n 7|8|9 '))\n",
    "                \n",
    "        if choices[choice - 1] != ' ':\n",
    "            \n",
    "            choice = int(input('Sorry Player '+ str(current_player) + ' That square has already been marked, please choose another: \\n 1|2|3 \\n 4|5|6 \\n 7|8|9 '))\n",
    "    else:    \n",
    "        choice = int(choice)\n",
    "        acceptable = True\n",
    "    \n",
    "    choices[choice - 1] = markers[current_player-1]\n",
    "    \n",
    "    if current_player == 1 :\n",
    "            \n",
    "        current_player = 2\n",
    "    \n",
    "    else:\n",
    "    \n",
    "        current_player = 1\n",
    "        \n",
    "    return(display_board())\n",
    "    \n"
   ]
  },
  {
   "cell_type": "code",
   "execution_count": null,
   "id": "bb642593",
   "metadata": {},
   "outputs": [],
   "source": []
  }
 ],
 "metadata": {
  "kernelspec": {
   "display_name": "Python 3 (ipykernel)",
   "language": "python",
   "name": "python3"
  },
  "language_info": {
   "codemirror_mode": {
    "name": "ipython",
    "version": 3
   },
   "file_extension": ".py",
   "mimetype": "text/x-python",
   "name": "python",
   "nbconvert_exporter": "python",
   "pygments_lexer": "ipython3",
   "version": "3.9.12"
  }
 },
 "nbformat": 4,
 "nbformat_minor": 5
}
