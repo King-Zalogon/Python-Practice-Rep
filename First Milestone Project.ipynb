{
 "cells": [
  {
   "cell_type": "code",
   "execution_count": 1,
   "id": "950b7af6",
   "metadata": {},
   "outputs": [],
   "source": [
    "game_list = [0,1,2]"
   ]
  },
  {
   "cell_type": "code",
   "execution_count": 1,
   "id": "8b36c88d",
   "metadata": {},
   "outputs": [],
   "source": [
    "def display_game(game_list):\n",
    "    print('Here is the current list: ')\n",
    "    print(game_list)"
   ]
  },
  {
   "cell_type": "code",
   "execution_count": 3,
   "id": "f1b46bbf",
   "metadata": {},
   "outputs": [
    {
     "name": "stdout",
     "output_type": "stream",
     "text": [
      "Here is the current list: \n",
      "[0, 1, 2]\n"
     ]
    }
   ],
   "source": [
    "display_game(game_list)"
   ]
  },
  {
   "cell_type": "code",
   "execution_count": 2,
   "id": "3577cb62",
   "metadata": {},
   "outputs": [],
   "source": [
    "def position_choice():\n",
    "    \n",
    "    choice = 'wrong'\n",
    "    \n",
    "    while choice not in ['0','1','2']:\n",
    "        \n",
    "        choice = input ('Pick a position (0,1,2): ')\n",
    "        \n",
    "        if choice not in ['0','1','2']:\n",
    "            print('Sorry, invalid choice!')\n",
    "    \n",
    "    return int(choice)"
   ]
  },
  {
   "cell_type": "code",
   "execution_count": 8,
   "id": "c27eb555",
   "metadata": {},
   "outputs": [
    {
     "name": "stdout",
     "output_type": "stream",
     "text": [
      "Pick a position (0,1,2): one\n",
      "Sorry, invalid choice!\n",
      "Pick a position (0,1,2): 24\n",
      "Sorry, invalid choice!\n",
      "Pick a position (0,1,2): 2\n"
     ]
    },
    {
     "data": {
      "text/plain": [
       "2"
      ]
     },
     "execution_count": 8,
     "metadata": {},
     "output_type": "execute_result"
    }
   ],
   "source": [
    "position_choice ()"
   ]
  },
  {
   "cell_type": "code",
   "execution_count": 3,
   "id": "d383049e",
   "metadata": {},
   "outputs": [],
   "source": [
    "def replacement_choice(game_list, position):\n",
    "    \n",
    "    user_placement = input ('Type a string to place at position: ')\n",
    "    \n",
    "    game_list[position] = user_placement\n",
    "    \n",
    "    return game_list"
   ]
  },
  {
   "cell_type": "code",
   "execution_count": 11,
   "id": "9d88fcf5",
   "metadata": {},
   "outputs": [
    {
     "name": "stdout",
     "output_type": "stream",
     "text": [
      "Type a string to place at position: new string\n"
     ]
    },
    {
     "data": {
      "text/plain": [
       "[0, 'new string', 2]"
      ]
     },
     "execution_count": 11,
     "metadata": {},
     "output_type": "execute_result"
    }
   ],
   "source": [
    "replacement_choice(game_list,1)"
   ]
  },
  {
   "cell_type": "code",
   "execution_count": 4,
   "id": "9f45567b",
   "metadata": {},
   "outputs": [],
   "source": [
    "def gameon_choice():\n",
    "    \n",
    "    choice = 'wrong'\n",
    "    \n",
    "    while choice not in ['Y', 'N']:\n",
    "        \n",
    "        choice = input ('Keep playing? (Y or N) ')\n",
    "        \n",
    "        if choice not in ['Y', 'N']:\n",
    "            print('Sorry, invalid choice, please choose (Y or N) ')\n",
    "    \n",
    "    if choice == 'Y':\n",
    "        return True\n",
    "    else:\n",
    "        return False"
   ]
  },
  {
   "cell_type": "code",
   "execution_count": 13,
   "id": "4313fea0",
   "metadata": {},
   "outputs": [
    {
     "name": "stdout",
     "output_type": "stream",
     "text": [
      "Keep playing? Y or N asas\n",
      "Sorry, invalid choice, please choice Y or N \n",
      "Keep playing? Y or N Y\n"
     ]
    },
    {
     "data": {
      "text/plain": [
       "True"
      ]
     },
     "execution_count": 13,
     "metadata": {},
     "output_type": "execute_result"
    }
   ],
   "source": [
    "gameon_choice()"
   ]
  },
  {
   "cell_type": "code",
   "execution_count": 14,
   "id": "4ddc1f55",
   "metadata": {},
   "outputs": [
    {
     "name": "stdout",
     "output_type": "stream",
     "text": [
      "Keep playing? Y or N N\n"
     ]
    },
    {
     "data": {
      "text/plain": [
       "False"
      ]
     },
     "execution_count": 14,
     "metadata": {},
     "output_type": "execute_result"
    }
   ],
   "source": [
    "gameon_choice()"
   ]
  },
  {
   "cell_type": "code",
   "execution_count": 5,
   "id": "e3d1613c",
   "metadata": {},
   "outputs": [
    {
     "name": "stdout",
     "output_type": "stream",
     "text": [
      "Here is the current list: \n",
      "[0, 1, 2]\n",
      "Pick a position (0,1,2): qwe\n",
      "Sorry, invalid choice!\n",
      "Pick a position (0,1,2): 44\n",
      "Sorry, invalid choice!\n",
      "Pick a position (0,1,2): 2\n",
      "Type a string to place at position: Aloha\n",
      "Here is the current list: \n",
      "[0, 1, 'Aloha']\n",
      "Keep playing? (Y or N) asd\n",
      "Sorry, invalid choice, please choose (Y or N) \n",
      "Keep playing? (Y or N) y\n",
      "Sorry, invalid choice, please choose (Y or N) \n",
      "Keep playing? (Y or N) Y\n",
      "Here is the current list: \n",
      "[0, 1, 'Aloha']\n",
      "Pick a position (0,1,2): 2\n",
      "Type a string to place at position: Omnissiah!\n",
      "Here is the current list: \n",
      "[0, 1, 'Omnissiah!']\n",
      "Keep playing? (Y or N) n\n",
      "Sorry, invalid choice, please choose (Y or N) \n",
      "Keep playing? (Y or N) N\n"
     ]
    }
   ],
   "source": [
    "game_on = True\n",
    "game_list = [0,1,2]\n",
    "\n",
    "while game_on:\n",
    "    display_game(game_list)\n",
    "    \n",
    "    position = position_choice()\n",
    "    \n",
    "    game_list = replacement_choice(game_list, position)\n",
    "    \n",
    "    display_game(game_list)\n",
    "    \n",
    "    game_on = gameon_choice()"
   ]
  },
  {
   "cell_type": "markdown",
   "id": "45f51acc",
   "metadata": {},
   "source": [
    "# Tic Tac Toe game\n",
    "\n",
    "- 2 players playing on same computer\n",
    "- board should be printed after each move\n",
    "- should take input from player's position and place symbol on board\n",
    "- Use numpad or phonepad to match grid:\n",
    "###    1 2 3\n",
    "###    4 5 6\n",
    "###    7 8 8 \n",
    "\n",
    "\n",
    "\n",
    "- Alternate between X and O (first ask player1 which one they'll be)\n",
    "- Detect when one player has won\n",
    "- Ask if the want to play again"
   ]
  },
  {
   "cell_type": "markdown",
   "id": "fff538c6",
   "metadata": {},
   "source": [
    "# Board\n",
    "# Players Marker X or O\n",
    "# Display Board\n",
    "# Ask for Input\n",
    "# Update Board and Display Again\n",
    "# Check for Winning Conditions\n",
    "# Game On Question"
   ]
  },
  {
   "cell_type": "code",
   "execution_count": 133,
   "id": "7b8b4317",
   "metadata": {},
   "outputs": [],
   "source": [
    "new_game = False\n",
    "choices = [' ', ' ', 'W', ' ', ' ', ' ', ' ', ' ', ' ']\n",
    "markers = ['X','O']"
   ]
  },
  {
   "cell_type": "markdown",
   "id": "c9bb5d4b",
   "metadata": {},
   "source": [
    "# Board and Display Board Func"
   ]
  },
  {
   "cell_type": "code",
   "execution_count": 134,
   "id": "57dde3fb",
   "metadata": {},
   "outputs": [],
   "source": [
    "def board():\n",
    "    if new_game == True:\n",
    "        choices = [' ', ' ', ' ', ' ', ' ', ' ', ' ', ' ', ' ']\n",
    "    else:\n",
    "        pass"
   ]
  },
  {
   "cell_type": "code",
   "execution_count": 135,
   "id": "9ab21032",
   "metadata": {},
   "outputs": [],
   "source": [
    "def display_board():\n",
    "\n",
    "    board = ' '+choices[0]+' || '+choices[1]+' || '+choices[2]+'\\n=============\\n'+' '+choices[3]+' || '+choices[4]+' || '+choices[5]+'\\n=============\\n'+' '+choices[6]+' || '+choices[7]+' || '+choices[8]\n",
    "    print (board)"
   ]
  },
  {
   "cell_type": "code",
   "execution_count": 136,
   "id": "f1d3de7a",
   "metadata": {},
   "outputs": [
    {
     "name": "stdout",
     "output_type": "stream",
     "text": [
      "   ||   || W\n",
      "=============\n",
      "   ||   ||  \n",
      "=============\n",
      "   ||   ||  \n"
     ]
    }
   ],
   "source": [
    "display_board()"
   ]
  },
  {
   "cell_type": "code",
   "execution_count": 102,
   "id": "c172d2de",
   "metadata": {},
   "outputs": [
    {
     "data": {
      "text/plain": [
       "'W'"
      ]
     },
     "execution_count": 102,
     "metadata": {},
     "output_type": "execute_result"
    }
   ],
   "source": [
    "choices[2]"
   ]
  },
  {
   "cell_type": "markdown",
   "id": "6b98e1fe",
   "metadata": {},
   "source": [
    "# Players Markers X or O Func"
   ]
  },
  {
   "cell_type": "code",
   "execution_count": 137,
   "id": "d3ca1a68",
   "metadata": {},
   "outputs": [],
   "source": [
    "def player_marker():\n",
    "    markers = ['X','O']\n",
    "    player1_marker = (input ('Player 1, which marker do you choose? X or O?' )).upper()\n",
    "    if player1_marker not in markers:\n",
    "        player1_marker = (input ('Sorry, not a valid choice. Type \"X\" or \"O\": ')).upper()\n",
    "    \n",
    "    if player1_marker == markers [0]:\n",
    "        player2_marker = markers [1]\n",
    "    else:\n",
    "        player2_marker = markers [0]\n",
    "    \n",
    "    markers = [player1_marker,player2_marker]\n",
    "    \n",
    "    return markers\n"
   ]
  },
  {
   "cell_type": "code",
   "execution_count": 138,
   "id": "b44e6d9f",
   "metadata": {},
   "outputs": [
    {
     "name": "stdout",
     "output_type": "stream",
     "text": [
      "Player 1, which marker do you choose? X or O?o\n"
     ]
    },
    {
     "data": {
      "text/plain": [
       "['O', 'X']"
      ]
     },
     "execution_count": 138,
     "metadata": {},
     "output_type": "execute_result"
    }
   ],
   "source": [
    "player_marker()"
   ]
  },
  {
   "cell_type": "code",
   "execution_count": null,
   "id": "2df78ea7",
   "metadata": {},
   "outputs": [],
   "source": []
  },
  {
   "cell_type": "markdown",
   "id": "286fdbfb",
   "metadata": {},
   "source": [
    "# Ask for Input Func"
   ]
  },
  {
   "cell_type": "code",
   "execution_count": 145,
   "id": "14adab2b",
   "metadata": {},
   "outputs": [],
   "source": [
    "def player_choice():\n",
    "    current_player = 1\n",
    "    squares = [1,2,3,4,5,6,7,8,9]\n",
    "    acceptable = False\n",
    "    \n",
    "    while acceptable == False:\n",
    "        choice = input('Player '+ str(current_player) + ' enter de number of square you want to mark: \\n 1|2|3 \\n 4|5|6 \\n 7|8|9 ')\n",
    "        \n",
    "        while choice != int(choice):\n",
    "            \n",
    "            choice = int(input('Sorry Player '+ str(current_player) + \" That's not a number. Type a number from 1 to 9 which square to mark: \\n 1|2|3 \\n 4|5|6 \\n 7|8|9 \"))\n",
    "\n",
    "        while int(choice) not in squares:\n",
    "            \n",
    "            choice = int(input('Sorry Player '+ str(current_player) + ' Thats not a valid number. Choose, from 1 to 9 which square to mark: \\n 1|2|3 \\n 4|5|6 \\n 7|8|9 '))\n",
    "                \n",
    "        while choices[choice - 1] != ' ':\n",
    "            \n",
    "            choice = int(input('Sorry Player '+ str(current_player) + ' That square has already been marked, please choose another: \\n 1|2|3 \\n 4|5|6 \\n 7|8|9 '))\n",
    "    else:    \n",
    "        choice = int(choice)\n",
    "        acceptable = True\n",
    "    \n",
    "    choices[choice - 1] = markers[current_player-1]\n",
    "    \n",
    "    if current_player == 1 :\n",
    "            \n",
    "        current_player = 2\n",
    "    \n",
    "    else:\n",
    "    \n",
    "        current_player = 1\n",
    "        \n",
    "    return(display_board())\n",
    "    \n"
   ]
  },
  {
   "cell_type": "code",
   "execution_count": null,
   "id": "6bf3d755",
   "metadata": {},
   "outputs": [
    {
     "name": "stdout",
     "output_type": "stream",
     "text": [
      "Player 1 enter de number of square you want to mark: \n",
      " 1|2|3 \n",
      " 4|5|6 \n",
      " 7|8|9 3\n",
      "Player 1 enter de number of square you want to mark: \n",
      " 1|2|3 \n",
      " 4|5|6 \n",
      " 7|8|9 rr\n",
      "Sorry Player 1 That's not a valid number. Type a number from 1 to 9 which square to mark: \n",
      " 1|2|3 \n",
      " 4|5|6 \n",
      " 7|8|9 3\n",
      "Player 1 enter de number of square you want to mark: \n",
      " 1|2|3 \n",
      " 4|5|6 \n",
      " 7|8|9 55\n",
      "Sorry Player 1 Thats not a valid number. Choose, from 1 to 9 which square to mark: \n",
      " 1|2|3 \n",
      " 4|5|6 \n",
      " 7|8|9 3\n",
      "Sorry Player 1 That square has already been marked, please choose another: \n",
      " 1|2|3 \n",
      " 4|5|6 \n",
      " 7|8|9 rr\n",
      "Sorry Player 1 That's not a valid number. Type a number from 1 to 9 which square to mark: \n",
      " 1|2|3 \n",
      " 4|5|6 \n",
      " 7|8|9 44\n",
      "Player 1 enter de number of square you want to mark: \n",
      " 1|2|3 \n",
      " 4|5|6 \n",
      " 7|8|9 3\n",
      "Player 1 enter de number of square you want to mark: \n",
      " 1|2|3 \n",
      " 4|5|6 \n",
      " 7|8|9 3\n",
      "Player 1 enter de number of square you want to mark: \n",
      " 1|2|3 \n",
      " 4|5|6 \n",
      " 7|8|9 3\n",
      "Player 1 enter de number of square you want to mark: \n",
      " 1|2|3 \n",
      " 4|5|6 \n",
      " 7|8|9 44\n",
      "Sorry Player 1 Thats not a valid number. Choose, from 1 to 9 which square to mark: \n",
      " 1|2|3 \n",
      " 4|5|6 \n",
      " 7|8|9 44\n",
      "Sorry Player 1 That's not a valid number. Type a number from 1 to 9 which square to mark: \n",
      " 1|2|3 \n",
      " 4|5|6 \n",
      " 7|8|9 44\n",
      "Player 1 enter de number of square you want to mark: \n",
      " 1|2|3 \n",
      " 4|5|6 \n",
      " 7|8|9 44\n"
     ]
    }
   ],
   "source": [
    "player_choice()"
   ]
  },
  {
   "cell_type": "code",
   "execution_count": 129,
   "id": "d968eed2",
   "metadata": {},
   "outputs": [
    {
     "name": "stdout",
     "output_type": "stream",
     "text": [
      "   ||   || W\n",
      "=============\n",
      "   ||   ||  \n",
      "=============\n",
      "   ||   ||  \n"
     ]
    }
   ],
   "source": [
    "display_board()"
   ]
  },
  {
   "cell_type": "code",
   "execution_count": 75,
   "id": "63792e73",
   "metadata": {},
   "outputs": [],
   "source": [
    "choices = [' ', ' ', 'X', ' ', ' ', ' ', ' ', ' ', ' ']\n"
   ]
  },
  {
   "cell_type": "code",
   "execution_count": 76,
   "id": "611c2dec",
   "metadata": {},
   "outputs": [
    {
     "name": "stdout",
     "output_type": "stream",
     "text": [
      "Player 1enter de number of square you want to mark: \n",
      " 1|2|3 \n",
      " 4|5|6 \n",
      " 7|8|9 r\n",
      "SorryPlayer 1That's not a valid number. Type a number from 1 to 9 which square to mark: \n",
      " 1|2|3 \n",
      " 4|5|6 \n",
      " 7|8|9 55\n",
      "SorryPlayer 1Thats not a valid number. Choose, from 1 to 9 which square to mark: \n",
      " 1|2|3 \n",
      " 4|5|6 \n",
      " 7|8|9 3\n",
      "SorryPlayer 1That square has already been marked, please choose another: \n",
      " 1|2|3 \n",
      " 4|5|6 \n",
      " 7|8|9 5\n"
     ]
    }
   ],
   "source": [
    "player_choice2()"
   ]
  },
  {
   "cell_type": "code",
   "execution_count": 77,
   "id": "d75e9c8b",
   "metadata": {},
   "outputs": [
    {
     "name": "stdout",
     "output_type": "stream",
     "text": [
      "[' ', ' ', 'X', ' ', ' ', ' ', ' ', ' ', ' ']\n"
     ]
    }
   ],
   "source": [
    "print(choices)"
   ]
  },
  {
   "cell_type": "code",
   "execution_count": 86,
   "id": "eec868bd",
   "metadata": {},
   "outputs": [
    {
     "ename": "SyntaxError",
     "evalue": "invalid syntax (1682002439.py, line 1)",
     "output_type": "error",
     "traceback": [
      "\u001b[1;36m  Input \u001b[1;32mIn [86]\u001b[1;36m\u001b[0m\n\u001b[1;33m    player_marker {1}\u001b[0m\n\u001b[1;37m                  ^\u001b[0m\n\u001b[1;31mSyntaxError\u001b[0m\u001b[1;31m:\u001b[0m invalid syntax\n"
     ]
    }
   ],
   "source": []
  },
  {
   "cell_type": "code",
   "execution_count": null,
   "id": "016e607d",
   "metadata": {},
   "outputs": [],
   "source": []
  }
 ],
 "metadata": {
  "kernelspec": {
   "display_name": "Python 3 (ipykernel)",
   "language": "python",
   "name": "python3"
  },
  "language_info": {
   "codemirror_mode": {
    "name": "ipython",
    "version": 3
   },
   "file_extension": ".py",
   "mimetype": "text/x-python",
   "name": "python",
   "nbconvert_exporter": "python",
   "pygments_lexer": "ipython3",
   "version": "3.9.12"
  }
 },
 "nbformat": 4,
 "nbformat_minor": 5
}
