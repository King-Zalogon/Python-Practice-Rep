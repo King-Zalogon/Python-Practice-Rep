{
 "cells": [
  {
   "cell_type": "code",
   "execution_count": 1,
   "id": "aa712549",
   "metadata": {},
   "outputs": [
    {
     "name": "stdout",
     "output_type": "stream",
     "text": [
      "What's your dice pool?8\n",
      "[6, 8, 7, 3, 5, 2, 4, 2, 10]\n"
     ]
    }
   ],
   "source": [
    "from random import randint\n",
    "dicepool = int(input (\"What's your dice pool?\"))\n",
    "roll = []\n",
    "diceadded = 0\n",
    "while diceadded <= dicepool:\n",
    "    diceadded = diceadded+1\n",
    "    roll.append(randint(1,10))\n",
    "                \n",
    "else:\n",
    "    print (roll)"
   ]
  },
  {
   "cell_type": "code",
   "execution_count": 12,
   "id": "d80dd580",
   "metadata": {},
   "outputs": [
    {
     "name": "stdout",
     "output_type": "stream",
     "text": [
      "How many faces do your dice have? 8\n",
      "What's your dice pool? 5\n",
      "You rolled 5d8\n",
      "Your results are:[3, 8, 3, 5, 6]\n"
     ]
    }
   ],
   "source": [
    "from random import randint\n",
    "dicetype = int(input (\"How many faces do your dice have? \"))\n",
    "dicepool = int(input (\"What's your dice pool? \"))\n",
    "roll = []\n",
    "diceadded = 0\n",
    "while diceadded < dicepool:\n",
    "    diceadded = diceadded+1\n",
    "    roll.append(randint(1,(dicetype)))\n",
    "                \n",
    "else:\n",
    "    print ('You rolled {}d{}'.format (dicepool,dicetype))\n",
    "    print ('Your results are:{}'.format(roll))"
   ]
  },
  {
   "cell_type": "code",
   "execution_count": null,
   "id": "4546c21c",
   "metadata": {},
   "outputs": [],
   "source": []
  }
 ],
 "metadata": {
  "kernelspec": {
   "display_name": "Python 3 (ipykernel)",
   "language": "python",
   "name": "python3"
  },
  "language_info": {
   "codemirror_mode": {
    "name": "ipython",
    "version": 3
   },
   "file_extension": ".py",
   "mimetype": "text/x-python",
   "name": "python",
   "nbconvert_exporter": "python",
   "pygments_lexer": "ipython3",
   "version": "3.9.7"
  }
 },
 "nbformat": 4,
 "nbformat_minor": 5
}
