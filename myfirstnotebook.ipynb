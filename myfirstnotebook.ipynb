{
 "cells": [
  {
   "cell_type": "code",
   "execution_count": null,
   "id": "49938db6",
   "metadata": {},
   "outputs": [],
   "source": []
  },
  {
   "cell_type": "markdown",
   "id": "58d7bf15",
   "metadata": {},
   "source": [
    "print('hello')"
   ]
  },
  {
   "cell_type": "code",
   "execution_count": null,
   "id": "8ddb3439",
   "metadata": {},
   "outputs": [],
   "source": [
    "print('new')"
   ]
  },
  {
   "cell_type": "markdown",
   "id": "86ccadf0",
   "metadata": {},
   "source": [
    "Nota común"
   ]
  },
  {
   "cell_type": "code",
   "execution_count": null,
   "id": "b141e285",
   "metadata": {},
   "outputs": [],
   "source": [
    "2+1"
   ]
  },
  {
   "cell_type": "code",
   "execution_count": null,
   "id": "b72f5ad1",
   "metadata": {},
   "outputs": [],
   "source": [
    "2-1"
   ]
  },
  {
   "cell_type": "code",
   "execution_count": null,
   "id": "68e50e17",
   "metadata": {},
   "outputs": [],
   "source": [
    "2*2"
   ]
  },
  {
   "cell_type": "code",
   "execution_count": null,
   "id": "2ee6cc8b",
   "metadata": {},
   "outputs": [],
   "source": [
    "3/2"
   ]
  },
  {
   "cell_type": "markdown",
   "id": "0e71cd53",
   "metadata": {},
   "source": [
    "Modulo or \"Mod\" Operator"
   ]
  },
  {
   "cell_type": "code",
   "execution_count": null,
   "id": "8aad8f96",
   "metadata": {},
   "outputs": [],
   "source": [
    "7/4"
   ]
  },
  {
   "cell_type": "code",
   "execution_count": null,
   "id": "f3384738",
   "metadata": {},
   "outputs": [],
   "source": [
    "7%4"
   ]
  },
  {
   "cell_type": "markdown",
   "id": "c78ee2e9",
   "metadata": {},
   "source": [
    "\"Mod\" me trae lo que resta luego de una división. 7 dividido 4, da 1 y un resto de 3, que dividido entre 4 me daría el .75"
   ]
  },
  {
   "cell_type": "code",
   "execution_count": null,
   "id": "2244a3ad",
   "metadata": {},
   "outputs": [],
   "source": [
    "50%5"
   ]
  },
  {
   "cell_type": "markdown",
   "id": "8275ab8e",
   "metadata": {},
   "source": [
    "Puede servir para saber si un número es par o impar (sobre todo si ese valor esta escondido detras de una variabl), si da \"0\" al hace %2 entonces es par"
   ]
  },
  {
   "cell_type": "markdown",
   "id": "f0a15dc3",
   "metadata": {},
   "source": [
    "Para elevar a una potencia se utiliza doble asterisco y la potencia **3 es al cubo"
   ]
  },
  {
   "cell_type": "code",
   "execution_count": null,
   "id": "e33a1205",
   "metadata": {},
   "outputs": [],
   "source": [
    "2**3"
   ]
  },
  {
   "cell_type": "code",
   "execution_count": null,
   "id": "7367b4cd",
   "metadata": {},
   "outputs": [],
   "source": [
    "2 + 10 * 10 + 3"
   ]
  },
  {
   "cell_type": "markdown",
   "id": "51873820",
   "metadata": {},
   "source": [
    " Acá hace primero la multiplicación y luego la sumatoria, 10 * 10 = 100 -> 100 + 2 + 3 = 105"
   ]
  },
  {
   "cell_type": "code",
   "execution_count": null,
   "id": "f25af155",
   "metadata": {},
   "outputs": [],
   "source": [
    "(2+10)*(10+3)"
   ]
  },
  {
   "cell_type": "code",
   "execution_count": null,
   "id": "09b6a022",
   "metadata": {},
   "outputs": [],
   "source": [
    "((2+3)**2)*(6/3)"
   ]
  },
  {
   "cell_type": "code",
   "execution_count": null,
   "id": "13164347",
   "metadata": {},
   "outputs": [],
   "source": [
    "(2+3)**2"
   ]
  },
  {
   "cell_type": "code",
   "execution_count": null,
   "id": "797d7a7c",
   "metadata": {},
   "outputs": [],
   "source": [
    "((2+3)**2)*(2-(6/3))"
   ]
  },
  {
   "cell_type": "code",
   "execution_count": null,
   "id": "4aaf55b7",
   "metadata": {},
   "outputs": [],
   "source": [
    "((2+3)**2)*(2-(6/3)))"
   ]
  },
  {
   "cell_type": "code",
   "execution_count": null,
   "id": "b96a4a87",
   "metadata": {},
   "outputs": [],
   "source": [
    "((2+3)**2)*(9-(15/3))"
   ]
  },
  {
   "cell_type": "code",
   "execution_count": null,
   "id": "a8b2b793",
   "metadata": {},
   "outputs": [],
   "source": [
    "0.1+0.2-0.3"
   ]
  },
  {
   "cell_type": "code",
   "execution_count": null,
   "id": "7b4a206c",
   "metadata": {},
   "outputs": [],
   "source": [
    "0.1 + 0.2 - 0.3"
   ]
  },
  {
   "cell_type": "code",
   "execution_count": null,
   "id": "414dffc2",
   "metadata": {},
   "outputs": [],
   "source": [
    "0.1+0.2"
   ]
  },
  {
   "cell_type": "code",
   "execution_count": null,
   "id": "22080517",
   "metadata": {},
   "outputs": [],
   "source": [
    "6*6"
   ]
  },
  {
   "cell_type": "code",
   "execution_count": null,
   "id": "59214f4a",
   "metadata": {},
   "outputs": [],
   "source": [
    "1/2"
   ]
  },
  {
   "cell_type": "code",
   "execution_count": null,
   "id": "84bb0349",
   "metadata": {},
   "outputs": [],
   "source": [
    "my_dog = 2"
   ]
  },
  {
   "cell_type": "code",
   "execution_count": null,
   "id": "45141505",
   "metadata": {},
   "outputs": [],
   "source": [
    "my_dog = 'Hermes'"
   ]
  },
  {
   "cell_type": "code",
   "execution_count": null,
   "id": "8f52e2d2",
   "metadata": {},
   "outputs": [],
   "source": [
    "my_dog"
   ]
  },
  {
   "cell_type": "code",
   "execution_count": null,
   "id": "256e6d32",
   "metadata": {},
   "outputs": [],
   "source": [
    "a=5"
   ]
  },
  {
   "cell_type": "code",
   "execution_count": null,
   "id": "74de7aa7",
   "metadata": {},
   "outputs": [],
   "source": [
    "a + a"
   ]
  },
  {
   "cell_type": "code",
   "execution_count": null,
   "id": "a466ab4d",
   "metadata": {},
   "outputs": [],
   "source": [
    "a = a + a"
   ]
  },
  {
   "cell_type": "code",
   "execution_count": null,
   "id": "f477008c",
   "metadata": {
    "scrolled": true
   },
   "outputs": [],
   "source": [
    "a"
   ]
  },
  {
   "cell_type": "code",
   "execution_count": null,
   "id": "d894c3e1",
   "metadata": {},
   "outputs": [],
   "source": [
    "a"
   ]
  },
  {
   "cell_type": "code",
   "execution_count": null,
   "id": "75872a28",
   "metadata": {},
   "outputs": [],
   "source": [
    "a"
   ]
  },
  {
   "cell_type": "code",
   "execution_count": null,
   "id": "6d56e43e",
   "metadata": {},
   "outputs": [],
   "source": [
    "type(a)"
   ]
  },
  {
   "cell_type": "code",
   "execution_count": null,
   "id": "df8778f9",
   "metadata": {},
   "outputs": [],
   "source": [
    "a "
   ]
  },
  {
   "cell_type": "code",
   "execution_count": null,
   "id": "cc442a14",
   "metadata": {},
   "outputs": [],
   "source": [
    "a = 30.1"
   ]
  },
  {
   "cell_type": "code",
   "execution_count": null,
   "id": "dbf5114f",
   "metadata": {},
   "outputs": [],
   "source": [
    "type(a)"
   ]
  },
  {
   "cell_type": "code",
   "execution_count": null,
   "id": "2ebac3e2",
   "metadata": {},
   "outputs": [],
   "source": [
    "my_income = 100"
   ]
  },
  {
   "cell_type": "code",
   "execution_count": null,
   "id": "7f3e0d37",
   "metadata": {},
   "outputs": [],
   "source": [
    "tax_rate = 0.1\n",
    "my_taxes = my_income * tax_rate"
   ]
  },
  {
   "cell_type": "code",
   "execution_count": null,
   "id": "0037f47c",
   "metadata": {},
   "outputs": [],
   "source": [
    "my_taxes"
   ]
  },
  {
   "cell_type": "code",
   "execution_count": null,
   "id": "e2ccce36",
   "metadata": {},
   "outputs": [],
   "source": [
    "'hello'\n",
    "\"world\""
   ]
  },
  {
   "cell_type": "code",
   "execution_count": null,
   "id": "4798625a",
   "metadata": {},
   "outputs": [],
   "source": [
    "'this is also a string'"
   ]
  },
  {
   "cell_type": "code",
   "execution_count": null,
   "id": "52a79e99",
   "metadata": {},
   "outputs": [],
   "source": [
    "\" I'm going on a run \""
   ]
  },
  {
   "cell_type": "code",
   "execution_count": null,
   "id": "0c355c23",
   "metadata": {},
   "outputs": [],
   "source": [
    "print (\"hello\")"
   ]
  },
  {
   "cell_type": "code",
   "execution_count": null,
   "id": "322154c7",
   "metadata": {},
   "outputs": [],
   "source": [
    "\"hello world one\"\n",
    "\"hello world two\""
   ]
  },
  {
   "cell_type": "code",
   "execution_count": null,
   "id": "21f4c9bf",
   "metadata": {},
   "outputs": [],
   "source": [
    "print (\"hello world one\")\n",
    "print (\"hello world two\")"
   ]
  },
  {
   "cell_type": "code",
   "execution_count": null,
   "id": "31f9b563",
   "metadata": {},
   "outputs": [],
   "source": [
    "print (\"hello \\n world\")"
   ]
  },
  {
   "cell_type": "code",
   "execution_count": null,
   "id": "c61737b3",
   "metadata": {},
   "outputs": [],
   "source": [
    "print (\"hello \\t world\")"
   ]
  },
  {
   "cell_type": "code",
   "execution_count": null,
   "id": "6b952c22",
   "metadata": {},
   "outputs": [],
   "source": [
    "print (\"hello \\nworld\")"
   ]
  },
  {
   "cell_type": "code",
   "execution_count": null,
   "id": "8977e79d",
   "metadata": {},
   "outputs": [],
   "source": [
    "len ('hello')"
   ]
  },
  {
   "cell_type": "code",
   "execution_count": null,
   "id": "18f4612c",
   "metadata": {},
   "outputs": [],
   "source": [
    "my_dog"
   ]
  },
  {
   "cell_type": "code",
   "execution_count": null,
   "id": "8cae24f5",
   "metadata": {},
   "outputs": [],
   "source": [
    "len (my_dog)"
   ]
  },
  {
   "cell_type": "code",
   "execution_count": null,
   "id": "5da57b0c",
   "metadata": {},
   "outputs": [],
   "source": [
    "my_name = 'Zalogon'"
   ]
  },
  {
   "cell_type": "code",
   "execution_count": null,
   "id": "3293c1c5",
   "metadata": {},
   "outputs": [],
   "source": [
    "print (my_name)"
   ]
  },
  {
   "cell_type": "code",
   "execution_count": null,
   "id": "dfb07e43",
   "metadata": {},
   "outputs": [],
   "source": [
    "len (my_name)"
   ]
  },
  {
   "cell_type": "code",
   "execution_count": null,
   "id": "9b0f4709",
   "metadata": {},
   "outputs": [],
   "source": [
    "print (\"Hello World\")"
   ]
  },
  {
   "cell_type": "code",
   "execution_count": null,
   "id": "54b7af45",
   "metadata": {},
   "outputs": [],
   "source": [
    "mystring = \"Hello World\""
   ]
  },
  {
   "cell_type": "code",
   "execution_count": null,
   "id": "e3058a8f",
   "metadata": {},
   "outputs": [],
   "source": [
    "mystring"
   ]
  },
  {
   "cell_type": "code",
   "execution_count": null,
   "id": "f7244e99",
   "metadata": {},
   "outputs": [],
   "source": [
    "mystring[0]"
   ]
  },
  {
   "cell_type": "code",
   "execution_count": null,
   "id": "49f115a0",
   "metadata": {},
   "outputs": [],
   "source": [
    "mystring[8]"
   ]
  },
  {
   "cell_type": "code",
   "execution_count": null,
   "id": "ab72904e",
   "metadata": {},
   "outputs": [],
   "source": [
    "mystring[-2]"
   ]
  },
  {
   "cell_type": "code",
   "execution_count": null,
   "id": "456173a1",
   "metadata": {},
   "outputs": [],
   "source": [
    "mystring ='abcdefghijk'"
   ]
  },
  {
   "cell_type": "code",
   "execution_count": null,
   "id": "b4c2fe99",
   "metadata": {},
   "outputs": [],
   "source": [
    "mystring[2:]"
   ]
  },
  {
   "cell_type": "code",
   "execution_count": null,
   "id": "3575a809",
   "metadata": {},
   "outputs": [],
   "source": [
    "mystring[:2]"
   ]
  },
  {
   "cell_type": "code",
   "execution_count": null,
   "id": "ff370637",
   "metadata": {},
   "outputs": [],
   "source": [
    "mystring[:3]"
   ]
  },
  {
   "cell_type": "code",
   "execution_count": null,
   "id": "2bbef04d",
   "metadata": {},
   "outputs": [],
   "source": [
    " mystring[3:6]"
   ]
  },
  {
   "cell_type": "code",
   "execution_count": null,
   "id": "e9855a5e",
   "metadata": {},
   "outputs": [],
   "source": [
    "mystring[2:9:2]"
   ]
  },
  {
   "cell_type": "code",
   "execution_count": null,
   "id": "000a4a89",
   "metadata": {},
   "outputs": [],
   "source": [
    "mystring[::2]"
   ]
  },
  {
   "cell_type": "code",
   "execution_count": null,
   "id": "19264a10",
   "metadata": {},
   "outputs": [],
   "source": [
    "mystring[-10]"
   ]
  },
  {
   "cell_type": "code",
   "execution_count": null,
   "id": "e88af5c2",
   "metadata": {},
   "outputs": [],
   "source": [
    "mystring[-10:10:-2]"
   ]
  },
  {
   "cell_type": "code",
   "execution_count": null,
   "id": "bb7afb26",
   "metadata": {},
   "outputs": [],
   "source": [
    "mystring[-10:10]"
   ]
  },
  {
   "cell_type": "code",
   "execution_count": null,
   "id": "f5f668dc",
   "metadata": {},
   "outputs": [],
   "source": [
    "mystring[-10:10:2]"
   ]
  },
  {
   "cell_type": "code",
   "execution_count": null,
   "id": "cdc36ee5",
   "metadata": {},
   "outputs": [],
   "source": [
    "mystring[-10:10:-1]"
   ]
  },
  {
   "cell_type": "code",
   "execution_count": null,
   "id": "72645ba7",
   "metadata": {},
   "outputs": [],
   "source": [
    "mystring[1:-1:-2]"
   ]
  },
  {
   "cell_type": "code",
   "execution_count": null,
   "id": "8a8b0849",
   "metadata": {},
   "outputs": [],
   "source": [
    "mystring[1:10:-2]"
   ]
  },
  {
   "cell_type": "code",
   "execution_count": null,
   "id": "6a796977",
   "metadata": {},
   "outputs": [],
   "source": [
    "mystring[:-1:-2]"
   ]
  },
  {
   "cell_type": "code",
   "execution_count": null,
   "id": "ca91aa06",
   "metadata": {},
   "outputs": [],
   "source": [
    "mystring[::-2]\n"
   ]
  },
  {
   "cell_type": "code",
   "execution_count": null,
   "id": "b43cfd78",
   "metadata": {},
   "outputs": [],
   "source": [
    "mystring = \"Hello World\"\n",
    "mystring[8]"
   ]
  },
  {
   "cell_type": "code",
   "execution_count": null,
   "id": "8c33aebf",
   "metadata": {},
   "outputs": [],
   "source": [
    "'tinker'[1:4]"
   ]
  },
  {
   "cell_type": "code",
   "execution_count": null,
   "id": "6d585367",
   "metadata": {},
   "outputs": [],
   "source": [
    "my_name"
   ]
  },
  {
   "cell_type": "code",
   "execution_count": null,
   "id": "50138103",
   "metadata": {},
   "outputs": [],
   "source": [
    "print(my_name[4:])"
   ]
  },
  {
   "cell_type": "code",
   "execution_count": null,
   "id": "4c78dd3b",
   "metadata": {},
   "outputs": [],
   "source": [
    "print(my_name[:4])"
   ]
  },
  {
   "cell_type": "markdown",
   "id": "3743951c",
   "metadata": {},
   "source": [
    "**IMMUTABILITY**"
   ]
  },
  {
   "cell_type": "code",
   "execution_count": null,
   "id": "4623f69d",
   "metadata": {},
   "outputs": [],
   "source": [
    "name = \"Sam\""
   ]
  },
  {
   "cell_type": "code",
   "execution_count": null,
   "id": "4a87da11",
   "metadata": {},
   "outputs": [],
   "source": [
    "name[0] = \"P\""
   ]
  },
  {
   "cell_type": "code",
   "execution_count": null,
   "id": "7e80041d",
   "metadata": {},
   "outputs": [],
   "source": [
    "# name[0] = \"P\""
   ]
  },
  {
   "cell_type": "code",
   "execution_count": null,
   "id": "741d0c30",
   "metadata": {},
   "outputs": [],
   "source": [
    "name[1:]"
   ]
  },
  {
   "cell_type": "code",
   "execution_count": null,
   "id": "5b776afd",
   "metadata": {},
   "outputs": [],
   "source": [
    "last_letters = name[1:]"
   ]
  },
  {
   "cell_type": "code",
   "execution_count": null,
   "id": "9d3e604b",
   "metadata": {},
   "outputs": [],
   "source": [
    "last_letters"
   ]
  },
  {
   "cell_type": "code",
   "execution_count": null,
   "id": "def085cb",
   "metadata": {},
   "outputs": [],
   "source": [
    "'P' + last_letters"
   ]
  },
  {
   "cell_type": "code",
   "execution_count": null,
   "id": "84bde529",
   "metadata": {},
   "outputs": [],
   "source": [
    "x = 'Hello World'"
   ]
  },
  {
   "cell_type": "code",
   "execution_count": null,
   "id": "8db4c1c1",
   "metadata": {},
   "outputs": [],
   "source": [
    "x + ' it is beautiful outside!'"
   ]
  },
  {
   "cell_type": "code",
   "execution_count": null,
   "id": "a8625f90",
   "metadata": {},
   "outputs": [],
   "source": [
    "x = x + ' it is beautiful outside!'"
   ]
  },
  {
   "cell_type": "code",
   "execution_count": null,
   "id": "a838ad7b",
   "metadata": {},
   "outputs": [],
   "source": [
    "x"
   ]
  },
  {
   "cell_type": "code",
   "execution_count": null,
   "id": "e9bc97b9",
   "metadata": {},
   "outputs": [],
   "source": [
    "name"
   ]
  },
  {
   "cell_type": "code",
   "execution_count": null,
   "id": "c0737e28",
   "metadata": {},
   "outputs": [],
   "source": [
    "name - last_letters"
   ]
  },
  {
   "cell_type": "code",
   "execution_count": null,
   "id": "7e1305d7",
   "metadata": {},
   "outputs": [],
   "source": [
    "b = name - last_letters"
   ]
  },
  {
   "cell_type": "code",
   "execution_count": null,
   "id": "8655c421",
   "metadata": {},
   "outputs": [],
   "source": [
    "letter = 'z'"
   ]
  },
  {
   "cell_type": "code",
   "execution_count": null,
   "id": "46f96304",
   "metadata": {},
   "outputs": [],
   "source": [
    "letter * 10"
   ]
  },
  {
   "cell_type": "code",
   "execution_count": null,
   "id": "50c066a2",
   "metadata": {},
   "outputs": [],
   "source": [
    "2 + 3"
   ]
  },
  {
   "cell_type": "code",
   "execution_count": null,
   "id": "0851366b",
   "metadata": {},
   "outputs": [],
   "source": [
    "'2' + '3'"
   ]
  },
  {
   "cell_type": "code",
   "execution_count": null,
   "id": "7c4e951f",
   "metadata": {},
   "outputs": [],
   "source": [
    "newname = 'P'+last_letters"
   ]
  },
  {
   "cell_type": "code",
   "execution_count": null,
   "id": "c0e9dc30",
   "metadata": {},
   "outputs": [],
   "source": [
    "newname"
   ]
  },
  {
   "cell_type": "code",
   "execution_count": null,
   "id": "e8ebbcab",
   "metadata": {},
   "outputs": [],
   "source": [
    "x = 'Hello World'"
   ]
  },
  {
   "cell_type": "code",
   "execution_count": null,
   "id": "65a6eb68",
   "metadata": {},
   "outputs": [],
   "source": [
    "x.upper ()"
   ]
  },
  {
   "cell_type": "code",
   "execution_count": null,
   "id": "f7c37fbe",
   "metadata": {},
   "outputs": [],
   "source": [
    "x"
   ]
  },
  {
   "cell_type": "code",
   "execution_count": null,
   "id": "a0b1f4b5",
   "metadata": {},
   "outputs": [],
   "source": [
    "x.upper"
   ]
  },
  {
   "cell_type": "code",
   "execution_count": null,
   "id": "69c64e25",
   "metadata": {},
   "outputs": [],
   "source": [
    "x.lower()"
   ]
  },
  {
   "cell_type": "code",
   "execution_count": null,
   "id": "816817c9",
   "metadata": {},
   "outputs": [],
   "source": [
    "x.split()"
   ]
  },
  {
   "cell_type": "code",
   "execution_count": null,
   "id": "cc01003c",
   "metadata": {},
   "outputs": [],
   "source": [
    "x = 'This is a string'"
   ]
  },
  {
   "cell_type": "code",
   "execution_count": null,
   "id": "66ea516b",
   "metadata": {},
   "outputs": [],
   "source": [
    "x.split('i')"
   ]
  },
  {
   "cell_type": "code",
   "execution_count": null,
   "id": "f7f89a8a",
   "metadata": {},
   "outputs": [],
   "source": [
    "x.swapcase()"
   ]
  },
  {
   "cell_type": "code",
   "execution_count": null,
   "id": "99ae47b1",
   "metadata": {},
   "outputs": [],
   "source": [
    "print('Hello ' + my_name)"
   ]
  },
  {
   "cell_type": "code",
   "execution_count": null,
   "id": "977e58bf",
   "metadata": {},
   "outputs": [],
   "source": [
    "print('This is a string {}'.format('INSERTED'))"
   ]
  },
  {
   "cell_type": "code",
   "execution_count": null,
   "id": "7fac7d83",
   "metadata": {},
   "outputs": [],
   "source": [
    " print('The {} is {} and {}.'.format('fox', 'brown', 'quick'))"
   ]
  },
  {
   "cell_type": "code",
   "execution_count": null,
   "id": "9403eb50",
   "metadata": {},
   "outputs": [],
   "source": [
    " print('The {2} {1} {0}.'.format('fox', 'brown', 'quick'))"
   ]
  },
  {
   "cell_type": "code",
   "execution_count": null,
   "id": "98361a0f",
   "metadata": {},
   "outputs": [],
   "source": [
    " print('The {0} {0} {0}.'.format('fox', 'brown', 'quick'))"
   ]
  },
  {
   "cell_type": "code",
   "execution_count": null,
   "id": "4bfe48a9",
   "metadata": {},
   "outputs": [],
   "source": [
    " print('The {2} {1} {0}.'.format(my_name, 'brown', 'quick'))"
   ]
  },
  {
   "cell_type": "code",
   "execution_count": null,
   "id": "e6431082",
   "metadata": {},
   "outputs": [],
   "source": [
    " print('The {q} {b} {f}.'.format(f='fox',b='brown',q='quick'))"
   ]
  },
  {
   "cell_type": "markdown",
   "id": "7622324e",
   "metadata": {},
   "source": [
    "**Float formating follow \"{value:width.precision *f* }\"** "
   ]
  },
  {
   "cell_type": "code",
   "execution_count": null,
   "id": "cedba100",
   "metadata": {},
   "outputs": [],
   "source": [
    "result = 100/777"
   ]
  },
  {
   "cell_type": "raw",
   "id": "f8fecae5",
   "metadata": {},
   "source": [
    "result"
   ]
  },
  {
   "cell_type": "code",
   "execution_count": null,
   "id": "2b05f075",
   "metadata": {},
   "outputs": [],
   "source": [
    "result"
   ]
  },
  {
   "cell_type": "code",
   "execution_count": null,
   "id": "d5b9c28f",
   "metadata": {},
   "outputs": [],
   "source": [
    "print(\"The result was {r}\".format(r=result))"
   ]
  },
  {
   "cell_type": "code",
   "execution_count": null,
   "id": "38f40484",
   "metadata": {},
   "outputs": [],
   "source": [
    "print(\"The result was {r:1.3}\".format(r=result))"
   ]
  },
  {
   "cell_type": "code",
   "execution_count": null,
   "id": "b808a53b",
   "metadata": {},
   "outputs": [],
   "source": [
    "print(\"The result was {r:1.3f}\".format(r=result))"
   ]
  },
  {
   "cell_type": "code",
   "execution_count": null,
   "id": "129bf689",
   "metadata": {},
   "outputs": [],
   "source": [
    "print(\"The result was {r:10.3f}\".format(r=result))"
   ]
  },
  {
   "cell_type": "code",
   "execution_count": null,
   "id": "842aba80",
   "metadata": {},
   "outputs": [],
   "source": [
    "print(\"The result was {r:10.5f}\".format(r=result))"
   ]
  },
  {
   "cell_type": "code",
   "execution_count": null,
   "id": "82cf90df",
   "metadata": {},
   "outputs": [],
   "source": [
    "result = 104.12345"
   ]
  },
  {
   "cell_type": "code",
   "execution_count": null,
   "id": "25fc61b0",
   "metadata": {},
   "outputs": [],
   "source": [
    "print(\"The result was {r:15.3f}\".format(r=result))"
   ]
  },
  {
   "cell_type": "code",
   "execution_count": null,
   "id": "4ad32460",
   "metadata": {},
   "outputs": [],
   "source": [
    "print(\"The result was {r:1.5f}\".format(r=result))"
   ]
  },
  {
   "cell_type": "code",
   "execution_count": null,
   "id": "b0d56513",
   "metadata": {},
   "outputs": [],
   "source": []
  },
  {
   "cell_type": "markdown",
   "id": "69d2f9be",
   "metadata": {},
   "source": [
    "**f-stings method** - *formated strings literals*\n",
    "\n",
    "Se agrega una **f** antes del string y luego se anota entre llaves directo lo que querés que te traiga"
   ]
  },
  {
   "cell_type": "code",
   "execution_count": null,
   "id": "b1d5af67",
   "metadata": {},
   "outputs": [],
   "source": [
    "name = \"Jose\""
   ]
  },
  {
   "cell_type": "code",
   "execution_count": null,
   "id": "d2eac550",
   "metadata": {},
   "outputs": [],
   "source": [
    "print(f'Hello,his name is {name}')"
   ]
  },
  {
   "cell_type": "code",
   "execution_count": null,
   "id": "0b018d31",
   "metadata": {},
   "outputs": [],
   "source": [
    " age = 3"
   ]
  },
  {
   "cell_type": "code",
   "execution_count": null,
   "id": "f95e7d36",
   "metadata": {
    "scrolled": false
   },
   "outputs": [],
   "source": [
    "print(f'{name} is {age} years old.')"
   ]
  },
  {
   "cell_type": "code",
   "execution_count": null,
   "id": "dc11cf2c",
   "metadata": {},
   "outputs": [],
   "source": [
    "'{} rules!'.format('Python')"
   ]
  },
  {
   "cell_type": "markdown",
   "id": "5582963d",
   "metadata": {},
   "source": [
    "\n",
    "**LISTS**\n"
   ]
  },
  {
   "cell_type": "code",
   "execution_count": null,
   "id": "67740024",
   "metadata": {},
   "outputs": [],
   "source": [
    "my_list = [1,2,3]"
   ]
  },
  {
   "cell_type": "code",
   "execution_count": null,
   "id": "87888642",
   "metadata": {},
   "outputs": [],
   "source": [
    "my_list = ['STRING', 100, 23.2]"
   ]
  },
  {
   "cell_type": "code",
   "execution_count": null,
   "id": "586c47ae",
   "metadata": {},
   "outputs": [],
   "source": [
    "len(my_list)"
   ]
  },
  {
   "cell_type": "code",
   "execution_count": null,
   "id": "35c92734",
   "metadata": {},
   "outputs": [],
   "source": [
    "my_list = ['one', 'two', 'three']"
   ]
  },
  {
   "cell_type": "code",
   "execution_count": null,
   "id": "01b0039a",
   "metadata": {},
   "outputs": [],
   "source": [
    "my_list[0]"
   ]
  },
  {
   "cell_type": "code",
   "execution_count": null,
   "id": "856c0333",
   "metadata": {},
   "outputs": [],
   "source": [
    "my_list[1:]"
   ]
  },
  {
   "cell_type": "code",
   "execution_count": null,
   "id": "c72b2e1c",
   "metadata": {},
   "outputs": [],
   "source": [
    "my_list"
   ]
  },
  {
   "cell_type": "code",
   "execution_count": null,
   "id": "ff4b7ff4",
   "metadata": {},
   "outputs": [],
   "source": [
    "another_list=['four', 'five']"
   ]
  },
  {
   "cell_type": "code",
   "execution_count": null,
   "id": "301e1338",
   "metadata": {},
   "outputs": [],
   "source": [
    "my_list + another_list"
   ]
  },
  {
   "cell_type": "code",
   "execution_count": null,
   "id": "17ec496d",
   "metadata": {},
   "outputs": [],
   "source": [
    "new_list = my_list + another_list"
   ]
  },
  {
   "cell_type": "code",
   "execution_count": null,
   "id": "aabfa963",
   "metadata": {},
   "outputs": [],
   "source": [
    "new_list[0] = 'ONE ALL CAPS'"
   ]
  },
  {
   "cell_type": "code",
   "execution_count": null,
   "id": "1578ccb4",
   "metadata": {},
   "outputs": [],
   "source": [
    "my_list"
   ]
  },
  {
   "cell_type": "code",
   "execution_count": null,
   "id": "2b332a7d",
   "metadata": {},
   "outputs": [],
   "source": [
    "new_list"
   ]
  },
  {
   "cell_type": "code",
   "execution_count": null,
   "id": "cc921a3e",
   "metadata": {},
   "outputs": [],
   "source": [
    "my_list"
   ]
  },
  {
   "cell_type": "markdown",
   "id": "ef3fd52f",
   "metadata": {},
   "source": [
    "*Se pueden agregar elementos al final de una lista usando* **.append**\n"
   ]
  },
  {
   "cell_type": "code",
   "execution_count": null,
   "id": "cf2f5b89",
   "metadata": {},
   "outputs": [],
   "source": [
    "new_list.append('six')"
   ]
  },
  {
   "cell_type": "code",
   "execution_count": null,
   "id": "dc868844",
   "metadata": {},
   "outputs": [],
   "source": [
    "new_list"
   ]
  },
  {
   "cell_type": "code",
   "execution_count": null,
   "id": "5a31308a",
   "metadata": {},
   "outputs": [],
   "source": [
    "new_list.append('seven')"
   ]
  },
  {
   "cell_type": "code",
   "execution_count": null,
   "id": "c12cc9a8",
   "metadata": {},
   "outputs": [],
   "source": [
    "new_list"
   ]
  },
  {
   "cell_type": "markdown",
   "id": "3103c75e",
   "metadata": {},
   "source": [
    "*Se pueden quitar elementos al final de una lista usando* **.pop**\n",
    "\n"
   ]
  },
  {
   "cell_type": "code",
   "execution_count": null,
   "id": "9b8df395",
   "metadata": {},
   "outputs": [],
   "source": [
    "new_list.pop()"
   ]
  },
  {
   "cell_type": "code",
   "execution_count": null,
   "id": "d9a76367",
   "metadata": {},
   "outputs": [],
   "source": [
    "new_list"
   ]
  },
  {
   "cell_type": "code",
   "execution_count": null,
   "id": "9ccb69da",
   "metadata": {},
   "outputs": [],
   "source": [
    "popped_item = new_list.pop()"
   ]
  },
  {
   "cell_type": "code",
   "execution_count": null,
   "id": "b255c655",
   "metadata": {},
   "outputs": [],
   "source": [
    "popped_item"
   ]
  },
  {
   "cell_type": "code",
   "execution_count": null,
   "id": "3fd4bf47",
   "metadata": {},
   "outputs": [],
   "source": [
    "new_list"
   ]
  },
  {
   "cell_type": "code",
   "execution_count": null,
   "id": "838ba827",
   "metadata": {},
   "outputs": [],
   "source": [
    "new_list.pop(0)"
   ]
  },
  {
   "cell_type": "code",
   "execution_count": null,
   "id": "118a31d5",
   "metadata": {},
   "outputs": [],
   "source": [
    "new_list"
   ]
  },
  {
   "cell_type": "code",
   "execution_count": null,
   "id": "89ef1cdf",
   "metadata": {},
   "outputs": [],
   "source": [
    "new_list = ['a', 'e', 'x', 'b', 'c']"
   ]
  },
  {
   "cell_type": "code",
   "execution_count": null,
   "id": "6899b050",
   "metadata": {},
   "outputs": [],
   "source": [
    "num_list = [4,1,8,3]"
   ]
  },
  {
   "cell_type": "code",
   "execution_count": null,
   "id": "af64b18f",
   "metadata": {},
   "outputs": [],
   "source": [
    "new_list.sort()"
   ]
  },
  {
   "cell_type": "code",
   "execution_count": null,
   "id": "282bf2fd",
   "metadata": {},
   "outputs": [],
   "source": [
    "new_list"
   ]
  },
  {
   "cell_type": "code",
   "execution_count": null,
   "id": "d8080204",
   "metadata": {},
   "outputs": [],
   "source": [
    "my_sorted_list = new_list.sort()"
   ]
  },
  {
   "cell_type": "code",
   "execution_count": null,
   "id": "fcd5192b",
   "metadata": {},
   "outputs": [],
   "source": [
    "my_sorted_list"
   ]
  },
  {
   "cell_type": "code",
   "execution_count": null,
   "id": "17fbca8f",
   "metadata": {},
   "outputs": [],
   "source": [
    "type(my_sorted_list)"
   ]
  },
  {
   "cell_type": "code",
   "execution_count": null,
   "id": "6d615388",
   "metadata": {},
   "outputs": [],
   "source": [
    "None"
   ]
  },
  {
   "cell_type": "markdown",
   "id": "13bdf71b",
   "metadata": {},
   "source": [
    "\"None\" es un default value para funciones que no traen ningun resultado, como .sort() ordena la lista pero no trae ningun valor, por eso \"my_sorted_list = new_list.sort()\" no trae nada y Python la reconoce como un NoneType"
   ]
  },
  {
   "cell_type": "code",
   "execution_count": null,
   "id": "a6b720eb",
   "metadata": {},
   "outputs": [],
   "source": [
    "num_list"
   ]
  },
  {
   "cell_type": "code",
   "execution_count": null,
   "id": "212080d3",
   "metadata": {},
   "outputs": [],
   "source": [
    "num_list.sort()"
   ]
  },
  {
   "cell_type": "code",
   "execution_count": null,
   "id": "c3cc1e29",
   "metadata": {},
   "outputs": [],
   "source": [
    "num_list"
   ]
  },
  {
   "cell_type": "code",
   "execution_count": null,
   "id": "b7663821",
   "metadata": {},
   "outputs": [],
   "source": [
    "num_list.reverse()"
   ]
  },
  {
   "cell_type": "code",
   "execution_count": null,
   "id": "ded2b988",
   "metadata": {},
   "outputs": [],
   "source": [
    "num_list"
   ]
  },
  {
   "cell_type": "code",
   "execution_count": null,
   "id": "914a6c53",
   "metadata": {},
   "outputs": [],
   "source": [
    "num_list[1:]"
   ]
  },
  {
   "cell_type": "code",
   "execution_count": null,
   "id": "667b93db",
   "metadata": {},
   "outputs": [],
   "source": [
    "num_list[2]"
   ]
  },
  {
   "cell_type": "code",
   "execution_count": null,
   "id": "e61845b9",
   "metadata": {},
   "outputs": [],
   "source": [
    "lst=[0,1,2]"
   ]
  },
  {
   "cell_type": "code",
   "execution_count": null,
   "id": "3b6df3c1",
   "metadata": {},
   "outputs": [],
   "source": [
    "lst.pop()"
   ]
  },
  {
   "cell_type": "code",
   "execution_count": null,
   "id": "cfc9db55",
   "metadata": {},
   "outputs": [],
   "source": [
    "my_dict = {'key1' : 'value1' ,  'key2' : 'value2'}"
   ]
  },
  {
   "cell_type": "code",
   "execution_count": null,
   "id": "225cfccf",
   "metadata": {},
   "outputs": [],
   "source": [
    "my_dict"
   ]
  },
  {
   "cell_type": "code",
   "execution_count": null,
   "id": "c5e3499b",
   "metadata": {},
   "outputs": [],
   "source": [
    "my_dict['key1']"
   ]
  },
  {
   "cell_type": "code",
   "execution_count": null,
   "id": "3bd5485d",
   "metadata": {},
   "outputs": [],
   "source": [
    "prices_lookup = {'apple' : 2.99, 'oranges':1.99, 'milk':5.80}"
   ]
  },
  {
   "cell_type": "code",
   "execution_count": null,
   "id": "3baf8d9b",
   "metadata": {},
   "outputs": [],
   "source": [
    " prices_lookup['apple']"
   ]
  },
  {
   "cell_type": "code",
   "execution_count": null,
   "id": "c22a2821",
   "metadata": {},
   "outputs": [],
   "source": [
    "d = {'k1': 123, 'k2':[0,1,2], 'k3':{'insideKey':100}}"
   ]
  },
  {
   "cell_type": "code",
   "execution_count": null,
   "id": "e36d6782",
   "metadata": {},
   "outputs": [],
   "source": [
    "d['k2']"
   ]
  },
  {
   "cell_type": "code",
   "execution_count": null,
   "id": "646cf608",
   "metadata": {},
   "outputs": [],
   "source": [
    "d['k3']"
   ]
  },
  {
   "cell_type": "code",
   "execution_count": null,
   "id": "4f6a2e80",
   "metadata": {},
   "outputs": [],
   "source": [
    "d['k3']['insideKey']"
   ]
  },
  {
   "cell_type": "code",
   "execution_count": null,
   "id": "21abbad0",
   "metadata": {},
   "outputs": [],
   "source": [
    "d['k2']"
   ]
  },
  {
   "cell_type": "code",
   "execution_count": null,
   "id": "eed6aadd",
   "metadata": {},
   "outputs": [],
   "source": [
    "d['k1']"
   ]
  },
  {
   "cell_type": "code",
   "execution_count": null,
   "id": "c694c846",
   "metadata": {},
   "outputs": [],
   "source": [
    "d['k2'][1]"
   ]
  },
  {
   "cell_type": "code",
   "execution_count": null,
   "id": "09e3acca",
   "metadata": {},
   "outputs": [],
   "source": [
    "d = {'key1':['a', 'b', 'c']}"
   ]
  },
  {
   "cell_type": "code",
   "execution_count": null,
   "id": "770c2ab3",
   "metadata": {},
   "outputs": [],
   "source": [
    "d"
   ]
  },
  {
   "cell_type": "code",
   "execution_count": null,
   "id": "978829a1",
   "metadata": {},
   "outputs": [],
   "source": [
    "d['key1'][2]"
   ]
  },
  {
   "cell_type": "code",
   "execution_count": null,
   "id": "c319743d",
   "metadata": {},
   "outputs": [],
   "source": [
    "d['key1'][2].upper()"
   ]
  },
  {
   "cell_type": "code",
   "execution_count": null,
   "id": "8d73e429",
   "metadata": {},
   "outputs": [],
   "source": [
    "d = {'k1': 100, 'k2':200}"
   ]
  },
  {
   "cell_type": "code",
   "execution_count": null,
   "id": "c87921db",
   "metadata": {},
   "outputs": [],
   "source": [
    "d['k3']=300"
   ]
  },
  {
   "cell_type": "code",
   "execution_count": null,
   "id": "a48cedc6",
   "metadata": {},
   "outputs": [],
   "source": [
    "d"
   ]
  },
  {
   "cell_type": "code",
   "execution_count": null,
   "id": "e8f6cbd0",
   "metadata": {},
   "outputs": [],
   "source": [
    "d['k1']='NEW VALUE'"
   ]
  },
  {
   "cell_type": "code",
   "execution_count": null,
   "id": "bdcb8639",
   "metadata": {},
   "outputs": [],
   "source": [
    "d"
   ]
  },
  {
   "cell_type": "code",
   "execution_count": null,
   "id": "be1195cf",
   "metadata": {},
   "outputs": [],
   "source": [
    "d = {'k1': 100, 'k2': 200, 'k3': 300}"
   ]
  },
  {
   "cell_type": "code",
   "execution_count": null,
   "id": "483e4a92",
   "metadata": {},
   "outputs": [],
   "source": [
    "d.keys()"
   ]
  },
  {
   "cell_type": "code",
   "execution_count": null,
   "id": "d430450a",
   "metadata": {},
   "outputs": [],
   "source": [
    "d.values()"
   ]
  },
  {
   "cell_type": "code",
   "execution_count": null,
   "id": "2d63abc0",
   "metadata": {},
   "outputs": [],
   "source": [
    "d.items()"
   ]
  },
  {
   "cell_type": "markdown",
   "id": "d8bc792c",
   "metadata": {},
   "source": [
    "**KEYS son siempre Strings**"
   ]
  },
  {
   "cell_type": "markdown",
   "id": "f33236cd",
   "metadata": {},
   "source": [
    "**TUPLES** son inmutables, usan ()"
   ]
  },
  {
   "cell_type": "code",
   "execution_count": null,
   "id": "91539345",
   "metadata": {},
   "outputs": [],
   "source": [
    "t = (1, 2, 3)"
   ]
  },
  {
   "cell_type": "code",
   "execution_count": null,
   "id": "f21be837",
   "metadata": {},
   "outputs": [],
   "source": [
    "mylist = [1,2,3]"
   ]
  },
  {
   "cell_type": "code",
   "execution_count": null,
   "id": "bb3c43e1",
   "metadata": {},
   "outputs": [],
   "source": [
    "type(t)"
   ]
  },
  {
   "cell_type": "code",
   "execution_count": null,
   "id": "6c7d44a5",
   "metadata": {},
   "outputs": [],
   "source": [
    "type(mylist)"
   ]
  },
  {
   "cell_type": "code",
   "execution_count": null,
   "id": "184afce5",
   "metadata": {},
   "outputs": [],
   "source": [
    "len(t)"
   ]
  },
  {
   "cell_type": "code",
   "execution_count": null,
   "id": "bf57f3d5",
   "metadata": {},
   "outputs": [],
   "source": [
    "t"
   ]
  },
  {
   "cell_type": "code",
   "execution_count": null,
   "id": "8a2055db",
   "metadata": {},
   "outputs": [],
   "source": [
    "t = ('one', 2)"
   ]
  },
  {
   "cell_type": "code",
   "execution_count": null,
   "id": "895e093b",
   "metadata": {},
   "outputs": [],
   "source": [
    "t[0]"
   ]
  },
  {
   "cell_type": "code",
   "execution_count": null,
   "id": "2d2444af",
   "metadata": {},
   "outputs": [],
   "source": [
    "t[-1]"
   ]
  },
  {
   "cell_type": "code",
   "execution_count": null,
   "id": "173d6adb",
   "metadata": {},
   "outputs": [],
   "source": [
    "t = ('a', 'a', 'b')"
   ]
  },
  {
   "cell_type": "code",
   "execution_count": null,
   "id": "d96d2ba8",
   "metadata": {},
   "outputs": [],
   "source": [
    "t.count('a')"
   ]
  },
  {
   "cell_type": "code",
   "execution_count": null,
   "id": "20afc843",
   "metadata": {},
   "outputs": [],
   "source": [
    "t.index('a')"
   ]
  },
  {
   "cell_type": "markdown",
   "id": "2e66c7d2",
   "metadata": {},
   "source": [
    "Con .index si hay repetidos solo me trae el primero"
   ]
  },
  {
   "cell_type": "code",
   "execution_count": null,
   "id": "95125b71",
   "metadata": {},
   "outputs": [],
   "source": [
    "t.index('b')"
   ]
  },
  {
   "cell_type": "code",
   "execution_count": null,
   "id": "f6fade66",
   "metadata": {},
   "outputs": [],
   "source": [
    "t"
   ]
  },
  {
   "cell_type": "code",
   "execution_count": null,
   "id": "42c5c63d",
   "metadata": {},
   "outputs": [],
   "source": [
    "mylist"
   ]
  },
  {
   "cell_type": "code",
   "execution_count": null,
   "id": "11c10ec0",
   "metadata": {},
   "outputs": [],
   "source": [
    "mylist[0]='NEW'"
   ]
  },
  {
   "cell_type": "code",
   "execution_count": null,
   "id": "0a44f31d",
   "metadata": {},
   "outputs": [],
   "source": [
    "mylist"
   ]
  },
  {
   "cell_type": "code",
   "execution_count": null,
   "id": "fec6fcf5",
   "metadata": {},
   "outputs": [],
   "source": [
    "t[0]= 'NEW'"
   ]
  },
  {
   "cell_type": "code",
   "execution_count": null,
   "id": "bf0f99a3",
   "metadata": {},
   "outputs": [],
   "source": [
    "t=(1,2,[1,2])"
   ]
  },
  {
   "cell_type": "code",
   "execution_count": null,
   "id": "0035625b",
   "metadata": {},
   "outputs": [],
   "source": [
    "t"
   ]
  },
  {
   "cell_type": "markdown",
   "id": "8022b6cb",
   "metadata": {},
   "source": [
    "\n",
    "   **SETS** unordered collection of **unique** elements\n",
    "   "
   ]
  },
  {
   "cell_type": "code",
   "execution_count": null,
   "id": "7011802f",
   "metadata": {},
   "outputs": [],
   "source": [
    " myset = set()"
   ]
  },
  {
   "cell_type": "code",
   "execution_count": null,
   "id": "7fe274a4",
   "metadata": {},
   "outputs": [],
   "source": [
    "myset"
   ]
  },
  {
   "cell_type": "code",
   "execution_count": null,
   "id": "ee6b1076",
   "metadata": {},
   "outputs": [],
   "source": [
    "myset.add(1)"
   ]
  },
  {
   "cell_type": "code",
   "execution_count": null,
   "id": "e5ce4f6d",
   "metadata": {},
   "outputs": [],
   "source": [
    "myset"
   ]
  },
  {
   "cell_type": "code",
   "execution_count": null,
   "id": "14b9bb95",
   "metadata": {},
   "outputs": [],
   "source": [
    "myset.add(2)"
   ]
  },
  {
   "cell_type": "code",
   "execution_count": null,
   "id": "0dc6cc5f",
   "metadata": {},
   "outputs": [],
   "source": [
    "myset"
   ]
  },
  {
   "cell_type": "code",
   "execution_count": null,
   "id": "59dbff80",
   "metadata": {},
   "outputs": [],
   "source": [
    "myset.add(2)"
   ]
  },
  {
   "cell_type": "code",
   "execution_count": null,
   "id": "53ddac01",
   "metadata": {},
   "outputs": [],
   "source": [
    "myset"
   ]
  },
  {
   "cell_type": "markdown",
   "id": "c3f6f17a",
   "metadata": {},
   "source": [
    "Puede servir para meter una lista dentro de un SET y asi obtener solo los valores unicos, sin los repetidos"
   ]
  },
  {
   "cell_type": "code",
   "execution_count": null,
   "id": "d270f5fb",
   "metadata": {},
   "outputs": [],
   "source": [
    "mylist= (1,1,1,1,2,2,2,2,3,3,3,3,)"
   ]
  },
  {
   "cell_type": "code",
   "execution_count": null,
   "id": "397473d0",
   "metadata": {},
   "outputs": [],
   "source": [
    "set(mylist)"
   ]
  },
  {
   "cell_type": "code",
   "execution_count": null,
   "id": "33c7af46",
   "metadata": {},
   "outputs": [],
   "source": [
    "set"
   ]
  },
  {
   "cell_type": "code",
   "execution_count": null,
   "id": "79346691",
   "metadata": {},
   "outputs": [],
   "source": [
    "mylist= (3,3,'asda', 'asda', 'aaa', 3.4,['b','a', 'c', 'c'],[3,'asda', 3.4, 4.5, 'b'])"
   ]
  },
  {
   "cell_type": "code",
   "execution_count": null,
   "id": "dc1549bb",
   "metadata": {},
   "outputs": [],
   "source": [
    "set(mylist)"
   ]
  },
  {
   "cell_type": "code",
   "execution_count": null,
   "id": "7b0098c5",
   "metadata": {},
   "outputs": [],
   "source": [
    "mylist"
   ]
  },
  {
   "cell_type": "code",
   "execution_count": null,
   "id": "5f423951",
   "metadata": {},
   "outputs": [],
   "source": [
    "set(mylist)"
   ]
  },
  {
   "cell_type": "code",
   "execution_count": null,
   "id": "5d668487",
   "metadata": {},
   "outputs": [],
   "source": [
    "set('Mississippi')"
   ]
  },
  {
   "cell_type": "markdown",
   "id": "9377fc45",
   "metadata": {},
   "source": [
    "\n",
    "   **Booleans** operador que permite trasmitir afirmaciones **True** o **False** (Siempre con **T** y **F** mayúsculas)\n",
    "    \n",
    "    (Sirven para el control de flujo y lógica)"
   ]
  },
  {
   "cell_type": "code",
   "execution_count": null,
   "id": "b8610ff3",
   "metadata": {},
   "outputs": [],
   "source": [
    "True"
   ]
  },
  {
   "cell_type": "code",
   "execution_count": null,
   "id": "44ddf964",
   "metadata": {},
   "outputs": [],
   "source": [
    "true"
   ]
  },
  {
   "cell_type": "code",
   "execution_count": null,
   "id": "1331102c",
   "metadata": {},
   "outputs": [],
   "source": [
    "False"
   ]
  },
  {
   "cell_type": "code",
   "execution_count": null,
   "id": "d1e05a87",
   "metadata": {},
   "outputs": [],
   "source": [
    "type(False)"
   ]
  },
  {
   "cell_type": "code",
   "execution_count": null,
   "id": "a9b215e8",
   "metadata": {},
   "outputs": [],
   "source": [
    "1 > 2"
   ]
  },
  {
   "cell_type": "code",
   "execution_count": null,
   "id": "41b1783b",
   "metadata": {},
   "outputs": [],
   "source": [
    "1 < 1"
   ]
  },
  {
   "cell_type": "code",
   "execution_count": null,
   "id": "427e1438",
   "metadata": {},
   "outputs": [],
   "source": [
    "1 == 1"
   ]
  },
  {
   "cell_type": "code",
   "execution_count": null,
   "id": "aee5ae73",
   "metadata": {},
   "outputs": [],
   "source": [
    "1 =< 1"
   ]
  },
  {
   "cell_type": "code",
   "execution_count": null,
   "id": "86a478fd",
   "metadata": {},
   "outputs": [],
   "source": [
    "b = None"
   ]
  },
  {
   "cell_type": "code",
   "execution_count": null,
   "id": "18bb032b",
   "metadata": {},
   "outputs": [],
   "source": [
    "b"
   ]
  },
  {
   "cell_type": "markdown",
   "id": "4a4c6d46",
   "metadata": {},
   "source": [
    "\n",
    "   **I/O** Input and Output with basic .txt files\n",
    "    "
   ]
  },
  {
   "cell_type": "code",
   "execution_count": null,
   "id": "dad0c0b9",
   "metadata": {},
   "outputs": [],
   "source": [
    "test.txt"
   ]
  },
  {
   "cell_type": "markdown",
   "id": "4f7ed3f7",
   "metadata": {},
   "source": [
    " SOLO en Jupyter Notebook se puede usar\n",
    " %%writefile myfile.txt\n",
    " Hello this is a text file\n",
    " this is the second line\n",
    " this is the third line"
   ]
  },
  {
   "cell_type": "code",
   "execution_count": null,
   "id": "d52acb39",
   "metadata": {},
   "outputs": [],
   "source": [
    "%%writefile myfile.txt \n",
    "Hello this is a text file \n",
    "this is the second line \n",
    "this is the third line"
   ]
  },
  {
   "cell_type": "code",
   "execution_count": null,
   "id": "38f2453d",
   "metadata": {},
   "outputs": [],
   "source": [
    "myfile = open('myfile.txt')"
   ]
  },
  {
   "cell_type": "code",
   "execution_count": null,
   "id": "a25be6f9",
   "metadata": {},
   "outputs": [],
   "source": [
    "myfile = open('whoops_wrong.txt')"
   ]
  },
  {
   "cell_type": "code",
   "execution_count": null,
   "id": "9b5793c5",
   "metadata": {},
   "outputs": [],
   "source": [
    "test = open ('test.txt')"
   ]
  },
  {
   "cell_type": "code",
   "execution_count": null,
   "id": "df471555",
   "metadata": {},
   "outputs": [],
   "source": [
    "pwd"
   ]
  },
  {
   "cell_type": "markdown",
   "id": "cb32a48c",
   "metadata": {},
   "source": [
    " Puedo usar **pwd** (*print work directory*) para saber donde está ubicada esta notebook"
   ]
  },
  {
   "cell_type": "code",
   "execution_count": null,
   "id": "b2546a02",
   "metadata": {},
   "outputs": [],
   "source": [
    "test.txt"
   ]
  },
  {
   "cell_type": "code",
   "execution_count": null,
   "id": "b17d72cf",
   "metadata": {},
   "outputs": [],
   "source": [
    "myfile.txt"
   ]
  },
  {
   "cell_type": "code",
   "execution_count": null,
   "id": "06426b96",
   "metadata": {},
   "outputs": [],
   "source": [
    "test = open ('test.txt')"
   ]
  },
  {
   "cell_type": "code",
   "execution_count": null,
   "id": "266459a3",
   "metadata": {},
   "outputs": [],
   "source": [
    "myfile = open('myfile.txt')"
   ]
  },
  {
   "cell_type": "code",
   "execution_count": null,
   "id": "360d60eb",
   "metadata": {},
   "outputs": [],
   "source": [
    "myfile.read()"
   ]
  },
  {
   "cell_type": "markdown",
   "id": "262433ec",
   "metadata": {},
   "source": [
    "Si uso **.read()** me trae todo como una sola string, usando **\\n** para indicar una *nueva linea*"
   ]
  },
  {
   "cell_type": "code",
   "execution_count": null,
   "id": "e9b0e6c9",
   "metadata": {},
   "outputs": [],
   "source": [
    "myfile.read()"
   ]
  },
  {
   "cell_type": "markdown",
   "id": "b9ba460f",
   "metadata": {},
   "source": [
    "Esto pasa porque el \"Cursor\" fue hasta el final del archivo\n",
    "Para resetear eso puedo usar **seek(0)**"
   ]
  },
  {
   "cell_type": "code",
   "execution_count": null,
   "id": "7df5feee",
   "metadata": {},
   "outputs": [],
   "source": [
    "myfile.seek(0)"
   ]
  },
  {
   "cell_type": "code",
   "execution_count": null,
   "id": "f61fedf1",
   "metadata": {},
   "outputs": [],
   "source": [
    "myfile.read()"
   ]
  },
  {
   "cell_type": "code",
   "execution_count": null,
   "id": "285b72b1",
   "metadata": {},
   "outputs": [],
   "source": [
    "myfile.seek(8)"
   ]
  },
  {
   "cell_type": "code",
   "execution_count": null,
   "id": "04219a9a",
   "metadata": {},
   "outputs": [],
   "source": [
    "myfile.read()"
   ]
  },
  {
   "cell_type": "code",
   "execution_count": null,
   "id": "2001a3ab",
   "metadata": {},
   "outputs": [],
   "source": [
    "myfile.seek(0)"
   ]
  },
  {
   "cell_type": "code",
   "execution_count": null,
   "id": "2eb3216c",
   "metadata": {},
   "outputs": [],
   "source": [
    "contents = myfile.read()"
   ]
  },
  {
   "cell_type": "code",
   "execution_count": null,
   "id": "3861b3db",
   "metadata": {},
   "outputs": [],
   "source": [
    "contents"
   ]
  },
  {
   "cell_type": "code",
   "execution_count": null,
   "id": "0e2b7429",
   "metadata": {},
   "outputs": [],
   "source": [
    "myfile.seek(0)"
   ]
  },
  {
   "cell_type": "code",
   "execution_count": null,
   "id": "7b5833b7",
   "metadata": {},
   "outputs": [],
   "source": [
    "myfile.read(4)"
   ]
  },
  {
   "cell_type": "code",
   "execution_count": null,
   "id": "6c3aef1d",
   "metadata": {},
   "outputs": [],
   "source": [
    "myfile.seek(0)"
   ]
  },
  {
   "cell_type": "code",
   "execution_count": null,
   "id": "355d7ea2",
   "metadata": {},
   "outputs": [],
   "source": [
    "myfile.read(:4)"
   ]
  },
  {
   "cell_type": "code",
   "execution_count": null,
   "id": "a0e23621",
   "metadata": {},
   "outputs": [],
   "source": [
    "myfile.seek(0)"
   ]
  },
  {
   "cell_type": "code",
   "execution_count": null,
   "id": "bdf63acc",
   "metadata": {},
   "outputs": [],
   "source": [
    "myfile.read([:4])"
   ]
  },
  {
   "cell_type": "code",
   "execution_count": null,
   "id": "fa14437d",
   "metadata": {},
   "outputs": [],
   "source": [
    "myfile.read()"
   ]
  },
  {
   "cell_type": "code",
   "execution_count": null,
   "id": "3c88c116",
   "metadata": {},
   "outputs": [],
   "source": [
    "myfile.seek(0)"
   ]
  },
  {
   "cell_type": "code",
   "execution_count": null,
   "id": "d309962b",
   "metadata": {},
   "outputs": [],
   "source": [
    "myfile.readlines()"
   ]
  },
  {
   "cell_type": "code",
   "execution_count": null,
   "id": "e7988357",
   "metadata": {},
   "outputs": [],
   "source": [
    "myfile = open('C:\\\\Users\\\\Gin\\\\Desktop\\\\PYTHON\\\\Python - Zero-2-Hero\\\\test.txt')"
   ]
  },
  {
   "cell_type": "markdown",
   "id": "7ef4a109",
   "metadata": {},
   "source": [
    "\n",
    "**Best Practice** Hay que cerrar el archivo que abrimos cuando termino de usarlo. Se usa **.close()**"
   ]
  },
  {
   "cell_type": "code",
   "execution_count": null,
   "id": "85362b52",
   "metadata": {},
   "outputs": [],
   "source": [
    "myfile.close()"
   ]
  },
  {
   "cell_type": "code",
   "execution_count": null,
   "id": "1823e18c",
   "metadata": {},
   "outputs": [],
   "source": [
    "test.close()"
   ]
  },
  {
   "cell_type": "code",
   "execution_count": null,
   "id": "2dcc29bc",
   "metadata": {},
   "outputs": [],
   "source": [
    "myfile = open (myfile.txt)"
   ]
  },
  {
   "cell_type": "code",
   "execution_count": null,
   "id": "1b549324",
   "metadata": {},
   "outputs": [],
   "source": [
    "myfile = open('myfile.txt')"
   ]
  },
  {
   "cell_type": "code",
   "execution_count": null,
   "id": "a558b8e5",
   "metadata": {},
   "outputs": [],
   "source": [
    "myfile.close()"
   ]
  },
  {
   "cell_type": "markdown",
   "id": "055bcd57",
   "metadata": {},
   "source": [
    "\n",
    "Puedo abrirlo como uno nuevo usando **with** antes de open('myfile.txt') **as** my_new_file:\n",
    "\n",
    "    <- Esto genera un \"indented\" block of code que va dentro my_new_file en lugar de myfile"
   ]
  },
  {
   "cell_type": "code",
   "execution_count": null,
   "id": "c2922f18",
   "metadata": {},
   "outputs": [],
   "source": [
    "with open ('myfile.txt') as my_new_file:\n",
    "    contents = my_new_file.read()"
   ]
  },
  {
   "cell_type": "code",
   "execution_count": null,
   "id": "a82177f6",
   "metadata": {},
   "outputs": [],
   "source": [
    "contents"
   ]
  },
  {
   "cell_type": "markdown",
   "id": "967498e1",
   "metadata": {},
   "source": [
    "\n",
    "Para escribir puedo usar **with open('myfile.text',)** al agregar la coma voy con el cursor al espacio entre **(** y **'** , luedo de **open** y hago **shift + tab** para opciones y revisar con que mode quiero abrirlo indicandolo luego de la coma:\n",
    "\n",
    "   **with open('myfile.text',mode='r'** para read"
   ]
  },
  {
   "cell_type": "code",
   "execution_count": null,
   "id": "1a2631a4",
   "metadata": {},
   "outputs": [],
   "source": [
    "with open('myfile.txt',mode='r') as myfile:\n",
    "    contents = myfile.read()"
   ]
  },
  {
   "cell_type": "code",
   "execution_count": null,
   "id": "a3e27055",
   "metadata": {},
   "outputs": [],
   "source": [
    "with open('myfile.txt',mode='w') as myfile:\n",
    "    contents = myfile.read()"
   ]
  },
  {
   "cell_type": "markdown",
   "id": "9dbf3309",
   "metadata": {},
   "source": [
    "Dependiendo del modo que elijo tal vez no puedo hacer lo que quiero, ej: si lo abro para escribir no lo puedo usar para leer\n",
    "\n",
    "...because of permissions"
   ]
  },
  {
   "cell_type": "code",
   "execution_count": null,
   "id": "f960f376",
   "metadata": {},
   "outputs": [],
   "source": [
    "with open('myfile.txt',mode='a') as myfile:\n",
    "    contents = myfile.read()"
   ]
  },
  {
   "cell_type": "markdown",
   "id": "ba4e151e",
   "metadata": {},
   "source": [
    "**Reading, Writing and Appending Modes**"
   ]
  },
  {
   "cell_type": "markdown",
   "id": "3cb7fdd1",
   "metadata": {},
   "source": [
    "**· mode='r'**       open for reading only (default)\n",
    "\n",
    "**· mode='w'**       open for writing only (will overwrite files or create new!)\n",
    "\n",
    "**· mode='a'**       open for appending only (will add on to files)\n",
    "\n",
    "**· mode='r+'**      is reading and writing\n",
    "\n",
    "**· mode='w+'**      is writing and read (Overwrites existing files or creates a new file!)\n",
    "\n",
    "\n",
    "\n",
    "Tambien:\n",
    "'x'       create a new file and open it for writing\n",
    "'b'       binary mode\n",
    "'t'       text mode (default)\n",
    "'+'       open a disk file for updating (reading and writing)\n",
    "'U'       universal newline mode (deprecated)\n"
   ]
  },
  {
   "cell_type": "code",
   "execution_count": null,
   "id": "31ed6c4a",
   "metadata": {},
   "outputs": [],
   "source": [
    "%%writefile my_new_file.txt\n",
    "ONE ON FIRST\n",
    "TWO ON SECOND\n",
    "THREE ON THIRD"
   ]
  },
  {
   "cell_type": "code",
   "execution_count": null,
   "id": "fba57faa",
   "metadata": {},
   "outputs": [],
   "source": [
    "with open('my_new_file.txt',mode='r') as f:\n",
    "    print(f.read())"
   ]
  },
  {
   "cell_type": "code",
   "execution_count": null,
   "id": "9ab8f03c",
   "metadata": {},
   "outputs": [],
   "source": [
    "with open('my_new_file.txt',mode='a') as f:\n",
    "    f.write('FOUR ON FOURTH')"
   ]
  },
  {
   "cell_type": "code",
   "execution_count": null,
   "id": "ef40eeff",
   "metadata": {},
   "outputs": [],
   "source": [
    "with open('my_new_file.txt',mode='r') as f:\n",
    "    print(f.read())"
   ]
  },
  {
   "cell_type": "code",
   "execution_count": null,
   "id": "75626851",
   "metadata": {},
   "outputs": [],
   "source": [
    "with open('asdfghjkl.txt', mode='w') as f:\n",
    "    f.write('I CREATED THIS FILE!')"
   ]
  },
  {
   "cell_type": "code",
   "execution_count": null,
   "id": "eb45fc43",
   "metadata": {},
   "outputs": [],
   "source": [
    "with open('asdfghjkl.txt', mode='r') as f:\n",
    "    print(f.read())"
   ]
  },
  {
   "cell_type": "markdown",
   "id": "fa5c2cfa",
   "metadata": {},
   "source": [
    "# Comparison Operators \n",
    "\n",
    "In this lecture we will be learning about Comparison Operators in Python. These operators will allow us to compare variables and output a Boolean value (True or False). \n",
    "\n",
    "If you have any sort of background in Math, these operators should be very straight forward.\n",
    "\n",
    "First we'll present a table of the comparison operators and then work through some examples:\n",
    "\n",
    "<h2> Table of Comparison Operators </h2><p>  In the table below, a=3 and b=4.</p>\n",
    "\n",
    "<table class=\"table table-bordered\">\n",
    "<tr>\n",
    "<th style=\"width:10%\">Operator</th><th style=\"width:45%\">Description</th><th>Example</th>\n",
    "</tr>\n",
    "<tr>\n",
    "<td>==</td>\n",
    "<td>If the values of two operands are equal, then the condition becomes true.</td>\n",
    "<td> (a == b) is not true.</td>\n",
    "</tr>\n",
    "<tr>\n",
    "<td>!=</td>\n",
    "<td>If values of two operands are not equal, then condition becomes true.</td>\n",
    "<td>(a != b) is true</td>\n",
    "</tr>\n",
    "<tr>\n",
    "<td>&gt;</td>\n",
    "<td>If the value of left operand is greater than the value of right operand, then condition becomes true.</td>\n",
    "<td> (a &gt; b) is not true.</td>\n",
    "</tr>\n",
    "<tr>\n",
    "<td>&lt;</td>\n",
    "<td>If the value of left operand is less than the value of right operand, then condition becomes true.</td>\n",
    "<td> (a &lt; b) is true.</td>\n",
    "</tr>\n",
    "<tr>\n",
    "<td>&gt;=</td>\n",
    "<td>If the value of left operand is greater than or equal to the value of right operand, then condition becomes true.</td>\n",
    "<td> (a &gt;= b) is not true. </td>\n",
    "</tr>\n",
    "<tr>\n",
    "<td>&lt;=</td>\n",
    "<td>If the value of left operand is less than or equal to the value of right operand, then condition becomes true.</td>\n",
    "<td> (a &lt;= b) is true. </td>\n",
    "</tr>\n",
    "</table>"
   ]
  },
  {
   "cell_type": "code",
   "execution_count": null,
   "id": "0ba5e97a",
   "metadata": {},
   "outputs": [],
   "source": [
    "2 == 2"
   ]
  },
  {
   "cell_type": "code",
   "execution_count": null,
   "id": "4cbae667",
   "metadata": {},
   "outputs": [],
   "source": [
    "1 == 2"
   ]
  },
  {
   "cell_type": "code",
   "execution_count": null,
   "id": "d9de68b3",
   "metadata": {},
   "outputs": [],
   "source": [
    "'hello' == 'bye'"
   ]
  },
  {
   "cell_type": "code",
   "execution_count": null,
   "id": "1bcca4e3",
   "metadata": {},
   "outputs": [],
   "source": [
    "'Bye' == 'bye'"
   ]
  },
  {
   "cell_type": "code",
   "execution_count": null,
   "id": "bc6c38df",
   "metadata": {},
   "outputs": [],
   "source": [
    "2.0 == 2"
   ]
  },
  {
   "cell_type": "code",
   "execution_count": null,
   "id": "41bf66af",
   "metadata": {},
   "outputs": [],
   "source": [
    "2 == '2'"
   ]
  },
  {
   "cell_type": "code",
   "execution_count": null,
   "id": "43b63661",
   "metadata": {},
   "outputs": [],
   "source": [
    "3 != 3"
   ]
  },
  {
   "cell_type": "code",
   "execution_count": null,
   "id": "9a4b7f3b",
   "metadata": {},
   "outputs": [],
   "source": [
    "4 != 5"
   ]
  },
  {
   "cell_type": "code",
   "execution_count": null,
   "id": "95eaadfd",
   "metadata": {},
   "outputs": [],
   "source": [
    "2 < 1"
   ]
  },
  {
   "cell_type": "code",
   "execution_count": null,
   "id": "54d071fa",
   "metadata": {},
   "outputs": [],
   "source": [
    "2 > 1"
   ]
  },
  {
   "cell_type": "code",
   "execution_count": null,
   "id": "fec167fe",
   "metadata": {},
   "outputs": [],
   "source": [
    "2 <= 2"
   ]
  },
  {
   "cell_type": "code",
   "execution_count": null,
   "id": "be107590",
   "metadata": {},
   "outputs": [],
   "source": [
    "3 <= 2"
   ]
  },
  {
   "cell_type": "code",
   "execution_count": null,
   "id": "1677afd4",
   "metadata": {},
   "outputs": [],
   "source": [
    "1 <= 2"
   ]
  },
  {
   "cell_type": "code",
   "execution_count": null,
   "id": "4252422b",
   "metadata": {},
   "outputs": [],
   "source": [
    "4 >= 3"
   ]
  },
  {
   "cell_type": "markdown",
   "id": "3c07f5b9",
   "metadata": {},
   "source": [
    "**Chaining comaparison operators**\n",
    "\n",
    "**and**\n",
    "\n",
    "**or**\n",
    "\n",
    "**not** brings the opposite bool of the comparison (if it 1 == 1 is True, \"not 1==1\" brings False)"
   ]
  },
  {
   "cell_type": "code",
   "execution_count": null,
   "id": "454fa614",
   "metadata": {},
   "outputs": [],
   "source": [
    "1 < 2 < 3"
   ]
  },
  {
   "cell_type": "code",
   "execution_count": null,
   "id": "c63a0dd2",
   "metadata": {},
   "outputs": [],
   "source": [
    "1 < 2 > 3"
   ]
  },
  {
   "cell_type": "code",
   "execution_count": null,
   "id": "69e72fb7",
   "metadata": {},
   "outputs": [],
   "source": [
    "1 < 2 and 3 >= 3"
   ]
  },
  {
   "cell_type": "code",
   "execution_count": null,
   "id": "43bc5774",
   "metadata": {},
   "outputs": [],
   "source": [
    "2 > 1 or 4 == 5"
   ]
  },
  {
   "cell_type": "code",
   "execution_count": null,
   "id": "2eec9838",
   "metadata": {},
   "outputs": [],
   "source": [
    "'hello' == 'hello' or 1 == 1"
   ]
  },
  {
   "cell_type": "code",
   "execution_count": null,
   "id": "55d6f447",
   "metadata": {},
   "outputs": [],
   "source": [
    "'hello' != 'hello' or 1 == 2"
   ]
  },
  {
   "cell_type": "code",
   "execution_count": null,
   "id": "bce13a2b",
   "metadata": {},
   "outputs": [],
   "source": [
    "1 == 1"
   ]
  },
  {
   "cell_type": "code",
   "execution_count": null,
   "id": "007a08cd",
   "metadata": {},
   "outputs": [],
   "source": [
    "not (1==1)"
   ]
  },
  {
   "cell_type": "code",
   "execution_count": null,
   "id": "38ab536b",
   "metadata": {},
   "outputs": [],
   "source": [
    "not 1==1"
   ]
  },
  {
   "cell_type": "code",
   "execution_count": null,
   "id": "78b4165d",
   "metadata": {},
   "outputs": [],
   "source": [
    "123 == 5"
   ]
  },
  {
   "cell_type": "code",
   "execution_count": null,
   "id": "18129034",
   "metadata": {},
   "outputs": [],
   "source": [
    "not 123 == 5"
   ]
  },
  {
   "cell_type": "markdown",
   "id": "5e5f2197",
   "metadata": {},
   "source": [
    "# if, elif, else Statements\n",
    "\n",
    "<code>if</code> Statements in Python allows us to tell the computer to perform alternative actions based on a certain set of results.\n",
    "\n",
    "Verbally, we can imagine we are telling the computer:\n",
    "\n",
    "\"Hey if this case happens, perform some action\"\n",
    "\n",
    "We can then expand the idea further with <code>elif</code> and <code>else</code> statements, which allow us to tell the computer:\n",
    "\n",
    "\"Hey if this case happens, perform some action. Else, if another case happens, perform some other action. Else, if *none* of the above cases happened, perform this action.\"\n",
    "\n",
    "Let's go ahead and look at the syntax format for <code>if</code> statements to get a better idea of this:\n",
    "\n",
    "    if case1:\n",
    "        perform action1\n",
    "    elif case2:\n",
    "        perform action2\n",
    "    else: \n",
    "        perform action3"
   ]
  },
  {
   "cell_type": "code",
   "execution_count": null,
   "id": "0bf612b1",
   "metadata": {},
   "outputs": [],
   "source": [
    "if True:\n",
    "    print ('ITS TRUE')"
   ]
  },
  {
   "cell_type": "code",
   "execution_count": null,
   "id": "5f94e9f7",
   "metadata": {},
   "outputs": [],
   "source": [
    "if 3<4:\n",
    "    print ('ITS TRUE')"
   ]
  },
  {
   "cell_type": "code",
   "execution_count": null,
   "id": "adab0f66",
   "metadata": {},
   "outputs": [],
   "source": [
    "hungry = True\n",
    "if hungry:\n",
    "    print('Feed me!')"
   ]
  },
  {
   "cell_type": "code",
   "execution_count": null,
   "id": "b516595b",
   "metadata": {},
   "outputs": [],
   "source": [
    "hungry = False\n",
    "if hungry:\n",
    "    print('Feed me!')\n",
    "else:\n",
    "    print('Im not hungry')"
   ]
  },
  {
   "cell_type": "code",
   "execution_count": null,
   "id": "73086a9d",
   "metadata": {},
   "outputs": [],
   "source": [
    "loc = 'Bank'\n",
    "\n",
    "if loc == 'Auto Shop':\n",
    "    print ('Cars are cool!')\n",
    "else:\n",
    "    print ('I dont know munch')"
   ]
  },
  {
   "cell_type": "code",
   "execution_count": null,
   "id": "c51608a3",
   "metadata": {},
   "outputs": [],
   "source": [
    "loc = 'Game'\n",
    "\n",
    "if loc == 'Auto Shop':\n",
    "    print ('Cars are cool!')\n",
    "elif loc == 'bank':\n",
    "    print ('Money is cool!')\n",
    "elif loc =='Store':\n",
    "    print ('Welcome to the store!')\n",
    "else:\n",
    "    print ('I dont know much')"
   ]
  },
  {
   "cell_type": "code",
   "execution_count": null,
   "id": "bfcd41be",
   "metadata": {},
   "outputs": [],
   "source": [
    "name = 'Ramirez'\n",
    "\n",
    "if name == 'Frankie':\n",
    "    print ('Hello Frankie')\n",
    "elif name == 'Sammy':\n",
    "    print ('Good day Sammy')\n",
    "else:\n",
    "    print(('Wellmet ')+name)"
   ]
  },
  {
   "cell_type": "markdown",
   "id": "3edd63b1",
   "metadata": {},
   "source": [
    "# for Loops\n",
    "\n",
    "A <code>for</code> loop acts as an iterator in Python; it goes through items that are in a *sequence* or any other iterable item. Objects that we've learned about that we can iterate over include strings, lists, tuples, and even built-in iterables for dictionaries, such as keys or values.\n",
    "\n",
    "We've already seen the <code>for</code> statement a little bit in past lectures but now let's formalize our understanding.\n",
    "\n",
    "Here's the general format for a <code>for</code> loop in Python:\n",
    "\n",
    "    for item in object:\n",
    "        statements to do stuff\n",
    "    "
   ]
  },
  {
   "cell_type": "markdown",
   "id": "06eb7799",
   "metadata": {},
   "source": [
    "The variable name used for the item is completely up to the coder, so use your best judgment for choosing a name that makes sense and you will be able to understand when revisiting your code. This item name can then be referenced inside your loop, for example if you wanted to use <code>if</code> statements to perform checks.\n",
    "\n",
    "Let's go ahead and work through several example of <code>for</code> loops using a variety of data object types. We'll start simple and build more complexity later on.\n",
    "\n",
    "## Example 1\n",
    "Iterating through a list"
   ]
  },
  {
   "cell_type": "code",
   "execution_count": null,
   "id": "20e16e31",
   "metadata": {},
   "outputs": [],
   "source": [
    "my_pets = ['Coco', 'Leeloo', 'Hermes']\n",
    "for pet_name in my_pets:\n",
    "    print (pet_name)"
   ]
  },
  {
   "cell_type": "code",
   "execution_count": null,
   "id": "a6171847",
   "metadata": {},
   "outputs": [],
   "source": [
    "mylist = [1,2,3,4,5,6,7,8,9,10]"
   ]
  },
  {
   "cell_type": "code",
   "execution_count": null,
   "id": "ac934c89",
   "metadata": {},
   "outputs": [],
   "source": [
    "for number in mylist:\n",
    "    print(number)\n",
    "    \n",
    "    # ponerle \"number\" puede ser cualquier variable name, pero va a representar cada nùmero dentro de esa lista."
   ]
  },
  {
   "cell_type": "code",
   "execution_count": null,
   "id": "f9d8b588",
   "metadata": {},
   "outputs": [],
   "source": [
    "for number in mylist:\n",
    "    print('Hello')"
   ]
  },
  {
   "cell_type": "code",
   "execution_count": null,
   "id": "bdcffc7c",
   "metadata": {},
   "outputs": [],
   "source": [
    "for number in mylist:\n",
    "    # Check for even\n",
    "    if number % 2 == 0:\n",
    "        print (number)\n",
    "    else:\n",
    "        print (f'Odd Number: {number}')"
   ]
  },
  {
   "cell_type": "code",
   "execution_count": null,
   "id": "d3cab31f",
   "metadata": {},
   "outputs": [],
   "source": [
    "list_sum = 0\n",
    "\n",
    "for number in mylist:\n",
    "    list_sum = list_sum + number\n",
    "\n",
    "print(list_sum)"
   ]
  },
  {
   "cell_type": "code",
   "execution_count": null,
   "id": "1ff416ce",
   "metadata": {},
   "outputs": [],
   "source": [
    "list_sum = 0\n",
    "\n",
    "for number in mylist:\n",
    "    list_sum = list_sum + number\n",
    "\n",
    "    print(list_sum)"
   ]
  },
  {
   "cell_type": "code",
   "execution_count": null,
   "id": "fa9dd451",
   "metadata": {},
   "outputs": [],
   "source": [
    "mystring = 'Praise the Omnissiah!'\n",
    "for letter in mystring:\n",
    "    print (letter)"
   ]
  },
  {
   "cell_type": "code",
   "execution_count": null,
   "id": "bb29e98e",
   "metadata": {},
   "outputs": [],
   "source": [
    "\n",
    "for asdf in 'Bubulele':\n",
    "    print (asdf)"
   ]
  },
  {
   "cell_type": "code",
   "execution_count": null,
   "id": "257b2364",
   "metadata": {},
   "outputs": [],
   "source": [
    "#algunos usan el underscore/guiòn bajo _ para indicar en la función un iterable que no piensa usar luego, y no se gastan en ponerle un nombre acorde\n",
    "for _ in 'Bubulele':\n",
    "    print ('Cool!')"
   ]
  },
  {
   "cell_type": "code",
   "execution_count": null,
   "id": "dfea95aa",
   "metadata": {},
   "outputs": [],
   "source": [
    "tup = (1,2,3)\n",
    "\n",
    "for item in tup:\n",
    "    print (item)"
   ]
  },
  {
   "cell_type": "markdown",
   "id": "2233b399",
   "metadata": {},
   "source": [
    "**Tuples** have a special quality when it comes to for loops. If you are iterating through a sequence that contains tuples, *the item can actually be the tuple itself*, this is an example of **tuple unpacking**. During the for loop we will be unpacking the tuple inside of a sequence and we can access the individual items inside that tuple!"
   ]
  },
  {
   "cell_type": "code",
   "execution_count": null,
   "id": "0ceaa9bb",
   "metadata": {},
   "outputs": [],
   "source": [
    "mylist = [(1,2), (3,4), (5,6), (7,8)]"
   ]
  },
  {
   "cell_type": "code",
   "execution_count": null,
   "id": "ab6aaf71",
   "metadata": {},
   "outputs": [],
   "source": [
    "len (mylist)"
   ]
  },
  {
   "cell_type": "code",
   "execution_count": null,
   "id": "0e5da3ea",
   "metadata": {},
   "outputs": [],
   "source": [
    "for item in mylist:\n",
    "    print(item)"
   ]
  },
  {
   "cell_type": "code",
   "execution_count": null,
   "id": "a660d0e8",
   "metadata": {},
   "outputs": [],
   "source": [
    "for (a,b) in mylist:\n",
    "    print(a)\n",
    "    print(b)"
   ]
  },
  {
   "cell_type": "markdown",
   "id": "24ef1508",
   "metadata": {},
   "source": [
    "Duplicas las estructura de los items dentro de la secuencia para el unpacking"
   ]
  },
  {
   "cell_type": "code",
   "execution_count": null,
   "id": "6c25e89a",
   "metadata": {},
   "outputs": [],
   "source": [
    "for a,b in mylist:\n",
    "    print(a)"
   ]
  },
  {
   "cell_type": "markdown",
   "id": "0f13f34b",
   "metadata": {},
   "source": [
    "De hecho no necesita los ()"
   ]
  },
  {
   "cell_type": "code",
   "execution_count": null,
   "id": "576905dc",
   "metadata": {},
   "outputs": [],
   "source": [
    "x = 'sun'\n",
    "y = 777\n",
    "z = 4.5\n",
    "mylist = [(1,2,3),(x,y,z),('alpha','beta', 'gamma')]"
   ]
  },
  {
   "cell_type": "code",
   "execution_count": null,
   "id": "5bc114b9",
   "metadata": {},
   "outputs": [],
   "source": [
    "for a,b,c in mylist:\n",
    "    print(a)\n",
    "    print(b)\n",
    "    print(c)"
   ]
  },
  {
   "cell_type": "code",
   "execution_count": null,
   "id": "e798cb3e",
   "metadata": {},
   "outputs": [],
   "source": [
    "d = {'k1':1, 'k2':2, 'k3':3}\n",
    "\n",
    "for item in d:\n",
    "    print (item)"
   ]
  },
  {
   "cell_type": "code",
   "execution_count": null,
   "id": "5c78276e",
   "metadata": {},
   "outputs": [],
   "source": [
    "d = {'k1':1, 'k2':2, 'k1':3}\n",
    "\n",
    "for item in d:\n",
    "    print (item)"
   ]
  },
  {
   "cell_type": "code",
   "execution_count": null,
   "id": "b9955978",
   "metadata": {},
   "outputs": [],
   "source": [
    "mylist = [1,2,32,13,2,1,4,1,2,3,3]\n",
    "for number in mylist:\n",
    "    print(number)"
   ]
  },
  {
   "cell_type": "code",
   "execution_count": null,
   "id": "667a7914",
   "metadata": {},
   "outputs": [],
   "source": [
    "d = {'k1':1, 'k2':2, 'k3':3}\n",
    "\n",
    "for item in d.items():\n",
    "    print (item)"
   ]
  },
  {
   "cell_type": "code",
   "execution_count": null,
   "id": "c82d1903",
   "metadata": {},
   "outputs": [],
   "source": [
    "d = {'k1':1, 'k2':2, 'k3':3}\n",
    "\n",
    "for key,value in d.items():\n",
    "    print (value)"
   ]
  },
  {
   "cell_type": "markdown",
   "id": "f9541139",
   "metadata": {},
   "source": [
    "As dictionaries and unordered, when a iterate there is no guarantee that it will return the values in the same order they where introduced to the dictionary."
   ]
  },
  {
   "cell_type": "code",
   "execution_count": null,
   "id": "a320f606",
   "metadata": {},
   "outputs": [],
   "source": [
    "#"
   ]
  },
  {
   "cell_type": "markdown",
   "id": "51f2c4d4",
   "metadata": {},
   "source": [
    "# while Loops\n",
    "\n",
    "The <code>while</code> statement in Python is one of most general ways to perform iteration. A <code>while</code> statement will repeatedly execute a single statement or group of statements as long as the condition is true. The reason it is called a 'loop' is because the code statements are looped through over and over again until the condition is no longer met.\n",
    "\n",
    "The general format of a while loop is:\n",
    "\n",
    "    while test:\n",
    "        code statements\n",
    "    else:\n",
    "        final code statements\n",
    "\n",
    "Let’s look at a few simple <code>while</code> loops in action. "
   ]
  },
  {
   "cell_type": "markdown",
   "id": "65295e34",
   "metadata": {},
   "source": [
    "# break, continue, pass\n",
    "\n",
    "We can use <code>break</code>, <code>continue</code>, and <code>pass</code> statements in our loops to add additional functionality for various cases. The three statements are defined by:\n",
    "\n",
    "    break: Breaks out of the current closest enclosing loop.\n",
    "    continue: Goes to the top of the closest enclosing loop.\n",
    "    pass: Does nothing at all.\n",
    "    \n",
    "    \n",
    "Thinking about <code>break</code> and <code>continue</code> statements, the general format of the <code>while</code> loop looks like this:\n",
    "\n",
    "    while test: \n",
    "        code statement\n",
    "        if test: \n",
    "            break\n",
    "        if test: \n",
    "            continue \n",
    "    else:\n",
    "\n",
    "<code>break</code> and <code>continue</code> statements can appear anywhere inside the loop’s body, but we will usually put them further nested in conjunction with an <code>if</code> statement to perform an action based on some condition."
   ]
  },
  {
   "cell_type": "code",
   "execution_count": null,
   "id": "ed8a9e2f",
   "metadata": {},
   "outputs": [],
   "source": [
    "x = 0\n",
    "\n",
    "while x < 5:\n",
    "    print(f'The current value of x is {x}')\n",
    "    x = x + 1 #can also write \"x += 1\""
   ]
  },
  {
   "cell_type": "code",
   "execution_count": null,
   "id": "7f4d8642",
   "metadata": {},
   "outputs": [],
   "source": [
    "x = 0\n",
    "\n",
    "while x < 5:\n",
    "    print(f'The current value of x is {x}')\n",
    "    x += 1\n",
    "\n",
    "else:\n",
    "    print ('X is not less than 5')"
   ]
  },
  {
   "cell_type": "code",
   "execution_count": null,
   "id": "6e3be55f",
   "metadata": {},
   "outputs": [],
   "source": [
    "x = (1,2,3)\n",
    "\n",
    "for item in x:\n",
    "    # comment\n",
    "    pass\n",
    "\n",
    "print ('end of my script')"
   ]
  },
  {
   "cell_type": "code",
   "execution_count": null,
   "id": "2f241c61",
   "metadata": {},
   "outputs": [],
   "source": [
    "mystring = 'Sammy'"
   ]
  },
  {
   "cell_type": "code",
   "execution_count": null,
   "id": "50a227e8",
   "metadata": {},
   "outputs": [],
   "source": [
    "for letter in mystring:\n",
    "    print (letter)"
   ]
  },
  {
   "cell_type": "code",
   "execution_count": null,
   "id": "d064d1e3",
   "metadata": {},
   "outputs": [],
   "source": [
    "for letter in mystring:\n",
    "    if letter == 'a':\n",
    "        continue\n",
    "    print (letter)"
   ]
  },
  {
   "cell_type": "code",
   "execution_count": null,
   "id": "63812baa",
   "metadata": {},
   "outputs": [],
   "source": [
    "for letter in mystring:\n",
    "    if letter == 'a':\n",
    "        break\n",
    "    print (letter)"
   ]
  },
  {
   "cell_type": "code",
   "execution_count": null,
   "id": "97922491",
   "metadata": {},
   "outputs": [],
   "source": [
    "for letter in mystring:\n",
    "    if letter == 'a':\n",
    "        pass\n",
    "    print (letter)"
   ]
  },
  {
   "cell_type": "code",
   "execution_count": null,
   "id": "37da8d31",
   "metadata": {},
   "outputs": [],
   "source": [
    "x = 0\n",
    "\n",
    "while x < 5:\n",
    "    print (x)\n",
    "    x += 1"
   ]
  },
  {
   "cell_type": "code",
   "execution_count": null,
   "id": "87cbf5ee",
   "metadata": {},
   "outputs": [],
   "source": [
    "x = 0\n",
    "\n",
    "while x < 9:\n",
    "    if x == 2:\n",
    "        break\n",
    "    print(x)\n",
    "    x += 1"
   ]
  },
  {
   "cell_type": "code",
   "execution_count": null,
   "id": "bad9a83f",
   "metadata": {},
   "outputs": [],
   "source": [
    "#\n"
   ]
  },
  {
   "cell_type": "markdown",
   "id": "33d449f9",
   "metadata": {},
   "source": [
    "# Useful Operators\n",
    "\n",
    "There are a few built-in functions and \"operators\" in Python that don't fit well into any category, so we will go over them in this lecture, let's begin!"
   ]
  },
  {
   "cell_type": "markdown",
   "id": "d2a6f576",
   "metadata": {},
   "source": [
    "## range\n",
    "\n",
    "The range function allows you to quickly *generate* a list of integers, this comes in handy a lot, so take note of how to use it! There are 3 parameters you can pass, a start, a stop, and a step size. Let's see some examples:"
   ]
  },
  {
   "cell_type": "code",
   "execution_count": null,
   "id": "0bf310a7",
   "metadata": {},
   "outputs": [],
   "source": [
    "mylist = [1,2,3]"
   ]
  },
  {
   "cell_type": "code",
   "execution_count": null,
   "id": "4aa4b478",
   "metadata": {},
   "outputs": [],
   "source": [
    "for num in range(3,10):\n",
    "    print (num)"
   ]
  },
  {
   "cell_type": "code",
   "execution_count": null,
   "id": "82779520",
   "metadata": {},
   "outputs": [],
   "source": [
    "for num in range(3,10, 2):\n",
    "    print (num)"
   ]
  },
  {
   "cell_type": "code",
   "execution_count": null,
   "id": "db767eab",
   "metadata": {},
   "outputs": [],
   "source": [
    "for num in range(10):\n",
    "    print (num)"
   ]
  },
  {
   "cell_type": "code",
   "execution_count": null,
   "id": "d9394cfa",
   "metadata": {},
   "outputs": [],
   "source": [
    "range (10)"
   ]
  },
  {
   "cell_type": "code",
   "execution_count": null,
   "id": "e720cb7e",
   "metadata": {},
   "outputs": [],
   "source": [
    "list(range(0,11,2))"
   ]
  },
  {
   "cell_type": "markdown",
   "id": "962eef2f",
   "metadata": {},
   "source": [
    "## enumerate\n",
    "\n",
    "enumerate is a very useful function to use with for loops."
   ]
  },
  {
   "cell_type": "code",
   "execution_count": null,
   "id": "d1185f6a",
   "metadata": {},
   "outputs": [],
   "source": [
    "for i,letter in enumerate('abcde'):\n",
    "    print(\"At index {} the letter is {}\".format(i,letter))"
   ]
  },
  {
   "cell_type": "code",
   "execution_count": null,
   "id": "15f949ad",
   "metadata": {},
   "outputs": [],
   "source": [
    "index_count = 0\n",
    "\n",
    "for letter in 'abcde':\n",
    "    print ('At index {} the letter is {}'.format(index_count,letter))\n",
    "    index_count += 1"
   ]
  },
  {
   "cell_type": "code",
   "execution_count": null,
   "id": "2f6cd68a",
   "metadata": {},
   "outputs": [],
   "source": [
    "index_count = 0\n",
    "word = 'abcde'\n",
    "for letter in word:\n",
    "    print (word[index_count])\n",
    "    index_count+=1"
   ]
  },
  {
   "cell_type": "code",
   "execution_count": null,
   "id": "7a8813f3",
   "metadata": {},
   "outputs": [],
   "source": [
    "word = 'abcde'\n",
    "for item in enumerate (word):\n",
    "    print(item)"
   ]
  },
  {
   "cell_type": "raw",
   "id": "f54e3033",
   "metadata": {},
   "source": [
    "regresa un tuple"
   ]
  },
  {
   "cell_type": "code",
   "execution_count": null,
   "id": "de9ee43c",
   "metadata": {},
   "outputs": [],
   "source": [
    "word = 'abcde'\n",
    "for index,letter in enumerate (word):\n",
    "    print(index)\n",
    "    print(letter)\n",
    "    print ('\\n')"
   ]
  },
  {
   "cell_type": "markdown",
   "id": "dc7ef2ab",
   "metadata": {},
   "source": [
    "## zip\n",
    "\n",
    "Notice the format enumerate actually returns, let's take a look by transforming it to a list()"
   ]
  },
  {
   "cell_type": "code",
   "execution_count": null,
   "id": "04926660",
   "metadata": {},
   "outputs": [],
   "source": [
    "list(enumerate('abcde'))"
   ]
  },
  {
   "cell_type": "markdown",
   "id": "e7f5e890",
   "metadata": {},
   "source": [
    "It was a list of tuples, meaning we could use tuple unpacking during our for loop. This data structure is actually very common in Python , especially when working with outside libraries. You can use the zip() function to quickly create a list of tuples by \"zipping\" up together two lists."
   ]
  },
  {
   "cell_type": "code",
   "execution_count": null,
   "id": "ba147bb4",
   "metadata": {},
   "outputs": [],
   "source": [
    "mylist1 = [1,2,3,4,5]"
   ]
  },
  {
   "cell_type": "code",
   "execution_count": null,
   "id": "0bb54fb7",
   "metadata": {},
   "outputs": [],
   "source": [
    "mylist2= ['a', 'b', 'c']"
   ]
  },
  {
   "cell_type": "code",
   "execution_count": null,
   "id": "2e086ca5",
   "metadata": {},
   "outputs": [],
   "source": [
    "zip(mylist1, mylist2)"
   ]
  },
  {
   "cell_type": "code",
   "execution_count": null,
   "id": "a346baf9",
   "metadata": {},
   "outputs": [],
   "source": [
    "for item in zip(mylist1, mylist2):\n",
    "    print(item)"
   ]
  },
  {
   "cell_type": "code",
   "execution_count": null,
   "id": "aa0eb0c6",
   "metadata": {},
   "outputs": [],
   "source": [
    "mylist3 = ['blue', 'red', 'white']\n"
   ]
  },
  {
   "cell_type": "code",
   "execution_count": null,
   "id": "da9ec7aa",
   "metadata": {},
   "outputs": [],
   "source": [
    "for item in zip(mylist1, mylist2, mylist3):\n",
    "    print(item)"
   ]
  },
  {
   "cell_type": "markdown",
   "id": "b909dd37",
   "metadata": {},
   "source": [
    "**It will unify list up to the shortest one**"
   ]
  },
  {
   "cell_type": "code",
   "execution_count": null,
   "id": "5d695a45",
   "metadata": {},
   "outputs": [],
   "source": [
    "list(zip(mylist1, mylist2, mylist3))"
   ]
  },
  {
   "cell_type": "code",
   "execution_count": null,
   "id": "b84fb9f5",
   "metadata": {},
   "outputs": [],
   "source": [
    "for num, let, col in zip(mylist1, mylist2, mylist3):\n",
    "    print (\"I have {} shirt/s with a {} letter {} on it's fornt\".format(num, col, let))"
   ]
  },
  {
   "cell_type": "markdown",
   "id": "ba258b15",
   "metadata": {},
   "source": [
    "\n",
    "## in operator\n",
    "\n",
    "Can use **in** to quickly check if an object is in a list\n",
    "\n",
    "It returns a True or False result"
   ]
  },
  {
   "cell_type": "code",
   "execution_count": null,
   "id": "d86cfe5a",
   "metadata": {},
   "outputs": [],
   "source": [
    "'x' in [1,2,3]"
   ]
  },
  {
   "cell_type": "code",
   "execution_count": null,
   "id": "25b32000",
   "metadata": {},
   "outputs": [],
   "source": [
    "'x' in ('x','y','z') #works with tuples"
   ]
  },
  {
   "cell_type": "code",
   "execution_count": null,
   "id": "7370ad83",
   "metadata": {},
   "outputs": [],
   "source": [
    "'x' in {'a' : 1, 'b' : 'blue' , 'c' : mylist1}"
   ]
  },
  {
   "cell_type": "code",
   "execution_count": null,
   "id": "acbe7cdd",
   "metadata": {},
   "outputs": [],
   "source": [
    "'x' in {'a' : 1, 'x' : 'blue' , 'c' : mylist1} #works with Keys in Dictionaries, not with the Value asociated with that Key unless you use .values()"
   ]
  },
  {
   "cell_type": "code",
   "execution_count": null,
   "id": "52dad5f7",
   "metadata": {},
   "outputs": [],
   "source": [
    "'x' in {'a' : 1, 'b' : 'x' , 'c' : mylist1}"
   ]
  },
  {
   "cell_type": "code",
   "execution_count": null,
   "id": "7bf87214",
   "metadata": {},
   "outputs": [],
   "source": [
    "x = 'whatever'"
   ]
  },
  {
   "cell_type": "code",
   "execution_count": null,
   "id": "af89139a",
   "metadata": {},
   "outputs": [],
   "source": [
    "'x' in {'a' : 1, 'b' : x , 'c' : mylist1}"
   ]
  },
  {
   "cell_type": "code",
   "execution_count": null,
   "id": "2fd649f5",
   "metadata": {},
   "outputs": [],
   "source": [
    "'a' in 'Omnissiah'"
   ]
  },
  {
   "cell_type": "code",
   "execution_count": null,
   "id": "560cd727",
   "metadata": {},
   "outputs": [],
   "source": [
    "d = {'a' : 1, 'b' : 'x' , 'c' : mylist1}\n",
    "'x' in d.values()"
   ]
  },
  {
   "cell_type": "markdown",
   "id": "495c9127",
   "metadata": {},
   "source": [
    "## not in\n",
    "\n",
    "We can combine **in** with a **not** operator, to check if some object or variable is not present in a list.\n"
   ]
  },
  {
   "cell_type": "code",
   "execution_count": null,
   "id": "91bd4da2",
   "metadata": {},
   "outputs": [],
   "source": [
    "'x' not in [1,2,3]"
   ]
  },
  {
   "cell_type": "code",
   "execution_count": null,
   "id": "1b457553",
   "metadata": {},
   "outputs": [],
   "source": [
    "'x' not in ('x','y','z')"
   ]
  },
  {
   "cell_type": "code",
   "execution_count": null,
   "id": "340eb533",
   "metadata": {},
   "outputs": [],
   "source": []
  },
  {
   "cell_type": "markdown",
   "id": "074ad4a7",
   "metadata": {},
   "source": [
    "## min and max\n",
    "\n",
    "Quickly check the minimum or maximum of a list with these functions."
   ]
  },
  {
   "cell_type": "code",
   "execution_count": null,
   "id": "150ab5d3",
   "metadata": {},
   "outputs": [],
   "source": [
    "mylist = [10,200,30,4,100]"
   ]
  },
  {
   "cell_type": "code",
   "execution_count": null,
   "id": "a5388e15",
   "metadata": {},
   "outputs": [],
   "source": [
    "min(mylist)"
   ]
  },
  {
   "cell_type": "code",
   "execution_count": null,
   "id": "90b96706",
   "metadata": {},
   "outputs": [],
   "source": [
    "max(mylist)"
   ]
  },
  {
   "cell_type": "code",
   "execution_count": null,
   "id": "0dac78f3",
   "metadata": {},
   "outputs": [],
   "source": [
    "t = (1,2,3,4,5,9,0)"
   ]
  },
  {
   "cell_type": "code",
   "execution_count": null,
   "id": "9a62bc71",
   "metadata": {},
   "outputs": [],
   "source": [
    "min(t)"
   ]
  },
  {
   "cell_type": "code",
   "execution_count": null,
   "id": "2d1785f3",
   "metadata": {},
   "outputs": [],
   "source": [
    "max(t)"
   ]
  },
  {
   "cell_type": "code",
   "execution_count": null,
   "id": "4bf0fed0",
   "metadata": {},
   "outputs": [],
   "source": [
    "min (d)"
   ]
  },
  {
   "cell_type": "code",
   "execution_count": null,
   "id": "2d11db65",
   "metadata": {},
   "outputs": [],
   "source": [
    "max (d)"
   ]
  },
  {
   "cell_type": "code",
   "execution_count": null,
   "id": "c432f886",
   "metadata": {},
   "outputs": [],
   "source": [
    "d2={'keyZ': '300', 'keyAloha': 43, 'keyFirst': 'a', 'keyMiddle': '1','keyLast' : 'z'}"
   ]
  },
  {
   "cell_type": "code",
   "execution_count": null,
   "id": "8f7256fa",
   "metadata": {},
   "outputs": [],
   "source": [
    "min (d2)"
   ]
  },
  {
   "cell_type": "code",
   "execution_count": null,
   "id": "d9c5b9e9",
   "metadata": {},
   "outputs": [],
   "source": [
    "max (d2)"
   ]
  },
  {
   "cell_type": "code",
   "execution_count": null,
   "id": "d71a1854",
   "metadata": {},
   "outputs": [],
   "source": [
    "d3={'key1': '300', 'zkeyAloha': 43, 'keyFirst': 'a', 'keyMiddle': '1','keyLast' : 'z'}"
   ]
  },
  {
   "cell_type": "code",
   "execution_count": null,
   "id": "a07300bc",
   "metadata": {},
   "outputs": [],
   "source": [
    "min(d3)"
   ]
  },
  {
   "cell_type": "code",
   "execution_count": null,
   "id": "30d14eff",
   "metadata": {},
   "outputs": [],
   "source": [
    "max(d3)"
   ]
  },
  {
   "cell_type": "code",
   "execution_count": null,
   "id": "2f307722",
   "metadata": {},
   "outputs": [],
   "source": [
    "max d2.values()"
   ]
  },
  {
   "cell_type": "code",
   "execution_count": null,
   "id": "9b57d48d",
   "metadata": {},
   "outputs": [],
   "source": []
  },
  {
   "cell_type": "markdown",
   "id": "5c89e6de",
   "metadata": {},
   "source": [
    "## random\n",
    "\n",
    "Python comes with a built in random library. There are a lot of functions included in this random library, so we will only show you two useful functions for now."
   ]
  },
  {
   "cell_type": "code",
   "execution_count": null,
   "id": "30a7f754",
   "metadata": {},
   "outputs": [],
   "source": [
    "from random import shuffle\n",
    "\n",
    "# This shuffles the list \"in-place\" meaning it won't return\n",
    "# anything, instead it will effect the list passed\n",
    "\n",
    "shuffle(mylist1)"
   ]
  },
  {
   "cell_type": "code",
   "execution_count": null,
   "id": "beebe280",
   "metadata": {},
   "outputs": [],
   "source": [
    "mylist1"
   ]
  },
  {
   "cell_type": "code",
   "execution_count": null,
   "id": "a442dc43",
   "metadata": {},
   "outputs": [],
   "source": [
    "shuffle(mylist1)\n",
    "mylist1"
   ]
  },
  {
   "cell_type": "code",
   "execution_count": null,
   "id": "d3f15e57",
   "metadata": {},
   "outputs": [],
   "source": [
    "from random import randint\n",
    "\n",
    "# Return random integer in range [a, b], including both end points.\n",
    "\n",
    "randint(0,100)"
   ]
  },
  {
   "cell_type": "code",
   "execution_count": null,
   "id": "2ae520fe",
   "metadata": {},
   "outputs": [],
   "source": [
    "randint(0,100)"
   ]
  },
  {
   "cell_type": "code",
   "execution_count": null,
   "id": "ff07915a",
   "metadata": {},
   "outputs": [],
   "source": [
    "t = (1,2,3,4,5,6,7,8,9,10)\n",
    "from random import shuffle\n",
    "shuffle(t)"
   ]
  },
  {
   "cell_type": "code",
   "execution_count": null,
   "id": "6aa11a15",
   "metadata": {},
   "outputs": [],
   "source": [
    "mylist_formtuple = [t]"
   ]
  },
  {
   "cell_type": "code",
   "execution_count": null,
   "id": "f25af536",
   "metadata": {},
   "outputs": [],
   "source": [
    "from random import shuffle\n",
    "shuffle(mylist_formtuple)"
   ]
  },
  {
   "cell_type": "code",
   "execution_count": null,
   "id": "a4962e23",
   "metadata": {},
   "outputs": [],
   "source": [
    "mylist_formtuple"
   ]
  },
  {
   "cell_type": "markdown",
   "id": "acf4387b",
   "metadata": {},
   "source": [
    " Shuffle no funciona con Tuples"
   ]
  },
  {
   "cell_type": "code",
   "execution_count": null,
   "id": "0cd3e5ea",
   "metadata": {},
   "outputs": [],
   "source": [
    "from random import randint\n",
    "print ('1d20=',randint(1,20))"
   ]
  },
  {
   "cell_type": "code",
   "execution_count": null,
   "id": "be108ac1",
   "metadata": {},
   "outputs": [],
   "source": [
    "from random import randint\n",
    "print ('3d6=',(randint(1,6))+(randint(1,6))+(randint(1,6)))"
   ]
  },
  {
   "cell_type": "code",
   "execution_count": null,
   "id": "e282d9bf",
   "metadata": {},
   "outputs": [],
   "source": [
    "(randint(1,6))+(randint(1,6))"
   ]
  },
  {
   "cell_type": "code",
   "execution_count": null,
   "id": "1418aee7",
   "metadata": {},
   "outputs": [],
   "source": [
    "dicepool = 10\n",
    "roll = []\n",
    "roll.append((randint(1,10))*dicepool)\n",
    "roll"
   ]
  },
  {
   "cell_type": "code",
   "execution_count": null,
   "id": "bcd4c97c",
   "metadata": {},
   "outputs": [],
   "source": [
    "dicepool = 7\n",
    "roll = []\n",
    "roll.append((randint(1,10))*dicepool)\n",
    "roll"
   ]
  },
  {
   "cell_type": "code",
   "execution_count": null,
   "id": "b700e6ed",
   "metadata": {},
   "outputs": [],
   "source": [
    "dicepool = 7\n",
    "roll = []\n",
    "roll.append((randint(1,10))*dicepool)\n",
    "roll"
   ]
  },
  {
   "cell_type": "code",
   "execution_count": null,
   "id": "c6745769",
   "metadata": {},
   "outputs": [],
   "source": [
    "myroll = roll"
   ]
  },
  {
   "cell_type": "code",
   "execution_count": null,
   "id": "ce254874",
   "metadata": {},
   "outputs": [],
   "source": [
    "myroll"
   ]
  },
  {
   "cell_type": "markdown",
   "id": "e5e4f820",
   "metadata": {},
   "source": [
    "## input"
   ]
  },
  {
   "cell_type": "code",
   "execution_count": null,
   "id": "505936c0",
   "metadata": {},
   "outputs": [],
   "source": [
    "input ('Box to type things: ')"
   ]
  },
  {
   "cell_type": "markdown",
   "id": "d27fa066",
   "metadata": {},
   "source": [
    "Always returns a string, even it the input in the box was a number (it won't recognize it an integer)"
   ]
  },
  {
   "cell_type": "code",
   "execution_count": null,
   "id": "42416daa",
   "metadata": {},
   "outputs": [],
   "source": [
    "dicepool = input (\"What's your dice pool?\")"
   ]
  },
  {
   "cell_type": "code",
   "execution_count": null,
   "id": "f3b2f38c",
   "metadata": {},
   "outputs": [],
   "source": [
    "\n",
    "roll = []\n",
    "roll.append((randint(1,10))*dicepool)\n",
    "roll"
   ]
  },
  {
   "cell_type": "code",
   "execution_count": null,
   "id": "87438095",
   "metadata": {},
   "outputs": [],
   "source": [
    "dicepool = input (\"What's your dice pool?\")"
   ]
  },
  {
   "cell_type": "code",
   "execution_count": null,
   "id": "68cb78fc",
   "metadata": {},
   "outputs": [],
   "source": [
    "type(dicepool)\n"
   ]
  },
  {
   "cell_type": "code",
   "execution_count": null,
   "id": "41b1f256",
   "metadata": {},
   "outputs": [],
   "source": [
    "float(dicepool)"
   ]
  },
  {
   "cell_type": "code",
   "execution_count": null,
   "id": "6f3db494",
   "metadata": {},
   "outputs": [],
   "source": [
    "int(dicepool)"
   ]
  },
  {
   "cell_type": "code",
   "execution_count": null,
   "id": "ce906409",
   "metadata": {},
   "outputs": [],
   "source": [
    "roll = []\n",
    "roll.append((randint(1,10))*(int (dicepool)))\n",
    "roll"
   ]
  },
  {
   "cell_type": "code",
   "execution_count": null,
   "id": "b16b69d4",
   "metadata": {},
   "outputs": [],
   "source": [
    "roll = []\n",
    "roll.append((randint(1,10))*(int (dicepool)))\n",
    "roll"
   ]
  },
  {
   "cell_type": "code",
   "execution_count": null,
   "id": "8856bf7f",
   "metadata": {},
   "outputs": [],
   "source": [
    "roll = []\n",
    "roll.append((randint(1,10))*(int (dicepool)))\n",
    "roll"
   ]
  },
  {
   "cell_type": "code",
   "execution_count": null,
   "id": "978ea005",
   "metadata": {},
   "outputs": [],
   "source": [
    "roll = []\n",
    "roll.append((randint(1,10))*(int (dicepool)))\n",
    "roll"
   ]
  },
  {
   "cell_type": "code",
   "execution_count": null,
   "id": "76c5db9f",
   "metadata": {},
   "outputs": [],
   "source": [
    "# I can transform it into a integer in the same line\n",
    "\n",
    "dicepool = int(input (\"What's your dice pool?\"))"
   ]
  },
  {
   "cell_type": "code",
   "execution_count": null,
   "id": "7186c2f6",
   "metadata": {},
   "outputs": [],
   "source": [
    "type(dicepool)"
   ]
  },
  {
   "cell_type": "code",
   "execution_count": null,
   "id": "370a152a",
   "metadata": {},
   "outputs": [],
   "source": [
    "dicepool"
   ]
  },
  {
   "cell_type": "code",
   "execution_count": null,
   "id": "b6afe00e",
   "metadata": {},
   "outputs": [],
   "source": [
    "roll = []\n",
    "roll.append((randint(1,10))*(dicepool))\n",
    "roll"
   ]
  },
  {
   "cell_type": "code",
   "execution_count": null,
   "id": "f084a82c",
   "metadata": {},
   "outputs": [],
   "source": [
    "roll = []\n",
    "dicepool*roll.append(randint(1,10))\n",
    "roll"
   ]
  },
  {
   "cell_type": "code",
   "execution_count": null,
   "id": "88243c83",
   "metadata": {},
   "outputs": [],
   "source": [
    "roll = []\n",
    "diceadded = 0\n"
   ]
  },
  {
   "cell_type": "code",
   "execution_count": null,
   "id": "2fa664d7",
   "metadata": {},
   "outputs": [],
   "source": [
    "while diceadded <= dicepool:\n",
    "    roll.append(randint(1,10)\n",
    "    diceadded = diceadded+1\n",
    "    print ('We have 'diceadded' dice added to the pool')\n",
    "    \n",
    "else:\n",
    "    print (roll)"
   ]
  },
  {
   "cell_type": "code",
   "execution_count": null,
   "id": "5fc79d1f",
   "metadata": {},
   "outputs": [],
   "source": [
    "from random import randint\n",
    "dicepool = int(input (\"What's your dice pool?\"))\n",
    "roll = []\n",
    "diceadded = 0\n",
    "while diceadded <= dicepool:\n",
    "    diceadded = diceadded+1\n",
    "    roll.append(randint(1,10))\n",
    "                \n",
    "else:\n",
    "    print (roll)"
   ]
  },
  {
   "cell_type": "code",
   "execution_count": null,
   "id": "cadb81f8",
   "metadata": {},
   "outputs": [],
   "source": [
    "from random import randint\n",
    "dicepool = int(input (\"What's your dice pool?\"))\n",
    "roll = []\n",
    "diceadded = 0\n",
    "while diceadded <= dicepool:\n",
    "    diceadded = diceadded+1\n",
    "    roll.append(randint(1,10))\n",
    "                \n",
    "else:\n",
    "    print (roll)"
   ]
  },
  {
   "cell_type": "code",
   "execution_count": null,
   "id": "e803b2e9",
   "metadata": {},
   "outputs": [],
   "source": [
    "from random import randint\n",
    "dicetype = int(input (\"How many faces do your dice have? \"))\n",
    "dicepool = int(input (\"What's your dice pool? \"))\n",
    "roll = []\n",
    "diceadded = 0\n",
    "while diceadded < dicepool:\n",
    "    diceadded = diceadded+1\n",
    "    roll.append(randint(1,(dicetype)))\n",
    "                \n",
    "else:\n",
    "    print ('You rolled {}d{}'.format (dicepool,dicetype))\n",
    "    print ('Your results are:{}'.format(roll))"
   ]
  },
  {
   "cell_type": "markdown",
   "id": "208fe765",
   "metadata": {},
   "source": [
    "# List Comprehensions\n",
    "\n",
    "In addition to sequence operations and list methods, Python includes a more advanced operation called a list comprehension.\n",
    "\n",
    "List comprehensions allow us to build out lists using a different notation. You can think of it as essentially a one line <code>for</code> loop built inside of brackets. For a simple example:\n",
    "## Example 1"
   ]
  },
  {
   "cell_type": "code",
   "execution_count": null,
   "id": "5119448e",
   "metadata": {},
   "outputs": [],
   "source": [
    "mystring = 'hello'"
   ]
  },
  {
   "cell_type": "code",
   "execution_count": null,
   "id": "c6b622a9",
   "metadata": {},
   "outputs": [],
   "source": [
    "mylist = []\n",
    "\n",
    "for letter in mystring:\n",
    "    mylist.append(letter)"
   ]
  },
  {
   "cell_type": "code",
   "execution_count": null,
   "id": "8e19e60a",
   "metadata": {},
   "outputs": [],
   "source": [
    "mylist"
   ]
  },
  {
   "cell_type": "code",
   "execution_count": null,
   "id": "af08d79a",
   "metadata": {},
   "outputs": [],
   "source": [
    "mylist = []"
   ]
  },
  {
   "cell_type": "code",
   "execution_count": null,
   "id": "076ac265",
   "metadata": {},
   "outputs": [],
   "source": [
    "mylist"
   ]
  },
  {
   "cell_type": "code",
   "execution_count": null,
   "id": "4ed23f32",
   "metadata": {},
   "outputs": [],
   "source": [
    "mylist = [letter for letter in mystring]\n"
   ]
  },
  {
   "cell_type": "code",
   "execution_count": null,
   "id": "519e7b32",
   "metadata": {},
   "outputs": [],
   "source": [
    "mylist"
   ]
  },
  {
   "cell_type": "code",
   "execution_count": null,
   "id": "7a78a148",
   "metadata": {},
   "outputs": [],
   "source": [
    "mylist = [x for x in 'word']"
   ]
  },
  {
   "cell_type": "code",
   "execution_count": null,
   "id": "7f8c3765",
   "metadata": {},
   "outputs": [],
   "source": [
    "mylist"
   ]
  },
  {
   "cell_type": "code",
   "execution_count": null,
   "id": "6a0debf2",
   "metadata": {},
   "outputs": [],
   "source": [
    "mylist = [blahblah for blahblah in 'iterable object']"
   ]
  },
  {
   "cell_type": "code",
   "execution_count": null,
   "id": "354f800b",
   "metadata": {},
   "outputs": [],
   "source": [
    "mylist"
   ]
  },
  {
   "cell_type": "code",
   "execution_count": null,
   "id": "9c4b7906",
   "metadata": {},
   "outputs": [],
   "source": [
    "mylist = [num for num in range (0,11)]"
   ]
  },
  {
   "cell_type": "code",
   "execution_count": null,
   "id": "ed2868a5",
   "metadata": {},
   "outputs": [],
   "source": [
    "mylist"
   ]
  },
  {
   "cell_type": "markdown",
   "id": "8b200f57",
   "metadata": {},
   "source": [
    "One can use operations in that first element"
   ]
  },
  {
   "cell_type": "code",
   "execution_count": null,
   "id": "30a2f825",
   "metadata": {},
   "outputs": [],
   "source": [
    "mylist = [num**2 for num in range (0,11)]"
   ]
  },
  {
   "cell_type": "code",
   "execution_count": null,
   "id": "71d924e2",
   "metadata": {},
   "outputs": [],
   "source": [
    "mylist"
   ]
  },
  {
   "cell_type": "code",
   "execution_count": null,
   "id": "00658658",
   "metadata": {},
   "outputs": [],
   "source": [
    "mylist = ['a' for num in range (0,11)]"
   ]
  },
  {
   "cell_type": "code",
   "execution_count": null,
   "id": "3d3281cf",
   "metadata": {},
   "outputs": [],
   "source": [
    "mylist"
   ]
  },
  {
   "cell_type": "markdown",
   "id": "20f5b246",
   "metadata": {},
   "source": [
    "Can also use **if** statements"
   ]
  },
  {
   "cell_type": "code",
   "execution_count": null,
   "id": "f9be738f",
   "metadata": {},
   "outputs": [],
   "source": [
    "mylist = [x for x in range (0,11) if x%2==0]  "
   ]
  },
  {
   "cell_type": "code",
   "execution_count": null,
   "id": "0097f806",
   "metadata": {},
   "outputs": [],
   "source": [
    "mylist"
   ]
  },
  {
   "cell_type": "code",
   "execution_count": null,
   "id": "0a900493",
   "metadata": {},
   "outputs": [],
   "source": [
    "mylist = [x**2 for x in range (0,11) if x%2==0]  "
   ]
  },
  {
   "cell_type": "code",
   "execution_count": null,
   "id": "69f60e97",
   "metadata": {},
   "outputs": [],
   "source": [
    "mylist"
   ]
  },
  {
   "cell_type": "code",
   "execution_count": null,
   "id": "4b2e58f4",
   "metadata": {},
   "outputs": [],
   "source": [
    "celcius = [0,10,24,60,100]\n",
    "\n",
    "fahrenheit = [((9/5)*temp + 32) for temp in celcius]"
   ]
  },
  {
   "cell_type": "code",
   "execution_count": null,
   "id": "26a41887",
   "metadata": {},
   "outputs": [],
   "source": [
    "fahrenheit"
   ]
  },
  {
   "cell_type": "code",
   "execution_count": null,
   "id": "ca66c4b3",
   "metadata": {},
   "outputs": [],
   "source": [
    "fahrenheit = []\n",
    "for temp in celcius:\n",
    "    fahrenheit.append (((9/5)*temp + 32))\n",
    "    "
   ]
  },
  {
   "cell_type": "code",
   "execution_count": null,
   "id": "7b7f372d",
   "metadata": {},
   "outputs": [],
   "source": [
    "fahrenheit"
   ]
  },
  {
   "cell_type": "markdown",
   "id": "d2e8958c",
   "metadata": {},
   "source": [
    "Can also use **if / else** statements inside list comprenhension"
   ]
  },
  {
   "cell_type": "code",
   "execution_count": null,
   "id": "a7260ce2",
   "metadata": {},
   "outputs": [],
   "source": [
    "results = [ x if x%2==0 else 'ODD' for x in range (0,11)]"
   ]
  },
  {
   "cell_type": "code",
   "execution_count": null,
   "id": "ab2b9f16",
   "metadata": {},
   "outputs": [],
   "source": [
    "results"
   ]
  },
  {
   "cell_type": "code",
   "execution_count": null,
   "id": "6400213d",
   "metadata": {},
   "outputs": [],
   "source": [
    "success_count = [ 2 if x ==10 else (1 elif x >= 7 else 0) for x in range (0,10)]"
   ]
  },
  {
   "cell_type": "markdown",
   "id": "8542d366",
   "metadata": {},
   "source": [
    "Can use **Nested Loops** inside list comprenhension"
   ]
  },
  {
   "cell_type": "code",
   "execution_count": null,
   "id": "b40e5101",
   "metadata": {},
   "outputs": [],
   "source": [
    "mylist = []\n",
    "\n",
    "for x in [2,4,6]:\n",
    "    for y in [100,200,300]:\n",
    "        mylist.append (x*y)"
   ]
  },
  {
   "cell_type": "code",
   "execution_count": null,
   "id": "f59e05f4",
   "metadata": {},
   "outputs": [],
   "source": [
    "mylist"
   ]
  },
  {
   "cell_type": "code",
   "execution_count": null,
   "id": "01967ea5",
   "metadata": {},
   "outputs": [],
   "source": [
    "mylist = []\n",
    "\n",
    "for x in ['a','b','c']:\n",
    "    for y in ['d','e','f']:\n",
    "        mylist.append (x+y)"
   ]
  },
  {
   "cell_type": "code",
   "execution_count": null,
   "id": "b6515e6e",
   "metadata": {},
   "outputs": [],
   "source": [
    "mylist"
   ]
  },
  {
   "cell_type": "code",
   "execution_count": null,
   "id": "29d77c4d",
   "metadata": {},
   "outputs": [],
   "source": [
    "mylist = []\n",
    "otherlist = ['a','b','c']\n",
    "for x in otherlist:\n",
    "    for y in otherlist:\n",
    "        if x != y:\n",
    "            mylist.append (x+y)"
   ]
  },
  {
   "cell_type": "code",
   "execution_count": null,
   "id": "cf500f0a",
   "metadata": {},
   "outputs": [],
   "source": [
    "mylist"
   ]
  },
  {
   "cell_type": "code",
   "execution_count": null,
   "id": "971d4602",
   "metadata": {},
   "outputs": [],
   "source": [
    "mylist = [x*y for x in [2,4,6] for y in [1,10,100]]"
   ]
  },
  {
   "cell_type": "code",
   "execution_count": null,
   "id": "e3e862c2",
   "metadata": {},
   "outputs": [],
   "source": [
    "mylist"
   ]
  },
  {
   "cell_type": "markdown",
   "id": "ef3f5cc9",
   "metadata": {},
   "source": [
    "# METHODS AND FUNCTIONS\n",
    "\n",
    "### **Methods**"
   ]
  },
  {
   "cell_type": "code",
   "execution_count": null,
   "id": "a78c6dc5",
   "metadata": {},
   "outputs": [],
   "source": [
    "mylist = [1,2,3]"
   ]
  },
  {
   "cell_type": "code",
   "execution_count": null,
   "id": "ed06c5a5",
   "metadata": {},
   "outputs": [],
   "source": [
    "mylist.append(4)"
   ]
  },
  {
   "cell_type": "code",
   "execution_count": null,
   "id": "aa554f14",
   "metadata": {},
   "outputs": [],
   "source": [
    "mylist"
   ]
  },
  {
   "cell_type": "code",
   "execution_count": null,
   "id": "dcc81231",
   "metadata": {},
   "outputs": [],
   "source": [
    "mylist.pop()"
   ]
  },
  {
   "cell_type": "code",
   "execution_count": null,
   "id": "5d2570e8",
   "metadata": {},
   "outputs": [],
   "source": [
    "mylist"
   ]
  },
  {
   "cell_type": "markdown",
   "id": "37e39e2d",
   "metadata": {},
   "source": [
    "To check a bult-in fuction i can **press SHIFT+TAB** after the object.method (only on Jupiter Notebook) **or** run:\n",
    "**help ( object.method)**\n"
   ]
  },
  {
   "cell_type": "code",
   "execution_count": null,
   "id": "bcbc6f47",
   "metadata": {},
   "outputs": [],
   "source": [
    "help(mylist.insert)"
   ]
  },
  {
   "cell_type": "markdown",
   "id": "2c463ca3",
   "metadata": {},
   "source": [
    "a **third option** is to check the Python Documentation on python.org or https://docs.python.org/3/"
   ]
  },
  {
   "cell_type": "markdown",
   "id": "679fa551",
   "metadata": {},
   "source": [
    "## Functions\n",
    "\n",
    "."
   ]
  },
  {
   "cell_type": "markdown",
   "id": "c2e3bc88",
   "metadata": {},
   "source": [
    "Using **def** *keyword* to create functions"
   ]
  },
  {
   "cell_type": "markdown",
   "id": "4bdb4821",
   "metadata": {},
   "source": [
    "-> def name_of_function():\n",
    "        \n",
    "        '''\n",
    "        \n",
    "        Doctring explaning the function\n",
    "        \n",
    "        '''\n",
    "        \n",
    "        the actual code to be excecuted when the function is called for"
   ]
  },
  {
   "cell_type": "code",
   "execution_count": null,
   "id": "5d388e7f",
   "metadata": {},
   "outputs": [],
   "source": [
    "def say_hello():\n",
    "    print(\"hello\")\n",
    "    print('how are you?')"
   ]
  },
  {
   "cell_type": "code",
   "execution_count": null,
   "id": "1591c3f8",
   "metadata": {},
   "outputs": [],
   "source": [
    "say_hello()"
   ]
  },
  {
   "cell_type": "code",
   "execution_count": null,
   "id": "3cdf1ae7",
   "metadata": {},
   "outputs": [],
   "source": [
    "say_hello"
   ]
  },
  {
   "cell_type": "code",
   "execution_count": null,
   "id": "9125a2a4",
   "metadata": {},
   "outputs": [],
   "source": [
    "def say_hello(name):\n",
    "    print(f'Hello {name}')"
   ]
  },
  {
   "cell_type": "code",
   "execution_count": null,
   "id": "f093f829",
   "metadata": {},
   "outputs": [],
   "source": [
    "say_hello('Zalo')"
   ]
  },
  {
   "cell_type": "code",
   "execution_count": null,
   "id": "1091ef85",
   "metadata": {},
   "outputs": [],
   "source": [
    "say_hello()"
   ]
  },
  {
   "cell_type": "markdown",
   "id": "1845b1be",
   "metadata": {},
   "source": [
    "Here Python asks for the missing parameter. You can go back and complete it, or change the function to have a default value para writing (value='Default_value')"
   ]
  },
  {
   "cell_type": "code",
   "execution_count": null,
   "id": "98743614",
   "metadata": {},
   "outputs": [],
   "source": [
    "def say_hello(name='nameless stranger'):\n",
    "    print(f'Hello {name}')"
   ]
  },
  {
   "cell_type": "code",
   "execution_count": null,
   "id": "db6d2c90",
   "metadata": {},
   "outputs": [],
   "source": [
    "say_hello()"
   ]
  },
  {
   "cell_type": "markdown",
   "id": "1cf67fca",
   "metadata": {},
   "source": [
    "Use of the **return** *keyword*"
   ]
  },
  {
   "cell_type": "code",
   "execution_count": null,
   "id": "a4c0fdfc",
   "metadata": {},
   "outputs": [],
   "source": [
    "def add_num(num1,num2):\n",
    "    return num1+num2\n"
   ]
  },
  {
   "cell_type": "code",
   "execution_count": null,
   "id": "6d5246b2",
   "metadata": {},
   "outputs": [],
   "source": [
    "add_num(10,20)"
   ]
  },
  {
   "cell_type": "code",
   "execution_count": null,
   "id": "c9e78cd5",
   "metadata": {},
   "outputs": [],
   "source": [
    "result = add_num(33,65)\n",
    "print(result)"
   ]
  },
  {
   "cell_type": "code",
   "execution_count": null,
   "id": "9fdfc175",
   "metadata": {},
   "outputs": [],
   "source": [
    "def print_result(a,b):\n",
    "    print(a+b)"
   ]
  },
  {
   "cell_type": "code",
   "execution_count": null,
   "id": "27b6fa7d",
   "metadata": {},
   "outputs": [],
   "source": [
    "def return_result(a,b):\n",
    "    return a+b"
   ]
  },
  {
   "cell_type": "code",
   "execution_count": null,
   "id": "b25ac425",
   "metadata": {},
   "outputs": [],
   "source": [
    "print_result(10,20)"
   ]
  },
  {
   "cell_type": "code",
   "execution_count": null,
   "id": "3483a707",
   "metadata": {},
   "outputs": [],
   "source": [
    "result = print_result(10,20)"
   ]
  },
  {
   "cell_type": "code",
   "execution_count": null,
   "id": "18738793",
   "metadata": {},
   "outputs": [],
   "source": [
    "result"
   ]
  },
  {
   "cell_type": "code",
   "execution_count": null,
   "id": "55df380e",
   "metadata": {},
   "outputs": [],
   "source": [
    "type(result)"
   ]
  },
  {
   "cell_type": "code",
   "execution_count": null,
   "id": "3873937e",
   "metadata": {},
   "outputs": [],
   "source": [
    "return_result(10,20)"
   ]
  },
  {
   "cell_type": "code",
   "execution_count": null,
   "id": "1c9d552a",
   "metadata": {},
   "outputs": [],
   "source": [
    "result = return_result(10,20)"
   ]
  },
  {
   "cell_type": "code",
   "execution_count": null,
   "id": "b7640ee2",
   "metadata": {},
   "outputs": [],
   "source": [
    "result"
   ]
  },
  {
   "cell_type": "code",
   "execution_count": null,
   "id": "d406ddf9",
   "metadata": {},
   "outputs": [],
   "source": [
    "def myfunc(a,b):\n",
    "    print(a+b)\n",
    "    return a+b"
   ]
  },
  {
   "cell_type": "code",
   "execution_count": null,
   "id": "f20f12d7",
   "metadata": {},
   "outputs": [],
   "source": [
    "result = myfunc(10,20)"
   ]
  },
  {
   "cell_type": "code",
   "execution_count": null,
   "id": "c7014263",
   "metadata": {},
   "outputs": [],
   "source": [
    "result"
   ]
  },
  {
   "cell_type": "code",
   "execution_count": null,
   "id": "72b44e63",
   "metadata": {},
   "outputs": [],
   "source": [
    "def sum_numbers(num1,num2):\n",
    "    return num1+num2"
   ]
  },
  {
   "cell_type": "code",
   "execution_count": null,
   "id": "068ff31e",
   "metadata": {},
   "outputs": [],
   "source": [
    "sum_numbers('10','20')"
   ]
  },
  {
   "cell_type": "code",
   "execution_count": null,
   "id": "d5a4bd16",
   "metadata": {},
   "outputs": [],
   "source": [
    "2%2"
   ]
  },
  {
   "cell_type": "code",
   "execution_count": null,
   "id": "4f6066fd",
   "metadata": {},
   "outputs": [],
   "source": [
    "3%2"
   ]
  },
  {
   "cell_type": "code",
   "execution_count": null,
   "id": "f0231ca6",
   "metadata": {},
   "outputs": [],
   "source": [
    "20%2==0"
   ]
  },
  {
   "cell_type": "code",
   "execution_count": null,
   "id": "1c5691af",
   "metadata": {},
   "outputs": [],
   "source": [
    "def even_check(number):\n",
    "    result = number % 2 == 0\n",
    "    return result"
   ]
  },
  {
   "cell_type": "code",
   "execution_count": null,
   "id": "f135db5b",
   "metadata": {},
   "outputs": [],
   "source": [
    "even_check(20)"
   ]
  },
  {
   "cell_type": "code",
   "execution_count": null,
   "id": "74687bde",
   "metadata": {},
   "outputs": [],
   "source": [
    "even_check(21)"
   ]
  },
  {
   "cell_type": "code",
   "execution_count": null,
   "id": "ba1f8bd6",
   "metadata": {},
   "outputs": [],
   "source": [
    "def even_check(number):\n",
    "        return number % 2 == 0"
   ]
  },
  {
   "cell_type": "code",
   "execution_count": null,
   "id": "1745c1fa",
   "metadata": {},
   "outputs": [],
   "source": [
    "even_check(12)"
   ]
  },
  {
   "cell_type": "code",
   "execution_count": null,
   "id": "7e31c169",
   "metadata": {},
   "outputs": [],
   "source": [
    "# Return True if any number is even inside a list"
   ]
  },
  {
   "cell_type": "code",
   "execution_count": null,
   "id": "79babe03",
   "metadata": {},
   "outputs": [],
   "source": [
    "def check_even_list(num_list):\n",
    "    for number in num_list:\n",
    "        if number % 2 == 0:\n",
    "            return True\n",
    "        else:\n",
    "            pass\n",
    "        "
   ]
  },
  {
   "cell_type": "code",
   "execution_count": null,
   "id": "6e9f7b8f",
   "metadata": {},
   "outputs": [],
   "source": [
    "check_even_list([1,3,5,7])"
   ]
  },
  {
   "cell_type": "code",
   "execution_count": null,
   "id": "f49c54f6",
   "metadata": {},
   "outputs": [],
   "source": [
    "check_even_list([1,3,6,7])"
   ]
  },
  {
   "cell_type": "code",
   "execution_count": null,
   "id": "39cb5a0a",
   "metadata": {},
   "outputs": [],
   "source": [
    "def check_even_list(num_list):\n",
    "    for number in num_list:\n",
    "        if number % 2 == 0:\n",
    "            return True\n",
    "        else:\n",
    "            return False # WRONG!!! Because it will stop at the first odd number and not check the rest\n",
    "        "
   ]
  },
  {
   "cell_type": "code",
   "execution_count": null,
   "id": "01020d0d",
   "metadata": {},
   "outputs": [],
   "source": [
    "check_even_list([1,3,6,7])"
   ]
  },
  {
   "cell_type": "code",
   "execution_count": null,
   "id": "2a038386",
   "metadata": {},
   "outputs": [],
   "source": [
    "def check_even_list(num_list):\n",
    "    for number in num_list:\n",
    "        if number % 2 == 0:\n",
    "            return True\n",
    "        else:\n",
    "            pass\n",
    "    return False #It has to be in the same indentation that the FOR loop"
   ]
  },
  {
   "cell_type": "code",
   "execution_count": null,
   "id": "6be9e424",
   "metadata": {},
   "outputs": [],
   "source": [
    "check_even_list([1,3,6,7])"
   ]
  },
  {
   "cell_type": "code",
   "execution_count": null,
   "id": "3a5c8ebd",
   "metadata": {},
   "outputs": [],
   "source": [
    "check_even_list([1,3,5,7])"
   ]
  },
  {
   "cell_type": "code",
   "execution_count": null,
   "id": "ad3cc9f9",
   "metadata": {},
   "outputs": [],
   "source": [
    "def check_even_list(num_list):\n",
    "    # return all the even number in a list\n",
    "    \n",
    "    #placeholder variables:\n",
    "    even_numbers = []\n",
    "        \n",
    "    \n",
    "    for number in num_list:\n",
    "        if number % 2 == 0:\n",
    "            even_numbers.append(number)\n",
    "        else:\n",
    "            pass\n",
    "    return even_numbers"
   ]
  },
  {
   "cell_type": "code",
   "execution_count": null,
   "id": "8629c052",
   "metadata": {},
   "outputs": [],
   "source": [
    "check_even_list([1,2,3,4,5,6,7,8,9,10])"
   ]
  },
  {
   "cell_type": "code",
   "execution_count": null,
   "id": "f3b37f7c",
   "metadata": {},
   "outputs": [],
   "source": [
    "check_even_list([1,3,5,7])"
   ]
  },
  {
   "cell_type": "markdown",
   "id": "c9fec523",
   "metadata": {},
   "source": [
    "\n",
    "**Tuples in def funct**\n"
   ]
  },
  {
   "cell_type": "code",
   "execution_count": null,
   "id": "1fe8eb67",
   "metadata": {},
   "outputs": [],
   "source": [
    "stock_prices = [('APPL', 200), ('GOOG',400),('MSFT',100)]"
   ]
  },
  {
   "cell_type": "code",
   "execution_count": null,
   "id": "c593f549",
   "metadata": {},
   "outputs": [],
   "source": [
    "for item in stock_prices:\n",
    "    print (item)"
   ]
  },
  {
   "cell_type": "code",
   "execution_count": null,
   "id": "47dbd7bc",
   "metadata": {},
   "outputs": [],
   "source": [
    "for ticker,price in stock_prices:\n",
    "    print(price+(0.1*price))"
   ]
  },
  {
   "cell_type": "code",
   "execution_count": null,
   "id": "2f0211df",
   "metadata": {},
   "outputs": [],
   "source": [
    "work_hours = [('Abby',100),('Billy',400),('Cassie',800),('Danny', 600)]"
   ]
  },
  {
   "cell_type": "code",
   "execution_count": null,
   "id": "4f4edb4f",
   "metadata": {},
   "outputs": [],
   "source": [
    "def employee_check (work_hours):\n",
    "    #placeholders\n",
    "    current_max=0\n",
    "    employee_of_month = ''\n",
    "    \n",
    "    for employee,hours in work_hours:\n",
    "        if hours > current_max:\n",
    "            current_max = hours\n",
    "            employee_of_month = employee\n",
    "        else:\n",
    "            pass\n",
    "    \n",
    "    # Return\n",
    "    return (employee_of_month, current_max)"
   ]
  },
  {
   "cell_type": "code",
   "execution_count": null,
   "id": "2f09168f",
   "metadata": {},
   "outputs": [],
   "source": [
    "result = employee_check(work_hours)"
   ]
  },
  {
   "cell_type": "code",
   "execution_count": null,
   "id": "cfebd3e6",
   "metadata": {},
   "outputs": [],
   "source": [
    "result"
   ]
  },
  {
   "cell_type": "code",
   "execution_count": null,
   "id": "a0c2c55b",
   "metadata": {},
   "outputs": [],
   "source": [
    "name,hours = employee_check(work_hours)"
   ]
  },
  {
   "cell_type": "code",
   "execution_count": null,
   "id": "e36061cc",
   "metadata": {},
   "outputs": [],
   "source": [
    "result"
   ]
  },
  {
   "cell_type": "code",
   "execution_count": null,
   "id": "458ee996",
   "metadata": {},
   "outputs": [],
   "source": [
    "name"
   ]
  },
  {
   "cell_type": "code",
   "execution_count": null,
   "id": "10dffcaf",
   "metadata": {},
   "outputs": [],
   "source": [
    "hours"
   ]
  },
  {
   "cell_type": "code",
   "execution_count": null,
   "id": "acd66058",
   "metadata": {},
   "outputs": [],
   "source": [
    "name, hours, location = employee_check(work_hours)"
   ]
  },
  {
   "cell_type": "markdown",
   "id": "eba9e0ea",
   "metadata": {},
   "source": [
    "This up here ^^^ means that I'm asking for more values that the tuple has. I requested 3, it has 2, so it can't unpack it"
   ]
  },
  {
   "cell_type": "markdown",
   "id": "735d6af6",
   "metadata": {},
   "source": [
    "To know how many values a tuple has, I can assign it so a single item and the check that item"
   ]
  },
  {
   "cell_type": "code",
   "execution_count": null,
   "id": "99d5ea72",
   "metadata": {},
   "outputs": [],
   "source": [
    "item = employee_check(work_hours)"
   ]
  },
  {
   "cell_type": "code",
   "execution_count": null,
   "id": "9faee155",
   "metadata": {},
   "outputs": [],
   "source": [
    "item"
   ]
  },
  {
   "cell_type": "markdown",
   "id": "bc11fad3",
   "metadata": {},
   "source": [
    "# Functions interaction\n",
    "The game with the 3 cups and a ball"
   ]
  },
  {
   "cell_type": "code",
   "execution_count": null,
   "id": "cbcdebee",
   "metadata": {},
   "outputs": [],
   "source": [
    "example = [1,2,3,4,5,6,7]"
   ]
  },
  {
   "cell_type": "code",
   "execution_count": null,
   "id": "eaaf7aad",
   "metadata": {},
   "outputs": [],
   "source": [
    " from random import shuffle"
   ]
  },
  {
   "cell_type": "code",
   "execution_count": null,
   "id": "29e71ca9",
   "metadata": {},
   "outputs": [],
   "source": [
    "shuffle (example)"
   ]
  },
  {
   "cell_type": "code",
   "execution_count": null,
   "id": "f9b6046b",
   "metadata": {},
   "outputs": [],
   "source": [
    "example"
   ]
  },
  {
   "cell_type": "code",
   "execution_count": null,
   "id": "3817899c",
   "metadata": {},
   "outputs": [],
   "source": [
    "def shuffle_list(mylist):\n",
    "    shuffle (mylist)\n",
    "    return mylist"
   ]
  },
  {
   "cell_type": "code",
   "execution_count": null,
   "id": "8d8c6abe",
   "metadata": {},
   "outputs": [],
   "source": [
    "result = shuffle_list(example)"
   ]
  },
  {
   "cell_type": "code",
   "execution_count": null,
   "id": "99e77bcf",
   "metadata": {},
   "outputs": [],
   "source": [
    "result"
   ]
  },
  {
   "cell_type": "code",
   "execution_count": null,
   "id": "84a19fc1",
   "metadata": {},
   "outputs": [],
   "source": [
    "mylist = ['','O','']"
   ]
  },
  {
   "cell_type": "code",
   "execution_count": null,
   "id": "65c06a44",
   "metadata": {},
   "outputs": [],
   "source": [
    "shuffle_list(mylist)"
   ]
  },
  {
   "cell_type": "code",
   "execution_count": null,
   "id": "e0fec8c2",
   "metadata": {},
   "outputs": [],
   "source": [
    "def player_guess():\n",
    "    \n",
    "    guess =''\n",
    "    \n",
    "    while guess not in ['0','1','2']:\n",
    "        guess = input(\"Pick a ,number: 0, 1 or 2 : \")\n",
    "        \n",
    "    return int(guess)"
   ]
  },
  {
   "cell_type": "code",
   "execution_count": null,
   "id": "ba33e477",
   "metadata": {},
   "outputs": [],
   "source": [
    "player_guess()"
   ]
  },
  {
   "cell_type": "code",
   "execution_count": null,
   "id": "4120d07c",
   "metadata": {},
   "outputs": [],
   "source": [
    "myindex = player_guess()"
   ]
  },
  {
   "cell_type": "code",
   "execution_count": null,
   "id": "a9bc81a2",
   "metadata": {},
   "outputs": [],
   "source": [
    "myindex"
   ]
  },
  {
   "cell_type": "code",
   "execution_count": null,
   "id": "026232a6",
   "metadata": {},
   "outputs": [],
   "source": [
    "def check_guess(mylist,guess):\n",
    "    if mylist[guess] == 'O':\n",
    "        print ('Correct!')\n",
    "    else:\n",
    "        print('Wrong guess!')\n",
    "        print(mylist)"
   ]
  },
  {
   "cell_type": "code",
   "execution_count": null,
   "id": "7aed7b79",
   "metadata": {},
   "outputs": [],
   "source": [
    "# INITIAL LIST\n",
    "mylist = ['','O','']\n",
    "\n",
    "# SHUFFLE LIST\n",
    "mixedup_list = shuffle_list(mylist)\n",
    "\n",
    "# USER GUESS\n",
    "guess = player_guess()\n",
    "\n",
    "# CHECK GUESS\n",
    "check_guess(mixedup_list, guess)\n"
   ]
  },
  {
   "cell_type": "markdown",
   "id": "98bc1274",
   "metadata": {},
   "source": [
    "\n",
    "# `*args` and `**kwargs`\n",
    "\n",
    "They stand for 'arguments' and 'key word arguments'\n"
   ]
  },
  {
   "cell_type": "code",
   "execution_count": null,
   "id": "34a4a330",
   "metadata": {},
   "outputs": [],
   "source": [
    "def myfunc (a,b):\n",
    "    # returns 5% of the sum of a and b\n",
    "    return sum((a,b))* 0.05"
   ]
  },
  {
   "cell_type": "code",
   "execution_count": null,
   "id": "87d52ca1",
   "metadata": {},
   "outputs": [],
   "source": [
    "myfunc(40,60)"
   ]
  },
  {
   "cell_type": "code",
   "execution_count": null,
   "id": "ea5c09b0",
   "metadata": {},
   "outputs": [],
   "source": [
    "def myfunc (a,b):\n",
    "    # returns 5% of the sum of a and b\n",
    "    return sum [a,b] * 0.05"
   ]
  },
  {
   "cell_type": "code",
   "execution_count": null,
   "id": "21386597",
   "metadata": {},
   "outputs": [],
   "source": [
    "myfunc(40,60)"
   ]
  },
  {
   "cell_type": "code",
   "execution_count": null,
   "id": "325ea4a0",
   "metadata": {},
   "outputs": [],
   "source": [
    "def myfunc (a,b,c=0,d=0,e=0):\n",
    "    # returns 5% of the sum of a and b\n",
    "    return sum((a,b,c,d))* 0.05"
   ]
  },
  {
   "cell_type": "code",
   "execution_count": null,
   "id": "6d0fba9a",
   "metadata": {},
   "outputs": [],
   "source": [
    "myfunc(40,60,100)"
   ]
  },
  {
   "cell_type": "code",
   "execution_count": null,
   "id": "c58db8a0",
   "metadata": {},
   "outputs": [],
   "source": [
    "myfunc(40,60,100,2,5,77,)"
   ]
  },
  {
   "cell_type": "code",
   "execution_count": null,
   "id": "80924c55",
   "metadata": {},
   "outputs": [],
   "source": [
    "def myfunc(*args):\n",
    "    return sum(args)*0.05"
   ]
  },
  {
   "cell_type": "code",
   "execution_count": null,
   "id": "e4591a05",
   "metadata": {},
   "outputs": [],
   "source": [
    "myfunc (40,60,100,2,5,77)"
   ]
  },
  {
   "cell_type": "code",
   "execution_count": null,
   "id": "57e3a446",
   "metadata": {},
   "outputs": [],
   "source": [
    "def myfunc(*args):\n",
    "    print (args)"
   ]
  },
  {
   "cell_type": "code",
   "execution_count": null,
   "id": "ccadc084",
   "metadata": {},
   "outputs": [],
   "source": [
    "myfunc (40,60,100,2,5,77)"
   ]
  },
  {
   "cell_type": "markdown",
   "id": "2544bf05",
   "metadata": {},
   "source": [
    "In this case if a print args it looks like a tuple"
   ]
  },
  {
   "cell_type": "code",
   "execution_count": null,
   "id": "0b19b224",
   "metadata": {},
   "outputs": [],
   "source": [
    "def myfunc(*args):\n",
    "    for item in args:\n",
    "        print (item)"
   ]
  },
  {
   "cell_type": "code",
   "execution_count": null,
   "id": "a0c06fdc",
   "metadata": {},
   "outputs": [],
   "source": [
    "myfunc (40,60,100,2,5,77)"
   ]
  },
  {
   "cell_type": "code",
   "execution_count": null,
   "id": "1a4e09f9",
   "metadata": {},
   "outputs": [],
   "source": [
    "def myfunc (**kwargs):\n",
    "    print (kwargs)# printing the kwarg itself will bring back a dictionary\n",
    "    if 'fruit' in kwargs:\n",
    "    # Here the 'fruit' will be the key (always a string) in the key/value pair of a dict\n",
    "        print ('My fruit of choice is {}'.format(kwargs['fruit'])) \n",
    "        # this kwargs['key string'] will make it bring the value asociated with that key\n",
    "    else:\n",
    "        print ('I did not find any fruit here')"
   ]
  },
  {
   "cell_type": "code",
   "execution_count": null,
   "id": "8b4fb78b",
   "metadata": {},
   "outputs": [],
   "source": [
    "myfunc(fruit = 'apple', veggie = 'lettuce')"
   ]
  },
  {
   "cell_type": "markdown",
   "id": "4b5fdf7f",
   "metadata": {},
   "source": [
    "By convention and readability we use the 'args' and 'kwargs' words, but we could change it to any other word. What really makes it work is the use of ' * ' for args and ' ** 'for kwargs"
   ]
  },
  {
   "cell_type": "code",
   "execution_count": null,
   "id": "3f340998",
   "metadata": {},
   "outputs": [],
   "source": [
    "def myfunc(*args,**kwargs):\n",
    "    print (args)\n",
    "    print (kwargs)\n",
    "    print('I would like {} {}'.format(args[0], kwargs['food']))"
   ]
  },
  {
   "cell_type": "code",
   "execution_count": null,
   "id": "02175188",
   "metadata": {},
   "outputs": [],
   "source": [
    "myfunc(10,20,30, fruit = 'orange', food = 'eggs', animal = 'dog')"
   ]
  },
  {
   "cell_type": "markdown",
   "id": "e6affea0",
   "metadata": {},
   "source": [
    "#### We can combine args and kwargs in the same function but it must go in the same order. If I defined the function as myfunc(*args, **kwargs) the when I run it the args go first and the kwargs after"
   ]
  },
  {
   "cell_type": "markdown",
   "id": "d1fc8390",
   "metadata": {},
   "source": [
    "# Lambda Expressions, Map, and Filter\n",
    "\n",
    "\n",
    "## map function\n",
    "\n",
    "The **map** function allows you to \"map\" a function to an iterable object. That is to say you can quickly call the same function to every item in an iterable, such as a list\n"
   ]
  },
  {
   "cell_type": "code",
   "execution_count": null,
   "id": "c55f9aca",
   "metadata": {},
   "outputs": [],
   "source": [
    "def myfunc(num):\n",
    "    return num**2\n",
    "\n",
    "myiterable_object = [1,2,3,4,5]\n",
    "\n",
    "map(myfunc,myiterable_object) # Basically its say apply this function to every iterable item in the iterable object\n",
    "\n",
    "# To get the results, either iterate through map() \n",
    "# or just cast to a list\n",
    "\n",
    "list(map(myfunc,myiterable_object))"
   ]
  },
  {
   "cell_type": "markdown",
   "id": "6fe79499",
   "metadata": {},
   "source": [
    "The functions can also be more complex"
   ]
  },
  {
   "cell_type": "code",
   "execution_count": null,
   "id": "588ce4d5",
   "metadata": {},
   "outputs": [],
   "source": [
    "def splicer(mystring):\n",
    "    if len(mystring) % 2 == 0:\n",
    "        return 'even'\n",
    "    else:\n",
    "        return mystring[0]\n",
    "    \n",
    "# Here the function defined will interate with a string\n",
    "\n",
    "mynames = ['John','Cindy','Sarah','Kelly','Mike'] # but then we have a list of string\n",
    "\n",
    "# and we use the map function to apply that function to every item/string in the list of strings, \n",
    "# and return it's result as a list\n",
    "\n",
    "list(map(splicer,mynames))"
   ]
  },
  {
   "cell_type": "markdown",
   "id": "124797cc",
   "metadata": {},
   "source": [
    "If a function defines some action for an item **def function (item/s):** then the **map** will apply that function to every iterable part of a iterable object: map(function, iterable object) does function(part), function (part), function (part), etc."
   ]
  },
  {
   "cell_type": "markdown",
   "id": "a35d5e8e",
   "metadata": {},
   "source": [
    "## filter function\n",
    "\n",
    "The filter function returns an iterator yielding those items of iterable for which function(item)\n",
    "is true. Meaning you need to filter by a function that returns either True or False. Then passing that into filter (along with your iterable) and you will get back only the results that would return True when passed to the function."
   ]
  },
  {
   "cell_type": "code",
   "execution_count": null,
   "id": "0f20d730",
   "metadata": {},
   "outputs": [],
   "source": [
    "def check_even(num):\n",
    "    return num % 2 == 0 # functions that returns a True or False result\n",
    "\n",
    "nums = [0,1,2,3,4,5,6,7,8,9,10] # iterable object through which the FILTER will apply a function\n",
    "\n",
    "list(filter(check_even,nums)) # again, my iterate through the Filter or make a list of it\n",
    "\n",
    "#and below it returns only those items that returned True when the function was applied to them"
   ]
  },
  {
   "cell_type": "markdown",
   "id": "9853638b",
   "metadata": {},
   "source": [
    "## lambda expression\n",
    "\n",
    "One of Pythons most useful (and for beginners, confusing) tools is the lambda expression. lambda expressions allow us to create \"anonymous\" functions. This basically means we can quickly make ad-hoc functions without needing to properly define a function using def.\n",
    "\n",
    "Function objects returned by running lambda expressions work exactly the same as those created and assigned by defs. There is key difference that makes lambda useful in specialized roles:\n",
    "\n",
    "**lambda's body is a single expression, not a block of statements.**\n",
    "\n",
    "* The lambda's body is similar to what we would put in a def body's return statement. We simply type the result as an expression instead of explicitly returning it. Because it is limited to an expression, a lambda is less general that a def. We can only squeeze design, to limit program nesting. lambda is designed for coding simple functions, and def handles the larger tasks."
   ]
  },
  {
   "cell_type": "markdown",
   "id": "16ffb940",
   "metadata": {},
   "source": [
    "Lets slowly break down a lambda expression by deconstructing a function:"
   ]
  },
  {
   "cell_type": "code",
   "execution_count": null,
   "id": "6400e09f",
   "metadata": {},
   "outputs": [],
   "source": [
    "def square(num):\n",
    "    result = num**2\n",
    "    return result\n",
    "\n",
    "square(2)"
   ]
  },
  {
   "cell_type": "code",
   "execution_count": null,
   "id": "ea9a8d81",
   "metadata": {},
   "outputs": [],
   "source": [
    "# We could simplify it:\n",
    "def square(num):\n",
    "    return num**2\n",
    "\n",
    "square(2)"
   ]
  },
  {
   "cell_type": "code",
   "execution_count": null,
   "id": "0f39908a",
   "metadata": {},
   "outputs": [],
   "source": [
    "# We could actually even write this all on one line.\n",
    "def square(num): return num**2\n",
    "\n",
    "square(2)"
   ]
  },
  {
   "cell_type": "code",
   "execution_count": null,
   "id": "1b4440c2",
   "metadata": {},
   "outputs": [],
   "source": [
    "# This is the form a function that a lambda expression intends to replicate. A lambda expression can then be written as:\n",
    "\n",
    "lambda num: num ** 2\n",
    "\n",
    "# \"lambda\" replaces the \"def\" and needs no name for it,\n",
    "# the first \"num\" defines the item that would normally go between ()\n",
    "# then the :\n",
    "# then the expected return without the need to type \"return\"\n"
   ]
  },
  {
   "cell_type": "code",
   "execution_count": null,
   "id": "25f37f05",
   "metadata": {},
   "outputs": [],
   "source": [
    "# You wouldn't usually assign a name to a lambda expression, this is just for demonstration!\n",
    "square = lambda num: num **2\n",
    "\n",
    "square (2)"
   ]
  },
  {
   "cell_type": "markdown",
   "id": "09967f82",
   "metadata": {},
   "source": [
    "So why would use this? Many function calls need a function passed in, such as map and filter. Often you only need to use the function you are passing in once, so instead of formally defining it, you just use the lambda expression. Let's repeat some of the examples from above with a lambda expression"
   ]
  },
  {
   "cell_type": "code",
   "execution_count": null,
   "id": "a81a17cd",
   "metadata": {},
   "outputs": [],
   "source": [
    "list(map(lambda item: item ** 2, myiterable_object))\n",
    "# this will make a LIST \n",
    "# that contains the MAPPING of an unnamed function (lambda) \n",
    "# applied to every iterable part of an iterable object"
   ]
  },
  {
   "cell_type": "code",
   "execution_count": null,
   "id": "0de21d52",
   "metadata": {},
   "outputs": [],
   "source": [
    "list(filter(lambda n: n % 2 == 0,nums))\n",
    "# this will make a LIST \n",
    "# that contains the FILTERED the parts of an iterable object\n",
    "# that returned TRUE when an unnamed function (lambda) was applied to that part"
   ]
  },
  {
   "cell_type": "code",
   "execution_count": null,
   "id": "1f377611",
   "metadata": {},
   "outputs": [],
   "source": [
    "# ** Lambda expression for grabbing the first character of a string: **\n",
    "lambda s: s[0]"
   ]
  },
  {
   "cell_type": "code",
   "execution_count": null,
   "id": "cc217931",
   "metadata": {},
   "outputs": [],
   "source": [
    "# ** Lambda expression for reversing a string: **\n",
    "lambda s: s[::-1]"
   ]
  },
  {
   "cell_type": "code",
   "execution_count": null,
   "id": "f1713e39",
   "metadata": {},
   "outputs": [],
   "source": [
    "# You can even pass in multiple arguments into a lambda expression. Again, keep in mind that not every function can be translated into a lambda expression.\n",
    "lambda x,y : x + y"
   ]
  },
  {
   "cell_type": "markdown",
   "id": "712a6927",
   "metadata": {},
   "source": [
    "You will find yourself using lambda expressions often with certain non-built-in libraries, for example the pandas library for data analysis works very well with lambda expressions.\n"
   ]
  },
  {
   "cell_type": "markdown",
   "id": "07321549",
   "metadata": {},
   "source": [
    "# Nested Statements and Scope \n",
    "\n",
    "Now that we have gone over writing our own functions, it's important to understand how Python deals with the variable names you assign. When you create a variable name in Python the name is stored in a *name-space*. Variable names also have a *scope*, the scope determines the visibility of that variable name to other parts of your code."
   ]
  },
  {
   "cell_type": "markdown",
   "id": "7702f072",
   "metadata": {},
   "source": [
    "This is where the idea of scope comes in. Python has a set of rules it follows to decide what variables (such as x in this case) you are referencing in your code. Lets break down the rules:\n",
    "\n",
    "This idea of scope in your code is very important to understand in order to properly assign and call variable names. \n",
    "​\n",
    "\n",
    "In simple terms, the idea of scope can be described by 3 general rules:\n",
    "​\n",
    "\n",
    "1. Name assignments will create or change local names by default.\n",
    "\n",
    "2. Name references search (at most) four scopes, these are:\n",
    "    * local\n",
    "\n",
    "    * enclosing functions\n",
    "\n",
    "    * global\n",
    "\n",
    "    * built-in\n",
    "\n",
    "3. Names declared in global and nonlocal statements map assigned names to enclosing module and function scopes.\n",
    "​\n",
    "​\n",
    "\n",
    "The statement in #2 above can be defined by the LEGB rule.\n",
    "​\n",
    "\n",
    "**LEGB Rule:**\n",
    "​\n",
    "\n",
    "L: Local — Names assigned in any way within a function (def or lambda), and not declared global in that function.\n",
    "​\n",
    "\n",
    "E: Enclosing function locals — Names in the local scope of any and all enclosing functions (def or lambda), from inner to outer.\n",
    "​\n",
    "\n",
    "G: Global (module) — Names assigned at the top-level of a module file, or declared global in a def within the file.\n",
    "​\n",
    "\n",
    "B: Built-in (Python) — Names preassigned in the built-in names module : open, range, SyntaxError,..."
   ]
  },
  {
   "cell_type": "markdown",
   "id": "451ed7ce",
   "metadata": {},
   "source": [
    "## Quick examples of LEGB\n",
    "\n",
    "### Local"
   ]
  },
  {
   "cell_type": "code",
   "execution_count": null,
   "id": "bfb1db57",
   "metadata": {},
   "outputs": [],
   "source": [
    "# x is local here:\n",
    "f = lambda x:x**2"
   ]
  },
  {
   "cell_type": "markdown",
   "id": "6a4e7512",
   "metadata": {},
   "source": [
    "### Enclosing function locals\n",
    "This occurs when we have a function inside a function (nested functions)"
   ]
  },
  {
   "cell_type": "code",
   "execution_count": null,
   "id": "37d4673a",
   "metadata": {},
   "outputs": [],
   "source": [
    "name = 'This is a global name'\n",
    "\n",
    "def greet():\n",
    "    # Enclosing function\n",
    "    name = 'Sammy'\n",
    "    \n",
    "    def hello():\n",
    "        print('Hello '+name)\n",
    "    \n",
    "    hello()\n",
    "\n",
    "greet()"
   ]
  },
  {
   "cell_type": "markdown",
   "id": "eaa6296e",
   "metadata": {},
   "source": [
    "Note how Sammy was used, because the hello() function was enclosed inside of the greet function!"
   ]
  },
  {
   "cell_type": "markdown",
   "id": "6bbdc278",
   "metadata": {},
   "source": [
    "### Global\n",
    "Luckily in Jupyter a quick way to test for global variables is to see if another cell recognizes the variable!"
   ]
  },
  {
   "cell_type": "code",
   "execution_count": null,
   "id": "a887954d",
   "metadata": {},
   "outputs": [],
   "source": [
    "print(name)"
   ]
  },
  {
   "cell_type": "markdown",
   "id": "39193c9b",
   "metadata": {},
   "source": [
    "### Built-in\n",
    "These are the built-in function names in Python (don't overwrite these!)"
   ]
  },
  {
   "cell_type": "code",
   "execution_count": null,
   "id": "cad4000b",
   "metadata": {},
   "outputs": [],
   "source": [
    "len"
   ]
  },
  {
   "cell_type": "markdown",
   "id": "d2c891e8",
   "metadata": {},
   "source": [
    "## Local Variables\n",
    "When you declare variables inside a function definition, they are not related in any way to other variables with the same names used outside the function - i.e. variable names are local to the function. This is called the scope of the variable. All variables have the scope of the block they are declared in starting from the point of definition of the name.\n",
    "\n",
    "Example:"
   ]
  },
  {
   "cell_type": "code",
   "execution_count": null,
   "id": "afd13af6",
   "metadata": {},
   "outputs": [],
   "source": [
    "x = 50\n",
    "\n",
    "def func(x):\n",
    "    print('x is', x)\n",
    "    x = 2\n",
    "    print('Changed local x to', x)\n",
    "\n",
    "func(x)\n",
    "print('x is still', x)"
   ]
  },
  {
   "cell_type": "markdown",
   "id": "ed110501",
   "metadata": {},
   "source": [
    "The first time that we print the value of the name **x** with the first line in the function’s body, Python uses the value of the parameter declared in the main block, above the function definition.\n",
    "\n",
    "Next, we assign the value 2 to **x**. The name **x** is local to our function. So, when we change the value of **x** in the function, the **x** defined in the main block remains unaffected.\n",
    "\n",
    "With the last print statement, we display the value of **x** as defined in the main block, thereby confirming that it is actually unaffected by the local assignment within the previously called function.\n",
    "\n",
    "## The <code>global</code> statement\n",
    "If you want to assign a value to a name defined at the top level of the program (i.e. not inside any kind of scope such as functions or classes), then you have to tell Python that the name is not local, but it is global. We do this using the <code>global</code> statement. It is impossible to assign a value to a variable defined outside a function without the global statement.\n",
    "\n",
    "You can use the values of such variables defined outside the function (assuming there is no variable with the same name within the function). However, this is not encouraged and should be avoided since it becomes unclear to the reader of the program as to where that variable’s definition is. Using the <code>global</code> statement makes it amply clear that the variable is defined in an outermost block.\n",
    "\n",
    "Example:"
   ]
  },
  {
   "cell_type": "code",
   "execution_count": null,
   "id": "42d2216c",
   "metadata": {},
   "outputs": [],
   "source": [
    "x = 50\n",
    "\n",
    "def func():\n",
    "    global x\n",
    "    print('This function is now using the global x!')\n",
    "    print('Because of global x is: ', x)\n",
    "    x = 2\n",
    "    print('Ran func(), changed global x to', x)\n",
    "\n",
    "print('Before calling func(), x is: ', x)\n",
    "func()\n",
    "print('Value of x (outside of func()) is: ', x)"
   ]
  },
  {
   "cell_type": "code",
   "execution_count": null,
   "id": "a766413f",
   "metadata": {},
   "outputs": [],
   "source": [
    "x"
   ]
  },
  {
   "cell_type": "markdown",
   "id": "424e8389",
   "metadata": {},
   "source": [
    "The <code>global</code> statement is used to declare that **x** is a global variable - hence, when we assign a value to **x** inside the function, that change is reflected when we use the value of **x** in the main block.\n",
    "\n",
    "You can specify more than one global variable using the same global statement e.g. <code>global x, y, z</code>."
   ]
  },
  {
   "cell_type": "markdown",
   "id": "c54e954c",
   "metadata": {},
   "source": [
    "## Conclusion\n",
    "You should now have a good understanding of Scope (you may have already intuitively felt right about Scope which is great!) One last mention is that you can use the **globals()** and **locals()** functions to check what are your current local and global variables.\n",
    "\n",
    "Another thing to keep in mind is that everything in Python is an object! I can assign variables to functions just like I can with numbers! We will go over this again in the decorator section of the course!"
   ]
  },
  {
   "cell_type": "code",
   "execution_count": null,
   "id": "735b4d36",
   "metadata": {},
   "outputs": [],
   "source": [
    "globals()"
   ]
  },
  {
   "cell_type": "code",
   "execution_count": null,
   "id": "1c48c960",
   "metadata": {},
   "outputs": [],
   "source": [
    "locals()"
   ]
  },
  {
   "cell_type": "markdown",
   "id": "30d1bb7e",
   "metadata": {},
   "source": [
    "# Function Practice Exercises\n",
    "\n",
    "Problems are arranged in increasing difficulty:\n",
    "* Warmup - these can be solved using basic comparisons and methods\n",
    "* Level 1 - these may involve if/then conditional statements and simple methods\n",
    "* Level 2 - these may require iterating over sequences, usually with some kind of loop\n",
    "* Challenging - these will take some creativity to solve"
   ]
  },
  {
   "cell_type": "markdown",
   "id": "20e5145e",
   "metadata": {},
   "source": [
    "#### LESSER OF TWO EVENS: Write a function that returns the lesser of two given numbers *if* both numbers are even, but returns the greater if one or both numbers are odd\n",
    "    lesser_of_two_evens(2,4) --> 2\n",
    "    lesser_of_two_evens(2,5) --> 5"
   ]
  },
  {
   "cell_type": "code",
   "execution_count": null,
   "id": "3c406d03",
   "metadata": {},
   "outputs": [],
   "source": [
    "def lesser_of_two_evens(a,b):\n",
    "    if (a%2 == 0) and (b%2 == 0):\n",
    "        if a < b:\n",
    "            return a\n",
    "        else:\n",
    "            return b\n",
    "    elif a > b:\n",
    "        return a\n",
    "    else:\n",
    "        return b"
   ]
  },
  {
   "cell_type": "code",
   "execution_count": null,
   "id": "f8e9ffe0",
   "metadata": {},
   "outputs": [],
   "source": [
    "lesser_of_two_evens(2,4)"
   ]
  },
  {
   "cell_type": "code",
   "execution_count": null,
   "id": "e0dd19a7",
   "metadata": {
    "scrolled": true
   },
   "outputs": [],
   "source": [
    "lesser_of_two_evens(2,5)"
   ]
  },
  {
   "cell_type": "code",
   "execution_count": null,
   "id": "15aec8f3",
   "metadata": {},
   "outputs": [],
   "source": [
    "def lesser_of_2_evens(a,b):\n",
    "    if a%2 == 0 and b%2 == 0:\n",
    "        return min(a,b)\n",
    "    else:\n",
    "        return max(a,b)"
   ]
  },
  {
   "cell_type": "code",
   "execution_count": null,
   "id": "2a53c840",
   "metadata": {
    "scrolled": true
   },
   "outputs": [],
   "source": [
    "lesser_of_2_evens(2,4)"
   ]
  },
  {
   "cell_type": "code",
   "execution_count": null,
   "id": "f5b06a9e",
   "metadata": {},
   "outputs": [],
   "source": [
    "lesser_of_2_evens(2,5)"
   ]
  },
  {
   "cell_type": "markdown",
   "id": "c9246aab",
   "metadata": {},
   "source": [
    "#### ANIMAL CRACKERS: Write a function takes a two-word string and returns True if both words begin with same letter\n",
    "    animal_crackers('Levelheaded Llama') --> True\n",
    "    animal_crackers('Crazy Kangaroo') --> False"
   ]
  },
  {
   "cell_type": "code",
   "execution_count": null,
   "id": "46df83bc",
   "metadata": {},
   "outputs": [],
   "source": [
    "def animal_crackers(text):\n",
    "    wordlist = str.split (text)\n",
    "    letterlist = []\n",
    "    for word in wordlist:\n",
    "        letterlist.append (word[0])\n",
    "    if letterlist[0] == letterlist[1]:\n",
    "        return True\n",
    "    else:\n",
    "        return False"
   ]
  },
  {
   "cell_type": "code",
   "execution_count": null,
   "id": "d102662f",
   "metadata": {},
   "outputs": [],
   "source": [
    "animal_crackers('Levelheaded Llama')"
   ]
  },
  {
   "cell_type": "code",
   "execution_count": null,
   "id": "cdfd12ef",
   "metadata": {},
   "outputs": [],
   "source": [
    "animal_crackers('Crazy Kangaroo')"
   ]
  },
  {
   "cell_type": "code",
   "execution_count": null,
   "id": "a92f71f8",
   "metadata": {},
   "outputs": [],
   "source": [
    "def animal_crackers2(text):\n",
    "    wordlist = text.lower().split()\n",
    "\n",
    "    return wordlist[0][0] == wordlist[1][0]"
   ]
  },
  {
   "cell_type": "code",
   "execution_count": null,
   "id": "4e7e5fdd",
   "metadata": {},
   "outputs": [],
   "source": [
    "animal_crackers2('Levelheaded llama')"
   ]
  },
  {
   "cell_type": "code",
   "execution_count": null,
   "id": "dcab21fc",
   "metadata": {},
   "outputs": [],
   "source": [
    "animal_crackers2('Crazy Kangaroo')"
   ]
  },
  {
   "cell_type": "markdown",
   "id": "93869f1a",
   "metadata": {},
   "source": [
    "#### MAKES TWENTY: Given two integers, return True if the sum of the integers is 20 *or* if one of the integers is 20. If not, return False\n",
    "\n",
    "    makes_twenty(20,10) --> True\n",
    "    makes_twenty(12,8) --> True\n",
    "    makes_twenty(2,3) --> False"
   ]
  },
  {
   "cell_type": "code",
   "execution_count": null,
   "id": "b462d72d",
   "metadata": {},
   "outputs": [],
   "source": [
    "def makes_twenty(n1,n2):\n",
    "    mylist = [n1,n2]\n",
    "    for num in mylist:\n",
    "        if num == 20:\n",
    "            return True\n",
    "        else:\n",
    "            pass\n",
    "    if (n1+n2)==20:\n",
    "        return True\n",
    "    else:\n",
    "        return False\n"
   ]
  },
  {
   "cell_type": "code",
   "execution_count": null,
   "id": "d730f11f",
   "metadata": {},
   "outputs": [],
   "source": [
    "makes_twenty(20,10)"
   ]
  },
  {
   "cell_type": "code",
   "execution_count": null,
   "id": "aaddaafc",
   "metadata": {},
   "outputs": [],
   "source": [
    "makes_twenty(2,3)"
   ]
  },
  {
   "cell_type": "code",
   "execution_count": null,
   "id": "1df9b466",
   "metadata": {},
   "outputs": [],
   "source": [
    "def makes_20(n1,n2):\n",
    "    return (n1+n2) == 20 or n1==20 or n2==20"
   ]
  },
  {
   "cell_type": "code",
   "execution_count": null,
   "id": "bafcf88f",
   "metadata": {},
   "outputs": [],
   "source": [
    "makes_20(20,10)"
   ]
  },
  {
   "cell_type": "code",
   "execution_count": null,
   "id": "9bb5dba4",
   "metadata": {},
   "outputs": [],
   "source": [
    "makes_20(2,3)"
   ]
  },
  {
   "cell_type": "code",
   "execution_count": null,
   "id": "1ecd9213",
   "metadata": {},
   "outputs": [],
   "source": [
    "makes_20(12,8)"
   ]
  },
  {
   "cell_type": "code",
   "execution_count": null,
   "id": "9041d44e",
   "metadata": {},
   "outputs": [],
   "source": [
    "makes_20(20,0)"
   ]
  },
  {
   "cell_type": "markdown",
   "id": "fe62ebd1",
   "metadata": {},
   "source": [
    "#### OLD MACDONALD: Write a function that capitalizes the first and fourth letters of a name\n",
    "     \n",
    "    old_macdonald('macdonald') --> MacDonald\n",
    "    \n",
    "Note: `'macdonald'.capitalize()` returns `'Macdonald'`"
   ]
  },
  {
   "cell_type": "code",
   "execution_count": null,
   "id": "61aca4a7",
   "metadata": {},
   "outputs": [],
   "source": [
    "def old_macdonald(name):\n",
    "    letter_list = list(name)\n",
    "    letter_list[0] = str.capitalize(letter_list[0])\n",
    "    letter_list[3] = str.capitalize(letter_list[3])\n",
    "    new_name = ('')\n",
    "    for let in letter_list:\n",
    "        new_name = new_name+let\n",
    "    return new_name"
   ]
  },
  {
   "cell_type": "code",
   "execution_count": null,
   "id": "41a126ee",
   "metadata": {},
   "outputs": [],
   "source": [
    "old_macdonald('macdonald')"
   ]
  },
  {
   "cell_type": "code",
   "execution_count": null,
   "id": "356bde61",
   "metadata": {},
   "outputs": [],
   "source": [
    "def old_macdonald2(name):\n",
    "    first_letter = name [0]\n",
    "    inbetween = name[1:3]\n",
    "    fourth_letter = name[3]\n",
    "    rest = name[4:]\n",
    "    \n",
    "    return first_letter.upper() + inbetween + fourth_letter.upper()+rest"
   ]
  },
  {
   "cell_type": "code",
   "execution_count": null,
   "id": "8e3c815f",
   "metadata": {},
   "outputs": [],
   "source": [
    "old_macdonald2('macdonald')"
   ]
  },
  {
   "cell_type": "code",
   "execution_count": null,
   "id": "ba386da3",
   "metadata": {},
   "outputs": [],
   "source": [
    "def old_macdonald3(name):\n",
    "    \n",
    "    first_half=name[:3]\n",
    "    second_half=name[3:]\n",
    "    \n",
    "    return first_half.capitalize()+second_half.capitalize()"
   ]
  },
  {
   "cell_type": "code",
   "execution_count": null,
   "id": "3d0c5b6e",
   "metadata": {},
   "outputs": [],
   "source": [
    "old_macdonald3('macdonald')"
   ]
  },
  {
   "cell_type": "markdown",
   "id": "8107eeec",
   "metadata": {},
   "source": [
    "#### MASTER YODA: Given a sentence, return a sentence with the words reversed\n",
    "\n",
    "    master_yoda('I am home') --> 'home am I'\n",
    "    master_yoda('We are ready') --> 'ready are We'\n",
    "    \n",
    "Note: The .join() method may be useful here. The .join() method allows you to join together strings in a list with some connector string. For example, some uses of the .join() method:\n",
    "\n",
    "    >>> \"--\".join(['a','b','c'])\n",
    "    >>> 'a--b--c'\n",
    "\n",
    "This means if you had a list of words you wanted to turn back into a sentence, you could just join them with a single space string:\n",
    "\n",
    "    >>> \" \".join(['Hello','world'])\n",
    "    >>> \"Hello world\""
   ]
  },
  {
   "cell_type": "code",
   "execution_count": null,
   "id": "6b62a67d",
   "metadata": {},
   "outputs": [],
   "source": [
    "m_list = ['a','b','c']\n",
    "\" > \".join(m_list[::-1])"
   ]
  },
  {
   "cell_type": "code",
   "execution_count": null,
   "id": "d08b23d3",
   "metadata": {},
   "outputs": [],
   "source": [
    "def master_yoda(str):\n",
    "    w_list = str.split(' ')\n",
    "    y_list = []\n",
    "    for wrd in w_list:\n",
    "        y_list.append(wrd)\n",
    "    yoda_master = \" \".join(y_list[::-1])\n",
    "    return (yoda_master)"
   ]
  },
  {
   "cell_type": "code",
   "execution_count": null,
   "id": "94d173e4",
   "metadata": {},
   "outputs": [],
   "source": [
    "master_yoda('I am home')"
   ]
  },
  {
   "cell_type": "code",
   "execution_count": null,
   "id": "e1d4b9eb",
   "metadata": {},
   "outputs": [],
   "source": [
    "master_yoda('We are ready')"
   ]
  },
  {
   "cell_type": "code",
   "execution_count": null,
   "id": "03fbe5ef",
   "metadata": {},
   "outputs": [],
   "source": [
    "def master_yoda2(text):\n",
    "    wordlist= text.split()\n",
    "    reverse_word_list= ' '.join(wordlist[::-1])\n",
    "    return reverse_word_list"
   ]
  },
  {
   "cell_type": "code",
   "execution_count": null,
   "id": "27dbd201",
   "metadata": {},
   "outputs": [],
   "source": [
    "master_yoda2('I am home')"
   ]
  },
  {
   "cell_type": "code",
   "execution_count": null,
   "id": "fb1da0e0",
   "metadata": {},
   "outputs": [],
   "source": [
    "master_yoda2('We are ready')"
   ]
  },
  {
   "cell_type": "code",
   "execution_count": null,
   "id": "d600229d",
   "metadata": {},
   "outputs": [],
   "source": []
  },
  {
   "cell_type": "markdown",
   "id": "c87569dc",
   "metadata": {},
   "source": [
    "#### ALMOST THERE: Given an integer n, return True if n is within 10 of either 100 or 200\n",
    "\n",
    "    almost_there(90) --> True\n",
    "    almost_there(104) --> True\n",
    "    almost_there(150) --> False\n",
    "    almost_there(209) --> True\n",
    "    \n",
    "NOTE: `abs(num)` returns the absolute value of a number"
   ]
  },
  {
   "cell_type": "code",
   "execution_count": null,
   "id": "47b74d99",
   "metadata": {},
   "outputs": [],
   "source": [
    "def almost_there(int):\n",
    "    if (int > 89) and (int < 111):\n",
    "        return True\n",
    "    elif (int > 189) and (int < 211):\n",
    "        return True\n",
    "    else:\n",
    "        return False       "
   ]
  },
  {
   "cell_type": "code",
   "execution_count": null,
   "id": "9c78dfd3",
   "metadata": {},
   "outputs": [],
   "source": [
    "almost_there(90)"
   ]
  },
  {
   "cell_type": "code",
   "execution_count": null,
   "id": "11c2ea44",
   "metadata": {},
   "outputs": [],
   "source": [
    "almost_there(104)"
   ]
  },
  {
   "cell_type": "code",
   "execution_count": null,
   "id": "e4d5c98e",
   "metadata": {},
   "outputs": [],
   "source": [
    "almost_there(155)"
   ]
  },
  {
   "cell_type": "code",
   "execution_count": null,
   "id": "5d57f9f2",
   "metadata": {},
   "outputs": [],
   "source": [
    "almost_there(209)"
   ]
  },
  {
   "cell_type": "code",
   "execution_count": null,
   "id": "861741d5",
   "metadata": {},
   "outputs": [],
   "source": [
    "def almost_there2(num):\n",
    "    return abs(num-100) <= 10 or abs(num-200) <= 10"
   ]
  },
  {
   "cell_type": "code",
   "execution_count": null,
   "id": "b0e9c80a",
   "metadata": {},
   "outputs": [],
   "source": [
    "almost_there2(90)"
   ]
  },
  {
   "cell_type": "code",
   "execution_count": null,
   "id": "abb9241d",
   "metadata": {},
   "outputs": [],
   "source": [
    "almost_there2(104)"
   ]
  },
  {
   "cell_type": "code",
   "execution_count": null,
   "id": "391afa93",
   "metadata": {},
   "outputs": [],
   "source": [
    "almost_there2(155)"
   ]
  },
  {
   "cell_type": "code",
   "execution_count": null,
   "id": "93215def",
   "metadata": {},
   "outputs": [],
   "source": [
    "almost_there2(209)"
   ]
  },
  {
   "cell_type": "markdown",
   "id": "323977bc",
   "metadata": {},
   "source": [
    "#### FIND 33: \n",
    "\n",
    "Given a list of ints, return True if the array contains a 3 next to a 3 somewhere.\n",
    "\n",
    "    has_33([1, 3, 3]) → True\n",
    "    has_33([1, 3, 1, 3]) → False\n",
    "    has_33([3, 1, 3]) → False"
   ]
  },
  {
   "cell_type": "code",
   "execution_count": null,
   "id": "3a256198",
   "metadata": {},
   "outputs": [],
   "source": [
    "def has_33(list):\n",
    "    has_it = False\n",
    "    l_lenght = 0\n",
    "    while l_lenght < (len(list)-1):\n",
    "        if (list[(l_lenght)] == list[(l_lenght)+1]) and (list[(l_lenght)] == 3):\n",
    "            has_it = True\n",
    "        l_lenght += 1\n",
    "    return has_it"
   ]
  },
  {
   "cell_type": "code",
   "execution_count": null,
   "id": "5630d4c1",
   "metadata": {},
   "outputs": [],
   "source": [
    "has_33([1, 3, 3])"
   ]
  },
  {
   "cell_type": "code",
   "execution_count": null,
   "id": "ba7c5866",
   "metadata": {},
   "outputs": [],
   "source": [
    "has_33([1, 3, 1, 3])"
   ]
  },
  {
   "cell_type": "code",
   "execution_count": null,
   "id": "f52aa541",
   "metadata": {},
   "outputs": [],
   "source": [
    "has_33([3, 1, 3])"
   ]
  },
  {
   "cell_type": "code",
   "execution_count": null,
   "id": "94a26239",
   "metadata": {},
   "outputs": [],
   "source": [
    "def has_33bis(nums):\n",
    "    for i in range(0,len(nums)-1):\n",
    "        if nums[i] == 3 and nums [i+1] == 3:\n",
    "            return True\n",
    "    return False"
   ]
  },
  {
   "cell_type": "code",
   "execution_count": null,
   "id": "10610ce6",
   "metadata": {},
   "outputs": [],
   "source": [
    "has_33bis([1, 3, 3])"
   ]
  },
  {
   "cell_type": "code",
   "execution_count": null,
   "id": "0b9084e9",
   "metadata": {},
   "outputs": [],
   "source": [
    "has_33bis([1, 3, 1, 3])"
   ]
  },
  {
   "cell_type": "code",
   "execution_count": null,
   "id": "c68b4983",
   "metadata": {},
   "outputs": [],
   "source": [
    "has_33bis([3, 1, 3])"
   ]
  },
  {
   "cell_type": "code",
   "execution_count": null,
   "id": "f26dd4da",
   "metadata": {},
   "outputs": [],
   "source": [
    "def has_33tri(nums):\n",
    "    for i in range(0,len(nums)-1):\n",
    "        if nums[i:i+2] == [3,3]:\n",
    "            return True\n",
    "    return False"
   ]
  },
  {
   "cell_type": "code",
   "execution_count": null,
   "id": "6174ea73",
   "metadata": {},
   "outputs": [],
   "source": [
    "has_33tri([1, 3, 3])"
   ]
  },
  {
   "cell_type": "code",
   "execution_count": null,
   "id": "066ad9b9",
   "metadata": {},
   "outputs": [],
   "source": [
    "has_33tri([1, 3, 1, 3])"
   ]
  },
  {
   "cell_type": "code",
   "execution_count": null,
   "id": "6b6c6f43",
   "metadata": {},
   "outputs": [],
   "source": [
    "has_33tri([3, 1, 3])"
   ]
  },
  {
   "cell_type": "markdown",
   "id": "cfca500b",
   "metadata": {},
   "source": [
    "#### PAPER DOLL: Given a string, return a string where for every character in the original there are three characters\n",
    "    paper_doll('Hello') --> 'HHHeeellllllooo'\n",
    "    paper_doll('Mississippi') --> 'MMMiiissssssiiippppppiii'"
   ]
  },
  {
   "cell_type": "code",
   "execution_count": null,
   "id": "49bd7174",
   "metadata": {},
   "outputs": [],
   "source": [
    "def paper_doll(str):\n",
    "    new_wrd = ''\n",
    "    for let in str:\n",
    "        new_wrd = new_wrd+(let*3)\n",
    "    return new_wrd"
   ]
  },
  {
   "cell_type": "code",
   "execution_count": null,
   "id": "571b9453",
   "metadata": {},
   "outputs": [],
   "source": [
    "paper_doll('Hello')"
   ]
  },
  {
   "cell_type": "code",
   "execution_count": null,
   "id": "e852e977",
   "metadata": {},
   "outputs": [],
   "source": [
    "paper_doll('Mississippi')"
   ]
  },
  {
   "cell_type": "code",
   "execution_count": null,
   "id": "42037ef4",
   "metadata": {},
   "outputs": [],
   "source": [
    "def paper_doll2(text):\n",
    "    result = ''\n",
    "    for char in text:\n",
    "        result += char*3\n",
    "    return result"
   ]
  },
  {
   "cell_type": "code",
   "execution_count": null,
   "id": "dc89185d",
   "metadata": {},
   "outputs": [],
   "source": [
    "paper_doll2('Hello')"
   ]
  },
  {
   "cell_type": "code",
   "execution_count": null,
   "id": "9240a1e3",
   "metadata": {},
   "outputs": [],
   "source": [
    "paper_doll2('Mississippi')"
   ]
  },
  {
   "cell_type": "markdown",
   "id": "af873ec7",
   "metadata": {},
   "source": [
    "#### BLACKJACK: Given three integers between 1 and 11, if their sum is less than or equal to 21, return their sum. If their sum exceeds 21 *and* there's an eleven, reduce the total sum by 10. Finally, if the sum (even after adjustment) exceeds 21, return 'BUST'\n",
    "    blackjack(5,6,7) --> 18\n",
    "    blackjack(9,9,9) --> 'BUST'\n",
    "    blackjack(9,9,11) --> 19"
   ]
  },
  {
   "cell_type": "code",
   "execution_count": null,
   "id": "ed863523",
   "metadata": {},
   "outputs": [],
   "source": [
    "def blackjack(a,b,c):\n",
    "    suma = (a + b + c)\n",
    "    if (a == 11) or (b== 11) or (c== 11):\n",
    "        suma = suma-10\n",
    "    \n",
    "    if suma <= 21:\n",
    "        return suma\n",
    "\n",
    "    else:\n",
    "        return 'BUST'"
   ]
  },
  {
   "cell_type": "code",
   "execution_count": null,
   "id": "51fb3c43",
   "metadata": {},
   "outputs": [],
   "source": [
    "blackjack(5,6,7)"
   ]
  },
  {
   "cell_type": "code",
   "execution_count": null,
   "id": "83703ce1",
   "metadata": {},
   "outputs": [],
   "source": [
    "blackjack(9,9,9)"
   ]
  },
  {
   "cell_type": "code",
   "execution_count": null,
   "id": "417fa0de",
   "metadata": {},
   "outputs": [],
   "source": [
    "blackjack(9,9,11)"
   ]
  },
  {
   "cell_type": "code",
   "execution_count": null,
   "id": "3e0cbeb2",
   "metadata": {},
   "outputs": [],
   "source": [
    "def blackjack2(a,b,c):\n",
    "    if sum([a,b,c]) <= 21:\n",
    "        return sum([a,b,c])\n",
    "    elif 11 in [a,b,c] and sum ([a,b,c]) <= 31:\n",
    "        return sum([a,b,c])-10\n",
    "    else:\n",
    "        return 'BUST'"
   ]
  },
  {
   "cell_type": "code",
   "execution_count": null,
   "id": "213606b0",
   "metadata": {},
   "outputs": [],
   "source": [
    "blackjack2(5,6,7)"
   ]
  },
  {
   "cell_type": "code",
   "execution_count": null,
   "id": "df44913a",
   "metadata": {},
   "outputs": [],
   "source": [
    "blackjack2(9,9,9)"
   ]
  },
  {
   "cell_type": "code",
   "execution_count": null,
   "id": "26bbd45e",
   "metadata": {},
   "outputs": [],
   "source": [
    "blackjack2(9,9,11)"
   ]
  },
  {
   "cell_type": "markdown",
   "id": "ad5aecf8",
   "metadata": {},
   "source": [
    "#### SUMMER OF '69: Return the sum of the numbers in the array, except ignore sections of numbers starting with a 6 and extending to the next 9 (every 6 will be followed by at least one 9). Return 0 for no numbers.\n",
    " \n",
    "    summer_69([1, 3, 5]) --> 9\n",
    "    summer_69([4, 5, 6, 7, 8, 9]) --> 9\n",
    "    summer_69([2, 1, 6, 9, 11]) --> 14"
   ]
  },
  {
   "cell_type": "code",
   "execution_count": null,
   "id": "0c98cfda",
   "metadata": {},
   "outputs": [],
   "source": [
    "def summer_69(list):\n",
    "    total = 0\n",
    "    l_pos = 0\n",
    "    its_69 = False\n",
    "    while l_pos < len(list):\n",
    "        if list[l_pos] == 6:\n",
    "            its_69 = True\n",
    "        elif its_69 == False:\n",
    "            total = total+(list[l_pos])\n",
    "            \n",
    "        elif list[l_pos] == 9:\n",
    "            its_69 = False\n",
    "        \n",
    "        l_pos += 1\n",
    "    return total"
   ]
  },
  {
   "cell_type": "code",
   "execution_count": null,
   "id": "2f55b419",
   "metadata": {},
   "outputs": [],
   "source": [
    "summer_69([1, 3, 5])"
   ]
  },
  {
   "cell_type": "code",
   "execution_count": null,
   "id": "bee45d01",
   "metadata": {},
   "outputs": [],
   "source": [
    "summer_69([4, 5, 6, 7, 8, 9])"
   ]
  },
  {
   "cell_type": "code",
   "execution_count": null,
   "id": "fefb14bb",
   "metadata": {},
   "outputs": [],
   "source": [
    "summer_69([2, 1, 6, 9, 11])"
   ]
  },
  {
   "cell_type": "code",
   "execution_count": null,
   "id": "22603c46",
   "metadata": {},
   "outputs": [],
   "source": [
    "def summer_69bis(arr):\n",
    "    total = 0\n",
    "    add = True\n",
    "    for num in arr:\n",
    "        while add:\n",
    "            if num != 6:\n",
    "                total += num\n",
    "                break\n",
    "            else:\n",
    "                add = False\n",
    "        while not add:\n",
    "            if num != 9:\n",
    "                break\n",
    "            else:\n",
    "                add=True\n",
    "                break\n",
    "    return total"
   ]
  },
  {
   "cell_type": "code",
   "execution_count": null,
   "id": "dd7e53d2",
   "metadata": {},
   "outputs": [],
   "source": [
    "summer_69bis([1, 3, 5])"
   ]
  },
  {
   "cell_type": "code",
   "execution_count": null,
   "id": "a88c1f6c",
   "metadata": {},
   "outputs": [],
   "source": [
    "summer_69bis([4, 5, 6, 7, 8, 9])"
   ]
  },
  {
   "cell_type": "code",
   "execution_count": null,
   "id": "f6ec588e",
   "metadata": {},
   "outputs": [],
   "source": [
    "summer_69bis([2, 1, 6, 9, 11])"
   ]
  },
  {
   "cell_type": "markdown",
   "id": "738429b2",
   "metadata": {},
   "source": [
    "#### SPY GAME: Write a function that takes in a list of integers and returns True if it contains 007 in order\n",
    "\n",
    "     spy_game([1,2,4,0,0,7,5]) --> True\n",
    "     spy_game([1,0,2,4,0,5,7]) --> True\n",
    "     spy_game([1,7,2,0,4,5,0]) --> False"
   ]
  },
  {
   "cell_type": "code",
   "execution_count": null,
   "id": "81701ef2",
   "metadata": {},
   "outputs": [],
   "source": [
    "def spy_game (list):\n",
    "    bond = False\n",
    "    l_pos = 0\n",
    "\n",
    "    while l_pos < (len(list)-2):\n",
    "        code = ''\n",
    "      \n",
    "        code = code+str(list[(l_pos)])+str(list[(l_pos)+1])+str(list[(l_pos)+2])\n",
    "        if code == '007':\n",
    "            bond = True\n",
    "        l_pos += 1\n",
    "        print (code)\n",
    "        print (type(code))\n",
    "    return bond\n"
   ]
  },
  {
   "cell_type": "code",
   "execution_count": null,
   "id": "d3be5008",
   "metadata": {},
   "outputs": [],
   "source": [
    "def spy_game (list):\n",
    "    bond = False\n",
    "    l_pos = 0\n",
    "    code = ''\n",
    "    for numb in list:\n",
    "        if (numb == 0) or (numb == 7):\n",
    "            code = code+(str(numb))\n",
    "    if code == '007':\n",
    "        bond = True\n",
    "    \n",
    "    return bond"
   ]
  },
  {
   "cell_type": "code",
   "execution_count": null,
   "id": "df353e74",
   "metadata": {
    "scrolled": true
   },
   "outputs": [],
   "source": [
    "spy_game([1,2,4,0,0,7,5])"
   ]
  },
  {
   "cell_type": "code",
   "execution_count": null,
   "id": "d450c6b2",
   "metadata": {
    "scrolled": true
   },
   "outputs": [],
   "source": [
    "spy_game([1,0,2,4,0,5,7])"
   ]
  },
  {
   "cell_type": "code",
   "execution_count": null,
   "id": "6e563ab0",
   "metadata": {},
   "outputs": [],
   "source": [
    "spy_game([1,7,2,0,4,5,0])"
   ]
  },
  {
   "cell_type": "code",
   "execution_count": null,
   "id": "0b2a3cc8",
   "metadata": {},
   "outputs": [],
   "source": [
    "def spy_game2(nums):\n",
    "    code = [0,0,7,'x']\n",
    "    for num in nums:\n",
    "        if num == code[0]:\n",
    "            code.pop(0)\n",
    "    return len(code) == 1"
   ]
  },
  {
   "cell_type": "code",
   "execution_count": null,
   "id": "558c535a",
   "metadata": {},
   "outputs": [],
   "source": [
    "spy_game2([1,2,4,0,0,7,5])"
   ]
  },
  {
   "cell_type": "code",
   "execution_count": null,
   "id": "0f79d8de",
   "metadata": {},
   "outputs": [],
   "source": [
    "spy_game2([1,0,2,4,0,5,7])"
   ]
  },
  {
   "cell_type": "code",
   "execution_count": null,
   "id": "2678d6cb",
   "metadata": {},
   "outputs": [],
   "source": [
    "spy_game2([1,7,2,0,4,5,0])"
   ]
  },
  {
   "cell_type": "markdown",
   "id": "3d38a7b5",
   "metadata": {},
   "source": [
    "#### COUNT PRIMES: Write a function that returns the *number* of prime numbers that exist up to and including a given number\n",
    "    count_primes(100) --> 25\n",
    "\n",
    "By convention, 0 and 1 are not prime."
   ]
  },
  {
   "cell_type": "code",
   "execution_count": null,
   "id": "3d38c705",
   "metadata": {},
   "outputs": [],
   "source": [
    "def count_primes(int):\n",
    "    n_range = range(2,(int+1))\n",
    "    n_list = []\n",
    "    p_count = 0\n",
    "    p_list = []\n",
    "          \n",
    "    for n in n_range:\n",
    "        c_range = range(2,(n))\n",
    "        is_prime = True\n",
    "        m = n\n",
    "        for c in c_range:\n",
    "            if m%c == 0:\n",
    "                is_prime = False\n",
    "        if is_prime == True:\n",
    "            p_count += 1\n",
    "            p_list.append(m)\n",
    "        \n",
    "    print (p_count)\n",
    "    print (p_list)"
   ]
  },
  {
   "cell_type": "code",
   "execution_count": null,
   "id": "4cd5c2fa",
   "metadata": {},
   "outputs": [],
   "source": [
    "count_primes(100)"
   ]
  },
  {
   "cell_type": "code",
   "execution_count": null,
   "id": "23442467",
   "metadata": {},
   "outputs": [],
   "source": [
    "count_primes(200)"
   ]
  },
  {
   "cell_type": "code",
   "execution_count": null,
   "id": "6f77050e",
   "metadata": {},
   "outputs": [],
   "source": [
    "def count_primes2(num):\n",
    "    # Check for 0 or 1 input\n",
    "    if num < 2:\n",
    "        return 0\n",
    "    # 2 or greater\n",
    "    \n",
    "    primes=[2]\n",
    "    x = 3\n",
    "    \n",
    "    while x <= num:\n",
    "        for y in range(3,x,2): # or i could replace the range for the primes list\n",
    "            if x%y == 0:\n",
    "                x += 2\n",
    "                break\n",
    "        else:\n",
    "            primes.append(x)\n",
    "            x += 2\n",
    "    print(primes)\n",
    "    return len(primes)"
   ]
  },
  {
   "cell_type": "code",
   "execution_count": null,
   "id": "7da5d20f",
   "metadata": {},
   "outputs": [],
   "source": [
    "count_primes2(100)"
   ]
  },
  {
   "cell_type": "code",
   "execution_count": null,
   "id": "b5add97c",
   "metadata": {},
   "outputs": [],
   "source": [
    "count_primes2(200)"
   ]
  },
  {
   "cell_type": "markdown",
   "id": "0bcc7f71",
   "metadata": {},
   "source": [
    "### Just for fun:\n",
    "#### PRINT BIG: Write a function that takes in a single letter, and returns a 5x5 representation of that letter\n",
    "    print_big('a')\n",
    "    \n",
    "    out:   *  \n",
    "          * *\n",
    "         *****\n",
    "         *   *\n",
    "         *   *\n",
    "HINT: Consider making a dictionary of possible patterns, and mapping the alphabet to specific 5-line combinations of patterns. <br>For purposes of this exercise, it's ok if your dictionary stops at \"E\"."
   ]
  },
  {
   "cell_type": "code",
   "execution_count": null,
   "id": "a0e50731",
   "metadata": {},
   "outputs": [],
   "source": [
    "print ('  *  \\n * * \\n*****\\n*   *\\n*   *')"
   ]
  },
  {
   "cell_type": "code",
   "execution_count": null,
   "id": "1bc7c989",
   "metadata": {},
   "outputs": [],
   "source": [
    "let_dict = {'a':'  *  \\n * * \\n*****\\n*   *\\n*   *', 'b':'**** \\n*   *\\n**** \\n*   *\\n**** ', 'c':' ****\\n*   \\n*    \\n*    \\n ****', 'd':'**** \\n*   * \\n*   *\\n*   * \\n**** ', 'e':'*****\\n*    \\n*****\\n*    \\n*****'}"
   ]
  },
  {
   "cell_type": "code",
   "execution_count": null,
   "id": "c0a0af06",
   "metadata": {},
   "outputs": [],
   "source": [
    "print(let_dict['e'])"
   ]
  },
  {
   "cell_type": "code",
   "execution_count": null,
   "id": "f06868ea",
   "metadata": {},
   "outputs": [],
   "source": [
    "def print_big(key):\n",
    "    let_dict = {'a':'  *  \\n * * \\n*****\\n*   *\\n*   *', 'b':'**** \\n*   *\\n**** \\n*   *\\n**** ', 'c':' ****\\n*   \\n*    \\n*    \\n ****', 'd':'**** \\n*   * \\n*   *\\n*   * \\n**** ', 'e':'*****\\n*    \\n*****\\n*    \\n*****'}\n",
    "    \n",
    "    print(let_dict[key])"
   ]
  },
  {
   "cell_type": "code",
   "execution_count": null,
   "id": "de68595e",
   "metadata": {},
   "outputs": [],
   "source": [
    "print_big('a')"
   ]
  },
  {
   "cell_type": "code",
   "execution_count": null,
   "id": "982492ed",
   "metadata": {},
   "outputs": [],
   "source": [
    "print_big('c')"
   ]
  },
  {
   "cell_type": "code",
   "execution_count": null,
   "id": "37b44646",
   "metadata": {},
   "outputs": [],
   "source": [
    "print_big('e')"
   ]
  },
  {
   "cell_type": "code",
   "execution_count": null,
   "id": "571f0857",
   "metadata": {},
   "outputs": [],
   "source": [
    "def print_big2(letter):\n",
    "    patterns = {1:'  *  ', 2:' * * ', 3:'*   *', 4:'*****', 5:'**** ', 6:'    *', 7:' *   ', 8:'*  * ', 9:'*    '}\n",
    "    \n",
    "    alphabet = {'A':[1,2,4,3,3], 'B':[5,3,5,3,5], 'C':[4,9,9,9,4], 'D':[5,3,3,3,5], 'E':[4,9,4,9,4]}\n",
    "    for pattern in alphabet[letter.upper()]:\n",
    "        print(patterns[pattern])"
   ]
  },
  {
   "cell_type": "code",
   "execution_count": null,
   "id": "b945dd79",
   "metadata": {},
   "outputs": [],
   "source": [
    "print_big2('b')"
   ]
  },
  {
   "cell_type": "code",
   "execution_count": null,
   "id": "c919d7bd",
   "metadata": {
    "scrolled": true
   },
   "outputs": [],
   "source": [
    "print_big2('d')"
   ]
  },
  {
   "cell_type": "markdown",
   "id": "61155aad",
   "metadata": {},
   "source": [
    "# Lambda, Filter and Maps"
   ]
  },
  {
   "cell_type": "code",
   "execution_count": null,
   "id": "187ca8f0",
   "metadata": {},
   "outputs": [],
   "source": [
    "my_nums = [1,2,3,4,5]\n",
    "for item in map((lambda num: num**2),my_nums):\n",
    "    print (item)\n"
   ]
  },
  {
   "cell_type": "code",
   "execution_count": null,
   "id": "b29772fb",
   "metadata": {},
   "outputs": [],
   "source": [
    "my_nums = [1,2,3,4,5]\n",
    "list(map((lambda num: num**2),my_nums))"
   ]
  },
  {
   "cell_type": "code",
   "execution_count": null,
   "id": "71407339",
   "metadata": {},
   "outputs": [],
   "source": [
    "def splicer(mystring):\n",
    "    if len(mystring)%2 == 0:\n",
    "        return 'EVEN'\n",
    "    else:\n",
    "        return mystring[0]"
   ]
  },
  {
   "cell_type": "code",
   "execution_count": null,
   "id": "78cac92b",
   "metadata": {},
   "outputs": [],
   "source": [
    "names=['Andy','Eve','Sally']"
   ]
  },
  {
   "cell_type": "code",
   "execution_count": null,
   "id": "d7d56eca",
   "metadata": {},
   "outputs": [],
   "source": [
    "list(map(splicer,names))"
   ]
  },
  {
   "cell_type": "code",
   "execution_count": null,
   "id": "7d7eaee0",
   "metadata": {},
   "outputs": [],
   "source": [
    "def check_even(num):\n",
    "    return num%2 == 0"
   ]
  },
  {
   "cell_type": "code",
   "execution_count": null,
   "id": "a81c0405",
   "metadata": {},
   "outputs": [],
   "source": [
    "mynums = [1,2,3,4,5,6]"
   ]
  },
  {
   "cell_type": "code",
   "execution_count": null,
   "id": "5bcaa160",
   "metadata": {},
   "outputs": [],
   "source": [
    "list(filter(check_even, mynums))"
   ]
  },
  {
   "cell_type": "code",
   "execution_count": null,
   "id": "4b108c21",
   "metadata": {},
   "outputs": [],
   "source": [
    "def square(num):\n",
    "    result = num **2\n",
    "    return result"
   ]
  },
  {
   "cell_type": "code",
   "execution_count": null,
   "id": "2b25c549",
   "metadata": {},
   "outputs": [],
   "source": [
    "square(3)"
   ]
  },
  {
   "cell_type": "code",
   "execution_count": null,
   "id": "11641c1c",
   "metadata": {},
   "outputs": [],
   "source": [
    "def square(num):\n",
    "    return num **2"
   ]
  },
  {
   "cell_type": "code",
   "execution_count": null,
   "id": "0e860d7f",
   "metadata": {},
   "outputs": [],
   "source": [
    "def square(num): return num **2"
   ]
  },
  {
   "cell_type": "code",
   "execution_count": null,
   "id": "40a47bb0",
   "metadata": {},
   "outputs": [],
   "source": [
    "square = lambda num: num **2"
   ]
  },
  {
   "cell_type": "code",
   "execution_count": null,
   "id": "99f3172d",
   "metadata": {},
   "outputs": [],
   "source": [
    "square(5)"
   ]
  },
  {
   "cell_type": "code",
   "execution_count": null,
   "id": "1db60181",
   "metadata": {},
   "outputs": [],
   "source": [
    "list(map(lambda num:num**2, mynums))"
   ]
  },
  {
   "cell_type": "code",
   "execution_count": null,
   "id": "c46a4a64",
   "metadata": {},
   "outputs": [],
   "source": [
    "list(filter(lambda num:num%2 == 0, list(map(lambda num:num**2, mynums))))"
   ]
  },
  {
   "cell_type": "markdown",
   "id": "23f874b4",
   "metadata": {},
   "source": [
    "# Nested Statements and Scope"
   ]
  },
  {
   "cell_type": "code",
   "execution_count": null,
   "id": "bb90aae0",
   "metadata": {},
   "outputs": [],
   "source": [
    "x = 25\n",
    "\n",
    "def printer():\n",
    "    x = 50\n",
    "    return x"
   ]
  },
  {
   "cell_type": "code",
   "execution_count": null,
   "id": "01c3c4bd",
   "metadata": {},
   "outputs": [],
   "source": [
    "print(x)"
   ]
  },
  {
   "cell_type": "code",
   "execution_count": null,
   "id": "511a9946",
   "metadata": {},
   "outputs": [],
   "source": [
    "print(printer())"
   ]
  },
  {
   "cell_type": "code",
   "execution_count": null,
   "id": "6e63ec79",
   "metadata": {},
   "outputs": [],
   "source": [
    "name = 'This is a Global String'\n",
    "\n",
    "def greet():\n",
    "    name = 'Sammy'\n",
    "    \n",
    "    def hello():\n",
    "        print('Hello '+name)\n",
    "    hello()\n",
    "    "
   ]
  },
  {
   "cell_type": "code",
   "execution_count": null,
   "id": "14655786",
   "metadata": {},
   "outputs": [],
   "source": [
    "greet()"
   ]
  },
  {
   "cell_type": "code",
   "execution_count": null,
   "id": "d3bad41a",
   "metadata": {},
   "outputs": [],
   "source": [
    "name"
   ]
  },
  {
   "cell_type": "code",
   "execution_count": null,
   "id": "3d776dfa",
   "metadata": {},
   "outputs": [],
   "source": [
    "greet()\n",
    "name"
   ]
  },
  {
   "cell_type": "code",
   "execution_count": null,
   "id": "2a50c7ce",
   "metadata": {},
   "outputs": [],
   "source": [
    "x = 50\n",
    "def func(x):\n",
    "    print(f'X is {x}')"
   ]
  },
  {
   "cell_type": "code",
   "execution_count": null,
   "id": "bc59796c",
   "metadata": {},
   "outputs": [],
   "source": [
    "func(x)"
   ]
  },
  {
   "cell_type": "code",
   "execution_count": null,
   "id": "fb8c69d5",
   "metadata": {},
   "outputs": [],
   "source": [
    "x = 50\n",
    "def func(x):\n",
    "    print(f'X is {x}')\n",
    "    \n",
    "    # Local Reassigment!\n",
    "    \n",
    "    x = 200\n",
    "    \n",
    "    print(f'I just locally changed X to {x}')"
   ]
  },
  {
   "cell_type": "code",
   "execution_count": null,
   "id": "35345605",
   "metadata": {},
   "outputs": [],
   "source": [
    "func(x)"
   ]
  },
  {
   "cell_type": "code",
   "execution_count": null,
   "id": "6e9aa57b",
   "metadata": {},
   "outputs": [],
   "source": [
    "print(x)"
   ]
  },
  {
   "cell_type": "code",
   "execution_count": null,
   "id": "f9ff3565",
   "metadata": {},
   "outputs": [],
   "source": [
    "x = 50\n",
    "def func():\n",
    "    global x\n",
    "    print(f'X is {x}')\n",
    "    \n",
    "    # Local Reassigment on a global variable!\n",
    "    \n",
    "    x = 'NEW VALUE'\n",
    "    \n",
    "    print(f'I just locally changed GLOBAL X to {x}')"
   ]
  },
  {
   "cell_type": "code",
   "execution_count": null,
   "id": "3c6dbdba",
   "metadata": {},
   "outputs": [],
   "source": [
    "print(x)"
   ]
  },
  {
   "cell_type": "code",
   "execution_count": null,
   "id": "d4cff75e",
   "metadata": {},
   "outputs": [],
   "source": [
    "func()"
   ]
  },
  {
   "cell_type": "code",
   "execution_count": null,
   "id": "4ffe0a2b",
   "metadata": {},
   "outputs": [],
   "source": [
    "print(x)"
   ]
  },
  {
   "cell_type": "markdown",
   "id": "35b528d2",
   "metadata": {},
   "source": [
    "# Functions and Methods Homework \n",
    "\n",
    "Complete the following questions:\n",
    "____\n",
    "**Write a function that computes the volume of a sphere given its radius.**\n",
    "<p>The volume of a sphere is given as $$\\frac{4}{3} πr^3$$</p>"
   ]
  },
  {
   "cell_type": "code",
   "execution_count": null,
   "id": "1d8424f6",
   "metadata": {},
   "outputs": [],
   "source": [
    "\n",
    "def vol(rad):\n",
    "    from math import pi\n",
    "    return (4/3)*pi*(rad**3)"
   ]
  },
  {
   "cell_type": "code",
   "execution_count": null,
   "id": "184f7192",
   "metadata": {},
   "outputs": [],
   "source": [
    "# Check\n",
    "vol(2)"
   ]
  },
  {
   "cell_type": "markdown",
   "id": "5b3ea9bf",
   "metadata": {},
   "source": [
    "___\n",
    "**Write a function that checks whether a number is in a given range (inclusive of high and low)**"
   ]
  },
  {
   "cell_type": "code",
   "execution_count": null,
   "id": "d8b02ffa",
   "metadata": {},
   "outputs": [],
   "source": [
    "def ran_check(num,low,high):\n",
    "    for i in range(low,high+1):\n",
    "        if i == num:\n",
    "            return f'Yes, {num} is between {low} and {high}'\n",
    "        else:\n",
    "            continue\n",
    "    return f'No, {num} is not between {low} and {high}'\n",
    "        "
   ]
  },
  {
   "cell_type": "code",
   "execution_count": null,
   "id": "f598dfdb",
   "metadata": {},
   "outputs": [],
   "source": [
    "ran_check(5,2,7)"
   ]
  },
  {
   "cell_type": "markdown",
   "id": "ebee451e",
   "metadata": {},
   "source": [
    "If you only wanted to return a boolean:"
   ]
  },
  {
   "cell_type": "code",
   "execution_count": null,
   "id": "57d1d26b",
   "metadata": {},
   "outputs": [],
   "source": [
    "def ran_bool(num,low,high):\n",
    "    for i in range(low,high+1):\n",
    "        if i == num:\n",
    "            return i == num\n",
    "        else:\n",
    "            continue\n",
    "    return i == num"
   ]
  },
  {
   "cell_type": "code",
   "execution_count": null,
   "id": "b9a6bede",
   "metadata": {
    "scrolled": true
   },
   "outputs": [],
   "source": [
    "ran_bool(3,1,10)"
   ]
  },
  {
   "cell_type": "code",
   "execution_count": null,
   "id": "8bf45d95",
   "metadata": {},
   "outputs": [],
   "source": [
    "def ran_check2(num,low,high):\n",
    "    if num in range(low,high+1):\n",
    "        return f'Yes, {num} is between {low} and {high}'\n",
    "    else:\n",
    "        return f'No, {num} is not between {low} and {high}'"
   ]
  },
  {
   "cell_type": "code",
   "execution_count": null,
   "id": "5f5cc572",
   "metadata": {},
   "outputs": [],
   "source": [
    "ran_check2(5,2,7)"
   ]
  },
  {
   "cell_type": "code",
   "execution_count": null,
   "id": "4e6a6ee0",
   "metadata": {},
   "outputs": [],
   "source": [
    "def ran_bool2(num,low,high):\n",
    "    return num in range(low,high+1)"
   ]
  },
  {
   "cell_type": "code",
   "execution_count": null,
   "id": "2fa31628",
   "metadata": {},
   "outputs": [],
   "source": [
    "ran_bool2(3,1,10)"
   ]
  },
  {
   "cell_type": "markdown",
   "id": "85bcaa89",
   "metadata": {},
   "source": [
    "____\n",
    "**Write a Python function that accepts a string and calculates the number of upper case letters and lower case letters.**\n",
    "\n",
    "    Sample String : 'Hello Mr. Rogers, how are you this fine Tuesday?'\n",
    "    Expected Output : \n",
    "    No. of Upper case characters : 4\n",
    "    No. of Lower case Characters : 33\n",
    "\n",
    "HINT: Two string methods that might prove useful: **.isupper()** and **.islower()**\n",
    "\n",
    "If you feel ambitious, explore the Collections module to solve this problem!"
   ]
  },
  {
   "cell_type": "code",
   "execution_count": null,
   "id": "339e2b18",
   "metadata": {},
   "outputs": [],
   "source": [
    "def up_low(str):\n",
    "    upp_count = 0\n",
    "    low_count = 0\n",
    "    str_list = []\n",
    "    for i in range(1,len(s)):\n",
    "        str_list.append(s[(i-1)])\n",
    "\n",
    "    for l in str_list:\n",
    "        if l.isupper() == True:\n",
    "            upp_count += 1\n",
    "        else:\n",
    "            low_count += 1\n",
    "    print (f'No. of Upper case characters : {upp_count}')\n",
    "    print (f'No. of Lower case Characters : {low_count}')"
   ]
  },
  {
   "cell_type": "code",
   "execution_count": null,
   "id": "86818ce9",
   "metadata": {
    "scrolled": true
   },
   "outputs": [],
   "source": [
    "s = 'Hello Mr. Rogers, how are you this fine Tuesday?'\n",
    "up_low(s)"
   ]
  },
  {
   "cell_type": "code",
   "execution_count": null,
   "id": "f3a2fc2a",
   "metadata": {},
   "outputs": [],
   "source": [
    "def up_low2(s):\n",
    "    lowcase=0\n",
    "    uppcase=0\n",
    "    \n",
    "    for char in s:\n",
    "        if char.isupper():\n",
    "            uppcase +=1\n",
    "        elif char.islower():\n",
    "            lowcase+=1\n",
    "        else:\n",
    "            pass\n",
    "    print (f'No. of Upper case characters : {uppcase}')\n",
    "    print (f'No. of Lower case Characters : {lowcase}')"
   ]
  },
  {
   "cell_type": "code",
   "execution_count": null,
   "id": "2cdbafa3",
   "metadata": {},
   "outputs": [],
   "source": [
    "s = 'Hello Mr. Rogers, how are you this fine Tuesday?'\n",
    "up_low2(s)"
   ]
  },
  {
   "cell_type": "code",
   "execution_count": null,
   "id": "03a4cdcb",
   "metadata": {},
   "outputs": [],
   "source": [
    "def up_low3(s):\n",
    "    d = {'upper':0,'lower':0}\n",
    "    \n",
    "    for char in s:\n",
    "        if char.isupper():\n",
    "            d['upper']+=1\n",
    "        elif char.islower():\n",
    "            d['lower']+=1\n",
    "        else:\n",
    "            pass\n",
    "    \n",
    "    print (f'No. of Upper case characters : {d[\"upper\"]}')\n",
    "    print (f'No. of Lower case Characters : {d[\"lower\"]}')"
   ]
  },
  {
   "cell_type": "code",
   "execution_count": null,
   "id": "9295341a",
   "metadata": {},
   "outputs": [],
   "source": [
    "s = 'Hello Mr. Rogers, how are you this fine Tuesday?'\n",
    "up_low3(s)"
   ]
  },
  {
   "cell_type": "markdown",
   "id": "68c55f61",
   "metadata": {},
   "source": [
    "____\n",
    "**Write a Python function that takes a list and returns a new list with unique elements of the first list.**\n",
    "\n",
    "    Sample List : [1,1,1,1,2,2,3,3,3,3,4,5]\n",
    "    Unique List : [1, 2, 3, 4, 5]"
   ]
  },
  {
   "cell_type": "code",
   "execution_count": null,
   "id": "2b549c41",
   "metadata": {},
   "outputs": [],
   "source": [
    "def unique_list(lst):\n",
    "  \n",
    "    u_list = []\n",
    "      \n",
    "    for x in lst:\n",
    "        if x not in u_list:\n",
    "            u_list.append(x)\n",
    "\n",
    "    return u_list"
   ]
  },
  {
   "cell_type": "code",
   "execution_count": null,
   "id": "566fdef5",
   "metadata": {},
   "outputs": [],
   "source": [
    "unique_list([1,1,1,1,2,2,3,3,3,3,4,5])"
   ]
  },
  {
   "cell_type": "code",
   "execution_count": null,
   "id": "f0d4a204",
   "metadata": {},
   "outputs": [],
   "source": [
    "def unique_list2(lst):\n",
    "    return list(set(lst))"
   ]
  },
  {
   "cell_type": "code",
   "execution_count": null,
   "id": "11421af9",
   "metadata": {},
   "outputs": [],
   "source": [
    "unique_list2([1,1,1,1,2,2,3,3,3,3,4,5])"
   ]
  },
  {
   "cell_type": "code",
   "execution_count": null,
   "id": "49d7756d",
   "metadata": {},
   "outputs": [],
   "source": [
    "def unique_list3(lst):\n",
    "    import numpy as np\n",
    "    x = np.array(lst)\n",
    "    return np.unique(x)"
   ]
  },
  {
   "cell_type": "code",
   "execution_count": null,
   "id": "897822b8",
   "metadata": {},
   "outputs": [],
   "source": [
    "unique_list3([1,1,1,1,2,2,3,3,3,3,4,5])"
   ]
  },
  {
   "cell_type": "markdown",
   "id": "9b811e2e",
   "metadata": {},
   "source": [
    "____\n",
    "**Write a Python function to multiply all the numbers in a list.**\n",
    "\n",
    "    Sample List : [1, 2, 3, -4]\n",
    "    Expected Output : -24"
   ]
  },
  {
   "cell_type": "code",
   "execution_count": null,
   "id": "433f5430",
   "metadata": {},
   "outputs": [],
   "source": [
    "def multiply(numbers):  \n",
    "    result = 1\n",
    "    for n in numbers:\n",
    "        result = result*n\n",
    "    return result"
   ]
  },
  {
   "cell_type": "code",
   "execution_count": null,
   "id": "ec61bd12",
   "metadata": {},
   "outputs": [],
   "source": [
    "multiply([1,2,3,-4])"
   ]
  },
  {
   "cell_type": "markdown",
   "id": "20c8fb7e",
   "metadata": {},
   "source": [
    "____\n",
    "**Write a Python function that checks whether a word or phrase is palindrome or not.**\n",
    "\n",
    "Note: A palindrome is word, phrase, or sequence that reads the same backward as forward, e.g., madam,kayak,racecar, or a phrase \"nurses run\". Hint: You may want to check out the .replace() method in a string to help out with dealing with spaces. Also google search how to reverse a string in Python, there are some clever ways to do it with slicing notation."
   ]
  },
  {
   "cell_type": "code",
   "execution_count": null,
   "id": "91cc6b83",
   "metadata": {},
   "outputs": [],
   "source": [
    "def palindrome(s):\n",
    "    s_dir = s.replace(' ','')\n",
    "    print (s_dir)\n",
    "    s_inv = s_dir[::-1]\n",
    "    print (s_inv)\n",
    "    return s_dir.lower() == s_inv.lower()"
   ]
  },
  {
   "cell_type": "code",
   "execution_count": null,
   "id": "d39d24d6",
   "metadata": {},
   "outputs": [],
   "source": [
    "palindrome('helleh')"
   ]
  },
  {
   "cell_type": "code",
   "execution_count": null,
   "id": "95b22505",
   "metadata": {},
   "outputs": [],
   "source": [
    "palindrome('nurses run')"
   ]
  },
  {
   "cell_type": "code",
   "execution_count": null,
   "id": "006b6c39",
   "metadata": {},
   "outputs": [],
   "source": [
    "def palindrome2(s):\n",
    "    s = s.replace(' ','')\n",
    "    return s == s[::-1]"
   ]
  },
  {
   "cell_type": "code",
   "execution_count": null,
   "id": "938573c3",
   "metadata": {},
   "outputs": [],
   "source": [
    "palindrome2('helleh')"
   ]
  },
  {
   "cell_type": "code",
   "execution_count": null,
   "id": "618c68ed",
   "metadata": {},
   "outputs": [],
   "source": [
    "palindrome2('nurses run')"
   ]
  },
  {
   "cell_type": "markdown",
   "id": "2218b597",
   "metadata": {},
   "source": [
    "____\n",
    "#### Hard:\n",
    "\n",
    "**Write a Python function to check whether a string is pangram or not. (Assume the string passed in does not have any punctuation)**\n",
    "\n",
    "    Note : Pangrams are words or sentences containing every letter of the alphabet at least once.\n",
    "    For example : \"The quick brown fox jumps over the lazy dog\"\n",
    "\n",
    "Hint: You may want to use .replace() method to get rid of spaces.\n",
    "\n",
    "Hint: Look at the [string module](https://stackoverflow.com/questions/16060899/alphabet-range-in-python)\n",
    "\n",
    "Hint: In case you want to use [set comparisons](https://medium.com/better-programming/a-visual-guide-to-set-comparisons-in-python-6ab7edb9ec41)"
   ]
  },
  {
   "cell_type": "code",
   "execution_count": null,
   "id": "bc54a5c0",
   "metadata": {},
   "outputs": [],
   "source": [
    "import string\n",
    "\n",
    "def ispangram(str1, alphabet=string.ascii_lowercase):\n",
    "    pass"
   ]
  },
  {
   "cell_type": "code",
   "execution_count": null,
   "id": "678275b9",
   "metadata": {},
   "outputs": [],
   "source": [
    "ispangram(\"The quick brown fox jumps over the lazy dog\")"
   ]
  },
  {
   "cell_type": "code",
   "execution_count": null,
   "id": "79cf9eee",
   "metadata": {},
   "outputs": [],
   "source": [
    "string.ascii_lowercase"
   ]
  },
  {
   "cell_type": "code",
   "execution_count": null,
   "id": "fb003a15",
   "metadata": {},
   "outputs": [],
   "source": [
    "def ispangram(str1, alphabet=string.ascii_lowercase):\n",
    "    str1 = str1.replace(' ','')\n",
    "    let_list = []\n",
    "    for let in str1:\n",
    "        let_list.append(let.lower())\n",
    "    let_list = sorted(list(set(let_list)))\n",
    "    str2 =''\n",
    "    for let in let_list:\n",
    "        str2 = str2+let\n",
    "\n",
    "    return alphabet == str2"
   ]
  },
  {
   "cell_type": "code",
   "execution_count": null,
   "id": "6ba536fe",
   "metadata": {},
   "outputs": [],
   "source": [
    "ispangram(\"The quick brown fox jumps over the lazy dog\")"
   ]
  },
  {
   "cell_type": "code",
   "execution_count": null,
   "id": "4fab92b9",
   "metadata": {},
   "outputs": [],
   "source": [
    "ispangram(\"The quick brown\")"
   ]
  },
  {
   "cell_type": "code",
   "execution_count": null,
   "id": "1df1feb0",
   "metadata": {},
   "outputs": [],
   "source": [
    "ispangram(\"M nvbc xgzdashdjhfjgkhljpio u y t r e e w q\")"
   ]
  },
  {
   "cell_type": "code",
   "execution_count": null,
   "id": "64e7468b",
   "metadata": {},
   "outputs": [],
   "source": [
    "ispangram(\"qwer tyuio pasdf ghjklzxcv   bnm\")"
   ]
  },
  {
   "cell_type": "code",
   "execution_count": null,
   "id": "ab06ecba",
   "metadata": {},
   "outputs": [],
   "source": [
    "ispangram(\"wer tyuio pasdf ghjklzxcv   bnmmmmm\")"
   ]
  },
  {
   "cell_type": "code",
   "execution_count": null,
   "id": "37c9b3d2",
   "metadata": {},
   "outputs": [],
   "source": [
    "import string\n",
    "def ispangram2(str1, alphabet=string.ascii_lowercase):\n",
    "    alphaset=set(alphabet)\n",
    "    str1 = set(str1.replace(' ','').lower())\n",
    "    return alphaset == str1"
   ]
  },
  {
   "cell_type": "code",
   "execution_count": null,
   "id": "dd31f22f",
   "metadata": {},
   "outputs": [],
   "source": [
    "ispangram2(\"The quick brown fox jumps over the lazy dog\")"
   ]
  },
  {
   "cell_type": "code",
   "execution_count": null,
   "id": "d69c4204",
   "metadata": {},
   "outputs": [],
   "source": [
    "ispangram2(\"qwer tyuio pasdf ghjklzxcv   bnm\")"
   ]
  },
  {
   "cell_type": "code",
   "execution_count": null,
   "id": "c418fef5",
   "metadata": {},
   "outputs": [],
   "source": [
    "ispangram2(\"wer tyuio pasdf ghjklzxcv   bnmmmmm\")"
   ]
  },
  {
   "cell_type": "markdown",
   "id": "a63df1fc",
   "metadata": {},
   "source": [
    "# Displaying Information"
   ]
  },
  {
   "cell_type": "code",
   "execution_count": null,
   "id": "869415fe",
   "metadata": {},
   "outputs": [],
   "source": [
    "print([1,2,3])\n",
    "print([4,5,6])\n",
    "print([7,8,9])"
   ]
  },
  {
   "cell_type": "code",
   "execution_count": null,
   "id": "5ffdb41b",
   "metadata": {},
   "outputs": [],
   "source": [
    "def display (row1, row2, row3):\n",
    "    print(row1)\n",
    "    print(row2)\n",
    "    print(row3)"
   ]
  },
  {
   "cell_type": "code",
   "execution_count": null,
   "id": "cadc4693",
   "metadata": {},
   "outputs": [],
   "source": [
    "row1 = [' ',' ',' ']\n",
    "row2 = [' ',' ',' ']\n",
    "row3 = [' ',' ',' ']"
   ]
  },
  {
   "cell_type": "code",
   "execution_count": null,
   "id": "de1d20c3",
   "metadata": {},
   "outputs": [],
   "source": [
    "display (row1, row2, row3)"
   ]
  },
  {
   "cell_type": "code",
   "execution_count": null,
   "id": "4f917cb0",
   "metadata": {},
   "outputs": [],
   "source": [
    "row2 [1] = 'X'"
   ]
  },
  {
   "cell_type": "code",
   "execution_count": null,
   "id": "14d69127",
   "metadata": {},
   "outputs": [],
   "source": [
    "display (row1, row2, row3)"
   ]
  },
  {
   "cell_type": "markdown",
   "id": "9ed57a32",
   "metadata": {},
   "source": [
    "# Validate User Input"
   ]
  },
  {
   "cell_type": "code",
   "execution_count": null,
   "id": "4762eaaa",
   "metadata": {},
   "outputs": [],
   "source": [
    "def user_choice():\n",
    "    choice = input('Please enter a number (0-10):')\n",
    "    return int(choice)"
   ]
  },
  {
   "cell_type": "code",
   "execution_count": null,
   "id": "2d341141",
   "metadata": {},
   "outputs": [],
   "source": [
    "user_choice()"
   ]
  },
  {
   "cell_type": "code",
   "execution_count": null,
   "id": "179aa84e",
   "metadata": {},
   "outputs": [],
   "source": [
    "user_choice()"
   ]
  },
  {
   "cell_type": "code",
   "execution_count": null,
   "id": "18da0d5a",
   "metadata": {},
   "outputs": [],
   "source": [
    "user_choice()"
   ]
  },
  {
   "cell_type": "code",
   "execution_count": null,
   "id": "2847fe7b",
   "metadata": {},
   "outputs": [],
   "source": []
  },
  {
   "cell_type": "code",
   "execution_count": null,
   "id": "4ec42e18",
   "metadata": {},
   "outputs": [],
   "source": [
    "some_value = '100'"
   ]
  },
  {
   "cell_type": "code",
   "execution_count": null,
   "id": "16607255",
   "metadata": {},
   "outputs": [],
   "source": [
    "some_value.isdigit()"
   ]
  },
  {
   "cell_type": "code",
   "execution_count": null,
   "id": "e62a0352",
   "metadata": {},
   "outputs": [],
   "source": [
    "int(some_value)"
   ]
  },
  {
   "cell_type": "code",
   "execution_count": null,
   "id": "7901a06e",
   "metadata": {},
   "outputs": [],
   "source": [
    "def user_choice():\n",
    "    \n",
    "    choice = 'Wrong Input'\n",
    "    \n",
    "    while choice.isdigit() == False:\n",
    "    \n",
    "        choice = input('Please enter a number (0-10): ')\n",
    "        if choice.isdigit() == False:\n",
    "            print('Sorry, that is not a digit!')\n",
    "        \n",
    "    return int(choice)"
   ]
  },
  {
   "cell_type": "code",
   "execution_count": null,
   "id": "e148787d",
   "metadata": {},
   "outputs": [],
   "source": [
    "user_choice()"
   ]
  },
  {
   "cell_type": "code",
   "execution_count": null,
   "id": "6dce667c",
   "metadata": {},
   "outputs": [],
   "source": [
    "def user_choice():\n",
    "    #Variables\n",
    "    #Initial\n",
    "    choice = 'Wrong Input'\n",
    "    acceptable_range = range (0,11)\n",
    "    within_range = False\n",
    "    \n",
    "    # Two conditions to check\n",
    "    # The digit or within range is False\n",
    "    \n",
    "    while choice.isdigit() == False or within_range == False :\n",
    "            \n",
    "        choice = input('Please enter a number (0-10): ')\n",
    "        \n",
    "        # Digit Check\n",
    "        if choice.isdigit() == False:\n",
    "            print('Sorry, that is not a digit!')\n",
    "            \n",
    "        # Range Check\n",
    "        if choice.isdigit():\n",
    "            if int(choice) in acceptable_range:\n",
    "                within_range = True\n",
    "            else:\n",
    "                print('You are out of acceptable range 0 to 10')\n",
    "\n",
    "        \n",
    "    return int(choice)"
   ]
  },
  {
   "cell_type": "code",
   "execution_count": null,
   "id": "a7ca0da8",
   "metadata": {},
   "outputs": [],
   "source": [
    "user_choice()"
   ]
  },
  {
   "cell_type": "code",
   "execution_count": null,
   "id": "cb5ebf24",
   "metadata": {},
   "outputs": [],
   "source": []
  },
  {
   "cell_type": "markdown",
   "id": "d33a09d1",
   "metadata": {},
   "source": [
    "# Object Oriented Programming\n",
    "\n",
    "Object Oriented Programming (OOP) tends to be one of the major obstacles for beginners when they are first starting to learn Python.\n",
    "\n",
    "There are many, many tutorials and lessons covering OOP so feel free to Google search other lessons, and I have also put some links to other useful tutorials online at the bottom of this Notebook.\n",
    "\n",
    "For this lesson we will construct our knowledge of OOP in Python by building on the following topics:\n",
    "\n",
    "* Objects\n",
    "* Using the *class* keyword\n",
    "* Creating class attributes\n",
    "* Creating methods in a class\n",
    "* Learning about Inheritance\n",
    "* Learning about Polymorphism\n",
    "* Learning about Special Methods for classes\n"
   ]
  },
  {
   "cell_type": "markdown",
   "id": "4b1a8af3",
   "metadata": {},
   "source": [
    "## Objects\n",
    "In Python, *everything is an object*. Remember from previous lectures we can use type() to check the type of object something is:"
   ]
  },
  {
   "cell_type": "code",
   "execution_count": null,
   "id": "5f8c25fe",
   "metadata": {},
   "outputs": [],
   "source": [
    "print(type(1))\n",
    "print(type([]))\n",
    "print(type(()))\n",
    "print(type({}))"
   ]
  },
  {
   "cell_type": "markdown",
   "id": "0b2899ed",
   "metadata": {},
   "source": [
    "So we know all these things are objects, so how can we create our own Object types? That is where the <code>class</code> keyword comes in.\n",
    "## class\n",
    "User defined objects are created using the <code>class</code> keyword. The class is a blueprint that defines the nature of a future object. From classes we can construct instances. An instance is a specific object created from a particular class. For example, above we created the object <code>lst</code> which was an instance of a list object. \n",
    "\n",
    "Let see how we can use <code>class</code>:"
   ]
  },
  {
   "cell_type": "code",
   "execution_count": null,
   "id": "ceb2641c",
   "metadata": {},
   "outputs": [],
   "source": [
    "class Sample:\n",
    "    pass\n",
    "\n",
    "x = Sample()\n",
    "\n",
    "type(x)"
   ]
  },
  {
   "cell_type": "markdown",
   "id": "80042fb1",
   "metadata": {},
   "source": [
    "By convention we give classes a name that starts with a capital letter. Note how <code>x</code> is now the reference to our new instance of a Sample class. In other words, we **instantiate** the Sample class.\n",
    "\n",
    "Inside of the class we currently just have pass. But we can define class attributes and methods.\n",
    "\n",
    "An **attribute** is a characteristic of an object.\n",
    "A **method** is an operation we can perform with the object.\n",
    "\n",
    "For example, we can create a class called Dog. An attribute of a dog may be its breed or its name, while a method of a dog may be defined by a .bark() method which returns a sound.\n",
    "\n",
    "Let's get a better understanding of attributes through an example.\n",
    "\n",
    "## Attributes\n",
    "The syntax for creating an attribute is:\n",
    "    \n",
    "    self.attribute = something\n",
    "    \n",
    "There is a special method called:\n",
    "\n",
    "    __init__()\n",
    "\n",
    "This method is used to initialize the attributes of an object. For example:"
   ]
  },
  {
   "cell_type": "code",
   "execution_count": null,
   "id": "ce54eb88",
   "metadata": {},
   "outputs": [],
   "source": [
    "class Dog():\n",
    "    \n",
    "    species = 'mammal'\n",
    "    \n",
    "    def __init__(self, breed, name, spots):\n",
    "        self.breed = breed\n",
    "        self.name = name\n",
    "        self.spots = spots\n",
    "        \n",
    "    def bark(self,number):\n",
    "        print('WOOF! My name is {} and the number is {}'.format(self.name, number))"
   ]
  },
  {
   "cell_type": "code",
   "execution_count": null,
   "id": "1bfdf94b",
   "metadata": {},
   "outputs": [],
   "source": [
    "my_dog = Dog(breed = 'Hermeticus', name = 'Hermes', spots = True)"
   ]
  },
  {
   "cell_type": "code",
   "execution_count": null,
   "id": "51d43624",
   "metadata": {},
   "outputs": [],
   "source": [
    "type(my_dog)"
   ]
  },
  {
   "cell_type": "code",
   "execution_count": null,
   "id": "25dfa895",
   "metadata": {},
   "outputs": [],
   "source": [
    "my_dog.breed"
   ]
  },
  {
   "cell_type": "code",
   "execution_count": null,
   "id": "cc353bc3",
   "metadata": {},
   "outputs": [],
   "source": [
    "my_dog.name"
   ]
  },
  {
   "cell_type": "code",
   "execution_count": null,
   "id": "bbfffa41",
   "metadata": {
    "scrolled": true
   },
   "outputs": [],
   "source": [
    "my_dog.spots"
   ]
  },
  {
   "cell_type": "code",
   "execution_count": null,
   "id": "4ed7627f",
   "metadata": {
    "scrolled": false
   },
   "outputs": [],
   "source": [
    "my_dog.species"
   ]
  },
  {
   "cell_type": "code",
   "execution_count": null,
   "id": "4483d04d",
   "metadata": {},
   "outputs": [],
   "source": [
    "my_dog.bark"
   ]
  },
  {
   "cell_type": "code",
   "execution_count": null,
   "id": "f329b316",
   "metadata": {
    "scrolled": true
   },
   "outputs": [],
   "source": [
    "my_dog.bark(3)"
   ]
  },
  {
   "cell_type": "markdown",
   "id": "0c49238b",
   "metadata": {},
   "source": [
    "Lets break down what we have above.The special method \n",
    "\n",
    "    __init__() \n",
    "is called automatically right after the object has been created:\n",
    "\n",
    "    def __init__(self, breed):\n",
    "Each attribute in a class definition begins with a reference to the instance object. It is by convention named self. The breed is the argument. The value is passed during the class instantiation.\n",
    "\n",
    "     self.breed = breed"
   ]
  },
  {
   "cell_type": "code",
   "execution_count": null,
   "id": "b668b124",
   "metadata": {},
   "outputs": [],
   "source": [
    "class MyNewClass():\n",
    "    \n",
    "    # Class Object Attribute - It's the same for all instances of the class\n",
    "    # example: for the class Dog, they'll always be \"mammals\"\n",
    "    # We don't use the \"self\" keyword\n",
    "    \n",
    "    gral_att = \"It's my class general attribute\"\n",
    "    \n",
    "    \n",
    "    \n",
    "    def __init__(self, expected_variable):\n",
    "        self.attribute_name = expected_variable\n",
    "        \n",
    "    def new_method(self, meth_att):\n",
    "        print('This is the method taking action, and calling the attribute: {} and a method defined attribute {}'.format(self.attribute_name, meth_att))"
   ]
  },
  {
   "cell_type": "code",
   "execution_count": null,
   "id": "ff1dd627",
   "metadata": {},
   "outputs": [],
   "source": [
    "my_object = MyNewClass(expected_variable = \"provided_variable\")"
   ]
  },
  {
   "cell_type": "code",
   "execution_count": null,
   "id": "15913f10",
   "metadata": {},
   "outputs": [],
   "source": [
    "my_object.attribute_name"
   ]
  },
  {
   "cell_type": "code",
   "execution_count": null,
   "id": "1c7729ed",
   "metadata": {},
   "outputs": [],
   "source": [
    "my_object.gral_att"
   ]
  },
  {
   "cell_type": "code",
   "execution_count": null,
   "id": "d2b0c344",
   "metadata": {},
   "outputs": [],
   "source": [
    "my_object.new_method"
   ]
  },
  {
   "cell_type": "code",
   "execution_count": null,
   "id": "d333a364",
   "metadata": {},
   "outputs": [],
   "source": [
    "my_object.new_method(\"->I'm the attribute defined in the method<-\")"
   ]
  },
  {
   "cell_type": "code",
   "execution_count": null,
   "id": "15cd1d2b",
   "metadata": {},
   "outputs": [],
   "source": [
    "class Circle():\n",
    "    \n",
    "    # Class object Atrribute\n",
    "    pi = 3.14\n",
    "    \n",
    "    def __init__(self,radius=1):\n",
    "        \n",
    "        self.radius = radius\n",
    "        self.area = radius*radius*Circle.pi\n",
    "        \n",
    "    #Method\n",
    "    def get_circumference(self):\n",
    "        return self.radius * Circle.pi * 2"
   ]
  },
  {
   "cell_type": "code",
   "execution_count": null,
   "id": "0b3ffcc3",
   "metadata": {},
   "outputs": [],
   "source": [
    "my_circle = Circle()"
   ]
  },
  {
   "cell_type": "code",
   "execution_count": null,
   "id": "094c03de",
   "metadata": {},
   "outputs": [],
   "source": [
    "my_circle.pi"
   ]
  },
  {
   "cell_type": "code",
   "execution_count": null,
   "id": "8ebd2654",
   "metadata": {
    "scrolled": true
   },
   "outputs": [],
   "source": [
    "my_circle.radius"
   ]
  },
  {
   "cell_type": "markdown",
   "id": "7ab8971f",
   "metadata": {},
   "source": [
    "### You can have a predefined value (radius=1 in this case) and then overwrite it when you define the instance of the class object"
   ]
  },
  {
   "cell_type": "code",
   "execution_count": null,
   "id": "13e219f7",
   "metadata": {},
   "outputs": [],
   "source": [
    "my_circle = Circle(30)"
   ]
  },
  {
   "cell_type": "code",
   "execution_count": null,
   "id": "a1c647fb",
   "metadata": {},
   "outputs": [],
   "source": [
    "my_circle.radius"
   ]
  },
  {
   "cell_type": "code",
   "execution_count": null,
   "id": "32fe6da9",
   "metadata": {},
   "outputs": [],
   "source": [
    "my_circle.get_circumference()"
   ]
  },
  {
   "cell_type": "code",
   "execution_count": null,
   "id": "c1e2e742",
   "metadata": {},
   "outputs": [],
   "source": [
    "my_circle.area"
   ]
  },
  {
   "cell_type": "markdown",
   "id": "102b65dd",
   "metadata": {},
   "source": [
    "## Inheritance\n",
    "\n",
    "Inheritance is a way to form new classes using classes that have already been defined. The newly formed classes are called derived classes, the classes that we derive from are called base classes. Important benefits of inheritance are code reuse and reduction of complexity of a program. The derived classes (descendants) override or extend the functionality of base classes (ancestors).\n",
    "\n",
    "Let's see an example by incorporating our previous work on the Dog class:"
   ]
  },
  {
   "cell_type": "code",
   "execution_count": null,
   "id": "08148b54",
   "metadata": {},
   "outputs": [],
   "source": [
    "class Animal:\n",
    "    def __init__(self):\n",
    "        print(\"Animal created\")\n",
    "\n",
    "    def whoAmI(self):\n",
    "        print(\"Animal\")\n",
    "\n",
    "    def eat(self):\n",
    "        print(\"Eating\")\n",
    "\n",
    "\n",
    "class Dog(Animal):\n",
    "    def __init__(self):\n",
    "        Animal.__init__(self)\n",
    "        print(\"Dog created\")\n",
    "\n",
    "    def whoAmI(self):\n",
    "        print(\"Dog\")\n",
    "\n",
    "    def bark(self):\n",
    "        print(\"Woof!\")"
   ]
  },
  {
   "cell_type": "code",
   "execution_count": null,
   "id": "666d900d",
   "metadata": {},
   "outputs": [],
   "source": [
    "d = Dog()"
   ]
  },
  {
   "cell_type": "code",
   "execution_count": null,
   "id": "aa35a098",
   "metadata": {},
   "outputs": [],
   "source": [
    "d.whoAmI()"
   ]
  },
  {
   "cell_type": "code",
   "execution_count": null,
   "id": "8d715c5e",
   "metadata": {},
   "outputs": [],
   "source": [
    "d.eat()"
   ]
  },
  {
   "cell_type": "code",
   "execution_count": null,
   "id": "4c4dedb0",
   "metadata": {},
   "outputs": [],
   "source": [
    "d.bark()"
   ]
  },
  {
   "cell_type": "markdown",
   "id": "c6bb49b6",
   "metadata": {},
   "source": [
    "In this example, we have two classes: Animal and Dog. The Animal is the base class, the Dog is the derived class. \n",
    "\n",
    "The derived class inherits the functionality of the base class. \n",
    "\n",
    "* It is shown by the eat() method. \n",
    "\n",
    "The derived class modifies existing behavior of the base class.\n",
    "\n",
    "* shown by the whoAmI() method. \n",
    "\n",
    "Finally, the derived class extends the functionality of the base class, by defining a new bark() method."
   ]
  },
  {
   "cell_type": "code",
   "execution_count": null,
   "id": "29646756",
   "metadata": {},
   "outputs": [],
   "source": [
    "class BaseClass():\n",
    "    def __init__(self):\n",
    "        print('This is the base class INIT')\n",
    "    \n",
    "    def base_class_method(self):\n",
    "        print('This is the base class METHOD')\n",
    "        \n",
    "    def base_class_method_2(self):\n",
    "        print('This is another base METHOD to be overwritten')"
   ]
  },
  {
   "cell_type": "code",
   "execution_count": null,
   "id": "21cb8c7a",
   "metadata": {},
   "outputs": [],
   "source": [
    "class DerivedClass(BaseClass):\n",
    "    def __init__(self):\n",
    "        BaseClass.__init__(self)\n",
    "        print('This is the derived class INIT')\n",
    "    \n",
    "    def base_class_method_2(self):\n",
    "        print('This is the overwritten version of the original base METHOD')\n",
    "    \n",
    "    def derived_class_method (self):\n",
    "        print('This method was added in the Descendant class')"
   ]
  },
  {
   "cell_type": "code",
   "execution_count": null,
   "id": "9fd1faa6",
   "metadata": {},
   "outputs": [],
   "source": [
    "my_derived_class = DerivedClass()"
   ]
  },
  {
   "cell_type": "code",
   "execution_count": null,
   "id": "62ae409a",
   "metadata": {},
   "outputs": [],
   "source": [
    "my_derived_class.base_class_method_2()"
   ]
  },
  {
   "cell_type": "code",
   "execution_count": null,
   "id": "a350cf63",
   "metadata": {},
   "outputs": [],
   "source": [
    "my_derived_class.derived_class_method()"
   ]
  },
  {
   "cell_type": "markdown",
   "id": "c09b6d46",
   "metadata": {},
   "source": [
    "## Polymorphism\n",
    "\n",
    "We've learned that while functions can take in different arguments, methods belong to the objects they act on. In Python, *polymorphism* refers to the way in which different object classes can share the same method name, and those methods can be called from the same place even though a variety of different objects might be passed in. The best way to explain this is by example:"
   ]
  },
  {
   "cell_type": "code",
   "execution_count": null,
   "id": "f15fd25c",
   "metadata": {},
   "outputs": [],
   "source": [
    "class Dog:\n",
    "    def __init__(self, name):\n",
    "        self.name = name\n",
    "\n",
    "    def speak(self):\n",
    "        return self.name+' says Woof!'\n",
    "    \n",
    "class Cat:\n",
    "    def __init__(self, name):\n",
    "        self.name = name\n",
    "\n",
    "    def speak(self):\n",
    "        return self.name+' says Meow!' \n",
    "    \n",
    "niko = Dog('Niko')\n",
    "felix = Cat('Felix')\n",
    "\n",
    "print(niko.speak())\n",
    "print(felix.speak())"
   ]
  },
  {
   "cell_type": "markdown",
   "id": "fcbadcb9",
   "metadata": {},
   "source": [
    "Here we have a Dog class and a Cat class, and each has a `.speak()` method. When called, each object's `.speak()` method returns a result unique to the object.\n",
    "\n",
    "There a few different ways to demonstrate polymorphism. First, with a for loop:"
   ]
  },
  {
   "cell_type": "code",
   "execution_count": null,
   "id": "2d1e1f96",
   "metadata": {},
   "outputs": [],
   "source": [
    "for pet in [niko,felix]:\n",
    "    print(pet.speak())"
   ]
  },
  {
   "cell_type": "markdown",
   "id": "c405f231",
   "metadata": {},
   "source": [
    "Another is with functions:"
   ]
  },
  {
   "cell_type": "code",
   "execution_count": null,
   "id": "0ab493ee",
   "metadata": {},
   "outputs": [],
   "source": [
    "def pet_speak(pet):\n",
    "    print(pet.speak())\n",
    "\n",
    "pet_speak(niko)\n",
    "pet_speak(felix)"
   ]
  },
  {
   "cell_type": "markdown",
   "id": "2dc7a0a1",
   "metadata": {},
   "source": [
    "In both cases we were able to pass in different object types, and we obtained object-specific results from the same mechanism.\n",
    "\n",
    "A more common practice is to use abstract classes and inheritance. An abstract class is one that never expects to be instantiated. For example, we will never have an Animal object, only Dog and Cat objects, although Dogs and Cats are derived from Animals:"
   ]
  },
  {
   "cell_type": "code",
   "execution_count": null,
   "id": "9ac46632",
   "metadata": {},
   "outputs": [],
   "source": [
    "class Animal:\n",
    "    def __init__(self, name):    # Constructor of the class\n",
    "        self.name = name\n",
    "\n",
    "    def speak(self):              # Abstract method, defined by convention only\n",
    "        raise NotImplementedError(\"Subclass must implement abstract method\")\n",
    "\n",
    "\n",
    "class Dog(Animal):\n",
    "    \n",
    "    def speak(self):\n",
    "        return self.name+' says Woof!'\n",
    "    \n",
    "class Cat(Animal):\n",
    "\n",
    "    def speak(self):\n",
    "        return self.name+' says Meow!'\n",
    "    \n",
    "fido = Dog('Fido')\n",
    "isis = Cat('Isis')\n",
    "\n",
    "print(fido.speak())\n",
    "print(isis.speak())"
   ]
  },
  {
   "cell_type": "markdown",
   "id": "74bb1984",
   "metadata": {},
   "source": [
    "Real life examples of polymorphism include:\n",
    "* opening different file types - different tools are needed to display Word, pdf and Excel files\n",
    "* adding different objects - the `+` operator performs arithmetic and concatenation"
   ]
  },
  {
   "cell_type": "code",
   "execution_count": null,
   "id": "1b5eee36",
   "metadata": {},
   "outputs": [],
   "source": [
    "class FirstClass():\n",
    "    def __init__(self, fc_expected_value):\n",
    "        self.fc_attribute_name = fc_expected_value\n",
    "    \n",
    "    def same_name_method(self):\n",
    "        return self.fc_attribute_name + 'this is a first class method after de expected value of the first class attribute'"
   ]
  },
  {
   "cell_type": "code",
   "execution_count": null,
   "id": "d9fe51e3",
   "metadata": {},
   "outputs": [],
   "source": [
    "class SecondClass():\n",
    "    def __init__(self, sc_expected_value):\n",
    "        self.sc_attribute_name = sc_expected_value\n",
    "    \n",
    "    def same_name_method(self):\n",
    "        return self.sc_attribute_name + ' this is a second class method after de expected value of the second class attribute'"
   ]
  },
  {
   "cell_type": "code",
   "execution_count": null,
   "id": "274c46a2",
   "metadata": {},
   "outputs": [],
   "source": [
    "my_first = FirstClass (\"I'm the FirstC \")\n",
    "my_second = SecondClass (\"I'm the SecondC \")"
   ]
  },
  {
   "cell_type": "code",
   "execution_count": null,
   "id": "2fed9289",
   "metadata": {},
   "outputs": [],
   "source": [
    "print(my_first.same_name_method())"
   ]
  },
  {
   "cell_type": "code",
   "execution_count": null,
   "id": "b0004632",
   "metadata": {},
   "outputs": [],
   "source": [
    "print(my_second.same_name_method())"
   ]
  },
  {
   "cell_type": "markdown",
   "id": "0c0b2e33",
   "metadata": {},
   "source": [
    "# Special Methods\n",
    "### Also know as magic methods or dunder methods (double underscore)"
   ]
  },
  {
   "cell_type": "markdown",
   "id": "133fc89b",
   "metadata": {},
   "source": [
    "Classes in Python can implement certain operations with special method names. These methods are not actually called directly but by Python specific language syntax. For example let's create a Book class:"
   ]
  },
  {
   "cell_type": "code",
   "execution_count": 4,
   "id": "544c13fc",
   "metadata": {},
   "outputs": [],
   "source": [
    "class Book:\n",
    "    def __init__(self, title, author, pages):\n",
    "        print(\"A book is created\")\n",
    "        self.title = title\n",
    "        self.author = author\n",
    "        self.pages = pages\n",
    "\n",
    "    def __str__(self):\n",
    "        return \"Title: %s, author: %s, pages: %s\" %(self.title, self.author, self.pages)\n",
    "\n",
    "    def __len__(self):\n",
    "        return self.pages\n",
    "\n",
    "    def __del__(self):\n",
    "        print(\"A book is destroyed\")"
   ]
  },
  {
   "cell_type": "code",
   "execution_count": 5,
   "id": "e2157a8b",
   "metadata": {},
   "outputs": [
    {
     "name": "stdout",
     "output_type": "stream",
     "text": [
      "A book is created\n",
      "Title: Python Rocks!, author: Jose Portilla, pages: 159\n",
      "159\n",
      "A book is destroyed\n"
     ]
    }
   ],
   "source": [
    "book = Book(\"Python Rocks!\", \"Jose Portilla\", 159)\n",
    "\n",
    "#Special Methods\n",
    "print(book)\n",
    "print(len(book))\n",
    "del book"
   ]
  },
  {
   "cell_type": "markdown",
   "id": "9736f4b6",
   "metadata": {},
   "source": [
    "    The __init__(), __str__(), __len__() and __del__() methods\n",
    "These special methods are defined by their use of underscores. They allow us to use Python specific functions on objects created through our class.\n",
    "\n",
    "**Great! After this lecture you should have a basic understanding of how to create your own objects with class in Python. You will be utilizing this heavily in your next milestone project!**\n",
    "\n",
    "For more great resources on this topic, check out:\n",
    "\n",
    "[Jeff Knupp's Post](https://jeffknupp.com/blog/2014/06/18/improve-your-python-python-classes-and-object-oriented-programming/)\n",
    "\n",
    "[Mozilla's Post](https://developer.mozilla.org/en-US/Learn/Python/Quickly_Learn_Object_Oriented_Programming)\n",
    "\n",
    "[Tutorial's Point](http://www.tutorialspoint.com/python/python_classes_objects.htm)\n",
    "\n",
    "[Official Documentation](https://docs.python.org/3/tutorial/classes.html)"
   ]
  },
  {
   "cell_type": "markdown",
   "id": "47bccc9e",
   "metadata": {},
   "source": [
    "# Object Oriented Programming\n",
    "## Homework Assignment\n",
    "\n",
    "#### Problem 1\n",
    "Fill in the Line class methods to accept coordinates as a pair of tuples and return the slope and distance of the line."
   ]
  },
  {
   "cell_type": "code",
   "execution_count": null,
   "id": "fbdfe481",
   "metadata": {},
   "outputs": [],
   "source": [
    "class Line:\n",
    "    \n",
    "    def __init__(self,coor1,coor2):\n",
    "        self.coor1 = coor1\n",
    "        self.coor2 = coor2\n",
    "\n",
    "    \n",
    "    def distance(self):\n",
    "        x1,y1= self.coor1\n",
    "        x2,y2= self.coor2\n",
    "        return ((x2-x1)**2+((y2-y1)**2))**(1.0/2)\n",
    "    \n",
    "    def slope(self):\n",
    "        x1,y1= self.coor1\n",
    "        x2,y2= self.coor2\n",
    "        return (y2-y1)/(x2-x1)"
   ]
  },
  {
   "cell_type": "code",
   "execution_count": null,
   "id": "712d2244",
   "metadata": {},
   "outputs": [],
   "source": [
    "distance_formula: d = (((x2-x1)**2+((y2-y1)**2))***2\n",
    "\n",
    "slope_formula: m = (y2-y1)/(x2-x1)"
   ]
  },
  {
   "cell_type": "code",
   "execution_count": null,
   "id": "ca28d072",
   "metadata": {},
   "outputs": [],
   "source": [
    "# EXAMPLE OUTPUT\n",
    "\n",
    "coordinate1 = (3,2)\n",
    "coordinate2 = (8,10)\n",
    "\n",
    "li = Line(coordinate1,coordinate2)"
   ]
  },
  {
   "cell_type": "code",
   "execution_count": null,
   "id": "04314b3d",
   "metadata": {},
   "outputs": [],
   "source": [
    "li.distance()"
   ]
  },
  {
   "cell_type": "code",
   "execution_count": null,
   "id": "7c793f6f",
   "metadata": {},
   "outputs": [],
   "source": [
    "li.slope()"
   ]
  },
  {
   "cell_type": "markdown",
   "id": "b8b7680f",
   "metadata": {},
   "source": [
    "#### Problem 2\n",
    "\n",
    "Fill in the class "
   ]
  },
  {
   "cell_type": "code",
   "execution_count": null,
   "id": "606792ee",
   "metadata": {},
   "outputs": [],
   "source": [
    "class Cylinder:\n",
    "    \n",
    "    pi = 3.14159\n",
    "    \n",
    "    def __init__(self,height=1,radius=1):\n",
    "        self.height = height\n",
    "        self.radius = radius\n",
    "        \n",
    "    def volume(self):\n",
    "        return Cylinder.pi * (self.radius**2 ) * self.height\n",
    "    \n",
    "    def surface_area(self):\n",
    "        return (2 * Cylinder.pi * self.radius * self.height) + (2 * Cylinder.pi * ( self.radius **2))"
   ]
  },
  {
   "cell_type": "code",
   "execution_count": null,
   "id": "f84b306f",
   "metadata": {},
   "outputs": [],
   "source": [
    "volume_formula: V=πr**2h\n",
    "    \n",
    "surface_formula: A=2πrh+2πr**2\n",
    "\n"
   ]
  },
  {
   "cell_type": "code",
   "execution_count": null,
   "id": "fc2ab44f",
   "metadata": {},
   "outputs": [],
   "source": [
    "# EXAMPLE OUTPUT\n",
    "c = Cylinder(2,3)"
   ]
  },
  {
   "cell_type": "code",
   "execution_count": null,
   "id": "1c416b1c",
   "metadata": {},
   "outputs": [],
   "source": [
    "c.volume()"
   ]
  },
  {
   "cell_type": "code",
   "execution_count": null,
   "id": "6d74b31e",
   "metadata": {},
   "outputs": [],
   "source": [
    "c.surface_area()"
   ]
  },
  {
   "cell_type": "markdown",
   "id": "edb33b7f",
   "metadata": {},
   "source": [
    "# Object Oriented Programming Challenge\n",
    "\n",
    "For this challenge, create a bank account class that has two attributes:\n",
    "\n",
    "* owner\n",
    "* balance\n",
    "\n",
    "and two methods:\n",
    "\n",
    "* deposit\n",
    "* withdraw\n",
    "\n",
    "As an added requirement, withdrawals may not exceed the available balance.\n",
    "\n",
    "Instantiate your class, make several deposits and withdrawals, and test to make sure the account can't be overdrawn."
   ]
  },
  {
   "cell_type": "code",
   "execution_count": 10,
   "id": "ca3a6f20",
   "metadata": {},
   "outputs": [],
   "source": [
    "class Account:\n",
    "    \n",
    "    def __init__ (self, owner, balance):\n",
    "        self.owner = owner\n",
    "        self.balance = balance\n",
    "        \n",
    "    def __str__ (self):\n",
    "        return 'Account owner: '+str(self.owner) + \"\\nAccount balance: $\"+str(self.balance)\n",
    "    \n",
    "    def deposit (self, deposit):\n",
    "        self.balance = self.balance + deposit\n",
    "        print ('The deposit of ${} has been accepted. The new balance is ${}.'.format(deposit, self.balance))\n",
    "    \n",
    "    def withdraw (self, withdrawal):\n",
    "        if withdrawal <= self.balance:\n",
    "            self.balance = self.balance - withdrawal\n",
    "            print ('A withdrawal of ${} has been made. The new balance is ${}.'.format(withdrawal, self.balance))\n",
    "        else:\n",
    "            print ('The ammount requested exceeds the current balance.')"
   ]
  },
  {
   "cell_type": "code",
   "execution_count": 11,
   "id": "fb5ad335",
   "metadata": {},
   "outputs": [],
   "source": [
    "# 1. Instantiate the class\n",
    "acct1 = Account('Jose',100)"
   ]
  },
  {
   "cell_type": "code",
   "execution_count": 12,
   "id": "16cb19d9",
   "metadata": {},
   "outputs": [
    {
     "name": "stdout",
     "output_type": "stream",
     "text": [
      "Account owner: Jose\n",
      "Account balance: $100\n"
     ]
    }
   ],
   "source": [
    "# 2. Print the object\n",
    "print(acct1)"
   ]
  },
  {
   "cell_type": "code",
   "execution_count": 13,
   "id": "8358df15",
   "metadata": {},
   "outputs": [
    {
     "data": {
      "text/plain": [
       "'Jose'"
      ]
     },
     "execution_count": 13,
     "metadata": {},
     "output_type": "execute_result"
    }
   ],
   "source": [
    "# 3. Show the account owner attribute\n",
    "acct1.owner"
   ]
  },
  {
   "cell_type": "code",
   "execution_count": 14,
   "id": "aef837ed",
   "metadata": {},
   "outputs": [
    {
     "data": {
      "text/plain": [
       "100"
      ]
     },
     "execution_count": 14,
     "metadata": {},
     "output_type": "execute_result"
    }
   ],
   "source": [
    "# 4. Show the account balance attribute\n",
    "acct1.balance"
   ]
  },
  {
   "cell_type": "code",
   "execution_count": 15,
   "id": "4dc44631",
   "metadata": {},
   "outputs": [
    {
     "name": "stdout",
     "output_type": "stream",
     "text": [
      "The deposit of $50 has been accepted. The new balance is $150.\n"
     ]
    }
   ],
   "source": [
    "# 5. Make a series of deposits and withdrawals\n",
    "acct1.deposit(50)"
   ]
  },
  {
   "cell_type": "code",
   "execution_count": 16,
   "id": "f55c3cec",
   "metadata": {},
   "outputs": [
    {
     "name": "stdout",
     "output_type": "stream",
     "text": [
      "A withdrawal of $75 has been made. The new balance is $75.\n"
     ]
    }
   ],
   "source": [
    "acct1.withdraw(75)"
   ]
  },
  {
   "cell_type": "code",
   "execution_count": 17,
   "id": "96727b53",
   "metadata": {},
   "outputs": [
    {
     "name": "stdout",
     "output_type": "stream",
     "text": [
      "The ammount requested exceeds the current balance.\n"
     ]
    }
   ],
   "source": [
    "# 6. Make a withdrawal that exceeds the available balance\n",
    "acct1.withdraw(500)"
   ]
  },
  {
   "cell_type": "markdown",
   "id": "3ddf6d11",
   "metadata": {},
   "source": [
    "# Modules and Packages\n",
    "\n",
    "There's no code here because it didn't really make sense for the section. Check out the video lectures for more info and the resources for this.\n",
    "\n",
    "Here is the best source the official docs!\n",
    "https://docs.python.org/3/tutorial/modules.html#packages\n",
    "\n",
    "But I really like the info here: https://python4astronomers.github.io/installation/packages.html\n",
    "\n",
    "Here's some extra info to help:"
   ]
  },
  {
   "cell_type": "markdown",
   "id": "83108961",
   "metadata": {},
   "source": [
    "Modules in Python are simply Python files with the .py extension, which implement a set of functions. Modules are imported from other modules using the <code>import</code> command.\n",
    "\n",
    "To import a module, we use the <code>import</code> command. Check out the full list of built-in modules in the Python standard library [here](https://docs.python.org/3/py-modindex.html).\n",
    "\n",
    "The first time a module is loaded into a running Python script, it is initialized by executing the code in the module once. If another module in your code imports the same module again, it will not be loaded twice but once only - so local variables inside the module act as a \"singleton\" - they are initialized only once.\n",
    "\n",
    "If we want to import the math module, we simply import the name of the module"
   ]
  },
  {
   "cell_type": "markdown",
   "id": "c09e85ea",
   "metadata": {},
   "source": [
    "## Exploring built-in modules\n",
    "Two very important functions come in handy when exploring modules in Python - the <code>dir</code> and <code>help</code> functions.\n",
    "\n",
    "We can look for which functions are implemented in each module by using the <code>dir</code> function:"
   ]
  },
  {
   "cell_type": "code",
   "execution_count": 19,
   "id": "c5ca821e",
   "metadata": {},
   "outputs": [
    {
     "name": "stdout",
     "output_type": "stream",
     "text": [
      "['__doc__', '__loader__', '__name__', '__package__', '__spec__', 'acos', 'acosh', 'asin', 'asinh', 'atan', 'atan2', 'atanh', 'ceil', 'comb', 'copysign', 'cos', 'cosh', 'degrees', 'dist', 'e', 'erf', 'erfc', 'exp', 'expm1', 'fabs', 'factorial', 'floor', 'fmod', 'frexp', 'fsum', 'gamma', 'gcd', 'hypot', 'inf', 'isclose', 'isfinite', 'isinf', 'isnan', 'isqrt', 'lcm', 'ldexp', 'lgamma', 'log', 'log10', 'log1p', 'log2', 'modf', 'nan', 'nextafter', 'perm', 'pi', 'pow', 'prod', 'radians', 'remainder', 'sin', 'sinh', 'sqrt', 'tan', 'tanh', 'tau', 'trunc', 'ulp']\n"
     ]
    }
   ],
   "source": [
    "import math\n",
    "print(dir(math))"
   ]
  },
  {
   "cell_type": "markdown",
   "id": "27d8bab5",
   "metadata": {},
   "source": [
    "When we find the function in the module we want to use, we can read about it more using the <code>help</code> function, inside the Python interpreter:\n"
   ]
  },
  {
   "cell_type": "code",
   "execution_count": 20,
   "id": "cc0c3452",
   "metadata": {},
   "outputs": [
    {
     "name": "stdout",
     "output_type": "stream",
     "text": [
      "Help on built-in function ceil in module math:\n",
      "\n",
      "ceil(x, /)\n",
      "    Return the ceiling of x as an Integral.\n",
      "    \n",
      "    This is the smallest integer >= x.\n",
      "\n"
     ]
    }
   ],
   "source": [
    "help(math.ceil)"
   ]
  },
  {
   "cell_type": "markdown",
   "id": "7a30a24b",
   "metadata": {},
   "source": [
    "## Writing modules\n",
    "Writing Python modules is very simple. To create a module of your own, simply create a new .py file with the module name, and then import it using the Python file name (without the .py extension) using the import command.\n",
    "\n",
    "## Writing packages\n",
    "Packages are name-spaces which contain multiple packages and modules themselves. They are simply directories, but with a twist.\n",
    "\n",
    "Each package in Python is a directory which MUST contain a special file called **\\__init\\__.py**. This file can be empty, and it indicates that the directory it contains is a Python package, so it can be imported the same way a module can be imported.\n",
    "\n",
    "If we create a directory called foo, which marks the package name, we can then create a module inside that package called bar. We also must not forget to add the **\\__init\\__.py** file inside the foo directory.\n",
    "\n",
    "To use the module bar, we can import it in two ways:"
   ]
  },
  {
   "cell_type": "code",
   "execution_count": null,
   "id": "66ed2eea",
   "metadata": {},
   "outputs": [],
   "source": [
    "# Just an example, this won't work\n",
    "import foo.bar"
   ]
  },
  {
   "cell_type": "code",
   "execution_count": null,
   "id": "e59ba135",
   "metadata": {},
   "outputs": [],
   "source": [
    "# OR could do it this way\n",
    "from foo import bar"
   ]
  },
  {
   "cell_type": "markdown",
   "id": "374e08d1",
   "metadata": {},
   "source": [
    "In the first method, we must use the foo prefix whenever we access the module bar. In the second method, we don't, because we import the module to our module's name-space.\n",
    "\n",
    "The **\\__init\\__.py** file can also decide which modules the package exports as the API, while keeping other modules internal, by overriding the **\\__all\\__** variable, like so:"
   ]
  },
  {
   "cell_type": "code",
   "execution_count": null,
   "id": "9980e7f6",
   "metadata": {},
   "outputs": [],
   "source": [
    "__init__.py:\n",
    "\n",
    "__all__ = [\"bar\"]"
   ]
  },
  {
   "cell_type": "markdown",
   "id": "ffdf458d",
   "metadata": {},
   "source": [
    "# Errors and Exception Handling\n",
    "\n",
    "In this lecture we will learn about Errors and Exception Handling in Python. You've definitely already encountered errors by this point in the course. For example:"
   ]
  },
  {
   "cell_type": "code",
   "execution_count": 21,
   "id": "b91b1e96",
   "metadata": {},
   "outputs": [
    {
     "ename": "SyntaxError",
     "evalue": "EOL while scanning string literal (1679058590.py, line 1)",
     "output_type": "error",
     "traceback": [
      "\u001b[1;36m  Input \u001b[1;32mIn [21]\u001b[1;36m\u001b[0m\n\u001b[1;33m    print('Hello)\u001b[0m\n\u001b[1;37m                 ^\u001b[0m\n\u001b[1;31mSyntaxError\u001b[0m\u001b[1;31m:\u001b[0m EOL while scanning string literal\n"
     ]
    }
   ],
   "source": [
    "print('Hello)"
   ]
  },
  {
   "cell_type": "markdown",
   "id": "279a8602",
   "metadata": {},
   "source": [
    "Note how we get a SyntaxError, with the further description that it was an EOL (End of Line Error) while scanning the string literal. This is specific enough for us to see that we forgot a single quote at the end of the line. Understanding these various error types will help you debug your code much faster. \n",
    "\n",
    "This type of error and description is known as an Exception. Even if a statement or expression is syntactically correct, it may cause an error when an attempt is made to execute it. Errors detected during execution are called exceptions and are not unconditionally fatal.\n",
    "\n",
    "You can check out the full list of built-in exceptions [here](https://docs.python.org/3/library/exceptions.html). Now let's learn how to handle errors and exceptions in our own code."
   ]
  },
  {
   "cell_type": "markdown",
   "id": "98a9262f",
   "metadata": {},
   "source": [
    "## try and except\n",
    "\n",
    "The basic terminology and syntax used to handle errors in Python are the <code>try</code> and <code>except</code> statements. The code which can cause an exception to occur is put in the <code>try</code> block and the handling of the exception is then implemented in the <code>except</code> block of code. The syntax follows:\n",
    "\n",
    "    try:\n",
    "       You do your operations here...\n",
    "       ...\n",
    "    except ExceptionI:\n",
    "       If there is ExceptionI, then execute this block.\n",
    "    except ExceptionII:\n",
    "       If there is ExceptionII, then execute this block.\n",
    "       ...\n",
    "    else:\n",
    "       If there is no exception then execute this block. \n",
    "\n",
    "We can also just check for any exception with just using <code>except:</code> To get a better understanding of all this let's check out an example: We will look at some code that opens and writes a file:"
   ]
  },
  {
   "cell_type": "code",
   "execution_count": 22,
   "id": "8f0c0d5d",
   "metadata": {},
   "outputs": [
    {
     "name": "stdout",
     "output_type": "stream",
     "text": [
      "Content written successfully\n"
     ]
    }
   ],
   "source": [
    "try:\n",
    "    f = open('testfile','w')\n",
    "    f.write('Test write this')\n",
    "except IOError:\n",
    "    # This will only check for an IOError exception and then execute this print statement\n",
    "    print(\"Error: Could not find file or read data\")\n",
    "else:\n",
    "    print(\"Content written successfully\")\n",
    "    f.close()"
   ]
  },
  {
   "cell_type": "code",
   "execution_count": 23,
   "id": "57040d09",
   "metadata": {},
   "outputs": [
    {
     "name": "stdout",
     "output_type": "stream",
     "text": [
      "Error: Could not find file or read data\n"
     ]
    }
   ],
   "source": [
    "try:\n",
    "    f = open('testfile','r')\n",
    "    f.write('Test write this')\n",
    "except IOError:\n",
    "    # This will only check for an IOError exception and then execute this print statement\n",
    "    print(\"Error: Could not find file or read data\")\n",
    "else:\n",
    "    print(\"Content written successfully\")\n",
    "    f.close()"
   ]
  },
  {
   "cell_type": "markdown",
   "id": "a714d86f",
   "metadata": {},
   "source": [
    "Great! Notice how we only printed a statement! The code still ran and we were able to continue doing actions and running code blocks. This is extremely useful when you have to account for possible input errors in your code. You can be prepared for the error and keep running code, instead of your code just breaking as we saw above.\n",
    "\n",
    "We could have also just said <code>except:</code> if we weren't sure what exception would occur. For example:"
   ]
  },
  {
   "cell_type": "code",
   "execution_count": 24,
   "id": "975c2c65",
   "metadata": {},
   "outputs": [
    {
     "name": "stdout",
     "output_type": "stream",
     "text": [
      "Error: Could not find file or read data\n"
     ]
    }
   ],
   "source": [
    "try:\n",
    "    f = open('testfile','r')\n",
    "    f.write('Test write this')\n",
    "except:\n",
    "    # This will check for any exception and then execute this print statement\n",
    "    print(\"Error: Could not find file or read data\")\n",
    "else:\n",
    "    print(\"Content written successfully\")\n",
    "    f.close()"
   ]
  },
  {
   "cell_type": "markdown",
   "id": "e2af144e",
   "metadata": {},
   "source": [
    "Great! Now we don't actually need to memorize that list of exception types! Now what if we kept wanting to run code after the exception occurred? This is where <code>finally</code> comes in.\n",
    "## finally\n",
    "The <code>finally:</code> block of code will always be run regardless if there was an exception in the <code>try</code> code block. The syntax is:\n",
    "\n",
    "    try:\n",
    "       Code block here\n",
    "       ...\n",
    "       Due to any exception, this code may be skipped!\n",
    "    finally:\n",
    "       This code block would always be executed.\n",
    "\n",
    "For example:"
   ]
  },
  {
   "cell_type": "code",
   "execution_count": 25,
   "id": "eed3b708",
   "metadata": {},
   "outputs": [
    {
     "name": "stdout",
     "output_type": "stream",
     "text": [
      "Always execute finally code blocks\n"
     ]
    }
   ],
   "source": [
    "try:\n",
    "    f = open(\"testfile\", \"w\")\n",
    "    f.write(\"Test write statement\")\n",
    "    f.close()\n",
    "finally:\n",
    "    print(\"Always execute finally code blocks\")"
   ]
  },
  {
   "cell_type": "markdown",
   "id": "57ce8cbe",
   "metadata": {},
   "source": [
    "We can use this in conjunction with <code>except</code>. Let's see a new example that will take into account a user providing the wrong input:"
   ]
  },
  {
   "cell_type": "code",
   "execution_count": 27,
   "id": "a41c2561",
   "metadata": {},
   "outputs": [],
   "source": [
    "def askint():\n",
    "    try:\n",
    "        val = int(input(\"Please enter an integer: \"))\n",
    "    except:\n",
    "        print(\"Looks like you did not enter an integer!\")\n",
    "\n",
    "    finally:\n",
    "        print(\"Finally, I executed!\")\n",
    "    print(val)"
   ]
  },
  {
   "cell_type": "code",
   "execution_count": 28,
   "id": "f19a1414",
   "metadata": {},
   "outputs": [
    {
     "name": "stdout",
     "output_type": "stream",
     "text": [
      "Please enter an integer: 7\n",
      "Finally, I executed!\n",
      "7\n"
     ]
    }
   ],
   "source": [
    "askint()"
   ]
  },
  {
   "cell_type": "code",
   "execution_count": 29,
   "id": "273747a4",
   "metadata": {},
   "outputs": [
    {
     "name": "stdout",
     "output_type": "stream",
     "text": [
      "Please enter an integer: asd\n",
      "Looks like you did not enter an integer!\n",
      "Finally, I executed!\n"
     ]
    },
    {
     "ename": "UnboundLocalError",
     "evalue": "local variable 'val' referenced before assignment",
     "output_type": "error",
     "traceback": [
      "\u001b[1;31m---------------------------------------------------------------------------\u001b[0m",
      "\u001b[1;31mUnboundLocalError\u001b[0m                         Traceback (most recent call last)",
      "Input \u001b[1;32mIn [29]\u001b[0m, in \u001b[0;36m<cell line: 1>\u001b[1;34m()\u001b[0m\n\u001b[1;32m----> 1\u001b[0m \u001b[43maskint\u001b[49m\u001b[43m(\u001b[49m\u001b[43m)\u001b[49m\n",
      "Input \u001b[1;32mIn [27]\u001b[0m, in \u001b[0;36maskint\u001b[1;34m()\u001b[0m\n\u001b[0;32m      7\u001b[0m \u001b[38;5;28;01mfinally\u001b[39;00m:\n\u001b[0;32m      8\u001b[0m     \u001b[38;5;28mprint\u001b[39m(\u001b[38;5;124m\"\u001b[39m\u001b[38;5;124mFinally, I executed!\u001b[39m\u001b[38;5;124m\"\u001b[39m)\n\u001b[1;32m----> 9\u001b[0m \u001b[38;5;28mprint\u001b[39m(\u001b[43mval\u001b[49m)\n",
      "\u001b[1;31mUnboundLocalError\u001b[0m: local variable 'val' referenced before assignment"
     ]
    }
   ],
   "source": [
    "askint()"
   ]
  },
  {
   "cell_type": "code",
   "execution_count": 30,
   "id": "db214185",
   "metadata": {},
   "outputs": [],
   "source": [
    "def askint():\n",
    "    try:\n",
    "        val = int(input(\"Please enter an integer: \"))\n",
    "    except:\n",
    "        print(\"Looks like you did not enter an integer!\")\n",
    "        val = int(input(\"Try again-Please enter an integer: \"))\n",
    "    finally:\n",
    "        print(\"Finally, I executed!\")\n",
    "    print(val)"
   ]
  },
  {
   "cell_type": "code",
   "execution_count": 31,
   "id": "09ee811e",
   "metadata": {},
   "outputs": [
    {
     "name": "stdout",
     "output_type": "stream",
     "text": [
      "Please enter an integer: 6\n",
      "Finally, I executed!\n",
      "6\n"
     ]
    }
   ],
   "source": [
    "askint()"
   ]
  },
  {
   "cell_type": "code",
   "execution_count": 32,
   "id": "e75ba065",
   "metadata": {},
   "outputs": [
    {
     "name": "stdout",
     "output_type": "stream",
     "text": [
      "Please enter an integer: asdasd\n",
      "Looks like you did not enter an integer!\n",
      "Try again-Please enter an integer: asdasd\n",
      "Finally, I executed!\n"
     ]
    },
    {
     "ename": "ValueError",
     "evalue": "invalid literal for int() with base 10: 'asdasd'",
     "output_type": "error",
     "traceback": [
      "\u001b[1;31m---------------------------------------------------------------------------\u001b[0m",
      "\u001b[1;31mValueError\u001b[0m                                Traceback (most recent call last)",
      "Input \u001b[1;32mIn [30]\u001b[0m, in \u001b[0;36maskint\u001b[1;34m()\u001b[0m\n\u001b[0;32m      2\u001b[0m \u001b[38;5;28;01mtry\u001b[39;00m:\n\u001b[1;32m----> 3\u001b[0m     val \u001b[38;5;241m=\u001b[39m \u001b[38;5;28;43mint\u001b[39;49m\u001b[43m(\u001b[49m\u001b[38;5;28;43minput\u001b[39;49m\u001b[43m(\u001b[49m\u001b[38;5;124;43m\"\u001b[39;49m\u001b[38;5;124;43mPlease enter an integer: \u001b[39;49m\u001b[38;5;124;43m\"\u001b[39;49m\u001b[43m)\u001b[49m\u001b[43m)\u001b[49m\n\u001b[0;32m      4\u001b[0m \u001b[38;5;28;01mexcept\u001b[39;00m:\n",
      "\u001b[1;31mValueError\u001b[0m: invalid literal for int() with base 10: 'asdasd'",
      "\nDuring handling of the above exception, another exception occurred:\n",
      "\u001b[1;31mValueError\u001b[0m                                Traceback (most recent call last)",
      "Input \u001b[1;32mIn [32]\u001b[0m, in \u001b[0;36m<cell line: 1>\u001b[1;34m()\u001b[0m\n\u001b[1;32m----> 1\u001b[0m \u001b[43maskint\u001b[49m\u001b[43m(\u001b[49m\u001b[43m)\u001b[49m\n",
      "Input \u001b[1;32mIn [30]\u001b[0m, in \u001b[0;36maskint\u001b[1;34m()\u001b[0m\n\u001b[0;32m      4\u001b[0m \u001b[38;5;28;01mexcept\u001b[39;00m:\n\u001b[0;32m      5\u001b[0m     \u001b[38;5;28mprint\u001b[39m(\u001b[38;5;124m\"\u001b[39m\u001b[38;5;124mLooks like you did not enter an integer!\u001b[39m\u001b[38;5;124m\"\u001b[39m)\n\u001b[1;32m----> 6\u001b[0m     val \u001b[38;5;241m=\u001b[39m \u001b[38;5;28;43mint\u001b[39;49m\u001b[43m(\u001b[49m\u001b[38;5;28;43minput\u001b[39;49m\u001b[43m(\u001b[49m\u001b[38;5;124;43m\"\u001b[39;49m\u001b[38;5;124;43mTry again-Please enter an integer: \u001b[39;49m\u001b[38;5;124;43m\"\u001b[39;49m\u001b[43m)\u001b[49m\u001b[43m)\u001b[49m\n\u001b[0;32m      7\u001b[0m \u001b[38;5;28;01mfinally\u001b[39;00m:\n\u001b[0;32m      8\u001b[0m     \u001b[38;5;28mprint\u001b[39m(\u001b[38;5;124m\"\u001b[39m\u001b[38;5;124mFinally, I executed!\u001b[39m\u001b[38;5;124m\"\u001b[39m)\n",
      "\u001b[1;31mValueError\u001b[0m: invalid literal for int() with base 10: 'asdasd'"
     ]
    }
   ],
   "source": [
    "askint()"
   ]
  },
  {
   "cell_type": "markdown",
   "id": "3cb77147",
   "metadata": {},
   "source": [
    "Hmmm...that only did one check. How can we continually keep checking? We can use a while loop!"
   ]
  },
  {
   "cell_type": "code",
   "execution_count": 33,
   "id": "ee28ecfc",
   "metadata": {},
   "outputs": [],
   "source": [
    "def askint():\n",
    "    while True:\n",
    "        try:\n",
    "            val = int(input(\"Please enter an integer: \"))\n",
    "        except:\n",
    "            print(\"Looks like you did not enter an integer!\")\n",
    "            continue\n",
    "        else:\n",
    "            print(\"Yep that's an integer!\")\n",
    "            break\n",
    "        finally:\n",
    "            print(\"Finally, I executed!\")\n",
    "        print(val)"
   ]
  },
  {
   "cell_type": "code",
   "execution_count": 34,
   "id": "ece461de",
   "metadata": {},
   "outputs": [
    {
     "name": "stdout",
     "output_type": "stream",
     "text": [
      "Please enter an integer: asdasd\n",
      "Looks like you did not enter an integer!\n",
      "Finally, I executed!\n",
      "Please enter an integer: six\n",
      "Looks like you did not enter an integer!\n",
      "Finally, I executed!\n",
      "Please enter an integer: lskdja\n",
      "Looks like you did not enter an integer!\n",
      "Finally, I executed!\n",
      "Please enter an integer: 20\n",
      "Yep that's an integer!\n",
      "Finally, I executed!\n"
     ]
    }
   ],
   "source": [
    "askint()"
   ]
  },
  {
   "cell_type": "markdown",
   "id": "4979fdfd",
   "metadata": {},
   "source": [
    "So why did our function print \"Finally, I executed!\" after each trial, yet it never printed `val` itself? This is because with a try/except/finally clause, any <code>continue</code> or <code>break</code> statements are reserved until *after* the try clause is completed. This means that even though a successful input of **3** brought us to the <code>else:</code> block, and a <code>break</code> statement was thrown, the try clause continued through to <code>finally:</code> before breaking out of the while loop. And since <code>print(val)</code> was outside the try clause, the <code>break</code> statement prevented it from running.\n",
    "\n",
    "Let's make one final adjustment:"
   ]
  },
  {
   "cell_type": "code",
   "execution_count": 35,
   "id": "635f1d3e",
   "metadata": {},
   "outputs": [],
   "source": [
    "def askint():\n",
    "    while True:\n",
    "        try:\n",
    "            val = int(input(\"Please enter an integer: \"))\n",
    "        except:\n",
    "            print(\"Looks like you did not enter an integer!\")\n",
    "            continue\n",
    "        else:\n",
    "            print(\"Yep that's an integer!\")\n",
    "            print(val)\n",
    "            break\n",
    "        finally:\n",
    "            print(\"Finally, I executed!\")"
   ]
  },
  {
   "cell_type": "code",
   "execution_count": 36,
   "id": "0557f480",
   "metadata": {},
   "outputs": [
    {
     "name": "stdout",
     "output_type": "stream",
     "text": [
      "Please enter an integer: asd\n",
      "Looks like you did not enter an integer!\n",
      "Finally, I executed!\n",
      "Please enter an integer: three\n",
      "Looks like you did not enter an integer!\n",
      "Finally, I executed!\n",
      "Please enter an integer: 56\n",
      "Yep that's an integer!\n",
      "56\n",
      "Finally, I executed!\n"
     ]
    }
   ],
   "source": [
    "askint()"
   ]
  },
  {
   "cell_type": "code",
   "execution_count": null,
   "id": "cd7ecbdf",
   "metadata": {},
   "outputs": [],
   "source": []
  },
  {
   "cell_type": "code",
   "execution_count": 1,
   "id": "b287ca7a",
   "metadata": {},
   "outputs": [
    {
     "name": "stdout",
     "output_type": "stream",
     "text": [
      "There is an OS Error\n",
      "I always run\n"
     ]
    }
   ],
   "source": [
    "try:\n",
    "    f = open ('testfile','r')\n",
    "    f.write(\"Write a test line\")\n",
    "\n",
    "except TypeError:\n",
    "    print(\"There is a Type Error\")\n",
    "\n",
    "except OSError:\n",
    "    print(\"There is an OS Error\")\n",
    "\n",
    "except:\n",
    "    print(\"All other exceptions\")\n",
    "\n",
    "else:\n",
    "    print('All good here')\n",
    "\n",
    "finally:\n",
    "    print('I always run')"
   ]
  },
  {
   "cell_type": "code",
   "execution_count": 2,
   "id": "32751bed",
   "metadata": {},
   "outputs": [
    {
     "name": "stdout",
     "output_type": "stream",
     "text": [
      "All good here\n",
      "I always run\n"
     ]
    }
   ],
   "source": [
    "try:\n",
    "    f = open ('testfile','w')\n",
    "    f.write(\"Write a test line\")\n",
    "\n",
    "except TypeError:\n",
    "    print(\"There is a Type Error\")\n",
    "\n",
    "except OSError:\n",
    "    print(\"There is an OS Error\")\n",
    "\n",
    "except:\n",
    "    print(\"All other exceptions\")\n",
    "\n",
    "else:\n",
    "    print('All good here')\n",
    "\n",
    "finally:\n",
    "    print('I always run')"
   ]
  },
  {
   "cell_type": "code",
   "execution_count": 3,
   "id": "d8e38aa5",
   "metadata": {},
   "outputs": [
    {
     "name": "stdout",
     "output_type": "stream",
     "text": [
      "All other exceptions\n",
      "I always run\n"
     ]
    }
   ],
   "source": [
    "try:\n",
    "    f = open ('testfile','asdasd')\n",
    "    f.write(\"Write a test line\")\n",
    "\n",
    "except TypeError:\n",
    "    print(\"There is a Type Error\")\n",
    "\n",
    "except OSError:\n",
    "    print(\"There is an OS Error\")\n",
    "\n",
    "except:\n",
    "    print(\"All other exceptions\")\n",
    "\n",
    "else:\n",
    "    print('All good here')\n",
    "\n",
    "finally:\n",
    "    print('I always run')"
   ]
  },
  {
   "cell_type": "markdown",
   "id": "7cd9a54b",
   "metadata": {},
   "source": [
    "### Problem 1\n",
    "Handle the exception thrown by the code below by using <code>try</code> and <code>except</code> blocks."
   ]
  },
  {
   "cell_type": "code",
   "execution_count": 5,
   "id": "66221fe0",
   "metadata": {},
   "outputs": [
    {
     "name": "stdout",
     "output_type": "stream",
     "text": [
      "That's not the correct type of elements\n",
      "The End!\n"
     ]
    }
   ],
   "source": [
    "try:\n",
    "    for i in ['a','b','c']:\n",
    "        print(i**2)\n",
    "except TypeError:\n",
    "        print(\"That's not the correct type of elements\")\n",
    "finally:\n",
    "    print('The End!')"
   ]
  },
  {
   "cell_type": "markdown",
   "id": "fb58f271",
   "metadata": {},
   "source": [
    "### Problem 2\n",
    "Handle the exception thrown by the code below by using <code>try</code> and <code>except</code> blocks. Then use a <code>finally</code> block to print 'All Done.'"
   ]
  },
  {
   "cell_type": "code",
   "execution_count": 4,
   "id": "f0011eab",
   "metadata": {},
   "outputs": [
    {
     "name": "stdout",
     "output_type": "stream",
     "text": [
      "It's not possible to divide a number by 0 (zero)\n",
      "All Done.\n"
     ]
    }
   ],
   "source": [
    "\n",
    "try:\n",
    "    x = 5\n",
    "    y = 0\n",
    "    z = x/y\n",
    "except ZeroDivisionError:\n",
    "    print(\"It's not possible to divide a number by 0 (zero)\")\n",
    "finally:\n",
    "    print ('All Done.')"
   ]
  },
  {
   "cell_type": "markdown",
   "id": "fbca6d36",
   "metadata": {},
   "source": [
    "### Problem 3\n",
    "Write a function that asks for an integer and prints the square of it. Use a <code>while</code> loop with a <code>try</code>, <code>except</code>, <code>else</code> block to account for incorrect inputs."
   ]
  },
  {
   "cell_type": "code",
   "execution_count": 1,
   "id": "6b51ec3a",
   "metadata": {},
   "outputs": [],
   "source": [
    "def ask():\n",
    "    while True:\n",
    "        try:\n",
    "            num = int(input(\"Enter a number: \"))\n",
    "        except:\n",
    "            print (\"Your account has been blocked...\")\n",
    "            break\n",
    "        else:\n",
    "            print(num**2)\n",
    "            print('Done!')\n",
    "            break\n",
    "        finally:\n",
    "            print('The End!')"
   ]
  },
  {
   "cell_type": "code",
   "execution_count": 2,
   "id": "ae9f4698",
   "metadata": {
    "scrolled": true
   },
   "outputs": [
    {
     "name": "stdout",
     "output_type": "stream",
     "text": [
      "Enter a number: asd\n",
      "Your account has been blocked...\n",
      "The End!\n"
     ]
    }
   ],
   "source": [
    "ask()"
   ]
  },
  {
   "cell_type": "code",
   "execution_count": 3,
   "id": "045fb393",
   "metadata": {},
   "outputs": [
    {
     "name": "stdout",
     "output_type": "stream",
     "text": [
      "Enter a number: 3\n",
      "9\n",
      "Done!\n",
      "The End!\n"
     ]
    }
   ],
   "source": [
    "ask()"
   ]
  },
  {
   "cell_type": "markdown",
   "id": "0f050af3",
   "metadata": {},
   "source": [
    "pylint myexample.py -r y"
   ]
  },
  {
   "cell_type": "markdown",
   "id": "e788b194",
   "metadata": {},
   "source": [
    "# Unit Testing\n",
    "\n",
    "Equally important as writing good code is writing good tests. Better to find bugs yourself than have them reported to you by end users!\n",
    "\n",
    "For this section we'll be working with files outside the notebook. We'll save our code to a .py file, and then save our test script to another .py file. Normally we would code these files using a text editor like Brackets or Atom, or inside an IDE like Spyder or Pycharm. But, since we're here, let's use Jupyter!\n",
    "\n",
    "Recall that with some IPython magic we can write the contents of a cell to a file using `%%writefile`.<br>\n",
    "Something we haven't seen yet; you can run terminal commands from a jupyter cell using `!`\n",
    "\n",
    "## Testing tools\n",
    "\n",
    "There are dozens of good testing libraries out there. Most are third-party packages that require an install, such as:\n",
    "\n",
    "* [pylint](https://www.pylint.org/)\n",
    "* [pyflakes](https://pypi.python.org/pypi/pyflakes/)\n",
    "* [pep8](https://pypi.python.org/pypi/pep8)\n",
    "\n",
    "These are simple tools that merely look at your code, and they'll tell you if there are style issues or simple problems like variable names being called before assignment.\n",
    "\n",
    "A far better way to test your code is to write tests that send sample data to your program, and compare what's returned to a desired outcome.<br>Two such tools are available from the standard library:\n",
    "\n",
    "* [unittest](https://docs.python.org/3/library/unittest.html)\n",
    "* [doctest](https://docs.python.org/3/library/doctest.html)\n",
    "\n",
    "Let's look at pylint first, then we'll do some heavier lifting with unittest.\n"
   ]
  },
  {
   "cell_type": "markdown",
   "id": "ef7a649b",
   "metadata": {},
   "source": [
    "## `pylint`\n",
    "\n",
    "`pylint` tests for style as well as some very basic program logic."
   ]
  },
  {
   "cell_type": "markdown",
   "id": "5ad26ba4",
   "metadata": {},
   "source": [
    "First, if you don't have it already (and you probably do, as it's part of the Anaconda distribution), you should install `pylint`.<br>Once that's done feel free to comment out the cell, you won't need it anymore.\n",
    "\n"
   ]
  },
  {
   "cell_type": "code",
   "execution_count": 2,
   "id": "9c43d89b",
   "metadata": {},
   "outputs": [
    {
     "name": "stdout",
     "output_type": "stream",
     "text": [
      "Requirement already satisfied: pylint in c:\\users\\gonzalo.rey\\anaconda3\\lib\\site-packages (2.9.6)\n",
      "Requirement already satisfied: colorama in c:\\users\\gonzalo.rey\\anaconda3\\lib\\site-packages (from pylint) (0.4.4)\n",
      "Requirement already satisfied: astroid<2.7,>=2.6.5 in c:\\users\\gonzalo.rey\\anaconda3\\lib\\site-packages (from pylint) (2.6.6)\n",
      "Requirement already satisfied: isort<6,>=4.2.5 in c:\\users\\gonzalo.rey\\anaconda3\\lib\\site-packages (from pylint) (5.9.3)\n",
      "Requirement already satisfied: toml>=0.7.1 in c:\\users\\gonzalo.rey\\anaconda3\\lib\\site-packages (from pylint) (0.10.2)\n",
      "Requirement already satisfied: mccabe<0.7,>=0.6 in c:\\users\\gonzalo.rey\\anaconda3\\lib\\site-packages (from pylint) (0.6.1)\n",
      "Requirement already satisfied: setuptools>=20.0 in c:\\users\\gonzalo.rey\\anaconda3\\lib\\site-packages (from astroid<2.7,>=2.6.5->pylint) (61.2.0)\n",
      "Requirement already satisfied: wrapt<1.13,>=1.11 in c:\\users\\gonzalo.rey\\anaconda3\\lib\\site-packages (from astroid<2.7,>=2.6.5->pylint) (1.12.1)\n",
      "Requirement already satisfied: lazy-object-proxy>=1.4.0 in c:\\users\\gonzalo.rey\\anaconda3\\lib\\site-packages (from astroid<2.7,>=2.6.5->pylint) (1.6.0)\n"
     ]
    }
   ],
   "source": [
    "! pip install pylint"
   ]
  },
  {
   "cell_type": "code",
   "execution_count": null,
   "id": "12bdb9ad",
   "metadata": {},
   "outputs": [],
   "source": []
  },
  {
   "cell_type": "markdown",
   "id": "fae4ddaf",
   "metadata": {},
   "source": [
    "# Decorators\n",
    "\n",
    "\n",
    "Decorators can be thought of as functions which modify the *functionality* of another function. They help to make your code shorter and more \"Pythonic\". \n",
    "\n",
    "To properly explain decorators we will slowly build up from functions. Make sure to run every cell in this Notebook for this lecture to look the same on your own computer.<br><br>"
   ]
  },
  {
   "cell_type": "code",
   "execution_count": 3,
   "id": "e59f4ec0",
   "metadata": {},
   "outputs": [],
   "source": [
    "def new_decorator(func):\n",
    "\n",
    "    def wrap_func():\n",
    "        print(\"Code would be here, before executing the func\")\n",
    "\n",
    "        func()\n",
    "\n",
    "        print(\"Code here will execute after the func()\")\n",
    "\n",
    "    return wrap_func\n",
    "\n",
    "def func_needs_decorator():\n",
    "    print(\"This function is in need of a Decorator\")"
   ]
  },
  {
   "cell_type": "code",
   "execution_count": 4,
   "id": "bcd0b27d",
   "metadata": {},
   "outputs": [
    {
     "name": "stdout",
     "output_type": "stream",
     "text": [
      "This function is in need of a Decorator\n"
     ]
    }
   ],
   "source": [
    "func_needs_decorator()"
   ]
  },
  {
   "cell_type": "code",
   "execution_count": 5,
   "id": "39d6a49f",
   "metadata": {},
   "outputs": [],
   "source": [
    "@new_decorator\n",
    "def func_needs_decorator():\n",
    "    print(\"This function is in need of a Decorator\")"
   ]
  },
  {
   "cell_type": "code",
   "execution_count": 6,
   "id": "eca8d6fd",
   "metadata": {},
   "outputs": [
    {
     "name": "stdout",
     "output_type": "stream",
     "text": [
      "Code would be here, before executing the func\n",
      "This function is in need of a Decorator\n",
      "Code here will execute after the func()\n"
     ]
    }
   ],
   "source": [
    "func_needs_decorator()"
   ]
  },
  {
   "cell_type": "code",
   "execution_count": null,
   "id": "0456fa85",
   "metadata": {},
   "outputs": [],
   "source": []
  },
  {
   "cell_type": "markdown",
   "id": "005c9b02",
   "metadata": {},
   "source": [
    "# Iterators and Generators"
   ]
  },
  {
   "cell_type": "markdown",
   "id": "d3d8c907",
   "metadata": {},
   "source": [
    "In this section of the course we will be learning the difference between iteration and generation in Python and how to construct our own Generators with the *yield* statement. Generators allow us to generate as we go along, instead of holding everything in memory. \n",
    "\n",
    "We've touched on this topic in the past when discussing certain built-in Python functions like **range()**, **map()** and **filter()**.\n",
    "\n",
    "Let's explore a little deeper. We've learned how to create functions with <code>def</code> and the <code>return</code> statement. Generator functions allow us to write a function that can send back a value and then later resume to pick up where it left off. This type of function is a generator in Python, allowing us to generate a sequence of values over time. The main difference in syntax will be the use of a <code>yield</code> statement.\n",
    "\n",
    "In most aspects, a generator function will appear very similar to a normal function. The main difference is when a generator function is compiled they become an object that supports an iteration protocol. That means when they are called in your code they don't actually return a value and then exit. Instead, generator functions will automatically suspend and resume their execution and state around the last point of value generation. The main advantage here is that instead of having to compute an entire series of values up front, the generator computes one value and then suspends its activity awaiting the next instruction. This feature is known as *state suspension*.\n"
   ]
  },
  {
   "cell_type": "code",
   "execution_count": 1,
   "id": "38992956",
   "metadata": {},
   "outputs": [],
   "source": [
    "def create_cubes(n):\n",
    "    result = []\n",
    "    for x in range (n):\n",
    "        result.append(x**3)\n",
    "    return result"
   ]
  },
  {
   "cell_type": "code",
   "execution_count": 2,
   "id": "91eb8832",
   "metadata": {},
   "outputs": [
    {
     "data": {
      "text/plain": [
       "[0, 1, 8, 27, 64, 125, 216, 343, 512, 729]"
      ]
     },
     "execution_count": 2,
     "metadata": {},
     "output_type": "execute_result"
    }
   ],
   "source": [
    "create_cubes(10)"
   ]
  },
  {
   "cell_type": "code",
   "execution_count": 3,
   "id": "a77b1d5f",
   "metadata": {},
   "outputs": [
    {
     "name": "stdout",
     "output_type": "stream",
     "text": [
      "0\n",
      "1\n",
      "8\n",
      "27\n",
      "64\n",
      "125\n",
      "216\n",
      "343\n",
      "512\n",
      "729\n"
     ]
    }
   ],
   "source": [
    "for x in create_cubes(10):\n",
    "    print(x)"
   ]
  },
  {
   "cell_type": "code",
   "execution_count": 4,
   "id": "94f664a4",
   "metadata": {},
   "outputs": [],
   "source": [
    "def create_cubes(n):\n",
    "    for x in range (n):\n",
    "        yield x**3"
   ]
  },
  {
   "cell_type": "code",
   "execution_count": 7,
   "id": "267f14b9",
   "metadata": {},
   "outputs": [
    {
     "data": {
      "text/plain": [
       "<generator object create_cubes at 0x0000022C456D7890>"
      ]
     },
     "execution_count": 7,
     "metadata": {},
     "output_type": "execute_result"
    }
   ],
   "source": [
    "create_cubes(10)\n"
   ]
  },
  {
   "cell_type": "code",
   "execution_count": 6,
   "id": "73f4cc39",
   "metadata": {},
   "outputs": [
    {
     "name": "stdout",
     "output_type": "stream",
     "text": [
      "0\n",
      "1\n",
      "8\n",
      "27\n",
      "64\n",
      "125\n",
      "216\n",
      "343\n",
      "512\n",
      "729\n"
     ]
    }
   ],
   "source": [
    "for x in create_cubes(10):\n",
    "    print(x)"
   ]
  },
  {
   "cell_type": "code",
   "execution_count": 8,
   "id": "da76fcbc",
   "metadata": {},
   "outputs": [],
   "source": [
    "def gen_fibon(n):\n",
    "    \n",
    "    a = 0\n",
    "    b = 1\n",
    "    \n",
    "    for i in range(n):\n",
    "        yield a\n",
    "        a,b = b,a+b"
   ]
  },
  {
   "cell_type": "code",
   "execution_count": 9,
   "id": "3efb701b",
   "metadata": {},
   "outputs": [
    {
     "name": "stdout",
     "output_type": "stream",
     "text": [
      "0\n",
      "1\n",
      "1\n",
      "2\n",
      "3\n",
      "5\n",
      "8\n",
      "13\n",
      "21\n",
      "34\n"
     ]
    }
   ],
   "source": [
    "for number in gen_fibon(10):\n",
    "    print(number)"
   ]
  },
  {
   "cell_type": "code",
   "execution_count": 10,
   "id": "e0ff51a4",
   "metadata": {},
   "outputs": [],
   "source": [
    "def simple_gen():\n",
    "    for x in range(3):\n",
    "        yield x"
   ]
  },
  {
   "cell_type": "code",
   "execution_count": 11,
   "id": "9d924738",
   "metadata": {},
   "outputs": [
    {
     "name": "stdout",
     "output_type": "stream",
     "text": [
      "0\n",
      "1\n",
      "2\n"
     ]
    }
   ],
   "source": [
    "for number in simple_gen():\n",
    "    print(number)"
   ]
  },
  {
   "cell_type": "code",
   "execution_count": 12,
   "id": "92cd651e",
   "metadata": {},
   "outputs": [],
   "source": [
    "g = simple_gen()"
   ]
  },
  {
   "cell_type": "code",
   "execution_count": 13,
   "id": "2248be0d",
   "metadata": {},
   "outputs": [
    {
     "data": {
      "text/plain": [
       "<generator object simple_gen at 0x0000022C458FAF90>"
      ]
     },
     "execution_count": 13,
     "metadata": {},
     "output_type": "execute_result"
    }
   ],
   "source": [
    "g"
   ]
  },
  {
   "cell_type": "code",
   "execution_count": 14,
   "id": "06eb252a",
   "metadata": {},
   "outputs": [
    {
     "name": "stdout",
     "output_type": "stream",
     "text": [
      "0\n"
     ]
    }
   ],
   "source": [
    "print(next(g))"
   ]
  },
  {
   "cell_type": "code",
   "execution_count": 15,
   "id": "3e871ebd",
   "metadata": {},
   "outputs": [
    {
     "name": "stdout",
     "output_type": "stream",
     "text": [
      "1\n"
     ]
    }
   ],
   "source": [
    "print(next(g))"
   ]
  },
  {
   "cell_type": "code",
   "execution_count": 16,
   "id": "b08ca19c",
   "metadata": {},
   "outputs": [
    {
     "name": "stdout",
     "output_type": "stream",
     "text": [
      "2\n"
     ]
    }
   ],
   "source": [
    "print(next(g))"
   ]
  },
  {
   "cell_type": "code",
   "execution_count": 17,
   "id": "37648877",
   "metadata": {},
   "outputs": [
    {
     "ename": "StopIteration",
     "evalue": "",
     "output_type": "error",
     "traceback": [
      "\u001b[1;31m---------------------------------------------------------------------------\u001b[0m",
      "\u001b[1;31mStopIteration\u001b[0m                             Traceback (most recent call last)",
      "Input \u001b[1;32mIn [17]\u001b[0m, in \u001b[0;36m<cell line: 1>\u001b[1;34m()\u001b[0m\n\u001b[1;32m----> 1\u001b[0m \u001b[38;5;28mprint\u001b[39m(\u001b[38;5;28;43mnext\u001b[39;49m\u001b[43m(\u001b[49m\u001b[43mg\u001b[49m\u001b[43m)\u001b[49m)\n",
      "\u001b[1;31mStopIteration\u001b[0m: "
     ]
    }
   ],
   "source": [
    "print(next(g))"
   ]
  },
  {
   "cell_type": "code",
   "execution_count": 18,
   "id": "fcac3ed1",
   "metadata": {},
   "outputs": [],
   "source": [
    "s = 'hello'"
   ]
  },
  {
   "cell_type": "code",
   "execution_count": 19,
   "id": "49c1a257",
   "metadata": {},
   "outputs": [
    {
     "name": "stdout",
     "output_type": "stream",
     "text": [
      "h\n",
      "e\n",
      "l\n",
      "l\n",
      "o\n"
     ]
    }
   ],
   "source": [
    "for letter in s:\n",
    "    print(letter)"
   ]
  },
  {
   "cell_type": "code",
   "execution_count": 20,
   "id": "e1804f09",
   "metadata": {},
   "outputs": [
    {
     "ename": "TypeError",
     "evalue": "'str' object is not an iterator",
     "output_type": "error",
     "traceback": [
      "\u001b[1;31m---------------------------------------------------------------------------\u001b[0m",
      "\u001b[1;31mTypeError\u001b[0m                                 Traceback (most recent call last)",
      "Input \u001b[1;32mIn [20]\u001b[0m, in \u001b[0;36m<cell line: 1>\u001b[1;34m()\u001b[0m\n\u001b[1;32m----> 1\u001b[0m \u001b[38;5;28;43mnext\u001b[39;49m\u001b[43m(\u001b[49m\u001b[43ms\u001b[49m\u001b[43m)\u001b[49m\n",
      "\u001b[1;31mTypeError\u001b[0m: 'str' object is not an iterator"
     ]
    }
   ],
   "source": [
    "next(s)"
   ]
  },
  {
   "cell_type": "code",
   "execution_count": 21,
   "id": "89241322",
   "metadata": {},
   "outputs": [],
   "source": [
    "s_iter = iter(s)"
   ]
  },
  {
   "cell_type": "code",
   "execution_count": 22,
   "id": "fed97889",
   "metadata": {},
   "outputs": [
    {
     "data": {
      "text/plain": [
       "'h'"
      ]
     },
     "execution_count": 22,
     "metadata": {},
     "output_type": "execute_result"
    }
   ],
   "source": [
    "next(s_iter)"
   ]
  },
  {
   "cell_type": "code",
   "execution_count": 23,
   "id": "2fc57f41",
   "metadata": {},
   "outputs": [
    {
     "data": {
      "text/plain": [
       "'e'"
      ]
     },
     "execution_count": 23,
     "metadata": {},
     "output_type": "execute_result"
    }
   ],
   "source": [
    "next(s_iter)"
   ]
  },
  {
   "cell_type": "code",
   "execution_count": 24,
   "id": "6ac6a4d9",
   "metadata": {},
   "outputs": [
    {
     "data": {
      "text/plain": [
       "'l'"
      ]
     },
     "execution_count": 24,
     "metadata": {},
     "output_type": "execute_result"
    }
   ],
   "source": [
    "next(s_iter)"
   ]
  },
  {
   "cell_type": "code",
   "execution_count": 54,
   "id": "c4c9ec5d",
   "metadata": {},
   "outputs": [],
   "source": [
    "def even_or_odd(num):\n",
    "    for i in range(num):\n",
    "        f'{i} is even' if i%2==0 else f'{i} is odd'"
   ]
  },
  {
   "cell_type": "code",
   "execution_count": 64,
   "id": "f4730fa0",
   "metadata": {},
   "outputs": [],
   "source": [
    "check_for_100 = even_or_odd(100)"
   ]
  },
  {
   "cell_type": "code",
   "execution_count": 66,
   "id": "0536c390",
   "metadata": {},
   "outputs": [
    {
     "ename": "TypeError",
     "evalue": "'NoneType' object is not iterable",
     "output_type": "error",
     "traceback": [
      "\u001b[1;31m---------------------------------------------------------------------------\u001b[0m",
      "\u001b[1;31mTypeError\u001b[0m                                 Traceback (most recent call last)",
      "Input \u001b[1;32mIn [66]\u001b[0m, in \u001b[0;36m<cell line: 1>\u001b[1;34m()\u001b[0m\n\u001b[1;32m----> 1\u001b[0m check_for_100 \u001b[38;5;241m=\u001b[39m \u001b[38;5;28;43miter\u001b[39;49m\u001b[43m(\u001b[49m\u001b[43mcheck_for_100\u001b[49m\u001b[43m)\u001b[49m\n\u001b[0;32m      2\u001b[0m \u001b[38;5;28mnext\u001b[39m(check_for_100)\n",
      "\u001b[1;31mTypeError\u001b[0m: 'NoneType' object is not iterable"
     ]
    }
   ],
   "source": [
    "check_for_100 = iter(check_for_100)\n",
    "next(check_for_100)"
   ]
  },
  {
   "cell_type": "code",
   "execution_count": 51,
   "id": "e1394f5c",
   "metadata": {},
   "outputs": [
    {
     "name": "stdout",
     "output_type": "stream",
     "text": [
      "None\n"
     ]
    }
   ],
   "source": [
    "print(even_or_odd(50))"
   ]
  },
  {
   "cell_type": "code",
   "execution_count": 70,
   "id": "b64726e5",
   "metadata": {},
   "outputs": [],
   "source": [
    "odd_or_even = (f'{i} is even' if i%2==0 else f'{i} is odd' for i in range(10))\n",
    "\n"
   ]
  },
  {
   "cell_type": "code",
   "execution_count": 71,
   "id": "cd4e07bb",
   "metadata": {},
   "outputs": [
    {
     "data": {
      "text/plain": [
       "generator"
      ]
     },
     "execution_count": 71,
     "metadata": {},
     "output_type": "execute_result"
    }
   ],
   "source": [
    "type(odd_or_even)"
   ]
  },
  {
   "cell_type": "code",
   "execution_count": 73,
   "id": "ca8de245",
   "metadata": {},
   "outputs": [
    {
     "data": {
      "text/plain": [
       "'1 is odd'"
      ]
     },
     "execution_count": 73,
     "metadata": {},
     "output_type": "execute_result"
    }
   ],
   "source": [
    "next(odd_or_even)"
   ]
  },
  {
   "cell_type": "code",
   "execution_count": 74,
   "id": "2ede1650",
   "metadata": {},
   "outputs": [
    {
     "name": "stdout",
     "output_type": "stream",
     "text": [
      "2 is even\n",
      "3 is odd\n",
      "4 is even\n",
      "5 is odd\n",
      "6 is even\n",
      "7 is odd\n",
      "8 is even\n",
      "9 is odd\n"
     ]
    }
   ],
   "source": [
    "for i in odd_or_even:\n",
    "    print(i)"
   ]
  },
  {
   "cell_type": "code",
   "execution_count": null,
   "id": "c79fb539",
   "metadata": {},
   "outputs": [],
   "source": []
  },
  {
   "cell_type": "markdown",
   "id": "ad857a08",
   "metadata": {},
   "source": [
    "# Collections Module\n",
    "\n",
    "The collections module is a built-in module that implements specialized container data types providing alternatives to Python’s general purpose built-in containers. We've already gone over the basics: dict, list, set, and tuple.\n",
    "\n",
    "Now we'll learn about the alternatives that the collections module provides.\n",
    "\n",
    "## Counter\n",
    "\n",
    "*Counter* is a *dict* subclass which helps count hashable objects. Inside of it elements are stored as dictionary keys and the counts of the objects are stored as the value."
   ]
  },
  {
   "cell_type": "code",
   "execution_count": 2,
   "id": "d4644b17",
   "metadata": {},
   "outputs": [],
   "source": [
    "from collections import Counter"
   ]
  },
  {
   "cell_type": "code",
   "execution_count": 3,
   "id": "14ae7b13",
   "metadata": {},
   "outputs": [
    {
     "data": {
      "text/plain": [
       "Counter({1: 6, 2: 6, 3: 4, 12: 1, 32: 1, 21: 1, 223: 1})"
      ]
     },
     "execution_count": 3,
     "metadata": {},
     "output_type": "execute_result"
    }
   ],
   "source": [
    "lst = [1,2,2,2,2,3,3,3,1,2,1,12,3,2,32,1,21,1,223,1]\n",
    "\n",
    "Counter(lst)"
   ]
  },
  {
   "cell_type": "code",
   "execution_count": 4,
   "id": "de12eebf",
   "metadata": {},
   "outputs": [
    {
     "data": {
      "text/plain": [
       "Counter({'a': 2, 'b': 7, 's': 6, 'h': 3})"
      ]
     },
     "execution_count": 4,
     "metadata": {},
     "output_type": "execute_result"
    }
   ],
   "source": [
    "Counter('aabsbsbsbhshhbbsbs')"
   ]
  },
  {
   "cell_type": "markdown",
   "id": "b2fb8f88",
   "metadata": {},
   "source": [
    "## Common patterns when using the Counter() object"
   ]
  },
  {
   "cell_type": "markdown",
   "id": "abe34c23",
   "metadata": {},
   "source": [
    "    sum(c.values())                 # total of all counts\n",
    "    c.clear()                       # reset all counts\n",
    "    list(c)                         # list unique elements\n",
    "    set(c)                          # convert to a set\n",
    "    dict(c)                         # convert to a regular dictionary\n",
    "    c.items()                       # convert to a list of (elem, cnt) pairs\n",
    "    Counter(dict(list_of_pairs))    # convert from a list of (elem, cnt) pairs\n",
    "    c.most_common()[:-n-1:-1]       # n least common elements\n",
    "    c += Counter()                  # remove zero and negative counts"
   ]
  },
  {
   "cell_type": "markdown",
   "id": "10de8cd4",
   "metadata": {},
   "source": [
    "## defaultdict\n",
    "\n",
    "defaultdict is a dictionary-like object which provides all methods provided by a dictionary but takes a first argument (default_factory) as a default data type for the dictionary. Using defaultdict is faster than doing the same using dict.set_default method.\n",
    "\n",
    "**A defaultdict will never raise a KeyError. Any key that does not exist gets the value returned by the default factory.**"
   ]
  },
  {
   "cell_type": "code",
   "execution_count": 5,
   "id": "5f8cbe26",
   "metadata": {},
   "outputs": [],
   "source": [
    "from collections import defaultdict"
   ]
  },
  {
   "cell_type": "code",
   "execution_count": 6,
   "id": "a18bab79",
   "metadata": {},
   "outputs": [],
   "source": [
    "d = defaultdict(lambda: 'That is not a valid Key')"
   ]
  },
  {
   "cell_type": "code",
   "execution_count": 7,
   "id": "7ec28e15",
   "metadata": {},
   "outputs": [
    {
     "data": {
      "text/plain": [
       "'That is not a valid Key'"
      ]
     },
     "execution_count": 7,
     "metadata": {},
     "output_type": "execute_result"
    }
   ],
   "source": [
    "d['zaraza']"
   ]
  },
  {
   "cell_type": "markdown",
   "id": "ae92fd13",
   "metadata": {},
   "source": [
    "# namedtuple\n",
    "The standard tuple uses numerical indexes to access its members."
   ]
  },
  {
   "cell_type": "markdown",
   "id": "3920ab0e",
   "metadata": {},
   "source": [
    "For simple use cases, this is usually enough. On the other hand, remembering which index should be used for each value can lead to errors, especially if the tuple has a lot of fields and is constructed far from where it is used. A namedtuple assigns names, as well as the numerical index, to each member. \n",
    "\n",
    "Each kind of namedtuple is represented by its own class, created by using the namedtuple() factory function. The arguments are the name of the new class and a string containing the names of the elements.\n",
    "\n",
    "You can basically think of namedtuples as a very quick way of creating a new object/class type with some attribute fields.\n"
   ]
  },
  {
   "cell_type": "code",
   "execution_count": 8,
   "id": "d1aab7fc",
   "metadata": {},
   "outputs": [],
   "source": [
    "from collections import namedtuple"
   ]
  },
  {
   "cell_type": "code",
   "execution_count": 9,
   "id": "214cc1f3",
   "metadata": {},
   "outputs": [],
   "source": [
    "Dog = namedtuple('Dog',['age','breed','name'])\n",
    "\n",
    "sam = Dog(age=2,breed='Lab',name='Sammy')\n",
    "\n",
    "frank = Dog(age=2,breed='Shepard',name=\"Frankie\")"
   ]
  },
  {
   "cell_type": "markdown",
   "id": "daaf2aa4",
   "metadata": {},
   "source": [
    "We construct the namedtuple by first passing the object type name (Dog) and then passing a string with the variety of fields as a string with spaces between the field names. We can then call on the various attributes:"
   ]
  },
  {
   "cell_type": "code",
   "execution_count": 10,
   "id": "cb658880",
   "metadata": {},
   "outputs": [
    {
     "data": {
      "text/plain": [
       "Dog(age=2, breed='Lab', name='Sammy')"
      ]
     },
     "execution_count": 10,
     "metadata": {},
     "output_type": "execute_result"
    }
   ],
   "source": [
    "sam"
   ]
  },
  {
   "cell_type": "code",
   "execution_count": 11,
   "id": "0009c111",
   "metadata": {},
   "outputs": [
    {
     "data": {
      "text/plain": [
       "2"
      ]
     },
     "execution_count": 11,
     "metadata": {},
     "output_type": "execute_result"
    }
   ],
   "source": [
    "frank.age"
   ]
  },
  {
   "cell_type": "code",
   "execution_count": 12,
   "id": "63704708",
   "metadata": {},
   "outputs": [
    {
     "data": {
      "text/plain": [
       "'Shepard'"
      ]
     },
     "execution_count": 12,
     "metadata": {},
     "output_type": "execute_result"
    }
   ],
   "source": [
    "frank[1]"
   ]
  },
  {
   "cell_type": "markdown",
   "id": "792855e2",
   "metadata": {},
   "source": [
    "# datetime module\n",
    "\n",
    "Python has the datetime module to help deal with timestamps in your code. Time values are represented with the time class. Times have attributes for hour, minute, second, and microsecond. They can also include time zone information. The arguments to initialize a time instance are optional, but the default of 0 is unlikely to be what you want.\n",
    "\n",
    "## time\n",
    "Let's take a look at how we can extract time information from the datetime module. We can create a timestamp by specifying datetime.time(hour,minute,second,microsecond)"
   ]
  },
  {
   "cell_type": "code",
   "execution_count": 35,
   "id": "9ff11967",
   "metadata": {},
   "outputs": [
    {
     "name": "stdout",
     "output_type": "stream",
     "text": [
      "04:37:11\n",
      "hour  : 4\n",
      "minute: 37\n",
      "second: 11\n",
      "microsecond: 0\n",
      "tzinfo: None\n"
     ]
    }
   ],
   "source": [
    "import datetime\n",
    "\n",
    "mytime = datetime.time(4, 37, 11)\n",
    "\n",
    "# Let's show the different components\n",
    "print(mytime)\n",
    "print('hour  :', mytime.hour)\n",
    "print('minute:', mytime.minute)\n",
    "print('second:', mytime.second)\n",
    "print('microsecond:', mytime.microsecond)\n",
    "print('tzinfo:', mytime.tzinfo)"
   ]
  },
  {
   "cell_type": "code",
   "execution_count": 17,
   "id": "0a83c628",
   "metadata": {},
   "outputs": [
    {
     "data": {
      "text/plain": [
       "datetime.time"
      ]
     },
     "execution_count": 17,
     "metadata": {},
     "output_type": "execute_result"
    }
   ],
   "source": [
    "type(mytime)"
   ]
  },
  {
   "cell_type": "code",
   "execution_count": 18,
   "id": "3083793c",
   "metadata": {},
   "outputs": [],
   "source": [
    "today = datetime.date.today()"
   ]
  },
  {
   "cell_type": "code",
   "execution_count": 19,
   "id": "dc2485ba",
   "metadata": {},
   "outputs": [
    {
     "name": "stdout",
     "output_type": "stream",
     "text": [
      "2022-08-17\n"
     ]
    }
   ],
   "source": [
    "print(today)"
   ]
  },
  {
   "cell_type": "code",
   "execution_count": 24,
   "id": "bf160b5c",
   "metadata": {},
   "outputs": [
    {
     "data": {
      "text/plain": [
       "2022"
      ]
     },
     "execution_count": 24,
     "metadata": {},
     "output_type": "execute_result"
    }
   ],
   "source": [
    "today.year"
   ]
  },
  {
   "cell_type": "code",
   "execution_count": 25,
   "id": "8438a976",
   "metadata": {},
   "outputs": [
    {
     "data": {
      "text/plain": [
       "'Wed Aug 17 00:00:00 2022'"
      ]
     },
     "execution_count": 25,
     "metadata": {},
     "output_type": "execute_result"
    }
   ],
   "source": [
    "today.ctime()"
   ]
  },
  {
   "cell_type": "code",
   "execution_count": 26,
   "id": "d0f44e67",
   "metadata": {},
   "outputs": [],
   "source": [
    "from datetime import datetime"
   ]
  },
  {
   "cell_type": "code",
   "execution_count": 28,
   "id": "95ee6e8b",
   "metadata": {},
   "outputs": [],
   "source": [
    "my_datetime = datetime(2022,8,17,4,42,1)"
   ]
  },
  {
   "cell_type": "code",
   "execution_count": 29,
   "id": "b7ad76b9",
   "metadata": {},
   "outputs": [
    {
     "name": "stdout",
     "output_type": "stream",
     "text": [
      "2022-08-17 04:42:01\n"
     ]
    }
   ],
   "source": [
    "print(my_datetime)"
   ]
  },
  {
   "cell_type": "code",
   "execution_count": 32,
   "id": "345296dd",
   "metadata": {},
   "outputs": [],
   "source": [
    "my_datetime= my_datetime.replace(second=31)"
   ]
  },
  {
   "cell_type": "code",
   "execution_count": 33,
   "id": "32956062",
   "metadata": {},
   "outputs": [
    {
     "name": "stdout",
     "output_type": "stream",
     "text": [
      "2022-08-17 04:42:31\n"
     ]
    }
   ],
   "source": [
    "print(my_datetime)"
   ]
  },
  {
   "cell_type": "markdown",
   "id": "36f7cc79",
   "metadata": {},
   "source": [
    "## Dates\n",
    "datetime (as you might suspect) also allows us to work with date timestamps. Calendar date values are represented with the date class. Instances have attributes for year, month, and day. It is easy to create a date representing today’s date using the today() class method."
   ]
  },
  {
   "cell_type": "markdown",
   "id": "5eaaff56",
   "metadata": {},
   "source": [
    "# Arithmetic\n",
    "We can perform arithmetic on date objects to check for time differences. "
   ]
  },
  {
   "cell_type": "code",
   "execution_count": 36,
   "id": "240ae2b5",
   "metadata": {},
   "outputs": [
    {
     "name": "stdout",
     "output_type": "stream",
     "text": [
      "d1: 2015-03-11\n",
      "d2: 1990-03-11\n"
     ]
    }
   ],
   "source": [
    "d1 = datetime.date(2015, 3, 11)\n",
    "print('d1:', d1)\n",
    "\n",
    "d2 = d1.replace(year=1990)\n",
    "print('d2:', d2)"
   ]
  },
  {
   "cell_type": "code",
   "execution_count": 38,
   "id": "c8244153",
   "metadata": {},
   "outputs": [
    {
     "data": {
      "text/plain": [
       "datetime.date(2015, 3, 11)"
      ]
     },
     "execution_count": 38,
     "metadata": {},
     "output_type": "execute_result"
    }
   ],
   "source": [
    "d1"
   ]
  },
  {
   "cell_type": "code",
   "execution_count": 39,
   "id": "d7222966",
   "metadata": {},
   "outputs": [
    {
     "data": {
      "text/plain": [
       "datetime.date(1990, 3, 11)"
      ]
     },
     "execution_count": 39,
     "metadata": {},
     "output_type": "execute_result"
    }
   ],
   "source": [
    "d2"
   ]
  },
  {
   "cell_type": "code",
   "execution_count": 40,
   "id": "d2dbae4b",
   "metadata": {},
   "outputs": [
    {
     "data": {
      "text/plain": [
       "datetime.timedelta(days=9131)"
      ]
     },
     "execution_count": 40,
     "metadata": {},
     "output_type": "execute_result"
    }
   ],
   "source": [
    "d1-d2"
   ]
  },
  {
   "cell_type": "code",
   "execution_count": 41,
   "id": "9be18b7d",
   "metadata": {},
   "outputs": [],
   "source": [
    "result = d1-d2"
   ]
  },
  {
   "cell_type": "code",
   "execution_count": 42,
   "id": "4da5a3a1",
   "metadata": {},
   "outputs": [
    {
     "data": {
      "text/plain": [
       "datetime.timedelta"
      ]
     },
     "execution_count": 42,
     "metadata": {},
     "output_type": "execute_result"
    }
   ],
   "source": [
    "type(result)"
   ]
  },
  {
   "cell_type": "code",
   "execution_count": 43,
   "id": "fd35c007",
   "metadata": {},
   "outputs": [],
   "source": [
    "datetime1 = datetime.datetime(2021,11,3,22,0)"
   ]
  },
  {
   "cell_type": "code",
   "execution_count": 44,
   "id": "586564a0",
   "metadata": {},
   "outputs": [],
   "source": [
    "datetime2 = datetime.datetime(2020,11,3,12,0)"
   ]
  },
  {
   "cell_type": "code",
   "execution_count": 45,
   "id": "1590187f",
   "metadata": {},
   "outputs": [
    {
     "data": {
      "text/plain": [
       "datetime.timedelta(days=365, seconds=36000)"
      ]
     },
     "execution_count": 45,
     "metadata": {},
     "output_type": "execute_result"
    }
   ],
   "source": [
    "datetime1 - datetime2"
   ]
  },
  {
   "cell_type": "code",
   "execution_count": 46,
   "id": "40caccb4",
   "metadata": {},
   "outputs": [],
   "source": [
    "diff = datetime1 - datetime2"
   ]
  },
  {
   "cell_type": "code",
   "execution_count": 47,
   "id": "178d0c06",
   "metadata": {},
   "outputs": [
    {
     "data": {
      "text/plain": [
       "datetime.timedelta"
      ]
     },
     "execution_count": 47,
     "metadata": {},
     "output_type": "execute_result"
    }
   ],
   "source": [
    "type(diff)"
   ]
  },
  {
   "cell_type": "markdown",
   "id": "08057b33",
   "metadata": {},
   "source": [
    "# Math and Random Modules\n",
    "\n",
    "Python comes with a built in math module and random module. In this lecture we will give a brief tour of their capabilities. Usually you can simply look up the function call you are looking for in the online documentation.\n",
    "\n",
    "* [Math Module](https://docs.python.org/3/library/math.html)\n",
    "\n",
    "* [Random Module](https://docs.python.org/3/library/random.html)\n",
    "\n",
    "We won't go through every function available in these modules since there are so many, but we will show some useful ones."
   ]
  },
  {
   "cell_type": "code",
   "execution_count": 48,
   "id": "ca87c818",
   "metadata": {},
   "outputs": [
    {
     "name": "stdout",
     "output_type": "stream",
     "text": [
      "Help on built-in module math:\n",
      "\n",
      "NAME\n",
      "    math\n",
      "\n",
      "DESCRIPTION\n",
      "    This module provides access to the mathematical functions\n",
      "    defined by the C standard.\n",
      "\n",
      "FUNCTIONS\n",
      "    acos(x, /)\n",
      "        Return the arc cosine (measured in radians) of x.\n",
      "        \n",
      "        The result is between 0 and pi.\n",
      "    \n",
      "    acosh(x, /)\n",
      "        Return the inverse hyperbolic cosine of x.\n",
      "    \n",
      "    asin(x, /)\n",
      "        Return the arc sine (measured in radians) of x.\n",
      "        \n",
      "        The result is between -pi/2 and pi/2.\n",
      "    \n",
      "    asinh(x, /)\n",
      "        Return the inverse hyperbolic sine of x.\n",
      "    \n",
      "    atan(x, /)\n",
      "        Return the arc tangent (measured in radians) of x.\n",
      "        \n",
      "        The result is between -pi/2 and pi/2.\n",
      "    \n",
      "    atan2(y, x, /)\n",
      "        Return the arc tangent (measured in radians) of y/x.\n",
      "        \n",
      "        Unlike atan(y/x), the signs of both x and y are considered.\n",
      "    \n",
      "    atanh(x, /)\n",
      "        Return the inverse hyperbolic tangent of x.\n",
      "    \n",
      "    ceil(x, /)\n",
      "        Return the ceiling of x as an Integral.\n",
      "        \n",
      "        This is the smallest integer >= x.\n",
      "    \n",
      "    comb(n, k, /)\n",
      "        Number of ways to choose k items from n items without repetition and without order.\n",
      "        \n",
      "        Evaluates to n! / (k! * (n - k)!) when k <= n and evaluates\n",
      "        to zero when k > n.\n",
      "        \n",
      "        Also called the binomial coefficient because it is equivalent\n",
      "        to the coefficient of k-th term in polynomial expansion of the\n",
      "        expression (1 + x)**n.\n",
      "        \n",
      "        Raises TypeError if either of the arguments are not integers.\n",
      "        Raises ValueError if either of the arguments are negative.\n",
      "    \n",
      "    copysign(x, y, /)\n",
      "        Return a float with the magnitude (absolute value) of x but the sign of y.\n",
      "        \n",
      "        On platforms that support signed zeros, copysign(1.0, -0.0)\n",
      "        returns -1.0.\n",
      "    \n",
      "    cos(x, /)\n",
      "        Return the cosine of x (measured in radians).\n",
      "    \n",
      "    cosh(x, /)\n",
      "        Return the hyperbolic cosine of x.\n",
      "    \n",
      "    degrees(x, /)\n",
      "        Convert angle x from radians to degrees.\n",
      "    \n",
      "    dist(p, q, /)\n",
      "        Return the Euclidean distance between two points p and q.\n",
      "        \n",
      "        The points should be specified as sequences (or iterables) of\n",
      "        coordinates.  Both inputs must have the same dimension.\n",
      "        \n",
      "        Roughly equivalent to:\n",
      "            sqrt(sum((px - qx) ** 2.0 for px, qx in zip(p, q)))\n",
      "    \n",
      "    erf(x, /)\n",
      "        Error function at x.\n",
      "    \n",
      "    erfc(x, /)\n",
      "        Complementary error function at x.\n",
      "    \n",
      "    exp(x, /)\n",
      "        Return e raised to the power of x.\n",
      "    \n",
      "    expm1(x, /)\n",
      "        Return exp(x)-1.\n",
      "        \n",
      "        This function avoids the loss of precision involved in the direct evaluation of exp(x)-1 for small x.\n",
      "    \n",
      "    fabs(x, /)\n",
      "        Return the absolute value of the float x.\n",
      "    \n",
      "    factorial(x, /)\n",
      "        Find x!.\n",
      "        \n",
      "        Raise a ValueError if x is negative or non-integral.\n",
      "    \n",
      "    floor(x, /)\n",
      "        Return the floor of x as an Integral.\n",
      "        \n",
      "        This is the largest integer <= x.\n",
      "    \n",
      "    fmod(x, y, /)\n",
      "        Return fmod(x, y), according to platform C.\n",
      "        \n",
      "        x % y may differ.\n",
      "    \n",
      "    frexp(x, /)\n",
      "        Return the mantissa and exponent of x, as pair (m, e).\n",
      "        \n",
      "        m is a float and e is an int, such that x = m * 2.**e.\n",
      "        If x is 0, m and e are both 0.  Else 0.5 <= abs(m) < 1.0.\n",
      "    \n",
      "    fsum(seq, /)\n",
      "        Return an accurate floating point sum of values in the iterable seq.\n",
      "        \n",
      "        Assumes IEEE-754 floating point arithmetic.\n",
      "    \n",
      "    gamma(x, /)\n",
      "        Gamma function at x.\n",
      "    \n",
      "    gcd(*integers)\n",
      "        Greatest Common Divisor.\n",
      "    \n",
      "    hypot(...)\n",
      "        hypot(*coordinates) -> value\n",
      "        \n",
      "        Multidimensional Euclidean distance from the origin to a point.\n",
      "        \n",
      "        Roughly equivalent to:\n",
      "            sqrt(sum(x**2 for x in coordinates))\n",
      "        \n",
      "        For a two dimensional point (x, y), gives the hypotenuse\n",
      "        using the Pythagorean theorem:  sqrt(x*x + y*y).\n",
      "        \n",
      "        For example, the hypotenuse of a 3/4/5 right triangle is:\n",
      "        \n",
      "            >>> hypot(3.0, 4.0)\n",
      "            5.0\n",
      "    \n",
      "    isclose(a, b, *, rel_tol=1e-09, abs_tol=0.0)\n",
      "        Determine whether two floating point numbers are close in value.\n",
      "        \n",
      "          rel_tol\n",
      "            maximum difference for being considered \"close\", relative to the\n",
      "            magnitude of the input values\n",
      "          abs_tol\n",
      "            maximum difference for being considered \"close\", regardless of the\n",
      "            magnitude of the input values\n",
      "        \n",
      "        Return True if a is close in value to b, and False otherwise.\n",
      "        \n",
      "        For the values to be considered close, the difference between them\n",
      "        must be smaller than at least one of the tolerances.\n",
      "        \n",
      "        -inf, inf and NaN behave similarly to the IEEE 754 Standard.  That\n",
      "        is, NaN is not close to anything, even itself.  inf and -inf are\n",
      "        only close to themselves.\n",
      "    \n",
      "    isfinite(x, /)\n",
      "        Return True if x is neither an infinity nor a NaN, and False otherwise.\n",
      "    \n",
      "    isinf(x, /)\n",
      "        Return True if x is a positive or negative infinity, and False otherwise.\n",
      "    \n",
      "    isnan(x, /)\n",
      "        Return True if x is a NaN (not a number), and False otherwise.\n",
      "    \n",
      "    isqrt(n, /)\n",
      "        Return the integer part of the square root of the input.\n",
      "    \n",
      "    lcm(*integers)\n",
      "        Least Common Multiple.\n",
      "    \n",
      "    ldexp(x, i, /)\n",
      "        Return x * (2**i).\n",
      "        \n",
      "        This is essentially the inverse of frexp().\n",
      "    \n",
      "    lgamma(x, /)\n",
      "        Natural logarithm of absolute value of Gamma function at x.\n",
      "    \n",
      "    log(...)\n",
      "        log(x, [base=math.e])\n",
      "        Return the logarithm of x to the given base.\n",
      "        \n",
      "        If the base not specified, returns the natural logarithm (base e) of x.\n",
      "    \n",
      "    log10(x, /)\n",
      "        Return the base 10 logarithm of x.\n",
      "    \n",
      "    log1p(x, /)\n",
      "        Return the natural logarithm of 1+x (base e).\n",
      "        \n",
      "        The result is computed in a way which is accurate for x near zero.\n",
      "    \n",
      "    log2(x, /)\n",
      "        Return the base 2 logarithm of x.\n",
      "    \n",
      "    modf(x, /)\n",
      "        Return the fractional and integer parts of x.\n",
      "        \n",
      "        Both results carry the sign of x and are floats.\n",
      "    \n",
      "    nextafter(x, y, /)\n",
      "        Return the next floating-point value after x towards y.\n",
      "    \n",
      "    perm(n, k=None, /)\n",
      "        Number of ways to choose k items from n items without repetition and with order.\n",
      "        \n",
      "        Evaluates to n! / (n - k)! when k <= n and evaluates\n",
      "        to zero when k > n.\n",
      "        \n",
      "        If k is not specified or is None, then k defaults to n\n",
      "        and the function returns n!.\n",
      "        \n",
      "        Raises TypeError if either of the arguments are not integers.\n",
      "        Raises ValueError if either of the arguments are negative.\n",
      "    \n",
      "    pow(x, y, /)\n",
      "        Return x**y (x to the power of y).\n",
      "    \n",
      "    prod(iterable, /, *, start=1)\n",
      "        Calculate the product of all the elements in the input iterable.\n",
      "        \n",
      "        The default start value for the product is 1.\n",
      "        \n",
      "        When the iterable is empty, return the start value.  This function is\n",
      "        intended specifically for use with numeric values and may reject\n",
      "        non-numeric types.\n",
      "    \n",
      "    radians(x, /)\n",
      "        Convert angle x from degrees to radians.\n",
      "    \n",
      "    remainder(x, y, /)\n",
      "        Difference between x and the closest integer multiple of y.\n",
      "        \n",
      "        Return x - n*y where n*y is the closest integer multiple of y.\n",
      "        In the case where x is exactly halfway between two multiples of\n",
      "        y, the nearest even value of n is used. The result is always exact.\n",
      "    \n",
      "    sin(x, /)\n",
      "        Return the sine of x (measured in radians).\n",
      "    \n",
      "    sinh(x, /)\n",
      "        Return the hyperbolic sine of x.\n",
      "    \n",
      "    sqrt(x, /)\n",
      "        Return the square root of x.\n",
      "    \n",
      "    tan(x, /)\n",
      "        Return the tangent of x (measured in radians).\n",
      "    \n",
      "    tanh(x, /)\n",
      "        Return the hyperbolic tangent of x.\n",
      "    \n",
      "    trunc(x, /)\n",
      "        Truncates the Real x to the nearest Integral toward 0.\n",
      "        \n",
      "        Uses the __trunc__ magic method.\n",
      "    \n",
      "    ulp(x, /)\n",
      "        Return the value of the least significant bit of the float x.\n",
      "\n",
      "DATA\n",
      "    e = 2.718281828459045\n",
      "    inf = inf\n",
      "    nan = nan\n",
      "    pi = 3.141592653589793\n",
      "    tau = 6.283185307179586\n",
      "\n",
      "FILE\n",
      "    (built-in)\n",
      "\n",
      "\n"
     ]
    }
   ],
   "source": [
    "## Useful Math Functions\n",
    "import math\n",
    "help(math)"
   ]
  },
  {
   "cell_type": "code",
   "execution_count": 49,
   "id": "052172be",
   "metadata": {},
   "outputs": [
    {
     "data": {
      "text/plain": [
       "3.141592653589793"
      ]
     },
     "execution_count": 49,
     "metadata": {},
     "output_type": "execute_result"
    }
   ],
   "source": [
    "math.pi"
   ]
  },
  {
   "cell_type": "code",
   "execution_count": 54,
   "id": "d14a07a9",
   "metadata": {},
   "outputs": [],
   "source": [
    "my_pi = math.pi"
   ]
  },
  {
   "cell_type": "code",
   "execution_count": 55,
   "id": "a6ab6777",
   "metadata": {},
   "outputs": [
    {
     "data": {
      "text/plain": [
       "3"
      ]
     },
     "execution_count": 55,
     "metadata": {},
     "output_type": "execute_result"
    }
   ],
   "source": [
    "math.floor(my_pi)"
   ]
  },
  {
   "cell_type": "code",
   "execution_count": 56,
   "id": "3cec9168",
   "metadata": {},
   "outputs": [
    {
     "data": {
      "text/plain": [
       "4"
      ]
     },
     "execution_count": 56,
     "metadata": {},
     "output_type": "execute_result"
    }
   ],
   "source": [
    "math.ceil(my_pi)"
   ]
  },
  {
   "cell_type": "code",
   "execution_count": 58,
   "id": "45463bb5",
   "metadata": {},
   "outputs": [
    {
     "data": {
      "text/plain": [
       "3.1416"
      ]
     },
     "execution_count": 58,
     "metadata": {},
     "output_type": "execute_result"
    }
   ],
   "source": [
    "round(my_pi, 4)"
   ]
  },
  {
   "cell_type": "code",
   "execution_count": 59,
   "id": "a91981c5",
   "metadata": {},
   "outputs": [
    {
     "data": {
      "text/plain": [
       "2.718281828459045"
      ]
     },
     "execution_count": 59,
     "metadata": {},
     "output_type": "execute_result"
    }
   ],
   "source": [
    "math.e"
   ]
  },
  {
   "cell_type": "code",
   "execution_count": 60,
   "id": "0dafe006",
   "metadata": {},
   "outputs": [
    {
     "data": {
      "text/plain": [
       "6.283185307179586"
      ]
     },
     "execution_count": 60,
     "metadata": {},
     "output_type": "execute_result"
    }
   ],
   "source": [
    "math.tau"
   ]
  },
  {
   "cell_type": "code",
   "execution_count": 61,
   "id": "04a73c52",
   "metadata": {},
   "outputs": [
    {
     "data": {
      "text/plain": [
       "inf"
      ]
     },
     "execution_count": 61,
     "metadata": {},
     "output_type": "execute_result"
    }
   ],
   "source": [
    "math.inf #infinity"
   ]
  },
  {
   "cell_type": "code",
   "execution_count": 62,
   "id": "dac58e5e",
   "metadata": {},
   "outputs": [
    {
     "data": {
      "text/plain": [
       "nan"
      ]
     },
     "execution_count": 62,
     "metadata": {},
     "output_type": "execute_result"
    }
   ],
   "source": [
    "math.nan #not a number"
   ]
  },
  {
   "cell_type": "code",
   "execution_count": 63,
   "id": "a5b03472",
   "metadata": {},
   "outputs": [
    {
     "data": {
      "text/plain": [
       "1.0"
      ]
     },
     "execution_count": 63,
     "metadata": {},
     "output_type": "execute_result"
    }
   ],
   "source": [
    "math.log(math.e)"
   ]
  },
  {
   "cell_type": "markdown",
   "id": "d8a70c3d",
   "metadata": {},
   "source": [
    "# Random Module\n",
    "\n",
    "Random Module allows us to create random numbers. We can even set a seed to produce the same random set every time.\n",
    "\n",
    "The explanation of how a computer attempts to generate random numbers is beyond the scope of this course since it involves higher level mathmatics. But if you are interested in this topic check out:\n",
    "* https://en.wikipedia.org/wiki/Pseudorandom_number_generator\n",
    "* https://en.wikipedia.org/wiki/Random_seed"
   ]
  },
  {
   "cell_type": "markdown",
   "id": "23437001",
   "metadata": {},
   "source": [
    "## Understanding a seed\n",
    "\n",
    "Setting a seed allows us to start from a seeded psuedorandom number generator, which means the same random numbers will show up in a series. Note, you need the seed to be in the same cell if your using jupyter to guarantee the same results each time. Getting a same set of random numbers can be important in situations where you will be trying different variations of functions and want to compare their performance on random values, but want to do it fairly (so you need the same set of random numbers each time)."
   ]
  },
  {
   "cell_type": "code",
   "execution_count": 64,
   "id": "cb7e9235",
   "metadata": {},
   "outputs": [],
   "source": [
    "import random"
   ]
  },
  {
   "cell_type": "code",
   "execution_count": 65,
   "id": "f2a0e15a",
   "metadata": {},
   "outputs": [
    {
     "data": {
      "text/plain": [
       "16"
      ]
     },
     "execution_count": 65,
     "metadata": {},
     "output_type": "execute_result"
    }
   ],
   "source": [
    "random.randint(0,100)"
   ]
  },
  {
   "cell_type": "code",
   "execution_count": 66,
   "id": "c6070739",
   "metadata": {},
   "outputs": [
    {
     "data": {
      "text/plain": [
       "19"
      ]
     },
     "execution_count": 66,
     "metadata": {},
     "output_type": "execute_result"
    }
   ],
   "source": [
    "random.randint(0,100)"
   ]
  },
  {
   "cell_type": "code",
   "execution_count": 67,
   "id": "a9c3efb8",
   "metadata": {},
   "outputs": [
    {
     "data": {
      "text/plain": [
       "74"
      ]
     },
     "execution_count": 67,
     "metadata": {},
     "output_type": "execute_result"
    }
   ],
   "source": [
    "# The value 101 is completely arbitrary, you can pass in any number you want\n",
    "random.seed(101)\n",
    "# You can run this cell as many times as you want, it will always return the same number\n",
    "random.randint(0,100)"
   ]
  },
  {
   "cell_type": "code",
   "execution_count": 68,
   "id": "b68f2d31",
   "metadata": {},
   "outputs": [
    {
     "name": "stdout",
     "output_type": "stream",
     "text": [
      "74\n",
      "24\n",
      "69\n",
      "45\n",
      "59\n"
     ]
    }
   ],
   "source": [
    "# The value 101 is completely arbitrary, you can pass in any number you want\n",
    "random.seed(101)\n",
    "print(random.randint(0,100))\n",
    "print(random.randint(0,100))\n",
    "print(random.randint(0,100))\n",
    "print(random.randint(0,100))\n",
    "print(random.randint(0,100))"
   ]
  },
  {
   "cell_type": "code",
   "execution_count": 69,
   "id": "efa9f9e8",
   "metadata": {},
   "outputs": [],
   "source": [
    "mylist = list(range(0,20))"
   ]
  },
  {
   "cell_type": "code",
   "execution_count": 71,
   "id": "8baf0dcb",
   "metadata": {},
   "outputs": [
    {
     "data": {
      "text/plain": [
       "16"
      ]
     },
     "execution_count": 71,
     "metadata": {},
     "output_type": "execute_result"
    }
   ],
   "source": [
    "random.choice(mylist)"
   ]
  },
  {
   "cell_type": "code",
   "execution_count": 72,
   "id": "d2c43e91",
   "metadata": {},
   "outputs": [
    {
     "data": {
      "text/plain": [
       "[0, 1, 2, 3, 4, 5, 6, 7, 8, 9, 10, 11, 12, 13, 14, 15, 16, 17, 18, 19]"
      ]
     },
     "execution_count": 72,
     "metadata": {},
     "output_type": "execute_result"
    }
   ],
   "source": [
    "mylist"
   ]
  },
  {
   "cell_type": "markdown",
   "id": "58fdadc1",
   "metadata": {},
   "source": [
    "### Sample with Replacement\n",
    "\n",
    "Take a sample size, allowing picking elements more than once. Imagine a bag of numbered lottery balls, you reach in to grab a random lotto ball, then after marking down the number, **you place it back in the bag**, then continue picking another one."
   ]
  },
  {
   "cell_type": "code",
   "execution_count": 73,
   "id": "35340f11",
   "metadata": {},
   "outputs": [
    {
     "data": {
      "text/plain": [
       "[4, 4, 5, 13, 4, 19, 1, 3, 1, 15]"
      ]
     },
     "execution_count": 73,
     "metadata": {},
     "output_type": "execute_result"
    }
   ],
   "source": [
    "random.choices(population=mylist,k=10)"
   ]
  },
  {
   "cell_type": "markdown",
   "id": "1cb6043f",
   "metadata": {},
   "source": [
    "### Sample without Replacement\n",
    "\n",
    "Once an item has been randomly picked, it can't be picked again. Imagine a bag of numbered lottery balls, you reach in to grab a random lotto ball, then after marking down the number, you **leave it out of the bag**, then continue picking another one."
   ]
  },
  {
   "cell_type": "code",
   "execution_count": 75,
   "id": "04bbd849",
   "metadata": {},
   "outputs": [
    {
     "data": {
      "text/plain": [
       "[11, 6, 15, 10, 7, 16, 12, 18, 13, 3]"
      ]
     },
     "execution_count": 75,
     "metadata": {},
     "output_type": "execute_result"
    }
   ],
   "source": [
    "random.sample(population=mylist,k=10)"
   ]
  },
  {
   "cell_type": "markdown",
   "id": "86cc913e",
   "metadata": {},
   "source": [
    "### Random Distributions\n",
    "\n",
    "#### [Uniform Distribution](https://en.wikipedia.org/wiki/Uniform_distribution)"
   ]
  },
  {
   "cell_type": "code",
   "execution_count": 78,
   "id": "0aba7a68",
   "metadata": {},
   "outputs": [
    {
     "data": {
      "text/plain": [
       "65.22778035953006"
      ]
     },
     "execution_count": 78,
     "metadata": {},
     "output_type": "execute_result"
    }
   ],
   "source": [
    "# Continuous, random picks a value between a and b, each value has equal change of being picked.\n",
    "random.uniform(a=0,b=100)"
   ]
  },
  {
   "cell_type": "markdown",
   "id": "901ea62e",
   "metadata": {},
   "source": [
    "#### [Normal/Gaussian Distribution](https://en.wikipedia.org/wiki/Normal_distribution)"
   ]
  },
  {
   "cell_type": "code",
   "execution_count": 77,
   "id": "9bef94a2",
   "metadata": {},
   "outputs": [
    {
     "data": {
      "text/plain": [
       "-0.6756926088417617"
      ]
     },
     "execution_count": 77,
     "metadata": {},
     "output_type": "execute_result"
    }
   ],
   "source": [
    "random.gauss(mu=0,sigma=1)"
   ]
  },
  {
   "cell_type": "markdown",
   "id": "b5e159af",
   "metadata": {},
   "source": [
    "Final Note: If you find yourself using these libraries a lot, take a look at the NumPy library for Python, covers all these capabilities with extreme efficiency. We cover this library and a lot more in our data science and machine learning courses."
   ]
  },
  {
   "cell_type": "code",
   "execution_count": null,
   "id": "251d4360",
   "metadata": {},
   "outputs": [],
   "source": []
  },
  {
   "cell_type": "markdown",
   "id": "4397436f",
   "metadata": {},
   "source": [
    "# Python Debugger\n",
    "\n",
    "You've probably used a variety of print statements to try to find errors in your code. A better way of doing this is by using Python's built-in debugger module (pdb). The pdb module implements an interactive debugging environment for Python programs. It includes features to let you pause your program, look at the values of variables, and watch program execution step-by-step, so you can understand what your program actually does and find bugs in the logic.\n",
    "\n",
    "This is a bit difficult to show since it requires creating an error on purpose, but hopefully this simple example illustrates the power of the pdb module. <br>*Note: Keep in mind it would be pretty unusual to use pdb in an Jupyter Notebook setting.*\n",
    "\n",
    "___\n",
    "Here we will create an error on purpose, trying to add a list to an integer"
   ]
  },
  {
   "cell_type": "code",
   "execution_count": 80,
   "id": "c65d03f0",
   "metadata": {},
   "outputs": [
    {
     "ename": "TypeError",
     "evalue": "can only concatenate list (not \"int\") to list",
     "output_type": "error",
     "traceback": [
      "\u001b[1;31m---------------------------------------------------------------------------\u001b[0m",
      "\u001b[1;31mTypeError\u001b[0m                                 Traceback (most recent call last)",
      "Input \u001b[1;32mIn [80]\u001b[0m, in \u001b[0;36m<cell line: 7>\u001b[1;34m()\u001b[0m\n\u001b[0;32m      3\u001b[0m z \u001b[38;5;241m=\u001b[39m \u001b[38;5;241m3\u001b[39m\n\u001b[0;32m      5\u001b[0m result \u001b[38;5;241m=\u001b[39m y \u001b[38;5;241m+\u001b[39m z\n\u001b[1;32m----> 7\u001b[0m result2 \u001b[38;5;241m=\u001b[39m \u001b[43mx\u001b[49m\u001b[43m \u001b[49m\u001b[38;5;241;43m+\u001b[39;49m\u001b[43m \u001b[49m\u001b[43my\u001b[49m\n",
      "\u001b[1;31mTypeError\u001b[0m: can only concatenate list (not \"int\") to list"
     ]
    }
   ],
   "source": [
    "x = [1,2,3]\n",
    "y = 2\n",
    "z = 3\n",
    "\n",
    "result = y + z\n",
    "\n",
    "result2 = x + y\n"
   ]
  },
  {
   "cell_type": "code",
   "execution_count": 81,
   "id": "f130e1af",
   "metadata": {},
   "outputs": [],
   "source": [
    "import pdb"
   ]
  },
  {
   "cell_type": "code",
   "execution_count": 82,
   "id": "574c5948",
   "metadata": {},
   "outputs": [
    {
     "name": "stdout",
     "output_type": "stream",
     "text": [
      "--Return--\n",
      "None\n",
      "> \u001b[1;32mc:\\users\\gonzalo.rey\\appdata\\local\\temp\\ipykernel_12908\\207013525.py\u001b[0m(6)\u001b[0;36m<cell line: 6>\u001b[1;34m()\u001b[0m\n",
      "\n",
      "ipdb> y\n",
      "2\n",
      "ipdb> z\n",
      "3\n",
      "ipdb> result\n",
      "5\n",
      "ipdb> result2\n",
      "*** NameError: name 'result2' is not defined\n",
      "ipdb> x+y\n",
      "*** TypeError: can only concatenate list (not \"int\") to list\n",
      "ipdb> x\n",
      "[1, 2, 3]\n",
      "ipdb> type(x)\n",
      "<class 'list'>\n",
      "ipdb> q\n"
     ]
    },
    {
     "ename": "BdbQuit",
     "evalue": "",
     "output_type": "error",
     "traceback": [
      "\u001b[1;31m---------------------------------------------------------------------------\u001b[0m",
      "\u001b[1;31mBdbQuit\u001b[0m                                   Traceback (most recent call last)",
      "Input \u001b[1;32mIn [82]\u001b[0m, in \u001b[0;36m<cell line: 6>\u001b[1;34m()\u001b[0m\n\u001b[0;32m      3\u001b[0m z \u001b[38;5;241m=\u001b[39m \u001b[38;5;241m3\u001b[39m\n\u001b[0;32m      5\u001b[0m result \u001b[38;5;241m=\u001b[39m y \u001b[38;5;241m+\u001b[39m z\n\u001b[1;32m----> 6\u001b[0m pdb\u001b[38;5;241m.\u001b[39mset_trace()\n\u001b[0;32m      7\u001b[0m result2 \u001b[38;5;241m=\u001b[39m x \u001b[38;5;241m+\u001b[39m y\n",
      "File \u001b[1;32m~\\Anaconda3\\lib\\bdb.py:92\u001b[0m, in \u001b[0;36mBdb.trace_dispatch\u001b[1;34m(self, frame, event, arg)\u001b[0m\n\u001b[0;32m     90\u001b[0m     \u001b[38;5;28;01mreturn\u001b[39;00m \u001b[38;5;28mself\u001b[39m\u001b[38;5;241m.\u001b[39mdispatch_call(frame, arg)\n\u001b[0;32m     91\u001b[0m \u001b[38;5;28;01mif\u001b[39;00m event \u001b[38;5;241m==\u001b[39m \u001b[38;5;124m'\u001b[39m\u001b[38;5;124mreturn\u001b[39m\u001b[38;5;124m'\u001b[39m:\n\u001b[1;32m---> 92\u001b[0m     \u001b[38;5;28;01mreturn\u001b[39;00m \u001b[38;5;28;43mself\u001b[39;49m\u001b[38;5;241;43m.\u001b[39;49m\u001b[43mdispatch_return\u001b[49m\u001b[43m(\u001b[49m\u001b[43mframe\u001b[49m\u001b[43m,\u001b[49m\u001b[43m \u001b[49m\u001b[43marg\u001b[49m\u001b[43m)\u001b[49m\n\u001b[0;32m     93\u001b[0m \u001b[38;5;28;01mif\u001b[39;00m event \u001b[38;5;241m==\u001b[39m \u001b[38;5;124m'\u001b[39m\u001b[38;5;124mexception\u001b[39m\u001b[38;5;124m'\u001b[39m:\n\u001b[0;32m     94\u001b[0m     \u001b[38;5;28;01mreturn\u001b[39;00m \u001b[38;5;28mself\u001b[39m\u001b[38;5;241m.\u001b[39mdispatch_exception(frame, arg)\n",
      "File \u001b[1;32m~\\Anaconda3\\lib\\bdb.py:154\u001b[0m, in \u001b[0;36mBdb.dispatch_return\u001b[1;34m(self, frame, arg)\u001b[0m\n\u001b[0;32m    152\u001b[0m \u001b[38;5;28;01mfinally\u001b[39;00m:\n\u001b[0;32m    153\u001b[0m     \u001b[38;5;28mself\u001b[39m\u001b[38;5;241m.\u001b[39mframe_returning \u001b[38;5;241m=\u001b[39m \u001b[38;5;28;01mNone\u001b[39;00m\n\u001b[1;32m--> 154\u001b[0m \u001b[38;5;28;01mif\u001b[39;00m \u001b[38;5;28mself\u001b[39m\u001b[38;5;241m.\u001b[39mquitting: \u001b[38;5;28;01mraise\u001b[39;00m BdbQuit\n\u001b[0;32m    155\u001b[0m \u001b[38;5;66;03m# The user issued a 'next' or 'until' command.\u001b[39;00m\n\u001b[0;32m    156\u001b[0m \u001b[38;5;28;01mif\u001b[39;00m \u001b[38;5;28mself\u001b[39m\u001b[38;5;241m.\u001b[39mstopframe \u001b[38;5;129;01mis\u001b[39;00m frame \u001b[38;5;129;01mand\u001b[39;00m \u001b[38;5;28mself\u001b[39m\u001b[38;5;241m.\u001b[39mstoplineno \u001b[38;5;241m!=\u001b[39m \u001b[38;5;241m-\u001b[39m\u001b[38;5;241m1\u001b[39m:\n",
      "\u001b[1;31mBdbQuit\u001b[0m: "
     ]
    }
   ],
   "source": [
    "x = [1,2,3]\n",
    "y = 2\n",
    "z = 3\n",
    "\n",
    "result = y + z\n",
    "pdb.set_trace()\n",
    "result2 = x + y"
   ]
  },
  {
   "cell_type": "markdown",
   "id": "46294822",
   "metadata": {},
   "source": [
    "# Overview of Regular Expressions\n",
    "\n",
    "Regular Expressions (sometimes called regex for short) allows a user to search for strings using almost any sort of rule they can come up. For example, finding all capital letters in a string, or finding a phone number in a document. \n",
    "\n",
    "Regular expressions are notorious for their seemingly strange syntax. This strange syntax is a byproduct of their flexibility. Regular expressions have to be able to filter out any string pattern you can imagine, which is why they have a complex string pattern format."
   ]
  },
  {
   "cell_type": "code",
   "execution_count": 1,
   "id": "3face8e2",
   "metadata": {},
   "outputs": [],
   "source": [
    "import re"
   ]
  },
  {
   "cell_type": "markdown",
   "id": "7d15f5a6",
   "metadata": {},
   "source": [
    "# Patterns\n",
    "\n",
    "So far we've learned how to search for a basic string. What about more complex examples? Such as trying to find a telephone number in a large string of text? Or an email address?\n",
    "\n",
    "We could just use search method if we know the exact phone or email, but what if we don't know it? We may know the general format, and we can use that along with regular expressions to search the document for strings that match a particular pattern.\n",
    "\n",
    "This is where the syntax may appear strange at first, but take your time with this, often its just a matter of looking up the pattern code.\n"
   ]
  },
  {
   "cell_type": "markdown",
   "id": "4b9ae6f1",
   "metadata": {},
   "source": [
    "## Identifiers for Characters in Patterns\n",
    "\n",
    "Characters such as a digit or a single string have different codes that represent them. You can use these to build up a pattern string. Notice how these make heavy use of the backwards slash \\ . Because of this when defining a pattern string for regular expression we use the format:\n",
    "\n",
    "    r'mypattern'\n",
    "    \n",
    "placing the r in front of the string allows python to understand that the \\ in the pattern string are not meant to be escape slashes.\n",
    "\n",
    "Below you can find a table of all the possible identifiers:"
   ]
  },
  {
   "cell_type": "markdown",
   "id": "f597a1ed",
   "metadata": {},
   "source": []
  },
  {
   "cell_type": "markdown",
   "id": "e305013f",
   "metadata": {},
   "source": [
    "<table ><tr><th>Character</th><th>Description</th><th>Example Pattern Code</th><th >Exammple Match</th></tr>\n",
    "\n",
    "<tr ><td><span >\\d</span></td><td>A digit</td><td>file_\\d\\d</td><td>file_25</td></tr>\n",
    "\n",
    "<tr ><td><span >\\w</span></td><td>Alphanumeric</td><td>\\w-\\w\\w\\w</td><td>A-b_1</td></tr>\n",
    "\n",
    "\n",
    "\n",
    "<tr ><td><span >\\s</span></td><td>White space</td><td>a\\sb\\sc</td><td>a b c</td></tr>\n",
    "\n",
    "\n",
    "\n",
    "<tr ><td><span >\\D</span></td><td>A non digit</td><td>\\D\\D\\D</td><td>ABC</td></tr>\n",
    "\n",
    "<tr ><td><span >\\W</span></td><td>Non-alphanumeric</td><td>\\W\\W\\W\\W\\W</td><td>*-+=)</td></tr>\n",
    "\n",
    "<tr ><td><span >\\S</span></td><td>Non-whitespace</td><td>\\S\\S\\S\\S</td><td>Yoyo</td></tr></table>"
   ]
  },
  {
   "cell_type": "code",
   "execution_count": 2,
   "id": "f69dc598",
   "metadata": {},
   "outputs": [],
   "source": [
    "text = \"My telephone number is 408-555-1234\""
   ]
  },
  {
   "cell_type": "code",
   "execution_count": 85,
   "id": "c12ae24c",
   "metadata": {},
   "outputs": [],
   "source": [
    "phone = re.search(r'\\d\\d\\d-\\d\\d\\d-\\d\\d\\d\\d',text)"
   ]
  },
  {
   "cell_type": "code",
   "execution_count": 86,
   "id": "22854ff3",
   "metadata": {},
   "outputs": [
    {
     "data": {
      "text/plain": [
       "'408-555-1234'"
      ]
     },
     "execution_count": 86,
     "metadata": {},
     "output_type": "execute_result"
    }
   ],
   "source": [
    "phone.group()"
   ]
  },
  {
   "cell_type": "markdown",
   "id": "7d7386e0",
   "metadata": {},
   "source": [
    "Notice the repetition of \\d. That is a bit of an annoyance, especially if we are looking for very long strings of numbers. Let's explore the possible quantifiers.\n",
    "\n",
    "## Quantifiers\n",
    "\n",
    "Now that we know the special character designations, we can use them along with quantifiers to define how many we expect."
   ]
  },
  {
   "cell_type": "markdown",
   "id": "e21971b8",
   "metadata": {},
   "source": [
    "<table ><tr><th>Character</th><th>Description</th><th>Example Pattern Code</th><th >Exammple Match</th></tr>\n",
    "\n",
    "<tr ><td><span >+</span></td><td>Occurs one or more times</td><td>\tVersion \\w-\\w+</td><td>Version A-b1_1</td></tr>\n",
    "\n",
    "<tr ><td><span >{3}</span></td><td>Occurs exactly 3 times</td><td>\\D{3}</td><td>abc</td></tr>\n",
    "\n",
    "\n",
    "\n",
    "<tr ><td><span >{2,4}</span></td><td>Occurs 2 to 4 times</td><td>\\d{2,4}</td><td>123</td></tr>\n",
    "\n",
    "\n",
    "\n",
    "<tr ><td><span >{3,}</span></td><td>Occurs 3 or more</td><td>\\w{3,}</td><td>anycharacters</td></tr>\n",
    "\n",
    "<tr ><td><span >\\*</span></td><td>Occurs zero or more times</td><td>A\\*B\\*C*</td><td>AAACC</td></tr>\n",
    "\n",
    "<tr ><td><span >?</span></td><td>Once or none</td><td>plurals?</td><td>plural</td></tr></table>"
   ]
  },
  {
   "cell_type": "code",
   "execution_count": 87,
   "id": "35633d93",
   "metadata": {},
   "outputs": [
    {
     "data": {
      "text/plain": [
       "<re.Match object; span=(23, 35), match='408-555-1234'>"
      ]
     },
     "execution_count": 87,
     "metadata": {},
     "output_type": "execute_result"
    }
   ],
   "source": [
    "re.search(r'\\d{3}-\\d{3}-\\d{4}',text)"
   ]
  },
  {
   "cell_type": "markdown",
   "id": "e409ed7a",
   "metadata": {},
   "source": [
    "## Groups\n",
    "\n",
    "What if we wanted to do two tasks, find phone numbers, but also be able to quickly extract their area code (the first three digits). We can use groups for any general task that involves grouping together regular expressions (so that we can later break them down). \n",
    "\n",
    "Using the phone number example, we can separate groups of regular expressions using parenthesis:"
   ]
  },
  {
   "cell_type": "code",
   "execution_count": 3,
   "id": "2717a01d",
   "metadata": {},
   "outputs": [],
   "source": [
    "phone_pattern = re.compile(r'(\\d{3})-(\\d{3})-(\\d{4})')"
   ]
  },
  {
   "cell_type": "code",
   "execution_count": 4,
   "id": "88ffdfad",
   "metadata": {},
   "outputs": [],
   "source": [
    "results = re.search(phone_pattern,text)"
   ]
  },
  {
   "cell_type": "code",
   "execution_count": 5,
   "id": "867efb5c",
   "metadata": {},
   "outputs": [
    {
     "data": {
      "text/plain": [
       "'408-555-1234'"
      ]
     },
     "execution_count": 5,
     "metadata": {},
     "output_type": "execute_result"
    }
   ],
   "source": [
    "# The entire result\n",
    "results.group()"
   ]
  },
  {
   "cell_type": "code",
   "execution_count": 7,
   "id": "6dff5cab",
   "metadata": {},
   "outputs": [
    {
     "data": {
      "text/plain": [
       "'408'"
      ]
     },
     "execution_count": 7,
     "metadata": {},
     "output_type": "execute_result"
    }
   ],
   "source": [
    "# in groups the indexing starts at 1, not 0\n",
    "results.group(1)"
   ]
  },
  {
   "cell_type": "code",
   "execution_count": 2,
   "id": "cc76d6cb",
   "metadata": {},
   "outputs": [],
   "source": [
    "text = \"Some zaraza once, some zaraza twice, but not zara nor zara or Zara\""
   ]
  },
  {
   "cell_type": "code",
   "execution_count": 3,
   "id": "7f0baec3",
   "metadata": {},
   "outputs": [],
   "source": [
    "pattern = 'zara'"
   ]
  },
  {
   "cell_type": "code",
   "execution_count": 4,
   "id": "04a9c1e9",
   "metadata": {},
   "outputs": [],
   "source": [
    "match = re.search(pattern, text)"
   ]
  },
  {
   "cell_type": "code",
   "execution_count": 8,
   "id": "8e3e1792",
   "metadata": {
    "scrolled": true
   },
   "outputs": [
    {
     "data": {
      "text/plain": [
       "<re.Match object; span=(5, 9), match='zara'>"
      ]
     },
     "execution_count": 8,
     "metadata": {},
     "output_type": "execute_result"
    }
   ],
   "source": [
    "match"
   ]
  },
  {
   "cell_type": "code",
   "execution_count": 10,
   "id": "3d6de6a8",
   "metadata": {},
   "outputs": [
    {
     "data": {
      "text/plain": [
       "(5, 9)"
      ]
     },
     "execution_count": 10,
     "metadata": {},
     "output_type": "execute_result"
    }
   ],
   "source": [
    "match.span()"
   ]
  },
  {
   "cell_type": "code",
   "execution_count": 11,
   "id": "5a29ac0f",
   "metadata": {},
   "outputs": [
    {
     "data": {
      "text/plain": [
       "5"
      ]
     },
     "execution_count": 11,
     "metadata": {},
     "output_type": "execute_result"
    }
   ],
   "source": [
    "match.start()"
   ]
  },
  {
   "cell_type": "code",
   "execution_count": 6,
   "id": "c0fd99a2",
   "metadata": {},
   "outputs": [],
   "source": [
    "match_all = re.findall(pattern, text)"
   ]
  },
  {
   "cell_type": "code",
   "execution_count": 12,
   "id": "65716c83",
   "metadata": {},
   "outputs": [
    {
     "data": {
      "text/plain": [
       "['zara', 'zara', 'zara']"
      ]
     },
     "execution_count": 12,
     "metadata": {},
     "output_type": "execute_result"
    }
   ],
   "source": [
    "match_all"
   ]
  },
  {
   "cell_type": "code",
   "execution_count": 14,
   "id": "9447c2cf",
   "metadata": {},
   "outputs": [
    {
     "data": {
      "text/plain": [
       "3"
      ]
     },
     "execution_count": 14,
     "metadata": {},
     "output_type": "execute_result"
    }
   ],
   "source": [
    "len(match_all)"
   ]
  },
  {
   "cell_type": "code",
   "execution_count": 15,
   "id": "ea23ddd1",
   "metadata": {},
   "outputs": [
    {
     "name": "stdout",
     "output_type": "stream",
     "text": [
      "<re.Match object; span=(5, 9), match='zara'>\n",
      "<re.Match object; span=(23, 27), match='zara'>\n",
      "<re.Match object; span=(45, 49), match='zara'>\n"
     ]
    }
   ],
   "source": [
    "for match in re.finditer(pattern, text):\n",
    "    print(match)\n"
   ]
  },
  {
   "cell_type": "code",
   "execution_count": 16,
   "id": "cd9aa92b",
   "metadata": {},
   "outputs": [
    {
     "name": "stdout",
     "output_type": "stream",
     "text": [
      "(5, 9)\n",
      "(23, 27)\n",
      "(45, 49)\n"
     ]
    }
   ],
   "source": [
    "for match in re.finditer(pattern, text):\n",
    "    print(match.span())"
   ]
  },
  {
   "cell_type": "code",
   "execution_count": 17,
   "id": "2458a868",
   "metadata": {},
   "outputs": [
    {
     "name": "stdout",
     "output_type": "stream",
     "text": [
      "zara\n",
      "zara\n",
      "zara\n"
     ]
    }
   ],
   "source": [
    "for match in re.finditer(pattern, text):\n",
    "    print(match.group())"
   ]
  },
  {
   "cell_type": "markdown",
   "id": "d8a787ed",
   "metadata": {},
   "source": [
    "# Additional Regex Syntax"
   ]
  },
  {
   "cell_type": "code",
   "execution_count": 8,
   "id": "97e8427e",
   "metadata": {},
   "outputs": [
    {
     "data": {
      "text/plain": [
       "<re.Match object; span=(4, 7), match='dog'>"
      ]
     },
     "execution_count": 8,
     "metadata": {},
     "output_type": "execute_result"
    }
   ],
   "source": [
    "re.search(r'cat|dog', 'The dog is here')"
   ]
  },
  {
   "cell_type": "code",
   "execution_count": 9,
   "id": "85cddb3c",
   "metadata": {},
   "outputs": [
    {
     "data": {
      "text/plain": [
       "['at', 'at', 'at']"
      ]
     },
     "execution_count": 9,
     "metadata": {},
     "output_type": "execute_result"
    }
   ],
   "source": [
    "re.findall(r'at', 'Tha cat in the hat sat there.')"
   ]
  },
  {
   "cell_type": "code",
   "execution_count": 10,
   "id": "8eb1ef6f",
   "metadata": {},
   "outputs": [
    {
     "data": {
      "text/plain": [
       "['cat', 'hat', 'sat']"
      ]
     },
     "execution_count": 10,
     "metadata": {},
     "output_type": "execute_result"
    }
   ],
   "source": [
    "re.findall(r'.at', 'Tha cat in the hat sat there.')"
   ]
  },
  {
   "cell_type": "code",
   "execution_count": 12,
   "id": "bcc98f4d",
   "metadata": {},
   "outputs": [
    {
     "data": {
      "text/plain": [
       "[' cat ', ' hat ', 'plat.']"
      ]
     },
     "execution_count": 12,
     "metadata": {},
     "output_type": "execute_result"
    }
   ],
   "source": [
    "re.findall(r'..at.', 'Tha cat in the hat sat splat.')"
   ]
  },
  {
   "cell_type": "code",
   "execution_count": 13,
   "id": "57ed57d9",
   "metadata": {},
   "outputs": [
    {
     "data": {
      "text/plain": [
       "['1']"
      ]
     },
     "execution_count": 13,
     "metadata": {},
     "output_type": "execute_result"
    }
   ],
   "source": [
    "re.findall(r'^\\d', '1 is a number')"
   ]
  },
  {
   "cell_type": "code",
   "execution_count": 14,
   "id": "ee2e5079",
   "metadata": {},
   "outputs": [
    {
     "data": {
      "text/plain": [
       "[]"
      ]
     },
     "execution_count": 14,
     "metadata": {},
     "output_type": "execute_result"
    }
   ],
   "source": [
    "re.findall(r'^\\d', 'The 2 is a number')"
   ]
  },
  {
   "cell_type": "code",
   "execution_count": 15,
   "id": "7178c3f5",
   "metadata": {},
   "outputs": [
    {
     "data": {
      "text/plain": [
       "[]"
      ]
     },
     "execution_count": 15,
     "metadata": {},
     "output_type": "execute_result"
    }
   ],
   "source": [
    "re.findall(r'\\d$', 'The 2 is a number')"
   ]
  },
  {
   "cell_type": "code",
   "execution_count": 16,
   "id": "7752d21d",
   "metadata": {},
   "outputs": [
    {
     "data": {
      "text/plain": [
       "['2']"
      ]
     },
     "execution_count": 16,
     "metadata": {},
     "output_type": "execute_result"
    }
   ],
   "source": [
    "re.findall(r'\\d$', 'There is a number 2')"
   ]
  },
  {
   "cell_type": "code",
   "execution_count": 17,
   "id": "44b00cb5",
   "metadata": {},
   "outputs": [],
   "source": [
    "phrase = 'There are 3 numbers 34 inside 5 this sentence'"
   ]
  },
  {
   "cell_type": "code",
   "execution_count": 18,
   "id": "68754bd4",
   "metadata": {},
   "outputs": [],
   "source": [
    "pattern = r'[^\\d]'"
   ]
  },
  {
   "cell_type": "code",
   "execution_count": 19,
   "id": "c9d08906",
   "metadata": {},
   "outputs": [
    {
     "data": {
      "text/plain": [
       "['T',\n",
       " 'h',\n",
       " 'e',\n",
       " 'r',\n",
       " 'e',\n",
       " ' ',\n",
       " 'a',\n",
       " 'r',\n",
       " 'e',\n",
       " ' ',\n",
       " ' ',\n",
       " 'n',\n",
       " 'u',\n",
       " 'm',\n",
       " 'b',\n",
       " 'e',\n",
       " 'r',\n",
       " 's',\n",
       " ' ',\n",
       " ' ',\n",
       " 'i',\n",
       " 'n',\n",
       " 's',\n",
       " 'i',\n",
       " 'd',\n",
       " 'e',\n",
       " ' ',\n",
       " ' ',\n",
       " 't',\n",
       " 'h',\n",
       " 'i',\n",
       " 's',\n",
       " ' ',\n",
       " 's',\n",
       " 'e',\n",
       " 'n',\n",
       " 't',\n",
       " 'e',\n",
       " 'n',\n",
       " 'c',\n",
       " 'e']"
      ]
     },
     "execution_count": 19,
     "metadata": {},
     "output_type": "execute_result"
    }
   ],
   "source": [
    "re.findall(pattern, phrase)"
   ]
  },
  {
   "cell_type": "code",
   "execution_count": 20,
   "id": "ed624fb0",
   "metadata": {},
   "outputs": [],
   "source": [
    "pattern = r'[^\\d]+'"
   ]
  },
  {
   "cell_type": "code",
   "execution_count": 21,
   "id": "6a62954f",
   "metadata": {},
   "outputs": [
    {
     "data": {
      "text/plain": [
       "['There are ', ' numbers ', ' inside ', ' this sentence']"
      ]
     },
     "execution_count": 21,
     "metadata": {},
     "output_type": "execute_result"
    }
   ],
   "source": [
    "re.findall(pattern, phrase)"
   ]
  },
  {
   "cell_type": "code",
   "execution_count": 22,
   "id": "80b713a3",
   "metadata": {},
   "outputs": [],
   "source": [
    "test_phrase = 'This is a string! But it has punctuation. How can we remove it?'"
   ]
  },
  {
   "cell_type": "code",
   "execution_count": 24,
   "id": "de599c6d",
   "metadata": {},
   "outputs": [
    {
     "data": {
      "text/plain": [
       "['This is a string', ' But it has punctuation', ' How can we remove it']"
      ]
     },
     "execution_count": 24,
     "metadata": {},
     "output_type": "execute_result"
    }
   ],
   "source": [
    "re.findall(r'[^!.?]+', test_phrase)"
   ]
  },
  {
   "cell_type": "code",
   "execution_count": 25,
   "id": "3d086a06",
   "metadata": {},
   "outputs": [],
   "source": [
    "clean = re.findall(r'[^!.? ]+', test_phrase)"
   ]
  },
  {
   "cell_type": "code",
   "execution_count": 26,
   "id": "ee936ff6",
   "metadata": {},
   "outputs": [
    {
     "data": {
      "text/plain": [
       "['This',\n",
       " 'is',\n",
       " 'a',\n",
       " 'string',\n",
       " 'But',\n",
       " 'it',\n",
       " 'has',\n",
       " 'punctuation',\n",
       " 'How',\n",
       " 'can',\n",
       " 'we',\n",
       " 'remove',\n",
       " 'it']"
      ]
     },
     "execution_count": 26,
     "metadata": {},
     "output_type": "execute_result"
    }
   ],
   "source": [
    "clean"
   ]
  },
  {
   "cell_type": "code",
   "execution_count": 27,
   "id": "a1acc751",
   "metadata": {},
   "outputs": [
    {
     "data": {
      "text/plain": [
       "'This is a string But it has punctuation How can we remove it'"
      ]
     },
     "execution_count": 27,
     "metadata": {},
     "output_type": "execute_result"
    }
   ],
   "source": [
    "\" \".join(clean)"
   ]
  },
  {
   "cell_type": "code",
   "execution_count": null,
   "id": "46eac1d8",
   "metadata": {},
   "outputs": [],
   "source": []
  },
  {
   "cell_type": "code",
   "execution_count": 28,
   "id": "dd48b6c8",
   "metadata": {},
   "outputs": [],
   "source": [
    "text = 'Only find the hypen-words in this sentences. But you do not know how long-ish they are'"
   ]
  },
  {
   "cell_type": "code",
   "execution_count": 30,
   "id": "fb03774c",
   "metadata": {},
   "outputs": [],
   "source": [
    "pattern = r'[\\w]+-[\\w]+'"
   ]
  },
  {
   "cell_type": "code",
   "execution_count": 32,
   "id": "ecdaf2ee",
   "metadata": {},
   "outputs": [
    {
     "data": {
      "text/plain": [
       "['hypen-words', 'long-ish']"
      ]
     },
     "execution_count": 32,
     "metadata": {},
     "output_type": "execute_result"
    }
   ],
   "source": [
    "re.findall(pattern,  text)"
   ]
  },
  {
   "cell_type": "code",
   "execution_count": 33,
   "id": "bafc775a",
   "metadata": {},
   "outputs": [],
   "source": [
    "texttwo = 'A caterpillar takes a catnap next to a catfish'"
   ]
  },
  {
   "cell_type": "code",
   "execution_count": 35,
   "id": "81ff09a2",
   "metadata": {},
   "outputs": [
    {
     "data": {
      "text/plain": [
       "['nap', 'fish']"
      ]
     },
     "execution_count": 35,
     "metadata": {},
     "output_type": "execute_result"
    }
   ],
   "source": [
    "re.findall(r'cat(fish|nap|claw)', texttwo)"
   ]
  },
  {
   "cell_type": "code",
   "execution_count": null,
   "id": "f59c6afa",
   "metadata": {},
   "outputs": [],
   "source": []
  },
  {
   "cell_type": "markdown",
   "id": "6a48e4b9",
   "metadata": {},
   "source": [
    "# Timing your code\n",
    "Sometimes it's important to know how long your code is taking to run, or at least know if a particular line of code is slowing down your entire project. Python has a built-in timing module to do this. "
   ]
  },
  {
   "cell_type": "code",
   "execution_count": 36,
   "id": "8d7d7f36",
   "metadata": {},
   "outputs": [],
   "source": [
    "def func_one(n):\n",
    "    '''\n",
    "    Given a number n, returns a list of string integers\n",
    "    ['0','1','2',...'n]\n",
    "    '''\n",
    "    return [str(num) for num in range(n)]"
   ]
  },
  {
   "cell_type": "code",
   "execution_count": 37,
   "id": "f0804d75",
   "metadata": {},
   "outputs": [
    {
     "data": {
      "text/plain": [
       "['0', '1', '2', '3', '4', '5', '6', '7', '8', '9']"
      ]
     },
     "execution_count": 37,
     "metadata": {},
     "output_type": "execute_result"
    }
   ],
   "source": [
    "func_one(10)"
   ]
  },
  {
   "cell_type": "code",
   "execution_count": 38,
   "id": "9f182794",
   "metadata": {},
   "outputs": [],
   "source": [
    "def func_two(n):\n",
    "    '''\n",
    "    Given a number n, returns a list of string integers\n",
    "    ['0','1','2',...'n]\n",
    "    '''\n",
    "    return list(map(str,range(n)))"
   ]
  },
  {
   "cell_type": "code",
   "execution_count": 39,
   "id": "029e4c4f",
   "metadata": {},
   "outputs": [
    {
     "data": {
      "text/plain": [
       "['0', '1', '2', '3', '4', '5', '6', '7', '8', '9']"
      ]
     },
     "execution_count": 39,
     "metadata": {},
     "output_type": "execute_result"
    }
   ],
   "source": [
    "func_two(10)"
   ]
  },
  {
   "cell_type": "code",
   "execution_count": 40,
   "id": "53190020",
   "metadata": {},
   "outputs": [],
   "source": [
    "import time"
   ]
  },
  {
   "cell_type": "code",
   "execution_count": 42,
   "id": "92cb212e",
   "metadata": {},
   "outputs": [
    {
     "name": "stdout",
     "output_type": "stream",
     "text": [
      "1.8551404476165771\n"
     ]
    }
   ],
   "source": [
    "start_time = time.time()\n",
    "\n",
    "result = func_one(10000000)\n",
    "\n",
    "end_time = time.time()\n",
    "\n",
    "elapsed_time = end_time - start_time\n",
    "\n",
    "print(elapsed_time)"
   ]
  },
  {
   "cell_type": "code",
   "execution_count": 43,
   "id": "dc067749",
   "metadata": {
    "scrolled": true
   },
   "outputs": [
    {
     "name": "stdout",
     "output_type": "stream",
     "text": [
      "1.7294485569000244\n"
     ]
    }
   ],
   "source": [
    "start_time = time.time()\n",
    "\n",
    "result = func_two(10000000)\n",
    "\n",
    "end_time = time.time()\n",
    "\n",
    "elapsed_time = end_time - start_time\n",
    "\n",
    "print(elapsed_time)"
   ]
  },
  {
   "cell_type": "markdown",
   "id": "a8bc0377",
   "metadata": {},
   "source": [
    "### Timeit Module\n",
    "\n",
    "What if we have two blocks of code that are quite fast, the difference from the time.time() method may not be enough to tell which is fater. In this case, we can use the timeit module.\n",
    "\n",
    "The timeit module takes in two strings, a statement (stmt) and a setup. It then runs the setup code and runs the stmt code some n number of times and reports back average length of time it took."
   ]
  },
  {
   "cell_type": "code",
   "execution_count": 49,
   "id": "5988cf51",
   "metadata": {},
   "outputs": [],
   "source": [
    "import timeit"
   ]
  },
  {
   "cell_type": "code",
   "execution_count": 50,
   "id": "48a6d200",
   "metadata": {},
   "outputs": [],
   "source": [
    "stmt = '''\n",
    "func_one(100)\n",
    "'''"
   ]
  },
  {
   "cell_type": "code",
   "execution_count": 51,
   "id": "1c7e29d3",
   "metadata": {},
   "outputs": [],
   "source": [
    "setup = '''\n",
    "def func_one(n):\n",
    "    return [str(num) for num in range(n)]\n",
    "'''"
   ]
  },
  {
   "cell_type": "code",
   "execution_count": 52,
   "id": "0dadcaab",
   "metadata": {},
   "outputs": [
    {
     "data": {
      "text/plain": [
       "1.3939393999999083"
      ]
     },
     "execution_count": 52,
     "metadata": {},
     "output_type": "execute_result"
    }
   ],
   "source": [
    "timeit.timeit(stmt, setup, number=100000)"
   ]
  },
  {
   "cell_type": "code",
   "execution_count": 53,
   "id": "89d9a137",
   "metadata": {},
   "outputs": [],
   "source": [
    "stmt2 = '''\n",
    "func_two(100)\n",
    "'''"
   ]
  },
  {
   "cell_type": "code",
   "execution_count": 54,
   "id": "4ad3adfa",
   "metadata": {},
   "outputs": [],
   "source": [
    "setup2 = '''\n",
    "def func_two(n):\n",
    "    return list(map(str,range(n)))\n",
    "'''"
   ]
  },
  {
   "cell_type": "code",
   "execution_count": 55,
   "id": "66b5c1cc",
   "metadata": {},
   "outputs": [
    {
     "data": {
      "text/plain": [
       "1.1920141999999032"
      ]
     },
     "execution_count": 55,
     "metadata": {},
     "output_type": "execute_result"
    }
   ],
   "source": [
    "timeit.timeit(stmt2, setup2, number=100000)"
   ]
  },
  {
   "cell_type": "code",
   "execution_count": 56,
   "id": "89b20f65",
   "metadata": {},
   "outputs": [
    {
     "data": {
      "text/plain": [
       "13.933575200000632"
      ]
     },
     "execution_count": 56,
     "metadata": {},
     "output_type": "execute_result"
    }
   ],
   "source": [
    "timeit.timeit(stmt, setup, number=1000000)"
   ]
  },
  {
   "cell_type": "code",
   "execution_count": 57,
   "id": "c89f9de7",
   "metadata": {},
   "outputs": [
    {
     "data": {
      "text/plain": [
       "11.578834999999344"
      ]
     },
     "execution_count": 57,
     "metadata": {},
     "output_type": "execute_result"
    }
   ],
   "source": [
    "timeit.timeit(stmt2, setup2, number=1000000)"
   ]
  },
  {
   "cell_type": "markdown",
   "id": "66cece22",
   "metadata": {},
   "source": [
    "## Timing you code with Jupyter \"magic\" method\n",
    "\n",
    "**NOTE: This method is ONLY available in Jupyter and the magic command needs to be at the top of the cell with nothing above it (not even commented code)**"
   ]
  },
  {
   "cell_type": "code",
   "execution_count": 58,
   "id": "ceffb178",
   "metadata": {},
   "outputs": [
    {
     "name": "stdout",
     "output_type": "stream",
     "text": [
      "13.6 µs ± 240 ns per loop (mean ± std. dev. of 7 runs, 100,000 loops each)\n"
     ]
    }
   ],
   "source": [
    "%%timeit\n",
    "func_one(100)"
   ]
  },
  {
   "cell_type": "code",
   "execution_count": 59,
   "id": "4132e66a",
   "metadata": {},
   "outputs": [
    {
     "name": "stdout",
     "output_type": "stream",
     "text": [
      "11.7 µs ± 299 ns per loop (mean ± std. dev. of 7 runs, 100,000 loops each)\n"
     ]
    }
   ],
   "source": [
    "%%timeit\n",
    "func_two(100)"
   ]
  },
  {
   "cell_type": "markdown",
   "id": "7c119814",
   "metadata": {},
   "source": [
    "# Unzipping and Zipping Files\n",
    "\n",
    "As you are probably aware, files can be compressed to a zip format. Often people use special programs on their computer to unzip these files, luckily for us, Python can do the same task with just a few simple lines of code."
   ]
  },
  {
   "cell_type": "markdown",
   "id": "3489521f",
   "metadata": {},
   "source": [
    "## Zipping Files\n",
    "\n",
    "The [zipfile library](https://docs.python.org/3/library/zipfile.html) is built in to Python, we can use it to compress folders or files. To compress all files in a folder, just use the os.walk() method to iterate this process for all the files in a directory."
   ]
  },
  {
   "cell_type": "code",
   "execution_count": 60,
   "id": "dc8c3121",
   "metadata": {},
   "outputs": [
    {
     "data": {
      "text/plain": [
       "'C:\\\\Users\\\\gonzalo.rey\\\\Desktop\\\\Python\\\\Python-Practice-Rep'"
      ]
     },
     "execution_count": 60,
     "metadata": {},
     "output_type": "execute_result"
    }
   ],
   "source": [
    "pwd"
   ]
  },
  {
   "cell_type": "code",
   "execution_count": 61,
   "id": "745e05d2",
   "metadata": {},
   "outputs": [],
   "source": [
    "# slashes may need to change for MacOS or Linux\n",
    "f = open(\"new_file.txt\",'w+')\n",
    "f.write(\"Here is some text\")\n",
    "f.close()"
   ]
  },
  {
   "cell_type": "code",
   "execution_count": 62,
   "id": "8161e168",
   "metadata": {},
   "outputs": [],
   "source": [
    "# slashes may need to change for MacOS or Linux\n",
    "f = open(\"new_file2.txt\",'w+')\n",
    "f.write(\"Here is some text\")\n",
    "f.close()"
   ]
  },
  {
   "cell_type": "code",
   "execution_count": 63,
   "id": "dd87c40f",
   "metadata": {},
   "outputs": [],
   "source": [
    "import zipfile"
   ]
  },
  {
   "cell_type": "markdown",
   "id": "670cfec9",
   "metadata": {},
   "source": [
    " Create Zip file first , then write to it (the write step compresses the files.)"
   ]
  },
  {
   "cell_type": "code",
   "execution_count": 64,
   "id": "df8d8964",
   "metadata": {},
   "outputs": [],
   "source": [
    "comp_file = zipfile.ZipFile('comp_file.zip', 'w')"
   ]
  },
  {
   "cell_type": "code",
   "execution_count": 65,
   "id": "0af66a33",
   "metadata": {},
   "outputs": [],
   "source": [
    "comp_file.write('new_file.txt', compress_type=zipfile.ZIP_DEFLATED)"
   ]
  },
  {
   "cell_type": "code",
   "execution_count": 66,
   "id": "bfd32a6e",
   "metadata": {},
   "outputs": [],
   "source": [
    "comp_file.write('new_file2.txt', compress_type=zipfile.ZIP_DEFLATED)"
   ]
  },
  {
   "cell_type": "code",
   "execution_count": 67,
   "id": "d2a8df8d",
   "metadata": {},
   "outputs": [],
   "source": [
    "comp_file.close()"
   ]
  },
  {
   "cell_type": "code",
   "execution_count": 69,
   "id": "1c5a36e5",
   "metadata": {},
   "outputs": [],
   "source": [
    "zip_obj = zipfile.ZipFile('comp_file.zip','r')"
   ]
  },
  {
   "cell_type": "code",
   "execution_count": 71,
   "id": "056bd65d",
   "metadata": {},
   "outputs": [],
   "source": [
    "zip_obj.extractall('extracted_content_folder')"
   ]
  },
  {
   "cell_type": "markdown",
   "id": "0052148f",
   "metadata": {},
   "source": [
    "# Using shutil library\n",
    "\n",
    "Often you don't want to extract or archive individual files from a .zip, but instead archive everything at once. The shutil library that is built in to python has easy to use commands for this:"
   ]
  },
  {
   "cell_type": "code",
   "execution_count": 72,
   "id": "f52fedec",
   "metadata": {},
   "outputs": [],
   "source": [
    "import shutil"
   ]
  },
  {
   "cell_type": "markdown",
   "id": "ee7682ad",
   "metadata": {},
   "source": [
    "The shutil library can accept a format parameter, `format` is the archive format: one of \"zip\", \"tar\", \"gztar\", \"bztar\",\n",
    "or \"xztar\"."
   ]
  },
  {
   "cell_type": "code",
   "execution_count": 73,
   "id": "c6ceeeb3",
   "metadata": {},
   "outputs": [],
   "source": [
    "dir_to_zip = 'C:\\\\Users\\\\gonzalo.rey\\\\Desktop\\\\Python\\\\Python-Practice-Rep\\\\extracted_content_folder'"
   ]
  },
  {
   "cell_type": "code",
   "execution_count": 74,
   "id": "65468eff",
   "metadata": {},
   "outputs": [],
   "source": [
    "output_filename = 'example'"
   ]
  },
  {
   "cell_type": "code",
   "execution_count": 75,
   "id": "7cc7fd69",
   "metadata": {},
   "outputs": [
    {
     "data": {
      "text/plain": [
       "'C:\\\\Users\\\\gonzalo.rey\\\\Desktop\\\\Python\\\\Python-Practice-Rep\\\\example.zip'"
      ]
     },
     "execution_count": 75,
     "metadata": {},
     "output_type": "execute_result"
    }
   ],
   "source": [
    "shutil.make_archive(output_filename, 'zip', dir_to_zip )"
   ]
  },
  {
   "cell_type": "code",
   "execution_count": 76,
   "id": "eab5dc09",
   "metadata": {},
   "outputs": [],
   "source": [
    "shutil.unpack_archive('example.zip', 'final_unzip', 'zip')"
   ]
  },
  {
   "cell_type": "markdown",
   "id": "aeabb017",
   "metadata": {},
   "source": [
    "# Web Scraping"
   ]
  },
  {
   "cell_type": "markdown",
   "id": "bede35dc",
   "metadata": {},
   "source": [
    "### We can use the libraries: `requests`, `lxml` y `bs4` that need to be installed first (by pip or conda install)"
   ]
  },
  {
   "cell_type": "code",
   "execution_count": 4,
   "id": "633fc210",
   "metadata": {},
   "outputs": [],
   "source": [
    "import requests\n",
    "import lxml\n",
    "import bs4"
   ]
  },
  {
   "cell_type": "code",
   "execution_count": 2,
   "id": "973de766",
   "metadata": {},
   "outputs": [],
   "source": [
    "result = requests.get(\"http://www.example.com\")"
   ]
  },
  {
   "cell_type": "code",
   "execution_count": 3,
   "id": "217da565",
   "metadata": {},
   "outputs": [
    {
     "data": {
      "text/plain": [
       "requests.models.Response"
      ]
     },
     "execution_count": 3,
     "metadata": {},
     "output_type": "execute_result"
    }
   ],
   "source": [
    "type(result)"
   ]
  },
  {
   "cell_type": "code",
   "execution_count": 4,
   "id": "d43b4fde",
   "metadata": {},
   "outputs": [
    {
     "data": {
      "text/plain": [
       "'<!doctype html>\\n<html>\\n<head>\\n    <title>Example Domain</title>\\n\\n    <meta charset=\"utf-8\" />\\n    <meta http-equiv=\"Content-type\" content=\"text/html; charset=utf-8\" />\\n    <meta name=\"viewport\" content=\"width=device-width, initial-scale=1\" />\\n    <style type=\"text/css\">\\n    body {\\n        background-color: #f0f0f2;\\n        margin: 0;\\n        padding: 0;\\n        font-family: -apple-system, system-ui, BlinkMacSystemFont, \"Segoe UI\", \"Open Sans\", \"Helvetica Neue\", Helvetica, Arial, sans-serif;\\n        \\n    }\\n    div {\\n        width: 600px;\\n        margin: 5em auto;\\n        padding: 2em;\\n        background-color: #fdfdff;\\n        border-radius: 0.5em;\\n        box-shadow: 2px 3px 7px 2px rgba(0,0,0,0.02);\\n    }\\n    a:link, a:visited {\\n        color: #38488f;\\n        text-decoration: none;\\n    }\\n    @media (max-width: 700px) {\\n        div {\\n            margin: 0 auto;\\n            width: auto;\\n        }\\n    }\\n    </style>    \\n</head>\\n\\n<body>\\n<div>\\n    <h1>Example Domain</h1>\\n    <p>This domain is for use in illustrative examples in documents. You may use this\\n    domain in literature without prior coordination or asking for permission.</p>\\n    <p><a href=\"https://www.iana.org/domains/example\">More information...</a></p>\\n</div>\\n</body>\\n</html>\\n'"
      ]
     },
     "execution_count": 4,
     "metadata": {},
     "output_type": "execute_result"
    }
   ],
   "source": [
    "result.text"
   ]
  },
  {
   "cell_type": "code",
   "execution_count": 5,
   "id": "e41601f2",
   "metadata": {},
   "outputs": [],
   "source": [
    "soup = bs4.BeautifulSoup(result.text)"
   ]
  },
  {
   "cell_type": "code",
   "execution_count": 6,
   "id": "01821e46",
   "metadata": {},
   "outputs": [
    {
     "data": {
      "text/plain": [
       "<!DOCTYPE html>\n",
       "<html>\n",
       "<head>\n",
       "<title>Example Domain</title>\n",
       "<meta charset=\"utf-8\"/>\n",
       "<meta content=\"text/html; charset=utf-8\" http-equiv=\"Content-type\"/>\n",
       "<meta content=\"width=device-width, initial-scale=1\" name=\"viewport\"/>\n",
       "<style type=\"text/css\">\n",
       "    body {\n",
       "        background-color: #f0f0f2;\n",
       "        margin: 0;\n",
       "        padding: 0;\n",
       "        font-family: -apple-system, system-ui, BlinkMacSystemFont, \"Segoe UI\", \"Open Sans\", \"Helvetica Neue\", Helvetica, Arial, sans-serif;\n",
       "        \n",
       "    }\n",
       "    div {\n",
       "        width: 600px;\n",
       "        margin: 5em auto;\n",
       "        padding: 2em;\n",
       "        background-color: #fdfdff;\n",
       "        border-radius: 0.5em;\n",
       "        box-shadow: 2px 3px 7px 2px rgba(0,0,0,0.02);\n",
       "    }\n",
       "    a:link, a:visited {\n",
       "        color: #38488f;\n",
       "        text-decoration: none;\n",
       "    }\n",
       "    @media (max-width: 700px) {\n",
       "        div {\n",
       "            margin: 0 auto;\n",
       "            width: auto;\n",
       "        }\n",
       "    }\n",
       "    </style>\n",
       "</head>\n",
       "<body>\n",
       "<div>\n",
       "<h1>Example Domain</h1>\n",
       "<p>This domain is for use in illustrative examples in documents. You may use this\n",
       "    domain in literature without prior coordination or asking for permission.</p>\n",
       "<p><a href=\"https://www.iana.org/domains/example\">More information...</a></p>\n",
       "</div>\n",
       "</body>\n",
       "</html>"
      ]
     },
     "execution_count": 6,
     "metadata": {},
     "output_type": "execute_result"
    }
   ],
   "source": [
    "soup"
   ]
  },
  {
   "cell_type": "code",
   "execution_count": 7,
   "id": "9bc44b6e",
   "metadata": {},
   "outputs": [
    {
     "data": {
      "text/plain": [
       "[<p>This domain is for use in illustrative examples in documents. You may use this\n",
       "     domain in literature without prior coordination or asking for permission.</p>,\n",
       " <p><a href=\"https://www.iana.org/domains/example\">More information...</a></p>]"
      ]
     },
     "execution_count": 7,
     "metadata": {},
     "output_type": "execute_result"
    }
   ],
   "source": [
    "soup.select('p')"
   ]
  },
  {
   "cell_type": "code",
   "execution_count": 8,
   "id": "829a82e7",
   "metadata": {},
   "outputs": [],
   "source": [
    "site_p = soup.select('p')"
   ]
  },
  {
   "cell_type": "code",
   "execution_count": 10,
   "id": "e9e7981b",
   "metadata": {},
   "outputs": [
    {
     "data": {
      "text/plain": [
       "'This domain is for use in illustrative examples in documents. You may use this\\n    domain in literature without prior coordination or asking for permission.'"
      ]
     },
     "execution_count": 10,
     "metadata": {},
     "output_type": "execute_result"
    }
   ],
   "source": [
    "site_p[0].getText()"
   ]
  },
  {
   "cell_type": "code",
   "execution_count": 11,
   "id": "3f087540",
   "metadata": {},
   "outputs": [
    {
     "data": {
      "text/plain": [
       "bs4.element.Tag"
      ]
     },
     "execution_count": 11,
     "metadata": {},
     "output_type": "execute_result"
    }
   ],
   "source": [
    "type(site_p[0])"
   ]
  },
  {
   "cell_type": "code",
   "execution_count": 14,
   "id": "9f94da62",
   "metadata": {},
   "outputs": [
    {
     "name": "stdout",
     "output_type": "stream",
     "text": [
      "This domain is for use in illustrative examples in documents. You may use this\n",
      "    domain in literature without prior coordination or asking for permission.\n",
      "More information...\n"
     ]
    }
   ],
   "source": [
    "for i in range(len(site_p)):\n",
    "    print(site_p[i].getText())"
   ]
  },
  {
   "cell_type": "code",
   "execution_count": 15,
   "id": "2714e3ad",
   "metadata": {},
   "outputs": [],
   "source": [
    "res = requests.get('https://en.wikipedia.org/wiki/Grace_Hopper')"
   ]
  },
  {
   "cell_type": "code",
   "execution_count": 16,
   "id": "56278e8c",
   "metadata": {},
   "outputs": [],
   "source": [
    "soup = bs4.BeautifulSoup(res.text, 'lxml')"
   ]
  },
  {
   "cell_type": "code",
   "execution_count": 21,
   "id": "4bad1244",
   "metadata": {},
   "outputs": [
    {
     "data": {
      "text/plain": [
       "[<span class=\"toctext\">Early life and education</span>,\n",
       " <span class=\"toctext\">Career</span>,\n",
       " <span class=\"toctext\">World War II</span>,\n",
       " <span class=\"toctext\">UNIVAC</span>,\n",
       " <span class=\"toctext\">COBOL</span>,\n",
       " <span class=\"toctext\">Standards</span>,\n",
       " <span class=\"toctext\">Retirement</span>,\n",
       " <span class=\"toctext\">Post-retirement</span>,\n",
       " <span class=\"toctext\">Anecdotes</span>,\n",
       " <span class=\"toctext\">Death</span>,\n",
       " <span class=\"toctext\">Dates of rank</span>,\n",
       " <span class=\"toctext\">Awards and honors</span>,\n",
       " <span class=\"toctext\">Military awards</span>,\n",
       " <span class=\"toctext\">Other awards</span>,\n",
       " <span class=\"toctext\">Legacy</span>,\n",
       " <span class=\"toctext\">Places</span>,\n",
       " <span class=\"toctext\">Programs</span>,\n",
       " <span class=\"toctext\">In popular culture</span>,\n",
       " <span class=\"toctext\">Grace Hopper Celebration of Women in Computing</span>,\n",
       " <span class=\"toctext\">See also</span>,\n",
       " <span class=\"toctext\">Notes</span>,\n",
       " <span class=\"toctext\">Obituary notices</span>,\n",
       " <span class=\"toctext\">References</span>,\n",
       " <span class=\"toctext\">Further reading</span>,\n",
       " <span class=\"toctext\">External links</span>]"
      ]
     },
     "execution_count": 21,
     "metadata": {},
     "output_type": "execute_result"
    }
   ],
   "source": [
    "soup.select('.toctext')"
   ]
  },
  {
   "cell_type": "code",
   "execution_count": 26,
   "id": "cdf8a41a",
   "metadata": {},
   "outputs": [],
   "source": [
    "first_item = soup.select('.toctext')[0]"
   ]
  },
  {
   "cell_type": "code",
   "execution_count": 27,
   "id": "14703b0a",
   "metadata": {},
   "outputs": [
    {
     "data": {
      "text/plain": [
       "'Early life and education'"
      ]
     },
     "execution_count": 27,
     "metadata": {},
     "output_type": "execute_result"
    }
   ],
   "source": [
    "first_item.text"
   ]
  },
  {
   "cell_type": "code",
   "execution_count": 24,
   "id": "e480e1a3",
   "metadata": {},
   "outputs": [
    {
     "name": "stdout",
     "output_type": "stream",
     "text": [
      "Early life and education\n",
      "Career\n",
      "World War II\n",
      "UNIVAC\n",
      "COBOL\n",
      "Standards\n",
      "Retirement\n",
      "Post-retirement\n",
      "Anecdotes\n",
      "Death\n",
      "Dates of rank\n",
      "Awards and honors\n",
      "Military awards\n",
      "Other awards\n",
      "Legacy\n",
      "Places\n",
      "Programs\n",
      "In popular culture\n",
      "Grace Hopper Celebration of Women in Computing\n",
      "See also\n",
      "Notes\n",
      "Obituary notices\n",
      "References\n",
      "Further reading\n",
      "External links\n"
     ]
    }
   ],
   "source": [
    "for item in soup.select('.toctext'):\n",
    "    print(item.text)"
   ]
  },
  {
   "cell_type": "code",
   "execution_count": 28,
   "id": "2d175268",
   "metadata": {},
   "outputs": [],
   "source": [
    "res = requests.get('https://en.wikipedia.org/wiki/Deep_Blue_(chess_computer)')"
   ]
  },
  {
   "cell_type": "code",
   "execution_count": 29,
   "id": "3cc47bd2",
   "metadata": {},
   "outputs": [],
   "source": [
    "soup = bs4.BeautifulSoup(res.text, 'lxml')"
   ]
  },
  {
   "cell_type": "code",
   "execution_count": 30,
   "id": "13b7e352",
   "metadata": {},
   "outputs": [
    {
     "data": {
      "text/plain": [
       "[<img alt=\"This is a good article. Click here for more information.\" data-file-height=\"185\" data-file-width=\"180\" decoding=\"async\" height=\"20\" src=\"//upload.wikimedia.org/wikipedia/en/thumb/9/94/Symbol_support_vote.svg/19px-Symbol_support_vote.svg.png\" srcset=\"//upload.wikimedia.org/wikipedia/en/thumb/9/94/Symbol_support_vote.svg/29px-Symbol_support_vote.svg.png 1.5x, //upload.wikimedia.org/wikipedia/en/thumb/9/94/Symbol_support_vote.svg/39px-Symbol_support_vote.svg.png 2x\" width=\"19\"/>,\n",
       " <img alt=\"Deep Blue.jpg\" data-file-height=\"601\" data-file-width=\"400\" decoding=\"async\" height=\"331\" src=\"//upload.wikimedia.org/wikipedia/commons/thumb/b/be/Deep_Blue.jpg/220px-Deep_Blue.jpg\" srcset=\"//upload.wikimedia.org/wikipedia/commons/thumb/b/be/Deep_Blue.jpg/330px-Deep_Blue.jpg 1.5x, //upload.wikimedia.org/wikipedia/commons/b/be/Deep_Blue.jpg 2x\" width=\"220\"/>,\n",
       " <img alt=\"Chess Programming.svg\" data-file-height=\"64\" data-file-width=\"64\" decoding=\"async\" height=\"150\" src=\"//upload.wikimedia.org/wikipedia/commons/thumb/5/52/Chess_Programming.svg/150px-Chess_Programming.svg.png\" srcset=\"//upload.wikimedia.org/wikipedia/commons/thumb/5/52/Chess_Programming.svg/225px-Chess_Programming.svg.png 1.5x, //upload.wikimedia.org/wikipedia/commons/thumb/5/52/Chess_Programming.svg/300px-Chess_Programming.svg.png 2x\" width=\"150\"/>,\n",
       " <img alt=\"\" class=\"thumbimage\" data-file-height=\"600\" data-file-width=\"800\" decoding=\"async\" height=\"165\" src=\"//upload.wikimedia.org/wikipedia/commons/thumb/6/6f/Kasparov_Magath_1985_Hamburg-2.png/220px-Kasparov_Magath_1985_Hamburg-2.png\" srcset=\"//upload.wikimedia.org/wikipedia/commons/thumb/6/6f/Kasparov_Magath_1985_Hamburg-2.png/330px-Kasparov_Magath_1985_Hamburg-2.png 1.5x, //upload.wikimedia.org/wikipedia/commons/thumb/6/6f/Kasparov_Magath_1985_Hamburg-2.png/440px-Kasparov_Magath_1985_Hamburg-2.png 2x\" width=\"220\"/>,\n",
       " <img alt=\"\" class=\"thumbimage\" data-file-height=\"2756\" data-file-width=\"2067\" decoding=\"async\" height=\"293\" src=\"//upload.wikimedia.org/wikipedia/commons/thumb/8/83/One_of_Deep_Blue%27s_processors_%282586060990%29.jpg/220px-One_of_Deep_Blue%27s_processors_%282586060990%29.jpg\" srcset=\"//upload.wikimedia.org/wikipedia/commons/thumb/8/83/One_of_Deep_Blue%27s_processors_%282586060990%29.jpg/330px-One_of_Deep_Blue%27s_processors_%282586060990%29.jpg 1.5x, //upload.wikimedia.org/wikipedia/commons/thumb/8/83/One_of_Deep_Blue%27s_processors_%282586060990%29.jpg/440px-One_of_Deep_Blue%27s_processors_%282586060990%29.jpg 2x\" width=\"220\"/>,\n",
       " <img alt=\"icon\" class=\"noviewer\" data-file-height=\"128\" data-file-width=\"128\" decoding=\"async\" height=\"28\" src=\"//upload.wikimedia.org/wikipedia/commons/thumb/5/5e/Nuvola_apps_package_games_strategy.png/28px-Nuvola_apps_package_games_strategy.png\" srcset=\"//upload.wikimedia.org/wikipedia/commons/thumb/5/5e/Nuvola_apps_package_games_strategy.png/42px-Nuvola_apps_package_games_strategy.png 1.5x, //upload.wikimedia.org/wikipedia/commons/thumb/5/5e/Nuvola_apps_package_games_strategy.png/56px-Nuvola_apps_package_games_strategy.png 2x\" width=\"28\"/>,\n",
       " <img alt=\"IBM logo.svg\" data-file-height=\"401\" data-file-width=\"1000\" decoding=\"async\" height=\"48\" src=\"//upload.wikimedia.org/wikipedia/commons/thumb/5/51/IBM_logo.svg/120px-IBM_logo.svg.png\" srcset=\"//upload.wikimedia.org/wikipedia/commons/thumb/5/51/IBM_logo.svg/180px-IBM_logo.svg.png 1.5x, //upload.wikimedia.org/wikipedia/commons/thumb/5/51/IBM_logo.svg/240px-IBM_logo.svg.png 2x\" width=\"120\"/>,\n",
       " <img alt=\"Edit this at Wikidata\" class=\"noprint\" data-file-height=\"20\" data-file-width=\"20\" decoding=\"async\" height=\"10\" src=\"//upload.wikimedia.org/wikipedia/en/thumb/8/8a/OOjs_UI_icon_edit-ltr-progressive.svg/10px-OOjs_UI_icon_edit-ltr-progressive.svg.png\" srcset=\"//upload.wikimedia.org/wikipedia/en/thumb/8/8a/OOjs_UI_icon_edit-ltr-progressive.svg/15px-OOjs_UI_icon_edit-ltr-progressive.svg.png 1.5x, //upload.wikimedia.org/wikipedia/en/thumb/8/8a/OOjs_UI_icon_edit-ltr-progressive.svg/20px-OOjs_UI_icon_edit-ltr-progressive.svg.png 2x\" style=\"vertical-align: text-top\" width=\"10\"/>,\n",
       " <img alt=\"\" height=\"1\" src=\"//en.wikipedia.org/wiki/Special:CentralAutoLogin/start?type=1x1\" style=\"border: none; position: absolute;\" title=\"\" width=\"1\"/>,\n",
       " <img alt=\"Wikimedia Foundation\" height=\"31\" loading=\"lazy\" src=\"/static/images/footer/wikimedia-button.png\" srcset=\"/static/images/footer/wikimedia-button-1.5x.png 1.5x, /static/images/footer/wikimedia-button-2x.png 2x\" width=\"88\"/>,\n",
       " <img alt=\"Powered by MediaWiki\" height=\"31\" loading=\"lazy\" src=\"/static/images/footer/poweredby_mediawiki_88x31.png\" srcset=\"/static/images/footer/poweredby_mediawiki_132x47.png 1.5x, /static/images/footer/poweredby_mediawiki_176x62.png 2x\" width=\"88\"/>]"
      ]
     },
     "execution_count": 30,
     "metadata": {},
     "output_type": "execute_result"
    }
   ],
   "source": [
    "soup.select('img')"
   ]
  },
  {
   "cell_type": "code",
   "execution_count": 31,
   "id": "bccce9af",
   "metadata": {},
   "outputs": [
    {
     "data": {
      "text/plain": [
       "<img alt=\"This is a good article. Click here for more information.\" data-file-height=\"185\" data-file-width=\"180\" decoding=\"async\" height=\"20\" src=\"//upload.wikimedia.org/wikipedia/en/thumb/9/94/Symbol_support_vote.svg/19px-Symbol_support_vote.svg.png\" srcset=\"//upload.wikimedia.org/wikipedia/en/thumb/9/94/Symbol_support_vote.svg/29px-Symbol_support_vote.svg.png 1.5x, //upload.wikimedia.org/wikipedia/en/thumb/9/94/Symbol_support_vote.svg/39px-Symbol_support_vote.svg.png 2x\" width=\"19\"/>"
      ]
     },
     "execution_count": 31,
     "metadata": {},
     "output_type": "execute_result"
    }
   ],
   "source": [
    "soup.select('img')[0]"
   ]
  },
  {
   "cell_type": "code",
   "execution_count": 33,
   "id": "8f72eacd",
   "metadata": {},
   "outputs": [
    {
     "data": {
      "text/plain": [
       "[<img alt=\"\" class=\"thumbimage\" data-file-height=\"600\" data-file-width=\"800\" decoding=\"async\" height=\"165\" src=\"//upload.wikimedia.org/wikipedia/commons/thumb/6/6f/Kasparov_Magath_1985_Hamburg-2.png/220px-Kasparov_Magath_1985_Hamburg-2.png\" srcset=\"//upload.wikimedia.org/wikipedia/commons/thumb/6/6f/Kasparov_Magath_1985_Hamburg-2.png/330px-Kasparov_Magath_1985_Hamburg-2.png 1.5x, //upload.wikimedia.org/wikipedia/commons/thumb/6/6f/Kasparov_Magath_1985_Hamburg-2.png/440px-Kasparov_Magath_1985_Hamburg-2.png 2x\" width=\"220\"/>,\n",
       " <img alt=\"\" class=\"thumbimage\" data-file-height=\"2756\" data-file-width=\"2067\" decoding=\"async\" height=\"293\" src=\"//upload.wikimedia.org/wikipedia/commons/thumb/8/83/One_of_Deep_Blue%27s_processors_%282586060990%29.jpg/220px-One_of_Deep_Blue%27s_processors_%282586060990%29.jpg\" srcset=\"//upload.wikimedia.org/wikipedia/commons/thumb/8/83/One_of_Deep_Blue%27s_processors_%282586060990%29.jpg/330px-One_of_Deep_Blue%27s_processors_%282586060990%29.jpg 1.5x, //upload.wikimedia.org/wikipedia/commons/thumb/8/83/One_of_Deep_Blue%27s_processors_%282586060990%29.jpg/440px-One_of_Deep_Blue%27s_processors_%282586060990%29.jpg 2x\" width=\"220\"/>]"
      ]
     },
     "execution_count": 33,
     "metadata": {},
     "output_type": "execute_result"
    }
   ],
   "source": [
    "soup.select('.thumbimage')"
   ]
  },
  {
   "cell_type": "code",
   "execution_count": 43,
   "id": "beee66b8",
   "metadata": {},
   "outputs": [],
   "source": [
    "computer = soup.select('.image')[0]"
   ]
  },
  {
   "cell_type": "code",
   "execution_count": 44,
   "id": "06e147a1",
   "metadata": {},
   "outputs": [
    {
     "data": {
      "text/plain": [
       "<a class=\"image\" href=\"/wiki/File:Deep_Blue.jpg\"><img alt=\"Deep Blue.jpg\" data-file-height=\"601\" data-file-width=\"400\" decoding=\"async\" height=\"331\" src=\"//upload.wikimedia.org/wikipedia/commons/thumb/b/be/Deep_Blue.jpg/220px-Deep_Blue.jpg\" srcset=\"//upload.wikimedia.org/wikipedia/commons/thumb/b/be/Deep_Blue.jpg/330px-Deep_Blue.jpg 1.5x, //upload.wikimedia.org/wikipedia/commons/b/be/Deep_Blue.jpg 2x\" width=\"220\"/></a>"
      ]
     },
     "execution_count": 44,
     "metadata": {},
     "output_type": "execute_result"
    }
   ],
   "source": [
    "computer"
   ]
  },
  {
   "cell_type": "code",
   "execution_count": 45,
   "id": "6f01de4d",
   "metadata": {},
   "outputs": [
    {
     "data": {
      "text/plain": [
       "['image']"
      ]
     },
     "execution_count": 45,
     "metadata": {},
     "output_type": "execute_result"
    }
   ],
   "source": [
    "computer['class']"
   ]
  },
  {
   "cell_type": "code",
   "execution_count": 47,
   "id": "c7f3ce20",
   "metadata": {
    "scrolled": true
   },
   "outputs": [
    {
     "ename": "KeyError",
     "evalue": "'src'",
     "output_type": "error",
     "traceback": [
      "\u001b[1;31m---------------------------------------------------------------------------\u001b[0m",
      "\u001b[1;31mKeyError\u001b[0m                                  Traceback (most recent call last)",
      "Input \u001b[1;32mIn [47]\u001b[0m, in \u001b[0;36m<cell line: 1>\u001b[1;34m()\u001b[0m\n\u001b[1;32m----> 1\u001b[0m \u001b[43mcomputer\u001b[49m\u001b[43m[\u001b[49m\u001b[38;5;124;43m'\u001b[39;49m\u001b[38;5;124;43msrc\u001b[39;49m\u001b[38;5;124;43m'\u001b[39;49m\u001b[43m]\u001b[49m\n",
      "File \u001b[1;32m~\\Anaconda3\\lib\\site-packages\\bs4\\element.py:1519\u001b[0m, in \u001b[0;36mTag.__getitem__\u001b[1;34m(self, key)\u001b[0m\n\u001b[0;32m   1516\u001b[0m \u001b[38;5;28;01mdef\u001b[39;00m \u001b[38;5;21m__getitem__\u001b[39m(\u001b[38;5;28mself\u001b[39m, key):\n\u001b[0;32m   1517\u001b[0m     \u001b[38;5;124;03m\"\"\"tag[key] returns the value of the 'key' attribute for the Tag,\u001b[39;00m\n\u001b[0;32m   1518\u001b[0m \u001b[38;5;124;03m    and throws an exception if it's not there.\"\"\"\u001b[39;00m\n\u001b[1;32m-> 1519\u001b[0m     \u001b[38;5;28;01mreturn\u001b[39;00m \u001b[38;5;28;43mself\u001b[39;49m\u001b[38;5;241;43m.\u001b[39;49m\u001b[43mattrs\u001b[49m\u001b[43m[\u001b[49m\u001b[43mkey\u001b[49m\u001b[43m]\u001b[49m\n",
      "\u001b[1;31mKeyError\u001b[0m: 'src'"
     ]
    }
   ],
   "source": [
    "computer['src']"
   ]
  },
  {
   "cell_type": "markdown",
   "id": "6f09a42e",
   "metadata": {},
   "source": [
    "<img\n",
    "     src=\"//upload.wikimedia.org/wikipedia/commons/thumb/b/be/Deep_Blue.jpg/220px-Deep_Blue.jpg\">\n"
   ]
  },
  {
   "cell_type": "code",
   "execution_count": 48,
   "id": "34812b90",
   "metadata": {},
   "outputs": [],
   "source": [
    "image_link = requests.get('https://upload.wikimedia.org/wikipedia/commons/thumb/b/be/Deep_Blue.jpg/220px-Deep_Blue.jpg')"
   ]
  },
  {
   "cell_type": "code",
   "execution_count": 49,
   "id": "017f7186",
   "metadata": {},
   "outputs": [
    {
     "data": {
      "text/plain": [
       "b'\\xff\\xd8\\xff\\xe0\\x00\\x10JFIF\\x00\\x01\\x01\\x01\\x00H\\x00H\\x00\\x00\\xff\\xfe\\x00CFile source: http://commons.wikimedia.org/wiki/File:Deep_Blue.jpg\\xff\\xe2\\x02@ICC_PROFILE\\x00\\x01\\x01\\x00\\x00\\x020ADBE\\x02\\x10\\x00\\x00mntrRGB XYZ \\x07\\xcf\\x00\\x06\\x00\\x03\\x00\\x00\\x00\\x00\\x00\\x00acspAPPL\\x00\\x00\\x00\\x00none\\x00\\x00\\x00\\x00\\x00\\x00\\x00\\x00\\x00\\x00\\x00\\x00\\x00\\x00\\x00\\x00\\x00\\x00\\xf6\\xd6\\x00\\x01\\x00\\x00\\x00\\x00\\xd3-ADBE\\x00\\x00\\x00\\x00\\x00\\x00\\x00\\x00\\x00\\x00\\x00\\x00\\x00\\x00\\x00\\x00\\x00\\x00\\x00\\x00\\x00\\x00\\x00\\x00\\x00\\x00\\x00\\x00\\x00\\x00\\x00\\x00\\x00\\x00\\x00\\x00\\x00\\x00\\x00\\x00\\x00\\x00\\x00\\x00\\x00\\x00\\x00\\ncprt\\x00\\x00\\x00\\xfc\\x00\\x00\\x002desc\\x00\\x00\\x010\\x00\\x00\\x00kwtpt\\x00\\x00\\x01\\x9c\\x00\\x00\\x00\\x14bkpt\\x00\\x00\\x01\\xb0\\x00\\x00\\x00\\x14rTRC\\x00\\x00\\x01\\xc4\\x00\\x00\\x00\\x0egTRC\\x00\\x00\\x01\\xd4\\x00\\x00\\x00\\x0ebTRC\\x00\\x00\\x01\\xe4\\x00\\x00\\x00\\x0erXYZ\\x00\\x00\\x01\\xf4\\x00\\x00\\x00\\x14gXYZ\\x00\\x00\\x02\\x08\\x00\\x00\\x00\\x14bXYZ\\x00\\x00\\x02\\x1c\\x00\\x00\\x00\\x14text\\x00\\x00\\x00\\x00Copyright 1999 Adobe Systems Incorporated\\x00\\x00\\x00desc\\x00\\x00\\x00\\x00\\x00\\x00\\x00\\x11Adobe RGB (1998)\\x00\\x00\\x00\\x00\\x00\\x00\\x00\\x00\\x00\\x00\\x00\\x00\\x00\\x00\\x00\\x00\\x00\\x00\\x00\\x00\\x00\\x00\\x00\\x00\\x00\\x00\\x00\\x00\\x00\\x00\\x00\\x00\\x00\\x00\\x00\\x00\\x00\\x00\\x00\\x00\\x00\\x00\\x00\\x00\\x00\\x00\\x00\\x00\\x00\\x00\\x00\\x00\\x00\\x00\\x00\\x00\\x00\\x00\\x00\\x00\\x00\\x00\\x00\\x00\\x00\\x00\\x00\\x00\\x00\\x00\\x00\\x00\\x00\\x00\\x00\\x00\\x00\\x00\\x00\\x00XYZ \\x00\\x00\\x00\\x00\\x00\\x00\\xf3Q\\x00\\x01\\x00\\x00\\x00\\x01\\x16\\xccXYZ \\x00\\x00\\x00\\x00\\x00\\x00\\x00\\x00\\x00\\x00\\x00\\x00\\x00\\x00\\x00\\x00curv\\x00\\x00\\x00\\x00\\x00\\x00\\x00\\x01\\x023\\x00\\x00curv\\x00\\x00\\x00\\x00\\x00\\x00\\x00\\x01\\x023\\x00\\x00curv\\x00\\x00\\x00\\x00\\x00\\x00\\x00\\x01\\x023\\x00\\x00XYZ \\x00\\x00\\x00\\x00\\x00\\x00\\x9c\\x18\\x00\\x00O\\xa5\\x00\\x00\\x04\\xfcXYZ \\x00\\x00\\x00\\x00\\x00\\x004\\x8d\\x00\\x00\\xa0,\\x00\\x00\\x0f\\x95XYZ \\x00\\x00\\x00\\x00\\x00\\x00&1\\x00\\x00\\x10/\\x00\\x00\\xbe\\x9c\\xff\\xdb\\x00C\\x00\\x06\\x04\\x05\\x06\\x05\\x04\\x06\\x06\\x05\\x06\\x07\\x07\\x06\\x08\\n\\x10\\n\\n\\t\\t\\n\\x14\\x0e\\x0f\\x0c\\x10\\x17\\x14\\x18\\x18\\x17\\x14\\x16\\x16\\x1a\\x1d%\\x1f\\x1a\\x1b#\\x1c\\x16\\x16 , #&\\')*)\\x19\\x1f-0-(0%()(\\xff\\xdb\\x00C\\x01\\x07\\x07\\x07\\n\\x08\\n\\x13\\n\\n\\x13(\\x1a\\x16\\x1a((((((((((((((((((((((((((((((((((((((((((((((((((\\xff\\xc0\\x00\\x11\\x08\\x01K\\x00\\xdc\\x03\\x01\\x11\\x00\\x02\\x11\\x01\\x03\\x11\\x01\\xff\\xc4\\x00\\x1d\\x00\\x00\\x01\\x04\\x03\\x01\\x01\\x00\\x00\\x00\\x00\\x00\\x00\\x00\\x00\\x00\\x00\\x03\\x01\\x02\\x04\\x07\\x00\\x05\\x08\\x06\\t\\xff\\xc4\\x00[\\x10\\x00\\x01\\x03\\x02\\x03\\x04\\x05\\x07\\x07\\x06\\t\\x07\\t\\t\\x00\\x00\\x01\\x02\\x03\\x11\\x00\\x04\\x05!1\\x06\\x12AQ\\x07\\x13\"aq\\x142\\x81\\x91\\xa1\\xb1\\xc1#$BRbr\\xd1\\x08\\x1534s\\xf0\\x17CS\\x82\\xa2\\xa3\\xb2\\xb3\\xe1\\x16%Dc\\x92\\x94\\xc2&56Te\\x83\\x84\\x93\\xc37Utu\\xa4\\xb4\\xd2\\xd3\\xf1\\xff\\xc4\\x00\\x1a\\x01\\x01\\x01\\x01\\x01\\x01\\x01\\x01\\x00\\x00\\x00\\x00\\x00\\x00\\x00\\x00\\x00\\x01\\x00\\x02\\x03\\x04\\x05\\x06\\xff\\xc4\\x004\\x11\\x01\\x01\\x00\\x02\\x01\\x03\\x02\\x04\\x03\\x07\\x04\\x02\\x03\\x00\\x00\\x00\\x00\\x01\\x02\\x11!\\x03\\x121AQ\\x04\\x13aq\\x05\"\\x8123B\\xa1\\xb1\\xc1\\xf0\\x14#\\x91\\xd1\\x15\\xe1Rr\\xd2\\xff\\xda\\x00\\x0c\\x03\\x01\\x00\\x02\\x11\\x03\\x11\\x00?\\x00\\xf5\\x8c\\xf4\\x85io\\xb4\\xb85\\xde%h\\xb6\\x9bi\\xc5\\xa5kd\\xef\\xc6\\xf2\\x08\\x989\\xf1\\xafe\\xfc\\';\\x96\\xbayn\\xb8O\\xc4\\xf0\\x98\\xde\\xf9\\xa5\\xc9\\x83\\xe2V\\x98\\xbe\\x1a\\xc5\\xf6\\x1e\\xef[j\\xf0%\\x0b\\xdd)\\x980r=\\xe2\\xbc\\x1d^\\x96]\\x1c\\xefO9\\xab\\x1e\\xce\\x9fS\\x1e\\xae3<|T\\xe1\\\\\\xda-H\\xb5\\x06\\x10\\x08 \\x80A\\xc8\\x83\\xc6\\x90\\xd2+\\x0c\\xba\\xc2\\x96]\\xc0\\x96\\x95[\\x04\\x99\\xc3\\x1dT5\\xff\\x00t\\xa8\\x96\\x8f\\xd9\\xcd\\x1d\\xc9\\xd6\\x96\\xad\\xdf\\xed\\x7f\\xcf\\xfd\\xa7\\xd8b\\xb6\\xd7\\x8f\\x1bq\\xbe\\xc5\\xe2S\\xbc\\xbbW\\xc6\\xeb\\xa9\\x1c\\xe3E\\x0f\\xb4\\x92S\\xdfS6X\\x9dPa\\xd0\\xd4\\x9e;\\xc9Q\\x88m\\x05\\xdbN)\\xf6J]}m\\xba\\xc3\\x9b\\x8bB\\xa5\\x81 \\xfa\\xf22\\x0e\\x84\\x1a}[\\xfe\\x19\\xfe{\\xb6\\xff\\x00\\x99\\xae\\x1f\\xbe\\xb2\\x7f\\x11\\xc4Up\\x9b2T\\xda\\x1bd5\\xd6(\\xc7i\\xc3&H\\x81\\xe6\\xee\\x8dr\\xe53\\xb9\\xae\\x12\\xd0\\x9f\\x9d\\xdd~\\xd4g\\xfc\\xc4\\xd3\\x19\\xa9\\x0b\\x1f$\\xaf\\no\\x8a\\xa7\\x95\\x03\\xf9G\\xff\\x00\\xd2\\\\\\x07\\x9f\\x90;\\xfd\\xe2k\\x13\\xf6cW\\xd5\\xa1\\xe8M\\xb5/\\xa4\\xcc#sT\\xa1\\xf5\\x12\\x0cG\\xc9(O~\\xba~\\x15\\xd7\\xa7<\\xfd\\xbf\\xbb\\x9e~\\x8e\\xa0\\nZ\\n\\xc2\\xdf\\xc9\\x11\\x99H\\xce\\xb5\\xaffvpu\\xc0\\xde\\xfa\\xd2\\x00\\x90\\x00\"\\x0ef\\'\\xba\\x8ds\\xa8\\xb6\\x81\\x88\\xed\\x16\\x19\\x86\\xdf\\xdb\\xd8\\xdf^2\\xdd\\xeb\\xf9\\xb6\\xc2ek#\\x9e\\xe8\\x04\\x81\\xder\\xa6a\\x95\\x9b\\x91\\x9b\\xd4\\xc6][\\xcbh\\x97\\x01\\x00\\x80`\\xf7Vt\\xd6\\xce\\x0b\\x06\\xa3\\xb2\\xd4\\x99ReI\\x95&T\\x99ReI\\xc4Ww\\xca\\xb9\\xbf\\xb7\\x0e\\xc2\\x82VF\\xee\\x99\\x9c\\x81\\xf4W\\xea{5\\xd6\\xc2\\xcb\\xea\\xfc\\xfc\\xcf\\xfd\\xbc\\xbb\\xa6\\xf7\\x1d5\\xd0\\xda\\xf7\\xba<\\xc2\\xf3\\x9d\\xd2\\xea\\x7f\\xac5\\xf0?\\x17\\x9a\\xf8\\xcc\\xff\\x00O\\xe8\\xfb\\x7f\\x86\\xdd\\xfc6\\x1f\\xe7\\xad{q_9\\xec-H\\xa2\\xa0Z\\x91iH\\xd7\\xf6\\x16\\xb7\\xed\\xa17l\\xa5e\\xb5o6\\xb9)[j\\xfa\\xc8P\\xcd\\'\\xbc\\x1aF\\xec\\xf0\\x818\\x9e\\x14\\xc8\\xde\\xeb1{t\\x9c\\xd4\\x02Sr\\x94\\xf3\\x81\\tr;\\xb7Or\\x8d&\\xea\\xfd\\x1b\\x0b\\x1b\\xeblB\\xdc\\xbdd\\xf2^l\\x12\\x85n\\xea\\x95\\rR\\xa0sJ\\x87\\x10`\\x8a\\x19\\xb2\\xcf-\\x06\\x1d\\xff\\x00J\\xee\\x80\\xe0_=\\xd9\\xad\\x8a\\xbdk\\x7f\\xc3?\\xcfw\\xa9\\xa9\\xcd\\t\\x1f\\xad\\xdd~\\xd0\\x7fa5\\xa9U\\x19\\xdf\\xd0\\xaf\\xc2\\xabxS\\xca\\x81\\xfc\\xa4\\x07\\xfc\\xa6\\xc0\\x0f\\x0f!{\\xfb\\xc4\\xd6\\'\\x88\\xd5\\xf5iz\\x0f\\xdf\\x1d%a\\x9dXI\\x96\\x9f\\x991\\x03\\xab\\xd7\\xd7\\x15\\xdb\\xa5\\xe3/\\xb7\\xf7\\x8ey\\xfa:>\\xf2\\xea\\xd3\\t\\x17x\\x8e+z\\x96m\\xd0\\x94\\x82\\xb7\\x96\\x12\\x84e\\xa2G3=\\xe4\\xe49WM\\\\\\xa4\\x98\\xc7+f\\x1b\\xcb*\\xd2\\xb3\\x8a\\xe2;J\\x8b\\x84\\xd8[\\xdc\\xe1xJ\\xd1\\xb8\\xd6 \\xe2Bn\\x1cYRaM\\xb6\\xa0BS\\x1b\\xd9\\xa8Nc!Z\\x98\\xcc<\\xf3X\\xee\\xcb9\\xed?\\x9bi\\x80`\\xb6\\x18K>P\\xd27\\xae\\xdci\\xb0\\xfd\\xe3\\xca\\xdeu\\xe2\\x94\\x84\\x82\\xb5\\x9c\\xc9\\x81Y\\xcb+x\\xf4k\\x1cf3\\x84\\xc5]\\xa9\\xc5n\\xda \\xa8\\xfdr2\\xf5Vu\\xee~\\xc5E\\xb8+\\xdeyJu\\xcf\\x1d?~\\xea\\x8e\\x92\\xd0\\x83\\x94\\xf6@\\xe0(jA(,\\xa92\\xa4\\xca\\x91\\n\\x80\\xd6\\x8bQ7\\x95\\xc19w\\x9a7S\\x83\\x9e\\\\^\\xb5\\x1c\\x1d\\x1e\\xfa\\xfdm\\xfd\\xf67\\xea\\xfc\\xe6<\\xf4\\xec\\xfa:\\x9b\\xa0\\xd77\\xfa>\\xb5\\x1fV\\xe1\\xe4\\xff\\x00N\\xbe\\x17\\xe3s_\\x19\\x97\\xda\\x7fG\\xda\\xfc*\\xef\\xe1\\xb1\\xfd\\x7f\\xadX\"\\xbeS\\xe8\\x94T\\x0bR-!\\xa8\\xdaM\\xa6\\xc16f\\xd9\\xb7\\xf1\\xfcR\\xd6\\xc1\\xb7\\t\\r\\xf5\\xab\\xed.5\\xddH\\xcdQ\\x96\\x83\\x8d[\\x1fg\\x84\\xb8\\xe9\\xdfb\\xdaQ\\x08s\\x14x\\x0e(\\xb2P\\x07\\xfd\\xa8\\xaa}\\x92\"\\xff\\x00(\\x1d\\x90NI\\xb3\\xc7W\\xe1l\\x81\\xefX\\xa7\\xf4\\x1c\\xb4\\x98\\xa7N[\\'qt\\x8b\\xcbL/h\\xed\\xef\\x90#\\xcaYm\\x84\\xa9i\\xfa\\xab\\x05d-=\\xca\\x19p \\xe7N\\xef\\xb1\\x9cy\\xf0\\xd7\\xa3\\xa7\\x8c)\\x8ci\\xdb\\xd6\\xb0\\x1cIhYp\\x84\\xa9\\xd6\\x92\\xa8Ph\\xe7\\x99\\xd1M\\xab\\xd0EZ\\xbeV\\xf8\\xd2j\\xff\\x00)\\x0bO\\xe2\\xf6V\\xf4\\xfd\\xfb\\xc6\\xd3\\xee\\x06\\xad2\\x80\\xe7\\xe5\\x1e\\x86M\\xc3\\xc3d\\x96\\xa0\\xa5\\x05A\\xc4@ @\\x1fS\\xba\\xadP}\\xd7\\xe5 \\xdb\\xd6hs\\r\\xd9gU\\xbc!^Uz\\x13\\x07\\xbbq&F]\\xd4\\xea\\xde\\x17>U\\xee\\xdf\\xf4\\x98\\xee\\xd9\\xe2\\x16WWX3V\\x8a\\xb4il\\xa5-\\xdd)aAJ\\x06L\\xa4F\\x94Ln\\x9a\\xee@\\xd9=\\xb9\\xba\\xd9\\xac~\\xdf\\x16\\xb0\\xb0ao\\xb2\\x16\\x02\\x1eu[\\xaa\\n\\x10A\\x8fA\\x9e\\xea\\xe9\\x8c\\xedc+\\xbf\\r\\xd2\\xba^\\xc7\\x1e\\xc6\\x86)\\x88a\\xd8f%t\\x83,\\x0b\\xb0\\xe1n\\xdb\\xf6m\\x85\\x00<s<\\xc9\\xae\\x93;\\xe2p\\xe5\\xf2\\xf9\\xdf\\xabr\\xe7\\xe5\\t\\xb5\\xae&\\x0e\\x1d\\xb3\\xe9H \\xfe\\x85\\xd3\\xa6\\x7f\\xcaVw\\xa3e\\xf1\\xb4Wzu\\xdb\\x17H\\x05\\xac\\x11 d\\x94\\xf9\\x1a\\x88O\\xadt\\xd11\\xbe\\xe9\\xb8wO\\x1b\\\\\\xdb\\x8b\\x0f\\xda`o6\\xa4\\xe4\\x84\\xdb\\xb8\\xdc\\x18\\xd6B\\xcc\\xd1x:\\xbe\\xee\\x85\\xe8\\xdbh\\x97\\xb5\\x9b\\x19\\x87\\xe3N\\xda\"\\xcd\\xcb\\x9e\\xb0)\\x948\\\\\\x00\\xa1\\xc5 \\x90\\xa2\\x01\\xcfvt\\xcah\\xb3G\\x1f\\xab\\xd3P\\xd3*L\\xa90\\x9a6\\x89\\xa8\\xd7.\\xea<\\xa2\\x80\\x06\\x94\\xc9\"fT\\xa7\\xcf\\xbb\\xcb\\x83\\xe5\\xad\\xe7\\xfch\\xf7\\xd7\\xeb3\\xfd\\xec\\xfb\\xbf7\\xd3\\xe7\\xa7\\xfa:W\\xa0\\xfd\\xa7\\xc3lv\\x1d\\xd6\\xef\\xd7sn\\x19\\xbcv\\\\]\\xa3\\xbd\\\\\\x18>xIO\\xb6\\xbe\\x1f\\xe3\\xb6_\\x8b\\xdf\\xd2>\\xdf\\xe1\\x18\\xdf\\xf4\\xd3\\xf5Y\\x03j\\xf0\\x00\\x90\\xa5cV\\x08\\x04ov\\xdd\\t1\\xe9\\xaf\\x8f\\xb8\\xfa]\\xb9{%\\xb1\\x8d\\xe17\\x04\\x0b|W\\x0ft\\xeb\\x08\\xb9A>\\xfaw=\\xc5\\x96y\\x89b\\xee\\xd8\\xe9snr\\x9f\\xd2\\xa7\\xf1\\xa9\\x9d\\x9e.X$\\x80\\xfb$\\x8e\\x1db\\x7f\\x1aF\\xdc\\xf3\\xf9U]0\\xed\\xe6\\xc9\\x9bw\\x99t\\x86\\xef\\x12\\xae\\xadaDJ\\x99\\xe5\\xe0}T\\xce|%$\\x86\\xd6\\xfb\\x8d\\xb6\\xd8\\x97\\x1cRP\\x90H\\x02I\\x00\\t9\\x0c\\xcf\\x1a\\xd0\\xafI\\xfc\\x1fmO^\\x86N\\x0eR\\xea\\xde6\\xe1&\\xe5\\x9c\\x9c\\xfa\\xa7\\xb7\\x91\\x91\\x1d\\xe4\\x81\\xa9\\x15\\xae\\xd4\\xd1b\\xb8M\\xf6\\x13\\xe4j\\xc4\\x18\\x0c\\x1b\\xc6<\\xa1\\x94\\xef\\x82\\xa2\\x89\\x89RFi3\\xc0\\xd5f\\x85k\\x94 \\x8c\\xaa\\x9f@h0u\\xce\\xafD\\x05\\xef\\xea\\xae\\xea\\t\\x13F\\xb8Z&\\x19\\x9d\\x80\\x93\\xfe9\\x9a\\xbdH\\xaa\\xc8\\x9a\\xd4\\xac\\xd2\\x03\\x07X\\xf4\\xd3\\xbfP\\xdaY`X\\x9d\\xf5\\x8f\\x96\\xd9\\xda)\\xfb}\\xe5#y\\x0b\\x13)\\xf3\\xbb:\\xe5#\\x86S4\\xa4\\x91\\xb2x\\xf4\\xad?\\x9b^\\x1b\\x84\\x85I\\x19F\\xbcyI\\xf0\\x93L\\x95\\x01w\\x82b\\x16Xsw\\xd7-\\xb6\\xdb\\x0e\\x90\\x11.\\r\\xe5f\\x06C\\x8cH\\x06&3\\x98\\x83\\x15\\x9a\\x08\\xac\\x18X\\xd4e\\xf0\\xa2\\xad;\\x0f\\xa0\\x01\\x1d\\x12\\xe0]\\xe6\\xe0\\xff\\x00\\xf5\\x0eQ\\x90\\xc5aVv\\xd3*\\xe52\\x94\\xca\\x93\\x08\\x04A\\x19T\\x8dPN\\xe1\\x07$\\xc7\\x03\\x11F\\xbd\\x11\\x81\\xd4Gd\\xa9@e!%^\\xda\\x93\\x84\\xb6\\xf5\\xeb5\\xe3A\\x16XN\\x1f\\x87\\xbbn\\xb2\\x97\\xd5\\x87\\\\\\xad\\xe6.\\x15!A\\xc6\\xe7\\xcdLp\\x19g_\\xa2\\xe9L\\xe7\\xe6\\xcb+y\\xdf3V}\\xfe\\xaf\\x91\\xd7\\xb8\\\\\\xac\\xc6I\\xf6\\xf1V\\xa7D[Jl\\xb0\\xbb\\x8b[}\\xad\\xd9\\xec=\\xc7nT\\xe2mqf\\x16\\xda\\x8c\\x84\\xc1J\\xc3\\x89\\n\\x071\\x1c\\x08\\xef\\xaf\\x9d\\xf8\\xceS\\xa9\\xd7\\x99\\xcb\\xc6\\xbf\\xbb\\xdd\\xf8T\\x9d>\\x8ff^v\\xb7\\xec\\xd8\\xda\\xfb\\x9br\\xed\\xbe1\\xb37\\xcd\\xaaJ\\x1cn\\xd9\\xd03\\xd3\\xcdq@\\xc7\\xa2k\\xe4M\\xdf\\x0f\\xa5\\xdd\\x8f\\xd4\\x978V\\xd4\\x10\\x15p\\xe6\\xcc]\\x1e-\\xbbb\\xf2\\'\\xf9\\xdb\\xca\\x8fQ\\xab\\xeefS\\xd3\\x7f\\xe7\\xea\\x8e\\xce\\x07\\x8d\\x8d\\xe0vkc\\xd0\\x93\\xa1\\x0f,\\x8fH\\xea*\\xd1\\xef\\xfa\\x8e0LSwu[9\\xb2\\x9b\\xdb\\xa4\\x05%\\xd5@<$\\x16f<\\rZ\\x1d\\xff\\x00Z\\xa5\\x7f(\\xec>\\xfa\\xc0\\xec\\xaf\\x97\\xdb`\\xf6\\xfb\\xc2\\xe9-\\xa7\\riH\\x02\\x0bD\\x85\\x13\\xaf\\x0808\\xd6\\xf1\\x9c9\\xe5w\\xea\\xa9\\xa1$\\r\\xf6\\xfa\\xd6\\xc1IR$\\xa4,e\"Fbt\\x91L\\x9e\\xcc\\xed\\xee\\xdf\\xe9\\x1d\\xb4\\xa9j\\xb7\\xd9\\x9bf\\x9bw\\x12V(\\xb4\\xaf\\x10qD:H2\\x08H\\x82\\nRG\\x0e\\x10k{\\xe1\\x9e^Ci\\xf6\\x82\\xe7in\\xac\\xee\\xb1&ZM\\xfb,y;\\xaf\\xb6\\xa5|\\xb8\\n*IRNI)\\xdeP\\xcbY\\xa2\\xf3\\xca\\x9cV\\xa0\\t\\x04\\xc11\\x993Qf\\xe8\\xde15O\\x02\\xa3\\xdf\\x00-\\x1d\\x19\\x0e\\xce\\xa6\\xa8\\xbdM\\xc3\\xa3\\xc8\\x06\\\\t\\xf4\\x9a\\xa4\\xe5T\\x92\\x01\\x1a\\n\\xa0\\xacJ7\\xd6\\x12\\x00\\x04\\xe94\\xfah\\x0e\\xce%\\x7fol\\x96mon\\x19`,\\xb8\\x946\\xad\\xd0\\x95\\xeb\\xbc9\\x1e\\xf1\\x9f\\xac\\xd6\\xa5\\x16\\x11x\\x96&TC\\x98\\x8d\\xf4\\xa4\\x00\\x12\\xa7\\xd5\\x90\\xf0\\xf0\\'\\xd6y\\xd5r\\xa3\\xb6\\x06]}\\xd4\\xa1\\x0f>\\xe3\\xa8A*B\\\\Y (\\x80\\t\\x13\\xc4\\x80$\\xf1\\x815n\\xeb\\x93\\'\\xb2M\\x99\\x1dz\\'p\\x8c\\xe7|H\\xd0\\xd1\\x92u\\xef\\xe4\\xf5?\\xc1\\x16\\x06L\\x99U\\xce\\xa7O\\x9c9\\\\\\xb2\\xca\\xdadX\\xf9M[\\x90\\x96kR\\xca\\x19ZF\\x95A\\x88$\\xf7\\n6\\x88w\\xd5\\xc9\\x03\\xd6jD\\xeaRL\\xaeV~\\xd6ts|\\xa1)N!\\xdb|>\\xcd\\x18\\xea\\xae,q\\x8c7\\x10\\x17\\x0e\\x12\\xe0\\xc3Y-6\\xca\\xd3\\xba\\x0f`\\xc8\\xedL\\xf6L\\x135\\xfa_\\x86\\x99e;r\\xc7,u\\xefw_\\x13\\xe2\\xee8e\\xb9\\x94\\xbb\\xf6\\x9al\\xb0-\\x9e^#l\\xf1B\\xedT\\x12\\xb0\\x92\\x87\\xd9$\\x1c\\xb9\\xa4\\xfc+\\xc5\\xf1\\xdb\\xc3)+\\xd9\\xf0z\\xcf\\x1bS\\x9b\\xd8\\xa7\\xedV\\x1d\\xb4\\xb1a\\xa7\\x01\\xfd%\\x8d\\xe2\\x99W\\xb9>\\xfa\\xf9\\xb7\\xb7/\\xda\\x8fl\\x96x\\xad\\xcd\\xa5\\xf6\\xd9a[\\xa6\\xd7\\x1a\\xdavBt\\x0e\\x91x\\x8f\\xe9o\\xd6n\\x18}\\x8d\\xb9F\\xe2\\xcb\\xa4\\xdd\\xb0\\xb3\\xec\\xbf}\\x82^\\x9eW\\xd6\\x8a\\xb6Y\\xf4\\x82\\x91\\xec\\xac\\xde\\x94\\xf3)\\x99\\xdfX\\xf4\\x96=-\\xe2\\xa1)\\xf2\\xed\\x93\\xeb\\xd3\\xc5\\xcc6\\xfd.\\xcf\\x82T\\x07\\xbe\\xb3\\xf2\\xabS\\xa8\\xac\\xff\\x00(=\\xb3\\xc3\\xf6\\xb9\\x1b<,\\xad1\\x0bW\\xac\\x97p\\x1dn\\xf1\\x90\\x827\\x83q\\x04\\x12\\x0ei:\\x1a\\xb5g\\x14\\xcb\\xbeU\\x8bF\\x14s\\x00\\xc0\\xe3\\xddA\\xa6\\\\\\x99Bt\\xd7\\xe1P\\x9bFN\\x7f\\xbe\\xb5\\x0b\\x0e\\x1ec\\x90\\x07\\x9b\\x9e}\\xe2\\xb5\\xa4\\xc0\\xa2\\x14\\x0c\\xe63\\xca\\x8f\\xb2\\xda=\\xe9\\xf9\\xb3\\xc7\\xba{\\xea\\xf06\\x16\\x1b\\x95\\x80\"G\\xa7\\xbc\\xd3\\xaeRP\\xd33F\\x88\\xd6\\xa3z\\xe1\\xb4\\xf9\\xb3>\\xe3PG\\x12R4\\xd2\\x98\\x8c\\x02N~\\x1c\\xe9\\xd8\\x19#3\\xcf_\\n\\x97\\x84\\x86\\x0f\\xca\\'\\xb2\\x14 \\xe5=\\xc6\\xb3\\x92\\x8e\\xc2\\xfc\\x9f\\x04tC\\x80\\x7f\\xe2?\\xfb\\x87+2%\\x82\\xa7\\x90\\x0c\\x03\\xbc\\xaeI\\xcc\\xd5u<\\xa2\\x02\\xe2\\xa2\\x12\\x10;\\xf34\\xcb\\xec\\x85\\xad&T\\x99F\\xbdS)L\\xa98?\\x13\\xc5\\xae\\xf1Lq\\xcb\\xdcQ\\xd2\\xfd\\xd2\\xd4\\x90\\xb7\\x14\\x84\\xa4\\xa8$\\x00&\\x00\\xce\\x00\\x13\\xdd_\\xb1\\xc3\\xa5\\x87G\\xfd\\xbc&\\xa4~W\\xab\\xd6\\xcf\\xad~fwuqtW\\xd4^X_\\x9e\\xad$\\x07\\x91\\xa8\\xe6\\x93_\\x07\\xf1m\\xcc\\xf1\\xfbW\\xdd\\xfc*\\xcc\\xbaw\\xee\\xb0\\x13\\x86Z,f\\xcaG\\x81\\x8a\\xf9\\x1d\\xf9>\\xa7la\\xc1-\\x8f\\x9a\\\\O\\xa6j\\xf9\\x94|\\xb8C\\x82\\x0c\\xc7]\\xbc\\x9eKL\\x8a~`\\xec@\\xb9\\xd9\\x1b\\x17\\x8e\\xf3\\x96\\x16.+\\xeb\\x06\\xc2\\x15\\xeb\\x10i\\x9dH;\\x15\\x0fO\\x18;xM\\xb6\\x03\\xd4\\xb2[K\\x8e\\xdc\\'5\\x95\\xceM\\x9dI&\\x99\\x97p\\xed\\xedV\\xa4KY\\xfdQ\\xee\\xa2\\xa2(|\\x92\\x0e\\x99\\x11>\\x9a\\xa2\\xd8;\\xba\\x91\\xa51V(\\x94\\x85\\x00\\x99\\xde\\x11\\xe8\\x91\\xf8S#6\\xfb\\x1bT@^\\x8f\\x9a\\xbd\\xf7t\\xa9\\x19\\x86\\xfe\\xa24\\x9f\\xf15z\\xa4\\xc0\\x04(\\xce`\\xe5V\\xb9Ea\\xe5\\xb1p\\x97Z0\\xb4\\xcc\\x12\\'PA\\xcb\\xc0\\x9a|\\x08\\x12S\\xbb\\x00\\r\\x07\\xc2\\x83\\xc9\\x02x\\x91\\x950\\n\\x84\\xe4\\xa3\\x04\\xf7\\xf0\\x15#\\xd0~U2s\\x8a\\xce^\\x04v\\x1f@\\r\\x85tC\\xb3\\xfb\\xe5DC\\xe6\\t\\xcb\\xf4\\xee{+;\\xbe\\xa6E\\x8a\\x00H\\x84\\x80\\x07 (\\xb9DQV$\\xb5\\xd02\\xa4\\xca\\x93*L\\xa98sl\\xd5b\\x8ce\\xa6,0\\xec2\\xd1\\xc6\\xc6\\xfb\\x8faw\\xab\\xb8a\\xf0\\xa0\\nc\\x7f\\xcd)\\x82\\r~\\xa7\\xe1\\xaewyg\\x95\\xbf\\xfd\\xa6\\xac|\\x0f\\x8d\\xf9sX\\xe1\\'\\xde]\\xc5\\x95\\xd0\\xc2\\xfee\\x89\\x8f\\xf5\\x8d\\x1fa\\xaf\\x95\\xf8\\xc7\\xeda\\xfa\\xbe\\x87\\xe1\\x1f\\xb1\\x97\\xde-fU\\xd9\\xaf\\x89_a%\\x06\\x84$\\xf2\\xa92jJG\\xf2\\x99\\xcf\\x0e\\xd9\\xd3\\xca\\xe6\\xe0z\\xd0\\x8a\\xdfO\\x9bX\\xcf\\xc2\\x9d\\x07\\xe4\\xa7\\xec\\x03\\xec\\xae\\x8c\\x15S\\xb8\\x89\\x8d\\x08\\xf6\\xd1F\\xbdC\\x90s\\xa6xF\\xac\\x88\\x9fm1\\x1b\\xbc8g\\xdf\\x15\\r\\x03|A\\xb5|p\\xdd\\xaa\\x1b\\xc08Q\\xf9\\x88\\x93\\xe9\\xf4\\x9a\\xb5\\xc8L$\\x1f\\xa4\\x07q\\x11N\\xc1\\xa0\\x82L\\x1a\\x0c\\xe5\\x92\\x01#xT\\x18#x\\x89\\x14\\xfap\\x8e\\x19$\\x92\"Fb\\xa4;\\xec-\\x87\\x99.\\xa4\\x80\\xb4\\x92\\x0f1&\\xb3\\x971Ga\\xfeO\\xd9t?\\xb3\\x9d\\xed\\xba\\x7f\\xae]g\\xd1,*\\xceE\\x94\\xc4Z\\xe8\\x19ReI\\x07\\x15\\xc60\\xdc%\\xb0\\xe6)\\x7fkf\\x92$\\x17\\xddJ\\'\\xc2Nt\\\\\\xa4\\xf2\\x9e:\\xf3\\xa5\\xad\\x94\\xb7|\\xb6\\x8b\\xab\\xbb\\x80>\\x9b6\\x8e)>\\xb8\\xce\\xb9\\xde\\xac\\xf4=\\xb7\\xd9\\xc8\\xb8\\xe5\\xa5\\xa5\\x8e&Sa\\x88\\xb1\\x88\\xb0R\\x97\\x03\\xcd4\\xb6\\xc4\\x9dR\\xa4\\xa8H\"<3\\x19\\xd7\\xedfy\\xe7\\xbc\\xb3\\xc7\\xb6\\xfbq\\x7f\\xa3\\xf2\\xfd\\\\1\\xc3S\\x0c\\xbb\\xa2\\xd0\\xe8n\\xec%\\x8cH\\x1c\\xf3h\\xe5\\xfc\\xea\\xf8_\\x8b\\xe5\\xce?\\xab\\xec\\xfe\\x13?&_\\xa2\\xd8b\\xf1\\xb8\\xceG\\xa2\\xbe%\\xaf\\xb1\\xa4\\xd6\\xee\\x9a\\xfa\\xfe\\xb1F\\xe2\\xd0\\xa2\\xe1\\xb3\\xa3\\x89\\xf5\\xd1\\xb5\\xa3\\xc3\\x80\\x8c\\x88\\xa9)o\\xcaUC\\xf3^\\x05\\x074\\xdd\\xbd\\xedi?\\x85t\\xe9y\\xacg\\xe1O\\xa7\\xf4#3\\xe6\\n\\xeb\\\\\\x8a\\xeehL\\xf0\\n\\xd0w\\xd0\\x80\\xd3:\\x91\\xed\\x8f\\x93\\xb8\\x98\\xcd\\x95\\x0fh\\xado\\xd1PG\\x9c4\\x89\\x1a\\xe9T\\x00^\\x90m\\xdf \\x00\\nL\\x019T\\xa8x^v\\x00\\xfe\\xfeq\\xaa\\xf9\\xd2\\xd2VCBj\\x88k@K\\xca\\x00I\\r8c\\xc1\\x06\\xaa\\x11\\xa6D\\xe7\\x15I\\xa4S\\xdbp\\x90\\x06f`\\x0c\\x85i\\t\\xac\\x83\\xca$\\xd5RM\\xed\\xd2\\xae\\x1e\\xb7\\x067[n\\x04\\x08<{\\xeb\\x17\\xc2\\x8e\\xc2\\xe8\\x07\\xff\\x00c\\xfb5?\\xc8\\xac\\xff\\x00Z\\xba\\xc7\\x84\\xb0\\rf\\xd2QN>Qk\\xa8x\\xbd\\xa1\\xc7\\xf6\\x9d8\\xbd\\xce\\x1d\\xb3\\xbb<\\x97\\xc3;\\xb1yt\\xe1KK\\x94\\x82`e11\\xe7j+\\x9eYe\\xbdc\\x0e\\x9a\\xa5\\xec\\xce\\xdcc_\\xf3\\xc6\\xd37\\x87\\xb2uf\\xc1\\x04\\x11\\xdd#t\\xff\\x00H\\xd6{s\\xbei\\xfc\\xb13\\x0c\\xe8\\xabg-\\x1c\\xebn\\xda\\x7f\\x10|\\xf9\\xcb\\xb8sS\\xcf\\xb3\\x13\\xe9&\\x99\\xd3\\x91w\\xfb=e\\xae\\x07\\x85Z2\\x1a\\xb6\\xc3l\\x9alh\\x94\\xb2\\x90=\\xd5\\xbe\\xdcF\\xeb\\x81\\xae\\x14z\\xc5g\\xc0W\\xee:\\x9ek\\xf2xN\"\\xca\\xe8y\\xde\\xce$2\\xf3Z\\xf7\\xaa\\xbf5\\xf8\\xb7\\xf0\\xfe\\xaf\\xbf\\xf8W\\x8c\\xff\\x00E\\xae\\xca\\xfb5\\xf0\\xeb\\xec%!yP\\x8e.\\xc0\\xce\\xa4\\x11~|\\xdd9\\xd5\\xa1\\xb5q\\xf9A\\xf6\\xb6Gg\\x95\\x00\\x91~\\xf0\\x93\\xfb\\x1f\\xf0\\xae\\xfd\\'.\\xa2\\xa1\\x13\\xe4\\xe3\\xf6\\x7f\\x8dt\\xbe\\\\\\xb6z\\xff\\x00F\\x93\\x91\\x04\\x1c\\xbd4R\\x00\\x10I\\xec\\x98\\xa6\\xa8rT\\x12\\x1c\\x04\\x03\\xbc\\x82\\x91\\xe9\\x8c\\xfd\\x95\\xa8\\xb6\\x10\\x1d\\xa8\\xe7\\x9d\\x1a\\x08\\xf7s\\xe4\\xcfr\\xdc&\\xa0f\\x17\\x9d\\x86|?\\xfc\\xa8\\x97\\x92\\x98\\x11!Fr\\xe5J\\x16\\xc6\\xe16\\xcf\\xba\\xb5\\xa0\\xaf}\\x97\\x99\\x80b\\n\\xd0\\xa4\\x83\\xe8\\x99\\x8ag\\x02\\xf2\\x8c\\x91\\xe1<*U\\xec6/e\\xd9\\xc4\\x1aF%\\x88-\\x0fZ%@\\x8bf\\xc9%`(\\x02\\x16\\xa1\\x90\\xce%\\x19+uAC(\\x9dI\\xc6\\xd9k6\\x93\\n\\xb7\\xc2T\\xcfR\\xeb\\x85o-G\\xa9p\\xa4\\xa9\\x08\\xc8\\xa6cX\\xccO\\x1c\\xa8\\xca\\x1d\\xb4\\x87\\xf4\\xed\\xf2\"+\\x19\\x17g\\xf4\\x07\\x97C\\xfb1\\xff\\x00\\xc3\\xa8\\xff\\x00X\\xaa\\xe7L{\\xd5\\x1d+4\\x90\\x1c\\xc5X\\xf9TJ\\xee\\xc9\\x8a9\\xd7\\x1c\\xad\\xd9\\x91\\x93F\\xcb&\\x84I\\xa98\\'h\\xf0\\xb4\\xe1N0Q\\x8aa\\x98\\x88}*!V\\x0f\\x17\\x02\"<\\xe9\\x00\\x89\\x04\\x11\\xe9\\xaf\\xdbc\\xd6\\xbd[w\\x8d\\xc7^\\xef\\xceu~\\x1b\\xe4\\xc9\\xac\\xa5\\xfb=\\x87D\\x0e\\x8d\\xfc@\\x03\\xf4\\x1a\\xf4fk\\xe1\\xfe-\\xe3\\x1b\\xf7}o\\xc2\\xfce\\xfa-\\x86\\x17\\xd9\\x15\\xf0\\xeb\\xeb\\xa4\\x97BFg\\xd1F\\x80E\\xc2\\xb3\\x99\\xabH\\xa9W}!\\xe0\\xfa|\\xedlN\\x08ybN{XUv\\xe9ys\\xcf\\x95B\\xd7\\xea\\xa9\\xd3\\xcc\\xae\\x96n\\xb9l\\xf5\\x90P\\x82 \\x0c\\xc5\\x1fB\\x10\\x8ec\\x97\\x85h\\x10\\xc6Z@:Q\\x03\\x0f\\x19#^\\x14\\xec\\xa3^~\\xaa\\xf0\\x9c\\xf7\\x0e\\x86\\x8f@\\x0e\\x14G\\x91\\t\\xe6{\\xf8\\xd5<\\x9bSTG1\\x02)d\\xc2F\\xb2\\x06Z\\xd4t\\xc3\\xcaG\\xf8U\\x15\\x11\\x9b\\x97\\xd8\\x1b\\xb6\\xf7/\\xb27\\xb7\\xe1\\xb7\\x14\\x91\\xbd\\x110\\x0e\\xb1\\x94\\xd38\\x06\\x01\\x91\\xd4\\xe455\\x9b}\\xd41G\\xe7(\\x03\\x95Y\\x18\\xed>\\x82\\x04tC\\xb2\\xdd\\xf6\\x80\\xfa\\xd4\\xaa\\xe3L{\\x97\\x0e\\x95\\x92D\\xf9\\xc2\\x9c|\\xaa5wd%\\x1e\\xd1\\xae\\x19yj\\x12hL\\x9a\\x8b&\\xa4\\xf9\\xf1|\\xbe\\xb2\\xe9\\xc7J\\x1bA\\\\\\xa8\\xa5\\xb4\\x84\\xa4\\x12x\\x01\\xa0\\xee\\xaf\\xdeg5\\xc4~Ver\\xe5\\xeez#XK\\xd8\\x97\\x00P\\xdc\\xe7\\xf6\\x8d~{\\xf1^f?\\xab\\xed~\\x17\\xfc\\x7f\\xa2\\xd5n\\xe3\\xb3\\t\\xcf\\xbe\\xbe\\x1e\\x9f_i\\x01\\xc2\\xa1\\x9c\\xd5\\xa1\\xe4\\xe0\\xaa\\x91\\xe9]Z[x\\x8e\\x9d\\xcc\\xec&\\x15\\xc61B=l.\\xba\\xf4\\xbc\\xb9\\xe6\\xa8X\\xfdU\\xa3\\x9eH\\xf8\\x9a\\xeb\\\\\\xd8\\x7fWG\\x11*\\xe1\\xe1Y[\\x0b y\\x98\\xa5\\rh\\xd7X^\\x1b\\xbb\\xdb\\xb6\\xee\\xb9\\x1c\\xb7S3\\xe8\\xadI\\xb1@\\x06U\\x9c\\xc5e\\x03\\x7f\\xbb\\xd4\\xdc\\x14$\\xee\\x94\\x92\\x013\\x97\\x8dR{\\x900\\x9f\\xd4\\x8c\\xf1\\x9f}\"&\\x1euJ\\x8f\\xb7IS\\xdb\\xa9\\x04\\x92\\x95e\\x1fd\\xd5\\xe5x\\x04f\\x90O\\x8c\\xd3\\x11\\xca!N(\\x84\\x94\\x83\\x9c\\x031G\\xa88f\\x14O\\x01\\xeb\\xd2\\xaaC\\\\\\xf5\\xed\\xf2\\x02\\xb3\\x92\\x8e\\xd5\\xe8,\\x11\\xd1\\x16\\xca\\x03\\x9f\\xccPg\\xd2k\\x9e\\xcc{\\x85\\x80b\\x8dE\\x18\\x13\\xda\\x14\\xc9\\xca\\xd8\\x95\\xd4<\\xbe+\\xb4\\x8b\\xb1z\\xe8~e\\xc4\\x9dC%P\\xeaWn\\x84;\\x02IF\\xf3\\x80\\x9eZL\\xd3\\x8f\\xc3\\xdc\\xef\\x19N~\\xff\\x00\\xda9\\xe5\\xd5\\xed\\xf4\\xfe\\x9f\\xde\\xb4\\xef\\xed\\xd2\\x80\\n\\xb5\\xc3\\xed^l\\x8c\\x96\\xac^\\xd9\\xb11$\\x19T\\x828\\x88\\xae\\xb3\\xe0\\xaf\\xf1[?K\\xff\\x00Nw\\xe2\\xa7\\xf0\\xeb\\xfecG\\x8bt\\xabs\\x87\\xdc\\xf98\\xc0m\\xeeVP\\x16\\x17m\\x89\\x07\\x91\\x99\"\\tCg0A\\x91\\xf8\\xd7l?\\r\\x99\\xce\\xee\\xfd}\\xe6\\xbf\\xads\\xcf\\xe32\\xc6\\xf6\\xccw\\xf6\\xbf\\xfak\\x8fK8\\xe2\\x8c\\xb7\\xb2\\xe9\\xdd:|\\xa3\\xc7\\xff\\x00N\\xb5\\xff\\x00\\x8e\\xe8\\xcf=i\\xfc\\xbf\\xfd\\x0f\\xf5}[\\xcc\\xe9\\xff\\x00_\\xfar\\xed\\xc2\\xd2{Pb4\\xe3_\\xa4\\xea\\xe7\\xfcO\\x89\\xd3\\xc6\\xf8z\\xde\\x8b\\x9c>S|\\x04\\xe6\\x84{\\xcd|\\x1f\\xc4\\xac\\xb8\\xe3_k\\xf0\\xde._\\xa2\\xd7\\xb5WdW\\xc5\\xaf\\xaf\\x13\\xd2k \\xe0\\xae\\xfa\\x88\\x89U\\t\\xe3:q\\xedt\\x7fbs\\x81\\x8a\\'N\\xf6\\\\\\xae\\x9d/.y\\xf8S\\xf6\\xe4y+\\x7fp\\xfb\\xcdv\\xaeg*z\\x84G\\xda\\x8c\\xfc(\\x1b\\n\\x0c\\x9c\\xc6Y\\xe7Q\\x1e\\xc9\\xf4\\xdb\\xad\\xf2\\xa4\\x92\\x1c\\xb6y\\x9c\\xb3\\xcdh \\x1f\\t\\xa6p\\xcdGH\\x93\\xfe\\x14l\\x81w\\xfa\\xbb\\xdfp\\xd3\\x108W\\xear\\'\\x8f\\x0f\\xb5Y\\x858\\xa0\\x90\\xb3\\xa0LH\\xadxd\\xe6\\x94\\x1a\\xb9\\xdeVP\\x142\\xef\\x04|j\\x9eHH\\x91\\x97\\x10>\\x14}\\xd5 :R\\xbe\\x82\\x04\\x90\\x85\\x92FYD\\xe7V\\xc4\\x01\\xcf\\xd6Q:\\xee\\xf1\\xac\\xe4\\xa3\\xb6\\xfa\\x11LtG\\xb2@\\xff\\x00\\xee\\xe6\\x8f\\xacMb\\xc2\\xf6k\\x19\\xd6\\x1a\\x84I;\\xc9\\xf1\\xa6yTc]\\x99s.\\xdbbW\\xc3l\\xb1\\xc6\\xd9+\\xea\\xd1z\\xe0HM\\xb2Ly\\xa2A\\xdd9\\xe5\\xad}\\xbe\\x87G\\xa1zx\\xdc\\xfc\\xeb\\xff\\x00\\x95\\xff\\x00\\xb7\\xc9\\xeb\\xf5:\\xd3\\xa9f\\x1e>\\xdf\\xfaj\\x11u\\x8d\\xba{\\x1f\\x9c\\xcf\\xec\\xd9P\\xf7&\\xba^\\x9f\\xc1O3\\x1f\\xf9\\x9f\\xde\\xb1\\xdd\\xf1w\\x99r\\xfeoG\\xb3\\xe9\\xc4Yi\\xe7q<?\\x11\\xc4E\\xc2!\\xa6V.\\xc1eI_\\x9cKc-\\xeeYH\\x8e\\x06\\xbc}|\\xfe\\x1a\\xe5\\xdb\\xd2\\x98\\xcdz\\xfeM]\\xcf\\xaf\\xb7\\xbb\\xd5\\xd1\\xe9|D\\x9d\\xddKn\\xfd?7\\x1a\\xfb7N\\xa2\\xdf\\xae_\\x93\\xecm\\xe2\\x99\\x90\\x10_j\\xedK\\x88\\x1eq\\x9dk\\x8e=N9\\xcb\\x1f\\xd2\\xe1\\xff\\x00N\\xb9t\\xb9\\xe3\\x1b\\xff\\x00\\x17\\xfe\\xd5\\x1a\\xb6\"\\xcdF\\x03\\xf7c\\xd2\\x9f\\xc2\\xbe\\x95\\xf8\\xcc\\xbd\\x9e\\x19\\xf0x{\\xd4\\xfd\\x92\\xc0Y\\xc2\\x9e}m:\\xea\\xcb\\x90\\x83\\xbf\\x19A\\xee\\xaf\\x99\\xf1}k\\xd5\\xd4\\xb3\\xc3\\xe8\\xfc/Ft\\xf7g\\xab\\xdb\\xb0\\x98H\\xce\\xbeu\\x8fv\\xd2\\x92k\\'g\\x03\\xa7}\\x08\\xf4\\x9a\\x96\\xdeG\\xa6\\x81\\xbd\\xd1\\xe3\\x112\\x9cQ\\xafkn\\n\\xe9\\xd3\\xf2\\xc6jv\\xdb\\xf5V\\xf5\\xf3\\x0f\\xbe\\xba\\xfa\\xb9\\x083a\\xb8\\x11\\x9a\\x81 \\xeb\\xa5\\x08\\xc4\\x0c\\xfe\\x02\\x9fD\\xc2\\x9d\"\\t\\x1c\\xaa\\xda H\\x98\\x00E[\\xe1\\x07t\\x00\\xb5z v\\t\\xc8wP\\x91pq\\xf3<\\xe0\\xe6}\\xf5$\\xf5\\x0c\\x8dH\\xd2\\x06\\xf6\\x82}\\xb5\\xaf\\xaa$\\r\\xee\\x14D\\xc1\\xddU\\xa0\\xf1\\x9bk\\xc8NFx\\xeb\\x14^\\n3\\xb1\\xe5\\t\\x9f\\xab5e\\xb5\\x1d\\xc3\\xd0\\xd2wz(\\xd9\\x11\\x11\\xfek\\xb7>\\xb4\\n4\\x9e\\xaa\\xf9\\xd3oh\\xf3\\xc1!E\\xb4\\x15\\x04\\x93\\x13\\x03J\\xc5\\x9a\\xe4\\xc0\\x10o\\x85\\xc3a\\xc6\\xadz\\xad\\xe8QK\\x8a\\xde\\x028\\r\\xd8\\xaayI\\xf5\\xd0<\\x860\\xee\"\\xc6 \\xe2l\\xf0\\xe6n\\x1bQ*\\xeb7\\x1c\\xc8\\xce\\x862&\\xbc\\xb6\\xe3mu\\xe6k\\x94\\xa4:\\xea\\xad\\x18P\\xb3t\\\\\\xa8|\\xa27\\x94\\x02cS\\xa6\\x84\\xf3\\xe1Y\\xb7\\x1fH\\xd4\\x97\\xd6\\x9d\\xe5\\x86CiAq\\xdf\\xa4P\\xe9\\x81\\xdd1Gv\\x9a\\xec\\xda@R\\x88\\xcd\\n\\xff\\x00\\xcc5w\\xd3\\xd9\\x14r0\\xe7\\x94f\\x10\\x07z\\xc5}{\\xd6\\xc7\\xdd\\xe0\\xf9Y\\x03k\\x84]\\xb4\\xa5KR\\n\\xa4\\x11\\x9eS^|\\xf3\\x99xw\\xc3\\x0b#b\\xdd\\x9d\\xc0\\x00uK\\xf5W\\x1a\\xe8/\\x93?\\xfc\\x8b\\x9e\\xaa\\xcf$\\xa2\\xd9\\xff\\x00\\xe4\\\\\\xf5U\\xa4zm\\x9f\\xfeE\\xcfUZ[y>\\x98\\x90\\xa4\\xf4}\\xba\\xe0)_\\xe7\\x16\\x14\\x12\\xa1\\x99\\x1b\\xab\\x12=u\\xac8\\xacd\\xa6l\\xcf\\xcd\\x9a\\xfb\\xa4k\\xdf]o\\x87:r\\x0f\\xcd\\x87\\x89\\xcf\\xd0(\\xb3H,\\xe7\\xc2\\xa2=\\xa2\\x12\\xeb\\x8bJ\\x80 4\\xea\\x87q\\x08Q\\x07.\\xf1L\\x1b\\xd0\\x038\\xcb\\x80\\xa2 \\xef?F\\xf8Nh\\xddT\\x13\\xca* a?\\xa8\\x9c\\xa2g.]\\xaa\\x82_tkR\\xdaV\\x19l\\x8b\\xab\\x87[p\\xee\\xa56\\xb7\\x0f\\x08\\x1cP\\xd2\\x96=\\xa9\\xadc7\\xc2\\xb7Q\\x0cA\\xdd\\x89\\x9ef\\xb37\\xe5\\x15@u\\x9d\\x99\\xdd\\x9c\\xa6\\x99Q\\xe8\\xf3\\x1d\\xf0\\x1e\\xfa\\xa8Ft\\xfc\\xb8\\xfb\\xbc\\r\\x19)\\xb7s\\xf4D7z,\\xd9\\x11\\xff\\x00d\\xda\\xff\\x00t\\x9a1\\xbb\\x8d^\\x1e\\x87\\x16P\\x16.%Z/\\xb1\\xe15Y\\xb8\\xa7\\x94\\x1716\\xee_m\\xa4/\\xabq\\xb5\\x87\\nB\\xb3P\\x1a\\x8ag\\x1c\\xe8\\'\\x8b\\xd4\\x91\\xe6\\xfbj\\xd2y\\xa7\\xb6u\\xa5\\xde\\x8b\\x83\\x89\\xe2A&\\xe1\\xcb\\x854\\x97\\xd4\\x90J\\x94\\x14\\x13\\x92\\x84\\x01\\x11\\x1c\\xb2\\xae\\xddO\\x88\\xebg\\x84\\xc3\\rc5\\xaf\\xd9\\x96\\xdf\\xd6\\xff\\x00X1\\xc3\\twwo\\xde\\xb6*\\xb2\\xeb\\x18m\\x0f\\xdd\\xbc\\xe1H\\x85\\x13\\xf4\\xb3\\xd4\\x89\\xaf\\x17\\xfa{\\xaek\\xbf\\xcd\\x9e\\x90VY\\xb7\\xb6A*Q\\xdd\\x1c\\xc8H\\x1e4\\xe3\\xd0\\x93\\xcf\"\\xf5m\\xf1\\xc0\\xad\\xb8\\xdb\\xed\\xa5\\xdbgw\\x9aP\\xc8\\xa0\\xc85\\xbf\\x95\\'\\x1ag\\xba\\xfb\\xa9)\\x156\\xdf\\xda\\x99\\xb6k_0R\\x85\\xa92\\x81\\xb6M\\x08\\xe1\\x14\\xaa\\xafzr\\xedljc\\x85\\xd3\\'\\xda\\xaa\\xa7\\x17l\\xd5#g\\x9d\\xb3z\\xe8u\\xae\\x93lQ\\x11>N;\\xd4}\\xc2\\xa2`D\\xcf\\x1c\\xa6\\xa5|\\rh\\xe0j\\xe1JQ\\xec\\x96\\x9dG\\xa5M\\xa9#\\xdfF4^Q\\x91\\xc3\\xd1\\xe9\\xabd;\\x9f\\xd0\\xbb\\x1fT\\xfb\\x8d(\\x1c*|\\x86 \\x8d\\x7f\\xb5D\\t\\xa1\\x07\\xce\\x81\\x03#5$\\x9c)\\xf6\\xed\\xaf\\x1cq\\xf0\\xad\\xc5[\\\\47x)m-)\\xf4o\\x11\\xe8\\xadK\\xab\\xc8\\xd6\\xd0\\x93\\xa4G\\x01Y\\x86\\xb1\\'\\xb5\\xaet\\xd4\"A\\xea\\x1d1\\xd9\\xec\\x89\\xef\\x9a\\xbdB%\\xc1!\\xe9\\xfb<(\\xb5ywoEI\\xdd\\xe8\\xc7dG\\xfd\\x91i\\xfd\\xcah\\xc7\\xc3W\\xcbo\\xb4\\x060\\xe3\\xf7\\xd3\\xef\\xa5E9\\x8a\\xf4\\x8d\\x87`;Y\\x88\\xe1\\xd7\\x18v7r\\xe5\\xbb\\x9b\\x8a6\\xa8mh\\xde)\\n\\xcaV\\x0e\\x8a\\x15\\xdb\\x1c2\\xcb\\x19\\xa6s\\xcac\\x7f2[],a\\xae&[\\xd9\\xdd\\xaaX\\xfb6\\xad\\x1f\\xfdJ\\xdf\\xc8\\xeaO1\\x99\\x967\\xc0\\xff\\x00\\xc2\\x85\\xa8\\x02v_l\\x06d~\\xa0\\x83\\xff\\x00\\x1d\\x13\\xa5\\x93]\\xb9{\\x1d\\xfc(\\xd9\\x84\\xa8\\xaff\\xf6\\xb9!:\\x93\\x87\\x0c\\xbf\\xa7O\\xc9\\xc8^<\\xa2\\xdc\\xf4\\xa5\\x84<\\xc2\\xd2\\xe6\\x0b\\xb5)lF\\xfa\\x8d\\x8e\\xe8H\\xef;\\xd9S:\\x19\\xca\\xcf\\xcc\\xc7\\xc4Z\\x96l\\xa2\\xd6\\xdd\\r2\\x08@\\x12$\\xc9\\xcf:\\xf3^n\\xeb\\xacR\\x00\\xf0\\x9a\\xc3\\xab}df\\xd1\\xaf\\xba)\\x03\\xce\\x95h\\x16h[eH\\xe1V\\x83\\xc0\\xf4\\xd7\\xda\\xd8\\xc7\\x0f+\\x86?\\xb7\\x1f\\x1a\\xb4*\\x8f\\xb1\\x1f7\\x06FS\\xf0\\xad2#d\\x06\\x00\\x13\\x9a\\x8c\\xe7\\xaeUl\\x9a2\\x90\\'1\\x14\\x86\\x10=<*L\\x80x\\x1a5\\xa8B\\xb8\\x12\\xcb\\xbft\\xf1\\xee\\xa8#a\\x19\\xd9\\xe8fO\\xbe\\xa99I\\xc3 G\\x03\\xed\\xa8\\x93I\\xc8\\x8f\\x03Hdg1\\x9d\\n\\x9b\\x96\\xa3\\xf0\\xa7\\xc2\\xfb\\x9d#\\xaap\\x11\\n\\xcb\\xb5<\\'\\x95J!\\\\\\x18qR\\x0f\\x98r\\x9a2\\xe5H\\xef.\\x8c2\\xe8\\xd7d\\xff\\x00\\xf9E\\xa7\\xf7(\\xa2x5\\xb1\\xdaC\\x18p\\xfd\\xa2jQ\\xcb{n\\x84\\xbf\\xd2\\x9e\"\\xda\\xd2\\x95\\xa5\\xcce\\x96\\x94\\x92&Am\\x00\\xc8\\xe5\\xad{\\xfa\\x17\\xfd\\xb7,\\xf1\\x97\\xad\\x86\\xfd\\xe2\\xcbN\\xc9`\\xac\\xdb\\xad\\xc6\\xac-\\xd2\\xfa\\x08RT\\x11\\xa1\\x04g\\\\g_;d\\xb5\\xef\\xb8\\xe17\\xacg\\xfc6[5\\x83\\xd9^aB\\xf1V\\xad\\x17\\x9eq\\xe9V\\xe02\\x03\\xaa\\x8fuk\\xe23\\xb8\\xf5;e\\xf6\\xfe\\x8exu8\\xe5&\\xcf\\tcr\\xd1V\\xf6\\xb6iQK\\x8a\\x970\\xd5]\\xc4\\xa8\\xe4\\x02`\\x8fMf\\xe7{\\xaf?\\xcfK=Y\\xcci\\xfa@\\xc3\\xd4\\xd6\\n\\xa5\\xa9\\x0c\\xa7}\\x95\\xb4T\\xc6\\x1a\\xab@IR`\\x10\\xadx\\xd7\\xa3\\xa1\\x9f\\x99\\xfd\\xf6\\xf1\\xf51\\xdeR\\xad\\x93\\x91\\x8c\\xf2\\xaf\\x03\\xb6\\xd4P\\xd6\\x87F\\xf7\\x0f\\xfdM\\xaf\\xbb\\xf1\\xa8T\\xa02\\xa8\\x16*\\x05\\x8a\\x93\"\\xad\\r\\xbc\\'Lh+\\xd8\\xab\\xae0\\xe3\\'\\xfa\\xd4\\xd5\\x97\\x85/*&\\xc4\\xc3 \\x1e\\x04\\x8fuB\\x8a\\xd9\\x1dOv\\xf9\\xf4eQ\\x08\\x1a\\xaa\\x1a\\xd5\\x01\\xe7V\\x92\\xb2\\x88m\\xc5\\x83\\xde\\x94\\x15\\x01\\xe9\\x88\\xa7\\x19\\xbf\"\\x82\\x95L\\x1f\\x85\\x1a:%\\xccn:\\x01%!&\\x0cD\\x88\\xd6\\xa1j.\\x17\\xfa\\x99\\x00F\\xbe\\xf1TR\\xa6\\x1ey\\xd0Rp\\xfbt\\xdd\\\\8\\x85\\xa8\\xa4&\\xd9\\xf7\\x84\\x0e(mK\\x03\\xd6\\x9a\\xd4\\x9b\\x16\\xe9\\x14\\x19\"g\\xddAb\\xa3\\xadPI\\xc8\\x1c\\x89\\xcaG}^\\x80\\xef\\xe2\\xd7\\xcb/}I\\x06\\xec\\xf6\\xd7\\xc3\\xb0}\\xd5_u/.\\xf7\\xe8\\xd0GG;*9a6\\x9f\\xdc\\xa6\\x89\\xe1T\\xed\\xa6\\xfdA\\xbf\\xda\\xa7\\xdciQ\\xcb\\xf8\\xeb\\x8bWK\\xd7A\\xb9\\x9f\\xf2\\x85\\xb4\\x9d\\xd9\\x98\\tO.\\x15\\xec\\xe9k\\xe5\\xb3\\x7f{\\x8f\\xde.\\x95u\\xeb\\xb6ZP\\xa2\\x95\\x1c\\xe5@\\x90 \\x82}\\x80\\xd7\\x8e[\\xdd\\x1e\\xdc\\xa4j\\xf0\\x17\\xc8\\xc1\\xd9`\\xdd\\xba\\xa7n\\x97r\\xeb%A!IIZ\\xa1)\\x81\\x10\\x91\\xa4\\xfaf\\xba\\xfcF7\\xbe\\xfe\\x8e\\x1d;$\\x17\\x0f\\xb7d\\xe1\\x98k8\\x8b\\x8e\\\\\\x8bvT\\xda\\xee\\\\`\\xb8\\xe1\\x83\\xe7v[\"Lf;>\\x9a\\xd6;\\xdd\\xb1\\xbb\\xb9\\x8bQ\\xb5\\x0f[\\xa1\\x17\\xb6\\xb6\\x81\\xbe\\xa1%\\x9d\\xc2Y\\xea\\xd4w\\x94\\x80A\\xc8{\\xab\\xd7\\xd3\\x97\\xb3\\xba\\xbc\\xd9[r\\xd2\\xe2^N/\\xc4\\xd7\\xceiD$\\xd5\\xa6\\xdb\\xec2<\\x89\\xbf\\x03\\xef\\xa5%\\x8e\\x15h\\x17\\xc2\\xa0E\\x05\\x98\\xdd^\\xeey\\xe53V\\x96\\xce9R-x\\xbe\\x96S\\xbd\\xb1\\x97\\xb2@\\x03\\xaa9\\xe9\\xfadQ\\x94\\xe0O*\\x06\\xd3\\xf4fx)B\\xb3#B7\\xfa#\\xfbO\\x85^\\x141)$\\x88\\x8d&\\x89\\xc8\\x16\\xd5\\xce\\xa9\\xd5(\\xc8\\x96\\x9cD\\xfd\\xe4\\x11\\xf1\\xadcV\\xb6\\x024H\\xf4P|\\x18\\xeeM.>\\xa9\\xf7U\\xe4#\\xe1YY\\x9c\\xf8\\x9fx\\xa9N<\\'\\xa5\\x1fK\\xe8\\x82\\x07\\x8d\\x1c\\x91\\xac\\x9e6\\xf7.((\\xa2Yy\\xac\\x8e\\xa1HRH\\xf6\\xc5jQ\\xe5\\x14r\\xcbJ\\xcc4\\x89\\xd4r\\xd6\\x95\\xa1\\x00=R\\xf2\\x84\\x92\"\\xaa\\xb4\\xd7^\\xab7f\\'\\xab:\\xf8UC\\xbe\\xba:V\\xefG\\xdb.7W\\xff\\x005Z\\xfd\\x1f\\xf5I\\xac\\xcc\\x8e\\x92\\xf6\\x91`\\xd9\\xb4!@\\xf5\\xa3Q\\xdci\\x97kNW\\xc7\\x9fm\\x8e\\x95\\xaf\\xee\\x9cp%\\xb6v\\x84\\xb8\\xe1\\x070\\x80\\x06g\\xbb*\\xf6\\xf4\\xa6\\xfazgruq\\xb5n\\xdamN\\x05\\xbc\\x80q[U\\x15\\x10\\x02z\\xdc\\xd5\\'A^o\\x93\\x9e\\xfc=\\x99e\\x8d\\xf1c\\xc9\\xe1\\x1bkii\\x87\\xb1\\x86:\\xff\\x00\\xf9\\xc7\\xca\\x17j\\x85\\xf9\"\\xc2\\x03\\x8bR\\x8a\\x12D\\xe7\\x00\\x89\\xcc\\x03\\x9cW\\xaf\\xa9\\xd3\\xee\\xce\\xda\\xe1\\x86\\xb1\\x9az\\xec\\x16\\xf1Ij\\xdd\\x17,\\xf9E\\xcbaM/\\xa9p[\\xa5N%FBJ\\xddI\\x1a\\x18\\x04\\x1c\\xb8\\xe4g\\x97e\\x9bt\\xcb\\x98\\xd3\\xede\\xc0{\\x1bXS+mKv\\xc5\\x1d[\\x8f\\x07H%\\xd4\\xfd T\\x0f\\xaf\\xba\\xbdXc\\xae\\x96\\xfe\\xef\\x1d\\xcaw\\xd9\\xf4]\\x0e\\x1f\\x95^\\x7fH\\xfb\\xeb\\xe6\\xba(\\x94wV\\x9aop\\xcf\\xd4\\x9b\\xf4\\xfb\\xea\\xd0\\xda`\\x14\\x83\\x87\\x8dH\\xec\\xaa\\xd04\\x91:M\"\\xd7\\x8e\\xe9hN\\xc3b\\xb04e*\\xf5:\\x83F\\\\\\xc5<\\xb9\\xfe\\xd7E@3\\xbek\\x9c\\xbbn\\x9c\\xda\\xfeI@ps\\x9e\\xb2*\\xa8\\xd1\\x91\\x914\\xc8\\x0b\\x90\\x11\\x14kI\\x80I\\xcef\\xa4\\x1b\\xc9\\x1dJ\\xf9\\xee\\x99\\xf5T\\xb4\\x8d\\x85\\x90m\\x8er\\x0c\\xfb\\xc5_u\\xa4\\xfd\\x12\\xa1\\xc3\\x8dK\\x93c>3U\\xf2a\\xba\\x1c\\xa7\\xd3H\\'\\x84\\xe4h\\xd28\\x91\\xd4\\xaf#\\xbd\\xbc$\\xf0\\xf5Q\\xb2\\xd6_IS\\xa9L\\x02P@\\xf5V\\x83\\xaf\\xb6;\\xa6~\\x8f\\xf0\\xed\\x90\\xc0\\xac\\xae\\xf6\\x81\\x08\\xba\\xb7\\xb0a\\x97Z\\x16\\xaf\\xa8\\xa1Im \\x83\\xba\\x83\\xa1\\x06\\xb9\\\\\\xa4\\xf2\\xd7mz\\x0b\\x1e\\x90vgmC\\x96\\xfb5\\x89*\\xed\\xebE!\\xd7\\x90\\xabgY\\xddB\\xa5 \\xf6\\xd2\\x99\\xcf\\x95k\\x1b\\xbe`\\xb3\\\\W>\\\\\\xdf6\\xdfH\\xfbN\\xa7\\xd3\\xbc\\xd1\\xc4n}0\\xa1\\xdd\\xdd^\\xfe\\x978\\xe9\\xd3\\xa3\\x94\\x99\\xdd\\xfb\\r\\x89\\xb7k~\\xb6\\x16\\xc2\\x8am\\x14\\xc8[\\xe9\\xddL\\xa0\\xa5\\xc0\\x81\\xbb\\xdf\\x98=\\xd1M\\x96\\xeaZ\\xf4\\xdce\\xb6\\xc0\\xac\\xac\\xf0+\\x9cA\\n{i]\\xb3\\xc4\\x14\\xfc\\xa6\\xc7\\xa9\\x1dfK\\x94\\x8d\\xf1\\x90\\x90\\x01\\x1a\\xc5t\\xba\\xbcW\\x97s\\xbd\\xedC\\xce\\xdf\\x9b\\xa7p\\xe4\\xd9:\\xfb\\xce\\x94(8-\\xc4\\xa2\\x0c\\xab\\xe5L\\x12Lf \\x8f\\t\\xaf62\\xf7]\\xef\\xf9\\xbd]K$\\x88\\xeb\\xb5~\\xd3\\x14\\xc1\\x99\\xbbd2\\xa7\\xf1\\x0b\\x14\\xa1!M((u\\xd9\\x90[%<+\\xd7\\x8e[\\xe8\\xd9\\xed\\xbf\\x7f\\xee\\xf9\\xbdY\\'W~\\xf1\\xd0\\x8a2\\xb5\\x1f\\xb4k\\xe6\\xba(\\x90\\xa1\\xc4\\xd6\\x9a\\xad\\xe6\\x16\\xb4\\xf9\\x1a`\\xfd#P\\xa9}jj\\x0c\\xeb\\x87u[\\x1a5W\\x00\\x03\\xc2\\xad\\xad\\x06n\\x84\\xf9\\xc2\\xad\\xe9i\\xe6zI\\xdd\\xb9\\xd8Lx\\xef\\x90Qf\\xa3\\x11\\xafi\\'\\xe1Y\\xb7fM9\\xf2\\xd8\\xe4\\xaf\\x13X\\x9a\\xbc\\x1a\"\\x0f\\xc9\\xb9\\xa9;\\xe3\\xdcjP,\\xa7*F\\xd2,\\x19\\xf2\\x9b\\x94\\xb4V\\x11(q[\\xdfu\\nTzwc\\xd3L\\xe7\\x85x\\x01\\xb5J\\x12y\\x80t\\x8a*\\x9c\\xb2\\xe0\\x00\\x1c\\tV\\xf2 \\x80b\\'-j\\xf2Qp\\xc3\\xf3UD\\xea~\\x15}D\\xfa%\\xcf\\x88\\xee\\xa0\\x8dj\\xcf\\\\\\x9b\\xa3\\xbe\\x12Y\\xb7[\\xe2G\\x9cRR7|s>\\xaa\\xd6\\xb6\\x00\\x98X\\x04\\xc0\\xe6\\x06\\x94i\\x1aL8`\\xef\\'{#\\xa4\\x8a\\xb4\\x84\\x91\\xe4\\xee\\x00>\\x92F\\x7f\\xce\\xa3\\\\\\x9d5w\\xc4\\x82\\xfcL\\x84\\x1fuhWkl[hcdp\\r\\xd6\\x1b\\x07\\xf3m\\xb1*\\t\\x19\\x9e\\xa99\\xccW\\x82\\xe37k\\xd33\\xe277\\x0e\\xf5\\x85\\x1d\\x93\\xd9<F\\xa2\\xbbt&\\xadc\\xab\\x96\\xe4R\\x9bY\\xd1s\\x8c\\'h\\xf6\\x9d[J\\xeb-\\x07\\x9d\\xbd[,X\\x02\\xe0\\x0bX;\\xa1E\\xd1\\xccx\\xd7\\xbb\\x0c\\xf2\\x96H\\xf3\\xd9/\\x97\\x83\\xf2[m\\xe2\\xbf\\xcfx\\xa6\\xf92U\\xf9\\xb5\\x99\\'\\xbf\\xe5\\xb3\\xae\\xdb\\xcf\\xe8{\\xaf\\x9d\\x980\\xdbN\\xb8:1;\\xb58 \\x85/\\ro\\xff\\x00\\xddO\\xe6\\xf6\\x8c\\xfa\\xecqb\\xda\\x7fG\\x88\\xb9<\\xce\\x1c\\x90g\\xff\\x00:\\xbaN\\xaex\\xfb,\\xa7w\\xaa\\xc0\\xe8\\xc7b\\xef1G\\xecq\\x94cL\\xa6\\xd2\\xd3\\x12C\\x8e[*\\xc3uN\\xa9\\xa2\\x14!Ad\\rh\\xea\\xfcNYN\\xdc\\x9c\\xb1\\xe8\\xe3\\x8d\\xb6:\\x01J\\x83\\xe3^\\x1b^\\x856\\x92\\xcacu\\xa4\\x0fE]\\xce\\x9d\\xa7\\x8b\\x88\\x10\\x91\\x1e\\x02\\x8b\\x92\\xed4\\xdc+,\\xeb=\\xd5v\\x90\\xbc\\xa3\\xa5V\\xadC\\x16\\xe2\\xa3X\\xa1\\x18\\x17\\'\\xce\\xa8i\\xae\\xdb\\x14\\x176\\'h\\x04(\\x83b\\xe9\\xf3O\\x014wH\\xb5\\\\\\xfe\\xc9\\xf3\\xabX\\xc1OO\\x98\\xe7\\xdf\\x1f\\x1a\\x81\\x89\\x12@\\xcb=&\\x94%\\xba\\xb7_o\\xb4\\x13\\x92\\xbbD\\xfd\\x93L\\xe4\\x02\\xd9\\x80\\x07w\\n\\x13\\x1c2\\x85\\re&=U}J6\\x16G\\x91\\x9f\\x13\\xc7\\xc2\\x9b\\xe4&\\xc7`\\xaaF\\\\*\\'5\\xab\\xe0\\xa9)=R\\x80\\x9e\\'\\x97\\xef\\xca\\xa8\\x02\\x9c\\xcf\\x87:\\x11\\xa0\\xf6\\xb4\\x14\\xdf\\n\\x08\\t\\x16\\xaa\\xfb\\xc9\\xd7\\xc0\\xd4\\x9a\\xbcD\\x90\\x8b\\x93\\x96M\\x9fuUW{\\xec\\xd6\\x1a\\x0e\\xca\\xe0\\x83tJl-\\xd3\\xeai\"\\xb9\\xe5\\xd2\\x9b\\xa7\\x1c\\xf8.#m\\xe4\\xe5\\xbdaD\\xd5\\x86\\x1d\\xb4\\xdc\\xb6\\xf2\\x9d \\x9d\\xde\\x8c\\xb6\\x9c\\xf3\\xb7\\x03\\xd6\\xe2+\\xbe\\x1f\\xb5\\x18QVV,\\xdc[%\\xc5\\xb8\\xeaU\\xbc\\xb0\\xad\\xd2\\x08\\x00hb&\\xbd!18C\\x19\\xc3\\xcf\\x0c\\xe0N\\xe9\\xf8z\\xa9\\xd8:\\xfb\\x0fb\\xd1\\x82\\xe2\\\\yj\\xde\\t\\x1el\\x03\\xaey\\x0fe\\x12\\xda\\xd2\\xe0\\xe8PF\\xc8\\x03\\xf5\\xaf\\x9e?\\xd9\\x15\\xcb\\xa9\\xe5\\x98\\xb1\\\\^\\xe9\\x1e\\x15\\xc2\\xbaEC\\xe4jJe\\xc7Yo\\xef*\\xb8|\\xd8\\xf4|\\xba\\x196i0\\xab\\xe6\\xc9\\xe4\\x81?\\x1a\\xbee\\xbe\"\\xec\\x93\\xcd\\x15\\xb42\\xb8\\r7z\\xf9\\xff\\x00V\\xd1#\\xddGvK\\xb7\\x14\\x96\\xec^_\\x9b\\x86?\\xe2\\xea\\xc2}\\xe6\\xb3r\\xbe\\xe7\\xb6{\\x0c\\x9c&\\xf5_\\xe8\\xd6L\\xf7\\xa9eDz\\x85g\\xbb~\\xa7_D\\x86\\xb0w\\xff\\x00\\x8c\\xbdi\\x1d\\xcd3\\x9f\\xb4\\xd1\\xb8\\xb5Qv\\xaf\\x07h\\xecn\\xd0o]\\xdc\\xad_\\x9bn\\x08\\x12\\x00\\x90\\xd9:\\x01\\xddT\\xbc\\x8b8r\\xbbp\\x1aFQ:\\x835\\xea\\xc3\\x97\\x9e\\xb0\\x1e\\xcb\\x9fx\\x1f}h\\x1a\\x08\\x9c\\xa2{\\xa9Ge\\xcb\\xba\\xa0\\xc1\\x12\\x0cg9Q\\xe8\\x88\\xe8\\x1dZ\\xbe\\xe9\\xf7R\\x90\\xf0\\xb2<\\x9c\\xc8\\x19\\x93\\xe9\\xccQ\\xb4\\x9d9\\x11\\x94k\\xad$\\xd8\\x13\\xe3U\\xf0\\x08@\\x11\"=4-\\x1a#\\xc3\\xc6\\x9f\\n\\x1eT<\\x99C9\\xdf\\x19\\xfa\\r\\x1b\\xe55\\xb8\\x89\\xf9;\\x99\\xfeM_\\xd9\\xad\\'\\xd1l\\x01\\xa0\\x8c\\x0b\\x0eD\\x08M\\xb3I\\x8f\\x04\\ns\\xbf\\x9a\\xb3\\x8c\\xfc\\xb1\\x07i\\xc4\\x0bX\\xe6\\xafp\\xac\\xb4\\xaf\\xfaEX\\xfe\\x0b\\xb6\\x8c\\xa4\\x83(BL\\x19\\xd5\\xd4WL?j(\\xa6\\xb0\\xa0U\\x87\\x84\\x02\\xb8V\\xf8!9\\x92\\t\\xf6\\x1eF\\xbb\\xb1\\x1b6\\n\\x89L\\r\\xceCB?x\\xd3-iA\\xe2\\xb7\\r\"\\xcd\\xc6J\\x90\\xb7\\x94@\\xdc\\x0b\\x01I\\x9c\\xe631\\x90\\xaaNv\\xd2\\xd9\\xe8e;\\xbb\\x13j\\xa3\\x03z\\xe5\\xf3\\x99\\xfbQ\\xf0\\xae]K\\xc8\\x91\\xeeo\\x16R\\xe2@\\x8f7\\x8f\\x89\\xaf.~[\\x8f\\x02\\xc6\\x15\\x856e\\x16-(\\xf3X*\\xf7\\x9a\\xf2|\\xcc\\xbd\\xde\\xee\\xc8\\x9e\\xd7P\\xd0\\x01\\x96Z@\\xfb)\\x03\\xddGu\\xab\\xb6AK\\xeaQ\\x8e\\x15m08y\\xc7x\\x15l\\x06\\xa5\\x93\\xa95m\\x1e\\x93\\xea\\xa0Tly\\x1df\\xcd\\xe3(\\xfa\\xd8}\\xc8\\xfe\\xa9U\\xa9\\xe4_\\x0e=aD\\xdb\\xb4~\\x96\\xe8\\xafV>\\xaf.G$\\xc0{S\\x98\\xad2\\x189\\xe7\\xaf\\xb2\\x94#\\x00)\\xf6\\x92\\xa9\\xdd&\\rH\\xc4\\xa8\\xee\\xe8f\\xa2W\\xa0o\\x04\\x93\\x11\\xcb=)\\x08\\xb8j\\x8f\\x92\\xa8N[\\xc7\\xe1W\\xaaJ\\x04\\xc1\\xd4\\xfc(SpVP\\x95\\x07\\xf7\\xd4S\\xba\\xd2\\x96\\x88\\x1a\\xa8\\x11\\x00\\xfa\\t\\xaa \\xc6n\\x00t\\x98\\x9eB\\xa3\\xe4\\xc0s:\\x114\\x88\\'\\xf1J\\x81\\x96\\xf8\\x1e\\xc3F\\xd3]}!\\xab\\xaf\\xd9\\x9fun3\\xea\\xfa=\\x86\\x8d\\xdc>\\xd9<\\x9a@\\xfe\\x88\\xa3?\\xda\\xab\\x1f\\x11\\xaa\\xda\\x9dm\\x7f\\x9f\\xf0\\xa24\\xac\\xfaEi\\xbb^\\x8b1\\xf7\\n\\xc0+, \\x95\\x10\\x04u\\xe8\\x81]1\\xe7(\\x14Kx\\x97V\\x8d\\xc6\\xee\\xdb\\x08\\xe5\\xbc\\x9e5\\xe9\\x92\\xb3R\\x11\\x8a\\xac\\x88\\xf2\\xd6\\xf3\\xe4Q\\xf8S\\xdbF\\xc5{\\x10\\x17*I~\\xe9\\xa7\\x14\\x9c\\x81\\x94\\x8fuRi\\xa5\\xdb\\xd1\\x9e\\x18\\xc6+\\xb0XKo8\\xb2\\xcf\\\\\\xfb\\x85( \\xa5\\xcf\\x949\\x1fV\\xa3J\\xe5\\x96W\\x1c\\xb6\\xce<\\xacK\\xb6\\xaf\\x96\\xb4\\x9b6\\xd9Sa0K\\x84\\xcc\\xc9\\xff\\x00\\n\\xf2\\xe5/\\xa3\\xa4\\xd7\\xab\\xc1\\xa1g\\xd9_9\\xf4\\xe8\\x89_3H\\x11*\\x11S\\'\\xef@\\xcf\\xd5H\\xa4\\xde\\x9c\\xe9\\xd0=\\x07\\x95@\\xb7\\x89\\xeb0\\xdb\\xe4G\\x9dj\\xf2c\\xc5\\xb5S<\\x8a\\xe3+E\\x13j\\xc6\\x7f@{\\xab\\xd7\\x1el\\x85F}fY\\xe5\\xa7\\x8d<\\xb2b@*\\x19\\xe4i\\xda\\x16\\xd9a\\xbb\\xb6\\x94N\\xeaR\\xa9\\'\\x952\\x8f!7\\x90H\\x83\\x95\\x08\\x8e\\x1e\\xc1\\xe1\\x97\\xc2\\x98\\xb7\\xb4l4\\x9f\\'P\\x8e\\'\\xe1V\\x92h\\x19\\x15O\\x18\\xa3h\\xf6\\x17\\xba\\x8b\\x89\"T\\xc9H\\xcb\\\\\\xd3\\xf8S\\xea\\x82\\x9c\\xc8\\xd7\\xd1R5*\\x93\\x94\\xd0!\\xe4\\xc5\\xb9\\x9d7\\xc4O\\x85>\\xa5\\x02\\xf0\\xfc\\x95\\xc8\\xfb$i\\xa6U\\xb9\\xe63_IXN\\xeb(O$\\x81\\xec\\xacewm8\\xf8\\x8d&\\xd4y\\xd6\\xbe\\x0b\\xff\\x00\\x86\\xa8Z,5\\xc4)\\x85!iB\\x90NiZB\\x81\\xf4\\x1c\\xabV\\x04\\xe4\\xb7l\\x7f\\xd1\\xad?\\xdd\\xd1\\xf8S\\xa0xf\\xd7\\xfe\\xabi\\xfe\\xee\\x8f\\xc2\\x94U1k\\xff\\x00U\\xb4\\xff\\x00wG\\xe1R\\xd1l\\x92\\x84\\xbc\\x10\\xdbhBD\\xc2P\\x90\\x91\\xea\\x15_\\n7\\xf6C\\xe4=&\\xb1J\\x9eaA`B\\x8cx\\xd7\\xcc}T\\xa4G\\xa3\\xbe\\x96h\\xc8\\xef\\xf5R\\xc8\\x84~\\xe2\\x99\\x05*if\\x8a\\x93\\x15h\\x0e\\x91\\xbe\\x87\\x11\\xf5\\x9bZ}i\"\\x9d\\n\\xe2\\x9b2<\\x91\\x90N\\x89\\x00\\xd7\\xa7\\x17\\x9f!\\x87\\xf1\\xa7\\xb8\\x1fh\\xad\\xb2\\x19\\xef\\x06\\xa9\\xe4\\x16F\\x91\\xdfJ:\\x12\\x0f\\x85\\x1e\\x88\\xd5F\\xe9\\x02\\x01\\x8f\\x851\"a\\x92m\\xcc\\xf7\\xe5\\xea\\xa3z\\xa97M4\\xa6{\\xa2\\x11\\x07J\\x97,;\\xb2s\\xf8PM\\x073\\xdcr\\xa6\\xc1\\x0e\\xde\\xf9\\x08\\xfa[\\xf3\\xec\\xaa\\xf9HWQ\\xba\\xf8\\xcf<\\xabx\\xee\\xd8\\xc6~6\\xfaP+\\x9bq\\xe7v\\xac\\xfc\\xa5\\xb0\\xfb+\\xff\\x00\\x86\\x98\\x9a\\x9c\\x1a\\xdc\\x1bi:\\x92kI\\xb3K\\x02*\\x07\\x86\\x05H\\xe2\\xc8\\x8a\\x90v\\xa9\\x02\\xe0\\xf8V\\xaf\\x80\\xdfY\\x8f\\x9b\\xa7\\xd3\\xef\\xaeyy*a}\\xa7C\\xad\\xa7u\\xb7\\x80t\\x0eS\\xa8\\xf4\\x19\\x15\\xf3p\\xbd\\xf2e\\x1fW9\\xdbn>\\xc9l\\xf2\\xad\\xe9\\x8d\\xa5&\\x7f\\xfe\\xd3\\xa6vti\\xddN\\x99\\xd8\\x89\\x03.}\\xf5\\x01\\x122\\xa8%Zf\\xfa\\x01\\xe2b\\x90\\xe2Kt\\x94\\xa0\\xa0}\\x15\\x11\\xed\"\\xbd8\\xbc\\xf4T\\x8e\\xd3\\xbd\\xe8\\xf8\\x8a\\xd5\\x01\\xf1?\\x0c\\xea\\xf4\\x022\\x99q\\xb0\\xa3\\x91P\\x07\\xd7LF\\xc7h\\xeb\\x00\\xd1\\xce\\x89\\xaa\\x19+1\\xa7\\xae\\x99\\xb1b.\\x10>lfu3\\xec\\xa2\\x9f\\t\\xaa\\xcf\\x80\\x9a\\xa2c)\\x0b+\\x92rmJ\\xc8q\\x15\\xaa\\xc9\\x93\\xdec\\x85\\x04\\xc1\\xa9\\x9dj\\xe3C\\xc9\\xff\\x00D\\xf8\\xf2\\xaa\\x94;\\x82\\x07Zb@ \\xf1\\xd2Ek\\x1b\\xccg)\\xc5}(B\\x82\\xd2\\x14\\x92\\nH\\x90Eb\\xb4\\xf3\\x9bV\\xaf\\x9c[\\x8c\\xbfF\\xafx\\xadO\\t\\x1b\\x07\\x1f4O\\x89\\xa86B\\xa4\"iDUI\\x1e\\xdf\\xf5\\x85\\x9e\\xea\\xd5\\x11\\xbc\\xb4\\xca\\xdd\\x1e\\x15\\xca\\xf9iQ\\xb8\\xa6\\xee\\x91\\xe5L\\x14\\x96\\xddH})I\\x90\\x8d\\xec\\x96\\x9fB\\x87\\xa8\\xd7\\xca\\xf8{&\\xf1\\xf4\\xf3\\xff\\x00\\xaf\\xd2\\xbe\\xa6yw\\xe3\\x8es\\xedNhG\\n\\xf58\\x8e\\x92\\x07\\xe3P<p5\\x01\\x13\\xcb\\x9dH\\xf9\\xd3\\x85B\\xa5Y\\xe5t\\xc7\\xdfO\\xbcT\\x1cX\\xfb}]\\xfd\\xdbzn\\xbe\\xea}N+\\xf0\\xafF/=8!\"u\\x1b\\xc2\\t\\x9a\\xde\\x99\\x00\\x00bL\\xf7N\\x95z#\\x9b -$\\xf0P\\x9c\\xfb\\xea\\xda9\\x13\\xd6(\\x89\\x8c\\xe0\\xd5\\xe8v\\x12\\x84\\x03\\xce\\r1TL*z\\x85x\\xf1\\xf4P-\\xa9\\xba\\xf01TEh\\x80U$\\x89m@x\\x91\\xa5H2Ng\\xbeM$\\xc9\\x1b\\xdf\\x8d\\x01\"\\xd9\\x92\\xf3\\xed6Nn/vu\\x8c\\xb5\\xa5 \\xdf\\xb4Z\\xba\\xb9iA9,$\\x94\\xcck\\xdfN\\xfc3g\\x0f\\xa2\\xb8\\x1b\\xfdv\\x15lbJQ\\xd5\\xab\\xc59|*\\xbeV>\\x1a\\x8d\\xaa \\xde\\xb5\\xcc2}\\xf44f\\x12>h\\x8aS`\\x9a\\x81\\xe2\\x94E\\xe9J\\x02\\xdb7WU\\x11\\xbd\\xb7\\xc9\\x86\\xfe\\xe8\\xacV\\x94\\xa6\\t\\x81\\xe3\\x18\\x1d\\x8c\\xe3X\\xca\\xb1;\\x8cE\\xa4\\xba\\x94\\xa5\\xa0\\xd3l%9\\x90\\x94\\x8dw\\x81\\x19\\xf7W\\x8aI\\xbe&\\x9e\\xd9\\xa95\\x13\\xd0x\\x8a\\xd2\\x14\\x11\\xe8\\xa8QS\\xc3\\x95@D\\xe8hT@3\\xa4\\x0fk\\x95\\xcb\\'\\xed\\xa7\\xde*N5\\xc6\\xd3\\xd4\\xed\\x16.\\xd8>m\\xed\\xc7\\xa3\\xe5U^\\x8cf\\xdez\\x02Vw\\xd5\\x07 \\x92D\\xd6\\xb9\\xd3!\\x8d\\xe0\\x02\\x88;\\xa6`\\xf8TH\\x14&3\\x1cj\\x80\\xbb\\xc2D\\xf0\\xca\\xaf+\\xecE\\xa8n\\x1eziL(XQ\\x1eL\\xb8#%\\x1e\\x11\\xca\\x8b\\x12f\\xfac\\xbc\\xf3\\xaa\\x06o\\x89\\xd4U\\xa5\\xeaBF\\xf6\\xb5z5)\\x92\\x04\\x9c\\xb9kK\\'\\xb6V!i\\x82\\x12|b\\x82\\x88\\xf3\\x8b~\\xedkZ\\xb7\\x96\\xa7\\x11$\\xeb\\xe7S4\\xce\\\\\\xc7|l\\xbe\"\\x94\\x8b\\x9bu\\xa8\\xa7u\\xdd\\xe4\\xe5\"\\x08\\xcf\\xddU\\xbag\\x1f\\x07\\xed\\x0b\\xa5\\xcb\\xa6\\xca\\x88\\x90\\xc8\\x98\\xe7&\\x96\\xe0\\xb8_\\xea\\xa8\\xa9\\'\\x03P8\\x1aQ\\xae\\x1c\\xa9@\\xda\\x9e\\xda\\xcdTF\\xf5\\x89\\xea[\\xd7\\xcd\\x15\\x8a\\xd2\\x84\\xc2\\xf1\\x9ca\\xfcQ\\xb5\\xb5\\xb2\\x0cavE_(\\xfe!\\x88\\x07_\\xdc:\\xee4\\x89\\t=\\xc4\\xc5p\\xb5\\xeb\\x9e\\xcd\\xebr+\\x14\\x8e\\x91\\xdf\\xe3T\\x03 T\\x86@\\x11\\x1c(B\\'\\xbb:\\x83\\xcf\\xe3\\x1bk\\x81\\xe1\\x08\\xbc&\\xfd\\x87\\xef\\xed$y\\x1a\\t\\xdfS\\x83D\\xe9\\x1a\\xc4\\xe7F\\xe6\\xf4\\xdf\\xcb\\xcf[\\xd3\\x941\\'\\xdd\\x7f\\x1c\\xc4\\x1d\\xb9HK\\xef\\\\:\\xeb\\x81\"\\x00R\\x94U\\x90\\xe5\\x9eU\\xe9\\xc6\\xcfG\\x939e\\xd51\\x0b\\x1db\\x8e\\x87t\\xfb\\xab@\\xce\\xb0\\xf9\\xb2bI\\xf6T\\t\\xbd\\x97x\\xcef\\x9e\\x16\\x8e\\x90r\\x91=\\xf5z\\x1f\\xa1\\x15\\xa1\\xf3}\\xf4*\\x85\\x85\\x91\\xe4\\xebH\\x8f8\\xf1\\xf0\\xab\\xc2\\xd2l\\xaa;$\\x0fN\\xb5x\\xf2\\x08I\\xe1\\x07\\xd3R=\\xd6\\xd6\\xcb\\x85.\\x00\\x95@>p:\\x89\\xa3\\xc4!O\\xa3=\\x01\\x02\\xa8\\x8b\\xbcBs%):\\xe7N\\xd2+pn\\x80\\xe6\\xfbc^j\\xa7\\xd4d\\xed\\x1c.\\xe8\\xa7\\x11u\\x06HZT\"s$f#1\\x9eU\\x9c\\xfc3\\x87\\x15\\xb6}\\xe2u^\\xff\\x00d\\t\\x19s\\xe1V\\x1e\\x1b\\xad\\xc6\\x1a\\xbf\\x9a\\xb7\\xe1[\\t\\xa1u\\x03\\xc2\\xeaF8\\xac\\xa9AZ*B\\xe9\\xa27\\xc9 %;\\xc9\\x9c\\x84@\\xee\\xac\\xe8\\xa9\\xd4\\'J\\xf3=\\xa9H\\x12$\\x9a\\x10\\xa9<*\\xd0\\x199\\x19\\xa1\\n\\x93\\x1e\\x14&\\x93m\\xf1\\xa70\\r\\x96\\xbd\\xc4-\\xc4\\xbe\\x9d\\xd6\\x9bTN\\xe2\\x96wB\\xa3\\x8cL\\xd5\\xcd\\xe25\\x84\\x97.T5\\xb5\\xf5\\x8a|\\xa3\\xcb\\xad\\x97z\\\\l\\xa5\\x1b\\xce\\xad\\xa2\\xdb\\x93!\\xc9O\\x9cgPr5\\x9f\\x95\\x93\\xd9l\\xcb\\xd5\\xa0\\xbe\\xc3\\xad\\xae\\x9cS\\xab=\\xb0\\t\\xdeAR\\x15\\xa4\\xc4\\x8aq\\xc7\\xa9<Q\\x94\\xe9\\xe7?4xV\\xaf\\x9e\\xdfq]z\\xd2\\x81;\\xa9Q\\xde\\xe7\\x02k\\xd7~\\xaf\\x95d\\xdd\\xd3\\xd24\\xf5\\x9b\\xac\\xa1Av\\xe5gwx\\x15\\xc7\\x0c\\xeb\\xa7\\x0e7ab\\xeai\\xab\\x12\\xf5\\xab\\x88\\x0e\\x85\\xa4y\\xc1B\\x0e\\xb9Q\\xae\\x0c\\xbe\\xa8\\x8d]!HN\\xf1nr\\xe03\\xac\\xfd\\xcf;=\\xbb\\x9bu\\x12\\\\S`D\\x83\\xdfL\\x90n\\xb1\\xb5Y\\xb0\\x92\\x19RwI\\xccoS\\xc2\\x96\\x8d\\xd7Z\\xe5\\xdb\\x13\\xcfx\\n$[\\xafe\\x87`{\\x13u\\x87\\xd8\\xbds\\xb6\\xe6\\xce\\xe9\\xe6P\\xbb\\x8bw-\\xc7\\xc8\\xac\\xe4\\xa4g\\xacs\\xe2+]\\xb8\\xaf\\xcc\\xf2x\\xab6\\x16\\xb7\\xf7\\x8cY\\xdd\\xb5{n\\xcb\\xebm\\xab\\x84\\r\\xd4\\xbc\\x80`,\\t\\xcaFqY\\xed\\x86T\\x15\\xad\\x9d\\xe5nIH\\xe2x\\xd5\\xa1)\\x1ePi\\xe2\\x87\\x1b(XHT\\x13\\x9c\\x11 \\xeb\\xca\\rMr\\xf7=\\x10\\xd8a\\xd7X\\xcb\\x8b\\xbc\\xb4n\\xe5\\xd4\\x92P]\\x1b\\xc1\\n\\x02A\\x00\\xe5>4[\\xe8\\xc5^\\xcd]\\x16\\x1di\\xd9\\xcd*\\x06u\\xe3U\\x9b\\x8ayzP\\xb5\\x06\\xc9W\\x9d\\xc7\\xc7\\x8dg\\xa7\\xe1\\xd3//C\\x87+\\xe6\\xad\\xe7\\xc2\\xb6\\xcabUR\\x11*\\xa5\\x1a\\xea\\xb2\\xa6#,\\xfc\\xd5UDn\\xb7\\xd6\\xa8,\\xac\\x84\\xc4F\\xe09\\xd5\\xa4\\xa9\\x1a\\xcd\"+\\xc8\\xf6\\x8e\\x83\\x9et!:\\xc0\\x06f\\xa4\\xc5]\\xb6\\x8c\\xd4\\xa09\\xd6R\\x03\\xf8\\xfd\\xb2\\x1c\\xea\\xdbQq\\xd3\\xa2\\x1b\\x05J\\xf5\\n<y/)\\xd2\\xb5\\xc6)\\xfeF\\x9e\\xbe\\xc1\\xebk;\\x9b\\xa6\\x9a+z\\x02\\xa4J\\x93\\t\\xd72\\x9e\"\\xbb|>3\\xa9\\x9e\\xab\\x9f[<\\xbaRe\\x14\\xe1\\xce>Qq\\xf7Ez\\xbf\\xd3\\xcfw\\t\\xf1\\xd9{\\x13t\\x91\\x1dq\\x19\\x10e\\xb0~5_\\x87\\xfa\\xb5\\xfe\\xbb/f\\xba\\xdb\\x05e\\x84\\xee\\xb7p\\xa2\\x00\\xfaH\\x1f\\x8d7\\xa2\\xf3\\xfc\\xdd\\xa4~nA\\xc8\\xa9\\xa5}\\xe6\\xa8\\xf9W\\xdd|\\xc8\\x1b\\x98C*$\\x84Z\\x85s\\xea\\xa0\\xfb\\xa9\\x9d<\\xbd\\xd7\\xcc\\x94\\xdf\\xcdYD\\xb1\\xea?\\x85_/%\\xdf\\x08\\xac,\\x9e\\x16\\xfe3\\xfe\\x14|\\xbc\\x8f|1XZ\\x8c\\xfc\\x9b\\x06u\\xcf\\xfc)\\xf9y\\x0e\\xe8a\\xc2N\\x7f \\xc1\\xf0X\\xab\\xb3#\\xb9NN\\x14\\x80 \\xdb\\xb6\\x0fr\\x85W\\x1a\\xbb\\xa0\\x0e\\xe1R\\xac\\xad\\xd1\\xaf\\xd6\\x15vS\\xdd\\x03V\\x14G\\xfa8\\x8e\\xe5\\x0f\\xc6\\x8e\\xdb\\xeb\\x19\\xee\\x9e\\x86\\x8c(\\x05\\x93\\xe4\\xc7\\xc6r\\xf7\\xd5\\xdbZ\\xef{\\r\\x86\\x16\\xd8u\\xe2\\x0b\\xabE\\xb0\\x99R\\x94\\xbd\\xdfmf\\xe3}\\x86\\xfe\\xab\\x16\\xf3\\x13\\xb0U\\xbb\\x89g\\x17\\xb6*\\xdd;\\xb1v5\\xe1\\xc6\\xa9/\\xb2\\xf2\\xb7n\\xee-\\xae\\xecm1\\x0bd\\xb6\\xdb\\x17\\x96\\x8c\\xdd\\'p\\xf6{i\\x9c\\xa8\\x93\\\\:K\\xb9\\xb6\\xca\\xc9`[7\\x1fTT\\x92\\xc3\\x82\\xa0\"\\x1c\\x14\\xa3\\x1dX\\xdd1J>\\xc0\\xf6\\x0f\\x8dU&\\xb7r\\xad\\xd9\\x0bL\\x1e\\'9\\xa0*g1\\x06Xl\\x95\\xad)\\x81\\xa91^{\\x1e\\xcd\\xb5\\xbf\\xe5\\x07\\x958[\\xc3-\\xdf\\xbdp\\x1d\\x18A_\\xac\\xe8=u\\x9bd2Z\\x9fm\\x86m\\x06!\\x9b\\xaa\\xb6\\xc3[<\\x1cWZ\\xe7\\xfb)\\xcb\\xd6k\\x17?f\\xbb\\x1b{=\\x91\\xb1J\\x82\\xf1\\x0b\\x8b\\xbb\\xf5\\xf1\\x0b_V\\xdf\\xfb)\\xf8\\x9a\\xcd\\xb6\\xb51\\x91\\xe9,m\\xad\\xec\\x9b\\xdc\\xb2\\xb6f\\xd9\\x1c\\x9a@L\\xfax\\xd6t^\\x17\\xa7\\x94\\xcfG\\xbb\\xe7=\\xccB\\xdd^\\xbd\\xe1\\xf1\\xafO\\xc2~\\xf1\\xe5\\xf8\\xbf\\xdd\\xb9\\xe6u\\xe0\"\\xbe\\x93\\xe7\\x14\\x1f\\x0f\\x0eT\\x89tp\\'_\\x8d\\x06\\x1c\\x0epO\\xb2\\xa4t\\xcf\\x1f\\n\\xb4Xg\\x85D\\x84\\x98\\x9c\\xc7\\xa6\\xa0BH\\xa8\\x10\\x9c\\x8dD\\xc9\\xce8\\xd4u\\xeaI\\xf5\\xd0vf\\xb9\\x8a\\x845Yhc\\x84T\\xb6\\x90\\xd6\\x1a\\xe3\\xb8{\\x97n]Z2\\x95Jm\\x9b=\\xb58\\xb1\\xae\\xf4y\\xa3\\\\\\xf3\\x88\\xcf\\xbf\\x86}~\\xdc\\xb5#\\xbe=\\x1e\\xe9\\xdd\\xb6\\xb1\\xc8\\tY\\xddI \\x1d3\\x1e\\x83\\xcb\\xbe\\xbb\\xe3w%p\\xb3WN\\xab#\\xf3/D8&7v\\x10l,0;\\'\\x1cJ;K\\x84\\xb6\\x99\\x84\\x98\\x073\\xccW\\x9b9\\xbc\\xab\\xbfN\\xeb\\x18\\xf6\\x168U\\xea\\xadZq\\xb2\\xce\\xe3\\x89\\x0e\\tp\\xcc+>#\\xbe\\xb38\\xe1\\xae\\xed\\xf2\\x960\\xab\\xeeM\\x1f\\xfb\\xcav\\x8e\\x18]\\xef\\xd5G\\xa1b\\xae\\xe4\\x05\\xdd\\x8d\\xdd\\xbd\\xbb\\x8f\\xba\\x81\\xd56\\x92\\xb5\\x90\\xa0`\\x0c\\xc9\\x8afKO+\\xb2\\x18\\xdd\\x95\\xd0\\xb9\\xc5[\\xda?-\\xc3\\xafR|\\x91\\x0baL\\xa5\\x00\\x13\\x98\\xde\\x00\\x93\\xa8\\x9e M\\x17,g\\x0b\\x9a}\\xb6(\\xe2\\x1a\\tN\\xf2\\xe3\\x8c\\xcf\\xb5\"\\x0f\\x8dq\\xef\\xad\\xf6\\xc7\\x9e\\xb7\\xd9\\xfc1\\x95%n0n\\xdd\\x99\\xdf\\xb9Q^~\\x1a{+\\x85\\xce\\xe4\\xf6Ldo\\xd8X-\\x04 \\x04$e\\xb8\\x91\\x00z\\x05e\\xa4\\x86\\xcc\\x1a\\x82b\\x15 T\\x92\\x1b4\\'\\x87\\xe9\\xc0\\x05ti~~\\xa5\\xcd\\xb2\\xff\\x00\\xac\\x03\\xe3^\\x8f\\x85\\xbf\\xee\\xcf\\xd7\\xfa<\\xff\\x00\\x15?\\xdb\\xb5\\xce\\x13\\xcf\\xdf_Q\\xf2\\xfd\\x0e\\x1aiQ\\xd1\\xe3N4\\x1dh\\xe8\\xce8x\\xd5\\xb5\\x0e\\x139MGLW\\x85H\\xd5P\\xa9\\x84\\xf2\\xe3HaV\\xbd\\xd5\\x1d\\xd3w\\xa0\\xe9\\xfe5X\\xa1\\t\\xcb*\\t\\xa7>\\xf1P\\xfb\\x1aj \\xba\\x94\\xab\\xceJO\\x88\\xce\\xaf\"\\xda\\x0b\\xf9\\xb4\\xe0\\xd3\\xb2}\\xc6\\x91\\xe2:\\x1b\\xa4}\\xace\\x8f\\xc9\\xcdVO[-\\xb5\\xb9\\x85ZZ!A`\\x82\\xa2\\x11\\xdd\\xc8\\x13^Kw\\x95z0\\xf1\"\\xdd\\xd9\\xfd\\xa3f\\xfd\\xcb+T[8\\xdfYn\\x95%eiRd \\x18\\xe7\\xa4\\xe7\\xddY\\x97fp\\xf4At\\xa2\\x85\\xf1\\x00\\x93\\xc8q\\xa0\\xbc>\\xd5m\\xe6\\x1do\\xb1\\xf8\\xc5\\xd3\\xcc]\\xb4\\x13f\\xe9\\x95\\x04dJH\\x1a+\\x99\\x15K\\xce\\x8c\\xf2\\xd2\\xf4\\'\\x8b\\xe1\\xaete\\xb1\\xf8U\\xd5\\xba\\xd6\\xa5Z\\x84\\x02\\xe3i[{\\xd2\\xae3\"N\\x99q\\xa2\\xd9\\xbd3<=\\xbb\\xfb/\\x86\\xb8\\xb0[7,$\\x08\\xdci\\xd2\\x12=\\x04\\x1a.\\x11\\xbd\\xd79tw\\xd2cx\\x92\\xd9\\xc2\\xb6\\x99\\xd6\\xd8\\xc4\\x15\\x08f\\xf9P\\x86\\xae\\x0f\\x04\\xb9\\xc1\\x0b<\\xfc\\xd5w\\x1dy\\xe7\\xd2\\xd78\\xbd8u{\\xb8\\xbeV\\xbaB\\xd9Y\\x0e%A@\\xc1\\x04i\\\\]S\\x13\\x04\\x024\\xa1$2\\xbe\\x06\\xa4\\x98\\xca\\x16\\xac\\xc2Ls9T\\x9eG\\xa6F\\t\\xe8\\xc7\\x1cQVh\\x0c\\xae\\x00\\xe4\\xf2+\\xb7\\xc3\\xfe\\xf7\\x17\\x0f\\x89\\xfd\\xd5s9\\x1e\\xff\\x00\\x1a\\xfa\\xaf\\x95\\xa3\\xc2r\\x102\\xa1\\xae\\x04\\t\\xf1\\xa3d\\xe0\\x90\\x0esJ\\xd1c\\x9eT&NS\\x99\\xa8\\x84\\xb3\\x94zj\\x17\\x98\\x1a\\x8c\\x1dMh\\x1aU\\xacQ\\xa4@}DgU0\\xa0\\xf2\\xcf\\xc2\\x83\\xb6\\x03\"\\x8b\\xc9\\x84?\\nF\\x83sOeCH\\xd7=\\x86\\x1dV\\xe80\\x82c\\x9eT\\xab\\x1d7\\x8atk\\xf9\\xdfd\\xadp\\xcb\\xfd\\xa2\\xbbU\\x9b\\x8c2J\\x05\\x93;\\xc9\\x84\\xa4\\xa4\\x05e\\xa6\\\\+\\xc3k\\xd51\\xe1\\xeb\\xb0\\x9d\\x99\\xbe\\xb2\\xbe\\xb1\\xb8\\xfc\\xfe\\x87\\x11n\\xe2T[\\xfc\\xdc\\x84\\x17\\x12\\x04n\\xef\\x05\\xe5#\\x88\\x14\\r=\\x9f^)\\xd9\\xd1\\xe9{9\\x1a\\x8a\\xb6\\xb4\\xf0\\x1bY\\xb0W\\x18\\xd38\\xa5\\xbbX\\xc5\\xb5\\xb5\\x8d\\xe8P\\r*\\xc9KSAZ\\x80\\xa0\\xb0\\x0ert\\xac\\xdb\\xce\\xda\\x98\\xa2`]\\x1c\\xe2\\xb86\\x03g\\x86\\xd8c\\x18j\\xd3j\\xd0m\\xb7Wd\\xe2U \\xc8Q\\x01\\xc8\\x99\\xaa\\r-\\x16C\\x9dK}yB\\x9e\\xdd\\x1b\\xe5\\x00\\x84\\x95Fq\\xdd4\\xad>m\\xbdz\\xd9J\\x86JI\\x99\\x11\\xaduai\\xf4_\\xd2\\xeb\\x98:Y\\xc2\\xb6\\xa5\\xc7np\\x84\\xc2\\x19\\xbc\\x82\\xb7\\xac\\xc7\\x00\\xae.6?\\xdaH\\xd2FU\\xc7\\xa9\\xd3\\xdf8\\xbd=>\\xb7\\xa6N\\x98\\xc3\\xedZ\\xb9\\xb4f\\xe5\\xab\\x96.-\\x9eHq\\xa7XPZ\\x1cI\\xd1IP\\xc8\\x83^[\\xb8\\xf4&4\\xcbM\\x1f\\x93F|\\xcef\\xa44\\xd5\\xa4\\xf2}+\\xb7\\xd6tk\\xb4i\\xe5k\\xbd\\xeaZO\\xc2\\xbat8\\xeab\\xe3\\xd7\\xfd\\xdds\\tl\\xefO}}W\\xcc\\x90\\xe0\\x8c\\xb2\\xe1\\xa5\\x06rp\\xc8\\xfe\\xf9\\xd0X\\x06|\\xeb[\\xe1h\\xe3\\x90\\x99\\x81\\xef\\xa1SN\\xa7\\x9f\\xbe\\x94\\x12\\xb4\\x1aT\\x02)\\xe1N\\xc1\\nr9\\x1f][V\\x1b\\xc7I\\xa2\\xa2\\x93\\xc0\\x1a\\x1a\\x8c\\xe6EJ0\\xf7\\xebR1GL\\xfdu\\x00.RUn\\xe8\\xe6\\x93V\\xfdN\\x9d\\x9a\\xab\\x82\\x86m\\xd1\\xc1-6\\x9fR@\\xaf\\x9f\\xb7\\xb6D\\xc6\\xae\\xfb\"\\r;\\x1aHj\\xe2|j\\xd8\\xd2[n\\x93\\xce\\x8d\\x9d\\x0c\\xa3)\\xce\\xa8R\\xad\\x89 \\x01\\x99\\xadFj\\xbf\\xdaN\\x9b\\xb6\\x17g\\xf1gp\\xdb\\xccYo\\xdc\\xb3\\x93\\xa6\\xcd\\x85>\\x84+\\x8aJ\\x93\\x96\\xf0\\xe28V\\xb5Wm\\xf5pP$\\x13\\xcf\\xdf]>\\x8eg\\xa5Pu?\\xbf\\n\\x0cX\\xbd\\x15t\\xa7\\x8a\\xec\\x15\\xe0\\xb7!w\\xd8\\x03\\xaa\\xde~\\xc1k\\xf3\\t\\xfam+\\xe8/\\xfa*\\xe3\\xc0\\x8cg\\xd3\\xee\\xe5\\xd7\\x0e\\xa7o\\x1e\\x9f\\xe7\\xf9\\xaf\\xe8\\xeb\\x9d\\x96\\xc7\\xb0\\x9d\\xaa\\xc1Z\\xc5\\xb0\\x0b\\xc4\\xddY8wI\\x88[K\\xe2\\xdb\\x89\\xd5*\\x1c\\x8e\\xba\\x82Fu\\xe5\\xcb\\x1b\\x8d\\xd3\\xd3.\\xdb^\\xac\\xf0\\xac\\x96\\xa7kp\\xc7q}\\x97\\xc5\\xb0\\xc6\\x94\\x86\\xdd\\xbc\\xb6[([\\x93\\xba\\x95\\x1d\\t\\x8c\\xe3*\\xde\\x17\\xb7)}\\x98\\xcf\\x1e\\xeclsV#\\xb2\\xf8\\xd5\\x8d\\xc3\\xad+\\n\\xbc\\x7fp\\x91\\xd6\\xb0\\xc2\\x94\\x85w\\x83\\x03*\\xf7\\xe3\\xd7\\xc7/]<7\\xa3\\x94\\xe1\\xaf^\\x1d\\x88\\xa0\\xfc\\xa6\\x15\\x89\\'\\xc6\\xd5T\\xce\\xae7\\x8d\\xb3\\xd9\\x97\\xb0+b\\xe1\\x1f\\xa4\\xb3\\xbbO\\xdea\\x7f\\x85k\\xe6Ou\\xd9BQ\\xdd\\x9d\\xe4:<[W\\xe1O|\\xa3\\xb2\\xc3\\x0b\\xed\\x82w\\x95\\x1e)#\\xe1N\\xc7i\\xbeP\\xcc\\xfe\\x95\\x1e\\xba\\xa5]\\xba4\\xba\\xd1\\x07\\xe5Q\\xeb\\x15mh\\xde\\xb1\\xb2rq\\x07\\xf9\\xc2\\x9d\\x8d3y\\x04F\\xfa\\x7f\\xda\\x14mh\\xd3\\x13\\xa8\\xcf.umv\\x90\\xf0\\xee\\xef\\xabgFq\\xf6EI\\x84\\xd4\\x08\\xa3\\x96S\\xaf*\\x8e\\xcc#x$\\x123RS\\x9fy\\x8a8\\x89\\xd7\\xf7 \\xf5\\x91\\xcb/ex\\xa3\\xd9\\xb4\\x8bv\\x9c vLw\\xd1\\xb5\\xa6\\xc5\\x86\\xcau\\xf5Q\\xb3\"[d\\x81B\\xd3Q\\xb6\\x1b[\\x82\\xecv\\x17\\xf9\\xc3h\\xef\\xd1h\\xc9\\xc9\\xb6\\xfc\\xe7_<\\x9b@\\xcdG\\xbfA\\xc4\\x8a\\xd4\\x96\\xf8NZ\\xe9;\\xa7,ok\\xc3\\xb8~\\x0f\\xd6`\\xd8\\x12\\xe5%\\xa6\\xd7\\xf2\\xf7\\t\\xff\\x00Z\\xb1\\xa0?Q9g\\x04\\x9a\\xe98b\\xe5\\xaf\\xd9U\\ty)BD&#!\\x11Gn\\xd9\\xbak\\x81\\xd4\\x1a\\xe9\\xb6D\\x07\\x89\\x99\\xab\\x80 \\xe1\\x94\\xe7\\xfb\\xc5\\x17\\x92\\xf4;\\x0f\\xb6\\x18\\xce\\xc5c#\\x12\\xc0n\\x83n\\x10\\x12\\xeb+\\x1b\\xcd\\\\$}\\x07\\x11\\xf4\\x87~DND\\x1a2\\x93)\\xcbXeq\\xae\\xc5\\xe8\\xc7\\xa4\\\\\\x1b\\xa4\\x0c5Na\\xe4Z\\xe2l\\xa3~\\xeb\\x0eu`\\xb8\\xd0\\xd0\\xa9\\'\\xe9\\xb7?Hi\\x94\\x81^l\\xbaw\\x17\\xab\\x1c\\xa5\\x9b\\x9f\\xe7\\xf9\\xfc\\xff\\x00\\x94\\xf6\\x93\\x95a\\xa3w\\x8f\\xd6>\\xba\\xb4\\x99\\xbc~\\xb1\\xa3Kd&u\\x8fH\\xabH\\xd5!\\x07V\\xd0|R)\\xd0\\rV\\xb6\\xca\\xf3\\xad\\xed\\xcf\\x8bI?\\n\\x90+\\xc2\\xb0\\xe5\\xf9\\xf8}\\x92\\xbcXG\\xe1H\\xd4\\xf6\\x01\\xcd\\x9f\\xc1\\x97\\xe7\\xe1\\x18y\\xf1\\xb7G\\xe1N\\xef\\xba\\xed\\xc7\\xd9\\x1d{)\\xb3\\xeb\\xf3\\xf0<0\\xff\\x00\\xe1\\xd3\\xf8U\\xdd\\x97\\xb8\\xed\\xc7\\xd8\\x076\\'e\\xd7\\xe7`\\x18f\\x7f\\xeaE=\\xd9{\\x8e\\xcc}\\x91\\x97\\xd1\\xf6\\xc9/]\\x9f\\xc3\\xe7\\xb9\\x11\\xf1\\xab\\xe6g\\xee\\xbe^\\x1e\\xc8\\xcetm\\xb1\\xca\\x19\\xe0\\x16\\x83\\xc3x|j\\xf9\\x99\\xfb\\x9f\\x95\\x87\\xb22\\xfa.\\xd8\\xe5i\\x824<\\x1cX\\xf8\\xd3\\xf33\\xf7\\x1f+\\x0f`W\\xd1^\\xc7\\x9c\\xbf5\\x11\\xe0\\xfa\\xc7\\xc6\\xaf\\x9b\\x9f\\xb8\\xbd,=\\x80WD\\xbb \\xa8\\xff\\x007\\xbc<.W\\xf8\\xd3\\xf3s\\xf7\\x1f\\'\\x0fd\\x9c/\\xa2\\xdd\\x97\\xb1\\xbcf\\xe1\\x8b7\\n\\xdbPP\\x0e\\xba\\\\N\\\\\\xc1\\xc8\\xd5\\xf3s\\xb3V\\x8f\\x95\\x8c\\xf0\\xf7\\xa6\\xcd\\xa4\\x12R3\\xe6s\\xa7kB\\x04@\\x8a\\tR59\\x00\\x04\\x92r\\x00s5%)\\xd2\\x7fO\\xb8f\\x00^\\xc3v<3\\x8bb\\x89\\x94\\xae\\xedY\\xdb0~\\xcc~\\x90\\xf8v{\\xce\\x95\\xd2a\\xbek9Y\\x8f\\x0e_\\xda\\x0c{\\x13\\xda,U\\xdcK\\x1c\\xbe~\\xfa\\xf9\\xdf9\\xe7\\x95&8\\x04\\x8d\\x12\\x9e\\xe1\\x95t\\x93^\\x1c\\xeeW.kZVbI\\xf1\\xa83x\\xf7eW\\x03\\x90\\xa7<\\xe9V\\x08\\x83R\\x83 I\\xe1\\xeb\\xab{\\xa4\\x873?\\xb8\\xa0&ax\\x85\\xe6\\x15\\x88\\xdb\\xdf\\xe1\\x97.\\xda_[9\\xbe\\xd3\\xed(\\xa5m\\x9e`\\x8e\\xec\\xa3\\x8e\\x95qZ\\xdd\\x97q\\xd5}\\x10\\xf4\\xcfi\\xb5~O\\x83\\xed)b\\xc3hL!\\xb7rC\\x17\\xa7\\x84pC\\x87\\xea\\xe8O\\x9b\\x13\\xbb\\\\3\\xe9\\xeb\\x98\\xef\\x86}\\xde\\'\\xf9\\xf4\\xff\\x007\\xfd\\xad\\xe5\\x12\\x92A\\x04\\x10`\\xcf:\\xe4\\xe9+\\x02\\xaaE\\n\\xa93z\\x94Y\\xa1\\x15\"H\\x03S\\x95I]\\xe2=,`\\xd6\\x18\\xb5\\xe5\\x8b\\x98~\"\\xe8\\xb6yL\\x97\\x99Se+)0H\\x04\\x83\\x13\"\\xbaN\\x9d\\xd6\\xc6\\xe4\\xf3Nk\\xa5\\xbd\\x99\\\\u\\x8db\\xec\\xfd\\xebP\\xaf\\xec\\xa8\\xd5\\xf2\\xb2;\\x9e\\xe9mt\\xa1\\xb2\\x0e\\t8\\x9b\\xed~\\xd6\\xcd\\xd1\\xee\\x06\\x8f\\x97\\x97\\xb2\\xe3\\xdd-\\xae\\x906E\\xd3\\t\\xda\\x1b\\x14\\xfd\\xfd\\xf4{\\xd3Gf^\\xcbOAcym\\x88Y\\xb5wap\\xd5\\xcd\\xab\\xa3y\\xb7\\x9aV\\xf2V&2>\\x8a\\xca\\xb3^G\\x8a\\x91\\xa55\\x06n\\nQ\\xc9M!$\\x9c\\xabL<\\xd6\\xddm\\xae\\x03\\xb1\\x18w\\x95\\xed\\r\\xe8ik\\x04\\xb3j\\xdfi\\xf7\\xfe\\xe29}\\xa3\\x03\\xbe\\x99-\\xf0~\\xb5\\xc9\\xfd(\\xf4\\xc7\\x8fm\\xb9v\\xc9\\x92p\\xbc\\x06`Y0\\xbe\\xd3\\xa3\\x9b\\xab\\xd5^\\x19\\'\\xbb\\x8du\\xc7\\x19\\x1c\\xb2\\xcf\\xd2+\\x19\"\\x06U\\xa6\\t0*L9eBd\\x8e4\\x82Nd\\n\\x91RH\\x19\\xe9V\\xc8\\xc0\\xe5\\xa9\\xc8\\xd3\\xb5\\xe8p9\\x899\\x9e\\\\\\xa8\\xf2\\xbc\\x1e\\x95r\\x83\\xc0\\xf7\\xd3\\xa8|\\x94\\x84\\xa90s\\x07,\\xfch\\x0b\\xef\\xa2.\\x9b\\xdd\\xc3\\xc38.\\xdc<\\xbb\\x8b\\x10\\x02\\x18\\xc53[\\xacF[\\xae\\xf1Z>\\xd7\\x9c\\x9f\\xb44\\xe5\\x96\\x1b\\xf0\\xed\\x8fR^/\\xf9\\xfe{\\xff\\x00\\xcf\\xbb\\xa4\\x9a[o2\\xd3\\xcc:\\xd3\\xcc:\\x80\\xe3n\\xb4\\xa0\\xb48\\x82$)*\\x19\\x10y\\x8a\\xe1ev;:\\x91\\xc1&\\x90p\\x15\\x14\\x1d\\xa1\\xc4\\xd3\\x83`8\\x8e$\\xb8\\xf9\\xab\\nq3\\xc5Q\\t\\x1e\\xb2*\\x93|)\\xe5\\xce\\x18\\r\\xba\\\\\\xb2u\\xdb\\x96\\xd0\\xf2\\xddp\\x0e\\xdaA\\x93\\xa9#\\x91\\x92k\\xbeWWPNy\\xa9\\xea\\xc3\\xac\\xdcR\\xfein$\\x9d\\xd2\\x04NYe#\\xf7\\xf1\\xacn\\x9e\\xd8\\x12\\xb0\\x9b.\\xca|\\x9c\\x03\\xbf\\xafX\\xa4\\xc8\\x8d5\\xcbCOu\\x1d\\xb1\\xe7\\xb1f\\x9b\\xb6}]BJ\\x10\\x94\\x95\\x00T\\xa5H\\xe0s\\xf8\\x18\\xae\\xb3u\\x9b9t\\xbe\\xc4Y\\xf9\\x06\\xc6`v\\xc4AE\\x9bd\\xe5\\xc4\\x8d\\xe3\\xef\\xaf/\\x9bkm\\xe0\\xa8RT\\x89V\\xd1\\x1cR\\x1ae\\xc7\\x9eq\\r2\\xdaw\\xd6\\xe3\\x8a\\tJ\\x125$\\x9c\\x80\\xad\\x0f>\\x14GI\\xff\\x00\\x94%\\x9d\\x87]\\x86\\xec E\\xe5\\xd8\\x94\\xaf\\x13u2\\xd3|\\xfa\\xa4\\x9f<\\xfd\\xa3\\x97\\x8dt\\x98z\\xd7<\\xb2\\x98\\xf1\\xe6\\xb9\\x9f\\x17\\xc4\\xef\\xb1\\x8cE\\xeb\\xfcV\\xed\\xfb\\xcb\\xd7\\x8e\\xf3\\x8f>\\xbd\\xe5+\\xd7\\xc3\\xbbJ\\xe8\\xe5\\x95\\xb7\\xca\\x191\\xca\\x9d3HO/E\\x0b\\xcb5\\xf4\\xd3\\xb2\\xcc\\xa2(L\\x03.5\\x06\\x11\\x9e\\x82\\xa2v\\xa3\\\\\\xb9\\x11\\xad^\\x17\\x92\\x82f\\x91\\xb3\\xc2\\xb4\\xe5O\\x88}O&39\\x1e&(\\x9c\\xf0\\xb8\\x85\\n\\x10g\\xd1Z\\x02\\xcc\\x80s\\xcf\\x89\\x14iJ\\xb1\\xfa(\\xe9W\\x13\\xd8G\\xd1f\\xea\\x17\\x88l\\xfa\\xd6K\\xb6*T\\x16\\x899\\xad\\x95\\x1f5\\\\J|\\xd5q\\x83\\x98\\xc6Xn:\\xe1\\x9e\\xb8\\xae\\xb6\\xd9\\x9c\\x7f\\x0b\\xda|\\x19\\xacW\\x02\\xbcE\\xdd\\x93\\x87t\\xa8d\\xa6\\xd7\\xc5\\x0bN\\xa8P\\xe4|D\\x8c\\xeb\\xcf\\x94\\xb8\\xde]\\xe5\\xdbl(,\\x9a\\x92\\xb2\\xe9\\xdf\\x17M\\xae\\xce\\xd9aiX\\x0e_?\\xd6,O\\xf1m\\xe7\\xedQ\\x1e\\xaa\\xdfNn\\xec^\"\\xa2\\xb4\\xc6\\x1d\\xb7\\xb6C(i\\x05)\\xcc\\x10H3\\xce\\xba\\xdc7\\xc8\\xeeHV>T\\x95\\x85[\\x94\\xa9I\\x03y+\\x06\\x0f8\"\\x08\\xee5v\\x1e\\xe8\\x8a\\xde5z\\x84\\xc4\\xb0\\xa1\\xa4)\\xa1\\x1e\\xca{ \\xee\\xa8o)W\\xf7Q\\xb8\\x84\\xb9p\\xb4\\xa0\\x86\\xd3\\xba\\t$&c\\x99\\xa7\\xc4[\\xddu\\xba\\x1aK-\\xa1\\x94\\x8e\\xcbiJ\\x00\\xf0\\x00|+\\xc9\\x1a,R\\x19\\x15\\'\\x8d\\xe9\\x0f\\xa4m\\x9d\\xd8+\\x7f\\xf3\\xc5\\xcf]\\x88)2\\xd6\\x1fnB\\x9e_\"~\\xa2{\\xcf\\xa2kX\\xe3r\\x16\\xccf\\xeb\\x93:L\\xe9Oh6\\xf5\\xf2\\xdd\\xeb\\xa2\\xcf\\tJ\\xb7\\x9a\\xc3\\xad\\xc9\\xea\\xc7\"\\xb3\\xaa\\xd5\\xder\\xe4\\x05w\\xc7\\t\\x8b\\x8e]Kx\\x9cG\\x83:\\xc4\\x8f\\x01N\\xdc\\xf4Br\\xee\\xa50\\xd5\\x05!\\x88\\xcb\\xdbBf\\xbciL\\xe74#\\xa3\\x94Gx\\xa51YLw\\xd0X\\x0eC\\xc6\\xa4\\xc1\\x9e\\xef}H\\xa4\\x91\\x15ED\\'1\\xe1\\xf0\\xad\\nT\\x935\\x1fA\\x87\\x9a=5C9=9\\x8c\\xfb\\xfd\\xd5\\x9b\\xe5=\\xc7B\\xf8\\xe6%\\x83t\\x91\\x827\\x86^9n\\xd6!x\\xd5\\xad\\xdbi\\x82\\x87\\x9b*\\x8d\\xd5$\\xe4u\\xc8\\xea8\\x11F\\xb7\\x8d\\xdb\\xa7J\\xfem;eY(\\x81^gsf\\xa8\\x80\\xba\\xc30\\xfcII\\x18\\x8d\\x8d\\xa5\\xde\\xe8\\x84\\xf5\\xec\\xa5\\xcd\\xd1\\xdd#*\\xb5\\xb0\\x8c\\xae\\x8fvJ\\xe1$\\xbb\\xb3\\xf8|\\xf3C[\\x9e\\xe8\\xa2\\xf1\\xe0W\\x9e\\xc6\\xfa8\\xd96\\x90\\xa55\\x84%\\xb2>\\xab\\xce\\x8fr\\xaa\\xbdL\\xa7\\x8a4\\xab6\\x93g\\xf0\\xcb%+\\xc9\\xad\\xd4\\x8e\\x1f\\xa5Y\\xf7\\x9a\\xd6=\\\\\\xbd\\xcbE\\xb3\\xac6\\xad\\xab\\xc2[)\\x94yc9\\x12~\\xb8\\xad\\xf7[\\x8d1\\xd4\\xce\\xfe\\x91^5\\xcd\\x1a5\\xa9<7MX\\xee%\\xb3\\xbd\\x1d\\xe2X\\x86\\x0bt\\xab[\\xd4$\\x04\\xba\\x94\\xa4\\x94\\xc9\\x00\\xc4\\x83\\x07=kX\\xc9i\\x9e-\\xfa8r\\xee\\xe5\\xfb\\xc7\\xdc\\xb9\\xbby\\xc7\\xee\\x1e;\\xce:\\xea\\x8a\\x96\\xb2Fd\\x93\\x99\\xafC\\xc7\\xbb\\x95\\xdd\\x05Z\\xa4w|)\\x04$\\xefPJ<\\xe3\\xdcj\\x88\\x87\\x8d@\\x80\\x9c\\xeaE\\x03\\xb4iLI\\xd7\\xc6\\x844\\r\\xe5e\\xc6\\xb5<\\x1a\\xff\\xd9'"
      ]
     },
     "execution_count": 49,
     "metadata": {},
     "output_type": "execute_result"
    }
   ],
   "source": [
    "image_link.content #This is de binary representation of the image"
   ]
  },
  {
   "cell_type": "code",
   "execution_count": 50,
   "id": "68664bd2",
   "metadata": {},
   "outputs": [],
   "source": [
    "f = open('my_computer_image.jpg', 'wb')"
   ]
  },
  {
   "cell_type": "code",
   "execution_count": 51,
   "id": "363114fd",
   "metadata": {},
   "outputs": [
    {
     "data": {
      "text/plain": [
       "16806"
      ]
     },
     "execution_count": 51,
     "metadata": {},
     "output_type": "execute_result"
    }
   ],
   "source": [
    "f.write(image_link.content)"
   ]
  },
  {
   "cell_type": "code",
   "execution_count": 52,
   "id": "3461f325",
   "metadata": {},
   "outputs": [],
   "source": [
    "f.close()"
   ]
  },
  {
   "cell_type": "code",
   "execution_count": null,
   "id": "a8bb78b2",
   "metadata": {},
   "outputs": [],
   "source": []
  },
  {
   "cell_type": "markdown",
   "id": "2e7d7c49",
   "metadata": {},
   "source": [
    "# GOAL: get the title of every book with a 2 star rating from toscrape.com"
   ]
  },
  {
   "cell_type": "markdown",
   "id": "e4d11f72",
   "metadata": {},
   "source": [
    "##### first check what url sequence its going on when i go from one page to the next"
   ]
  },
  {
   "cell_type": "code",
   "execution_count": 54,
   "id": "0482b860",
   "metadata": {},
   "outputs": [
    {
     "ename": "SyntaxError",
     "evalue": "invalid syntax (1499598659.py, line 1)",
     "output_type": "error",
     "traceback": [
      "\u001b[1;36m  Input \u001b[1;32mIn [54]\u001b[1;36m\u001b[0m\n\u001b[1;33m    http://books.toscrape.com/catalogue/page-1.html\u001b[0m\n\u001b[1;37m         ^\u001b[0m\n\u001b[1;31mSyntaxError\u001b[0m\u001b[1;31m:\u001b[0m invalid syntax\n"
     ]
    }
   ],
   "source": [
    "http://books.toscrape.com/catalogue/page-1.html"
   ]
  },
  {
   "cell_type": "code",
   "execution_count": 1,
   "id": "d2cb7a2a",
   "metadata": {},
   "outputs": [],
   "source": [
    "base_url = 'http://books.toscrape.com/catalogue/page-{}.html'"
   ]
  },
  {
   "cell_type": "code",
   "execution_count": 2,
   "id": "e6ecb215",
   "metadata": {},
   "outputs": [
    {
     "data": {
      "text/plain": [
       "'http://books.toscrape.com/catalogue/page-1.html'"
      ]
     },
     "execution_count": 2,
     "metadata": {},
     "output_type": "execute_result"
    }
   ],
   "source": [
    "page_num = 1\n",
    "base_url.format(page_num)"
   ]
  },
  {
   "cell_type": "code",
   "execution_count": 58,
   "id": "0198910a",
   "metadata": {},
   "outputs": [],
   "source": [
    "# I could iterate through to then scrape each page"
   ]
  },
  {
   "cell_type": "code",
   "execution_count": 5,
   "id": "04b2b1e3",
   "metadata": {},
   "outputs": [],
   "source": [
    "res = requests.get(base_url.format(1))"
   ]
  },
  {
   "cell_type": "code",
   "execution_count": 6,
   "id": "c9decb9f",
   "metadata": {},
   "outputs": [],
   "source": [
    "soup = bs4.BeautifulSoup(res.text, 'lxml')"
   ]
  },
  {
   "cell_type": "code",
   "execution_count": 7,
   "id": "962405f3",
   "metadata": {},
   "outputs": [
    {
     "data": {
      "text/plain": [
       "[<article class=\"product_pod\">\n",
       " <div class=\"image_container\">\n",
       " <a href=\"a-light-in-the-attic_1000/index.html\"><img alt=\"A Light in the Attic\" class=\"thumbnail\" src=\"../media/cache/2c/da/2cdad67c44b002e7ead0cc35693c0e8b.jpg\"/></a>\n",
       " </div>\n",
       " <p class=\"star-rating Three\">\n",
       " <i class=\"icon-star\"></i>\n",
       " <i class=\"icon-star\"></i>\n",
       " <i class=\"icon-star\"></i>\n",
       " <i class=\"icon-star\"></i>\n",
       " <i class=\"icon-star\"></i>\n",
       " </p>\n",
       " <h3><a href=\"a-light-in-the-attic_1000/index.html\" title=\"A Light in the Attic\">A Light in the ...</a></h3>\n",
       " <div class=\"product_price\">\n",
       " <p class=\"price_color\">Â£51.77</p>\n",
       " <p class=\"instock availability\">\n",
       " <i class=\"icon-ok\"></i>\n",
       "     \n",
       "         In stock\n",
       "     \n",
       " </p>\n",
       " <form>\n",
       " <button class=\"btn btn-primary btn-block\" data-loading-text=\"Adding...\" type=\"submit\">Add to basket</button>\n",
       " </form>\n",
       " </div>\n",
       " </article>,\n",
       " <article class=\"product_pod\">\n",
       " <div class=\"image_container\">\n",
       " <a href=\"tipping-the-velvet_999/index.html\"><img alt=\"Tipping the Velvet\" class=\"thumbnail\" src=\"../media/cache/26/0c/260c6ae16bce31c8f8c95daddd9f4a1c.jpg\"/></a>\n",
       " </div>\n",
       " <p class=\"star-rating One\">\n",
       " <i class=\"icon-star\"></i>\n",
       " <i class=\"icon-star\"></i>\n",
       " <i class=\"icon-star\"></i>\n",
       " <i class=\"icon-star\"></i>\n",
       " <i class=\"icon-star\"></i>\n",
       " </p>\n",
       " <h3><a href=\"tipping-the-velvet_999/index.html\" title=\"Tipping the Velvet\">Tipping the Velvet</a></h3>\n",
       " <div class=\"product_price\">\n",
       " <p class=\"price_color\">Â£53.74</p>\n",
       " <p class=\"instock availability\">\n",
       " <i class=\"icon-ok\"></i>\n",
       "     \n",
       "         In stock\n",
       "     \n",
       " </p>\n",
       " <form>\n",
       " <button class=\"btn btn-primary btn-block\" data-loading-text=\"Adding...\" type=\"submit\">Add to basket</button>\n",
       " </form>\n",
       " </div>\n",
       " </article>,\n",
       " <article class=\"product_pod\">\n",
       " <div class=\"image_container\">\n",
       " <a href=\"soumission_998/index.html\"><img alt=\"Soumission\" class=\"thumbnail\" src=\"../media/cache/3e/ef/3eef99c9d9adef34639f510662022830.jpg\"/></a>\n",
       " </div>\n",
       " <p class=\"star-rating One\">\n",
       " <i class=\"icon-star\"></i>\n",
       " <i class=\"icon-star\"></i>\n",
       " <i class=\"icon-star\"></i>\n",
       " <i class=\"icon-star\"></i>\n",
       " <i class=\"icon-star\"></i>\n",
       " </p>\n",
       " <h3><a href=\"soumission_998/index.html\" title=\"Soumission\">Soumission</a></h3>\n",
       " <div class=\"product_price\">\n",
       " <p class=\"price_color\">Â£50.10</p>\n",
       " <p class=\"instock availability\">\n",
       " <i class=\"icon-ok\"></i>\n",
       "     \n",
       "         In stock\n",
       "     \n",
       " </p>\n",
       " <form>\n",
       " <button class=\"btn btn-primary btn-block\" data-loading-text=\"Adding...\" type=\"submit\">Add to basket</button>\n",
       " </form>\n",
       " </div>\n",
       " </article>,\n",
       " <article class=\"product_pod\">\n",
       " <div class=\"image_container\">\n",
       " <a href=\"sharp-objects_997/index.html\"><img alt=\"Sharp Objects\" class=\"thumbnail\" src=\"../media/cache/32/51/3251cf3a3412f53f339e42cac2134093.jpg\"/></a>\n",
       " </div>\n",
       " <p class=\"star-rating Four\">\n",
       " <i class=\"icon-star\"></i>\n",
       " <i class=\"icon-star\"></i>\n",
       " <i class=\"icon-star\"></i>\n",
       " <i class=\"icon-star\"></i>\n",
       " <i class=\"icon-star\"></i>\n",
       " </p>\n",
       " <h3><a href=\"sharp-objects_997/index.html\" title=\"Sharp Objects\">Sharp Objects</a></h3>\n",
       " <div class=\"product_price\">\n",
       " <p class=\"price_color\">Â£47.82</p>\n",
       " <p class=\"instock availability\">\n",
       " <i class=\"icon-ok\"></i>\n",
       "     \n",
       "         In stock\n",
       "     \n",
       " </p>\n",
       " <form>\n",
       " <button class=\"btn btn-primary btn-block\" data-loading-text=\"Adding...\" type=\"submit\">Add to basket</button>\n",
       " </form>\n",
       " </div>\n",
       " </article>,\n",
       " <article class=\"product_pod\">\n",
       " <div class=\"image_container\">\n",
       " <a href=\"sapiens-a-brief-history-of-humankind_996/index.html\"><img alt=\"Sapiens: A Brief History of Humankind\" class=\"thumbnail\" src=\"../media/cache/be/a5/bea5697f2534a2f86a3ef27b5a8c12a6.jpg\"/></a>\n",
       " </div>\n",
       " <p class=\"star-rating Five\">\n",
       " <i class=\"icon-star\"></i>\n",
       " <i class=\"icon-star\"></i>\n",
       " <i class=\"icon-star\"></i>\n",
       " <i class=\"icon-star\"></i>\n",
       " <i class=\"icon-star\"></i>\n",
       " </p>\n",
       " <h3><a href=\"sapiens-a-brief-history-of-humankind_996/index.html\" title=\"Sapiens: A Brief History of Humankind\">Sapiens: A Brief History ...</a></h3>\n",
       " <div class=\"product_price\">\n",
       " <p class=\"price_color\">Â£54.23</p>\n",
       " <p class=\"instock availability\">\n",
       " <i class=\"icon-ok\"></i>\n",
       "     \n",
       "         In stock\n",
       "     \n",
       " </p>\n",
       " <form>\n",
       " <button class=\"btn btn-primary btn-block\" data-loading-text=\"Adding...\" type=\"submit\">Add to basket</button>\n",
       " </form>\n",
       " </div>\n",
       " </article>,\n",
       " <article class=\"product_pod\">\n",
       " <div class=\"image_container\">\n",
       " <a href=\"the-requiem-red_995/index.html\"><img alt=\"The Requiem Red\" class=\"thumbnail\" src=\"../media/cache/68/33/68339b4c9bc034267e1da611ab3b34f8.jpg\"/></a>\n",
       " </div>\n",
       " <p class=\"star-rating One\">\n",
       " <i class=\"icon-star\"></i>\n",
       " <i class=\"icon-star\"></i>\n",
       " <i class=\"icon-star\"></i>\n",
       " <i class=\"icon-star\"></i>\n",
       " <i class=\"icon-star\"></i>\n",
       " </p>\n",
       " <h3><a href=\"the-requiem-red_995/index.html\" title=\"The Requiem Red\">The Requiem Red</a></h3>\n",
       " <div class=\"product_price\">\n",
       " <p class=\"price_color\">Â£22.65</p>\n",
       " <p class=\"instock availability\">\n",
       " <i class=\"icon-ok\"></i>\n",
       "     \n",
       "         In stock\n",
       "     \n",
       " </p>\n",
       " <form>\n",
       " <button class=\"btn btn-primary btn-block\" data-loading-text=\"Adding...\" type=\"submit\">Add to basket</button>\n",
       " </form>\n",
       " </div>\n",
       " </article>,\n",
       " <article class=\"product_pod\">\n",
       " <div class=\"image_container\">\n",
       " <a href=\"the-dirty-little-secrets-of-getting-your-dream-job_994/index.html\"><img alt=\"The Dirty Little Secrets of Getting Your Dream Job\" class=\"thumbnail\" src=\"../media/cache/92/27/92274a95b7c251fea59a2b8a78275ab4.jpg\"/></a>\n",
       " </div>\n",
       " <p class=\"star-rating Four\">\n",
       " <i class=\"icon-star\"></i>\n",
       " <i class=\"icon-star\"></i>\n",
       " <i class=\"icon-star\"></i>\n",
       " <i class=\"icon-star\"></i>\n",
       " <i class=\"icon-star\"></i>\n",
       " </p>\n",
       " <h3><a href=\"the-dirty-little-secrets-of-getting-your-dream-job_994/index.html\" title=\"The Dirty Little Secrets of Getting Your Dream Job\">The Dirty Little Secrets ...</a></h3>\n",
       " <div class=\"product_price\">\n",
       " <p class=\"price_color\">Â£33.34</p>\n",
       " <p class=\"instock availability\">\n",
       " <i class=\"icon-ok\"></i>\n",
       "     \n",
       "         In stock\n",
       "     \n",
       " </p>\n",
       " <form>\n",
       " <button class=\"btn btn-primary btn-block\" data-loading-text=\"Adding...\" type=\"submit\">Add to basket</button>\n",
       " </form>\n",
       " </div>\n",
       " </article>,\n",
       " <article class=\"product_pod\">\n",
       " <div class=\"image_container\">\n",
       " <a href=\"the-coming-woman-a-novel-based-on-the-life-of-the-infamous-feminist-victoria-woodhull_993/index.html\"><img alt=\"The Coming Woman: A Novel Based on the Life of the Infamous Feminist, Victoria Woodhull\" class=\"thumbnail\" src=\"../media/cache/3d/54/3d54940e57e662c4dd1f3ff00c78cc64.jpg\"/></a>\n",
       " </div>\n",
       " <p class=\"star-rating Three\">\n",
       " <i class=\"icon-star\"></i>\n",
       " <i class=\"icon-star\"></i>\n",
       " <i class=\"icon-star\"></i>\n",
       " <i class=\"icon-star\"></i>\n",
       " <i class=\"icon-star\"></i>\n",
       " </p>\n",
       " <h3><a href=\"the-coming-woman-a-novel-based-on-the-life-of-the-infamous-feminist-victoria-woodhull_993/index.html\" title=\"The Coming Woman: A Novel Based on the Life of the Infamous Feminist, Victoria Woodhull\">The Coming Woman: A ...</a></h3>\n",
       " <div class=\"product_price\">\n",
       " <p class=\"price_color\">Â£17.93</p>\n",
       " <p class=\"instock availability\">\n",
       " <i class=\"icon-ok\"></i>\n",
       "     \n",
       "         In stock\n",
       "     \n",
       " </p>\n",
       " <form>\n",
       " <button class=\"btn btn-primary btn-block\" data-loading-text=\"Adding...\" type=\"submit\">Add to basket</button>\n",
       " </form>\n",
       " </div>\n",
       " </article>,\n",
       " <article class=\"product_pod\">\n",
       " <div class=\"image_container\">\n",
       " <a href=\"the-boys-in-the-boat-nine-americans-and-their-epic-quest-for-gold-at-the-1936-berlin-olympics_992/index.html\"><img alt=\"The Boys in the Boat: Nine Americans and Their Epic Quest for Gold at the 1936 Berlin Olympics\" class=\"thumbnail\" src=\"../media/cache/66/88/66883b91f6804b2323c8369331cb7dd1.jpg\"/></a>\n",
       " </div>\n",
       " <p class=\"star-rating Four\">\n",
       " <i class=\"icon-star\"></i>\n",
       " <i class=\"icon-star\"></i>\n",
       " <i class=\"icon-star\"></i>\n",
       " <i class=\"icon-star\"></i>\n",
       " <i class=\"icon-star\"></i>\n",
       " </p>\n",
       " <h3><a href=\"the-boys-in-the-boat-nine-americans-and-their-epic-quest-for-gold-at-the-1936-berlin-olympics_992/index.html\" title=\"The Boys in the Boat: Nine Americans and Their Epic Quest for Gold at the 1936 Berlin Olympics\">The Boys in the ...</a></h3>\n",
       " <div class=\"product_price\">\n",
       " <p class=\"price_color\">Â£22.60</p>\n",
       " <p class=\"instock availability\">\n",
       " <i class=\"icon-ok\"></i>\n",
       "     \n",
       "         In stock\n",
       "     \n",
       " </p>\n",
       " <form>\n",
       " <button class=\"btn btn-primary btn-block\" data-loading-text=\"Adding...\" type=\"submit\">Add to basket</button>\n",
       " </form>\n",
       " </div>\n",
       " </article>,\n",
       " <article class=\"product_pod\">\n",
       " <div class=\"image_container\">\n",
       " <a href=\"the-black-maria_991/index.html\"><img alt=\"The Black Maria\" class=\"thumbnail\" src=\"../media/cache/58/46/5846057e28022268153beff6d352b06c.jpg\"/></a>\n",
       " </div>\n",
       " <p class=\"star-rating One\">\n",
       " <i class=\"icon-star\"></i>\n",
       " <i class=\"icon-star\"></i>\n",
       " <i class=\"icon-star\"></i>\n",
       " <i class=\"icon-star\"></i>\n",
       " <i class=\"icon-star\"></i>\n",
       " </p>\n",
       " <h3><a href=\"the-black-maria_991/index.html\" title=\"The Black Maria\">The Black Maria</a></h3>\n",
       " <div class=\"product_price\">\n",
       " <p class=\"price_color\">Â£52.15</p>\n",
       " <p class=\"instock availability\">\n",
       " <i class=\"icon-ok\"></i>\n",
       "     \n",
       "         In stock\n",
       "     \n",
       " </p>\n",
       " <form>\n",
       " <button class=\"btn btn-primary btn-block\" data-loading-text=\"Adding...\" type=\"submit\">Add to basket</button>\n",
       " </form>\n",
       " </div>\n",
       " </article>,\n",
       " <article class=\"product_pod\">\n",
       " <div class=\"image_container\">\n",
       " <a href=\"starving-hearts-triangular-trade-trilogy-1_990/index.html\"><img alt=\"Starving Hearts (Triangular Trade Trilogy, #1)\" class=\"thumbnail\" src=\"../media/cache/be/f4/bef44da28c98f905a3ebec0b87be8530.jpg\"/></a>\n",
       " </div>\n",
       " <p class=\"star-rating Two\">\n",
       " <i class=\"icon-star\"></i>\n",
       " <i class=\"icon-star\"></i>\n",
       " <i class=\"icon-star\"></i>\n",
       " <i class=\"icon-star\"></i>\n",
       " <i class=\"icon-star\"></i>\n",
       " </p>\n",
       " <h3><a href=\"starving-hearts-triangular-trade-trilogy-1_990/index.html\" title=\"Starving Hearts (Triangular Trade Trilogy, #1)\">Starving Hearts (Triangular Trade ...</a></h3>\n",
       " <div class=\"product_price\">\n",
       " <p class=\"price_color\">Â£13.99</p>\n",
       " <p class=\"instock availability\">\n",
       " <i class=\"icon-ok\"></i>\n",
       "     \n",
       "         In stock\n",
       "     \n",
       " </p>\n",
       " <form>\n",
       " <button class=\"btn btn-primary btn-block\" data-loading-text=\"Adding...\" type=\"submit\">Add to basket</button>\n",
       " </form>\n",
       " </div>\n",
       " </article>,\n",
       " <article class=\"product_pod\">\n",
       " <div class=\"image_container\">\n",
       " <a href=\"shakespeares-sonnets_989/index.html\"><img alt=\"Shakespeare's Sonnets\" class=\"thumbnail\" src=\"../media/cache/10/48/1048f63d3b5061cd2f424d20b3f9b666.jpg\"/></a>\n",
       " </div>\n",
       " <p class=\"star-rating Four\">\n",
       " <i class=\"icon-star\"></i>\n",
       " <i class=\"icon-star\"></i>\n",
       " <i class=\"icon-star\"></i>\n",
       " <i class=\"icon-star\"></i>\n",
       " <i class=\"icon-star\"></i>\n",
       " </p>\n",
       " <h3><a href=\"shakespeares-sonnets_989/index.html\" title=\"Shakespeare's Sonnets\">Shakespeare's Sonnets</a></h3>\n",
       " <div class=\"product_price\">\n",
       " <p class=\"price_color\">Â£20.66</p>\n",
       " <p class=\"instock availability\">\n",
       " <i class=\"icon-ok\"></i>\n",
       "     \n",
       "         In stock\n",
       "     \n",
       " </p>\n",
       " <form>\n",
       " <button class=\"btn btn-primary btn-block\" data-loading-text=\"Adding...\" type=\"submit\">Add to basket</button>\n",
       " </form>\n",
       " </div>\n",
       " </article>,\n",
       " <article class=\"product_pod\">\n",
       " <div class=\"image_container\">\n",
       " <a href=\"set-me-free_988/index.html\"><img alt=\"Set Me Free\" class=\"thumbnail\" src=\"../media/cache/5b/88/5b88c52633f53cacf162c15f4f823153.jpg\"/></a>\n",
       " </div>\n",
       " <p class=\"star-rating Five\">\n",
       " <i class=\"icon-star\"></i>\n",
       " <i class=\"icon-star\"></i>\n",
       " <i class=\"icon-star\"></i>\n",
       " <i class=\"icon-star\"></i>\n",
       " <i class=\"icon-star\"></i>\n",
       " </p>\n",
       " <h3><a href=\"set-me-free_988/index.html\" title=\"Set Me Free\">Set Me Free</a></h3>\n",
       " <div class=\"product_price\">\n",
       " <p class=\"price_color\">Â£17.46</p>\n",
       " <p class=\"instock availability\">\n",
       " <i class=\"icon-ok\"></i>\n",
       "     \n",
       "         In stock\n",
       "     \n",
       " </p>\n",
       " <form>\n",
       " <button class=\"btn btn-primary btn-block\" data-loading-text=\"Adding...\" type=\"submit\">Add to basket</button>\n",
       " </form>\n",
       " </div>\n",
       " </article>,\n",
       " <article class=\"product_pod\">\n",
       " <div class=\"image_container\">\n",
       " <a href=\"scott-pilgrims-precious-little-life-scott-pilgrim-1_987/index.html\"><img alt=\"Scott Pilgrim's Precious Little Life (Scott Pilgrim #1)\" class=\"thumbnail\" src=\"../media/cache/94/b1/94b1b8b244bce9677c2f29ccc890d4d2.jpg\"/></a>\n",
       " </div>\n",
       " <p class=\"star-rating Five\">\n",
       " <i class=\"icon-star\"></i>\n",
       " <i class=\"icon-star\"></i>\n",
       " <i class=\"icon-star\"></i>\n",
       " <i class=\"icon-star\"></i>\n",
       " <i class=\"icon-star\"></i>\n",
       " </p>\n",
       " <h3><a href=\"scott-pilgrims-precious-little-life-scott-pilgrim-1_987/index.html\" title=\"Scott Pilgrim's Precious Little Life (Scott Pilgrim #1)\">Scott Pilgrim's Precious Little ...</a></h3>\n",
       " <div class=\"product_price\">\n",
       " <p class=\"price_color\">Â£52.29</p>\n",
       " <p class=\"instock availability\">\n",
       " <i class=\"icon-ok\"></i>\n",
       "     \n",
       "         In stock\n",
       "     \n",
       " </p>\n",
       " <form>\n",
       " <button class=\"btn btn-primary btn-block\" data-loading-text=\"Adding...\" type=\"submit\">Add to basket</button>\n",
       " </form>\n",
       " </div>\n",
       " </article>,\n",
       " <article class=\"product_pod\">\n",
       " <div class=\"image_container\">\n",
       " <a href=\"rip-it-up-and-start-again_986/index.html\"><img alt=\"Rip it Up and Start Again\" class=\"thumbnail\" src=\"../media/cache/81/c4/81c4a973364e17d01f217e1188253d5e.jpg\"/></a>\n",
       " </div>\n",
       " <p class=\"star-rating Five\">\n",
       " <i class=\"icon-star\"></i>\n",
       " <i class=\"icon-star\"></i>\n",
       " <i class=\"icon-star\"></i>\n",
       " <i class=\"icon-star\"></i>\n",
       " <i class=\"icon-star\"></i>\n",
       " </p>\n",
       " <h3><a href=\"rip-it-up-and-start-again_986/index.html\" title=\"Rip it Up and Start Again\">Rip it Up and ...</a></h3>\n",
       " <div class=\"product_price\">\n",
       " <p class=\"price_color\">Â£35.02</p>\n",
       " <p class=\"instock availability\">\n",
       " <i class=\"icon-ok\"></i>\n",
       "     \n",
       "         In stock\n",
       "     \n",
       " </p>\n",
       " <form>\n",
       " <button class=\"btn btn-primary btn-block\" data-loading-text=\"Adding...\" type=\"submit\">Add to basket</button>\n",
       " </form>\n",
       " </div>\n",
       " </article>,\n",
       " <article class=\"product_pod\">\n",
       " <div class=\"image_container\">\n",
       " <a href=\"our-band-could-be-your-life-scenes-from-the-american-indie-underground-1981-1991_985/index.html\"><img alt=\"Our Band Could Be Your Life: Scenes from the American Indie Underground, 1981-1991\" class=\"thumbnail\" src=\"../media/cache/54/60/54607fe8945897cdcced0044103b10b6.jpg\"/></a>\n",
       " </div>\n",
       " <p class=\"star-rating Three\">\n",
       " <i class=\"icon-star\"></i>\n",
       " <i class=\"icon-star\"></i>\n",
       " <i class=\"icon-star\"></i>\n",
       " <i class=\"icon-star\"></i>\n",
       " <i class=\"icon-star\"></i>\n",
       " </p>\n",
       " <h3><a href=\"our-band-could-be-your-life-scenes-from-the-american-indie-underground-1981-1991_985/index.html\" title=\"Our Band Could Be Your Life: Scenes from the American Indie Underground, 1981-1991\">Our Band Could Be ...</a></h3>\n",
       " <div class=\"product_price\">\n",
       " <p class=\"price_color\">Â£57.25</p>\n",
       " <p class=\"instock availability\">\n",
       " <i class=\"icon-ok\"></i>\n",
       "     \n",
       "         In stock\n",
       "     \n",
       " </p>\n",
       " <form>\n",
       " <button class=\"btn btn-primary btn-block\" data-loading-text=\"Adding...\" type=\"submit\">Add to basket</button>\n",
       " </form>\n",
       " </div>\n",
       " </article>,\n",
       " <article class=\"product_pod\">\n",
       " <div class=\"image_container\">\n",
       " <a href=\"olio_984/index.html\"><img alt=\"Olio\" class=\"thumbnail\" src=\"../media/cache/55/33/553310a7162dfbc2c6d19a84da0df9e1.jpg\"/></a>\n",
       " </div>\n",
       " <p class=\"star-rating One\">\n",
       " <i class=\"icon-star\"></i>\n",
       " <i class=\"icon-star\"></i>\n",
       " <i class=\"icon-star\"></i>\n",
       " <i class=\"icon-star\"></i>\n",
       " <i class=\"icon-star\"></i>\n",
       " </p>\n",
       " <h3><a href=\"olio_984/index.html\" title=\"Olio\">Olio</a></h3>\n",
       " <div class=\"product_price\">\n",
       " <p class=\"price_color\">Â£23.88</p>\n",
       " <p class=\"instock availability\">\n",
       " <i class=\"icon-ok\"></i>\n",
       "     \n",
       "         In stock\n",
       "     \n",
       " </p>\n",
       " <form>\n",
       " <button class=\"btn btn-primary btn-block\" data-loading-text=\"Adding...\" type=\"submit\">Add to basket</button>\n",
       " </form>\n",
       " </div>\n",
       " </article>,\n",
       " <article class=\"product_pod\">\n",
       " <div class=\"image_container\">\n",
       " <a href=\"mesaerion-the-best-science-fiction-stories-1800-1849_983/index.html\"><img alt=\"Mesaerion: The Best Science Fiction Stories 1800-1849\" class=\"thumbnail\" src=\"../media/cache/09/a3/09a3aef48557576e1a85ba7efea8ecb7.jpg\"/></a>\n",
       " </div>\n",
       " <p class=\"star-rating One\">\n",
       " <i class=\"icon-star\"></i>\n",
       " <i class=\"icon-star\"></i>\n",
       " <i class=\"icon-star\"></i>\n",
       " <i class=\"icon-star\"></i>\n",
       " <i class=\"icon-star\"></i>\n",
       " </p>\n",
       " <h3><a href=\"mesaerion-the-best-science-fiction-stories-1800-1849_983/index.html\" title=\"Mesaerion: The Best Science Fiction Stories 1800-1849\">Mesaerion: The Best Science ...</a></h3>\n",
       " <div class=\"product_price\">\n",
       " <p class=\"price_color\">Â£37.59</p>\n",
       " <p class=\"instock availability\">\n",
       " <i class=\"icon-ok\"></i>\n",
       "     \n",
       "         In stock\n",
       "     \n",
       " </p>\n",
       " <form>\n",
       " <button class=\"btn btn-primary btn-block\" data-loading-text=\"Adding...\" type=\"submit\">Add to basket</button>\n",
       " </form>\n",
       " </div>\n",
       " </article>,\n",
       " <article class=\"product_pod\">\n",
       " <div class=\"image_container\">\n",
       " <a href=\"libertarianism-for-beginners_982/index.html\"><img alt=\"Libertarianism for Beginners\" class=\"thumbnail\" src=\"../media/cache/0b/bc/0bbcd0a6f4bcd81ccb1049a52736406e.jpg\"/></a>\n",
       " </div>\n",
       " <p class=\"star-rating Two\">\n",
       " <i class=\"icon-star\"></i>\n",
       " <i class=\"icon-star\"></i>\n",
       " <i class=\"icon-star\"></i>\n",
       " <i class=\"icon-star\"></i>\n",
       " <i class=\"icon-star\"></i>\n",
       " </p>\n",
       " <h3><a href=\"libertarianism-for-beginners_982/index.html\" title=\"Libertarianism for Beginners\">Libertarianism for Beginners</a></h3>\n",
       " <div class=\"product_price\">\n",
       " <p class=\"price_color\">Â£51.33</p>\n",
       " <p class=\"instock availability\">\n",
       " <i class=\"icon-ok\"></i>\n",
       "     \n",
       "         In stock\n",
       "     \n",
       " </p>\n",
       " <form>\n",
       " <button class=\"btn btn-primary btn-block\" data-loading-text=\"Adding...\" type=\"submit\">Add to basket</button>\n",
       " </form>\n",
       " </div>\n",
       " </article>,\n",
       " <article class=\"product_pod\">\n",
       " <div class=\"image_container\">\n",
       " <a href=\"its-only-the-himalayas_981/index.html\"><img alt=\"It's Only the Himalayas\" class=\"thumbnail\" src=\"../media/cache/27/a5/27a53d0bb95bdd88288eaf66c9230d7e.jpg\"/></a>\n",
       " </div>\n",
       " <p class=\"star-rating Two\">\n",
       " <i class=\"icon-star\"></i>\n",
       " <i class=\"icon-star\"></i>\n",
       " <i class=\"icon-star\"></i>\n",
       " <i class=\"icon-star\"></i>\n",
       " <i class=\"icon-star\"></i>\n",
       " </p>\n",
       " <h3><a href=\"its-only-the-himalayas_981/index.html\" title=\"It's Only the Himalayas\">It's Only the Himalayas</a></h3>\n",
       " <div class=\"product_price\">\n",
       " <p class=\"price_color\">Â£45.17</p>\n",
       " <p class=\"instock availability\">\n",
       " <i class=\"icon-ok\"></i>\n",
       "     \n",
       "         In stock\n",
       "     \n",
       " </p>\n",
       " <form>\n",
       " <button class=\"btn btn-primary btn-block\" data-loading-text=\"Adding...\" type=\"submit\">Add to basket</button>\n",
       " </form>\n",
       " </div>\n",
       " </article>]"
      ]
     },
     "execution_count": 7,
     "metadata": {},
     "output_type": "execute_result"
    }
   ],
   "source": [
    "soup.select('.product_pod')"
   ]
  },
  {
   "cell_type": "code",
   "execution_count": 8,
   "id": "b6f3853b",
   "metadata": {},
   "outputs": [
    {
     "data": {
      "text/plain": [
       "20"
      ]
     },
     "execution_count": 8,
     "metadata": {},
     "output_type": "execute_result"
    }
   ],
   "source": [
    "len(soup.select('.product_pod'))"
   ]
  },
  {
   "cell_type": "code",
   "execution_count": 9,
   "id": "e33b6231",
   "metadata": {},
   "outputs": [],
   "source": [
    "products = soup.select('.product_pod')"
   ]
  },
  {
   "cell_type": "code",
   "execution_count": 10,
   "id": "38031286",
   "metadata": {},
   "outputs": [],
   "source": [
    "example = products[0]"
   ]
  },
  {
   "cell_type": "code",
   "execution_count": 11,
   "id": "821bb668",
   "metadata": {},
   "outputs": [
    {
     "data": {
      "text/plain": [
       "<article class=\"product_pod\">\n",
       "<div class=\"image_container\">\n",
       "<a href=\"a-light-in-the-attic_1000/index.html\"><img alt=\"A Light in the Attic\" class=\"thumbnail\" src=\"../media/cache/2c/da/2cdad67c44b002e7ead0cc35693c0e8b.jpg\"/></a>\n",
       "</div>\n",
       "<p class=\"star-rating Three\">\n",
       "<i class=\"icon-star\"></i>\n",
       "<i class=\"icon-star\"></i>\n",
       "<i class=\"icon-star\"></i>\n",
       "<i class=\"icon-star\"></i>\n",
       "<i class=\"icon-star\"></i>\n",
       "</p>\n",
       "<h3><a href=\"a-light-in-the-attic_1000/index.html\" title=\"A Light in the Attic\">A Light in the ...</a></h3>\n",
       "<div class=\"product_price\">\n",
       "<p class=\"price_color\">Â£51.77</p>\n",
       "<p class=\"instock availability\">\n",
       "<i class=\"icon-ok\"></i>\n",
       "    \n",
       "        In stock\n",
       "    \n",
       "</p>\n",
       "<form>\n",
       "<button class=\"btn btn-primary btn-block\" data-loading-text=\"Adding...\" type=\"submit\">Add to basket</button>\n",
       "</form>\n",
       "</div>\n",
       "</article>"
      ]
     },
     "execution_count": 11,
     "metadata": {},
     "output_type": "execute_result"
    }
   ],
   "source": [
    "example"
   ]
  },
  {
   "cell_type": "code",
   "execution_count": 72,
   "id": "d7b6e6cb",
   "metadata": {},
   "outputs": [],
   "source": [
    "# quick and dirty way"
   ]
  },
  {
   "cell_type": "code",
   "execution_count": 12,
   "id": "bb41f5a5",
   "metadata": {},
   "outputs": [
    {
     "data": {
      "text/plain": [
       "True"
      ]
     },
     "execution_count": 12,
     "metadata": {},
     "output_type": "execute_result"
    }
   ],
   "source": [
    "'star-rating Three' in str(example)"
   ]
  },
  {
   "cell_type": "code",
   "execution_count": 77,
   "id": "c8181d33",
   "metadata": {},
   "outputs": [],
   "source": [
    "# use the bf4 way to return the class and check if it's present"
   ]
  },
  {
   "cell_type": "code",
   "execution_count": 13,
   "id": "8bcfb84a",
   "metadata": {},
   "outputs": [
    {
     "data": {
      "text/plain": [
       "[<p class=\"star-rating Three\">\n",
       " <i class=\"icon-star\"></i>\n",
       " <i class=\"icon-star\"></i>\n",
       " <i class=\"icon-star\"></i>\n",
       " <i class=\"icon-star\"></i>\n",
       " <i class=\"icon-star\"></i>\n",
       " </p>]"
      ]
     },
     "execution_count": 13,
     "metadata": {},
     "output_type": "execute_result"
    }
   ],
   "source": [
    "example.select('.star-rating.Three') #when selecting a class, if it has a space, replace it with a dot"
   ]
  },
  {
   "cell_type": "code",
   "execution_count": 14,
   "id": "b0c04467",
   "metadata": {},
   "outputs": [
    {
     "data": {
      "text/plain": [
       "False"
      ]
     },
     "execution_count": 14,
     "metadata": {},
     "output_type": "execute_result"
    }
   ],
   "source": [
    "[] != example.select('.star-rating.Two')"
   ]
  },
  {
   "cell_type": "code",
   "execution_count": 15,
   "id": "4c10ee8c",
   "metadata": {},
   "outputs": [
    {
     "data": {
      "text/plain": [
       "[<a href=\"a-light-in-the-attic_1000/index.html\"><img alt=\"A Light in the Attic\" class=\"thumbnail\" src=\"../media/cache/2c/da/2cdad67c44b002e7ead0cc35693c0e8b.jpg\"/></a>,\n",
       " <a href=\"a-light-in-the-attic_1000/index.html\" title=\"A Light in the Attic\">A Light in the ...</a>]"
      ]
     },
     "execution_count": 15,
     "metadata": {},
     "output_type": "execute_result"
    }
   ],
   "source": [
    "example.select('a')"
   ]
  },
  {
   "cell_type": "code",
   "execution_count": 16,
   "id": "4a393cb9",
   "metadata": {},
   "outputs": [
    {
     "data": {
      "text/plain": [
       "'A Light in the Attic'"
      ]
     },
     "execution_count": 16,
     "metadata": {},
     "output_type": "execute_result"
    }
   ],
   "source": [
    "example.select('a')[1]['title']"
   ]
  },
  {
   "cell_type": "code",
   "execution_count": 86,
   "id": "9f4ac477",
   "metadata": {},
   "outputs": [],
   "source": [
    "# we can check it like its a dict"
   ]
  },
  {
   "cell_type": "code",
   "execution_count": 17,
   "id": "0f65a2ec",
   "metadata": {},
   "outputs": [],
   "source": [
    "two_star_titles = []\n",
    "\n",
    "for n in range(1,51):\n",
    "    \n",
    "    scrape_url = base_url.format(n)\n",
    "    res = requests.get(scrape_url)\n",
    "    \n",
    "    soup = bs4.BeautifulSoup(res.text, 'lxml')\n",
    "    books = soup.select('.product_pod')\n",
    "    \n",
    "    for book in books:\n",
    "        if len(book.select('.star-rating.Two')) != 0:\n",
    "            book_title = book.select('a')[1]['title']\n",
    "            two_star_titles.append(book_title)"
   ]
  },
  {
   "cell_type": "code",
   "execution_count": 18,
   "id": "1a675ea8",
   "metadata": {},
   "outputs": [
    {
     "name": "stdout",
     "output_type": "stream",
     "text": [
      "['Starving Hearts (Triangular Trade Trilogy, #1)', 'Libertarianism for Beginners', \"It's Only the Himalayas\", 'How Music Works', 'Maude (1883-1993):She Grew Up with the country', \"You can't bury them all: Poems\", 'Reasons to Stay Alive', 'Without Borders (Wanderlove #1)', 'Soul Reader', 'Security', 'Saga, Volume 5 (Saga (Collected Editions) #5)', 'Reskilling America: Learning to Labor in the Twenty-First Century', 'Political Suicide: Missteps, Peccadilloes, Bad Calls, Backroom Hijinx, Sordid Pasts, Rotten Breaks, and Just Plain Dumb Mistakes in the Annals of American Politics', 'Obsidian (Lux #1)', 'My Paris Kitchen: Recipes and Stories', 'Masks and Shadows', 'Lumberjanes, Vol. 2: Friendship to the Max (Lumberjanes #5-8)', 'Lumberjanes Vol. 3: A Terrible Plan (Lumberjanes #9-12)', 'Judo: Seven Steps to Black Belt (an Introductory Guide for Beginners)', 'I Hate Fairyland, Vol. 1: Madly Ever After (I Hate Fairyland (Compilations) #1-5)', 'Giant Days, Vol. 2 (Giant Days #5-8)', 'Everydata: The Misinformation Hidden in the Little Data You Consume Every Day', \"Don't Be a Jerk: And Other Practical Advice from Dogen, Japan's Greatest Zen Master\", 'Bossypants', 'Bitch Planet, Vol. 1: Extraordinary Machine (Bitch Planet (Collected Editions))', 'Avatar: The Last Airbender: Smoke and Shadow, Part 3 (Smoke and Shadow #3)', 'Tuesday Nights in 1980', 'The Psychopath Test: A Journey Through the Madness Industry', 'The Power of Now: A Guide to Spiritual Enlightenment', \"The Omnivore's Dilemma: A Natural History of Four Meals\", 'The Love and Lemons Cookbook: An Apple-to-Zucchini Celebration of Impromptu Cooking', 'The Girl on the Train', 'The Emerald Mystery', 'The Argonauts', 'Suddenly in Love (Lake Haven #1)', 'Soft Apocalypse', \"So You've Been Publicly Shamed\", 'Shoe Dog: A Memoir by the Creator of NIKE', 'Louisa: The Extraordinary Life of Mrs. Adams', 'Large Print Heart of the Pride', 'Grumbles', 'Chasing Heaven: What Dying Taught Me About Living', 'Becoming Wise: An Inquiry into the Mystery and Art of Living', 'Beauty Restored (Riley Family Legacy Novellas #3)', 'Batman: The Long Halloween (Batman)', \"Ayumi's Violin\", 'Wild Swans', \"What's It Like in Space?: Stories from Astronauts Who've Been There\", 'Until Friday Night (The Field Party #1)', 'Unbroken: A World War II Story of Survival, Resilience, and Redemption', 'Twenty Yawns', 'Through the Woods', 'This Is Where It Ends', 'The Year of Magical Thinking', 'The Last Mile (Amos Decker #2)', 'The Immortal Life of Henrietta Lacks', 'The Hidden Oracle (The Trials of Apollo #1)', 'The Guilty (Will Robie #4)', 'Red Hood/Arsenal, Vol. 1: Open for Business (Red Hood/Arsenal #1)', 'Once Was a Time', 'No Dream Is Too High: Life Lessons From a Man Who Walked on the Moon', 'Naruto (3-in-1 Edition), Vol. 14: Includes Vols. 40, 41 & 42 (Naruto: Omnibus #14)', 'More Than Music (Chasing the Dream #1)', 'Lowriders to the Center of the Earth (Lowriders in Space #2)', 'Eat Fat, Get Thin', 'Doctor Sleep (The Shining #2)', 'Crazy Love: Overwhelmed by a Relentless God', 'Carrie', 'Batman: Europa', 'Angels Walking (Angels Walking #1)', 'Adulthood Is a Myth: A \"Sarah\\'s Scribbles\" Collection', 'A Study in Scarlet (Sherlock Holmes #1)', 'A Series of Catastrophes and Miracles: A True Story of Love, Science, and Cancer', \"A People's History of the United States\", 'My Kitchen Year: 136 Recipes That Saved My Life', 'The Lonely City: Adventures in the Art of Being Alone', 'The Dinner Party', 'Stars Above (The Lunar Chronicles #4.5)', 'Love, Lies and Spies', 'Troublemaker: Surviving Hollywood and Scientology', 'The Widow', 'Setting the World on Fire: The Brief, Astonishing Life of St. Catherine of Siena', 'Mothering Sunday', 'Lilac Girls', '10% Happier: How I Tamed the Voice in My Head, Reduced Stress Without Losing My Edge, and Found Self-Help That Actually Works', 'Underlying Notes', 'The Flowers Lied', 'Modern Day Fables', \"Chernobyl 01:23:40: The Incredible True Story of the World's Worst Nuclear Disaster\", '23 Degrees South: A Tropical Tale of Changing Whether...', 'When Breath Becomes Air', 'Vagabonding: An Uncommon Guide to the Art of Long-Term World Travel', 'The Martian (The Martian #1)', \"Miller's Valley\", \"Love That Boy: What Two Presidents, Eight Road Trips, and My Son Taught Me About a Parent's Expectations\", 'Left Behind (Left Behind #1)', 'Howl and Other Poems', \"Heaven is for Real: A Little Boy's Astounding Story of His Trip to Heaven and Back\", \"Brazen: The Courage to Find the You That's Been Hiding\", '32 Yolks', 'Wildlife of New York: A Five-Borough Coloring Book', 'Unreasonable Hope: Finding Faith in the God Who Brings Purpose to Your Pain', 'The Art Book', 'Steal Like an Artist: 10 Things Nobody Told You About Being Creative', 'Raymie Nightingale', 'Like Never Before (Walker Family #2)', 'How to Be a Domestic Goddess: Baking and the Art of Comfort Cooking', 'Finding God in the Ruins: How God Redeems Pain', 'Chronicles, Vol. 1', 'A Summer In Europe', 'The Rise and Fall of the Third Reich: A History of Nazi Germany', 'The Makings of a Fatherless Child', 'The Fellowship of the Ring (The Lord of the Rings #1)', \"Tell the Wolves I'm Home\", 'In the Woods (Dublin Murder Squad #1)', 'Give It Back', 'Why Save the Bankers?: And Other Essays on Our Economic and Political Crisis', 'The Raven King (The Raven Cycle #4)', 'The Expatriates', 'The 5th Wave (The 5th Wave #1)', 'Peak: Secrets from the New Science of Expertise', 'Logan Kade (Fallen Crest High #5.5)', \"I Know Why the Caged Bird Sings (Maya Angelou's Autobiography #1)\", 'Drama', \"America's War for the Greater Middle East: A Military History\", 'A Game of Thrones (A Song of Ice and Fire #1)', \"The Pilgrim's Progress\", 'The Hound of the Baskervilles (Sherlock Holmes #5)', \"The Geography of Bliss: One Grump's Search for the Happiest Places in the World\", 'The Demonists (Demonist #1)', 'The Demon Prince of Momochi House, Vol. 4 (The Demon Prince of Momochi House #4)', 'Misery', 'Far From True (Promise Falls Trilogy #2)', 'Confessions of a Shopaholic (Shopaholic #1)', 'Vegan Vegetarian Omnivore: Dinner for Everyone at the Table', 'Two Boys Kissing', 'Twilight (Twilight #1)', 'Twenties Girl', 'The Tipping Point: How Little Things Can Make a Big Difference', 'The Stand', 'The Picture of Dorian Gray', 'The Name of God is Mercy', \"The Lover's Dictionary\", 'The Last Painting of Sara de Vos', 'The Guns of August', 'The Girl Who Played with Fire (Millennium Trilogy #2)', 'The Da Vinci Code (Robert Langdon #2)', 'The Cat in the Hat (Beginner Books B-1)', 'The Book Thief', 'The Autobiography of Malcolm X', \"Surely You're Joking, Mr. Feynman!: Adventures of a Curious Character\", 'Soldier (Talon #3)', 'Shopaholic & Baby (Shopaholic #5)', 'Seven Days in the Art World', 'Rework', 'Packing for Mars: The Curious Science of Life in the Void', 'Orange Is the New Black', 'One for the Money (Stephanie Plum #1)', 'Midnight Riot (Peter Grant/ Rivers of London - books #1)', 'Me Talk Pretty One Day', 'Manuscript Found in Accra', 'Lust & Wonder', \"Life, the Universe and Everything (Hitchhiker's Guide to the Galaxy #3)\", 'Life After Life', 'I Am Malala: The Girl Who Stood Up for Education and Was Shot by the Taliban', 'House of Lost Worlds: Dinosaurs, Dynasties, and the Story of Life on Earth', 'Horrible Bear!', 'Holidays on Ice', 'Girl in the Blue Coat', 'Fruits Basket, Vol. 3 (Fruits Basket #3)', 'Cosmos', 'Civilization and Its Discontents', \"Catastrophic Happiness: Finding Joy in Childhood's Messy Years\", 'Career of Evil (Cormoran Strike #3)', 'Born to Run: A Hidden Tribe, Superathletes, and the Greatest Race the World Has Never Seen', \"Best of My Love (Fool's Gold #20)\", 'Beowulf', 'Awkward', 'And Then There Were None', 'A Storm of Swords (A Song of Ice and Fire #3)', 'The Suffragettes (Little Black Classics, #96)', 'Vampire Girl (Vampire Girl #1)', 'Three Wishes (River of Time: California #1)', 'The Wicked + The Divine, Vol. 1: The Faust Act (The Wicked + The Divine)', 'The Little Prince', 'The Last Girl (The Dominion Trilogy #1)', 'Taking Shots (Assassins #1)', 'Settling the Score (The Summer Games #1)', 'Rhythm, Chord & Malykhin', 'One Second (Seven #7)', \"Old Records Never Die: One Man's Quest for His Vinyl and His Past\", 'Of Mice and Men', 'My Perfect Mistake (Over the Top #1)', 'Meditations', 'Frankenstein', 'Emma']\n"
     ]
    }
   ],
   "source": [
    "print (two_star_titles)"
   ]
  },
  {
   "cell_type": "code",
   "execution_count": 19,
   "id": "e4606868",
   "metadata": {},
   "outputs": [],
   "source": [
    "four_star_titles = []\n",
    "\n",
    "for n in range(1,51):\n",
    "    \n",
    "    scrape_url = base_url.format(n)\n",
    "    res = requests.get(scrape_url)\n",
    "    \n",
    "    soup = bs4.BeautifulSoup(res.text, 'lxml')\n",
    "    books = soup.select('.product_pod')\n",
    "    \n",
    "    for book in books:\n",
    "        if len(book.select('.star-rating.Four')) != 0:\n",
    "            book_title = book.select('a')[1]['title']\n",
    "            four_star_titles.append(book_title)"
   ]
  },
  {
   "cell_type": "code",
   "execution_count": 20,
   "id": "94249d61",
   "metadata": {},
   "outputs": [
    {
     "name": "stdout",
     "output_type": "stream",
     "text": [
      "['Sharp Objects', 'The Dirty Little Secrets of Getting Your Dream Job', 'The Boys in the Boat: Nine Americans and Their Epic Quest for Gold at the 1936 Berlin Olympics', \"Shakespeare's Sonnets\", 'Wall and Piece', 'Behind Closed Doors', 'Untitled Collection: Sabbath Poems 2014', 'Unseen City: The Majesty of Pigeons, the Discreet Charm of Snails & Other Wonders of the Urban Wilderness', 'This One Summer', 'The Past Never Ends', 'The Nameless City (The Nameless City #1)', \"The Most Perfect Thing: Inside (and Outside) a Bird's Egg\", 'The Mindfulness and Acceptance Workbook for Anxiety: A Guide to Breaking Free from Anxiety, Phobias, and Worry Using Acceptance and Commitment Therapy', 'The Death of Humanity: and the Case for Life', 'Spark Joy: An Illustrated Master Class on the Art of Organizing and Tidying Up', 'Outcast, Vol. 1: A Darkness Surrounds Him (Outcast #1)', 'Mama Tried: Traditional Italian Cooking for the Screwed, Crude, Vegan, and Tattooed', 'In the Country We Love: My Family Divided', 'First and First (Five Boroughs #3)', 'Danganronpa Volume 1', 'Codename Baboushka, Volume 1: The Conclave of Death', 'Camp Midnight', 'A Fierce and Subtle Poison', 'You Are What You Love: The Spiritual Power of Habit', \"William Shakespeare's Star Wars: Verily, A New Hope (William Shakespeare's Star Wars #4)\", 'The White Cat and the Monk: A Retelling of the Poem â\\x80\\x9cPangur BÃ¡nâ\\x80\\x9d', 'The Vacationers', 'The Stranger', 'The Secret (The Secret #1)', 'The Murder of Roger Ackroyd (Hercule Poirot #4)', 'The Kite Runner', 'Something More Than This', 'Poems That Make Grown Women Cry', 'I Had a Nice Time And Other Lies...: How to find love & sh*t like that', 'Full Moon over Noahâ\\x80\\x99s Ark: An Odyssey to Mount Ararat and Beyond', 'Fables, Vol. 1: Legends in Exile (Fables #1)', 'Eureka Trivia 6.0', 'Drive: The Surprising Truth About What Motivates Us', 'Close to You', 'Anonymous', 'Wonder Woman: Earth One, Volume One (Wonder Woman: Earth One #1)', 'Why the Right Went Wrong: Conservatism--From Goldwater to the Tea Party and Beyond', 'Whole Lotta Creativity Going On: 60 Fun and Unusual Exercises to Awaken and Strengthen Your Creativity', 'V for Vendetta (V for Vendetta Complete)', 'The Wright Brothers', 'The Testament of Mary', 'The Marriage of Opposites', 'The Bane Chronicles (The Bane Chronicles #1-11)', 'Sorting the Beef from the Bull: The Science of Food Fraud Forensics', 'So Cute It Hurts!!, Vol. 6 (So Cute It Hurts!! #6)', 'Shtum', 'salt.', 'Living Leadership by Insight: A Good Leader Achieves, a Great Leader Builds Monuments', \"I Know What I'm Doing -- and Other Lies I Tell Myself: Dispatches from a Life Under Construction\", 'I Am Pilgrim (Pilgrim #1)', 'Far & Away: Places on the Brink of Change: Seven Continents, Twenty-Five Years', 'Eight Hundred Grapes', 'Code Name Verity (Code Name Verity #1)', 'City of Glass (The Mortal Instruments #3)', 'City of Fallen Angels (The Mortal Instruments #4)', 'Cell', 'Buying In: The Secret Dialogue Between What We Buy and Who We Are', 'Aristotle and Dante Discover the Secrets of the Universe (Aristotle and Dante Discover the Secrets of the Universe #1)', 'Rook', 'The Gray Rhino: How to Recognize and Act on the Obvious Dangers We Ignore', 'Raspberry Pi Electronics Projects for the Evil Genius', 'One with You (Crossfire #5)', 'No Love Allowed (Dodge Cove #1)', 'Murder at the 42nd Street Library (Raymond Ambler #1)', 'Furiously Happy: A Funny Book About Horrible Things', 'Dirty (Dive Bar #1)', 'A Paris Apartment', 'The Sleep Revolution: Transforming Your Life, One Night at a Time', 'Keep Me Posted', 'Grey (Fifty Shades #4)', 'Exit, Pursued by a Bear', 'Arena', 'Watchmen', 'Unlimited Intuition Now', 'The Moosewood Cookbook: Recipes from Moosewood Restaurant, Ithaca, New York', 'NaNo What Now? Finding your editing process, revising your NaNoWriMo book and building a writing career through publishing and beyond', 'Fruits Basket, Vol. 9 (Fruits Basket #9)', 'Art and Fear: Observations on the Perils (and Rewards) of Artmaking', \"The Midnight Assassin: Panic, Scandal, and the Hunt for America's First Serial Killer\", 'Please Kill Me: The Uncensored Oral History of Punk', 'John Vassos: Industrial Design for Modern Life', 'Hystopia: A Novel', 'History of Beauty', 'Death by Leisure: A Cautionary Tale', 'Between the World and Me', 'Being Mortal: Medicine and What Matters in the End', 'The Whale', 'The Story of Art', 'The Origin of Species', 'The Great Gatsby', 'The Bourne Identity (Jason Bourne #1)', 'The 7 Habits of Highly Effective People: Powerful Lessons in Personal Change', 'Sister Dear', 'Nightstruck: A Novel', 'Life of Pi', 'John Adams', 'How to Cook Everything Vegetarian: Simple Meatless Recipes for Great Food (How to Cook Everything)', 'Delivering the Truth (Quaker Midwife Mystery #1)', 'A Gathering of Shadows (Shades of Magic #2)', 'The Mysterious Affair at Styles (Hercule Poirot #1)', 'The Man Who Mistook His Wife for a Hat and Other Clinical Tales', 'The Joy of Cooking', 'Pride and Prejudice', 'In Cold Blood', 'Fun Home: A Family Tragicomic', 'Fruits Basket, Vol. 6 (Fruits Basket #6)', 'Deception Point', 'Catherine the Great: Portrait of a Woman', 'A Year in Provence (Provence #1)', 'World Without End (The Pillars of the Earth #2)', 'Will Grayson, Will Grayson (Will Grayson, Will Grayson)', 'Where She Went (If I Stay #2)', 'What If?: Serious Scientific Answers to Absurd Hypothetical Questions', 'The Secret Garden', 'The Raven Boys (The Raven Cycle #1)', 'The Hiding Place', 'The Crossover', \"Talking to Girls About Duran Duran: One Young Man's Quest for True Love and a Cooler Haircut\", 'My Mother Was Nuts', 'Lola and the Boy Next Door (Anna and the French Kiss #2)', 'Killing Floor (Jack Reacher #1)', 'Alight (The Generations Trilogy #2)', 'A Feast for Crows (A Song of Ice and Fire #4)', 'Vogue Colors A to Z: A Fashion Coloring Book', 'The Gunning of America: Business and the Making of American Gun Culture', 'Night Shift (Night Shift #1-20)', 'Needful Things', 'Mockingjay (The Hunger Games #3)', 'Little Women (Little Women #1)', 'Harry Potter and the Prisoner of Azkaban (Harry Potter #3)', 'Harry Potter and the Order of the Phoenix (Harry Potter #5)', 'Fruits Basket, Vol. 4 (Fruits Basket #4)', \"'Salem's Lot\", 'The Undomestic Goddess', 'The Rose & the Dagger (The Wrath and the Dawn #2)', 'The Nightingale', 'The Land of 10,000 Madonnas', 'The End of Faith: Religion, Terror, and the Future of Reason', 'The Elegant Universe: Superstrings, Hidden Dimensions, and the Quest for the Ultimate Theory', 'The Demon-Haunted World: Science as a Candle in the Dark', 'The Complete Stories and Poems (The Works of Edgar Allan Poe [Cameo Edition])', 'Seven Brief Lessons on Physics', 'Scarlet (The Lunar Chronicles #2)', 'Running with Scissors', 'Rise of the Rocket Girls: The Women Who Propelled Us, from Missiles to the Moon to Mars', 'Ready Player One', 'Legend (Legend #1)', 'If I Run (If I Run #1)', 'Heir to the Sky', 'Green Eggs and Ham (Beginner Books B-16)', 'Golden (Heart of Dread #3)', 'Fire Bound (Sea Haven/Sisters of the Heart #5)', 'Ash', 'A Walk in the Woods: Rediscovering America on the Appalachian Trail', 'New Moon (Twilight #2)', 'Diary of a Minecraft Zombie Book 1: A Scare of a Dare (An Unofficial Minecraft Book)', 'Y: The Last Man, Vol. 1: Unmanned (Y: The Last Man #1)', 'Twenty Love Poems and a Song of Despair', 'The Story of Hong Gildong', \"The No. 1 Ladies' Detective Agency (No. 1 Ladies' Detective Agency #1)\", 'The Edge of Reason (Bridget Jones #2)', 'The Art of Not Breathing', 'Shadow Rites (Jane Yellowrock #10)', 'Paper Girls, Vol. 1 (Paper Girls #1-5)', 'Myriad (Prentor #1)', 'Ms. Marvel, Vol. 1: No Normal (Ms. Marvel (2014-2015) #1)', 'Lost Among the Living', 'Imperfect Harmony', 'Icing (Aces Hockey #2)', \"Having the Barbarian's Baby (Ice Planet Barbarians #7.5)\", 'Giant Days, Vol. 1 (Giant Days #1-4)', \"Choosing Our Religion: The Spiritual Lives of America's Nones\", 'Bounty (Colorado Mountain #7)', 'Ajin: Demi-Human, Volume 1 (Ajin: Demi-Human #1)']\n"
     ]
    }
   ],
   "source": [
    "print (four_star_titles)"
   ]
  },
  {
   "cell_type": "code",
   "execution_count": 21,
   "id": "38f9c6fe",
   "metadata": {},
   "outputs": [
    {
     "name": "stdout",
     "output_type": "stream",
     "text": [
      "179\n"
     ]
    }
   ],
   "source": [
    "print (len(four_star_titles))"
   ]
  },
  {
   "cell_type": "code",
   "execution_count": 22,
   "id": "4835d18c",
   "metadata": {},
   "outputs": [
    {
     "name": "stdout",
     "output_type": "stream",
     "text": [
      "['Sharp Objects', 'Behind Closed Doors', 'The Nameless City (The Nameless City #1)', 'Outcast, Vol. 1: A Darkness Surrounds Him (Outcast #1)', 'Codename Baboushka, Volume 1: The Conclave of Death', 'The White Cat and the Monk: A Retelling of the Poem â\\x80\\x9cPangur BÃ¡nâ\\x80\\x9d', 'The Kite Runner', 'Fables, Vol. 1: Legends in Exile (Fables #1)', 'Wonder Woman: Earth One, Volume One (Wonder Woman: Earth One #1)', 'The Testament of Mary', 'Shtum', 'Far & Away: Places on the Brink of Change: Seven Continents, Twenty-Five Years', 'Cell', 'Raspberry Pi Electronics Projects for the Evil Genius', 'Dirty (Dive Bar #1)', 'Exit, Pursued by a Bear', 'NaNo What Now? Finding your editing process, revising your NaNoWriMo book and building a writing career through publishing and beyond', 'John Vassos: Industrial Design for Modern Life', 'Being Mortal: Medicine and What Matters in the End', 'The Bourne Identity (Jason Bourne #1)']\n"
     ]
    }
   ],
   "source": [
    "print (four_star_titles[0:100:5])"
   ]
  },
  {
   "cell_type": "code",
   "execution_count": 24,
   "id": "607eb09e",
   "metadata": {},
   "outputs": [],
   "source": [
    "four_star_titles = []\n",
    "\n",
    "for n in range(1,51):\n",
    "    \n",
    "    scrape_url = base_url.format(n)\n",
    "    res = requests.get(scrape_url)\n",
    "    \n",
    "    soup = bs4.BeautifulSoup(res.text, 'lxml')\n",
    "    books = soup.select('.product_pod')\n",
    "    \n",
    "    for book in books:\n",
    "        if len(book.select('.star-rating.Four')) != 0:\n",
    "            book_title = book.select('a')[1]['title']\n",
    "            book_price = book.select('product_price')\n",
    "            four_star_titles.append((book_title, book_price))"
   ]
  },
  {
   "cell_type": "code",
   "execution_count": 25,
   "id": "5bcf509d",
   "metadata": {},
   "outputs": [
    {
     "name": "stdout",
     "output_type": "stream",
     "text": [
      "[('Sharp Objects', []), ('Behind Closed Doors', []), ('The Nameless City (The Nameless City #1)', []), ('Outcast, Vol. 1: A Darkness Surrounds Him (Outcast #1)', []), ('Codename Baboushka, Volume 1: The Conclave of Death', []), ('The White Cat and the Monk: A Retelling of the Poem â\\x80\\x9cPangur BÃ¡nâ\\x80\\x9d', []), ('The Kite Runner', []), ('Fables, Vol. 1: Legends in Exile (Fables #1)', []), ('Wonder Woman: Earth One, Volume One (Wonder Woman: Earth One #1)', []), ('The Testament of Mary', []), ('Shtum', []), ('Far & Away: Places on the Brink of Change: Seven Continents, Twenty-Five Years', []), ('Cell', []), ('Raspberry Pi Electronics Projects for the Evil Genius', []), ('Dirty (Dive Bar #1)', []), ('Exit, Pursued by a Bear', []), ('NaNo What Now? Finding your editing process, revising your NaNoWriMo book and building a writing career through publishing and beyond', []), ('John Vassos: Industrial Design for Modern Life', []), ('Being Mortal: Medicine and What Matters in the End', []), ('The Bourne Identity (Jason Bourne #1)', [])]\n"
     ]
    }
   ],
   "source": [
    "print (four_star_titles[0:100:5])"
   ]
  },
  {
   "cell_type": "code",
   "execution_count": null,
   "id": "fc3502ec",
   "metadata": {},
   "outputs": [],
   "source": [
    "\n"
   ]
  }
 ],
 "metadata": {
  "kernelspec": {
   "display_name": "Python 3 (ipykernel)",
   "language": "python",
   "name": "python3"
  },
  "language_info": {
   "codemirror_mode": {
    "name": "ipython",
    "version": 3
   },
   "file_extension": ".py",
   "mimetype": "text/x-python",
   "name": "python",
   "nbconvert_exporter": "python",
   "pygments_lexer": "ipython3",
   "version": "3.9.12"
  }
 },
 "nbformat": 4,
 "nbformat_minor": 5
}
