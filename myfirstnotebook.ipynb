{
 "cells": [
  {
   "cell_type": "code",
   "execution_count": 2,
   "id": "83bf6318",
   "metadata": {},
   "outputs": [
    {
     "name": "stdout",
     "output_type": "stream",
     "text": [
      "hello\n"
     ]
    }
   ],
   "source": [
    "print('hello')"
   ]
  },
  {
   "cell_type": "code",
   "execution_count": 3,
   "id": "8ddb3439",
   "metadata": {},
   "outputs": [
    {
     "name": "stdout",
     "output_type": "stream",
     "text": [
      "new\n"
     ]
    }
   ],
   "source": [
    "print('new')"
   ]
  },
  {
   "cell_type": "markdown",
   "id": "86ccadf0",
   "metadata": {},
   "source": [
    "Nota común"
   ]
  },
  {
   "cell_type": "code",
   "execution_count": 4,
   "id": "b141e285",
   "metadata": {},
   "outputs": [
    {
     "data": {
      "text/plain": [
       "3"
      ]
     },
     "execution_count": 4,
     "metadata": {},
     "output_type": "execute_result"
    }
   ],
   "source": [
    "2+1"
   ]
  },
  {
   "cell_type": "code",
   "execution_count": 5,
   "id": "b72f5ad1",
   "metadata": {},
   "outputs": [
    {
     "data": {
      "text/plain": [
       "1"
      ]
     },
     "execution_count": 5,
     "metadata": {},
     "output_type": "execute_result"
    }
   ],
   "source": [
    "2-1"
   ]
  },
  {
   "cell_type": "code",
   "execution_count": 6,
   "id": "68e50e17",
   "metadata": {},
   "outputs": [
    {
     "data": {
      "text/plain": [
       "4"
      ]
     },
     "execution_count": 6,
     "metadata": {},
     "output_type": "execute_result"
    }
   ],
   "source": [
    "2*2"
   ]
  },
  {
   "cell_type": "code",
   "execution_count": 7,
   "id": "2ee6cc8b",
   "metadata": {},
   "outputs": [
    {
     "data": {
      "text/plain": [
       "1.5"
      ]
     },
     "execution_count": 7,
     "metadata": {},
     "output_type": "execute_result"
    }
   ],
   "source": [
    "3/2"
   ]
  },
  {
   "cell_type": "markdown",
   "id": "0e71cd53",
   "metadata": {},
   "source": [
    "Modulo or \"Mod\" Operator"
   ]
  },
  {
   "cell_type": "code",
   "execution_count": 8,
   "id": "8aad8f96",
   "metadata": {},
   "outputs": [
    {
     "data": {
      "text/plain": [
       "1.75"
      ]
     },
     "execution_count": 8,
     "metadata": {},
     "output_type": "execute_result"
    }
   ],
   "source": [
    "7/4"
   ]
  },
  {
   "cell_type": "code",
   "execution_count": 9,
   "id": "f3384738",
   "metadata": {},
   "outputs": [
    {
     "data": {
      "text/plain": [
       "3"
      ]
     },
     "execution_count": 9,
     "metadata": {},
     "output_type": "execute_result"
    }
   ],
   "source": [
    "7%4"
   ]
  },
  {
   "cell_type": "markdown",
   "id": "c78ee2e9",
   "metadata": {},
   "source": [
    "\"Mod\" me trae lo que resta luego de una división. 7 dividido 4, da 1 y un resto de 3, que dividido entre 4 me daría el .75"
   ]
  },
  {
   "cell_type": "code",
   "execution_count": 10,
   "id": "2244a3ad",
   "metadata": {},
   "outputs": [
    {
     "data": {
      "text/plain": [
       "0"
      ]
     },
     "execution_count": 10,
     "metadata": {},
     "output_type": "execute_result"
    }
   ],
   "source": [
    "50%5"
   ]
  },
  {
   "cell_type": "markdown",
   "id": "8275ab8e",
   "metadata": {},
   "source": [
    "Puede servir para saber si un número es par o impar (sobre todo si ese valor esta escondido detras de una variabl), si da \"0\" al hace %2 entonces es par"
   ]
  },
  {
   "cell_type": "markdown",
   "id": "f0a15dc3",
   "metadata": {},
   "source": [
    "Para elevar a una potencia se utiliza doble asterisco y la potencia **3 es al cubo"
   ]
  },
  {
   "cell_type": "code",
   "execution_count": 11,
   "id": "e33a1205",
   "metadata": {},
   "outputs": [
    {
     "data": {
      "text/plain": [
       "8"
      ]
     },
     "execution_count": 11,
     "metadata": {},
     "output_type": "execute_result"
    }
   ],
   "source": [
    "2**3"
   ]
  },
  {
   "cell_type": "code",
   "execution_count": 12,
   "id": "7367b4cd",
   "metadata": {},
   "outputs": [
    {
     "data": {
      "text/plain": [
       "105"
      ]
     },
     "execution_count": 12,
     "metadata": {},
     "output_type": "execute_result"
    }
   ],
   "source": [
    "2 + 10 * 10 + 3"
   ]
  },
  {
   "cell_type": "markdown",
   "id": "51873820",
   "metadata": {},
   "source": [
    " Acá hace primero la multiplicación y luego la sumatoria, 10 * 10 = 100 -> 100 + 2 + 3 = 105"
   ]
  },
  {
   "cell_type": "code",
   "execution_count": 13,
   "id": "f25af155",
   "metadata": {},
   "outputs": [
    {
     "data": {
      "text/plain": [
       "156"
      ]
     },
     "execution_count": 13,
     "metadata": {},
     "output_type": "execute_result"
    }
   ],
   "source": [
    "(2+10)*(10+3)"
   ]
  },
  {
   "cell_type": "code",
   "execution_count": 14,
   "id": "09b6a022",
   "metadata": {},
   "outputs": [
    {
     "data": {
      "text/plain": [
       "50.0"
      ]
     },
     "execution_count": 14,
     "metadata": {},
     "output_type": "execute_result"
    }
   ],
   "source": [
    "((2+3)**2)*(6/3)"
   ]
  },
  {
   "cell_type": "code",
   "execution_count": 16,
   "id": "13164347",
   "metadata": {},
   "outputs": [
    {
     "data": {
      "text/plain": [
       "25"
      ]
     },
     "execution_count": 16,
     "metadata": {},
     "output_type": "execute_result"
    }
   ],
   "source": [
    "(2+3)**2"
   ]
  },
  {
   "cell_type": "code",
   "execution_count": 17,
   "id": "797d7a7c",
   "metadata": {},
   "outputs": [
    {
     "data": {
      "text/plain": [
       "0.0"
      ]
     },
     "execution_count": 17,
     "metadata": {},
     "output_type": "execute_result"
    }
   ],
   "source": [
    "((2+3)**2)*(2-(6/3))"
   ]
  },
  {
   "cell_type": "code",
   "execution_count": 18,
   "id": "4aaf55b7",
   "metadata": {},
   "outputs": [
    {
     "ename": "SyntaxError",
     "evalue": "unmatched ')' (Temp/ipykernel_4788/202838665.py, line 1)",
     "output_type": "error",
     "traceback": [
      "\u001b[1;36m  File \u001b[1;32m\"C:\\Users\\Gin\\AppData\\Local\\Temp/ipykernel_4788/202838665.py\"\u001b[1;36m, line \u001b[1;32m1\u001b[0m\n\u001b[1;33m    ((2+3)**2)*(2-(6/3)))\u001b[0m\n\u001b[1;37m                        ^\u001b[0m\n\u001b[1;31mSyntaxError\u001b[0m\u001b[1;31m:\u001b[0m unmatched ')'\n"
     ]
    }
   ],
   "source": [
    "((2+3)**2)*(2-(6/3)))"
   ]
  },
  {
   "cell_type": "code",
   "execution_count": 20,
   "id": "b96a4a87",
   "metadata": {},
   "outputs": [
    {
     "data": {
      "text/plain": [
       "100.0"
      ]
     },
     "execution_count": 20,
     "metadata": {},
     "output_type": "execute_result"
    }
   ],
   "source": [
    "((2+3)**2)*(9-(15/3))"
   ]
  },
  {
   "cell_type": "code",
   "execution_count": 21,
   "id": "a8b2b793",
   "metadata": {},
   "outputs": [
    {
     "data": {
      "text/plain": [
       "5.551115123125783e-17"
      ]
     },
     "execution_count": 21,
     "metadata": {},
     "output_type": "execute_result"
    }
   ],
   "source": [
    "0.1+0.2-0.3"
   ]
  },
  {
   "cell_type": "code",
   "execution_count": 22,
   "id": "7b4a206c",
   "metadata": {},
   "outputs": [
    {
     "data": {
      "text/plain": [
       "5.551115123125783e-17"
      ]
     },
     "execution_count": 22,
     "metadata": {},
     "output_type": "execute_result"
    }
   ],
   "source": [
    "0.1 + 0.2 - 0.3"
   ]
  },
  {
   "cell_type": "code",
   "execution_count": 23,
   "id": "414dffc2",
   "metadata": {},
   "outputs": [
    {
     "data": {
      "text/plain": [
       "0.30000000000000004"
      ]
     },
     "execution_count": 23,
     "metadata": {},
     "output_type": "execute_result"
    }
   ],
   "source": [
    "0.1+0.2"
   ]
  },
  {
   "cell_type": "code",
   "execution_count": 24,
   "id": "22080517",
   "metadata": {},
   "outputs": [
    {
     "data": {
      "text/plain": [
       "36"
      ]
     },
     "execution_count": 24,
     "metadata": {},
     "output_type": "execute_result"
    }
   ],
   "source": [
    "6*6"
   ]
  },
  {
   "cell_type": "code",
   "execution_count": 25,
   "id": "59214f4a",
   "metadata": {},
   "outputs": [
    {
     "data": {
      "text/plain": [
       "0.5"
      ]
     },
     "execution_count": 25,
     "metadata": {},
     "output_type": "execute_result"
    }
   ],
   "source": [
    "1/2"
   ]
  },
  {
   "cell_type": "code",
   "execution_count": 26,
   "id": "84bb0349",
   "metadata": {},
   "outputs": [],
   "source": [
    "my_dog = 2"
   ]
  },
  {
   "cell_type": "code",
   "execution_count": 34,
   "id": "45141505",
   "metadata": {},
   "outputs": [],
   "source": [
    "my_dog = 'Hermes'"
   ]
  },
  {
   "cell_type": "code",
   "execution_count": 35,
   "id": "8f52e2d2",
   "metadata": {},
   "outputs": [
    {
     "data": {
      "text/plain": [
       "'Hermes'"
      ]
     },
     "execution_count": 35,
     "metadata": {},
     "output_type": "execute_result"
    }
   ],
   "source": [
    "my_dog"
   ]
  },
  {
   "cell_type": "code",
   "execution_count": 36,
   "id": "256e6d32",
   "metadata": {},
   "outputs": [],
   "source": [
    "a=5"
   ]
  },
  {
   "cell_type": "code",
   "execution_count": 37,
   "id": "74de7aa7",
   "metadata": {},
   "outputs": [
    {
     "data": {
      "text/plain": [
       "10"
      ]
     },
     "execution_count": 37,
     "metadata": {},
     "output_type": "execute_result"
    }
   ],
   "source": [
    "a + a"
   ]
  },
  {
   "cell_type": "code",
   "execution_count": 47,
   "id": "a466ab4d",
   "metadata": {},
   "outputs": [],
   "source": [
    "a = a + a"
   ]
  },
  {
   "cell_type": "code",
   "execution_count": 42,
   "id": "f477008c",
   "metadata": {
    "scrolled": true
   },
   "outputs": [
    {
     "data": {
      "text/plain": [
       "20"
      ]
     },
     "execution_count": 42,
     "metadata": {},
     "output_type": "execute_result"
    }
   ],
   "source": [
    "a"
   ]
  },
  {
   "cell_type": "code",
   "execution_count": 43,
   "id": "d894c3e1",
   "metadata": {},
   "outputs": [
    {
     "data": {
      "text/plain": [
       "20"
      ]
     },
     "execution_count": 43,
     "metadata": {},
     "output_type": "execute_result"
    }
   ],
   "source": [
    "a"
   ]
  },
  {
   "cell_type": "code",
   "execution_count": 45,
   "id": "75872a28",
   "metadata": {},
   "outputs": [
    {
     "data": {
      "text/plain": [
       "40"
      ]
     },
     "execution_count": 45,
     "metadata": {},
     "output_type": "execute_result"
    }
   ],
   "source": [
    "a"
   ]
  },
  {
   "cell_type": "code",
   "execution_count": 48,
   "id": "6d56e43e",
   "metadata": {},
   "outputs": [
    {
     "data": {
      "text/plain": [
       "int"
      ]
     },
     "execution_count": 48,
     "metadata": {},
     "output_type": "execute_result"
    }
   ],
   "source": [
    "type(a)"
   ]
  },
  {
   "cell_type": "code",
   "execution_count": 49,
   "id": "df8778f9",
   "metadata": {},
   "outputs": [
    {
     "data": {
      "text/plain": [
       "160"
      ]
     },
     "execution_count": 49,
     "metadata": {},
     "output_type": "execute_result"
    }
   ],
   "source": [
    "a "
   ]
  },
  {
   "cell_type": "code",
   "execution_count": 50,
   "id": "cc442a14",
   "metadata": {},
   "outputs": [],
   "source": [
    "a = 30.1"
   ]
  },
  {
   "cell_type": "code",
   "execution_count": 51,
   "id": "dbf5114f",
   "metadata": {},
   "outputs": [
    {
     "data": {
      "text/plain": [
       "float"
      ]
     },
     "execution_count": 51,
     "metadata": {},
     "output_type": "execute_result"
    }
   ],
   "source": [
    "type(a)"
   ]
  },
  {
   "cell_type": "code",
   "execution_count": 52,
   "id": "2ebac3e2",
   "metadata": {},
   "outputs": [],
   "source": [
    "my_income = 100"
   ]
  },
  {
   "cell_type": "code",
   "execution_count": 53,
   "id": "7f3e0d37",
   "metadata": {},
   "outputs": [],
   "source": [
    "tax_rate = 0.1\n",
    "my_taxes = my_income * tax_rate"
   ]
  },
  {
   "cell_type": "code",
   "execution_count": 55,
   "id": "0037f47c",
   "metadata": {},
   "outputs": [
    {
     "data": {
      "text/plain": [
       "10.0"
      ]
     },
     "execution_count": 55,
     "metadata": {},
     "output_type": "execute_result"
    }
   ],
   "source": [
    "my_taxes"
   ]
  },
  {
   "cell_type": "code",
   "execution_count": 56,
   "id": "e2ccce36",
   "metadata": {},
   "outputs": [
    {
     "data": {
      "text/plain": [
       "'world'"
      ]
     },
     "execution_count": 56,
     "metadata": {},
     "output_type": "execute_result"
    }
   ],
   "source": [
    "'hello'\n",
    "\"world\""
   ]
  },
  {
   "cell_type": "code",
   "execution_count": 57,
   "id": "4798625a",
   "metadata": {},
   "outputs": [
    {
     "data": {
      "text/plain": [
       "'this is also a string'"
      ]
     },
     "execution_count": 57,
     "metadata": {},
     "output_type": "execute_result"
    }
   ],
   "source": [
    "'this is also a string'"
   ]
  },
  {
   "cell_type": "code",
   "execution_count": 58,
   "id": "52a79e99",
   "metadata": {},
   "outputs": [
    {
     "data": {
      "text/plain": [
       "\" I'm going on a run \""
      ]
     },
     "execution_count": 58,
     "metadata": {},
     "output_type": "execute_result"
    }
   ],
   "source": [
    "\" I'm going on a run \""
   ]
  },
  {
   "cell_type": "code",
   "execution_count": 59,
   "id": "0c355c23",
   "metadata": {},
   "outputs": [
    {
     "name": "stdout",
     "output_type": "stream",
     "text": [
      "hello\n"
     ]
    }
   ],
   "source": [
    "print (\"hello\")"
   ]
  },
  {
   "cell_type": "code",
   "execution_count": 60,
   "id": "322154c7",
   "metadata": {},
   "outputs": [
    {
     "data": {
      "text/plain": [
       "'hello world two'"
      ]
     },
     "execution_count": 60,
     "metadata": {},
     "output_type": "execute_result"
    }
   ],
   "source": [
    "\"hello world one\"\n",
    "\"hello world two\""
   ]
  },
  {
   "cell_type": "code",
   "execution_count": 61,
   "id": "21f4c9bf",
   "metadata": {},
   "outputs": [
    {
     "name": "stdout",
     "output_type": "stream",
     "text": [
      "hello world one\n",
      "hello world two\n"
     ]
    }
   ],
   "source": [
    "print (\"hello world one\")\n",
    "print (\"hello world two\")"
   ]
  },
  {
   "cell_type": "code",
   "execution_count": 62,
   "id": "31f9b563",
   "metadata": {},
   "outputs": [
    {
     "name": "stdout",
     "output_type": "stream",
     "text": [
      "hello \n",
      " world\n"
     ]
    }
   ],
   "source": [
    "print (\"hello \\n world\")"
   ]
  },
  {
   "cell_type": "code",
   "execution_count": 63,
   "id": "c61737b3",
   "metadata": {},
   "outputs": [
    {
     "name": "stdout",
     "output_type": "stream",
     "text": [
      "hello \t world\n"
     ]
    }
   ],
   "source": [
    "print (\"hello \\t world\")"
   ]
  },
  {
   "cell_type": "code",
   "execution_count": 64,
   "id": "6b952c22",
   "metadata": {},
   "outputs": [
    {
     "name": "stdout",
     "output_type": "stream",
     "text": [
      "hello \n",
      "world\n"
     ]
    }
   ],
   "source": [
    "print (\"hello \\nworld\")"
   ]
  },
  {
   "cell_type": "code",
   "execution_count": 65,
   "id": "8977e79d",
   "metadata": {},
   "outputs": [
    {
     "data": {
      "text/plain": [
       "5"
      ]
     },
     "execution_count": 65,
     "metadata": {},
     "output_type": "execute_result"
    }
   ],
   "source": [
    "len ('hello')"
   ]
  },
  {
   "cell_type": "code",
   "execution_count": 66,
   "id": "18f4612c",
   "metadata": {},
   "outputs": [
    {
     "data": {
      "text/plain": [
       "'Hermes'"
      ]
     },
     "execution_count": 66,
     "metadata": {},
     "output_type": "execute_result"
    }
   ],
   "source": [
    "my_dog"
   ]
  },
  {
   "cell_type": "code",
   "execution_count": 67,
   "id": "8cae24f5",
   "metadata": {},
   "outputs": [
    {
     "data": {
      "text/plain": [
       "6"
      ]
     },
     "execution_count": 67,
     "metadata": {},
     "output_type": "execute_result"
    }
   ],
   "source": [
    "len (my_dog)"
   ]
  },
  {
   "cell_type": "code",
   "execution_count": 104,
   "id": "5da57b0c",
   "metadata": {},
   "outputs": [],
   "source": [
    "my_name = 'Zalogon'"
   ]
  },
  {
   "cell_type": "code",
   "execution_count": 105,
   "id": "3293c1c5",
   "metadata": {},
   "outputs": [
    {
     "name": "stdout",
     "output_type": "stream",
     "text": [
      "Zalogon\n"
     ]
    }
   ],
   "source": [
    "print (my_name)"
   ]
  },
  {
   "cell_type": "code",
   "execution_count": 106,
   "id": "dfb07e43",
   "metadata": {},
   "outputs": [
    {
     "data": {
      "text/plain": [
       "7"
      ]
     },
     "execution_count": 106,
     "metadata": {},
     "output_type": "execute_result"
    }
   ],
   "source": [
    "len (my_name)"
   ]
  },
  {
   "cell_type": "code",
   "execution_count": 71,
   "id": "9b0f4709",
   "metadata": {},
   "outputs": [
    {
     "name": "stdout",
     "output_type": "stream",
     "text": [
      "Hello World\n"
     ]
    }
   ],
   "source": [
    "print (\"Hello World\")"
   ]
  },
  {
   "cell_type": "code",
   "execution_count": 72,
   "id": "54b7af45",
   "metadata": {},
   "outputs": [],
   "source": [
    "mystring = \"Hello World\""
   ]
  },
  {
   "cell_type": "code",
   "execution_count": 73,
   "id": "e3058a8f",
   "metadata": {},
   "outputs": [
    {
     "data": {
      "text/plain": [
       "'Hello World'"
      ]
     },
     "execution_count": 73,
     "metadata": {},
     "output_type": "execute_result"
    }
   ],
   "source": [
    "mystring"
   ]
  },
  {
   "cell_type": "code",
   "execution_count": 74,
   "id": "f7244e99",
   "metadata": {},
   "outputs": [
    {
     "data": {
      "text/plain": [
       "'H'"
      ]
     },
     "execution_count": 74,
     "metadata": {},
     "output_type": "execute_result"
    }
   ],
   "source": [
    "mystring[0]"
   ]
  },
  {
   "cell_type": "code",
   "execution_count": 75,
   "id": "49f115a0",
   "metadata": {},
   "outputs": [
    {
     "data": {
      "text/plain": [
       "'r'"
      ]
     },
     "execution_count": 75,
     "metadata": {},
     "output_type": "execute_result"
    }
   ],
   "source": [
    "mystring[8]"
   ]
  },
  {
   "cell_type": "code",
   "execution_count": 76,
   "id": "ab72904e",
   "metadata": {},
   "outputs": [
    {
     "data": {
      "text/plain": [
       "'l'"
      ]
     },
     "execution_count": 76,
     "metadata": {},
     "output_type": "execute_result"
    }
   ],
   "source": [
    "mystring[-2]"
   ]
  },
  {
   "cell_type": "code",
   "execution_count": 77,
   "id": "456173a1",
   "metadata": {},
   "outputs": [],
   "source": [
    "mystring ='abcdefghijk'"
   ]
  },
  {
   "cell_type": "code",
   "execution_count": 78,
   "id": "b4c2fe99",
   "metadata": {},
   "outputs": [
    {
     "data": {
      "text/plain": [
       "'cdefghijk'"
      ]
     },
     "execution_count": 78,
     "metadata": {},
     "output_type": "execute_result"
    }
   ],
   "source": [
    "mystring[2:]"
   ]
  },
  {
   "cell_type": "code",
   "execution_count": 79,
   "id": "3575a809",
   "metadata": {},
   "outputs": [
    {
     "data": {
      "text/plain": [
       "'ab'"
      ]
     },
     "execution_count": 79,
     "metadata": {},
     "output_type": "execute_result"
    }
   ],
   "source": [
    "mystring[:2]"
   ]
  },
  {
   "cell_type": "code",
   "execution_count": 80,
   "id": "ff370637",
   "metadata": {},
   "outputs": [
    {
     "data": {
      "text/plain": [
       "'abc'"
      ]
     },
     "execution_count": 80,
     "metadata": {},
     "output_type": "execute_result"
    }
   ],
   "source": [
    "mystring[:3]"
   ]
  },
  {
   "cell_type": "code",
   "execution_count": 81,
   "id": "2bbef04d",
   "metadata": {},
   "outputs": [
    {
     "data": {
      "text/plain": [
       "'def'"
      ]
     },
     "execution_count": 81,
     "metadata": {},
     "output_type": "execute_result"
    }
   ],
   "source": [
    " mystring[3:6]"
   ]
  },
  {
   "cell_type": "code",
   "execution_count": 83,
   "id": "e9855a5e",
   "metadata": {},
   "outputs": [
    {
     "data": {
      "text/plain": [
       "'cegi'"
      ]
     },
     "execution_count": 83,
     "metadata": {},
     "output_type": "execute_result"
    }
   ],
   "source": [
    "mystring[2:9:2]"
   ]
  },
  {
   "cell_type": "code",
   "execution_count": 84,
   "id": "000a4a89",
   "metadata": {},
   "outputs": [
    {
     "data": {
      "text/plain": [
       "'acegik'"
      ]
     },
     "execution_count": 84,
     "metadata": {},
     "output_type": "execute_result"
    }
   ],
   "source": [
    "mystring[::2]"
   ]
  },
  {
   "cell_type": "code",
   "execution_count": 85,
   "id": "19264a10",
   "metadata": {},
   "outputs": [
    {
     "data": {
      "text/plain": [
       "'b'"
      ]
     },
     "execution_count": 85,
     "metadata": {},
     "output_type": "execute_result"
    }
   ],
   "source": [
    "mystring[-10]"
   ]
  },
  {
   "cell_type": "code",
   "execution_count": 86,
   "id": "e88af5c2",
   "metadata": {},
   "outputs": [
    {
     "data": {
      "text/plain": [
       "''"
      ]
     },
     "execution_count": 86,
     "metadata": {},
     "output_type": "execute_result"
    }
   ],
   "source": [
    "mystring[-10:10:-2]"
   ]
  },
  {
   "cell_type": "code",
   "execution_count": 87,
   "id": "bb7afb26",
   "metadata": {},
   "outputs": [
    {
     "data": {
      "text/plain": [
       "'bcdefghij'"
      ]
     },
     "execution_count": 87,
     "metadata": {},
     "output_type": "execute_result"
    }
   ],
   "source": [
    "mystring[-10:10]"
   ]
  },
  {
   "cell_type": "code",
   "execution_count": 88,
   "id": "f5f668dc",
   "metadata": {},
   "outputs": [
    {
     "data": {
      "text/plain": [
       "'bdfhj'"
      ]
     },
     "execution_count": 88,
     "metadata": {},
     "output_type": "execute_result"
    }
   ],
   "source": [
    "mystring[-10:10:2]"
   ]
  },
  {
   "cell_type": "code",
   "execution_count": 89,
   "id": "cdc36ee5",
   "metadata": {},
   "outputs": [
    {
     "data": {
      "text/plain": [
       "''"
      ]
     },
     "execution_count": 89,
     "metadata": {},
     "output_type": "execute_result"
    }
   ],
   "source": [
    "mystring[-10:10:-1]"
   ]
  },
  {
   "cell_type": "code",
   "execution_count": 90,
   "id": "72645ba7",
   "metadata": {},
   "outputs": [
    {
     "data": {
      "text/plain": [
       "''"
      ]
     },
     "execution_count": 90,
     "metadata": {},
     "output_type": "execute_result"
    }
   ],
   "source": [
    "mystring[1:-1:-2]"
   ]
  },
  {
   "cell_type": "code",
   "execution_count": 91,
   "id": "8a8b0849",
   "metadata": {},
   "outputs": [
    {
     "data": {
      "text/plain": [
       "''"
      ]
     },
     "execution_count": 91,
     "metadata": {},
     "output_type": "execute_result"
    }
   ],
   "source": [
    "mystring[1:10:-2]"
   ]
  },
  {
   "cell_type": "code",
   "execution_count": 92,
   "id": "6a796977",
   "metadata": {},
   "outputs": [
    {
     "data": {
      "text/plain": [
       "''"
      ]
     },
     "execution_count": 92,
     "metadata": {},
     "output_type": "execute_result"
    }
   ],
   "source": [
    "mystring[:-1:-2]"
   ]
  },
  {
   "cell_type": "code",
   "execution_count": 93,
   "id": "ca91aa06",
   "metadata": {},
   "outputs": [
    {
     "data": {
      "text/plain": [
       "'kigeca'"
      ]
     },
     "execution_count": 93,
     "metadata": {},
     "output_type": "execute_result"
    }
   ],
   "source": [
    "mystring[::-2]\n"
   ]
  },
  {
   "cell_type": "code",
   "execution_count": 94,
   "id": "b43cfd78",
   "metadata": {},
   "outputs": [
    {
     "data": {
      "text/plain": [
       "'r'"
      ]
     },
     "execution_count": 94,
     "metadata": {},
     "output_type": "execute_result"
    }
   ],
   "source": [
    "mystring = \"Hello World\"\n",
    "mystring[8]"
   ]
  },
  {
   "cell_type": "code",
   "execution_count": 95,
   "id": "8c33aebf",
   "metadata": {},
   "outputs": [
    {
     "data": {
      "text/plain": [
       "'ink'"
      ]
     },
     "execution_count": 95,
     "metadata": {},
     "output_type": "execute_result"
    }
   ],
   "source": [
    "'tinker'[1:4]"
   ]
  },
  {
   "cell_type": "code",
   "execution_count": 107,
   "id": "6d585367",
   "metadata": {},
   "outputs": [
    {
     "data": {
      "text/plain": [
       "'Zalogon'"
      ]
     },
     "execution_count": 107,
     "metadata": {},
     "output_type": "execute_result"
    }
   ],
   "source": [
    "my_name"
   ]
  },
  {
   "cell_type": "code",
   "execution_count": 109,
   "id": "50138103",
   "metadata": {},
   "outputs": [
    {
     "name": "stdout",
     "output_type": "stream",
     "text": [
      "gon\n"
     ]
    }
   ],
   "source": [
    "print(my_name[4:])"
   ]
  },
  {
   "cell_type": "code",
   "execution_count": 114,
   "id": "4c78dd3b",
   "metadata": {},
   "outputs": [
    {
     "name": "stdout",
     "output_type": "stream",
     "text": [
      "Zalo\n"
     ]
    }
   ],
   "source": [
    "print(my_name[:4])"
   ]
  },
  {
   "cell_type": "markdown",
   "id": "3743951c",
   "metadata": {},
   "source": [
    "**IMMUTABILITY**"
   ]
  },
  {
   "cell_type": "code",
   "execution_count": 115,
   "id": "4623f69d",
   "metadata": {},
   "outputs": [],
   "source": [
    "name = \"Sam\""
   ]
  },
  {
   "cell_type": "code",
   "execution_count": 116,
   "id": "4a87da11",
   "metadata": {},
   "outputs": [
    {
     "ename": "TypeError",
     "evalue": "'str' object does not support item assignment",
     "output_type": "error",
     "traceback": [
      "\u001b[1;31m---------------------------------------------------------------------------\u001b[0m",
      "\u001b[1;31mTypeError\u001b[0m                                 Traceback (most recent call last)",
      "\u001b[1;32m~\\AppData\\Local\\Temp/ipykernel_4788/155283819.py\u001b[0m in \u001b[0;36m<module>\u001b[1;34m\u001b[0m\n\u001b[1;32m----> 1\u001b[1;33m \u001b[0mname\u001b[0m\u001b[1;33m[\u001b[0m\u001b[1;36m0\u001b[0m\u001b[1;33m]\u001b[0m \u001b[1;33m=\u001b[0m \u001b[1;34m\"P\"\u001b[0m\u001b[1;33m\u001b[0m\u001b[1;33m\u001b[0m\u001b[0m\n\u001b[0m",
      "\u001b[1;31mTypeError\u001b[0m: 'str' object does not support item assignment"
     ]
    }
   ],
   "source": [
    "name[0] = \"P\""
   ]
  },
  {
   "cell_type": "code",
   "execution_count": 117,
   "id": "7e80041d",
   "metadata": {},
   "outputs": [],
   "source": [
    "# name[0] = \"P\""
   ]
  },
  {
   "cell_type": "code",
   "execution_count": 118,
   "id": "741d0c30",
   "metadata": {},
   "outputs": [
    {
     "data": {
      "text/plain": [
       "'am'"
      ]
     },
     "execution_count": 118,
     "metadata": {},
     "output_type": "execute_result"
    }
   ],
   "source": [
    "name[1:]"
   ]
  },
  {
   "cell_type": "code",
   "execution_count": 119,
   "id": "5b776afd",
   "metadata": {},
   "outputs": [],
   "source": [
    "last_letters = name[1:]"
   ]
  },
  {
   "cell_type": "code",
   "execution_count": 120,
   "id": "9d3e604b",
   "metadata": {},
   "outputs": [
    {
     "data": {
      "text/plain": [
       "'am'"
      ]
     },
     "execution_count": 120,
     "metadata": {},
     "output_type": "execute_result"
    }
   ],
   "source": [
    "last_letters"
   ]
  },
  {
   "cell_type": "code",
   "execution_count": 121,
   "id": "def085cb",
   "metadata": {},
   "outputs": [
    {
     "data": {
      "text/plain": [
       "'Pam'"
      ]
     },
     "execution_count": 121,
     "metadata": {},
     "output_type": "execute_result"
    }
   ],
   "source": [
    "'P' + last_letters"
   ]
  },
  {
   "cell_type": "code",
   "execution_count": 122,
   "id": "84bde529",
   "metadata": {},
   "outputs": [],
   "source": [
    "x = 'Hello World'"
   ]
  },
  {
   "cell_type": "code",
   "execution_count": 123,
   "id": "8db4c1c1",
   "metadata": {},
   "outputs": [
    {
     "data": {
      "text/plain": [
       "'Hello World it is beautiful outside!'"
      ]
     },
     "execution_count": 123,
     "metadata": {},
     "output_type": "execute_result"
    }
   ],
   "source": [
    "x + ' it is beautiful outside!'"
   ]
  },
  {
   "cell_type": "code",
   "execution_count": 124,
   "id": "a8625f90",
   "metadata": {},
   "outputs": [],
   "source": [
    "x = x + ' it is beautiful outside!'"
   ]
  },
  {
   "cell_type": "code",
   "execution_count": 125,
   "id": "a838ad7b",
   "metadata": {},
   "outputs": [
    {
     "data": {
      "text/plain": [
       "'Hello World it is beautiful outside!'"
      ]
     },
     "execution_count": 125,
     "metadata": {},
     "output_type": "execute_result"
    }
   ],
   "source": [
    "x"
   ]
  },
  {
   "cell_type": "code",
   "execution_count": 126,
   "id": "e9bc97b9",
   "metadata": {},
   "outputs": [
    {
     "data": {
      "text/plain": [
       "'Sam'"
      ]
     },
     "execution_count": 126,
     "metadata": {},
     "output_type": "execute_result"
    }
   ],
   "source": [
    "name"
   ]
  },
  {
   "cell_type": "code",
   "execution_count": 127,
   "id": "c0737e28",
   "metadata": {},
   "outputs": [
    {
     "ename": "TypeError",
     "evalue": "unsupported operand type(s) for -: 'str' and 'str'",
     "output_type": "error",
     "traceback": [
      "\u001b[1;31m---------------------------------------------------------------------------\u001b[0m",
      "\u001b[1;31mTypeError\u001b[0m                                 Traceback (most recent call last)",
      "\u001b[1;32m~\\AppData\\Local\\Temp/ipykernel_4788/3796232148.py\u001b[0m in \u001b[0;36m<module>\u001b[1;34m\u001b[0m\n\u001b[1;32m----> 1\u001b[1;33m \u001b[0mname\u001b[0m \u001b[1;33m-\u001b[0m \u001b[0mlast_letters\u001b[0m\u001b[1;33m\u001b[0m\u001b[1;33m\u001b[0m\u001b[0m\n\u001b[0m",
      "\u001b[1;31mTypeError\u001b[0m: unsupported operand type(s) for -: 'str' and 'str'"
     ]
    }
   ],
   "source": [
    "name - last_letters"
   ]
  },
  {
   "cell_type": "code",
   "execution_count": 128,
   "id": "7e1305d7",
   "metadata": {},
   "outputs": [
    {
     "ename": "TypeError",
     "evalue": "unsupported operand type(s) for -: 'str' and 'str'",
     "output_type": "error",
     "traceback": [
      "\u001b[1;31m---------------------------------------------------------------------------\u001b[0m",
      "\u001b[1;31mTypeError\u001b[0m                                 Traceback (most recent call last)",
      "\u001b[1;32m~\\AppData\\Local\\Temp/ipykernel_4788/4228543392.py\u001b[0m in \u001b[0;36m<module>\u001b[1;34m\u001b[0m\n\u001b[1;32m----> 1\u001b[1;33m \u001b[0mb\u001b[0m \u001b[1;33m=\u001b[0m \u001b[0mname\u001b[0m \u001b[1;33m-\u001b[0m \u001b[0mlast_letters\u001b[0m\u001b[1;33m\u001b[0m\u001b[1;33m\u001b[0m\u001b[0m\n\u001b[0m",
      "\u001b[1;31mTypeError\u001b[0m: unsupported operand type(s) for -: 'str' and 'str'"
     ]
    }
   ],
   "source": [
    "b = name - last_letters"
   ]
  },
  {
   "cell_type": "code",
   "execution_count": 129,
   "id": "8655c421",
   "metadata": {},
   "outputs": [],
   "source": [
    "letter = 'z'"
   ]
  },
  {
   "cell_type": "code",
   "execution_count": 130,
   "id": "46f96304",
   "metadata": {},
   "outputs": [
    {
     "data": {
      "text/plain": [
       "'zzzzzzzzzz'"
      ]
     },
     "execution_count": 130,
     "metadata": {},
     "output_type": "execute_result"
    }
   ],
   "source": [
    "letter * 10"
   ]
  },
  {
   "cell_type": "code",
   "execution_count": 131,
   "id": "50c066a2",
   "metadata": {},
   "outputs": [
    {
     "data": {
      "text/plain": [
       "5"
      ]
     },
     "execution_count": 131,
     "metadata": {},
     "output_type": "execute_result"
    }
   ],
   "source": [
    "2 + 3"
   ]
  },
  {
   "cell_type": "code",
   "execution_count": 132,
   "id": "0851366b",
   "metadata": {},
   "outputs": [
    {
     "data": {
      "text/plain": [
       "'23'"
      ]
     },
     "execution_count": 132,
     "metadata": {},
     "output_type": "execute_result"
    }
   ],
   "source": [
    "'2' + '3'"
   ]
  },
  {
   "cell_type": "code",
   "execution_count": 133,
   "id": "7c4e951f",
   "metadata": {},
   "outputs": [],
   "source": [
    "newname = 'P'+last_letters"
   ]
  },
  {
   "cell_type": "code",
   "execution_count": 134,
   "id": "c0e9dc30",
   "metadata": {},
   "outputs": [
    {
     "data": {
      "text/plain": [
       "'Pam'"
      ]
     },
     "execution_count": 134,
     "metadata": {},
     "output_type": "execute_result"
    }
   ],
   "source": [
    "newname"
   ]
  },
  {
   "cell_type": "code",
   "execution_count": 135,
   "id": "e8ebbcab",
   "metadata": {},
   "outputs": [],
   "source": [
    "x = 'Hello World'"
   ]
  },
  {
   "cell_type": "code",
   "execution_count": 136,
   "id": "65a6eb68",
   "metadata": {},
   "outputs": [
    {
     "data": {
      "text/plain": [
       "'HELLO WORLD'"
      ]
     },
     "execution_count": 136,
     "metadata": {},
     "output_type": "execute_result"
    }
   ],
   "source": [
    "x.upper ()"
   ]
  },
  {
   "cell_type": "code",
   "execution_count": 137,
   "id": "f7c37fbe",
   "metadata": {},
   "outputs": [
    {
     "data": {
      "text/plain": [
       "'Hello World'"
      ]
     },
     "execution_count": 137,
     "metadata": {},
     "output_type": "execute_result"
    }
   ],
   "source": [
    "x"
   ]
  },
  {
   "cell_type": "code",
   "execution_count": 138,
   "id": "a0b1f4b5",
   "metadata": {},
   "outputs": [
    {
     "data": {
      "text/plain": [
       "<function str.upper()>"
      ]
     },
     "execution_count": 138,
     "metadata": {},
     "output_type": "execute_result"
    }
   ],
   "source": [
    "x.upper"
   ]
  },
  {
   "cell_type": "code",
   "execution_count": 139,
   "id": "69c64e25",
   "metadata": {},
   "outputs": [
    {
     "data": {
      "text/plain": [
       "'hello world'"
      ]
     },
     "execution_count": 139,
     "metadata": {},
     "output_type": "execute_result"
    }
   ],
   "source": [
    "x.lower()"
   ]
  },
  {
   "cell_type": "code",
   "execution_count": 140,
   "id": "816817c9",
   "metadata": {},
   "outputs": [
    {
     "data": {
      "text/plain": [
       "['Hello', 'World']"
      ]
     },
     "execution_count": 140,
     "metadata": {},
     "output_type": "execute_result"
    }
   ],
   "source": [
    "x.split()"
   ]
  },
  {
   "cell_type": "code",
   "execution_count": 141,
   "id": "cc01003c",
   "metadata": {},
   "outputs": [],
   "source": [
    "x = 'This is a string'"
   ]
  },
  {
   "cell_type": "code",
   "execution_count": 142,
   "id": "66ea516b",
   "metadata": {},
   "outputs": [
    {
     "data": {
      "text/plain": [
       "['Th', 's ', 's a str', 'ng']"
      ]
     },
     "execution_count": 142,
     "metadata": {},
     "output_type": "execute_result"
    }
   ],
   "source": [
    "x.split('i')"
   ]
  },
  {
   "cell_type": "code",
   "execution_count": 144,
   "id": "f7f89a8a",
   "metadata": {},
   "outputs": [
    {
     "data": {
      "text/plain": [
       "'tHIS IS A STRING'"
      ]
     },
     "execution_count": 144,
     "metadata": {},
     "output_type": "execute_result"
    }
   ],
   "source": [
    "x.swapcase()"
   ]
  },
  {
   "cell_type": "code",
   "execution_count": 145,
   "id": "99ae47b1",
   "metadata": {},
   "outputs": [
    {
     "name": "stdout",
     "output_type": "stream",
     "text": [
      "Hello Zalogon\n"
     ]
    }
   ],
   "source": [
    "print('Hello ' + my_name)"
   ]
  },
  {
   "cell_type": "code",
   "execution_count": 146,
   "id": "977e58bf",
   "metadata": {},
   "outputs": [
    {
     "name": "stdout",
     "output_type": "stream",
     "text": [
      "This is a string INSERTED\n"
     ]
    }
   ],
   "source": [
    "print('This is a string {}'.format('INSERTED'))"
   ]
  },
  {
   "cell_type": "code",
   "execution_count": 147,
   "id": "7fac7d83",
   "metadata": {},
   "outputs": [
    {
     "name": "stdout",
     "output_type": "stream",
     "text": [
      "The fox is brown and quick.\n"
     ]
    }
   ],
   "source": [
    " print('The {} is {} and {}.'.format('fox', 'brown', 'quick'))"
   ]
  },
  {
   "cell_type": "code",
   "execution_count": 149,
   "id": "9403eb50",
   "metadata": {},
   "outputs": [
    {
     "name": "stdout",
     "output_type": "stream",
     "text": [
      "The quick brown fox.\n"
     ]
    }
   ],
   "source": [
    " print('The {2} {1} {0}.'.format('fox', 'brown', 'quick'))"
   ]
  },
  {
   "cell_type": "code",
   "execution_count": 150,
   "id": "98361a0f",
   "metadata": {},
   "outputs": [
    {
     "name": "stdout",
     "output_type": "stream",
     "text": [
      "The fox fox fox.\n"
     ]
    }
   ],
   "source": [
    " print('The {0} {0} {0}.'.format('fox', 'brown', 'quick'))"
   ]
  },
  {
   "cell_type": "code",
   "execution_count": 151,
   "id": "4bfe48a9",
   "metadata": {},
   "outputs": [
    {
     "name": "stdout",
     "output_type": "stream",
     "text": [
      "The quick brown Zalogon.\n"
     ]
    }
   ],
   "source": [
    " print('The {2} {1} {0}.'.format(my_name, 'brown', 'quick'))"
   ]
  },
  {
   "cell_type": "code",
   "execution_count": 152,
   "id": "e6431082",
   "metadata": {},
   "outputs": [
    {
     "name": "stdout",
     "output_type": "stream",
     "text": [
      "The quick brown fox.\n"
     ]
    }
   ],
   "source": [
    " print('The {q} {b} {f}.'.format(f='fox',b='brown',q='quick'))"
   ]
  },
  {
   "cell_type": "markdown",
   "id": "7622324e",
   "metadata": {},
   "source": [
    "**Float formating follow \"{value:width.precision *f* }\"** "
   ]
  },
  {
   "cell_type": "code",
   "execution_count": 154,
   "id": "cedba100",
   "metadata": {},
   "outputs": [],
   "source": [
    "result = 100/777"
   ]
  },
  {
   "cell_type": "raw",
   "id": "f8fecae5",
   "metadata": {},
   "source": [
    "result"
   ]
  },
  {
   "cell_type": "code",
   "execution_count": 155,
   "id": "2b05f075",
   "metadata": {},
   "outputs": [
    {
     "data": {
      "text/plain": [
       "0.1287001287001287"
      ]
     },
     "execution_count": 155,
     "metadata": {},
     "output_type": "execute_result"
    }
   ],
   "source": [
    "result"
   ]
  },
  {
   "cell_type": "code",
   "execution_count": 157,
   "id": "d5b9c28f",
   "metadata": {},
   "outputs": [
    {
     "name": "stdout",
     "output_type": "stream",
     "text": [
      "The result was 0.1287001287001287\n"
     ]
    }
   ],
   "source": [
    "print(\"The result was {r}\".format(r=result))"
   ]
  },
  {
   "cell_type": "code",
   "execution_count": 160,
   "id": "38f40484",
   "metadata": {},
   "outputs": [
    {
     "name": "stdout",
     "output_type": "stream",
     "text": [
      "The result was 0.129\n"
     ]
    }
   ],
   "source": [
    "print(\"The result was {r:1.3}\".format(r=result))"
   ]
  },
  {
   "cell_type": "code",
   "execution_count": 161,
   "id": "b808a53b",
   "metadata": {},
   "outputs": [
    {
     "name": "stdout",
     "output_type": "stream",
     "text": [
      "The result was 0.129\n"
     ]
    }
   ],
   "source": [
    "print(\"The result was {r:1.3f}\".format(r=result))"
   ]
  },
  {
   "cell_type": "code",
   "execution_count": 165,
   "id": "129bf689",
   "metadata": {},
   "outputs": [
    {
     "name": "stdout",
     "output_type": "stream",
     "text": [
      "The result was      0.129\n"
     ]
    }
   ],
   "source": [
    "print(\"The result was {r:10.3f}\".format(r=result))"
   ]
  },
  {
   "cell_type": "code",
   "execution_count": 166,
   "id": "842aba80",
   "metadata": {},
   "outputs": [
    {
     "name": "stdout",
     "output_type": "stream",
     "text": [
      "The result was    0.12870\n"
     ]
    }
   ],
   "source": [
    "print(\"The result was {r:10.5f}\".format(r=result))"
   ]
  },
  {
   "cell_type": "code",
   "execution_count": 167,
   "id": "82cf90df",
   "metadata": {},
   "outputs": [],
   "source": [
    "result = 104.12345"
   ]
  },
  {
   "cell_type": "code",
   "execution_count": 170,
   "id": "25fc61b0",
   "metadata": {},
   "outputs": [
    {
     "name": "stdout",
     "output_type": "stream",
     "text": [
      "The result was         104.123\n"
     ]
    }
   ],
   "source": [
    "print(\"The result was {r:15.3f}\".format(r=result))"
   ]
  },
  {
   "cell_type": "code",
   "execution_count": 171,
   "id": "4ad32460",
   "metadata": {},
   "outputs": [
    {
     "name": "stdout",
     "output_type": "stream",
     "text": [
      "The result was 104.12345\n"
     ]
    }
   ],
   "source": [
    "print(\"The result was {r:1.5f}\".format(r=result))"
   ]
  },
  {
   "cell_type": "code",
   "execution_count": null,
   "id": "b0d56513",
   "metadata": {},
   "outputs": [],
   "source": []
  },
  {
   "cell_type": "markdown",
   "id": "69d2f9be",
   "metadata": {},
   "source": [
    "**f-stings method** - *formated strings literals*\n",
    "\n",
    "Se agrega una **f** antes del string y luego se anota entre llaves directo lo que querés que te traiga"
   ]
  },
  {
   "cell_type": "code",
   "execution_count": 172,
   "id": "b1d5af67",
   "metadata": {},
   "outputs": [],
   "source": [
    "name = \"Jose\""
   ]
  },
  {
   "cell_type": "code",
   "execution_count": 173,
   "id": "d2eac550",
   "metadata": {},
   "outputs": [
    {
     "name": "stdout",
     "output_type": "stream",
     "text": [
      "Hello,his name is Jose\n"
     ]
    }
   ],
   "source": [
    "print(f'Hello,his name is {name}')"
   ]
  },
  {
   "cell_type": "code",
   "execution_count": 174,
   "id": "0b018d31",
   "metadata": {},
   "outputs": [],
   "source": [
    " age = 3"
   ]
  },
  {
   "cell_type": "code",
   "execution_count": 176,
   "id": "f95e7d36",
   "metadata": {
    "scrolled": false
   },
   "outputs": [
    {
     "name": "stdout",
     "output_type": "stream",
     "text": [
      "Jose is 3 years old.\n"
     ]
    }
   ],
   "source": [
    "print(f'{name} is {age} years old.')"
   ]
  },
  {
   "cell_type": "code",
   "execution_count": 179,
   "id": "dc11cf2c",
   "metadata": {},
   "outputs": [
    {
     "data": {
      "text/plain": [
       "'Python rules!'"
      ]
     },
     "execution_count": 179,
     "metadata": {},
     "output_type": "execute_result"
    }
   ],
   "source": [
    "'{} rules!'.format('Python')"
   ]
  },
  {
   "cell_type": "markdown",
   "id": "5582963d",
   "metadata": {},
   "source": [
    "\n",
    "**LISTS**\n"
   ]
  },
  {
   "cell_type": "code",
   "execution_count": 180,
   "id": "67740024",
   "metadata": {},
   "outputs": [],
   "source": [
    "my_list = [1,2,3]"
   ]
  },
  {
   "cell_type": "code",
   "execution_count": 181,
   "id": "87888642",
   "metadata": {},
   "outputs": [],
   "source": [
    "my_list = ['STRING', 100, 23.2]"
   ]
  },
  {
   "cell_type": "code",
   "execution_count": 182,
   "id": "586c47ae",
   "metadata": {},
   "outputs": [
    {
     "data": {
      "text/plain": [
       "3"
      ]
     },
     "execution_count": 182,
     "metadata": {},
     "output_type": "execute_result"
    }
   ],
   "source": [
    "len(my_list)"
   ]
  },
  {
   "cell_type": "code",
   "execution_count": 183,
   "id": "35c92734",
   "metadata": {},
   "outputs": [],
   "source": [
    "my_list = ['one', 'two', 'three']"
   ]
  },
  {
   "cell_type": "code",
   "execution_count": 184,
   "id": "01b0039a",
   "metadata": {},
   "outputs": [
    {
     "data": {
      "text/plain": [
       "'one'"
      ]
     },
     "execution_count": 184,
     "metadata": {},
     "output_type": "execute_result"
    }
   ],
   "source": [
    "my_list[0]"
   ]
  },
  {
   "cell_type": "code",
   "execution_count": 185,
   "id": "856c0333",
   "metadata": {},
   "outputs": [
    {
     "data": {
      "text/plain": [
       "['two', 'three']"
      ]
     },
     "execution_count": 185,
     "metadata": {},
     "output_type": "execute_result"
    }
   ],
   "source": [
    "my_list[1:]"
   ]
  },
  {
   "cell_type": "code",
   "execution_count": 186,
   "id": "c72b2e1c",
   "metadata": {},
   "outputs": [
    {
     "data": {
      "text/plain": [
       "['one', 'two', 'three']"
      ]
     },
     "execution_count": 186,
     "metadata": {},
     "output_type": "execute_result"
    }
   ],
   "source": [
    "my_list"
   ]
  },
  {
   "cell_type": "code",
   "execution_count": 187,
   "id": "ff4b7ff4",
   "metadata": {},
   "outputs": [],
   "source": [
    "another_list=['four', 'five']"
   ]
  },
  {
   "cell_type": "code",
   "execution_count": 188,
   "id": "301e1338",
   "metadata": {},
   "outputs": [
    {
     "data": {
      "text/plain": [
       "['one', 'two', 'three', 'four', 'five']"
      ]
     },
     "execution_count": 188,
     "metadata": {},
     "output_type": "execute_result"
    }
   ],
   "source": [
    "my_list + another_list"
   ]
  },
  {
   "cell_type": "code",
   "execution_count": 189,
   "id": "17ec496d",
   "metadata": {},
   "outputs": [],
   "source": [
    "new_list = my_list + another_list"
   ]
  },
  {
   "cell_type": "code",
   "execution_count": 190,
   "id": "aabfa963",
   "metadata": {},
   "outputs": [],
   "source": [
    "new_list[0] = 'ONE ALL CAPS'"
   ]
  },
  {
   "cell_type": "code",
   "execution_count": 191,
   "id": "1578ccb4",
   "metadata": {},
   "outputs": [
    {
     "data": {
      "text/plain": [
       "['one', 'two', 'three']"
      ]
     },
     "execution_count": 191,
     "metadata": {},
     "output_type": "execute_result"
    }
   ],
   "source": [
    "my_list"
   ]
  },
  {
   "cell_type": "code",
   "execution_count": 192,
   "id": "2b332a7d",
   "metadata": {},
   "outputs": [
    {
     "data": {
      "text/plain": [
       "['ONE ALL CAPS', 'two', 'three', 'four', 'five']"
      ]
     },
     "execution_count": 192,
     "metadata": {},
     "output_type": "execute_result"
    }
   ],
   "source": [
    "new_list"
   ]
  },
  {
   "cell_type": "code",
   "execution_count": 193,
   "id": "cc921a3e",
   "metadata": {},
   "outputs": [
    {
     "data": {
      "text/plain": [
       "['one', 'two', 'three']"
      ]
     },
     "execution_count": 193,
     "metadata": {},
     "output_type": "execute_result"
    }
   ],
   "source": [
    "my_list"
   ]
  },
  {
   "cell_type": "markdown",
   "id": "ef3fd52f",
   "metadata": {},
   "source": [
    "*Se pueden agregar elementos al final de una lista usando* **.append**\n"
   ]
  },
  {
   "cell_type": "code",
   "execution_count": 194,
   "id": "cf2f5b89",
   "metadata": {},
   "outputs": [],
   "source": [
    "new_list.append('six')"
   ]
  },
  {
   "cell_type": "code",
   "execution_count": 195,
   "id": "dc868844",
   "metadata": {},
   "outputs": [
    {
     "data": {
      "text/plain": [
       "['ONE ALL CAPS', 'two', 'three', 'four', 'five', 'six']"
      ]
     },
     "execution_count": 195,
     "metadata": {},
     "output_type": "execute_result"
    }
   ],
   "source": [
    "new_list"
   ]
  },
  {
   "cell_type": "code",
   "execution_count": 196,
   "id": "5a31308a",
   "metadata": {},
   "outputs": [],
   "source": [
    "new_list.append('seven')"
   ]
  },
  {
   "cell_type": "code",
   "execution_count": 197,
   "id": "c12cc9a8",
   "metadata": {},
   "outputs": [
    {
     "data": {
      "text/plain": [
       "['ONE ALL CAPS', 'two', 'three', 'four', 'five', 'six', 'seven']"
      ]
     },
     "execution_count": 197,
     "metadata": {},
     "output_type": "execute_result"
    }
   ],
   "source": [
    "new_list"
   ]
  },
  {
   "cell_type": "markdown",
   "id": "3103c75e",
   "metadata": {},
   "source": [
    "*Se pueden quitar elementos al final de una lista usando* **.pop**\n",
    "\n"
   ]
  },
  {
   "cell_type": "code",
   "execution_count": 198,
   "id": "9b8df395",
   "metadata": {},
   "outputs": [
    {
     "data": {
      "text/plain": [
       "'seven'"
      ]
     },
     "execution_count": 198,
     "metadata": {},
     "output_type": "execute_result"
    }
   ],
   "source": [
    "new_list.pop()"
   ]
  },
  {
   "cell_type": "code",
   "execution_count": 199,
   "id": "d9a76367",
   "metadata": {},
   "outputs": [
    {
     "data": {
      "text/plain": [
       "['ONE ALL CAPS', 'two', 'three', 'four', 'five', 'six']"
      ]
     },
     "execution_count": 199,
     "metadata": {},
     "output_type": "execute_result"
    }
   ],
   "source": [
    "new_list"
   ]
  },
  {
   "cell_type": "code",
   "execution_count": 200,
   "id": "9ccb69da",
   "metadata": {},
   "outputs": [],
   "source": [
    "popped_item = new_list.pop()"
   ]
  },
  {
   "cell_type": "code",
   "execution_count": 201,
   "id": "b255c655",
   "metadata": {},
   "outputs": [
    {
     "data": {
      "text/plain": [
       "'six'"
      ]
     },
     "execution_count": 201,
     "metadata": {},
     "output_type": "execute_result"
    }
   ],
   "source": [
    "popped_item"
   ]
  },
  {
   "cell_type": "code",
   "execution_count": 202,
   "id": "3fd4bf47",
   "metadata": {},
   "outputs": [
    {
     "data": {
      "text/plain": [
       "['ONE ALL CAPS', 'two', 'three', 'four', 'five']"
      ]
     },
     "execution_count": 202,
     "metadata": {},
     "output_type": "execute_result"
    }
   ],
   "source": [
    "new_list"
   ]
  },
  {
   "cell_type": "code",
   "execution_count": 203,
   "id": "838ba827",
   "metadata": {},
   "outputs": [
    {
     "data": {
      "text/plain": [
       "'ONE ALL CAPS'"
      ]
     },
     "execution_count": 203,
     "metadata": {},
     "output_type": "execute_result"
    }
   ],
   "source": [
    "new_list.pop(0)"
   ]
  },
  {
   "cell_type": "code",
   "execution_count": 204,
   "id": "118a31d5",
   "metadata": {},
   "outputs": [
    {
     "data": {
      "text/plain": [
       "['two', 'three', 'four', 'five']"
      ]
     },
     "execution_count": 204,
     "metadata": {},
     "output_type": "execute_result"
    }
   ],
   "source": [
    "new_list"
   ]
  },
  {
   "cell_type": "code",
   "execution_count": 205,
   "id": "89ef1cdf",
   "metadata": {},
   "outputs": [],
   "source": [
    "new_list = ['a', 'e', 'x', 'b', 'c']"
   ]
  },
  {
   "cell_type": "code",
   "execution_count": 206,
   "id": "6899b050",
   "metadata": {},
   "outputs": [],
   "source": [
    "num_list = [4,1,8,3]"
   ]
  },
  {
   "cell_type": "code",
   "execution_count": 207,
   "id": "af64b18f",
   "metadata": {},
   "outputs": [],
   "source": [
    "new_list.sort()"
   ]
  },
  {
   "cell_type": "code",
   "execution_count": 208,
   "id": "282bf2fd",
   "metadata": {},
   "outputs": [
    {
     "data": {
      "text/plain": [
       "['a', 'b', 'c', 'e', 'x']"
      ]
     },
     "execution_count": 208,
     "metadata": {},
     "output_type": "execute_result"
    }
   ],
   "source": [
    "new_list"
   ]
  },
  {
   "cell_type": "code",
   "execution_count": 209,
   "id": "d8080204",
   "metadata": {},
   "outputs": [],
   "source": [
    "my_sorted_list = new_list.sort()"
   ]
  },
  {
   "cell_type": "code",
   "execution_count": 210,
   "id": "fcd5192b",
   "metadata": {},
   "outputs": [],
   "source": [
    "my_sorted_list"
   ]
  },
  {
   "cell_type": "code",
   "execution_count": 211,
   "id": "17fbca8f",
   "metadata": {},
   "outputs": [
    {
     "data": {
      "text/plain": [
       "NoneType"
      ]
     },
     "execution_count": 211,
     "metadata": {},
     "output_type": "execute_result"
    }
   ],
   "source": [
    "type(my_sorted_list)"
   ]
  },
  {
   "cell_type": "code",
   "execution_count": 212,
   "id": "6d615388",
   "metadata": {},
   "outputs": [],
   "source": [
    "None"
   ]
  },
  {
   "cell_type": "markdown",
   "id": "13bdf71b",
   "metadata": {},
   "source": [
    "\"None\" es un default value para funciones que no traen ningun resultado, como .sort() ordena la lista pero no trae ningun valor, por eso \"my_sorted_list = new_list.sort()\" no trae nada y Python la reconoce como un NoneType"
   ]
  },
  {
   "cell_type": "code",
   "execution_count": 213,
   "id": "a6b720eb",
   "metadata": {},
   "outputs": [
    {
     "data": {
      "text/plain": [
       "[4, 1, 8, 3]"
      ]
     },
     "execution_count": 213,
     "metadata": {},
     "output_type": "execute_result"
    }
   ],
   "source": [
    "num_list"
   ]
  },
  {
   "cell_type": "code",
   "execution_count": 214,
   "id": "212080d3",
   "metadata": {},
   "outputs": [],
   "source": [
    "num_list.sort()"
   ]
  },
  {
   "cell_type": "code",
   "execution_count": 215,
   "id": "c3cc1e29",
   "metadata": {},
   "outputs": [
    {
     "data": {
      "text/plain": [
       "[1, 3, 4, 8]"
      ]
     },
     "execution_count": 215,
     "metadata": {},
     "output_type": "execute_result"
    }
   ],
   "source": [
    "num_list"
   ]
  },
  {
   "cell_type": "code",
   "execution_count": 216,
   "id": "b7663821",
   "metadata": {},
   "outputs": [],
   "source": [
    "num_list.reverse()"
   ]
  },
  {
   "cell_type": "code",
   "execution_count": 217,
   "id": "ded2b988",
   "metadata": {},
   "outputs": [
    {
     "data": {
      "text/plain": [
       "[8, 4, 3, 1]"
      ]
     },
     "execution_count": 217,
     "metadata": {},
     "output_type": "execute_result"
    }
   ],
   "source": [
    "num_list"
   ]
  },
  {
   "cell_type": "code",
   "execution_count": 218,
   "id": "914a6c53",
   "metadata": {},
   "outputs": [
    {
     "data": {
      "text/plain": [
       "[4, 3, 1]"
      ]
     },
     "execution_count": 218,
     "metadata": {},
     "output_type": "execute_result"
    }
   ],
   "source": [
    "num_list[1:]"
   ]
  },
  {
   "cell_type": "code",
   "execution_count": 219,
   "id": "667b93db",
   "metadata": {},
   "outputs": [
    {
     "data": {
      "text/plain": [
       "3"
      ]
     },
     "execution_count": 219,
     "metadata": {},
     "output_type": "execute_result"
    }
   ],
   "source": [
    "num_list[2]"
   ]
  },
  {
   "cell_type": "code",
   "execution_count": 1,
   "id": "e61845b9",
   "metadata": {},
   "outputs": [],
   "source": [
    "lst=[0,1,2]"
   ]
  },
  {
   "cell_type": "code",
   "execution_count": 2,
   "id": "3b6df3c1",
   "metadata": {},
   "outputs": [
    {
     "data": {
      "text/plain": [
       "2"
      ]
     },
     "execution_count": 2,
     "metadata": {},
     "output_type": "execute_result"
    }
   ],
   "source": [
    "lst.pop()"
   ]
  },
  {
   "cell_type": "code",
   "execution_count": 5,
   "id": "cfc9db55",
   "metadata": {},
   "outputs": [],
   "source": [
    "my_dict = {'key1' : 'value1' ,  'key2' : 'value2'}"
   ]
  },
  {
   "cell_type": "code",
   "execution_count": 6,
   "id": "225cfccf",
   "metadata": {},
   "outputs": [
    {
     "data": {
      "text/plain": [
       "{'key1': 'value1', 'key2': 'value2'}"
      ]
     },
     "execution_count": 6,
     "metadata": {},
     "output_type": "execute_result"
    }
   ],
   "source": [
    "my_dict"
   ]
  },
  {
   "cell_type": "code",
   "execution_count": 7,
   "id": "c5e3499b",
   "metadata": {},
   "outputs": [
    {
     "data": {
      "text/plain": [
       "'value1'"
      ]
     },
     "execution_count": 7,
     "metadata": {},
     "output_type": "execute_result"
    }
   ],
   "source": [
    "my_dict['key1']"
   ]
  },
  {
   "cell_type": "code",
   "execution_count": 8,
   "id": "3bd5485d",
   "metadata": {},
   "outputs": [],
   "source": [
    "prices_lookup = {'apple' : 2.99, 'oranges':1.99, 'milk':5.80}"
   ]
  },
  {
   "cell_type": "code",
   "execution_count": 9,
   "id": "3baf8d9b",
   "metadata": {},
   "outputs": [
    {
     "data": {
      "text/plain": [
       "2.99"
      ]
     },
     "execution_count": 9,
     "metadata": {},
     "output_type": "execute_result"
    }
   ],
   "source": [
    " prices_lookup['apple']"
   ]
  },
  {
   "cell_type": "code",
   "execution_count": 3,
   "id": "c22a2821",
   "metadata": {},
   "outputs": [],
   "source": [
    "d = {'k1': 123, 'k2':[0,1,2], 'k3':{'insideKey':100}}"
   ]
  },
  {
   "cell_type": "code",
   "execution_count": 4,
   "id": "e36d6782",
   "metadata": {},
   "outputs": [
    {
     "data": {
      "text/plain": [
       "[0, 1, 2]"
      ]
     },
     "execution_count": 4,
     "metadata": {},
     "output_type": "execute_result"
    }
   ],
   "source": [
    "d['k2']"
   ]
  },
  {
   "cell_type": "code",
   "execution_count": 5,
   "id": "646cf608",
   "metadata": {},
   "outputs": [
    {
     "data": {
      "text/plain": [
       "{'insideKey': 100}"
      ]
     },
     "execution_count": 5,
     "metadata": {},
     "output_type": "execute_result"
    }
   ],
   "source": [
    "d['k3']"
   ]
  },
  {
   "cell_type": "code",
   "execution_count": 6,
   "id": "4f6a2e80",
   "metadata": {},
   "outputs": [
    {
     "data": {
      "text/plain": [
       "100"
      ]
     },
     "execution_count": 6,
     "metadata": {},
     "output_type": "execute_result"
    }
   ],
   "source": [
    "d['k3']['insideKey']"
   ]
  },
  {
   "cell_type": "code",
   "execution_count": 7,
   "id": "21abbad0",
   "metadata": {},
   "outputs": [
    {
     "data": {
      "text/plain": [
       "[0, 1, 2]"
      ]
     },
     "execution_count": 7,
     "metadata": {},
     "output_type": "execute_result"
    }
   ],
   "source": [
    "d['k2']"
   ]
  },
  {
   "cell_type": "code",
   "execution_count": 8,
   "id": "eed6aadd",
   "metadata": {},
   "outputs": [
    {
     "data": {
      "text/plain": [
       "123"
      ]
     },
     "execution_count": 8,
     "metadata": {},
     "output_type": "execute_result"
    }
   ],
   "source": [
    "d['k1']"
   ]
  },
  {
   "cell_type": "code",
   "execution_count": 10,
   "id": "c694c846",
   "metadata": {},
   "outputs": [
    {
     "data": {
      "text/plain": [
       "1"
      ]
     },
     "execution_count": 10,
     "metadata": {},
     "output_type": "execute_result"
    }
   ],
   "source": [
    "d['k2'][1]"
   ]
  },
  {
   "cell_type": "code",
   "execution_count": 18,
   "id": "09e3acca",
   "metadata": {},
   "outputs": [],
   "source": [
    "d = {'key1':['a', 'b', 'c']}"
   ]
  },
  {
   "cell_type": "code",
   "execution_count": 21,
   "id": "770c2ab3",
   "metadata": {},
   "outputs": [
    {
     "data": {
      "text/plain": [
       "{'key1': ['a', 'b', 'c']}"
      ]
     },
     "execution_count": 21,
     "metadata": {},
     "output_type": "execute_result"
    }
   ],
   "source": [
    "d"
   ]
  },
  {
   "cell_type": "code",
   "execution_count": 22,
   "id": "978829a1",
   "metadata": {},
   "outputs": [
    {
     "data": {
      "text/plain": [
       "'c'"
      ]
     },
     "execution_count": 22,
     "metadata": {},
     "output_type": "execute_result"
    }
   ],
   "source": [
    "d['key1'][2]"
   ]
  },
  {
   "cell_type": "code",
   "execution_count": 26,
   "id": "c319743d",
   "metadata": {},
   "outputs": [
    {
     "data": {
      "text/plain": [
       "'C'"
      ]
     },
     "execution_count": 26,
     "metadata": {},
     "output_type": "execute_result"
    }
   ],
   "source": [
    "d['key1'][2].upper()"
   ]
  },
  {
   "cell_type": "code",
   "execution_count": 28,
   "id": "8d73e429",
   "metadata": {},
   "outputs": [],
   "source": [
    "d = {'k1': 100, 'k2':200}"
   ]
  },
  {
   "cell_type": "code",
   "execution_count": 29,
   "id": "c87921db",
   "metadata": {},
   "outputs": [],
   "source": [
    "d['k3']=300"
   ]
  },
  {
   "cell_type": "code",
   "execution_count": 30,
   "id": "a48cedc6",
   "metadata": {},
   "outputs": [
    {
     "data": {
      "text/plain": [
       "{'k1': 100, 'k2': 200, 'k3': 300}"
      ]
     },
     "execution_count": 30,
     "metadata": {},
     "output_type": "execute_result"
    }
   ],
   "source": [
    "d"
   ]
  },
  {
   "cell_type": "code",
   "execution_count": 33,
   "id": "e8f6cbd0",
   "metadata": {},
   "outputs": [],
   "source": [
    "d['k1']='NEW VALUE'"
   ]
  },
  {
   "cell_type": "code",
   "execution_count": 32,
   "id": "bdcb8639",
   "metadata": {},
   "outputs": [
    {
     "data": {
      "text/plain": [
       "{'k1': 666, 'k2': 200, 'k3': 300}"
      ]
     },
     "execution_count": 32,
     "metadata": {},
     "output_type": "execute_result"
    }
   ],
   "source": [
    "d"
   ]
  },
  {
   "cell_type": "code",
   "execution_count": 34,
   "id": "be1195cf",
   "metadata": {},
   "outputs": [],
   "source": [
    "d = {'k1': 100, 'k2': 200, 'k3': 300}"
   ]
  },
  {
   "cell_type": "code",
   "execution_count": 35,
   "id": "483e4a92",
   "metadata": {},
   "outputs": [
    {
     "data": {
      "text/plain": [
       "dict_keys(['k1', 'k2', 'k3'])"
      ]
     },
     "execution_count": 35,
     "metadata": {},
     "output_type": "execute_result"
    }
   ],
   "source": [
    "d.keys()"
   ]
  },
  {
   "cell_type": "code",
   "execution_count": 36,
   "id": "d430450a",
   "metadata": {},
   "outputs": [
    {
     "data": {
      "text/plain": [
       "dict_values([100, 200, 300])"
      ]
     },
     "execution_count": 36,
     "metadata": {},
     "output_type": "execute_result"
    }
   ],
   "source": [
    "d.values()"
   ]
  },
  {
   "cell_type": "code",
   "execution_count": 37,
   "id": "2d63abc0",
   "metadata": {},
   "outputs": [
    {
     "data": {
      "text/plain": [
       "dict_items([('k1', 100), ('k2', 200), ('k3', 300)])"
      ]
     },
     "execution_count": 37,
     "metadata": {},
     "output_type": "execute_result"
    }
   ],
   "source": [
    "d.items()"
   ]
  },
  {
   "cell_type": "markdown",
   "id": "d8bc792c",
   "metadata": {},
   "source": [
    "**KEYS son siempre Strings**"
   ]
  },
  {
   "cell_type": "markdown",
   "id": "f33236cd",
   "metadata": {},
   "source": [
    "**TUPLES** son inmutables, usan ()"
   ]
  },
  {
   "cell_type": "code",
   "execution_count": 38,
   "id": "91539345",
   "metadata": {},
   "outputs": [],
   "source": [
    "t = (1, 2, 3)"
   ]
  },
  {
   "cell_type": "code",
   "execution_count": 39,
   "id": "f21be837",
   "metadata": {},
   "outputs": [],
   "source": [
    "mylist = [1,2,3]"
   ]
  },
  {
   "cell_type": "code",
   "execution_count": 40,
   "id": "bb3c43e1",
   "metadata": {},
   "outputs": [
    {
     "data": {
      "text/plain": [
       "tuple"
      ]
     },
     "execution_count": 40,
     "metadata": {},
     "output_type": "execute_result"
    }
   ],
   "source": [
    "type(t)"
   ]
  },
  {
   "cell_type": "code",
   "execution_count": 41,
   "id": "6c7d44a5",
   "metadata": {},
   "outputs": [
    {
     "data": {
      "text/plain": [
       "list"
      ]
     },
     "execution_count": 41,
     "metadata": {},
     "output_type": "execute_result"
    }
   ],
   "source": [
    "type(mylist)"
   ]
  },
  {
   "cell_type": "code",
   "execution_count": 42,
   "id": "184afce5",
   "metadata": {},
   "outputs": [
    {
     "data": {
      "text/plain": [
       "3"
      ]
     },
     "execution_count": 42,
     "metadata": {},
     "output_type": "execute_result"
    }
   ],
   "source": [
    "len(t)"
   ]
  },
  {
   "cell_type": "code",
   "execution_count": 43,
   "id": "bf57f3d5",
   "metadata": {},
   "outputs": [
    {
     "data": {
      "text/plain": [
       "(1, 2, 3)"
      ]
     },
     "execution_count": 43,
     "metadata": {},
     "output_type": "execute_result"
    }
   ],
   "source": [
    "t"
   ]
  },
  {
   "cell_type": "code",
   "execution_count": 45,
   "id": "8a2055db",
   "metadata": {},
   "outputs": [],
   "source": [
    "t = ('one', 2)"
   ]
  },
  {
   "cell_type": "code",
   "execution_count": 46,
   "id": "895e093b",
   "metadata": {},
   "outputs": [
    {
     "data": {
      "text/plain": [
       "'one'"
      ]
     },
     "execution_count": 46,
     "metadata": {},
     "output_type": "execute_result"
    }
   ],
   "source": [
    "t[0]"
   ]
  },
  {
   "cell_type": "code",
   "execution_count": 47,
   "id": "2d2444af",
   "metadata": {},
   "outputs": [
    {
     "data": {
      "text/plain": [
       "2"
      ]
     },
     "execution_count": 47,
     "metadata": {},
     "output_type": "execute_result"
    }
   ],
   "source": [
    "t[-1]"
   ]
  },
  {
   "cell_type": "code",
   "execution_count": 48,
   "id": "173d6adb",
   "metadata": {},
   "outputs": [],
   "source": [
    "t = ('a', 'a', 'b')"
   ]
  },
  {
   "cell_type": "code",
   "execution_count": 49,
   "id": "d96d2ba8",
   "metadata": {},
   "outputs": [
    {
     "data": {
      "text/plain": [
       "2"
      ]
     },
     "execution_count": 49,
     "metadata": {},
     "output_type": "execute_result"
    }
   ],
   "source": [
    "t.count('a')"
   ]
  },
  {
   "cell_type": "code",
   "execution_count": 50,
   "id": "20afc843",
   "metadata": {},
   "outputs": [
    {
     "data": {
      "text/plain": [
       "0"
      ]
     },
     "execution_count": 50,
     "metadata": {},
     "output_type": "execute_result"
    }
   ],
   "source": [
    "t.index('a')"
   ]
  },
  {
   "cell_type": "markdown",
   "id": "2e66c7d2",
   "metadata": {},
   "source": [
    "Con .index si hay repetidos solo me trae el primero"
   ]
  },
  {
   "cell_type": "code",
   "execution_count": 51,
   "id": "95125b71",
   "metadata": {},
   "outputs": [
    {
     "data": {
      "text/plain": [
       "2"
      ]
     },
     "execution_count": 51,
     "metadata": {},
     "output_type": "execute_result"
    }
   ],
   "source": [
    "t.index('b')"
   ]
  },
  {
   "cell_type": "code",
   "execution_count": 52,
   "id": "f6fade66",
   "metadata": {},
   "outputs": [
    {
     "data": {
      "text/plain": [
       "('a', 'a', 'b')"
      ]
     },
     "execution_count": 52,
     "metadata": {},
     "output_type": "execute_result"
    }
   ],
   "source": [
    "t"
   ]
  },
  {
   "cell_type": "code",
   "execution_count": 53,
   "id": "42c5c63d",
   "metadata": {},
   "outputs": [
    {
     "data": {
      "text/plain": [
       "[1, 2, 3]"
      ]
     },
     "execution_count": 53,
     "metadata": {},
     "output_type": "execute_result"
    }
   ],
   "source": [
    "mylist"
   ]
  },
  {
   "cell_type": "code",
   "execution_count": 56,
   "id": "11c10ec0",
   "metadata": {},
   "outputs": [],
   "source": [
    "mylist[0]='NEW'"
   ]
  },
  {
   "cell_type": "code",
   "execution_count": 57,
   "id": "0a44f31d",
   "metadata": {},
   "outputs": [
    {
     "data": {
      "text/plain": [
       "['NEW', 2, 3]"
      ]
     },
     "execution_count": 57,
     "metadata": {},
     "output_type": "execute_result"
    }
   ],
   "source": [
    "mylist"
   ]
  },
  {
   "cell_type": "code",
   "execution_count": 58,
   "id": "fec6fcf5",
   "metadata": {},
   "outputs": [
    {
     "ename": "TypeError",
     "evalue": "'tuple' object does not support item assignment",
     "output_type": "error",
     "traceback": [
      "\u001b[1;31m---------------------------------------------------------------------------\u001b[0m",
      "\u001b[1;31mTypeError\u001b[0m                                 Traceback (most recent call last)",
      "\u001b[1;32m~\\AppData\\Local\\Temp/ipykernel_12176/3356927906.py\u001b[0m in \u001b[0;36m<module>\u001b[1;34m\u001b[0m\n\u001b[1;32m----> 1\u001b[1;33m \u001b[0mt\u001b[0m\u001b[1;33m[\u001b[0m\u001b[1;36m0\u001b[0m\u001b[1;33m]\u001b[0m\u001b[1;33m=\u001b[0m \u001b[1;34m'NEW'\u001b[0m\u001b[1;33m\u001b[0m\u001b[1;33m\u001b[0m\u001b[0m\n\u001b[0m",
      "\u001b[1;31mTypeError\u001b[0m: 'tuple' object does not support item assignment"
     ]
    }
   ],
   "source": [
    "t[0]= 'NEW'"
   ]
  },
  {
   "cell_type": "code",
   "execution_count": 59,
   "id": "bf0f99a3",
   "metadata": {},
   "outputs": [],
   "source": [
    "t=(1,2,[1,2])"
   ]
  },
  {
   "cell_type": "code",
   "execution_count": 60,
   "id": "0035625b",
   "metadata": {},
   "outputs": [
    {
     "data": {
      "text/plain": [
       "(1, 2, [1, 2])"
      ]
     },
     "execution_count": 60,
     "metadata": {},
     "output_type": "execute_result"
    }
   ],
   "source": [
    "t"
   ]
  },
  {
   "cell_type": "markdown",
   "id": "8022b6cb",
   "metadata": {},
   "source": [
    "\n",
    "   **SETS** unordered collection of **unique** elements\n",
    "   "
   ]
  },
  {
   "cell_type": "code",
   "execution_count": 1,
   "id": "7011802f",
   "metadata": {},
   "outputs": [],
   "source": [
    " myset = set()"
   ]
  },
  {
   "cell_type": "code",
   "execution_count": 2,
   "id": "7fe274a4",
   "metadata": {},
   "outputs": [
    {
     "data": {
      "text/plain": [
       "set()"
      ]
     },
     "execution_count": 2,
     "metadata": {},
     "output_type": "execute_result"
    }
   ],
   "source": [
    "myset"
   ]
  },
  {
   "cell_type": "code",
   "execution_count": 3,
   "id": "ee6b1076",
   "metadata": {},
   "outputs": [],
   "source": [
    "myset.add(1)"
   ]
  },
  {
   "cell_type": "code",
   "execution_count": 4,
   "id": "e5ce4f6d",
   "metadata": {},
   "outputs": [
    {
     "data": {
      "text/plain": [
       "{1}"
      ]
     },
     "execution_count": 4,
     "metadata": {},
     "output_type": "execute_result"
    }
   ],
   "source": [
    "myset"
   ]
  },
  {
   "cell_type": "code",
   "execution_count": 5,
   "id": "14b9bb95",
   "metadata": {},
   "outputs": [],
   "source": [
    "myset.add(2)"
   ]
  },
  {
   "cell_type": "code",
   "execution_count": 6,
   "id": "0dc6cc5f",
   "metadata": {},
   "outputs": [
    {
     "data": {
      "text/plain": [
       "{1, 2}"
      ]
     },
     "execution_count": 6,
     "metadata": {},
     "output_type": "execute_result"
    }
   ],
   "source": [
    "myset"
   ]
  },
  {
   "cell_type": "code",
   "execution_count": 7,
   "id": "59dbff80",
   "metadata": {},
   "outputs": [],
   "source": [
    "myset.add(2)"
   ]
  },
  {
   "cell_type": "code",
   "execution_count": 8,
   "id": "53ddac01",
   "metadata": {},
   "outputs": [
    {
     "data": {
      "text/plain": [
       "{1, 2}"
      ]
     },
     "execution_count": 8,
     "metadata": {},
     "output_type": "execute_result"
    }
   ],
   "source": [
    "myset"
   ]
  },
  {
   "cell_type": "markdown",
   "id": "c3f6f17a",
   "metadata": {},
   "source": [
    "Puede servir para meter una lista dentro de un SET y asi obtener solo los valores unicos, sin los repetidos"
   ]
  },
  {
   "cell_type": "code",
   "execution_count": 9,
   "id": "d270f5fb",
   "metadata": {},
   "outputs": [],
   "source": [
    "mylist= (1,1,1,1,2,2,2,2,3,3,3,3,)"
   ]
  },
  {
   "cell_type": "code",
   "execution_count": 10,
   "id": "397473d0",
   "metadata": {},
   "outputs": [
    {
     "data": {
      "text/plain": [
       "{1, 2, 3}"
      ]
     },
     "execution_count": 10,
     "metadata": {},
     "output_type": "execute_result"
    }
   ],
   "source": [
    "set(mylist)"
   ]
  },
  {
   "cell_type": "code",
   "execution_count": 11,
   "id": "33c7af46",
   "metadata": {},
   "outputs": [
    {
     "data": {
      "text/plain": [
       "set"
      ]
     },
     "execution_count": 11,
     "metadata": {},
     "output_type": "execute_result"
    }
   ],
   "source": [
    "set"
   ]
  },
  {
   "cell_type": "code",
   "execution_count": 14,
   "id": "79346691",
   "metadata": {},
   "outputs": [],
   "source": [
    "mylist= (3,3,'asda', 'asda', 'aaa', 3.4,['b','a', 'c', 'c'],[3,'asda', 3.4, 4.5, 'b'])"
   ]
  },
  {
   "cell_type": "code",
   "execution_count": 15,
   "id": "dc1549bb",
   "metadata": {},
   "outputs": [
    {
     "ename": "TypeError",
     "evalue": "unhashable type: 'list'",
     "output_type": "error",
     "traceback": [
      "\u001b[1;31m---------------------------------------------------------------------------\u001b[0m",
      "\u001b[1;31mTypeError\u001b[0m                                 Traceback (most recent call last)",
      "\u001b[1;32m~\\AppData\\Local\\Temp/ipykernel_8540/2816488219.py\u001b[0m in \u001b[0;36m<module>\u001b[1;34m\u001b[0m\n\u001b[1;32m----> 1\u001b[1;33m \u001b[0mset\u001b[0m\u001b[1;33m(\u001b[0m\u001b[0mmylist\u001b[0m\u001b[1;33m)\u001b[0m\u001b[1;33m\u001b[0m\u001b[1;33m\u001b[0m\u001b[0m\n\u001b[0m",
      "\u001b[1;31mTypeError\u001b[0m: unhashable type: 'list'"
     ]
    }
   ],
   "source": [
    "set(mylist)"
   ]
  },
  {
   "cell_type": "code",
   "execution_count": 16,
   "id": "7b0098c5",
   "metadata": {},
   "outputs": [
    {
     "data": {
      "text/plain": [
       "(3,\n",
       " 3,\n",
       " 'asda',\n",
       " 'asda',\n",
       " 'aaa',\n",
       " 3.4,\n",
       " ['b', 'a', 'c', 'c'],\n",
       " [3, 'asda', 3.4, 4.5, 'b'])"
      ]
     },
     "execution_count": 16,
     "metadata": {},
     "output_type": "execute_result"
    }
   ],
   "source": [
    "mylist"
   ]
  },
  {
   "cell_type": "code",
   "execution_count": 17,
   "id": "5f423951",
   "metadata": {},
   "outputs": [
    {
     "ename": "TypeError",
     "evalue": "unhashable type: 'list'",
     "output_type": "error",
     "traceback": [
      "\u001b[1;31m---------------------------------------------------------------------------\u001b[0m",
      "\u001b[1;31mTypeError\u001b[0m                                 Traceback (most recent call last)",
      "\u001b[1;32m~\\AppData\\Local\\Temp/ipykernel_8540/2816488219.py\u001b[0m in \u001b[0;36m<module>\u001b[1;34m\u001b[0m\n\u001b[1;32m----> 1\u001b[1;33m \u001b[0mset\u001b[0m\u001b[1;33m(\u001b[0m\u001b[0mmylist\u001b[0m\u001b[1;33m)\u001b[0m\u001b[1;33m\u001b[0m\u001b[1;33m\u001b[0m\u001b[0m\n\u001b[0m",
      "\u001b[1;31mTypeError\u001b[0m: unhashable type: 'list'"
     ]
    }
   ],
   "source": [
    "set(mylist)"
   ]
  },
  {
   "cell_type": "code",
   "execution_count": 18,
   "id": "5d668487",
   "metadata": {},
   "outputs": [
    {
     "data": {
      "text/plain": [
       "{'M', 'i', 'p', 's'}"
      ]
     },
     "execution_count": 18,
     "metadata": {},
     "output_type": "execute_result"
    }
   ],
   "source": [
    "set('Mississippi')"
   ]
  },
  {
   "cell_type": "markdown",
   "id": "9377fc45",
   "metadata": {},
   "source": [
    "\n",
    "   **Booleans** operador que permite trasmitir afirmaciones **True** o **False** (Siempre con **T** y **F** mayúsculas)\n",
    "    \n",
    "    (Sirven para el control de flujo y lógica)"
   ]
  },
  {
   "cell_type": "code",
   "execution_count": 19,
   "id": "b8610ff3",
   "metadata": {},
   "outputs": [
    {
     "data": {
      "text/plain": [
       "True"
      ]
     },
     "execution_count": 19,
     "metadata": {},
     "output_type": "execute_result"
    }
   ],
   "source": [
    "True"
   ]
  },
  {
   "cell_type": "code",
   "execution_count": 20,
   "id": "44ddf964",
   "metadata": {},
   "outputs": [
    {
     "ename": "NameError",
     "evalue": "name 'true' is not defined",
     "output_type": "error",
     "traceback": [
      "\u001b[1;31m---------------------------------------------------------------------------\u001b[0m",
      "\u001b[1;31mNameError\u001b[0m                                 Traceback (most recent call last)",
      "\u001b[1;32m~\\AppData\\Local\\Temp/ipykernel_8540/592217714.py\u001b[0m in \u001b[0;36m<module>\u001b[1;34m\u001b[0m\n\u001b[1;32m----> 1\u001b[1;33m \u001b[0mtrue\u001b[0m\u001b[1;33m\u001b[0m\u001b[1;33m\u001b[0m\u001b[0m\n\u001b[0m",
      "\u001b[1;31mNameError\u001b[0m: name 'true' is not defined"
     ]
    }
   ],
   "source": [
    "true"
   ]
  },
  {
   "cell_type": "code",
   "execution_count": 21,
   "id": "1331102c",
   "metadata": {},
   "outputs": [
    {
     "data": {
      "text/plain": [
       "False"
      ]
     },
     "execution_count": 21,
     "metadata": {},
     "output_type": "execute_result"
    }
   ],
   "source": [
    "False"
   ]
  },
  {
   "cell_type": "code",
   "execution_count": 22,
   "id": "d1e05a87",
   "metadata": {},
   "outputs": [
    {
     "data": {
      "text/plain": [
       "bool"
      ]
     },
     "execution_count": 22,
     "metadata": {},
     "output_type": "execute_result"
    }
   ],
   "source": [
    "type(False)"
   ]
  },
  {
   "cell_type": "code",
   "execution_count": 23,
   "id": "a9b215e8",
   "metadata": {},
   "outputs": [
    {
     "data": {
      "text/plain": [
       "False"
      ]
     },
     "execution_count": 23,
     "metadata": {},
     "output_type": "execute_result"
    }
   ],
   "source": [
    "1 > 2"
   ]
  },
  {
   "cell_type": "code",
   "execution_count": 24,
   "id": "41b1783b",
   "metadata": {},
   "outputs": [
    {
     "data": {
      "text/plain": [
       "False"
      ]
     },
     "execution_count": 24,
     "metadata": {},
     "output_type": "execute_result"
    }
   ],
   "source": [
    "1 < 1"
   ]
  },
  {
   "cell_type": "code",
   "execution_count": 25,
   "id": "427e1438",
   "metadata": {},
   "outputs": [
    {
     "data": {
      "text/plain": [
       "True"
      ]
     },
     "execution_count": 25,
     "metadata": {},
     "output_type": "execute_result"
    }
   ],
   "source": [
    "1 == 1"
   ]
  },
  {
   "cell_type": "code",
   "execution_count": 26,
   "id": "aee5ae73",
   "metadata": {},
   "outputs": [
    {
     "ename": "SyntaxError",
     "evalue": "cannot assign to literal (Temp/ipykernel_8540/686455306.py, line 1)",
     "output_type": "error",
     "traceback": [
      "\u001b[1;36m  File \u001b[1;32m\"C:\\Users\\Gin\\AppData\\Local\\Temp/ipykernel_8540/686455306.py\"\u001b[1;36m, line \u001b[1;32m1\u001b[0m\n\u001b[1;33m    1 =< 1\u001b[0m\n\u001b[1;37m    ^\u001b[0m\n\u001b[1;31mSyntaxError\u001b[0m\u001b[1;31m:\u001b[0m cannot assign to literal\n"
     ]
    }
   ],
   "source": [
    "1 =< 1"
   ]
  },
  {
   "cell_type": "code",
   "execution_count": 27,
   "id": "86a478fd",
   "metadata": {},
   "outputs": [],
   "source": [
    "b = None"
   ]
  },
  {
   "cell_type": "code",
   "execution_count": 28,
   "id": "18bb032b",
   "metadata": {},
   "outputs": [],
   "source": [
    "b"
   ]
  },
  {
   "cell_type": "markdown",
   "id": "4a4c6d46",
   "metadata": {},
   "source": [
    "\n",
    "   **I/O** Input and Output with basic .txt files\n",
    "    "
   ]
  },
  {
   "cell_type": "code",
   "execution_count": 2,
   "id": "dad0c0b9",
   "metadata": {},
   "outputs": [
    {
     "ename": "NameError",
     "evalue": "name 'test' is not defined",
     "output_type": "error",
     "traceback": [
      "\u001b[1;31m---------------------------------------------------------------------------\u001b[0m",
      "\u001b[1;31mNameError\u001b[0m                                 Traceback (most recent call last)",
      "\u001b[1;32m~\\AppData\\Local\\Temp/ipykernel_7464/622265639.py\u001b[0m in \u001b[0;36m<module>\u001b[1;34m\u001b[0m\n\u001b[1;32m----> 1\u001b[1;33m \u001b[0mtest\u001b[0m\u001b[1;33m.\u001b[0m\u001b[0mtxt\u001b[0m\u001b[1;33m\u001b[0m\u001b[1;33m\u001b[0m\u001b[0m\n\u001b[0m",
      "\u001b[1;31mNameError\u001b[0m: name 'test' is not defined"
     ]
    }
   ],
   "source": [
    "test.txt"
   ]
  },
  {
   "cell_type": "markdown",
   "id": "4f7ed3f7",
   "metadata": {},
   "source": [
    " SOLO en Jupyter Notebook se puede usar\n",
    " %%writefile myfile.txt\n",
    " Hello this is a text file\n",
    " this is the second line\n",
    " this is the third line"
   ]
  },
  {
   "cell_type": "code",
   "execution_count": 3,
   "id": "d52acb39",
   "metadata": {},
   "outputs": [
    {
     "name": "stdout",
     "output_type": "stream",
     "text": [
      "Writing myfile.txt\n"
     ]
    }
   ],
   "source": [
    "%%writefile myfile.txt \n",
    "Hello this is a text file \n",
    "this is the second line \n",
    "this is the third line"
   ]
  },
  {
   "cell_type": "code",
   "execution_count": 4,
   "id": "38f2453d",
   "metadata": {},
   "outputs": [],
   "source": [
    "myfile = open('myfile.txt')"
   ]
  },
  {
   "cell_type": "code",
   "execution_count": 5,
   "id": "a25be6f9",
   "metadata": {},
   "outputs": [
    {
     "ename": "FileNotFoundError",
     "evalue": "[Errno 2] No such file or directory: 'whoops_wrong.txt'",
     "output_type": "error",
     "traceback": [
      "\u001b[1;31m---------------------------------------------------------------------------\u001b[0m",
      "\u001b[1;31mFileNotFoundError\u001b[0m                         Traceback (most recent call last)",
      "\u001b[1;32m~\\AppData\\Local\\Temp/ipykernel_7464/1915671819.py\u001b[0m in \u001b[0;36m<module>\u001b[1;34m\u001b[0m\n\u001b[1;32m----> 1\u001b[1;33m \u001b[0mmyfile\u001b[0m \u001b[1;33m=\u001b[0m \u001b[0mopen\u001b[0m\u001b[1;33m(\u001b[0m\u001b[1;34m'whoops_wrong.txt'\u001b[0m\u001b[1;33m)\u001b[0m\u001b[1;33m\u001b[0m\u001b[1;33m\u001b[0m\u001b[0m\n\u001b[0m",
      "\u001b[1;31mFileNotFoundError\u001b[0m: [Errno 2] No such file or directory: 'whoops_wrong.txt'"
     ]
    }
   ],
   "source": [
    "myfile = open('whoops_wrong.txt')"
   ]
  },
  {
   "cell_type": "code",
   "execution_count": 7,
   "id": "9b5793c5",
   "metadata": {},
   "outputs": [],
   "source": [
    "test = open ('test.txt')"
   ]
  },
  {
   "cell_type": "code",
   "execution_count": 8,
   "id": "df471555",
   "metadata": {},
   "outputs": [
    {
     "data": {
      "text/plain": [
       "'C:\\\\Users\\\\Gin\\\\Desktop\\\\PYTHON\\\\Python - Zero-2-Hero'"
      ]
     },
     "execution_count": 8,
     "metadata": {},
     "output_type": "execute_result"
    }
   ],
   "source": [
    "pwd"
   ]
  },
  {
   "cell_type": "markdown",
   "id": "cb32a48c",
   "metadata": {},
   "source": [
    " Puedo usar **pwd** (*print work directory*) para saber donde está ubicada esta notebook"
   ]
  },
  {
   "cell_type": "code",
   "execution_count": 9,
   "id": "b2546a02",
   "metadata": {},
   "outputs": [
    {
     "ename": "AttributeError",
     "evalue": "'_io.TextIOWrapper' object has no attribute 'txt'",
     "output_type": "error",
     "traceback": [
      "\u001b[1;31m---------------------------------------------------------------------------\u001b[0m",
      "\u001b[1;31mAttributeError\u001b[0m                            Traceback (most recent call last)",
      "\u001b[1;32m~\\AppData\\Local\\Temp/ipykernel_7464/622265639.py\u001b[0m in \u001b[0;36m<module>\u001b[1;34m\u001b[0m\n\u001b[1;32m----> 1\u001b[1;33m \u001b[0mtest\u001b[0m\u001b[1;33m.\u001b[0m\u001b[0mtxt\u001b[0m\u001b[1;33m\u001b[0m\u001b[1;33m\u001b[0m\u001b[0m\n\u001b[0m",
      "\u001b[1;31mAttributeError\u001b[0m: '_io.TextIOWrapper' object has no attribute 'txt'"
     ]
    }
   ],
   "source": [
    "test.txt"
   ]
  },
  {
   "cell_type": "code",
   "execution_count": 10,
   "id": "b17d72cf",
   "metadata": {},
   "outputs": [
    {
     "ename": "AttributeError",
     "evalue": "'_io.TextIOWrapper' object has no attribute 'txt'",
     "output_type": "error",
     "traceback": [
      "\u001b[1;31m---------------------------------------------------------------------------\u001b[0m",
      "\u001b[1;31mAttributeError\u001b[0m                            Traceback (most recent call last)",
      "\u001b[1;32m~\\AppData\\Local\\Temp/ipykernel_7464/4105800277.py\u001b[0m in \u001b[0;36m<module>\u001b[1;34m\u001b[0m\n\u001b[1;32m----> 1\u001b[1;33m \u001b[0mmyfile\u001b[0m\u001b[1;33m.\u001b[0m\u001b[0mtxt\u001b[0m\u001b[1;33m\u001b[0m\u001b[1;33m\u001b[0m\u001b[0m\n\u001b[0m",
      "\u001b[1;31mAttributeError\u001b[0m: '_io.TextIOWrapper' object has no attribute 'txt'"
     ]
    }
   ],
   "source": [
    "myfile.txt"
   ]
  },
  {
   "cell_type": "code",
   "execution_count": 11,
   "id": "06426b96",
   "metadata": {},
   "outputs": [],
   "source": [
    "test = open ('test.txt')"
   ]
  },
  {
   "cell_type": "code",
   "execution_count": 12,
   "id": "266459a3",
   "metadata": {},
   "outputs": [],
   "source": [
    "myfile = open('myfile.txt')"
   ]
  },
  {
   "cell_type": "code",
   "execution_count": 13,
   "id": "360d60eb",
   "metadata": {},
   "outputs": [
    {
     "data": {
      "text/plain": [
       "'Hello this is a text file \\nthis is the second line \\nthis is the third line\\n'"
      ]
     },
     "execution_count": 13,
     "metadata": {},
     "output_type": "execute_result"
    }
   ],
   "source": [
    "myfile.read()"
   ]
  },
  {
   "cell_type": "markdown",
   "id": "262433ec",
   "metadata": {},
   "source": [
    "Si uso **.read()** me trae todo como una sola string, usando **\\n** para indicar una *nueva linea*"
   ]
  },
  {
   "cell_type": "code",
   "execution_count": 14,
   "id": "e9b0e6c9",
   "metadata": {},
   "outputs": [
    {
     "data": {
      "text/plain": [
       "''"
      ]
     },
     "execution_count": 14,
     "metadata": {},
     "output_type": "execute_result"
    }
   ],
   "source": [
    "myfile.read()"
   ]
  },
  {
   "cell_type": "markdown",
   "id": "b9ba460f",
   "metadata": {},
   "source": [
    "Esto pasa porque el \"Cursor\" fue hasta el final del archivo\n",
    "Para resetear eso puedo usar **seek(0)**"
   ]
  },
  {
   "cell_type": "code",
   "execution_count": 15,
   "id": "7df5feee",
   "metadata": {},
   "outputs": [
    {
     "data": {
      "text/plain": [
       "0"
      ]
     },
     "execution_count": 15,
     "metadata": {},
     "output_type": "execute_result"
    }
   ],
   "source": [
    "myfile.seek(0)"
   ]
  },
  {
   "cell_type": "code",
   "execution_count": 16,
   "id": "f61fedf1",
   "metadata": {},
   "outputs": [
    {
     "data": {
      "text/plain": [
       "'Hello this is a text file \\nthis is the second line \\nthis is the third line\\n'"
      ]
     },
     "execution_count": 16,
     "metadata": {},
     "output_type": "execute_result"
    }
   ],
   "source": [
    "myfile.read()"
   ]
  },
  {
   "cell_type": "code",
   "execution_count": 17,
   "id": "285b72b1",
   "metadata": {},
   "outputs": [
    {
     "data": {
      "text/plain": [
       "8"
      ]
     },
     "execution_count": 17,
     "metadata": {},
     "output_type": "execute_result"
    }
   ],
   "source": [
    "myfile.seek(8)"
   ]
  },
  {
   "cell_type": "code",
   "execution_count": 18,
   "id": "04219a9a",
   "metadata": {},
   "outputs": [
    {
     "data": {
      "text/plain": [
       "'is is a text file \\nthis is the second line \\nthis is the third line\\n'"
      ]
     },
     "execution_count": 18,
     "metadata": {},
     "output_type": "execute_result"
    }
   ],
   "source": [
    "myfile.read()"
   ]
  },
  {
   "cell_type": "code",
   "execution_count": 19,
   "id": "2001a3ab",
   "metadata": {},
   "outputs": [
    {
     "data": {
      "text/plain": [
       "0"
      ]
     },
     "execution_count": 19,
     "metadata": {},
     "output_type": "execute_result"
    }
   ],
   "source": [
    "myfile.seek(0)"
   ]
  },
  {
   "cell_type": "code",
   "execution_count": 20,
   "id": "2eb3216c",
   "metadata": {},
   "outputs": [],
   "source": [
    "contents = myfile.read()"
   ]
  },
  {
   "cell_type": "code",
   "execution_count": 21,
   "id": "3861b3db",
   "metadata": {},
   "outputs": [
    {
     "data": {
      "text/plain": [
       "'Hello this is a text file \\nthis is the second line \\nthis is the third line\\n'"
      ]
     },
     "execution_count": 21,
     "metadata": {},
     "output_type": "execute_result"
    }
   ],
   "source": [
    "contents"
   ]
  },
  {
   "cell_type": "code",
   "execution_count": 22,
   "id": "0e2b7429",
   "metadata": {},
   "outputs": [
    {
     "data": {
      "text/plain": [
       "0"
      ]
     },
     "execution_count": 22,
     "metadata": {},
     "output_type": "execute_result"
    }
   ],
   "source": [
    "myfile.seek(0)"
   ]
  },
  {
   "cell_type": "code",
   "execution_count": 23,
   "id": "7b5833b7",
   "metadata": {},
   "outputs": [
    {
     "data": {
      "text/plain": [
       "'Hell'"
      ]
     },
     "execution_count": 23,
     "metadata": {},
     "output_type": "execute_result"
    }
   ],
   "source": [
    "myfile.read(4)"
   ]
  },
  {
   "cell_type": "code",
   "execution_count": 24,
   "id": "6c3aef1d",
   "metadata": {},
   "outputs": [
    {
     "data": {
      "text/plain": [
       "0"
      ]
     },
     "execution_count": 24,
     "metadata": {},
     "output_type": "execute_result"
    }
   ],
   "source": [
    "myfile.seek(0)"
   ]
  },
  {
   "cell_type": "code",
   "execution_count": 25,
   "id": "355d7ea2",
   "metadata": {},
   "outputs": [
    {
     "ename": "SyntaxError",
     "evalue": "invalid syntax (Temp/ipykernel_7464/3709802497.py, line 1)",
     "output_type": "error",
     "traceback": [
      "\u001b[1;36m  File \u001b[1;32m\"C:\\Users\\Gin\\AppData\\Local\\Temp/ipykernel_7464/3709802497.py\"\u001b[1;36m, line \u001b[1;32m1\u001b[0m\n\u001b[1;33m    myfile.read(:4)\u001b[0m\n\u001b[1;37m                ^\u001b[0m\n\u001b[1;31mSyntaxError\u001b[0m\u001b[1;31m:\u001b[0m invalid syntax\n"
     ]
    }
   ],
   "source": [
    "myfile.read(:4)"
   ]
  },
  {
   "cell_type": "code",
   "execution_count": 26,
   "id": "a0e23621",
   "metadata": {},
   "outputs": [
    {
     "data": {
      "text/plain": [
       "0"
      ]
     },
     "execution_count": 26,
     "metadata": {},
     "output_type": "execute_result"
    }
   ],
   "source": [
    "myfile.seek(0)"
   ]
  },
  {
   "cell_type": "code",
   "execution_count": 27,
   "id": "bdf63acc",
   "metadata": {},
   "outputs": [
    {
     "ename": "SyntaxError",
     "evalue": "invalid syntax (Temp/ipykernel_7464/2970538716.py, line 1)",
     "output_type": "error",
     "traceback": [
      "\u001b[1;36m  File \u001b[1;32m\"C:\\Users\\Gin\\AppData\\Local\\Temp/ipykernel_7464/2970538716.py\"\u001b[1;36m, line \u001b[1;32m1\u001b[0m\n\u001b[1;33m    myfile.read([:4])\u001b[0m\n\u001b[1;37m                 ^\u001b[0m\n\u001b[1;31mSyntaxError\u001b[0m\u001b[1;31m:\u001b[0m invalid syntax\n"
     ]
    }
   ],
   "source": [
    "myfile.read([:4])"
   ]
  },
  {
   "cell_type": "code",
   "execution_count": 28,
   "id": "fa14437d",
   "metadata": {},
   "outputs": [
    {
     "data": {
      "text/plain": [
       "'Hello this is a text file \\nthis is the second line \\nthis is the third line\\n'"
      ]
     },
     "execution_count": 28,
     "metadata": {},
     "output_type": "execute_result"
    }
   ],
   "source": [
    "myfile.read()"
   ]
  },
  {
   "cell_type": "code",
   "execution_count": 29,
   "id": "3c88c116",
   "metadata": {},
   "outputs": [
    {
     "data": {
      "text/plain": [
       "0"
      ]
     },
     "execution_count": 29,
     "metadata": {},
     "output_type": "execute_result"
    }
   ],
   "source": [
    "myfile.seek(0)"
   ]
  },
  {
   "cell_type": "code",
   "execution_count": 30,
   "id": "d309962b",
   "metadata": {},
   "outputs": [
    {
     "data": {
      "text/plain": [
       "['Hello this is a text file \\n',\n",
       " 'this is the second line \\n',\n",
       " 'this is the third line\\n']"
      ]
     },
     "execution_count": 30,
     "metadata": {},
     "output_type": "execute_result"
    }
   ],
   "source": [
    "myfile.readlines()"
   ]
  },
  {
   "cell_type": "code",
   "execution_count": 31,
   "id": "e7988357",
   "metadata": {},
   "outputs": [],
   "source": [
    "myfile = open('C:\\\\Users\\\\Gin\\\\Desktop\\\\PYTHON\\\\Python - Zero-2-Hero\\\\test.txt')"
   ]
  },
  {
   "cell_type": "markdown",
   "id": "7ef4a109",
   "metadata": {},
   "source": [
    "\n",
    "**Best Practice** Hay que cerrar el archivo que abrimos cuando termino de usarlo. Se usa **.close()**"
   ]
  },
  {
   "cell_type": "code",
   "execution_count": 32,
   "id": "85362b52",
   "metadata": {},
   "outputs": [],
   "source": [
    "myfile.close()"
   ]
  },
  {
   "cell_type": "code",
   "execution_count": 33,
   "id": "1823e18c",
   "metadata": {},
   "outputs": [],
   "source": [
    "test.close()"
   ]
  },
  {
   "cell_type": "code",
   "execution_count": 34,
   "id": "2dcc29bc",
   "metadata": {},
   "outputs": [
    {
     "ename": "AttributeError",
     "evalue": "'_io.TextIOWrapper' object has no attribute 'txt'",
     "output_type": "error",
     "traceback": [
      "\u001b[1;31m---------------------------------------------------------------------------\u001b[0m",
      "\u001b[1;31mAttributeError\u001b[0m                            Traceback (most recent call last)",
      "\u001b[1;32m~\\AppData\\Local\\Temp/ipykernel_7464/162791329.py\u001b[0m in \u001b[0;36m<module>\u001b[1;34m\u001b[0m\n\u001b[1;32m----> 1\u001b[1;33m \u001b[0mmyfile\u001b[0m \u001b[1;33m=\u001b[0m \u001b[0mopen\u001b[0m \u001b[1;33m(\u001b[0m\u001b[0mmyfile\u001b[0m\u001b[1;33m.\u001b[0m\u001b[0mtxt\u001b[0m\u001b[1;33m)\u001b[0m\u001b[1;33m\u001b[0m\u001b[1;33m\u001b[0m\u001b[0m\n\u001b[0m",
      "\u001b[1;31mAttributeError\u001b[0m: '_io.TextIOWrapper' object has no attribute 'txt'"
     ]
    }
   ],
   "source": [
    "myfile = open (myfile.txt)"
   ]
  },
  {
   "cell_type": "code",
   "execution_count": 35,
   "id": "1b549324",
   "metadata": {},
   "outputs": [],
   "source": [
    "myfile = open('myfile.txt')"
   ]
  },
  {
   "cell_type": "code",
   "execution_count": 36,
   "id": "a558b8e5",
   "metadata": {},
   "outputs": [],
   "source": [
    "myfile.close()"
   ]
  },
  {
   "cell_type": "markdown",
   "id": "055bcd57",
   "metadata": {},
   "source": [
    "\n",
    "Puedo abrirlo como uno nuevo usando **with** antes de open('myfile.txt') **as** my_new_file:\n",
    "\n",
    "    <- Esto genera un \"indented\" block of code que va dentro my_new_file en lugar de myfile"
   ]
  },
  {
   "cell_type": "code",
   "execution_count": 38,
   "id": "c2922f18",
   "metadata": {},
   "outputs": [],
   "source": [
    "with open ('myfile.txt') as my_new_file:\n",
    "    contents = my_new_file.read()"
   ]
  },
  {
   "cell_type": "code",
   "execution_count": 39,
   "id": "a82177f6",
   "metadata": {},
   "outputs": [
    {
     "data": {
      "text/plain": [
       "'Hello this is a text file \\nthis is the second line \\nthis is the third line\\n'"
      ]
     },
     "execution_count": 39,
     "metadata": {},
     "output_type": "execute_result"
    }
   ],
   "source": [
    "contents"
   ]
  },
  {
   "cell_type": "markdown",
   "id": "967498e1",
   "metadata": {},
   "source": [
    "\n",
    "Para escribir puedo usar **with open('myfile.text',)** al agregar la coma voy con el cursor al espacio entre **(** y **'** , luedo de **open** y hago **shift + tab** para opciones y revisar con que mode quiero abrirlo indicandolo luego de la coma:\n",
    "\n",
    "   **with open('myfile.text',mode='r'** para read"
   ]
  },
  {
   "cell_type": "code",
   "execution_count": 42,
   "id": "1a2631a4",
   "metadata": {},
   "outputs": [],
   "source": [
    "with open('myfile.txt',mode='r') as myfile:\n",
    "    contents = myfile.read()"
   ]
  },
  {
   "cell_type": "code",
   "execution_count": 43,
   "id": "a3e27055",
   "metadata": {},
   "outputs": [
    {
     "ename": "UnsupportedOperation",
     "evalue": "not readable",
     "output_type": "error",
     "traceback": [
      "\u001b[1;31m---------------------------------------------------------------------------\u001b[0m",
      "\u001b[1;31mUnsupportedOperation\u001b[0m                      Traceback (most recent call last)",
      "\u001b[1;32m~\\AppData\\Local\\Temp/ipykernel_7464/1271529378.py\u001b[0m in \u001b[0;36m<module>\u001b[1;34m\u001b[0m\n\u001b[0;32m      1\u001b[0m \u001b[1;32mwith\u001b[0m \u001b[0mopen\u001b[0m\u001b[1;33m(\u001b[0m\u001b[1;34m'myfile.txt'\u001b[0m\u001b[1;33m,\u001b[0m\u001b[0mmode\u001b[0m\u001b[1;33m=\u001b[0m\u001b[1;34m'w'\u001b[0m\u001b[1;33m)\u001b[0m \u001b[1;32mas\u001b[0m \u001b[0mmyfile\u001b[0m\u001b[1;33m:\u001b[0m\u001b[1;33m\u001b[0m\u001b[1;33m\u001b[0m\u001b[0m\n\u001b[1;32m----> 2\u001b[1;33m     \u001b[0mcontents\u001b[0m \u001b[1;33m=\u001b[0m \u001b[0mmyfile\u001b[0m\u001b[1;33m.\u001b[0m\u001b[0mread\u001b[0m\u001b[1;33m(\u001b[0m\u001b[1;33m)\u001b[0m\u001b[1;33m\u001b[0m\u001b[1;33m\u001b[0m\u001b[0m\n\u001b[0m",
      "\u001b[1;31mUnsupportedOperation\u001b[0m: not readable"
     ]
    }
   ],
   "source": [
    "with open('myfile.txt',mode='w') as myfile:\n",
    "    contents = myfile.read()"
   ]
  },
  {
   "cell_type": "markdown",
   "id": "9dbf3309",
   "metadata": {},
   "source": [
    "Dependiendo del modo que elijo tal vez no puedo hacer lo que quiero, ej: si lo abro para escribir no lo puedo usar para leer\n",
    "\n",
    "...because of permissions"
   ]
  },
  {
   "cell_type": "code",
   "execution_count": 44,
   "id": "f960f376",
   "metadata": {},
   "outputs": [
    {
     "ename": "UnsupportedOperation",
     "evalue": "not readable",
     "output_type": "error",
     "traceback": [
      "\u001b[1;31m---------------------------------------------------------------------------\u001b[0m",
      "\u001b[1;31mUnsupportedOperation\u001b[0m                      Traceback (most recent call last)",
      "\u001b[1;32m~\\AppData\\Local\\Temp/ipykernel_7464/2576469230.py\u001b[0m in \u001b[0;36m<module>\u001b[1;34m\u001b[0m\n\u001b[0;32m      1\u001b[0m \u001b[1;32mwith\u001b[0m \u001b[0mopen\u001b[0m\u001b[1;33m(\u001b[0m\u001b[1;34m'myfile.txt'\u001b[0m\u001b[1;33m,\u001b[0m\u001b[0mmode\u001b[0m\u001b[1;33m=\u001b[0m\u001b[1;34m'a'\u001b[0m\u001b[1;33m)\u001b[0m \u001b[1;32mas\u001b[0m \u001b[0mmyfile\u001b[0m\u001b[1;33m:\u001b[0m\u001b[1;33m\u001b[0m\u001b[1;33m\u001b[0m\u001b[0m\n\u001b[1;32m----> 2\u001b[1;33m     \u001b[0mcontents\u001b[0m \u001b[1;33m=\u001b[0m \u001b[0mmyfile\u001b[0m\u001b[1;33m.\u001b[0m\u001b[0mread\u001b[0m\u001b[1;33m(\u001b[0m\u001b[1;33m)\u001b[0m\u001b[1;33m\u001b[0m\u001b[1;33m\u001b[0m\u001b[0m\n\u001b[0m",
      "\u001b[1;31mUnsupportedOperation\u001b[0m: not readable"
     ]
    }
   ],
   "source": [
    "with open('myfile.txt',mode='a') as myfile:\n",
    "    contents = myfile.read()"
   ]
  },
  {
   "cell_type": "markdown",
   "id": "ba4e151e",
   "metadata": {},
   "source": [
    "**Reading, Writing and Appending Modes**"
   ]
  },
  {
   "cell_type": "markdown",
   "id": "3cb7fdd1",
   "metadata": {},
   "source": [
    "**· mode='r'**       open for reading only (default)\n",
    "\n",
    "**· mode='w'**       open for writing only (will overwrite files or create new!)\n",
    "\n",
    "**· mode='a'**       open for appending only (will add on to files)\n",
    "\n",
    "**· mode='r+'**      is reading and writing\n",
    "\n",
    "**· mode='w+'**      is writing and read (Overwrites existing files or creates a new file!)\n",
    "\n",
    "\n",
    "\n",
    "Tambien:\n",
    "'x'       create a new file and open it for writing\n",
    "'b'       binary mode\n",
    "'t'       text mode (default)\n",
    "'+'       open a disk file for updating (reading and writing)\n",
    "'U'       universal newline mode (deprecated)\n"
   ]
  },
  {
   "cell_type": "code",
   "execution_count": 53,
   "id": "31ed6c4a",
   "metadata": {},
   "outputs": [
    {
     "name": "stdout",
     "output_type": "stream",
     "text": [
      "Overwriting my_new_file.txt\n"
     ]
    }
   ],
   "source": [
    "%%writefile my_new_file.txt\n",
    "ONE ON FIRST\n",
    "TWO ON SECOND\n",
    "THREE ON THIRD"
   ]
  },
  {
   "cell_type": "code",
   "execution_count": 54,
   "id": "fba57faa",
   "metadata": {},
   "outputs": [
    {
     "name": "stdout",
     "output_type": "stream",
     "text": [
      "ONE ON FIRST\n",
      "TWO ON SECOND\n",
      "THREE ON THIRD\n",
      "\n"
     ]
    }
   ],
   "source": [
    "with open('my_new_file.txt',mode='r') as f:\n",
    "    print(f.read())"
   ]
  },
  {
   "cell_type": "code",
   "execution_count": 55,
   "id": "9ab8f03c",
   "metadata": {},
   "outputs": [],
   "source": [
    "with open('my_new_file.txt',mode='a') as f:\n",
    "    f.write('FOUR ON FOURTH')"
   ]
  },
  {
   "cell_type": "code",
   "execution_count": 56,
   "id": "ef40eeff",
   "metadata": {},
   "outputs": [
    {
     "name": "stdout",
     "output_type": "stream",
     "text": [
      "ONE ON FIRST\n",
      "TWO ON SECOND\n",
      "THREE ON THIRD\n",
      "FOUR ON FOURTH\n"
     ]
    }
   ],
   "source": [
    "with open('my_new_file.txt',mode='r') as f:\n",
    "    print(f.read())"
   ]
  },
  {
   "cell_type": "code",
   "execution_count": 58,
   "id": "75626851",
   "metadata": {},
   "outputs": [],
   "source": [
    "with open('asdfghjkl.txt', mode='w') as f:\n",
    "    f.write('I CREATED THIS FILE!')"
   ]
  },
  {
   "cell_type": "code",
   "execution_count": 61,
   "id": "eb45fc43",
   "metadata": {},
   "outputs": [
    {
     "name": "stdout",
     "output_type": "stream",
     "text": [
      "I CREATED THIS FILE!\n"
     ]
    }
   ],
   "source": [
    "with open('asdfghjkl.txt', mode='r') as f:\n",
    "    print(f.read())"
   ]
  },
  {
   "cell_type": "markdown",
   "id": "fa5c2cfa",
   "metadata": {},
   "source": [
    "# Comparison Operators \n",
    "\n",
    "In this lecture we will be learning about Comparison Operators in Python. These operators will allow us to compare variables and output a Boolean value (True or False). \n",
    "\n",
    "If you have any sort of background in Math, these operators should be very straight forward.\n",
    "\n",
    "First we'll present a table of the comparison operators and then work through some examples:\n",
    "\n",
    "<h2> Table of Comparison Operators </h2><p>  In the table below, a=3 and b=4.</p>\n",
    "\n",
    "<table class=\"table table-bordered\">\n",
    "<tr>\n",
    "<th style=\"width:10%\">Operator</th><th style=\"width:45%\">Description</th><th>Example</th>\n",
    "</tr>\n",
    "<tr>\n",
    "<td>==</td>\n",
    "<td>If the values of two operands are equal, then the condition becomes true.</td>\n",
    "<td> (a == b) is not true.</td>\n",
    "</tr>\n",
    "<tr>\n",
    "<td>!=</td>\n",
    "<td>If values of two operands are not equal, then condition becomes true.</td>\n",
    "<td>(a != b) is true</td>\n",
    "</tr>\n",
    "<tr>\n",
    "<td>&gt;</td>\n",
    "<td>If the value of left operand is greater than the value of right operand, then condition becomes true.</td>\n",
    "<td> (a &gt; b) is not true.</td>\n",
    "</tr>\n",
    "<tr>\n",
    "<td>&lt;</td>\n",
    "<td>If the value of left operand is less than the value of right operand, then condition becomes true.</td>\n",
    "<td> (a &lt; b) is true.</td>\n",
    "</tr>\n",
    "<tr>\n",
    "<td>&gt;=</td>\n",
    "<td>If the value of left operand is greater than or equal to the value of right operand, then condition becomes true.</td>\n",
    "<td> (a &gt;= b) is not true. </td>\n",
    "</tr>\n",
    "<tr>\n",
    "<td>&lt;=</td>\n",
    "<td>If the value of left operand is less than or equal to the value of right operand, then condition becomes true.</td>\n",
    "<td> (a &lt;= b) is true. </td>\n",
    "</tr>\n",
    "</table>"
   ]
  },
  {
   "cell_type": "code",
   "execution_count": 1,
   "id": "0ba5e97a",
   "metadata": {},
   "outputs": [
    {
     "data": {
      "text/plain": [
       "True"
      ]
     },
     "execution_count": 1,
     "metadata": {},
     "output_type": "execute_result"
    }
   ],
   "source": [
    "2 == 2"
   ]
  },
  {
   "cell_type": "code",
   "execution_count": 2,
   "id": "4cbae667",
   "metadata": {},
   "outputs": [
    {
     "data": {
      "text/plain": [
       "False"
      ]
     },
     "execution_count": 2,
     "metadata": {},
     "output_type": "execute_result"
    }
   ],
   "source": [
    "1 == 2"
   ]
  },
  {
   "cell_type": "code",
   "execution_count": 3,
   "id": "d9de68b3",
   "metadata": {},
   "outputs": [
    {
     "data": {
      "text/plain": [
       "False"
      ]
     },
     "execution_count": 3,
     "metadata": {},
     "output_type": "execute_result"
    }
   ],
   "source": [
    "'hello' == 'bye'"
   ]
  },
  {
   "cell_type": "code",
   "execution_count": 4,
   "id": "1bcca4e3",
   "metadata": {},
   "outputs": [
    {
     "data": {
      "text/plain": [
       "False"
      ]
     },
     "execution_count": 4,
     "metadata": {},
     "output_type": "execute_result"
    }
   ],
   "source": [
    "'Bye' == 'bye'"
   ]
  },
  {
   "cell_type": "code",
   "execution_count": 5,
   "id": "bc6c38df",
   "metadata": {},
   "outputs": [
    {
     "data": {
      "text/plain": [
       "True"
      ]
     },
     "execution_count": 5,
     "metadata": {},
     "output_type": "execute_result"
    }
   ],
   "source": [
    "2.0 == 2"
   ]
  },
  {
   "cell_type": "code",
   "execution_count": 6,
   "id": "41bf66af",
   "metadata": {},
   "outputs": [
    {
     "data": {
      "text/plain": [
       "False"
      ]
     },
     "execution_count": 6,
     "metadata": {},
     "output_type": "execute_result"
    }
   ],
   "source": [
    "2 == '2'"
   ]
  },
  {
   "cell_type": "code",
   "execution_count": 7,
   "id": "43b63661",
   "metadata": {},
   "outputs": [
    {
     "data": {
      "text/plain": [
       "False"
      ]
     },
     "execution_count": 7,
     "metadata": {},
     "output_type": "execute_result"
    }
   ],
   "source": [
    "3 != 3"
   ]
  },
  {
   "cell_type": "code",
   "execution_count": 8,
   "id": "9a4b7f3b",
   "metadata": {},
   "outputs": [
    {
     "data": {
      "text/plain": [
       "True"
      ]
     },
     "execution_count": 8,
     "metadata": {},
     "output_type": "execute_result"
    }
   ],
   "source": [
    "4 != 5"
   ]
  },
  {
   "cell_type": "code",
   "execution_count": 9,
   "id": "95eaadfd",
   "metadata": {},
   "outputs": [
    {
     "data": {
      "text/plain": [
       "False"
      ]
     },
     "execution_count": 9,
     "metadata": {},
     "output_type": "execute_result"
    }
   ],
   "source": [
    "2 < 1"
   ]
  },
  {
   "cell_type": "code",
   "execution_count": 10,
   "id": "54d071fa",
   "metadata": {},
   "outputs": [
    {
     "data": {
      "text/plain": [
       "True"
      ]
     },
     "execution_count": 10,
     "metadata": {},
     "output_type": "execute_result"
    }
   ],
   "source": [
    "2 > 1"
   ]
  },
  {
   "cell_type": "code",
   "execution_count": 11,
   "id": "fec167fe",
   "metadata": {},
   "outputs": [
    {
     "data": {
      "text/plain": [
       "True"
      ]
     },
     "execution_count": 11,
     "metadata": {},
     "output_type": "execute_result"
    }
   ],
   "source": [
    "2 <= 2"
   ]
  },
  {
   "cell_type": "code",
   "execution_count": 12,
   "id": "be107590",
   "metadata": {},
   "outputs": [
    {
     "data": {
      "text/plain": [
       "False"
      ]
     },
     "execution_count": 12,
     "metadata": {},
     "output_type": "execute_result"
    }
   ],
   "source": [
    "3 <= 2"
   ]
  },
  {
   "cell_type": "code",
   "execution_count": 13,
   "id": "1677afd4",
   "metadata": {},
   "outputs": [
    {
     "data": {
      "text/plain": [
       "True"
      ]
     },
     "execution_count": 13,
     "metadata": {},
     "output_type": "execute_result"
    }
   ],
   "source": [
    "1 <= 2"
   ]
  },
  {
   "cell_type": "code",
   "execution_count": 15,
   "id": "4252422b",
   "metadata": {},
   "outputs": [
    {
     "data": {
      "text/plain": [
       "True"
      ]
     },
     "execution_count": 15,
     "metadata": {},
     "output_type": "execute_result"
    }
   ],
   "source": [
    "4 >= 3"
   ]
  },
  {
   "cell_type": "markdown",
   "id": "3c07f5b9",
   "metadata": {},
   "source": [
    "**Chaining comaparison operators**\n",
    "\n",
    "**and**\n",
    "\n",
    "**or**\n",
    "\n",
    "**not** brings the opposite bool of the comparison (if it 1 == 1 is True, \"not 1==1\" brings False)"
   ]
  },
  {
   "cell_type": "code",
   "execution_count": 16,
   "id": "454fa614",
   "metadata": {},
   "outputs": [
    {
     "data": {
      "text/plain": [
       "True"
      ]
     },
     "execution_count": 16,
     "metadata": {},
     "output_type": "execute_result"
    }
   ],
   "source": [
    "1 < 2 < 3"
   ]
  },
  {
   "cell_type": "code",
   "execution_count": 17,
   "id": "c63a0dd2",
   "metadata": {},
   "outputs": [
    {
     "data": {
      "text/plain": [
       "False"
      ]
     },
     "execution_count": 17,
     "metadata": {},
     "output_type": "execute_result"
    }
   ],
   "source": [
    "1 < 2 > 3"
   ]
  },
  {
   "cell_type": "code",
   "execution_count": 18,
   "id": "69e72fb7",
   "metadata": {},
   "outputs": [
    {
     "data": {
      "text/plain": [
       "True"
      ]
     },
     "execution_count": 18,
     "metadata": {},
     "output_type": "execute_result"
    }
   ],
   "source": [
    "1 < 2 and 3 >= 3"
   ]
  },
  {
   "cell_type": "code",
   "execution_count": 19,
   "id": "43bc5774",
   "metadata": {},
   "outputs": [
    {
     "data": {
      "text/plain": [
       "True"
      ]
     },
     "execution_count": 19,
     "metadata": {},
     "output_type": "execute_result"
    }
   ],
   "source": [
    "2 > 1 or 4 == 5"
   ]
  },
  {
   "cell_type": "code",
   "execution_count": 20,
   "id": "2eec9838",
   "metadata": {},
   "outputs": [
    {
     "data": {
      "text/plain": [
       "True"
      ]
     },
     "execution_count": 20,
     "metadata": {},
     "output_type": "execute_result"
    }
   ],
   "source": [
    "'hello' == 'hello' or 1 == 1"
   ]
  },
  {
   "cell_type": "code",
   "execution_count": 21,
   "id": "55d6f447",
   "metadata": {},
   "outputs": [
    {
     "data": {
      "text/plain": [
       "False"
      ]
     },
     "execution_count": 21,
     "metadata": {},
     "output_type": "execute_result"
    }
   ],
   "source": [
    "'hello' != 'hello' or 1 == 2"
   ]
  },
  {
   "cell_type": "code",
   "execution_count": 22,
   "id": "bce13a2b",
   "metadata": {},
   "outputs": [
    {
     "data": {
      "text/plain": [
       "True"
      ]
     },
     "execution_count": 22,
     "metadata": {},
     "output_type": "execute_result"
    }
   ],
   "source": [
    "1 == 1"
   ]
  },
  {
   "cell_type": "code",
   "execution_count": 23,
   "id": "007a08cd",
   "metadata": {},
   "outputs": [
    {
     "data": {
      "text/plain": [
       "False"
      ]
     },
     "execution_count": 23,
     "metadata": {},
     "output_type": "execute_result"
    }
   ],
   "source": [
    "not (1==1)"
   ]
  },
  {
   "cell_type": "code",
   "execution_count": 24,
   "id": "38ab536b",
   "metadata": {},
   "outputs": [
    {
     "data": {
      "text/plain": [
       "False"
      ]
     },
     "execution_count": 24,
     "metadata": {},
     "output_type": "execute_result"
    }
   ],
   "source": [
    "not 1==1"
   ]
  },
  {
   "cell_type": "code",
   "execution_count": 25,
   "id": "78b4165d",
   "metadata": {},
   "outputs": [
    {
     "data": {
      "text/plain": [
       "False"
      ]
     },
     "execution_count": 25,
     "metadata": {},
     "output_type": "execute_result"
    }
   ],
   "source": [
    "123 == 5"
   ]
  },
  {
   "cell_type": "code",
   "execution_count": 26,
   "id": "18129034",
   "metadata": {},
   "outputs": [
    {
     "data": {
      "text/plain": [
       "True"
      ]
     },
     "execution_count": 26,
     "metadata": {},
     "output_type": "execute_result"
    }
   ],
   "source": [
    "not 123 == 5"
   ]
  },
  {
   "cell_type": "markdown",
   "id": "5e5f2197",
   "metadata": {},
   "source": [
    "# if, elif, else Statements\n",
    "\n",
    "<code>if</code> Statements in Python allows us to tell the computer to perform alternative actions based on a certain set of results.\n",
    "\n",
    "Verbally, we can imagine we are telling the computer:\n",
    "\n",
    "\"Hey if this case happens, perform some action\"\n",
    "\n",
    "We can then expand the idea further with <code>elif</code> and <code>else</code> statements, which allow us to tell the computer:\n",
    "\n",
    "\"Hey if this case happens, perform some action. Else, if another case happens, perform some other action. Else, if *none* of the above cases happened, perform this action.\"\n",
    "\n",
    "Let's go ahead and look at the syntax format for <code>if</code> statements to get a better idea of this:\n",
    "\n",
    "    if case1:\n",
    "        perform action1\n",
    "    elif case2:\n",
    "        perform action2\n",
    "    else: \n",
    "        perform action3"
   ]
  },
  {
   "cell_type": "code",
   "execution_count": 28,
   "id": "0bf612b1",
   "metadata": {},
   "outputs": [
    {
     "name": "stdout",
     "output_type": "stream",
     "text": [
      "ITS TRUE\n"
     ]
    }
   ],
   "source": [
    "if True:\n",
    "    print ('ITS TRUE')"
   ]
  },
  {
   "cell_type": "code",
   "execution_count": 29,
   "id": "5f94e9f7",
   "metadata": {},
   "outputs": [
    {
     "name": "stdout",
     "output_type": "stream",
     "text": [
      "ITS TRUE\n"
     ]
    }
   ],
   "source": [
    "if 3<4:\n",
    "    print ('ITS TRUE')"
   ]
  },
  {
   "cell_type": "code",
   "execution_count": 30,
   "id": "adab0f66",
   "metadata": {},
   "outputs": [
    {
     "name": "stdout",
     "output_type": "stream",
     "text": [
      "Feed me!\n"
     ]
    }
   ],
   "source": [
    "hungry = True\n",
    "if hungry:\n",
    "    print('Feed me!')"
   ]
  },
  {
   "cell_type": "code",
   "execution_count": 32,
   "id": "b516595b",
   "metadata": {},
   "outputs": [
    {
     "name": "stdout",
     "output_type": "stream",
     "text": [
      "Im not hungry\n"
     ]
    }
   ],
   "source": [
    "hungry = False\n",
    "if hungry:\n",
    "    print('Feed me!')\n",
    "else:\n",
    "    print('Im not hungry')"
   ]
  },
  {
   "cell_type": "code",
   "execution_count": 33,
   "id": "73086a9d",
   "metadata": {},
   "outputs": [
    {
     "name": "stdout",
     "output_type": "stream",
     "text": [
      "I dont know munch\n"
     ]
    }
   ],
   "source": [
    "loc = 'Bank'\n",
    "\n",
    "if loc == 'Auto Shop':\n",
    "    print ('Cars are cool!')\n",
    "else:\n",
    "    print ('I dont know munch')"
   ]
  },
  {
   "cell_type": "code",
   "execution_count": 35,
   "id": "c51608a3",
   "metadata": {},
   "outputs": [
    {
     "name": "stdout",
     "output_type": "stream",
     "text": [
      "I dont know munch\n"
     ]
    }
   ],
   "source": [
    "loc = 'Game'\n",
    "\n",
    "if loc == 'Auto Shop':\n",
    "    print ('Cars are cool!')\n",
    "elif loc == 'bank':\n",
    "    print ('Money is cool!')\n",
    "elif loc =='Store':\n",
    "    print ('Welcome to the store!')\n",
    "else:\n",
    "    print ('I dont know much')"
   ]
  },
  {
   "cell_type": "code",
   "execution_count": 37,
   "id": "bfcd41be",
   "metadata": {},
   "outputs": [
    {
     "name": "stdout",
     "output_type": "stream",
     "text": [
      "Wellmet Ramirez\n"
     ]
    }
   ],
   "source": [
    "name = 'Ramirez'\n",
    "\n",
    "if name == 'Frankie':\n",
    "    print ('Hello Frankie')\n",
    "elif name == 'Sammy':\n",
    "    print ('Good day Sammy')\n",
    "else:\n",
    "    print(('Wellmet ')+name)"
   ]
  },
  {
   "cell_type": "markdown",
   "id": "3edd63b1",
   "metadata": {},
   "source": [
    "# for Loops\n",
    "\n",
    "A <code>for</code> loop acts as an iterator in Python; it goes through items that are in a *sequence* or any other iterable item. Objects that we've learned about that we can iterate over include strings, lists, tuples, and even built-in iterables for dictionaries, such as keys or values.\n",
    "\n",
    "We've already seen the <code>for</code> statement a little bit in past lectures but now let's formalize our understanding.\n",
    "\n",
    "Here's the general format for a <code>for</code> loop in Python:\n",
    "\n",
    "    for item in object:\n",
    "        statements to do stuff\n",
    "    "
   ]
  },
  {
   "cell_type": "markdown",
   "id": "06eb7799",
   "metadata": {},
   "source": [
    "The variable name used for the item is completely up to the coder, so use your best judgment for choosing a name that makes sense and you will be able to understand when revisiting your code. This item name can then be referenced inside your loop, for example if you wanted to use <code>if</code> statements to perform checks.\n",
    "\n",
    "Let's go ahead and work through several example of <code>for</code> loops using a variety of data object types. We'll start simple and build more complexity later on.\n",
    "\n",
    "## Example 1\n",
    "Iterating through a list"
   ]
  },
  {
   "cell_type": "code",
   "execution_count": 40,
   "id": "20e16e31",
   "metadata": {},
   "outputs": [
    {
     "name": "stdout",
     "output_type": "stream",
     "text": [
      "Coco\n",
      "Leeloo\n",
      "Hermes\n"
     ]
    }
   ],
   "source": [
    "my_pets = ['Coco', 'Leeloo', 'Hermes']\n",
    "for pet_name in my_pets:\n",
    "    print (pet_name)"
   ]
  },
  {
   "cell_type": "code",
   "execution_count": 49,
   "id": "a6171847",
   "metadata": {},
   "outputs": [],
   "source": [
    "mylist = [1,2,3,4,5,6,7,8,9,10]"
   ]
  },
  {
   "cell_type": "code",
   "execution_count": 43,
   "id": "ac934c89",
   "metadata": {},
   "outputs": [
    {
     "name": "stdout",
     "output_type": "stream",
     "text": [
      "1\n",
      "2\n",
      "3\n",
      "4\n",
      "5\n",
      "6\n",
      "7\n",
      "8\n",
      "9\n",
      "10\n"
     ]
    }
   ],
   "source": [
    "for number in mylist:\n",
    "    print(number)\n",
    "    \n",
    "    # ponerle \"number\" puede ser cualquier variable name, pero va a representar cada nùmero dentro de esa lista."
   ]
  },
  {
   "cell_type": "code",
   "execution_count": 44,
   "id": "f9d8b588",
   "metadata": {},
   "outputs": [
    {
     "name": "stdout",
     "output_type": "stream",
     "text": [
      "Hello\n",
      "Hello\n",
      "Hello\n",
      "Hello\n",
      "Hello\n",
      "Hello\n",
      "Hello\n",
      "Hello\n",
      "Hello\n",
      "Hello\n"
     ]
    }
   ],
   "source": [
    "for number in mylist:\n",
    "    print('Hello')"
   ]
  },
  {
   "cell_type": "code",
   "execution_count": 46,
   "id": "bdcffc7c",
   "metadata": {},
   "outputs": [
    {
     "name": "stdout",
     "output_type": "stream",
     "text": [
      "Odd Number: 1\n",
      "2\n",
      "Odd Number: 3\n",
      "4\n",
      "Odd Number: 5\n",
      "6\n",
      "Odd Number: 7\n",
      "8\n",
      "Odd Number: 9\n",
      "10\n"
     ]
    }
   ],
   "source": [
    "for number in mylist:\n",
    "    # Check for even\n",
    "    if number % 2 == 0:\n",
    "        print (number)\n",
    "    else:\n",
    "        print (f'Odd Number: {number}')"
   ]
  },
  {
   "cell_type": "code",
   "execution_count": 51,
   "id": "d3cab31f",
   "metadata": {},
   "outputs": [
    {
     "name": "stdout",
     "output_type": "stream",
     "text": [
      "55\n"
     ]
    }
   ],
   "source": [
    "list_sum = 0\n",
    "\n",
    "for number in mylist:\n",
    "    list_sum = list_sum + number\n",
    "\n",
    "print(list_sum)"
   ]
  },
  {
   "cell_type": "code",
   "execution_count": 52,
   "id": "1ff416ce",
   "metadata": {},
   "outputs": [
    {
     "name": "stdout",
     "output_type": "stream",
     "text": [
      "1\n",
      "3\n",
      "6\n",
      "10\n",
      "15\n",
      "21\n",
      "28\n",
      "36\n",
      "45\n",
      "55\n"
     ]
    }
   ],
   "source": [
    "list_sum = 0\n",
    "\n",
    "for number in mylist:\n",
    "    list_sum = list_sum + number\n",
    "\n",
    "    print(list_sum)"
   ]
  },
  {
   "cell_type": "code",
   "execution_count": 54,
   "id": "fa9dd451",
   "metadata": {},
   "outputs": [
    {
     "name": "stdout",
     "output_type": "stream",
     "text": [
      "P\n",
      "r\n",
      "a\n",
      "i\n",
      "s\n",
      "e\n",
      " \n",
      "t\n",
      "h\n",
      "e\n",
      " \n",
      "O\n",
      "m\n",
      "n\n",
      "i\n",
      "s\n",
      "s\n",
      "i\n",
      "a\n",
      "h\n",
      "!\n"
     ]
    }
   ],
   "source": [
    "mystring = 'Praise the Omnissiah!'\n",
    "for letter in mystring:\n",
    "    print (letter)"
   ]
  },
  {
   "cell_type": "code",
   "execution_count": 56,
   "id": "bb29e98e",
   "metadata": {},
   "outputs": [
    {
     "name": "stdout",
     "output_type": "stream",
     "text": [
      "B\n",
      "u\n",
      "b\n",
      "u\n",
      "l\n",
      "e\n",
      "l\n",
      "e\n"
     ]
    }
   ],
   "source": [
    "\n",
    "for asdf in 'Bubulele':\n",
    "    print (asdf)"
   ]
  },
  {
   "cell_type": "code",
   "execution_count": 57,
   "id": "257b2364",
   "metadata": {},
   "outputs": [
    {
     "name": "stdout",
     "output_type": "stream",
     "text": [
      "Cool!\n",
      "Cool!\n",
      "Cool!\n",
      "Cool!\n",
      "Cool!\n",
      "Cool!\n",
      "Cool!\n",
      "Cool!\n"
     ]
    }
   ],
   "source": [
    "#algunos usan el underscore/guiòn bajo _ para indicar en la función un iterable que no piensa usar luego, y no se gastan en ponerle un nombre acorde\n",
    "for _ in 'Bubulele':\n",
    "    print ('Cool!')"
   ]
  },
  {
   "cell_type": "code",
   "execution_count": 59,
   "id": "dfea95aa",
   "metadata": {},
   "outputs": [
    {
     "name": "stdout",
     "output_type": "stream",
     "text": [
      "1\n",
      "2\n",
      "3\n"
     ]
    }
   ],
   "source": [
    "tup = (1,2,3)\n",
    "\n",
    "for item in tup:\n",
    "    print (item)"
   ]
  },
  {
   "cell_type": "markdown",
   "id": "2233b399",
   "metadata": {},
   "source": [
    "**Tuples** have a special quality when it comes to for loops. If you are iterating through a sequence that contains tuples, *the item can actually be the tuple itself*, this is an example of **tuple unpacking**. During the for loop we will be unpacking the tuple inside of a sequence and we can access the individual items inside that tuple!"
   ]
  },
  {
   "cell_type": "code",
   "execution_count": 60,
   "id": "0ceaa9bb",
   "metadata": {},
   "outputs": [],
   "source": [
    "mylist = [(1,2), (3,4), (5,6), (7,8)]"
   ]
  },
  {
   "cell_type": "code",
   "execution_count": 61,
   "id": "ab6aaf71",
   "metadata": {},
   "outputs": [
    {
     "data": {
      "text/plain": [
       "4"
      ]
     },
     "execution_count": 61,
     "metadata": {},
     "output_type": "execute_result"
    }
   ],
   "source": [
    "len (mylist)"
   ]
  },
  {
   "cell_type": "code",
   "execution_count": 62,
   "id": "0e5da3ea",
   "metadata": {},
   "outputs": [
    {
     "name": "stdout",
     "output_type": "stream",
     "text": [
      "(1, 2)\n",
      "(3, 4)\n",
      "(5, 6)\n",
      "(7, 8)\n"
     ]
    }
   ],
   "source": [
    "for item in mylist:\n",
    "    print(item)"
   ]
  },
  {
   "cell_type": "code",
   "execution_count": 63,
   "id": "a660d0e8",
   "metadata": {},
   "outputs": [
    {
     "name": "stdout",
     "output_type": "stream",
     "text": [
      "1\n",
      "2\n",
      "3\n",
      "4\n",
      "5\n",
      "6\n",
      "7\n",
      "8\n"
     ]
    }
   ],
   "source": [
    "for (a,b) in mylist:\n",
    "    print(a)\n",
    "    print(b)"
   ]
  },
  {
   "cell_type": "markdown",
   "id": "24ef1508",
   "metadata": {},
   "source": [
    "Duplicas las estructura de los items dentro de la secuencia para el unpacking"
   ]
  },
  {
   "cell_type": "code",
   "execution_count": 64,
   "id": "6c25e89a",
   "metadata": {},
   "outputs": [
    {
     "name": "stdout",
     "output_type": "stream",
     "text": [
      "1\n",
      "3\n",
      "5\n",
      "7\n"
     ]
    }
   ],
   "source": [
    "for a,b in mylist:\n",
    "    print(a)"
   ]
  },
  {
   "cell_type": "markdown",
   "id": "0f13f34b",
   "metadata": {},
   "source": [
    "De hecho no necesita los ()"
   ]
  },
  {
   "cell_type": "code",
   "execution_count": 71,
   "id": "576905dc",
   "metadata": {},
   "outputs": [],
   "source": [
    "x = 'sun'\n",
    "y = 777\n",
    "z = 4.5\n",
    "mylist = [(1,2,3),(x,y,z),('alpha','beta', 'gamma')]"
   ]
  },
  {
   "cell_type": "code",
   "execution_count": 72,
   "id": "5bc114b9",
   "metadata": {},
   "outputs": [
    {
     "name": "stdout",
     "output_type": "stream",
     "text": [
      "1\n",
      "2\n",
      "3\n",
      "sun\n",
      "777\n",
      "4.5\n",
      "alpha\n",
      "beta\n",
      "gamma\n"
     ]
    }
   ],
   "source": [
    "for a,b,c in mylist:\n",
    "    print(a)\n",
    "    print(b)\n",
    "    print(c)"
   ]
  },
  {
   "cell_type": "code",
   "execution_count": 74,
   "id": "e798cb3e",
   "metadata": {},
   "outputs": [
    {
     "name": "stdout",
     "output_type": "stream",
     "text": [
      "k1\n",
      "k2\n",
      "k3\n"
     ]
    }
   ],
   "source": [
    "d = {'k1':1, 'k2':2, 'k3':3}\n",
    "\n",
    "for item in d:\n",
    "    print (item)"
   ]
  },
  {
   "cell_type": "code",
   "execution_count": 75,
   "id": "5c78276e",
   "metadata": {},
   "outputs": [
    {
     "name": "stdout",
     "output_type": "stream",
     "text": [
      "k1\n",
      "k2\n"
     ]
    }
   ],
   "source": [
    "d = {'k1':1, 'k2':2, 'k1':3}\n",
    "\n",
    "for item in d:\n",
    "    print (item)"
   ]
  },
  {
   "cell_type": "code",
   "execution_count": 76,
   "id": "b9955978",
   "metadata": {},
   "outputs": [
    {
     "name": "stdout",
     "output_type": "stream",
     "text": [
      "1\n",
      "2\n",
      "32\n",
      "13\n",
      "2\n",
      "1\n",
      "4\n",
      "1\n",
      "2\n",
      "3\n",
      "3\n"
     ]
    }
   ],
   "source": [
    "mylist = [1,2,32,13,2,1,4,1,2,3,3]\n",
    "for number in mylist:\n",
    "    print(number)"
   ]
  },
  {
   "cell_type": "code",
   "execution_count": 77,
   "id": "667a7914",
   "metadata": {},
   "outputs": [
    {
     "name": "stdout",
     "output_type": "stream",
     "text": [
      "('k1', 1)\n",
      "('k2', 2)\n",
      "('k3', 3)\n"
     ]
    }
   ],
   "source": [
    "d = {'k1':1, 'k2':2, 'k3':3}\n",
    "\n",
    "for item in d.items():\n",
    "    print (item)"
   ]
  },
  {
   "cell_type": "code",
   "execution_count": 78,
   "id": "c82d1903",
   "metadata": {},
   "outputs": [
    {
     "name": "stdout",
     "output_type": "stream",
     "text": [
      "1\n",
      "2\n",
      "3\n"
     ]
    }
   ],
   "source": [
    "d = {'k1':1, 'k2':2, 'k3':3}\n",
    "\n",
    "for key,value in d.items():\n",
    "    print (value)"
   ]
  },
  {
   "cell_type": "markdown",
   "id": "f9541139",
   "metadata": {},
   "source": [
    "As dictionaries and unordered, when a iterate there is no guarantee that it will return the values in the same order they where introduced to the dictionary."
   ]
  },
  {
   "cell_type": "code",
   "execution_count": 1,
   "id": "a320f606",
   "metadata": {},
   "outputs": [],
   "source": [
    "#"
   ]
  },
  {
   "cell_type": "markdown",
   "id": "51f2c4d4",
   "metadata": {},
   "source": [
    "# while Loops\n",
    "\n",
    "The <code>while</code> statement in Python is one of most general ways to perform iteration. A <code>while</code> statement will repeatedly execute a single statement or group of statements as long as the condition is true. The reason it is called a 'loop' is because the code statements are looped through over and over again until the condition is no longer met.\n",
    "\n",
    "The general format of a while loop is:\n",
    "\n",
    "    while test:\n",
    "        code statements\n",
    "    else:\n",
    "        final code statements\n",
    "\n",
    "Let’s look at a few simple <code>while</code> loops in action. "
   ]
  },
  {
   "cell_type": "markdown",
   "id": "65295e34",
   "metadata": {},
   "source": [
    "# break, continue, pass\n",
    "\n",
    "We can use <code>break</code>, <code>continue</code>, and <code>pass</code> statements in our loops to add additional functionality for various cases. The three statements are defined by:\n",
    "\n",
    "    break: Breaks out of the current closest enclosing loop.\n",
    "    continue: Goes to the top of the closest enclosing loop.\n",
    "    pass: Does nothing at all.\n",
    "    \n",
    "    \n",
    "Thinking about <code>break</code> and <code>continue</code> statements, the general format of the <code>while</code> loop looks like this:\n",
    "\n",
    "    while test: \n",
    "        code statement\n",
    "        if test: \n",
    "            break\n",
    "        if test: \n",
    "            continue \n",
    "    else:\n",
    "\n",
    "<code>break</code> and <code>continue</code> statements can appear anywhere inside the loop’s body, but we will usually put them further nested in conjunction with an <code>if</code> statement to perform an action based on some condition."
   ]
  },
  {
   "cell_type": "code",
   "execution_count": 2,
   "id": "ed8a9e2f",
   "metadata": {},
   "outputs": [
    {
     "name": "stdout",
     "output_type": "stream",
     "text": [
      "The current value of x is 0\n",
      "The current value of x is 1\n",
      "The current value of x is 2\n",
      "The current value of x is 3\n",
      "The current value of x is 4\n"
     ]
    }
   ],
   "source": [
    "x = 0\n",
    "\n",
    "while x < 5:\n",
    "    print(f'The current value of x is {x}')\n",
    "    x = x + 1 #can also write \"x += 1\""
   ]
  },
  {
   "cell_type": "code",
   "execution_count": 4,
   "id": "7f4d8642",
   "metadata": {},
   "outputs": [
    {
     "name": "stdout",
     "output_type": "stream",
     "text": [
      "The current value of x is 0\n",
      "The current value of x is 1\n",
      "The current value of x is 2\n",
      "The current value of x is 3\n",
      "The current value of x is 4\n",
      "X is not less than 5\n"
     ]
    }
   ],
   "source": [
    "x = 0\n",
    "\n",
    "while x < 5:\n",
    "    print(f'The current value of x is {x}')\n",
    "    x += 1\n",
    "\n",
    "else:\n",
    "    print ('X is not less than 5')"
   ]
  },
  {
   "cell_type": "code",
   "execution_count": 6,
   "id": "6e3be55f",
   "metadata": {},
   "outputs": [
    {
     "name": "stdout",
     "output_type": "stream",
     "text": [
      "end of my script\n"
     ]
    }
   ],
   "source": [
    "x = (1,2,3)\n",
    "\n",
    "for item in x:\n",
    "    # comment\n",
    "    pass\n",
    "\n",
    "print ('end of my script')"
   ]
  },
  {
   "cell_type": "code",
   "execution_count": 7,
   "id": "2f241c61",
   "metadata": {},
   "outputs": [],
   "source": [
    "mystring = 'Sammy'"
   ]
  },
  {
   "cell_type": "code",
   "execution_count": 8,
   "id": "50a227e8",
   "metadata": {},
   "outputs": [
    {
     "name": "stdout",
     "output_type": "stream",
     "text": [
      "S\n",
      "a\n",
      "m\n",
      "m\n",
      "y\n"
     ]
    }
   ],
   "source": [
    "for letter in mystring:\n",
    "    print (letter)"
   ]
  },
  {
   "cell_type": "code",
   "execution_count": 9,
   "id": "d064d1e3",
   "metadata": {},
   "outputs": [
    {
     "name": "stdout",
     "output_type": "stream",
     "text": [
      "S\n",
      "m\n",
      "m\n",
      "y\n"
     ]
    }
   ],
   "source": [
    "for letter in mystring:\n",
    "    if letter == 'a':\n",
    "        continue\n",
    "    print (letter)"
   ]
  },
  {
   "cell_type": "code",
   "execution_count": 10,
   "id": "63812baa",
   "metadata": {},
   "outputs": [
    {
     "name": "stdout",
     "output_type": "stream",
     "text": [
      "S\n"
     ]
    }
   ],
   "source": [
    "for letter in mystring:\n",
    "    if letter == 'a':\n",
    "        break\n",
    "    print (letter)"
   ]
  },
  {
   "cell_type": "code",
   "execution_count": 11,
   "id": "97922491",
   "metadata": {},
   "outputs": [
    {
     "name": "stdout",
     "output_type": "stream",
     "text": [
      "S\n",
      "a\n",
      "m\n",
      "m\n",
      "y\n"
     ]
    }
   ],
   "source": [
    "for letter in mystring:\n",
    "    if letter == 'a':\n",
    "        pass\n",
    "    print (letter)"
   ]
  },
  {
   "cell_type": "code",
   "execution_count": 14,
   "id": "37da8d31",
   "metadata": {},
   "outputs": [
    {
     "name": "stdout",
     "output_type": "stream",
     "text": [
      "0\n",
      "1\n",
      "2\n",
      "3\n",
      "4\n"
     ]
    }
   ],
   "source": [
    "x = 0\n",
    "\n",
    "while x < 5:\n",
    "    print (x)\n",
    "    x += 1"
   ]
  },
  {
   "cell_type": "code",
   "execution_count": 16,
   "id": "87cbf5ee",
   "metadata": {},
   "outputs": [
    {
     "name": "stdout",
     "output_type": "stream",
     "text": [
      "0\n",
      "1\n"
     ]
    }
   ],
   "source": [
    "x = 0\n",
    "\n",
    "while x < 9:\n",
    "    if x == 2:\n",
    "        break\n",
    "    print(x)\n",
    "    x += 1"
   ]
  },
  {
   "cell_type": "code",
   "execution_count": 17,
   "id": "bad9a83f",
   "metadata": {},
   "outputs": [],
   "source": [
    "#\n"
   ]
  },
  {
   "cell_type": "markdown",
   "id": "33d449f9",
   "metadata": {},
   "source": [
    "# Useful Operators\n",
    "\n",
    "There are a few built-in functions and \"operators\" in Python that don't fit well into any category, so we will go over them in this lecture, let's begin!"
   ]
  },
  {
   "cell_type": "markdown",
   "id": "d2a6f576",
   "metadata": {},
   "source": [
    "## range\n",
    "\n",
    "The range function allows you to quickly *generate* a list of integers, this comes in handy a lot, so take note of how to use it! There are 3 parameters you can pass, a start, a stop, and a step size. Let's see some examples:"
   ]
  },
  {
   "cell_type": "code",
   "execution_count": 18,
   "id": "0bf310a7",
   "metadata": {},
   "outputs": [],
   "source": [
    "mylist = [1,2,3]"
   ]
  },
  {
   "cell_type": "code",
   "execution_count": 20,
   "id": "4aa4b478",
   "metadata": {},
   "outputs": [
    {
     "name": "stdout",
     "output_type": "stream",
     "text": [
      "3\n",
      "4\n",
      "5\n",
      "6\n",
      "7\n",
      "8\n",
      "9\n"
     ]
    }
   ],
   "source": [
    "for num in range(3,10):\n",
    "    print (num)"
   ]
  },
  {
   "cell_type": "code",
   "execution_count": 21,
   "id": "82779520",
   "metadata": {},
   "outputs": [
    {
     "name": "stdout",
     "output_type": "stream",
     "text": [
      "3\n",
      "5\n",
      "7\n",
      "9\n"
     ]
    }
   ],
   "source": [
    "for num in range(3,10, 2):\n",
    "    print (num)"
   ]
  },
  {
   "cell_type": "code",
   "execution_count": 22,
   "id": "db767eab",
   "metadata": {},
   "outputs": [
    {
     "name": "stdout",
     "output_type": "stream",
     "text": [
      "0\n",
      "1\n",
      "2\n",
      "3\n",
      "4\n",
      "5\n",
      "6\n",
      "7\n",
      "8\n",
      "9\n"
     ]
    }
   ],
   "source": [
    "for num in range(10):\n",
    "    print (num)"
   ]
  },
  {
   "cell_type": "code",
   "execution_count": 23,
   "id": "d9394cfa",
   "metadata": {},
   "outputs": [
    {
     "data": {
      "text/plain": [
       "range(0, 10)"
      ]
     },
     "execution_count": 23,
     "metadata": {},
     "output_type": "execute_result"
    }
   ],
   "source": [
    "range (10)"
   ]
  },
  {
   "cell_type": "code",
   "execution_count": 24,
   "id": "e720cb7e",
   "metadata": {},
   "outputs": [
    {
     "data": {
      "text/plain": [
       "[0, 2, 4, 6, 8, 10]"
      ]
     },
     "execution_count": 24,
     "metadata": {},
     "output_type": "execute_result"
    }
   ],
   "source": [
    "list(range(0,11,2))"
   ]
  },
  {
   "cell_type": "markdown",
   "id": "962eef2f",
   "metadata": {},
   "source": [
    "## enumerate\n",
    "\n",
    "enumerate is a very useful function to use with for loops."
   ]
  },
  {
   "cell_type": "code",
   "execution_count": 25,
   "id": "d1185f6a",
   "metadata": {},
   "outputs": [
    {
     "name": "stdout",
     "output_type": "stream",
     "text": [
      "At index 0 the letter is a\n",
      "At index 1 the letter is b\n",
      "At index 2 the letter is c\n",
      "At index 3 the letter is d\n",
      "At index 4 the letter is e\n"
     ]
    }
   ],
   "source": [
    "for i,letter in enumerate('abcde'):\n",
    "    print(\"At index {} the letter is {}\".format(i,letter))"
   ]
  },
  {
   "cell_type": "code",
   "execution_count": 26,
   "id": "15f949ad",
   "metadata": {},
   "outputs": [
    {
     "name": "stdout",
     "output_type": "stream",
     "text": [
      "At index 0 the letter is a\n",
      "At index 1 the letter is b\n",
      "At index 2 the letter is c\n",
      "At index 3 the letter is d\n",
      "At index 4 the letter is e\n"
     ]
    }
   ],
   "source": [
    "index_count = 0\n",
    "\n",
    "for letter in 'abcde':\n",
    "    print ('At index {} the letter is {}'.format(index_count,letter))\n",
    "    index_count += 1"
   ]
  },
  {
   "cell_type": "code",
   "execution_count": 27,
   "id": "2f6cd68a",
   "metadata": {},
   "outputs": [
    {
     "name": "stdout",
     "output_type": "stream",
     "text": [
      "a\n",
      "b\n",
      "c\n",
      "d\n",
      "e\n"
     ]
    }
   ],
   "source": [
    "index_count = 0\n",
    "word = 'abcde'\n",
    "for letter in word:\n",
    "    print (word[index_count])\n",
    "    index_count+=1"
   ]
  },
  {
   "cell_type": "code",
   "execution_count": 28,
   "id": "7a8813f3",
   "metadata": {},
   "outputs": [
    {
     "name": "stdout",
     "output_type": "stream",
     "text": [
      "(0, 'a')\n",
      "(1, 'b')\n",
      "(2, 'c')\n",
      "(3, 'd')\n",
      "(4, 'e')\n"
     ]
    }
   ],
   "source": [
    "word = 'abcde'\n",
    "for item in enumerate (word):\n",
    "    print(item)"
   ]
  },
  {
   "cell_type": "raw",
   "id": "f54e3033",
   "metadata": {},
   "source": [
    "regresa un tuple"
   ]
  },
  {
   "cell_type": "code",
   "execution_count": 29,
   "id": "de9ee43c",
   "metadata": {},
   "outputs": [
    {
     "name": "stdout",
     "output_type": "stream",
     "text": [
      "0\n",
      "a\n",
      "\n",
      "\n",
      "1\n",
      "b\n",
      "\n",
      "\n",
      "2\n",
      "c\n",
      "\n",
      "\n",
      "3\n",
      "d\n",
      "\n",
      "\n",
      "4\n",
      "e\n",
      "\n",
      "\n"
     ]
    }
   ],
   "source": [
    "word = 'abcde'\n",
    "for index,letter in enumerate (word):\n",
    "    print(index)\n",
    "    print(letter)\n",
    "    print ('\\n')"
   ]
  },
  {
   "cell_type": "markdown",
   "id": "dc7ef2ab",
   "metadata": {},
   "source": [
    "## zip\n",
    "\n",
    "Notice the format enumerate actually returns, let's take a look by transforming it to a list()"
   ]
  },
  {
   "cell_type": "code",
   "execution_count": 30,
   "id": "04926660",
   "metadata": {},
   "outputs": [
    {
     "data": {
      "text/plain": [
       "[(0, 'a'), (1, 'b'), (2, 'c'), (3, 'd'), (4, 'e')]"
      ]
     },
     "execution_count": 30,
     "metadata": {},
     "output_type": "execute_result"
    }
   ],
   "source": [
    "list(enumerate('abcde'))"
   ]
  },
  {
   "cell_type": "markdown",
   "id": "e7f5e890",
   "metadata": {},
   "source": [
    "It was a list of tuples, meaning we could use tuple unpacking during our for loop. This data structure is actually very common in Python , especially when working with outside libraries. You can use the zip() function to quickly create a list of tuples by \"zipping\" up together two lists."
   ]
  },
  {
   "cell_type": "code",
   "execution_count": 22,
   "id": "ba147bb4",
   "metadata": {},
   "outputs": [],
   "source": [
    "mylist1 = [1,2,3,4,5]"
   ]
  },
  {
   "cell_type": "code",
   "execution_count": 23,
   "id": "0bb54fb7",
   "metadata": {},
   "outputs": [],
   "source": [
    "mylist2= ['a', 'b', 'c']"
   ]
  },
  {
   "cell_type": "code",
   "execution_count": 24,
   "id": "2e086ca5",
   "metadata": {},
   "outputs": [
    {
     "data": {
      "text/plain": [
       "<zip at 0x23fcb23d7c0>"
      ]
     },
     "execution_count": 24,
     "metadata": {},
     "output_type": "execute_result"
    }
   ],
   "source": [
    "zip(mylist1, mylist2)"
   ]
  },
  {
   "cell_type": "code",
   "execution_count": 25,
   "id": "a346baf9",
   "metadata": {},
   "outputs": [
    {
     "name": "stdout",
     "output_type": "stream",
     "text": [
      "(1, 'a')\n",
      "(2, 'b')\n",
      "(3, 'c')\n"
     ]
    }
   ],
   "source": [
    "for item in zip(mylist1, mylist2):\n",
    "    print(item)"
   ]
  },
  {
   "cell_type": "code",
   "execution_count": 26,
   "id": "aa0eb0c6",
   "metadata": {},
   "outputs": [],
   "source": [
    "mylist3 = ['blue', 'red', 'white']\n"
   ]
  },
  {
   "cell_type": "code",
   "execution_count": 27,
   "id": "da9ec7aa",
   "metadata": {},
   "outputs": [
    {
     "name": "stdout",
     "output_type": "stream",
     "text": [
      "(1, 'a', 'blue')\n",
      "(2, 'b', 'red')\n",
      "(3, 'c', 'white')\n"
     ]
    }
   ],
   "source": [
    "for item in zip(mylist1, mylist2, mylist3):\n",
    "    print(item)"
   ]
  },
  {
   "cell_type": "markdown",
   "id": "b909dd37",
   "metadata": {},
   "source": [
    "**It will unify list up to the shortest one**"
   ]
  },
  {
   "cell_type": "code",
   "execution_count": 28,
   "id": "5d695a45",
   "metadata": {},
   "outputs": [
    {
     "data": {
      "text/plain": [
       "[(1, 'a', 'blue'), (2, 'b', 'red'), (3, 'c', 'white')]"
      ]
     },
     "execution_count": 28,
     "metadata": {},
     "output_type": "execute_result"
    }
   ],
   "source": [
    "list(zip(mylist1, mylist2, mylist3))"
   ]
  },
  {
   "cell_type": "code",
   "execution_count": 33,
   "id": "b84fb9f5",
   "metadata": {},
   "outputs": [
    {
     "name": "stdout",
     "output_type": "stream",
     "text": [
      "I have 1 shirt/s with a blue letter a on it's fornt\n",
      "I have 2 shirt/s with a red letter b on it's fornt\n",
      "I have 3 shirt/s with a white letter c on it's fornt\n"
     ]
    }
   ],
   "source": [
    "for num, let, col in zip(mylist1, mylist2, mylist3):\n",
    "    print (\"I have {} shirt/s with a {} letter {} on it's fornt\".format(num, col, let))"
   ]
  },
  {
   "cell_type": "markdown",
   "id": "ba258b15",
   "metadata": {},
   "source": [
    "\n",
    "## in operator\n",
    "\n",
    "Can use **in** to quickly check if an object is in a list\n",
    "\n",
    "It returns a True or False result"
   ]
  },
  {
   "cell_type": "code",
   "execution_count": 34,
   "id": "d86cfe5a",
   "metadata": {},
   "outputs": [
    {
     "data": {
      "text/plain": [
       "False"
      ]
     },
     "execution_count": 34,
     "metadata": {},
     "output_type": "execute_result"
    }
   ],
   "source": [
    "'x' in [1,2,3]"
   ]
  },
  {
   "cell_type": "code",
   "execution_count": 36,
   "id": "25b32000",
   "metadata": {},
   "outputs": [
    {
     "data": {
      "text/plain": [
       "True"
      ]
     },
     "execution_count": 36,
     "metadata": {},
     "output_type": "execute_result"
    }
   ],
   "source": [
    "'x' in ('x','y','z') #works with tuples"
   ]
  },
  {
   "cell_type": "code",
   "execution_count": 37,
   "id": "7370ad83",
   "metadata": {},
   "outputs": [
    {
     "data": {
      "text/plain": [
       "False"
      ]
     },
     "execution_count": 37,
     "metadata": {},
     "output_type": "execute_result"
    }
   ],
   "source": [
    "'x' in {'a' : 1, 'b' : 'blue' , 'c' : mylist1}"
   ]
  },
  {
   "cell_type": "code",
   "execution_count": 44,
   "id": "acbe7cdd",
   "metadata": {},
   "outputs": [
    {
     "data": {
      "text/plain": [
       "True"
      ]
     },
     "execution_count": 44,
     "metadata": {},
     "output_type": "execute_result"
    }
   ],
   "source": [
    "'x' in {'a' : 1, 'x' : 'blue' , 'c' : mylist1} #works with Keys in Dictionaries, not with the Value asociated with that Key unless you use .values()"
   ]
  },
  {
   "cell_type": "code",
   "execution_count": 45,
   "id": "52dad5f7",
   "metadata": {},
   "outputs": [
    {
     "data": {
      "text/plain": [
       "False"
      ]
     },
     "execution_count": 45,
     "metadata": {},
     "output_type": "execute_result"
    }
   ],
   "source": [
    "'x' in {'a' : 1, 'b' : 'x' , 'c' : mylist1}"
   ]
  },
  {
   "cell_type": "code",
   "execution_count": 40,
   "id": "7bf87214",
   "metadata": {},
   "outputs": [],
   "source": [
    "x = 'whatever'"
   ]
  },
  {
   "cell_type": "code",
   "execution_count": 41,
   "id": "af89139a",
   "metadata": {},
   "outputs": [
    {
     "data": {
      "text/plain": [
       "False"
      ]
     },
     "execution_count": 41,
     "metadata": {},
     "output_type": "execute_result"
    }
   ],
   "source": [
    "'x' in {'a' : 1, 'b' : x , 'c' : mylist1}"
   ]
  },
  {
   "cell_type": "code",
   "execution_count": 42,
   "id": "2fd649f5",
   "metadata": {},
   "outputs": [
    {
     "data": {
      "text/plain": [
       "True"
      ]
     },
     "execution_count": 42,
     "metadata": {},
     "output_type": "execute_result"
    }
   ],
   "source": [
    "'a' in 'Omnissiah'"
   ]
  },
  {
   "cell_type": "code",
   "execution_count": 46,
   "id": "560cd727",
   "metadata": {},
   "outputs": [
    {
     "data": {
      "text/plain": [
       "True"
      ]
     },
     "execution_count": 46,
     "metadata": {},
     "output_type": "execute_result"
    }
   ],
   "source": [
    "d = {'a' : 1, 'b' : 'x' , 'c' : mylist1}\n",
    "'x' in d.values()"
   ]
  },
  {
   "cell_type": "markdown",
   "id": "495c9127",
   "metadata": {},
   "source": [
    "## not in\n",
    "\n",
    "We can combine **in** with a **not** operator, to check if some object or variable is not present in a list.\n"
   ]
  },
  {
   "cell_type": "code",
   "execution_count": 48,
   "id": "91bd4da2",
   "metadata": {},
   "outputs": [
    {
     "data": {
      "text/plain": [
       "True"
      ]
     },
     "execution_count": 48,
     "metadata": {},
     "output_type": "execute_result"
    }
   ],
   "source": [
    "'x' not in [1,2,3]"
   ]
  },
  {
   "cell_type": "code",
   "execution_count": 49,
   "id": "1b457553",
   "metadata": {},
   "outputs": [
    {
     "data": {
      "text/plain": [
       "False"
      ]
     },
     "execution_count": 49,
     "metadata": {},
     "output_type": "execute_result"
    }
   ],
   "source": [
    "'x' not in ('x','y','z')"
   ]
  },
  {
   "cell_type": "code",
   "execution_count": null,
   "id": "340eb533",
   "metadata": {},
   "outputs": [],
   "source": []
  },
  {
   "cell_type": "markdown",
   "id": "074ad4a7",
   "metadata": {},
   "source": [
    "## min and max\n",
    "\n",
    "Quickly check the minimum or maximum of a list with these functions."
   ]
  },
  {
   "cell_type": "code",
   "execution_count": 58,
   "id": "150ab5d3",
   "metadata": {},
   "outputs": [],
   "source": [
    "mylist = [10,200,30,4,100]"
   ]
  },
  {
   "cell_type": "code",
   "execution_count": 59,
   "id": "a5388e15",
   "metadata": {},
   "outputs": [
    {
     "data": {
      "text/plain": [
       "4"
      ]
     },
     "execution_count": 59,
     "metadata": {},
     "output_type": "execute_result"
    }
   ],
   "source": [
    "min(mylist)"
   ]
  },
  {
   "cell_type": "code",
   "execution_count": 60,
   "id": "90b96706",
   "metadata": {},
   "outputs": [
    {
     "data": {
      "text/plain": [
       "200"
      ]
     },
     "execution_count": 60,
     "metadata": {},
     "output_type": "execute_result"
    }
   ],
   "source": [
    "max(mylist)"
   ]
  },
  {
   "cell_type": "code",
   "execution_count": 61,
   "id": "0dac78f3",
   "metadata": {},
   "outputs": [],
   "source": [
    "t = (1,2,3,4,5,9,0)"
   ]
  },
  {
   "cell_type": "code",
   "execution_count": 62,
   "id": "9a62bc71",
   "metadata": {},
   "outputs": [
    {
     "data": {
      "text/plain": [
       "0"
      ]
     },
     "execution_count": 62,
     "metadata": {},
     "output_type": "execute_result"
    }
   ],
   "source": [
    "min(t)"
   ]
  },
  {
   "cell_type": "code",
   "execution_count": 63,
   "id": "2d1785f3",
   "metadata": {},
   "outputs": [
    {
     "data": {
      "text/plain": [
       "9"
      ]
     },
     "execution_count": 63,
     "metadata": {},
     "output_type": "execute_result"
    }
   ],
   "source": [
    "max(t)"
   ]
  },
  {
   "cell_type": "code",
   "execution_count": 56,
   "id": "4bf0fed0",
   "metadata": {},
   "outputs": [
    {
     "data": {
      "text/plain": [
       "'a'"
      ]
     },
     "execution_count": 56,
     "metadata": {},
     "output_type": "execute_result"
    }
   ],
   "source": [
    "min (d)"
   ]
  },
  {
   "cell_type": "code",
   "execution_count": 64,
   "id": "2d11db65",
   "metadata": {},
   "outputs": [
    {
     "data": {
      "text/plain": [
       "'c'"
      ]
     },
     "execution_count": 64,
     "metadata": {},
     "output_type": "execute_result"
    }
   ],
   "source": [
    "max (d)"
   ]
  },
  {
   "cell_type": "code",
   "execution_count": 65,
   "id": "c432f886",
   "metadata": {},
   "outputs": [],
   "source": [
    "d2={'keyZ': '300', 'keyAloha': 43, 'keyFirst': 'a', 'keyMiddle': '1','keyLast' : 'z'}"
   ]
  },
  {
   "cell_type": "code",
   "execution_count": 66,
   "id": "8f7256fa",
   "metadata": {},
   "outputs": [
    {
     "data": {
      "text/plain": [
       "'keyAloha'"
      ]
     },
     "execution_count": 66,
     "metadata": {},
     "output_type": "execute_result"
    }
   ],
   "source": [
    "min (d2)"
   ]
  },
  {
   "cell_type": "code",
   "execution_count": 67,
   "id": "d9c5b9e9",
   "metadata": {},
   "outputs": [
    {
     "data": {
      "text/plain": [
       "'keyZ'"
      ]
     },
     "execution_count": 67,
     "metadata": {},
     "output_type": "execute_result"
    }
   ],
   "source": [
    "max (d2)"
   ]
  },
  {
   "cell_type": "code",
   "execution_count": 68,
   "id": "d71a1854",
   "metadata": {},
   "outputs": [],
   "source": [
    "d3={'key1': '300', 'zkeyAloha': 43, 'keyFirst': 'a', 'keyMiddle': '1','keyLast' : 'z'}"
   ]
  },
  {
   "cell_type": "code",
   "execution_count": 69,
   "id": "a07300bc",
   "metadata": {},
   "outputs": [
    {
     "data": {
      "text/plain": [
       "'key1'"
      ]
     },
     "execution_count": 69,
     "metadata": {},
     "output_type": "execute_result"
    }
   ],
   "source": [
    "min(d3)"
   ]
  },
  {
   "cell_type": "code",
   "execution_count": 70,
   "id": "30d14eff",
   "metadata": {},
   "outputs": [
    {
     "data": {
      "text/plain": [
       "'zkeyAloha'"
      ]
     },
     "execution_count": 70,
     "metadata": {},
     "output_type": "execute_result"
    }
   ],
   "source": [
    "max(d3)"
   ]
  },
  {
   "cell_type": "code",
   "execution_count": 72,
   "id": "2f307722",
   "metadata": {},
   "outputs": [
    {
     "ename": "SyntaxError",
     "evalue": "invalid syntax (Temp/ipykernel_10716/2258666371.py, line 1)",
     "output_type": "error",
     "traceback": [
      "\u001b[1;36m  File \u001b[1;32m\"C:\\Users\\Gin\\AppData\\Local\\Temp/ipykernel_10716/2258666371.py\"\u001b[1;36m, line \u001b[1;32m1\u001b[0m\n\u001b[1;33m    max d2.values()\u001b[0m\n\u001b[1;37m        ^\u001b[0m\n\u001b[1;31mSyntaxError\u001b[0m\u001b[1;31m:\u001b[0m invalid syntax\n"
     ]
    }
   ],
   "source": [
    "max d2.values()"
   ]
  },
  {
   "cell_type": "code",
   "execution_count": null,
   "id": "9b57d48d",
   "metadata": {},
   "outputs": [],
   "source": []
  },
  {
   "cell_type": "markdown",
   "id": "5c89e6de",
   "metadata": {},
   "source": [
    "## random\n",
    "\n",
    "Python comes with a built in random library. There are a lot of functions included in this random library, so we will only show you two useful functions for now."
   ]
  },
  {
   "cell_type": "code",
   "execution_count": 75,
   "id": "30a7f754",
   "metadata": {},
   "outputs": [],
   "source": [
    "from random import shuffle\n",
    "\n",
    "# This shuffles the list \"in-place\" meaning it won't return\n",
    "# anything, instead it will effect the list passed\n",
    "\n",
    "shuffle(mylist1)"
   ]
  },
  {
   "cell_type": "code",
   "execution_count": 76,
   "id": "beebe280",
   "metadata": {},
   "outputs": [
    {
     "data": {
      "text/plain": [
       "[5, 2, 4, 3, 1]"
      ]
     },
     "execution_count": 76,
     "metadata": {},
     "output_type": "execute_result"
    }
   ],
   "source": [
    "mylist1"
   ]
  },
  {
   "cell_type": "code",
   "execution_count": 77,
   "id": "a442dc43",
   "metadata": {},
   "outputs": [
    {
     "data": {
      "text/plain": [
       "[4, 3, 2, 1, 5]"
      ]
     },
     "execution_count": 77,
     "metadata": {},
     "output_type": "execute_result"
    }
   ],
   "source": [
    "shuffle(mylist1)\n",
    "mylist1"
   ]
  },
  {
   "cell_type": "code",
   "execution_count": 78,
   "id": "d3f15e57",
   "metadata": {},
   "outputs": [
    {
     "data": {
      "text/plain": [
       "15"
      ]
     },
     "execution_count": 78,
     "metadata": {},
     "output_type": "execute_result"
    }
   ],
   "source": [
    "from random import randint\n",
    "\n",
    "# Return random integer in range [a, b], including both end points.\n",
    "\n",
    "randint(0,100)"
   ]
  },
  {
   "cell_type": "code",
   "execution_count": 79,
   "id": "2ae520fe",
   "metadata": {},
   "outputs": [
    {
     "data": {
      "text/plain": [
       "77"
      ]
     },
     "execution_count": 79,
     "metadata": {},
     "output_type": "execute_result"
    }
   ],
   "source": [
    "randint(0,100)"
   ]
  },
  {
   "cell_type": "code",
   "execution_count": 82,
   "id": "ff07915a",
   "metadata": {},
   "outputs": [
    {
     "ename": "TypeError",
     "evalue": "'tuple' object does not support item assignment",
     "output_type": "error",
     "traceback": [
      "\u001b[1;31m---------------------------------------------------------------------------\u001b[0m",
      "\u001b[1;31mTypeError\u001b[0m                                 Traceback (most recent call last)",
      "\u001b[1;32m~\\AppData\\Local\\Temp/ipykernel_10716/492153983.py\u001b[0m in \u001b[0;36m<module>\u001b[1;34m\u001b[0m\n\u001b[0;32m      1\u001b[0m \u001b[0mt\u001b[0m \u001b[1;33m=\u001b[0m \u001b[1;33m(\u001b[0m\u001b[1;36m1\u001b[0m\u001b[1;33m,\u001b[0m\u001b[1;36m2\u001b[0m\u001b[1;33m,\u001b[0m\u001b[1;36m3\u001b[0m\u001b[1;33m,\u001b[0m\u001b[1;36m4\u001b[0m\u001b[1;33m,\u001b[0m\u001b[1;36m5\u001b[0m\u001b[1;33m,\u001b[0m\u001b[1;36m6\u001b[0m\u001b[1;33m,\u001b[0m\u001b[1;36m7\u001b[0m\u001b[1;33m,\u001b[0m\u001b[1;36m8\u001b[0m\u001b[1;33m,\u001b[0m\u001b[1;36m9\u001b[0m\u001b[1;33m,\u001b[0m\u001b[1;36m10\u001b[0m\u001b[1;33m)\u001b[0m\u001b[1;33m\u001b[0m\u001b[1;33m\u001b[0m\u001b[0m\n\u001b[0;32m      2\u001b[0m \u001b[1;32mfrom\u001b[0m \u001b[0mrandom\u001b[0m \u001b[1;32mimport\u001b[0m \u001b[0mshuffle\u001b[0m\u001b[1;33m\u001b[0m\u001b[1;33m\u001b[0m\u001b[0m\n\u001b[1;32m----> 3\u001b[1;33m \u001b[0mshuffle\u001b[0m\u001b[1;33m(\u001b[0m\u001b[0mt\u001b[0m\u001b[1;33m)\u001b[0m\u001b[1;33m\u001b[0m\u001b[1;33m\u001b[0m\u001b[0m\n\u001b[0m",
      "\u001b[1;32m~\\anaconda3\\lib\\random.py\u001b[0m in \u001b[0;36mshuffle\u001b[1;34m(self, x, random)\u001b[0m\n\u001b[0;32m    360\u001b[0m                 \u001b[1;31m# pick an element in x[:i+1] with which to exchange x[i]\u001b[0m\u001b[1;33m\u001b[0m\u001b[1;33m\u001b[0m\u001b[0m\n\u001b[0;32m    361\u001b[0m                 \u001b[0mj\u001b[0m \u001b[1;33m=\u001b[0m \u001b[0mrandbelow\u001b[0m\u001b[1;33m(\u001b[0m\u001b[0mi\u001b[0m \u001b[1;33m+\u001b[0m \u001b[1;36m1\u001b[0m\u001b[1;33m)\u001b[0m\u001b[1;33m\u001b[0m\u001b[1;33m\u001b[0m\u001b[0m\n\u001b[1;32m--> 362\u001b[1;33m                 \u001b[0mx\u001b[0m\u001b[1;33m[\u001b[0m\u001b[0mi\u001b[0m\u001b[1;33m]\u001b[0m\u001b[1;33m,\u001b[0m \u001b[0mx\u001b[0m\u001b[1;33m[\u001b[0m\u001b[0mj\u001b[0m\u001b[1;33m]\u001b[0m \u001b[1;33m=\u001b[0m \u001b[0mx\u001b[0m\u001b[1;33m[\u001b[0m\u001b[0mj\u001b[0m\u001b[1;33m]\u001b[0m\u001b[1;33m,\u001b[0m \u001b[0mx\u001b[0m\u001b[1;33m[\u001b[0m\u001b[0mi\u001b[0m\u001b[1;33m]\u001b[0m\u001b[1;33m\u001b[0m\u001b[1;33m\u001b[0m\u001b[0m\n\u001b[0m\u001b[0;32m    363\u001b[0m         \u001b[1;32melse\u001b[0m\u001b[1;33m:\u001b[0m\u001b[1;33m\u001b[0m\u001b[1;33m\u001b[0m\u001b[0m\n\u001b[0;32m    364\u001b[0m             _warn('The *random* parameter to shuffle() has been deprecated\\n'\n",
      "\u001b[1;31mTypeError\u001b[0m: 'tuple' object does not support item assignment"
     ]
    }
   ],
   "source": [
    "t = (1,2,3,4,5,6,7,8,9,10)\n",
    "from random import shuffle\n",
    "shuffle(t)"
   ]
  },
  {
   "cell_type": "code",
   "execution_count": 84,
   "id": "6aa11a15",
   "metadata": {},
   "outputs": [],
   "source": [
    "mylist_formtuple = [t]"
   ]
  },
  {
   "cell_type": "code",
   "execution_count": 85,
   "id": "f25af536",
   "metadata": {},
   "outputs": [],
   "source": [
    "from random import shuffle\n",
    "shuffle(mylist_formtuple)"
   ]
  },
  {
   "cell_type": "code",
   "execution_count": 86,
   "id": "a4962e23",
   "metadata": {},
   "outputs": [
    {
     "data": {
      "text/plain": [
       "[(1, 2, 3, 4, 5, 6, 7, 8, 9, 10)]"
      ]
     },
     "execution_count": 86,
     "metadata": {},
     "output_type": "execute_result"
    }
   ],
   "source": [
    "mylist_formtuple"
   ]
  },
  {
   "cell_type": "markdown",
   "id": "acf4387b",
   "metadata": {},
   "source": [
    " Shuffle no funciona con Tuples"
   ]
  },
  {
   "cell_type": "code",
   "execution_count": 87,
   "id": "0cd3e5ea",
   "metadata": {},
   "outputs": [
    {
     "name": "stdout",
     "output_type": "stream",
     "text": [
      "1d20= 9\n"
     ]
    }
   ],
   "source": [
    "from random import randint\n",
    "print ('1d20=',randint(1,20))"
   ]
  },
  {
   "cell_type": "code",
   "execution_count": 94,
   "id": "be108ac1",
   "metadata": {},
   "outputs": [
    {
     "name": "stdout",
     "output_type": "stream",
     "text": [
      "3d6= 10\n"
     ]
    }
   ],
   "source": [
    "from random import randint\n",
    "print ('3d6=',(randint(1,6))+(randint(1,6))+(randint(1,6)))"
   ]
  },
  {
   "cell_type": "code",
   "execution_count": 95,
   "id": "e282d9bf",
   "metadata": {},
   "outputs": [
    {
     "data": {
      "text/plain": [
       "5"
      ]
     },
     "execution_count": 95,
     "metadata": {},
     "output_type": "execute_result"
    }
   ],
   "source": [
    "(randint(1,6))+(randint(1,6))"
   ]
  },
  {
   "cell_type": "code",
   "execution_count": 100,
   "id": "1418aee7",
   "metadata": {},
   "outputs": [
    {
     "data": {
      "text/plain": [
       "[90]"
      ]
     },
     "execution_count": 100,
     "metadata": {},
     "output_type": "execute_result"
    }
   ],
   "source": [
    "dicepool = 10\n",
    "roll = []\n",
    "roll.append((randint(1,10))*dicepool)\n",
    "roll"
   ]
  },
  {
   "cell_type": "code",
   "execution_count": 101,
   "id": "bcd4c97c",
   "metadata": {},
   "outputs": [
    {
     "data": {
      "text/plain": [
       "[35]"
      ]
     },
     "execution_count": 101,
     "metadata": {},
     "output_type": "execute_result"
    }
   ],
   "source": [
    "dicepool = 7\n",
    "roll = []\n",
    "roll.append((randint(1,10))*dicepool)\n",
    "roll"
   ]
  },
  {
   "cell_type": "code",
   "execution_count": 110,
   "id": "b700e6ed",
   "metadata": {},
   "outputs": [
    {
     "data": {
      "text/plain": [
       "[28]"
      ]
     },
     "execution_count": 110,
     "metadata": {},
     "output_type": "execute_result"
    }
   ],
   "source": [
    "dicepool = 7\n",
    "roll = []\n",
    "roll.append((randint(1,10))*dicepool)\n",
    "roll"
   ]
  },
  {
   "cell_type": "code",
   "execution_count": 103,
   "id": "c6745769",
   "metadata": {},
   "outputs": [],
   "source": [
    "myroll = roll"
   ]
  },
  {
   "cell_type": "code",
   "execution_count": 104,
   "id": "ce254874",
   "metadata": {},
   "outputs": [
    {
     "data": {
      "text/plain": [
       "[49]"
      ]
     },
     "execution_count": 104,
     "metadata": {},
     "output_type": "execute_result"
    }
   ],
   "source": [
    "myroll"
   ]
  },
  {
   "cell_type": "markdown",
   "id": "e5e4f820",
   "metadata": {},
   "source": [
    "## input"
   ]
  },
  {
   "cell_type": "code",
   "execution_count": 105,
   "id": "505936c0",
   "metadata": {},
   "outputs": [
    {
     "name": "stdout",
     "output_type": "stream",
     "text": [
      "Box to type things: Praise the Omnissiah!\n"
     ]
    },
    {
     "data": {
      "text/plain": [
       "'Praise the Omnissiah!'"
      ]
     },
     "execution_count": 105,
     "metadata": {},
     "output_type": "execute_result"
    }
   ],
   "source": [
    "input ('Box to type things: ')"
   ]
  },
  {
   "cell_type": "markdown",
   "id": "d27fa066",
   "metadata": {},
   "source": [
    "Always returns a string, even it the input in the box was a number (it won't recognize it an integer)"
   ]
  },
  {
   "cell_type": "code",
   "execution_count": 111,
   "id": "42416daa",
   "metadata": {},
   "outputs": [
    {
     "name": "stdout",
     "output_type": "stream",
     "text": [
      "What's your dice pool?5\n"
     ]
    }
   ],
   "source": [
    "dicepool = input (\"What's your dice pool?\")"
   ]
  },
  {
   "cell_type": "code",
   "execution_count": 112,
   "id": "f3b2f38c",
   "metadata": {},
   "outputs": [
    {
     "data": {
      "text/plain": [
       "['5555']"
      ]
     },
     "execution_count": 112,
     "metadata": {},
     "output_type": "execute_result"
    }
   ],
   "source": [
    "\n",
    "roll = []\n",
    "roll.append((randint(1,10))*dicepool)\n",
    "roll"
   ]
  },
  {
   "cell_type": "code",
   "execution_count": 113,
   "id": "87438095",
   "metadata": {},
   "outputs": [
    {
     "name": "stdout",
     "output_type": "stream",
     "text": [
      "What's your dice pool?3\n"
     ]
    }
   ],
   "source": [
    "dicepool = input (\"What's your dice pool?\")"
   ]
  },
  {
   "cell_type": "code",
   "execution_count": 116,
   "id": "68cb78fc",
   "metadata": {},
   "outputs": [
    {
     "data": {
      "text/plain": [
       "str"
      ]
     },
     "execution_count": 116,
     "metadata": {},
     "output_type": "execute_result"
    }
   ],
   "source": [
    "type(dicepool)\n"
   ]
  },
  {
   "cell_type": "code",
   "execution_count": 117,
   "id": "41b1f256",
   "metadata": {},
   "outputs": [
    {
     "data": {
      "text/plain": [
       "3.0"
      ]
     },
     "execution_count": 117,
     "metadata": {},
     "output_type": "execute_result"
    }
   ],
   "source": [
    "float(dicepool)"
   ]
  },
  {
   "cell_type": "code",
   "execution_count": 118,
   "id": "6f3db494",
   "metadata": {},
   "outputs": [
    {
     "data": {
      "text/plain": [
       "3"
      ]
     },
     "execution_count": 118,
     "metadata": {},
     "output_type": "execute_result"
    }
   ],
   "source": [
    "int(dicepool)"
   ]
  },
  {
   "cell_type": "code",
   "execution_count": 119,
   "id": "ce906409",
   "metadata": {},
   "outputs": [
    {
     "data": {
      "text/plain": [
       "[18]"
      ]
     },
     "execution_count": 119,
     "metadata": {},
     "output_type": "execute_result"
    }
   ],
   "source": [
    "roll = []\n",
    "roll.append((randint(1,10))*(int (dicepool)))\n",
    "roll"
   ]
  },
  {
   "cell_type": "code",
   "execution_count": 120,
   "id": "b16b69d4",
   "metadata": {},
   "outputs": [
    {
     "data": {
      "text/plain": [
       "[18]"
      ]
     },
     "execution_count": 120,
     "metadata": {},
     "output_type": "execute_result"
    }
   ],
   "source": [
    "roll = []\n",
    "roll.append((randint(1,10))*(int (dicepool)))\n",
    "roll"
   ]
  },
  {
   "cell_type": "code",
   "execution_count": 121,
   "id": "8856bf7f",
   "metadata": {},
   "outputs": [
    {
     "data": {
      "text/plain": [
       "[15]"
      ]
     },
     "execution_count": 121,
     "metadata": {},
     "output_type": "execute_result"
    }
   ],
   "source": [
    "roll = []\n",
    "roll.append((randint(1,10))*(int (dicepool)))\n",
    "roll"
   ]
  },
  {
   "cell_type": "code",
   "execution_count": 126,
   "id": "978ea005",
   "metadata": {},
   "outputs": [
    {
     "data": {
      "text/plain": [
       "[12]"
      ]
     },
     "execution_count": 126,
     "metadata": {},
     "output_type": "execute_result"
    }
   ],
   "source": [
    "roll = []\n",
    "roll.append((randint(1,10))*(int (dicepool)))\n",
    "roll"
   ]
  },
  {
   "cell_type": "code",
   "execution_count": 127,
   "id": "76c5db9f",
   "metadata": {},
   "outputs": [
    {
     "name": "stdout",
     "output_type": "stream",
     "text": [
      "What's your dice pool?7\n"
     ]
    }
   ],
   "source": [
    "# I can transform it into a integer in the same line\n",
    "\n",
    "dicepool = int(input (\"What's your dice pool?\"))"
   ]
  },
  {
   "cell_type": "code",
   "execution_count": 128,
   "id": "7186c2f6",
   "metadata": {},
   "outputs": [
    {
     "data": {
      "text/plain": [
       "int"
      ]
     },
     "execution_count": 128,
     "metadata": {},
     "output_type": "execute_result"
    }
   ],
   "source": [
    "type(dicepool)"
   ]
  },
  {
   "cell_type": "code",
   "execution_count": 129,
   "id": "370a152a",
   "metadata": {},
   "outputs": [
    {
     "data": {
      "text/plain": [
       "7"
      ]
     },
     "execution_count": 129,
     "metadata": {},
     "output_type": "execute_result"
    }
   ],
   "source": [
    "dicepool"
   ]
  },
  {
   "cell_type": "code",
   "execution_count": 134,
   "id": "b6afe00e",
   "metadata": {},
   "outputs": [
    {
     "data": {
      "text/plain": [
       "[63]"
      ]
     },
     "execution_count": 134,
     "metadata": {},
     "output_type": "execute_result"
    }
   ],
   "source": [
    "roll = []\n",
    "roll.append((randint(1,10))*(dicepool))\n",
    "roll"
   ]
  },
  {
   "cell_type": "code",
   "execution_count": 136,
   "id": "f084a82c",
   "metadata": {},
   "outputs": [
    {
     "ename": "TypeError",
     "evalue": "unsupported operand type(s) for *: 'int' and 'NoneType'",
     "output_type": "error",
     "traceback": [
      "\u001b[1;31m---------------------------------------------------------------------------\u001b[0m",
      "\u001b[1;31mTypeError\u001b[0m                                 Traceback (most recent call last)",
      "\u001b[1;32m~\\AppData\\Local\\Temp/ipykernel_10716/594750798.py\u001b[0m in \u001b[0;36m<module>\u001b[1;34m\u001b[0m\n\u001b[0;32m      1\u001b[0m \u001b[0mroll\u001b[0m \u001b[1;33m=\u001b[0m \u001b[1;33m[\u001b[0m\u001b[1;33m]\u001b[0m\u001b[1;33m\u001b[0m\u001b[1;33m\u001b[0m\u001b[0m\n\u001b[1;32m----> 2\u001b[1;33m \u001b[0mdicepool\u001b[0m\u001b[1;33m*\u001b[0m\u001b[0mroll\u001b[0m\u001b[1;33m.\u001b[0m\u001b[0mappend\u001b[0m\u001b[1;33m(\u001b[0m\u001b[0mrandint\u001b[0m\u001b[1;33m(\u001b[0m\u001b[1;36m1\u001b[0m\u001b[1;33m,\u001b[0m\u001b[1;36m10\u001b[0m\u001b[1;33m)\u001b[0m\u001b[1;33m)\u001b[0m\u001b[1;33m\u001b[0m\u001b[1;33m\u001b[0m\u001b[0m\n\u001b[0m\u001b[0;32m      3\u001b[0m \u001b[0mroll\u001b[0m\u001b[1;33m\u001b[0m\u001b[1;33m\u001b[0m\u001b[0m\n",
      "\u001b[1;31mTypeError\u001b[0m: unsupported operand type(s) for *: 'int' and 'NoneType'"
     ]
    }
   ],
   "source": [
    "roll = []\n",
    "dicepool*roll.append(randint(1,10))\n",
    "roll"
   ]
  },
  {
   "cell_type": "code",
   "execution_count": 143,
   "id": "88243c83",
   "metadata": {},
   "outputs": [],
   "source": [
    "roll = []\n",
    "diceadded = 0\n"
   ]
  },
  {
   "cell_type": "code",
   "execution_count": 145,
   "id": "2fa664d7",
   "metadata": {},
   "outputs": [
    {
     "ename": "SyntaxError",
     "evalue": "invalid syntax (Temp/ipykernel_10716/850097591.py, line 3)",
     "output_type": "error",
     "traceback": [
      "\u001b[1;36m  File \u001b[1;32m\"C:\\Users\\Gin\\AppData\\Local\\Temp/ipykernel_10716/850097591.py\"\u001b[1;36m, line \u001b[1;32m3\u001b[0m\n\u001b[1;33m    diceadded = diceadded+1\u001b[0m\n\u001b[1;37m    ^\u001b[0m\n\u001b[1;31mSyntaxError\u001b[0m\u001b[1;31m:\u001b[0m invalid syntax\n"
     ]
    }
   ],
   "source": [
    "while diceadded <= dicepool:\n",
    "    roll.append(randint(1,10)\n",
    "    diceadded = diceadded+1\n",
    "    print ('We have 'diceadded' dice added to the pool')\n",
    "    \n",
    "else:\n",
    "    print (roll)"
   ]
  },
  {
   "cell_type": "code",
   "execution_count": 161,
   "id": "5fc79d1f",
   "metadata": {},
   "outputs": [
    {
     "name": "stdout",
     "output_type": "stream",
     "text": [
      "What's your dice pool?8\n",
      "[7, 1, 4, 2, 10, 5, 2, 9, 8]\n"
     ]
    }
   ],
   "source": [
    "from random import randint\n",
    "dicepool = int(input (\"What's your dice pool?\"))\n",
    "roll = []\n",
    "diceadded = 0\n",
    "while diceadded <= dicepool:\n",
    "    diceadded = diceadded+1\n",
    "    roll.append(randint(1,10))\n",
    "                \n",
    "else:\n",
    "    print (roll)"
   ]
  },
  {
   "cell_type": "code",
   "execution_count": 162,
   "id": "cadb81f8",
   "metadata": {},
   "outputs": [
    {
     "name": "stdout",
     "output_type": "stream",
     "text": [
      "What's your dice pool?4\n",
      "[6, 6, 6, 1, 8]\n"
     ]
    }
   ],
   "source": [
    "from random import randint\n",
    "dicepool = int(input (\"What's your dice pool?\"))\n",
    "roll = []\n",
    "diceadded = 0\n",
    "while diceadded <= dicepool:\n",
    "    diceadded = diceadded+1\n",
    "    roll.append(randint(1,10))\n",
    "                \n",
    "else:\n",
    "    print (roll)"
   ]
  },
  {
   "cell_type": "code",
   "execution_count": 163,
   "id": "e803b2e9",
   "metadata": {},
   "outputs": [
    {
     "name": "stdout",
     "output_type": "stream",
     "text": [
      "How many faces do your dice have? 10\n",
      "What's your dice pool? 6\n",
      "You rolled 6d10\n",
      "Your results are:[5, 6, 7, 9, 5, 8]\n"
     ]
    }
   ],
   "source": [
    "from random import randint\n",
    "dicetype = int(input (\"How many faces do your dice have? \"))\n",
    "dicepool = int(input (\"What's your dice pool? \"))\n",
    "roll = []\n",
    "diceadded = 0\n",
    "while diceadded < dicepool:\n",
    "    diceadded = diceadded+1\n",
    "    roll.append(randint(1,(dicetype)))\n",
    "                \n",
    "else:\n",
    "    print ('You rolled {}d{}'.format (dicepool,dicetype))\n",
    "    print ('Your results are:{}'.format(roll))"
   ]
  },
  {
   "cell_type": "markdown",
   "id": "208fe765",
   "metadata": {},
   "source": [
    "# List Comprehensions\n",
    "\n",
    "In addition to sequence operations and list methods, Python includes a more advanced operation called a list comprehension.\n",
    "\n",
    "List comprehensions allow us to build out lists using a different notation. You can think of it as essentially a one line <code>for</code> loop built inside of brackets. For a simple example:\n",
    "## Example 1"
   ]
  },
  {
   "cell_type": "code",
   "execution_count": 1,
   "id": "5119448e",
   "metadata": {},
   "outputs": [],
   "source": [
    "mystring = 'hello'"
   ]
  },
  {
   "cell_type": "code",
   "execution_count": 2,
   "id": "c6b622a9",
   "metadata": {},
   "outputs": [],
   "source": [
    "mylist = []\n",
    "\n",
    "for letter in mystring:\n",
    "    mylist.append(letter)"
   ]
  },
  {
   "cell_type": "code",
   "execution_count": 3,
   "id": "8e19e60a",
   "metadata": {},
   "outputs": [
    {
     "data": {
      "text/plain": [
       "['h', 'e', 'l', 'l', 'o']"
      ]
     },
     "execution_count": 3,
     "metadata": {},
     "output_type": "execute_result"
    }
   ],
   "source": [
    "mylist"
   ]
  },
  {
   "cell_type": "code",
   "execution_count": 6,
   "id": "af08d79a",
   "metadata": {},
   "outputs": [],
   "source": [
    "mylist = []"
   ]
  },
  {
   "cell_type": "code",
   "execution_count": 7,
   "id": "076ac265",
   "metadata": {},
   "outputs": [
    {
     "data": {
      "text/plain": [
       "[]"
      ]
     },
     "execution_count": 7,
     "metadata": {},
     "output_type": "execute_result"
    }
   ],
   "source": [
    "mylist"
   ]
  },
  {
   "cell_type": "code",
   "execution_count": 8,
   "id": "4ed23f32",
   "metadata": {},
   "outputs": [],
   "source": [
    "mylist = [letter for letter in mystring]\n"
   ]
  },
  {
   "cell_type": "code",
   "execution_count": 9,
   "id": "519e7b32",
   "metadata": {},
   "outputs": [
    {
     "data": {
      "text/plain": [
       "['h', 'e', 'l', 'l', 'o']"
      ]
     },
     "execution_count": 9,
     "metadata": {},
     "output_type": "execute_result"
    }
   ],
   "source": [
    "mylist"
   ]
  },
  {
   "cell_type": "code",
   "execution_count": 10,
   "id": "7a78a148",
   "metadata": {},
   "outputs": [],
   "source": [
    "mylist = [x for x in 'word']"
   ]
  },
  {
   "cell_type": "code",
   "execution_count": 11,
   "id": "7f8c3765",
   "metadata": {},
   "outputs": [
    {
     "data": {
      "text/plain": [
       "['w', 'o', 'r', 'd']"
      ]
     },
     "execution_count": 11,
     "metadata": {},
     "output_type": "execute_result"
    }
   ],
   "source": [
    "mylist"
   ]
  },
  {
   "cell_type": "code",
   "execution_count": 12,
   "id": "6a0debf2",
   "metadata": {},
   "outputs": [],
   "source": [
    "mylist = [blahblah for blahblah in 'iterable object']"
   ]
  },
  {
   "cell_type": "code",
   "execution_count": 13,
   "id": "354f800b",
   "metadata": {},
   "outputs": [
    {
     "data": {
      "text/plain": [
       "['i', 't', 'e', 'r', 'a', 'b', 'l', 'e', ' ', 'o', 'b', 'j', 'e', 'c', 't']"
      ]
     },
     "execution_count": 13,
     "metadata": {},
     "output_type": "execute_result"
    }
   ],
   "source": [
    "mylist"
   ]
  },
  {
   "cell_type": "code",
   "execution_count": 14,
   "id": "9c4b7906",
   "metadata": {},
   "outputs": [],
   "source": [
    "mylist = [num for num in range (0,11)]"
   ]
  },
  {
   "cell_type": "code",
   "execution_count": 15,
   "id": "ed2868a5",
   "metadata": {},
   "outputs": [
    {
     "data": {
      "text/plain": [
       "[0, 1, 2, 3, 4, 5, 6, 7, 8, 9, 10]"
      ]
     },
     "execution_count": 15,
     "metadata": {},
     "output_type": "execute_result"
    }
   ],
   "source": [
    "mylist"
   ]
  },
  {
   "cell_type": "markdown",
   "id": "8b200f57",
   "metadata": {},
   "source": [
    "One can use operations in that first element"
   ]
  },
  {
   "cell_type": "code",
   "execution_count": 16,
   "id": "30a2f825",
   "metadata": {},
   "outputs": [],
   "source": [
    "mylist = [num**2 for num in range (0,11)]"
   ]
  },
  {
   "cell_type": "code",
   "execution_count": 17,
   "id": "71d924e2",
   "metadata": {},
   "outputs": [
    {
     "data": {
      "text/plain": [
       "[0, 1, 4, 9, 16, 25, 36, 49, 64, 81, 100]"
      ]
     },
     "execution_count": 17,
     "metadata": {},
     "output_type": "execute_result"
    }
   ],
   "source": [
    "mylist"
   ]
  },
  {
   "cell_type": "code",
   "execution_count": 18,
   "id": "00658658",
   "metadata": {},
   "outputs": [],
   "source": [
    "mylist = ['a' for num in range (0,11)]"
   ]
  },
  {
   "cell_type": "code",
   "execution_count": 19,
   "id": "3d3281cf",
   "metadata": {},
   "outputs": [
    {
     "data": {
      "text/plain": [
       "['a', 'a', 'a', 'a', 'a', 'a', 'a', 'a', 'a', 'a', 'a']"
      ]
     },
     "execution_count": 19,
     "metadata": {},
     "output_type": "execute_result"
    }
   ],
   "source": [
    "mylist"
   ]
  },
  {
   "cell_type": "markdown",
   "id": "20f5b246",
   "metadata": {},
   "source": [
    "Can also use **if** statements"
   ]
  },
  {
   "cell_type": "code",
   "execution_count": 20,
   "id": "f9be738f",
   "metadata": {},
   "outputs": [],
   "source": [
    "mylist = [x for x in range (0,11) if x%2==0]  "
   ]
  },
  {
   "cell_type": "code",
   "execution_count": 21,
   "id": "0097f806",
   "metadata": {},
   "outputs": [
    {
     "data": {
      "text/plain": [
       "[0, 2, 4, 6, 8, 10]"
      ]
     },
     "execution_count": 21,
     "metadata": {},
     "output_type": "execute_result"
    }
   ],
   "source": [
    "mylist"
   ]
  },
  {
   "cell_type": "code",
   "execution_count": 22,
   "id": "0a900493",
   "metadata": {},
   "outputs": [],
   "source": [
    "mylist = [x**2 for x in range (0,11) if x%2==0]  "
   ]
  },
  {
   "cell_type": "code",
   "execution_count": 23,
   "id": "69f60e97",
   "metadata": {},
   "outputs": [
    {
     "data": {
      "text/plain": [
       "[0, 4, 16, 36, 64, 100]"
      ]
     },
     "execution_count": 23,
     "metadata": {},
     "output_type": "execute_result"
    }
   ],
   "source": [
    "mylist"
   ]
  },
  {
   "cell_type": "code",
   "execution_count": 2,
   "id": "4b2e58f4",
   "metadata": {},
   "outputs": [],
   "source": [
    "celcius = [0,10,24,60,100]\n",
    "\n",
    "fahrenheit = [((9/5)*temp + 32) for temp in celcius]"
   ]
  },
  {
   "cell_type": "code",
   "execution_count": 25,
   "id": "26a41887",
   "metadata": {},
   "outputs": [
    {
     "data": {
      "text/plain": [
       "[32.0, 50.0, 75.2, 140.0, 212.0]"
      ]
     },
     "execution_count": 25,
     "metadata": {},
     "output_type": "execute_result"
    }
   ],
   "source": [
    "fahrenheit"
   ]
  },
  {
   "cell_type": "code",
   "execution_count": 3,
   "id": "ca66c4b3",
   "metadata": {},
   "outputs": [],
   "source": [
    "fahrenheit = []\n",
    "for temp in celcius:\n",
    "    fahrenheit.append (((9/5)*temp + 32))\n",
    "    "
   ]
  },
  {
   "cell_type": "code",
   "execution_count": 4,
   "id": "7b7f372d",
   "metadata": {},
   "outputs": [
    {
     "data": {
      "text/plain": [
       "[32.0, 50.0, 75.2, 140.0, 212.0]"
      ]
     },
     "execution_count": 4,
     "metadata": {},
     "output_type": "execute_result"
    }
   ],
   "source": [
    "fahrenheit"
   ]
  },
  {
   "cell_type": "markdown",
   "id": "d2e8958c",
   "metadata": {},
   "source": [
    "Can also use **if / else** statements inside list comprenhension"
   ]
  },
  {
   "cell_type": "code",
   "execution_count": 6,
   "id": "a7260ce2",
   "metadata": {},
   "outputs": [],
   "source": [
    "results = [ x if x%2==0 else 'ODD' for x in range (0,11)]"
   ]
  },
  {
   "cell_type": "code",
   "execution_count": 7,
   "id": "ab2b9f16",
   "metadata": {},
   "outputs": [
    {
     "data": {
      "text/plain": [
       "[0, 'ODD', 2, 'ODD', 4, 'ODD', 6, 'ODD', 8, 'ODD', 10]"
      ]
     },
     "execution_count": 7,
     "metadata": {},
     "output_type": "execute_result"
    }
   ],
   "source": [
    "results"
   ]
  },
  {
   "cell_type": "code",
   "execution_count": 11,
   "id": "6400213d",
   "metadata": {},
   "outputs": [
    {
     "ename": "SyntaxError",
     "evalue": "invalid syntax (Temp/ipykernel_12008/2595191980.py, line 1)",
     "output_type": "error",
     "traceback": [
      "\u001b[1;36m  File \u001b[1;32m\"C:\\Users\\Gin\\AppData\\Local\\Temp/ipykernel_12008/2595191980.py\"\u001b[1;36m, line \u001b[1;32m1\u001b[0m\n\u001b[1;33m    success_count = [ 2 if x ==10 else (1 elif x >= 7 else 0) for x in range (0,10)]\u001b[0m\n\u001b[1;37m                                          ^\u001b[0m\n\u001b[1;31mSyntaxError\u001b[0m\u001b[1;31m:\u001b[0m invalid syntax\n"
     ]
    }
   ],
   "source": [
    "success_count = [ 2 if x ==10 else (1 elif x >= 7 else 0) for x in range (0,10)]"
   ]
  },
  {
   "cell_type": "markdown",
   "id": "8542d366",
   "metadata": {},
   "source": [
    "Can use **Nested Loops** inside list comprenhension"
   ]
  },
  {
   "cell_type": "code",
   "execution_count": 12,
   "id": "b40e5101",
   "metadata": {},
   "outputs": [],
   "source": [
    "mylist = []\n",
    "\n",
    "for x in [2,4,6]:\n",
    "    for y in [100,200,300]:\n",
    "        mylist.append (x*y)"
   ]
  },
  {
   "cell_type": "code",
   "execution_count": 13,
   "id": "f59e05f4",
   "metadata": {},
   "outputs": [
    {
     "data": {
      "text/plain": [
       "[200, 400, 600, 400, 800, 1200, 600, 1200, 1800]"
      ]
     },
     "execution_count": 13,
     "metadata": {},
     "output_type": "execute_result"
    }
   ],
   "source": [
    "mylist"
   ]
  },
  {
   "cell_type": "code",
   "execution_count": 21,
   "id": "01967ea5",
   "metadata": {},
   "outputs": [],
   "source": [
    "mylist = []\n",
    "\n",
    "for x in ['a','b','c']:\n",
    "    for y in ['d','e','f']:\n",
    "        mylist.append (x+y)"
   ]
  },
  {
   "cell_type": "code",
   "execution_count": 22,
   "id": "b6515e6e",
   "metadata": {},
   "outputs": [
    {
     "data": {
      "text/plain": [
       "['ad', 'ae', 'af', 'bd', 'be', 'bf', 'cd', 'ce', 'cf']"
      ]
     },
     "execution_count": 22,
     "metadata": {},
     "output_type": "execute_result"
    }
   ],
   "source": [
    "mylist"
   ]
  },
  {
   "cell_type": "code",
   "execution_count": 38,
   "id": "29d77c4d",
   "metadata": {},
   "outputs": [],
   "source": [
    "mylist = []\n",
    "otherlist = ['a','b','c']\n",
    "for x in otherlist:\n",
    "    for y in otherlist:\n",
    "        if x != y:\n",
    "            mylist.append (x+y)"
   ]
  },
  {
   "cell_type": "code",
   "execution_count": 39,
   "id": "cf500f0a",
   "metadata": {},
   "outputs": [
    {
     "data": {
      "text/plain": [
       "['ab', 'ac', 'ba', 'bc', 'ca', 'cb']"
      ]
     },
     "execution_count": 39,
     "metadata": {},
     "output_type": "execute_result"
    }
   ],
   "source": [
    "mylist"
   ]
  },
  {
   "cell_type": "code",
   "execution_count": 40,
   "id": "971d4602",
   "metadata": {},
   "outputs": [],
   "source": [
    "mylist = [x*y for x in [2,4,6] for y in [1,10,100]]"
   ]
  },
  {
   "cell_type": "code",
   "execution_count": 41,
   "id": "e3e862c2",
   "metadata": {},
   "outputs": [
    {
     "data": {
      "text/plain": [
       "[2, 20, 200, 4, 40, 400, 6, 60, 600]"
      ]
     },
     "execution_count": 41,
     "metadata": {},
     "output_type": "execute_result"
    }
   ],
   "source": [
    "mylist"
   ]
  },
  {
   "cell_type": "markdown",
   "id": "ef3f5cc9",
   "metadata": {},
   "source": [
    "# METHODS AND FUNCTIONS\n",
    "\n",
    "### **Methods**"
   ]
  },
  {
   "cell_type": "code",
   "execution_count": 67,
   "id": "a78c6dc5",
   "metadata": {},
   "outputs": [],
   "source": [
    "mylist = [1,2,3]"
   ]
  },
  {
   "cell_type": "code",
   "execution_count": 68,
   "id": "ed06c5a5",
   "metadata": {},
   "outputs": [],
   "source": [
    "mylist.append(4)"
   ]
  },
  {
   "cell_type": "code",
   "execution_count": 69,
   "id": "aa554f14",
   "metadata": {},
   "outputs": [
    {
     "data": {
      "text/plain": [
       "[1, 2, 3, 4]"
      ]
     },
     "execution_count": 69,
     "metadata": {},
     "output_type": "execute_result"
    }
   ],
   "source": [
    "mylist"
   ]
  },
  {
   "cell_type": "code",
   "execution_count": 70,
   "id": "dcc81231",
   "metadata": {},
   "outputs": [
    {
     "data": {
      "text/plain": [
       "4"
      ]
     },
     "execution_count": 70,
     "metadata": {},
     "output_type": "execute_result"
    }
   ],
   "source": [
    "mylist.pop()"
   ]
  },
  {
   "cell_type": "code",
   "execution_count": 71,
   "id": "5d2570e8",
   "metadata": {},
   "outputs": [
    {
     "data": {
      "text/plain": [
       "[1, 2, 3]"
      ]
     },
     "execution_count": 71,
     "metadata": {},
     "output_type": "execute_result"
    }
   ],
   "source": [
    "mylist"
   ]
  },
  {
   "cell_type": "markdown",
   "id": "37e39e2d",
   "metadata": {},
   "source": [
    "To check a bult-in fuction i can **press SHIFT+TAB** after the object.method (only on Jupiter Notebook) **or** run:\n",
    "**help ( object.method)**\n"
   ]
  },
  {
   "cell_type": "code",
   "execution_count": 77,
   "id": "bcbc6f47",
   "metadata": {},
   "outputs": [
    {
     "name": "stdout",
     "output_type": "stream",
     "text": [
      "Help on built-in function insert:\n",
      "\n",
      "insert(index, object, /) method of builtins.list instance\n",
      "    Insert object before index.\n",
      "\n"
     ]
    }
   ],
   "source": [
    "help(mylist.insert)"
   ]
  },
  {
   "cell_type": "markdown",
   "id": "2c463ca3",
   "metadata": {},
   "source": [
    "a **third option** is to check the Python Documentation on python.org or https://docs.python.org/3/"
   ]
  },
  {
   "cell_type": "markdown",
   "id": "679fa551",
   "metadata": {},
   "source": [
    "## Functions\n",
    "\n",
    "."
   ]
  },
  {
   "cell_type": "markdown",
   "id": "c2e3bc88",
   "metadata": {},
   "source": [
    "Using **def** *keyword* to create functions"
   ]
  },
  {
   "cell_type": "markdown",
   "id": "4bdb4821",
   "metadata": {},
   "source": [
    "-> def name_of_function():\n",
    "        \n",
    "        '''\n",
    "        \n",
    "        Doctring explaning the function\n",
    "        \n",
    "        '''\n",
    "        \n",
    "        the actual code to be excecuted when the function is called for"
   ]
  },
  {
   "cell_type": "code",
   "execution_count": 81,
   "id": "5d388e7f",
   "metadata": {},
   "outputs": [],
   "source": [
    "def say_hello():\n",
    "    print(\"hello\")\n",
    "    print('how are you?')"
   ]
  },
  {
   "cell_type": "code",
   "execution_count": 82,
   "id": "1591c3f8",
   "metadata": {},
   "outputs": [
    {
     "name": "stdout",
     "output_type": "stream",
     "text": [
      "hello\n",
      "how are you?\n"
     ]
    }
   ],
   "source": [
    "say_hello()"
   ]
  },
  {
   "cell_type": "code",
   "execution_count": 83,
   "id": "3cdf1ae7",
   "metadata": {},
   "outputs": [
    {
     "data": {
      "text/plain": [
       "<function __main__.say_hello()>"
      ]
     },
     "execution_count": 83,
     "metadata": {},
     "output_type": "execute_result"
    }
   ],
   "source": [
    "say_hello"
   ]
  },
  {
   "cell_type": "code",
   "execution_count": 88,
   "id": "9125a2a4",
   "metadata": {},
   "outputs": [],
   "source": [
    "def say_hello(name):\n",
    "    print(f'Hello {name}')"
   ]
  },
  {
   "cell_type": "code",
   "execution_count": 87,
   "id": "f093f829",
   "metadata": {},
   "outputs": [
    {
     "name": "stdout",
     "output_type": "stream",
     "text": [
      "Hello Zalo\n"
     ]
    }
   ],
   "source": [
    "say_hello('Zalo')"
   ]
  },
  {
   "cell_type": "code",
   "execution_count": 89,
   "id": "1091ef85",
   "metadata": {},
   "outputs": [
    {
     "ename": "TypeError",
     "evalue": "say_hello() missing 1 required positional argument: 'name'",
     "output_type": "error",
     "traceback": [
      "\u001b[1;31m---------------------------------------------------------------------------\u001b[0m",
      "\u001b[1;31mTypeError\u001b[0m                                 Traceback (most recent call last)",
      "\u001b[1;32m~\\AppData\\Local\\Temp/ipykernel_12008/2814888808.py\u001b[0m in \u001b[0;36m<module>\u001b[1;34m\u001b[0m\n\u001b[1;32m----> 1\u001b[1;33m \u001b[0msay_hello\u001b[0m\u001b[1;33m(\u001b[0m\u001b[1;33m)\u001b[0m\u001b[1;33m\u001b[0m\u001b[1;33m\u001b[0m\u001b[0m\n\u001b[0m",
      "\u001b[1;31mTypeError\u001b[0m: say_hello() missing 1 required positional argument: 'name'"
     ]
    }
   ],
   "source": [
    "say_hello()"
   ]
  },
  {
   "cell_type": "markdown",
   "id": "1845b1be",
   "metadata": {},
   "source": [
    "Here Python asks for the missing parameter. You can go back and complete it, or change the function to have a default value para writing (value='Default_value')"
   ]
  },
  {
   "cell_type": "code",
   "execution_count": 94,
   "id": "98743614",
   "metadata": {},
   "outputs": [],
   "source": [
    "def say_hello(name='nameless stranger'):\n",
    "    print(f'Hello {name}')"
   ]
  },
  {
   "cell_type": "code",
   "execution_count": 95,
   "id": "db6d2c90",
   "metadata": {},
   "outputs": [
    {
     "name": "stdout",
     "output_type": "stream",
     "text": [
      "Hello nameless stranger\n"
     ]
    }
   ],
   "source": [
    "say_hello()"
   ]
  },
  {
   "cell_type": "markdown",
   "id": "1cf67fca",
   "metadata": {},
   "source": [
    "Use of the **return** *keyword*"
   ]
  },
  {
   "cell_type": "code",
   "execution_count": 96,
   "id": "a4c0fdfc",
   "metadata": {},
   "outputs": [],
   "source": [
    "def add_num(num1,num2):\n",
    "    return num1+num2\n"
   ]
  },
  {
   "cell_type": "code",
   "execution_count": 97,
   "id": "6d5246b2",
   "metadata": {},
   "outputs": [
    {
     "data": {
      "text/plain": [
       "30"
      ]
     },
     "execution_count": 97,
     "metadata": {},
     "output_type": "execute_result"
    }
   ],
   "source": [
    "add_num(10,20)"
   ]
  },
  {
   "cell_type": "code",
   "execution_count": 98,
   "id": "c9e78cd5",
   "metadata": {},
   "outputs": [
    {
     "name": "stdout",
     "output_type": "stream",
     "text": [
      "98\n"
     ]
    }
   ],
   "source": [
    "result = add_num(33,65)\n",
    "print(result)"
   ]
  },
  {
   "cell_type": "code",
   "execution_count": 99,
   "id": "9fdfc175",
   "metadata": {},
   "outputs": [],
   "source": [
    "def print_result(a,b):\n",
    "    print(a+b)"
   ]
  },
  {
   "cell_type": "code",
   "execution_count": 100,
   "id": "27b6fa7d",
   "metadata": {},
   "outputs": [],
   "source": [
    "def return_result(a,b):\n",
    "    return a+b"
   ]
  },
  {
   "cell_type": "code",
   "execution_count": 101,
   "id": "b25ac425",
   "metadata": {},
   "outputs": [
    {
     "name": "stdout",
     "output_type": "stream",
     "text": [
      "30\n"
     ]
    }
   ],
   "source": [
    "print_result(10,20)"
   ]
  },
  {
   "cell_type": "code",
   "execution_count": 102,
   "id": "3483a707",
   "metadata": {},
   "outputs": [
    {
     "name": "stdout",
     "output_type": "stream",
     "text": [
      "30\n"
     ]
    }
   ],
   "source": [
    "result = print_result(10,20)"
   ]
  },
  {
   "cell_type": "code",
   "execution_count": 103,
   "id": "18738793",
   "metadata": {},
   "outputs": [],
   "source": [
    "result"
   ]
  },
  {
   "cell_type": "code",
   "execution_count": 104,
   "id": "55df380e",
   "metadata": {},
   "outputs": [
    {
     "data": {
      "text/plain": [
       "NoneType"
      ]
     },
     "execution_count": 104,
     "metadata": {},
     "output_type": "execute_result"
    }
   ],
   "source": [
    "type(result)"
   ]
  },
  {
   "cell_type": "code",
   "execution_count": 105,
   "id": "3873937e",
   "metadata": {},
   "outputs": [
    {
     "data": {
      "text/plain": [
       "30"
      ]
     },
     "execution_count": 105,
     "metadata": {},
     "output_type": "execute_result"
    }
   ],
   "source": [
    "return_result(10,20)"
   ]
  },
  {
   "cell_type": "code",
   "execution_count": 106,
   "id": "1c9d552a",
   "metadata": {},
   "outputs": [],
   "source": [
    "result = return_result(10,20)"
   ]
  },
  {
   "cell_type": "code",
   "execution_count": 107,
   "id": "b7640ee2",
   "metadata": {},
   "outputs": [
    {
     "data": {
      "text/plain": [
       "30"
      ]
     },
     "execution_count": 107,
     "metadata": {},
     "output_type": "execute_result"
    }
   ],
   "source": [
    "result"
   ]
  },
  {
   "cell_type": "code",
   "execution_count": 108,
   "id": "d406ddf9",
   "metadata": {},
   "outputs": [],
   "source": [
    "def myfunc(a,b):\n",
    "    print(a+b)\n",
    "    return a+b"
   ]
  },
  {
   "cell_type": "code",
   "execution_count": 109,
   "id": "f20f12d7",
   "metadata": {},
   "outputs": [
    {
     "name": "stdout",
     "output_type": "stream",
     "text": [
      "30\n"
     ]
    }
   ],
   "source": [
    "result = myfunc(10,20)"
   ]
  },
  {
   "cell_type": "code",
   "execution_count": 110,
   "id": "c7014263",
   "metadata": {},
   "outputs": [
    {
     "data": {
      "text/plain": [
       "30"
      ]
     },
     "execution_count": 110,
     "metadata": {},
     "output_type": "execute_result"
    }
   ],
   "source": [
    "result"
   ]
  },
  {
   "cell_type": "code",
   "execution_count": 111,
   "id": "72b44e63",
   "metadata": {},
   "outputs": [],
   "source": [
    "def sum_numbers(num1,num2):\n",
    "    return num1+num2"
   ]
  },
  {
   "cell_type": "code",
   "execution_count": 112,
   "id": "068ff31e",
   "metadata": {},
   "outputs": [
    {
     "data": {
      "text/plain": [
       "'1020'"
      ]
     },
     "execution_count": 112,
     "metadata": {},
     "output_type": "execute_result"
    }
   ],
   "source": [
    "sum_numbers('10','20')"
   ]
  },
  {
   "cell_type": "code",
   "execution_count": 1,
   "id": "d5a4bd16",
   "metadata": {},
   "outputs": [
    {
     "data": {
      "text/plain": [
       "0"
      ]
     },
     "execution_count": 1,
     "metadata": {},
     "output_type": "execute_result"
    }
   ],
   "source": [
    "2%2"
   ]
  },
  {
   "cell_type": "code",
   "execution_count": 4,
   "id": "4f6066fd",
   "metadata": {},
   "outputs": [
    {
     "data": {
      "text/plain": [
       "1"
      ]
     },
     "execution_count": 4,
     "metadata": {},
     "output_type": "execute_result"
    }
   ],
   "source": [
    "3%2"
   ]
  },
  {
   "cell_type": "code",
   "execution_count": 6,
   "id": "f0231ca6",
   "metadata": {},
   "outputs": [
    {
     "data": {
      "text/plain": [
       "True"
      ]
     },
     "execution_count": 6,
     "metadata": {},
     "output_type": "execute_result"
    }
   ],
   "source": [
    "20%2==0"
   ]
  },
  {
   "cell_type": "code",
   "execution_count": 9,
   "id": "1c5691af",
   "metadata": {},
   "outputs": [],
   "source": [
    "def even_check(number):\n",
    "    result = number % 2 == 0\n",
    "    return result"
   ]
  },
  {
   "cell_type": "code",
   "execution_count": 10,
   "id": "f135db5b",
   "metadata": {},
   "outputs": [
    {
     "data": {
      "text/plain": [
       "True"
      ]
     },
     "execution_count": 10,
     "metadata": {},
     "output_type": "execute_result"
    }
   ],
   "source": [
    "even_check(20)"
   ]
  },
  {
   "cell_type": "code",
   "execution_count": 11,
   "id": "74687bde",
   "metadata": {},
   "outputs": [
    {
     "data": {
      "text/plain": [
       "False"
      ]
     },
     "execution_count": 11,
     "metadata": {},
     "output_type": "execute_result"
    }
   ],
   "source": [
    "even_check(21)"
   ]
  },
  {
   "cell_type": "code",
   "execution_count": 12,
   "id": "ba1f8bd6",
   "metadata": {},
   "outputs": [],
   "source": [
    "def even_check(number):\n",
    "        return number % 2 == 0"
   ]
  },
  {
   "cell_type": "code",
   "execution_count": 13,
   "id": "1745c1fa",
   "metadata": {},
   "outputs": [
    {
     "data": {
      "text/plain": [
       "True"
      ]
     },
     "execution_count": 13,
     "metadata": {},
     "output_type": "execute_result"
    }
   ],
   "source": [
    "even_check(12)"
   ]
  },
  {
   "cell_type": "code",
   "execution_count": 14,
   "id": "7e31c169",
   "metadata": {},
   "outputs": [],
   "source": [
    "# Return True if any number is even inside a list"
   ]
  },
  {
   "cell_type": "code",
   "execution_count": 16,
   "id": "79babe03",
   "metadata": {},
   "outputs": [],
   "source": [
    "def check_even_list(num_list):\n",
    "    for number in num_list:\n",
    "        if number % 2 == 0:\n",
    "            return True\n",
    "        else:\n",
    "            pass\n",
    "        "
   ]
  },
  {
   "cell_type": "code",
   "execution_count": 19,
   "id": "6e9f7b8f",
   "metadata": {},
   "outputs": [],
   "source": [
    "check_even_list([1,3,5,7])"
   ]
  },
  {
   "cell_type": "code",
   "execution_count": 20,
   "id": "f49c54f6",
   "metadata": {},
   "outputs": [
    {
     "data": {
      "text/plain": [
       "True"
      ]
     },
     "execution_count": 20,
     "metadata": {},
     "output_type": "execute_result"
    }
   ],
   "source": [
    "check_even_list([1,3,6,7])"
   ]
  },
  {
   "cell_type": "code",
   "execution_count": 21,
   "id": "39cb5a0a",
   "metadata": {},
   "outputs": [],
   "source": [
    "def check_even_list(num_list):\n",
    "    for number in num_list:\n",
    "        if number % 2 == 0:\n",
    "            return True\n",
    "        else:\n",
    "            return False # WRONG!!! Because it will stop at the first odd number and not check the rest\n",
    "        "
   ]
  },
  {
   "cell_type": "code",
   "execution_count": 22,
   "id": "01020d0d",
   "metadata": {},
   "outputs": [
    {
     "data": {
      "text/plain": [
       "False"
      ]
     },
     "execution_count": 22,
     "metadata": {},
     "output_type": "execute_result"
    }
   ],
   "source": [
    "check_even_list([1,3,6,7])"
   ]
  },
  {
   "cell_type": "code",
   "execution_count": 23,
   "id": "2a038386",
   "metadata": {},
   "outputs": [],
   "source": [
    "def check_even_list(num_list):\n",
    "    for number in num_list:\n",
    "        if number % 2 == 0:\n",
    "            return True\n",
    "        else:\n",
    "            pass\n",
    "    return False #It has to be in the same indentation that the FOR loop"
   ]
  },
  {
   "cell_type": "code",
   "execution_count": 24,
   "id": "6be9e424",
   "metadata": {},
   "outputs": [
    {
     "data": {
      "text/plain": [
       "True"
      ]
     },
     "execution_count": 24,
     "metadata": {},
     "output_type": "execute_result"
    }
   ],
   "source": [
    "check_even_list([1,3,6,7])"
   ]
  },
  {
   "cell_type": "code",
   "execution_count": 25,
   "id": "3a5c8ebd",
   "metadata": {},
   "outputs": [
    {
     "data": {
      "text/plain": [
       "False"
      ]
     },
     "execution_count": 25,
     "metadata": {},
     "output_type": "execute_result"
    }
   ],
   "source": [
    "check_even_list([1,3,5,7])"
   ]
  },
  {
   "cell_type": "code",
   "execution_count": 26,
   "id": "ad3cc9f9",
   "metadata": {},
   "outputs": [],
   "source": [
    "def check_even_list(num_list):\n",
    "    # return all the even number in a list\n",
    "    \n",
    "    #placeholder variables:\n",
    "    even_numbers = []\n",
    "        \n",
    "    \n",
    "    for number in num_list:\n",
    "        if number % 2 == 0:\n",
    "            even_numbers.append(number)\n",
    "        else:\n",
    "            pass\n",
    "    return even_numbers"
   ]
  },
  {
   "cell_type": "code",
   "execution_count": 27,
   "id": "8629c052",
   "metadata": {},
   "outputs": [
    {
     "data": {
      "text/plain": [
       "[2, 4, 6, 8, 10]"
      ]
     },
     "execution_count": 27,
     "metadata": {},
     "output_type": "execute_result"
    }
   ],
   "source": [
    "check_even_list([1,2,3,4,5,6,7,8,9,10])"
   ]
  },
  {
   "cell_type": "code",
   "execution_count": 28,
   "id": "f3b37f7c",
   "metadata": {},
   "outputs": [
    {
     "data": {
      "text/plain": [
       "[]"
      ]
     },
     "execution_count": 28,
     "metadata": {},
     "output_type": "execute_result"
    }
   ],
   "source": [
    "check_even_list([1,3,5,7])"
   ]
  },
  {
   "cell_type": "markdown",
   "id": "c9fec523",
   "metadata": {},
   "source": [
    "\n",
    "**Tuples in def funct**\n"
   ]
  },
  {
   "cell_type": "code",
   "execution_count": 29,
   "id": "1fe8eb67",
   "metadata": {},
   "outputs": [],
   "source": [
    "stock_prices = [('APPL', 200), ('GOOG',400),('MSFT',100)]"
   ]
  },
  {
   "cell_type": "code",
   "execution_count": 30,
   "id": "c593f549",
   "metadata": {},
   "outputs": [
    {
     "name": "stdout",
     "output_type": "stream",
     "text": [
      "('APPL', 200)\n",
      "('GOOG', 400)\n",
      "('MSFT', 100)\n"
     ]
    }
   ],
   "source": [
    "for item in stock_prices:\n",
    "    print (item)"
   ]
  },
  {
   "cell_type": "code",
   "execution_count": 32,
   "id": "47dbd7bc",
   "metadata": {},
   "outputs": [
    {
     "name": "stdout",
     "output_type": "stream",
     "text": [
      "220.0\n",
      "440.0\n",
      "110.0\n"
     ]
    }
   ],
   "source": [
    "for ticker,price in stock_prices:\n",
    "    print(price+(0.1*price))"
   ]
  },
  {
   "cell_type": "code",
   "execution_count": 2,
   "id": "2f0211df",
   "metadata": {},
   "outputs": [],
   "source": [
    "work_hours = [('Abby',100),('Billy',400),('Cassie',800),('Danny', 600)]"
   ]
  },
  {
   "cell_type": "code",
   "execution_count": 3,
   "id": "4f4edb4f",
   "metadata": {},
   "outputs": [],
   "source": [
    "def employee_check (work_hours):\n",
    "    #placeholders\n",
    "    current_max=0\n",
    "    employee_of_month = ''\n",
    "    \n",
    "    for employee,hours in work_hours:\n",
    "        if hours > current_max:\n",
    "            current_max = hours\n",
    "            employee_of_month = employee\n",
    "        else:\n",
    "            pass\n",
    "    \n",
    "    # Return\n",
    "    return (employee_of_month, current_max)"
   ]
  },
  {
   "cell_type": "code",
   "execution_count": 4,
   "id": "2f09168f",
   "metadata": {},
   "outputs": [],
   "source": [
    "result = employee_check(work_hours)"
   ]
  },
  {
   "cell_type": "code",
   "execution_count": 5,
   "id": "cfebd3e6",
   "metadata": {},
   "outputs": [
    {
     "data": {
      "text/plain": [
       "('Cassie', 800)"
      ]
     },
     "execution_count": 5,
     "metadata": {},
     "output_type": "execute_result"
    }
   ],
   "source": [
    "result"
   ]
  },
  {
   "cell_type": "code",
   "execution_count": 6,
   "id": "a0c2c55b",
   "metadata": {},
   "outputs": [],
   "source": [
    "name,hours = employee_check(work_hours)"
   ]
  },
  {
   "cell_type": "code",
   "execution_count": 7,
   "id": "e36061cc",
   "metadata": {},
   "outputs": [
    {
     "data": {
      "text/plain": [
       "('Cassie', 800)"
      ]
     },
     "execution_count": 7,
     "metadata": {},
     "output_type": "execute_result"
    }
   ],
   "source": [
    "result"
   ]
  },
  {
   "cell_type": "code",
   "execution_count": 51,
   "id": "458ee996",
   "metadata": {},
   "outputs": [
    {
     "data": {
      "text/plain": [
       "'Cassie'"
      ]
     },
     "execution_count": 51,
     "metadata": {},
     "output_type": "execute_result"
    }
   ],
   "source": [
    "name"
   ]
  },
  {
   "cell_type": "code",
   "execution_count": 8,
   "id": "10dffcaf",
   "metadata": {},
   "outputs": [
    {
     "data": {
      "text/plain": [
       "800"
      ]
     },
     "execution_count": 8,
     "metadata": {},
     "output_type": "execute_result"
    }
   ],
   "source": [
    "hours"
   ]
  },
  {
   "cell_type": "code",
   "execution_count": 9,
   "id": "acd66058",
   "metadata": {},
   "outputs": [
    {
     "ename": "ValueError",
     "evalue": "not enough values to unpack (expected 3, got 2)",
     "output_type": "error",
     "traceback": [
      "\u001b[1;31m---------------------------------------------------------------------------\u001b[0m",
      "\u001b[1;31mValueError\u001b[0m                                Traceback (most recent call last)",
      "\u001b[1;32m~\\AppData\\Local\\Temp/ipykernel_1124/4136016547.py\u001b[0m in \u001b[0;36m<module>\u001b[1;34m\u001b[0m\n\u001b[1;32m----> 1\u001b[1;33m \u001b[0mname\u001b[0m\u001b[1;33m,\u001b[0m \u001b[0mhours\u001b[0m\u001b[1;33m,\u001b[0m \u001b[0mlocation\u001b[0m \u001b[1;33m=\u001b[0m \u001b[0memployee_check\u001b[0m\u001b[1;33m(\u001b[0m\u001b[0mwork_hours\u001b[0m\u001b[1;33m)\u001b[0m\u001b[1;33m\u001b[0m\u001b[1;33m\u001b[0m\u001b[0m\n\u001b[0m",
      "\u001b[1;31mValueError\u001b[0m: not enough values to unpack (expected 3, got 2)"
     ]
    }
   ],
   "source": [
    "name, hours, location = employee_check(work_hours)"
   ]
  },
  {
   "cell_type": "markdown",
   "id": "eba9e0ea",
   "metadata": {},
   "source": [
    "This up here ^^^ means that I'm asking for more values that the tuple has. I requested 3, it has 2, so it can't unpack it"
   ]
  },
  {
   "cell_type": "markdown",
   "id": "735d6af6",
   "metadata": {},
   "source": [
    "To know how many values a tuple has, I can assign it so a single item and the check that item"
   ]
  },
  {
   "cell_type": "code",
   "execution_count": 10,
   "id": "99d5ea72",
   "metadata": {},
   "outputs": [],
   "source": [
    "item = employee_check(work_hours)"
   ]
  },
  {
   "cell_type": "code",
   "execution_count": 11,
   "id": "9faee155",
   "metadata": {},
   "outputs": [
    {
     "data": {
      "text/plain": [
       "('Cassie', 800)"
      ]
     },
     "execution_count": 11,
     "metadata": {},
     "output_type": "execute_result"
    }
   ],
   "source": [
    "item"
   ]
  },
  {
   "cell_type": "markdown",
   "id": "bc11fad3",
   "metadata": {},
   "source": [
    "# Functions interaction\n",
    "The game with the 3 cups and a ball"
   ]
  },
  {
   "cell_type": "code",
   "execution_count": 13,
   "id": "cbcdebee",
   "metadata": {},
   "outputs": [],
   "source": [
    "example = [1,2,3,4,5,6,7]"
   ]
  },
  {
   "cell_type": "code",
   "execution_count": 14,
   "id": "eaaf7aad",
   "metadata": {},
   "outputs": [],
   "source": [
    " from random import shuffle"
   ]
  },
  {
   "cell_type": "code",
   "execution_count": 15,
   "id": "29e71ca9",
   "metadata": {},
   "outputs": [],
   "source": [
    "shuffle (example)"
   ]
  },
  {
   "cell_type": "code",
   "execution_count": 16,
   "id": "f9b6046b",
   "metadata": {},
   "outputs": [
    {
     "data": {
      "text/plain": [
       "[4, 5, 6, 2, 3, 1, 7]"
      ]
     },
     "execution_count": 16,
     "metadata": {},
     "output_type": "execute_result"
    }
   ],
   "source": [
    "example"
   ]
  },
  {
   "cell_type": "code",
   "execution_count": 17,
   "id": "3817899c",
   "metadata": {},
   "outputs": [],
   "source": [
    "def shuffle_list(mylist):\n",
    "    shuffle (mylist)\n",
    "    return mylist"
   ]
  },
  {
   "cell_type": "code",
   "execution_count": 24,
   "id": "8d8c6abe",
   "metadata": {},
   "outputs": [],
   "source": [
    "result = shuffle_list(example)"
   ]
  },
  {
   "cell_type": "code",
   "execution_count": 25,
   "id": "99e77bcf",
   "metadata": {},
   "outputs": [
    {
     "data": {
      "text/plain": [
       "[4, 2, 1, 5, 6, 3, 7]"
      ]
     },
     "execution_count": 25,
     "metadata": {},
     "output_type": "execute_result"
    }
   ],
   "source": [
    "result"
   ]
  },
  {
   "cell_type": "code",
   "execution_count": 26,
   "id": "84a19fc1",
   "metadata": {},
   "outputs": [],
   "source": [
    "mylist = ['','O','']"
   ]
  },
  {
   "cell_type": "code",
   "execution_count": 32,
   "id": "65c06a44",
   "metadata": {},
   "outputs": [
    {
     "data": {
      "text/plain": [
       "['', '', 'O']"
      ]
     },
     "execution_count": 32,
     "metadata": {},
     "output_type": "execute_result"
    }
   ],
   "source": [
    "shuffle_list(mylist)"
   ]
  },
  {
   "cell_type": "code",
   "execution_count": 35,
   "id": "e0fec8c2",
   "metadata": {},
   "outputs": [],
   "source": [
    "def player_guess():\n",
    "    \n",
    "    guess =''\n",
    "    \n",
    "    while guess not in ['0','1','2']:\n",
    "        guess = input(\"Pick a ,number: 0, 1 or 2 : \")\n",
    "        \n",
    "    return int(guess)"
   ]
  },
  {
   "cell_type": "code",
   "execution_count": 36,
   "id": "ba33e477",
   "metadata": {},
   "outputs": [
    {
     "name": "stdout",
     "output_type": "stream",
     "text": [
      "Pick a ,number: 0, 1 or 2 : 3\n",
      "Pick a ,number: 0, 1 or 2 : 2\n"
     ]
    },
    {
     "data": {
      "text/plain": [
       "2"
      ]
     },
     "execution_count": 36,
     "metadata": {},
     "output_type": "execute_result"
    }
   ],
   "source": [
    "player_guess()"
   ]
  },
  {
   "cell_type": "code",
   "execution_count": 37,
   "id": "4120d07c",
   "metadata": {},
   "outputs": [
    {
     "name": "stdout",
     "output_type": "stream",
     "text": [
      "Pick a ,number: 0, 1 or 2 : 2\n"
     ]
    }
   ],
   "source": [
    "myindex = player_guess()"
   ]
  },
  {
   "cell_type": "code",
   "execution_count": 38,
   "id": "a9bc81a2",
   "metadata": {},
   "outputs": [
    {
     "data": {
      "text/plain": [
       "2"
      ]
     },
     "execution_count": 38,
     "metadata": {},
     "output_type": "execute_result"
    }
   ],
   "source": [
    "myindex"
   ]
  },
  {
   "cell_type": "code",
   "execution_count": 39,
   "id": "026232a6",
   "metadata": {},
   "outputs": [],
   "source": [
    "def check_guess(mylist,guess):\n",
    "    if mylist[guess] == 'O':\n",
    "        print ('Correct!')\n",
    "    else:\n",
    "        print('Wrong guess!')\n",
    "        print(mylist)"
   ]
  },
  {
   "cell_type": "code",
   "execution_count": 43,
   "id": "7aed7b79",
   "metadata": {},
   "outputs": [
    {
     "name": "stdout",
     "output_type": "stream",
     "text": [
      "Pick a ,number: 0, 1 or 2 : 1\n",
      "Wrong guess!\n",
      "['O', '', '']\n"
     ]
    }
   ],
   "source": [
    "# INITIAL LIST\n",
    "mylist = ['','O','']\n",
    "\n",
    "# SHUFFLE LIST\n",
    "mixedup_list = shuffle_list(mylist)\n",
    "\n",
    "# USER GUESS\n",
    "guess = player_guess()\n",
    "\n",
    "# CHECK GUESS\n",
    "check_guess(mixedup_list, guess)\n"
   ]
  },
  {
   "cell_type": "markdown",
   "id": "98bc1274",
   "metadata": {},
   "source": [
    "\n",
    "# `*args` and `**kwargs`\n",
    "\n",
    "They stand for 'arguments' and 'key word arguments'\n"
   ]
  },
  {
   "cell_type": "code",
   "execution_count": 1,
   "id": "34a4a330",
   "metadata": {},
   "outputs": [],
   "source": [
    "def myfunc (a,b):\n",
    "    # returns 5% of the sum of a and b\n",
    "    return sum((a,b))* 0.05"
   ]
  },
  {
   "cell_type": "code",
   "execution_count": 2,
   "id": "87d52ca1",
   "metadata": {},
   "outputs": [
    {
     "data": {
      "text/plain": [
       "5.0"
      ]
     },
     "execution_count": 2,
     "metadata": {},
     "output_type": "execute_result"
    }
   ],
   "source": [
    "myfunc(40,60)"
   ]
  },
  {
   "cell_type": "code",
   "execution_count": 3,
   "id": "ea5c09b0",
   "metadata": {},
   "outputs": [],
   "source": [
    "def myfunc (a,b):\n",
    "    # returns 5% of the sum of a and b\n",
    "    return sum [a,b] * 0.05"
   ]
  },
  {
   "cell_type": "code",
   "execution_count": 4,
   "id": "21386597",
   "metadata": {},
   "outputs": [
    {
     "ename": "TypeError",
     "evalue": "'builtin_function_or_method' object is not subscriptable",
     "output_type": "error",
     "traceback": [
      "\u001b[1;31m---------------------------------------------------------------------------\u001b[0m",
      "\u001b[1;31mTypeError\u001b[0m                                 Traceback (most recent call last)",
      "\u001b[1;32m~\\AppData\\Local\\Temp/ipykernel_7740/1747435733.py\u001b[0m in \u001b[0;36m<module>\u001b[1;34m\u001b[0m\n\u001b[1;32m----> 1\u001b[1;33m \u001b[0mmyfunc\u001b[0m\u001b[1;33m(\u001b[0m\u001b[1;36m40\u001b[0m\u001b[1;33m,\u001b[0m\u001b[1;36m60\u001b[0m\u001b[1;33m)\u001b[0m\u001b[1;33m\u001b[0m\u001b[1;33m\u001b[0m\u001b[0m\n\u001b[0m",
      "\u001b[1;32m~\\AppData\\Local\\Temp/ipykernel_7740/1645394959.py\u001b[0m in \u001b[0;36mmyfunc\u001b[1;34m(a, b)\u001b[0m\n\u001b[0;32m      1\u001b[0m \u001b[1;32mdef\u001b[0m \u001b[0mmyfunc\u001b[0m \u001b[1;33m(\u001b[0m\u001b[0ma\u001b[0m\u001b[1;33m,\u001b[0m\u001b[0mb\u001b[0m\u001b[1;33m)\u001b[0m\u001b[1;33m:\u001b[0m\u001b[1;33m\u001b[0m\u001b[1;33m\u001b[0m\u001b[0m\n\u001b[0;32m      2\u001b[0m     \u001b[1;31m# returns 5% of the sum of a and b\u001b[0m\u001b[1;33m\u001b[0m\u001b[1;33m\u001b[0m\u001b[0m\n\u001b[1;32m----> 3\u001b[1;33m     \u001b[1;32mreturn\u001b[0m \u001b[0msum\u001b[0m \u001b[1;33m[\u001b[0m\u001b[0ma\u001b[0m\u001b[1;33m,\u001b[0m\u001b[0mb\u001b[0m\u001b[1;33m]\u001b[0m \u001b[1;33m*\u001b[0m \u001b[1;36m0.05\u001b[0m\u001b[1;33m\u001b[0m\u001b[1;33m\u001b[0m\u001b[0m\n\u001b[0m",
      "\u001b[1;31mTypeError\u001b[0m: 'builtin_function_or_method' object is not subscriptable"
     ]
    }
   ],
   "source": [
    "myfunc(40,60)"
   ]
  },
  {
   "cell_type": "code",
   "execution_count": 5,
   "id": "325ea4a0",
   "metadata": {},
   "outputs": [],
   "source": [
    "def myfunc (a,b,c=0,d=0,e=0):\n",
    "    # returns 5% of the sum of a and b\n",
    "    return sum((a,b,c,d))* 0.05"
   ]
  },
  {
   "cell_type": "code",
   "execution_count": 6,
   "id": "6d0fba9a",
   "metadata": {},
   "outputs": [
    {
     "data": {
      "text/plain": [
       "10.0"
      ]
     },
     "execution_count": 6,
     "metadata": {},
     "output_type": "execute_result"
    }
   ],
   "source": [
    "myfunc(40,60,100)"
   ]
  },
  {
   "cell_type": "code",
   "execution_count": 7,
   "id": "c58db8a0",
   "metadata": {},
   "outputs": [
    {
     "ename": "TypeError",
     "evalue": "myfunc() takes from 2 to 5 positional arguments but 6 were given",
     "output_type": "error",
     "traceback": [
      "\u001b[1;31m---------------------------------------------------------------------------\u001b[0m",
      "\u001b[1;31mTypeError\u001b[0m                                 Traceback (most recent call last)",
      "\u001b[1;32m~\\AppData\\Local\\Temp/ipykernel_7740/2903163547.py\u001b[0m in \u001b[0;36m<module>\u001b[1;34m\u001b[0m\n\u001b[1;32m----> 1\u001b[1;33m \u001b[0mmyfunc\u001b[0m\u001b[1;33m(\u001b[0m\u001b[1;36m40\u001b[0m\u001b[1;33m,\u001b[0m\u001b[1;36m60\u001b[0m\u001b[1;33m,\u001b[0m\u001b[1;36m100\u001b[0m\u001b[1;33m,\u001b[0m\u001b[1;36m2\u001b[0m\u001b[1;33m,\u001b[0m\u001b[1;36m5\u001b[0m\u001b[1;33m,\u001b[0m\u001b[1;36m77\u001b[0m\u001b[1;33m,\u001b[0m\u001b[1;33m)\u001b[0m\u001b[1;33m\u001b[0m\u001b[1;33m\u001b[0m\u001b[0m\n\u001b[0m",
      "\u001b[1;31mTypeError\u001b[0m: myfunc() takes from 2 to 5 positional arguments but 6 were given"
     ]
    }
   ],
   "source": [
    "myfunc(40,60,100,2,5,77,)"
   ]
  },
  {
   "cell_type": "code",
   "execution_count": 8,
   "id": "80924c55",
   "metadata": {},
   "outputs": [],
   "source": [
    "def myfunc(*args):\n",
    "    return sum(args)*0.05"
   ]
  },
  {
   "cell_type": "code",
   "execution_count": 9,
   "id": "e4591a05",
   "metadata": {},
   "outputs": [
    {
     "data": {
      "text/plain": [
       "14.200000000000001"
      ]
     },
     "execution_count": 9,
     "metadata": {},
     "output_type": "execute_result"
    }
   ],
   "source": [
    "myfunc (40,60,100,2,5,77)"
   ]
  },
  {
   "cell_type": "code",
   "execution_count": 10,
   "id": "57e3a446",
   "metadata": {},
   "outputs": [],
   "source": [
    "def myfunc(*args):\n",
    "    print (args)"
   ]
  },
  {
   "cell_type": "code",
   "execution_count": 11,
   "id": "ccadc084",
   "metadata": {},
   "outputs": [
    {
     "name": "stdout",
     "output_type": "stream",
     "text": [
      "(40, 60, 100, 2, 5, 77)\n"
     ]
    }
   ],
   "source": [
    "myfunc (40,60,100,2,5,77)"
   ]
  },
  {
   "cell_type": "markdown",
   "id": "2544bf05",
   "metadata": {},
   "source": [
    "In this case if a print args it looks like a tuple"
   ]
  },
  {
   "cell_type": "code",
   "execution_count": 12,
   "id": "0b19b224",
   "metadata": {},
   "outputs": [],
   "source": [
    "def myfunc(*args):\n",
    "    for item in args:\n",
    "        print (item)"
   ]
  },
  {
   "cell_type": "code",
   "execution_count": 13,
   "id": "a0c06fdc",
   "metadata": {},
   "outputs": [
    {
     "name": "stdout",
     "output_type": "stream",
     "text": [
      "40\n",
      "60\n",
      "100\n",
      "2\n",
      "5\n",
      "77\n"
     ]
    }
   ],
   "source": [
    "myfunc (40,60,100,2,5,77)"
   ]
  },
  {
   "cell_type": "code",
   "execution_count": 22,
   "id": "1a4e09f9",
   "metadata": {},
   "outputs": [],
   "source": [
    "def myfunc (**kwargs):\n",
    "    print (kwargs)# printing the kwarg itself will bring back a dictionary\n",
    "    if 'fruit' in kwargs:\n",
    "    # Here the 'fruit' will be the key (always a string) in the key/value pair of a dict\n",
    "        print ('My fruit of choice is {}'.format(kwargs['fruit'])) \n",
    "        # this kwargs['key string'] will make it bring the value asociated with that key\n",
    "    else:\n",
    "        print ('I did not find any fruit here')"
   ]
  },
  {
   "cell_type": "code",
   "execution_count": 21,
   "id": "8b4fb78b",
   "metadata": {},
   "outputs": [
    {
     "name": "stdout",
     "output_type": "stream",
     "text": [
      "{'fruit': 'apple', 'veggie': 'lettuce'}\n",
      "My fruit of choice is apple\n"
     ]
    }
   ],
   "source": [
    "myfunc(fruit = 'apple', veggie = 'lettuce')"
   ]
  },
  {
   "cell_type": "markdown",
   "id": "4b5fdf7f",
   "metadata": {},
   "source": [
    "By convention and readability we use the 'args' and 'kwargs' words, but we could change it to any other word. What really makes it work is the use of ' * ' for args and ' ** 'for kwargs"
   ]
  },
  {
   "cell_type": "code",
   "execution_count": 26,
   "id": "3f340998",
   "metadata": {},
   "outputs": [],
   "source": [
    "def myfunc(*args,**kwargs):\n",
    "    print (args)\n",
    "    print (kwargs)\n",
    "    print('I would like {} {}'.format(args[0], kwargs['food']))"
   ]
  },
  {
   "cell_type": "code",
   "execution_count": 27,
   "id": "02175188",
   "metadata": {},
   "outputs": [
    {
     "name": "stdout",
     "output_type": "stream",
     "text": [
      "(10, 20, 30)\n",
      "{'fruit': 'orange', 'food': 'eggs', 'animal': 'dog'}\n",
      "I would like 10 eggs\n"
     ]
    }
   ],
   "source": [
    "myfunc(10,20,30, fruit = 'orange', food = 'eggs', animal = 'dog')"
   ]
  },
  {
   "cell_type": "markdown",
   "id": "e6affea0",
   "metadata": {},
   "source": [
    "#### We can combine args and kwargs in the same function but it must go in the same order. If I defined the function as myfunc(*args, **kwargs) the when I run it the args go first and the kwargs after"
   ]
  },
  {
   "cell_type": "markdown",
   "id": "d1fc8390",
   "metadata": {},
   "source": [
    "# Lambda Expressions, Map, and Filter\n",
    "\n",
    "\n",
    "## map function\n",
    "\n",
    "The **map** function allows you to \"map\" a function to an iterable object. That is to say you can quickly call the same function to every item in an iterable, such as a list\n"
   ]
  },
  {
   "cell_type": "code",
   "execution_count": 3,
   "id": "c55f9aca",
   "metadata": {},
   "outputs": [
    {
     "data": {
      "text/plain": [
       "[1, 4, 9, 16, 25]"
      ]
     },
     "execution_count": 3,
     "metadata": {},
     "output_type": "execute_result"
    }
   ],
   "source": [
    "def myfunc(num):\n",
    "    return num**2\n",
    "\n",
    "myiterable_object = [1,2,3,4,5]\n",
    "\n",
    "map(myfunc,myiterable_object) # Basically its say apply this function to every iterable item in the iterable object\n",
    "\n",
    "# To get the results, either iterate through map() \n",
    "# or just cast to a list\n",
    "\n",
    "list(map(myfunc,myiterable_object))"
   ]
  },
  {
   "cell_type": "markdown",
   "id": "6fe79499",
   "metadata": {},
   "source": [
    "The functions can also be more complex"
   ]
  },
  {
   "cell_type": "code",
   "execution_count": 6,
   "id": "588ce4d5",
   "metadata": {},
   "outputs": [
    {
     "data": {
      "text/plain": [
       "['even', 'C', 'S', 'K', 'even']"
      ]
     },
     "execution_count": 6,
     "metadata": {},
     "output_type": "execute_result"
    }
   ],
   "source": [
    "def splicer(mystring):\n",
    "    if len(mystring) % 2 == 0:\n",
    "        return 'even'\n",
    "    else:\n",
    "        return mystring[0]\n",
    "    \n",
    "# Here the function defined will interate with a string\n",
    "\n",
    "mynames = ['John','Cindy','Sarah','Kelly','Mike'] # but then we have a list of string\n",
    "\n",
    "# and we use the map function to apply that function to every item/string in the list of strings, \n",
    "# and return it's result as a list\n",
    "\n",
    "list(map(splicer,mynames))"
   ]
  },
  {
   "cell_type": "markdown",
   "id": "124797cc",
   "metadata": {},
   "source": [
    "If a function defines some action for an item **def function (item/s):** then the **map** will apply that function to every iterable part of a iterable object: map(function, iterable object) does function(part), function (part), function (part), etc."
   ]
  },
  {
   "cell_type": "markdown",
   "id": "a35d5e8e",
   "metadata": {},
   "source": [
    "## filter function\n",
    "\n",
    "The filter function returns an iterator yielding those items of iterable for which function(item)\n",
    "is true. Meaning you need to filter by a function that returns either True or False. Then passing that into filter (along with your iterable) and you will get back only the results that would return True when passed to the function."
   ]
  },
  {
   "cell_type": "code",
   "execution_count": 10,
   "id": "0f20d730",
   "metadata": {},
   "outputs": [
    {
     "data": {
      "text/plain": [
       "[0, 2, 4, 6, 8, 10]"
      ]
     },
     "execution_count": 10,
     "metadata": {},
     "output_type": "execute_result"
    }
   ],
   "source": [
    "def check_even(num):\n",
    "    return num % 2 == 0 # functions that returns a True or False result\n",
    "\n",
    "nums = [0,1,2,3,4,5,6,7,8,9,10] # iterable object through which the FILTER will apply a function\n",
    "\n",
    "list(filter(check_even,nums)) # again, my iterate through the Filter or make a list of it\n",
    "\n",
    "#and below it returns only those items that returned True when the function was applied to them"
   ]
  },
  {
   "cell_type": "markdown",
   "id": "9853638b",
   "metadata": {},
   "source": [
    "## lambda expression\n",
    "\n",
    "One of Pythons most useful (and for beginners, confusing) tools is the lambda expression. lambda expressions allow us to create \"anonymous\" functions. This basically means we can quickly make ad-hoc functions without needing to properly define a function using def.\n",
    "\n",
    "Function objects returned by running lambda expressions work exactly the same as those created and assigned by defs. There is key difference that makes lambda useful in specialized roles:\n",
    "\n",
    "**lambda's body is a single expression, not a block of statements.**\n",
    "\n",
    "* The lambda's body is similar to what we would put in a def body's return statement. We simply type the result as an expression instead of explicitly returning it. Because it is limited to an expression, a lambda is less general that a def. We can only squeeze design, to limit program nesting. lambda is designed for coding simple functions, and def handles the larger tasks."
   ]
  },
  {
   "cell_type": "markdown",
   "id": "16ffb940",
   "metadata": {},
   "source": [
    "Lets slowly break down a lambda expression by deconstructing a function:"
   ]
  },
  {
   "cell_type": "code",
   "execution_count": 11,
   "id": "6400e09f",
   "metadata": {},
   "outputs": [
    {
     "data": {
      "text/plain": [
       "4"
      ]
     },
     "execution_count": 11,
     "metadata": {},
     "output_type": "execute_result"
    }
   ],
   "source": [
    "def square(num):\n",
    "    result = num**2\n",
    "    return result\n",
    "\n",
    "square(2)"
   ]
  },
  {
   "cell_type": "code",
   "execution_count": 12,
   "id": "ea9a8d81",
   "metadata": {},
   "outputs": [
    {
     "data": {
      "text/plain": [
       "4"
      ]
     },
     "execution_count": 12,
     "metadata": {},
     "output_type": "execute_result"
    }
   ],
   "source": [
    "# We could simplify it:\n",
    "def square(num):\n",
    "    return num**2\n",
    "\n",
    "square(2)"
   ]
  },
  {
   "cell_type": "code",
   "execution_count": 13,
   "id": "0f39908a",
   "metadata": {},
   "outputs": [
    {
     "data": {
      "text/plain": [
       "4"
      ]
     },
     "execution_count": 13,
     "metadata": {},
     "output_type": "execute_result"
    }
   ],
   "source": [
    "# We could actually even write this all on one line.\n",
    "def square(num): return num**2\n",
    "\n",
    "square(2)"
   ]
  },
  {
   "cell_type": "code",
   "execution_count": 15,
   "id": "1b4440c2",
   "metadata": {},
   "outputs": [
    {
     "data": {
      "text/plain": [
       "<function __main__.<lambda>(num)>"
      ]
     },
     "execution_count": 15,
     "metadata": {},
     "output_type": "execute_result"
    }
   ],
   "source": [
    "# This is the form a function that a lambda expression intends to replicate. A lambda expression can then be written as:\n",
    "\n",
    "lambda num: num ** 2\n",
    "\n",
    "# \"lambda\" replaces the \"def\" and needs no name for it,\n",
    "# the first \"num\" defines the item that would normally go between ()\n",
    "# then the :\n",
    "# then the expected return without the need to type \"return\"\n"
   ]
  },
  {
   "cell_type": "code",
   "execution_count": 16,
   "id": "25f37f05",
   "metadata": {},
   "outputs": [
    {
     "data": {
      "text/plain": [
       "4"
      ]
     },
     "execution_count": 16,
     "metadata": {},
     "output_type": "execute_result"
    }
   ],
   "source": [
    "# You wouldn't usually assign a name to a lambda expression, this is just for demonstration!\n",
    "square = lambda num: num **2\n",
    "\n",
    "square (2)"
   ]
  },
  {
   "cell_type": "markdown",
   "id": "09967f82",
   "metadata": {},
   "source": [
    "So why would use this? Many function calls need a function passed in, such as map and filter. Often you only need to use the function you are passing in once, so instead of formally defining it, you just use the lambda expression. Let's repeat some of the examples from above with a lambda expression"
   ]
  },
  {
   "cell_type": "code",
   "execution_count": 21,
   "id": "a81a17cd",
   "metadata": {},
   "outputs": [
    {
     "data": {
      "text/plain": [
       "[1, 4, 9, 16, 25]"
      ]
     },
     "execution_count": 21,
     "metadata": {},
     "output_type": "execute_result"
    }
   ],
   "source": [
    "list(map(lambda item: item ** 2, myiterable_object))\n",
    "# this will make a LIST \n",
    "# that contains the MAPPING of an unnamed function (lambda) \n",
    "# applied to every iterable part of an iterable object"
   ]
  },
  {
   "cell_type": "code",
   "execution_count": 22,
   "id": "0de21d52",
   "metadata": {},
   "outputs": [
    {
     "data": {
      "text/plain": [
       "[0, 2, 4, 6, 8, 10]"
      ]
     },
     "execution_count": 22,
     "metadata": {},
     "output_type": "execute_result"
    }
   ],
   "source": [
    "list(filter(lambda n: n % 2 == 0,nums))\n",
    "# this will make a LIST \n",
    "# that contains the FILTERED the parts of an iterable object\n",
    "# that returned TRUE when an unnamed function (lambda) was applied to that part"
   ]
  },
  {
   "cell_type": "code",
   "execution_count": 23,
   "id": "1f377611",
   "metadata": {},
   "outputs": [
    {
     "data": {
      "text/plain": [
       "<function __main__.<lambda>(s)>"
      ]
     },
     "execution_count": 23,
     "metadata": {},
     "output_type": "execute_result"
    }
   ],
   "source": [
    "# ** Lambda expression for grabbing the first character of a string: **\n",
    "lambda s: s[0]"
   ]
  },
  {
   "cell_type": "code",
   "execution_count": 24,
   "id": "cc217931",
   "metadata": {},
   "outputs": [
    {
     "data": {
      "text/plain": [
       "<function __main__.<lambda>(s)>"
      ]
     },
     "execution_count": 24,
     "metadata": {},
     "output_type": "execute_result"
    }
   ],
   "source": [
    "# ** Lambda expression for reversing a string: **\n",
    "lambda s: s[::-1]"
   ]
  },
  {
   "cell_type": "code",
   "execution_count": 25,
   "id": "f1713e39",
   "metadata": {},
   "outputs": [
    {
     "data": {
      "text/plain": [
       "<function __main__.<lambda>(x, y)>"
      ]
     },
     "execution_count": 25,
     "metadata": {},
     "output_type": "execute_result"
    }
   ],
   "source": [
    "# You can even pass in multiple arguments into a lambda expression. Again, keep in mind that not every function can be translated into a lambda expression.\n",
    "lambda x,y : x + y"
   ]
  },
  {
   "cell_type": "markdown",
   "id": "712a6927",
   "metadata": {},
   "source": [
    "You will find yourself using lambda expressions often with certain non-built-in libraries, for example the pandas library for data analysis works very well with lambda expressions.\n"
   ]
  },
  {
   "cell_type": "markdown",
   "id": "07321549",
   "metadata": {},
   "source": [
    "# Nested Statements and Scope \n",
    "\n",
    "Now that we have gone over writing our own functions, it's important to understand how Python deals with the variable names you assign. When you create a variable name in Python the name is stored in a *name-space*. Variable names also have a *scope*, the scope determines the visibility of that variable name to other parts of your code."
   ]
  },
  {
   "cell_type": "markdown",
   "id": "7702f072",
   "metadata": {},
   "source": [
    "This is where the idea of scope comes in. Python has a set of rules it follows to decide what variables (such as x in this case) you are referencing in your code. Lets break down the rules:\n",
    "\n",
    "This idea of scope in your code is very important to understand in order to properly assign and call variable names. \n",
    "​\n",
    "\n",
    "In simple terms, the idea of scope can be described by 3 general rules:\n",
    "​\n",
    "\n",
    "1. Name assignments will create or change local names by default.\n",
    "\n",
    "2. Name references search (at most) four scopes, these are:\n",
    "    * local\n",
    "\n",
    "    * enclosing functions\n",
    "\n",
    "    * global\n",
    "\n",
    "    * built-in\n",
    "\n",
    "3. Names declared in global and nonlocal statements map assigned names to enclosing module and function scopes.\n",
    "​\n",
    "​\n",
    "\n",
    "The statement in #2 above can be defined by the LEGB rule.\n",
    "​\n",
    "\n",
    "**LEGB Rule:**\n",
    "​\n",
    "\n",
    "L: Local — Names assigned in any way within a function (def or lambda), and not declared global in that function.\n",
    "​\n",
    "\n",
    "E: Enclosing function locals — Names in the local scope of any and all enclosing functions (def or lambda), from inner to outer.\n",
    "​\n",
    "\n",
    "G: Global (module) — Names assigned at the top-level of a module file, or declared global in a def within the file.\n",
    "​\n",
    "\n",
    "B: Built-in (Python) — Names preassigned in the built-in names module : open, range, SyntaxError,..."
   ]
  },
  {
   "cell_type": "markdown",
   "id": "451ed7ce",
   "metadata": {},
   "source": [
    "## Quick examples of LEGB\n",
    "\n",
    "### Local"
   ]
  },
  {
   "cell_type": "code",
   "execution_count": 26,
   "id": "bfb1db57",
   "metadata": {},
   "outputs": [],
   "source": [
    "# x is local here:\n",
    "f = lambda x:x**2"
   ]
  },
  {
   "cell_type": "markdown",
   "id": "6a4e7512",
   "metadata": {},
   "source": [
    "### Enclosing function locals\n",
    "This occurs when we have a function inside a function (nested functions)"
   ]
  },
  {
   "cell_type": "code",
   "execution_count": 27,
   "id": "37d4673a",
   "metadata": {},
   "outputs": [
    {
     "name": "stdout",
     "output_type": "stream",
     "text": [
      "Hello Sammy\n"
     ]
    }
   ],
   "source": [
    "name = 'This is a global name'\n",
    "\n",
    "def greet():\n",
    "    # Enclosing function\n",
    "    name = 'Sammy'\n",
    "    \n",
    "    def hello():\n",
    "        print('Hello '+name)\n",
    "    \n",
    "    hello()\n",
    "\n",
    "greet()"
   ]
  },
  {
   "cell_type": "markdown",
   "id": "eaa6296e",
   "metadata": {},
   "source": [
    "Note how Sammy was used, because the hello() function was enclosed inside of the greet function!"
   ]
  },
  {
   "cell_type": "markdown",
   "id": "6bbdc278",
   "metadata": {},
   "source": [
    "### Global\n",
    "Luckily in Jupyter a quick way to test for global variables is to see if another cell recognizes the variable!"
   ]
  },
  {
   "cell_type": "code",
   "execution_count": 28,
   "id": "a887954d",
   "metadata": {},
   "outputs": [
    {
     "name": "stdout",
     "output_type": "stream",
     "text": [
      "This is a global name\n"
     ]
    }
   ],
   "source": [
    "print(name)"
   ]
  },
  {
   "cell_type": "markdown",
   "id": "39193c9b",
   "metadata": {},
   "source": [
    "### Built-in\n",
    "These are the built-in function names in Python (don't overwrite these!)"
   ]
  },
  {
   "cell_type": "code",
   "execution_count": 29,
   "id": "cad4000b",
   "metadata": {},
   "outputs": [
    {
     "data": {
      "text/plain": [
       "<function len(obj, /)>"
      ]
     },
     "execution_count": 29,
     "metadata": {},
     "output_type": "execute_result"
    }
   ],
   "source": [
    "len"
   ]
  },
  {
   "cell_type": "markdown",
   "id": "d2c891e8",
   "metadata": {},
   "source": [
    "## Local Variables\n",
    "When you declare variables inside a function definition, they are not related in any way to other variables with the same names used outside the function - i.e. variable names are local to the function. This is called the scope of the variable. All variables have the scope of the block they are declared in starting from the point of definition of the name.\n",
    "\n",
    "Example:"
   ]
  },
  {
   "cell_type": "code",
   "execution_count": 30,
   "id": "afd13af6",
   "metadata": {},
   "outputs": [
    {
     "name": "stdout",
     "output_type": "stream",
     "text": [
      "x is 50\n",
      "Changed local x to 2\n",
      "x is still 50\n"
     ]
    }
   ],
   "source": [
    "x = 50\n",
    "\n",
    "def func(x):\n",
    "    print('x is', x)\n",
    "    x = 2\n",
    "    print('Changed local x to', x)\n",
    "\n",
    "func(x)\n",
    "print('x is still', x)"
   ]
  },
  {
   "cell_type": "markdown",
   "id": "ed110501",
   "metadata": {},
   "source": [
    "The first time that we print the value of the name **x** with the first line in the function’s body, Python uses the value of the parameter declared in the main block, above the function definition.\n",
    "\n",
    "Next, we assign the value 2 to **x**. The name **x** is local to our function. So, when we change the value of **x** in the function, the **x** defined in the main block remains unaffected.\n",
    "\n",
    "With the last print statement, we display the value of **x** as defined in the main block, thereby confirming that it is actually unaffected by the local assignment within the previously called function.\n",
    "\n",
    "## The <code>global</code> statement\n",
    "If you want to assign a value to a name defined at the top level of the program (i.e. not inside any kind of scope such as functions or classes), then you have to tell Python that the name is not local, but it is global. We do this using the <code>global</code> statement. It is impossible to assign a value to a variable defined outside a function without the global statement.\n",
    "\n",
    "You can use the values of such variables defined outside the function (assuming there is no variable with the same name within the function). However, this is not encouraged and should be avoided since it becomes unclear to the reader of the program as to where that variable’s definition is. Using the <code>global</code> statement makes it amply clear that the variable is defined in an outermost block.\n",
    "\n",
    "Example:"
   ]
  },
  {
   "cell_type": "code",
   "execution_count": 31,
   "id": "42d2216c",
   "metadata": {},
   "outputs": [
    {
     "name": "stdout",
     "output_type": "stream",
     "text": [
      "Before calling func(), x is:  50\n",
      "This function is now using the global x!\n",
      "Because of global x is:  50\n",
      "Ran func(), changed global x to 2\n",
      "Value of x (outside of func()) is:  2\n"
     ]
    }
   ],
   "source": [
    "x = 50\n",
    "\n",
    "def func():\n",
    "    global x\n",
    "    print('This function is now using the global x!')\n",
    "    print('Because of global x is: ', x)\n",
    "    x = 2\n",
    "    print('Ran func(), changed global x to', x)\n",
    "\n",
    "print('Before calling func(), x is: ', x)\n",
    "func()\n",
    "print('Value of x (outside of func()) is: ', x)"
   ]
  },
  {
   "cell_type": "code",
   "execution_count": 32,
   "id": "a766413f",
   "metadata": {},
   "outputs": [
    {
     "data": {
      "text/plain": [
       "2"
      ]
     },
     "execution_count": 32,
     "metadata": {},
     "output_type": "execute_result"
    }
   ],
   "source": [
    "x"
   ]
  },
  {
   "cell_type": "markdown",
   "id": "424e8389",
   "metadata": {},
   "source": [
    "The <code>global</code> statement is used to declare that **x** is a global variable - hence, when we assign a value to **x** inside the function, that change is reflected when we use the value of **x** in the main block.\n",
    "\n",
    "You can specify more than one global variable using the same global statement e.g. <code>global x, y, z</code>."
   ]
  },
  {
   "cell_type": "markdown",
   "id": "c54e954c",
   "metadata": {},
   "source": [
    "## Conclusion\n",
    "You should now have a good understanding of Scope (you may have already intuitively felt right about Scope which is great!) One last mention is that you can use the **globals()** and **locals()** functions to check what are your current local and global variables.\n",
    "\n",
    "Another thing to keep in mind is that everything in Python is an object! I can assign variables to functions just like I can with numbers! We will go over this again in the decorator section of the course!"
   ]
  },
  {
   "cell_type": "code",
   "execution_count": 40,
   "id": "735b4d36",
   "metadata": {},
   "outputs": [
    {
     "data": {
      "text/plain": [
       "{'__name__': '__main__',\n",
       " '__doc__': 'Automatically created module for IPython interactive environment',\n",
       " '__package__': None,\n",
       " '__loader__': None,\n",
       " '__spec__': None,\n",
       " '__builtin__': <module 'builtins' (built-in)>,\n",
       " '__builtins__': <module 'builtins' (built-in)>,\n",
       " '_ih': ['',\n",
       "  'map(myfunc,myiterable_object) # Basically its say apply this function to every iterable item in the iterable object',\n",
       "  'def myfunc(num):\\n    return num**2\\n\\nmyiterable_object = [1,2,3,4,5]\\n\\nmap(myfunc,myiterable_object) # Basically its say apply this function to every iterable item in the iterable object\\n\\n# To get the results, either iterate through map() \\n# or just cast to a list\\nlist(map(myfunc,myiterable_object))',\n",
       "  'def myfunc(num):\\n    return num**2\\n\\nmyiterable_object = [1,2,3,4,5]\\n\\nmap(myfunc,myiterable_object) # Basically its say apply this function to every iterable item in the iterable object\\n\\n# To get the results, either iterate through map() \\n# or just cast to a list\\n\\nlist(map(myfunc,myiterable_object))',\n",
       "  'The functions can also be more complex',\n",
       "  \"def splicer(mystring):\\n    if len(mystring) % 2 == 0:\\n        return 'even'\\n    else:\\n        return mystring[0]\\n    \\n# Here the function defined will interate with a string\\n\\nmynames = ['John','Cindy','Sarah','Kelly','Mike'] # but then we have a list of string\\n\\n# and we use the map function to apply that function to every item/string in the list of strings, and return it's result as a list\\n\\nlist(map(splicer,mynames))\",\n",
       "  \"def splicer(mystring):\\n    if len(mystring) % 2 == 0:\\n        return 'even'\\n    else:\\n        return mystring[0]\\n    \\n# Here the function defined will interate with a string\\n\\nmynames = ['John','Cindy','Sarah','Kelly','Mike'] # but then we have a list of string\\n\\n# and we use the map function to apply that function to every item/string in the list of strings, \\n# and return it's result as a list\\n\\nlist(map(splicer,mynames))\",\n",
       "  '## filter function\\n\\nThe filter function returns an iterator yielding those items of iterable for which function(item)\\nis true. Meaning you need to filter by a function that returns either True or False. Then passing that into filter (along with your iterable) and you will get back only the results that would return True when passed to the function.',\n",
       "  'def check_even(num):\\n    return num % 2 == 0 ',\n",
       "  'def check_even(num):\\n    return num % 2 == 0 # functions that returns a True or False result\\n\\nnums = [0,1,2,3,4,5,6,7,8,9,10] # iterable object through which the FILTER will apply a function\\n\\nlist(filter(check_even,nums)) # again, my iterate through the Filter or make a list of it',\n",
       "  'def check_even(num):\\n    return num % 2 == 0 # functions that returns a True or False result\\n\\nnums = [0,1,2,3,4,5,6,7,8,9,10] # iterable object through which the FILTER will apply a function\\n\\nlist(filter(check_even,nums)) # again, my iterate through the Filter or make a list of it\\n\\n#and below it returns only those items that returned True when the function was applied to them',\n",
       "  'def square(num):\\n    result = num**2\\n    return result\\n\\nsquare(2)',\n",
       "  '# We could simplify it:\\ndef square(num):\\n    return num**2\\n\\nsquare(2)',\n",
       "  '# We could actually even write this all on one line.\\ndef square(num): return num**2\\n\\nsquare(2)',\n",
       "  '# This is the form a function that a lambda expression intends to replicate. A lambda expression can then be written as:\\n\\nlambda num: num ** 2',\n",
       "  '# This is the form a function that a lambda expression intends to replicate. A lambda expression can then be written as:\\n\\nlambda num: num ** 2\\n\\n# \"lambda\" replaces the \"def\" and needs no name for it,\\n# the first \"num\" defines the item that would normally go between ()\\n# then the :\\n# then the expected return without the need to type \"return\"',\n",
       "  \"# You wouldn't usually assign a name to a lambda expression, this is just for demonstration!\\nsquare = lambda num: num **2\\n\\nsquare (2)\",\n",
       "  'list(map(lambda num: num ** 2, myiterable_object))',\n",
       "  'list(map(lambda item: item ** 2, myiterable_object))',\n",
       "  'list(filter(lambda n: n % 2 == 0,nums))',\n",
       "  'list(map(lambda item: item ** 2, myiterable_object))\\n# this will make a LIST \\n# that contains the MAPPING of an unnamed function (lambda) \\n# applied to every iterable part of an object',\n",
       "  'list(map(lambda item: item ** 2, myiterable_object))\\n# this will make a LIST \\n# that contains the MAPPING of an unnamed function (lambda) \\n# applied to every iterable part of an iterable object',\n",
       "  'list(filter(lambda n: n % 2 == 0,nums))\\n# this will make a LIST \\n# that contains the FILTERED the parts of an iterable object\\n# that returned TRUE when an unnamed function (lambda) was applied to that part',\n",
       "  '# ** Lambda expression for grabbing the first character of a string: **\\nlambda s: s[0]',\n",
       "  '# ** Lambda expression for reversing a string: **\\nlambda s: s[::-1]',\n",
       "  '# You can even pass in multiple arguments into a lambda expression. Again, keep in mind that not every function can be translated into a lambda expression.\\nlambda x,y : x + y',\n",
       "  '# x is local here:\\nf = lambda x:x**2',\n",
       "  \"name = 'This is a global name'\\n\\ndef greet():\\n    # Enclosing function\\n    name = 'Sammy'\\n    \\n    def hello():\\n        print('Hello '+name)\\n    \\n    hello()\\n\\ngreet()\",\n",
       "  'print(name)',\n",
       "  'len',\n",
       "  \"x = 50\\n\\ndef func(x):\\n    print('x is', x)\\n    x = 2\\n    print('Changed local x to', x)\\n\\nfunc(x)\\nprint('x is still', x)\",\n",
       "  \"x = 50\\n\\ndef func():\\n    global x\\n    print('This function is now using the global x!')\\n    print('Because of global x is: ', x)\\n    x = 2\\n    print('Ran func(), changed global x to', x)\\n\\nprint('Before calling func(), x is: ', x)\\nfunc()\\nprint('Value of x (outside of func()) is: ', x)\",\n",
       "  'x',\n",
       "  'The <code>global</code> statement is used to declare that **x** is a global variable - hence, when we assign a value to **x** inside the function, that change is reflected when we use the value of **x** in the main block.\\n\\nYou can specify more than one global variable using the same global statement e.g. <code>global x, y, z</code>.',\n",
       "  '## Conclusion\\nYou should now have a good understanding of Scope (you may have already intuitively felt right about Scope which is great!) One last mention is that you can use the **globals()** and **locals()** functions to check what are your current local and global variables.\\n\\nAnother thing to keep in mind is that everything in Python is an object! I can assign variables to functions just like I can with numbers! We will go over this again in the decorator section of the course!',\n",
       "  'global(name)',\n",
       "  'globals(name)',\n",
       "  'global(name)',\n",
       "  'global(x)',\n",
       "  'globals(x)',\n",
       "  'globals()'],\n",
       " '_oh': {2: [1, 4, 9, 16, 25],\n",
       "  3: [1, 4, 9, 16, 25],\n",
       "  5: ['even', 'C', 'S', 'K', 'even'],\n",
       "  6: ['even', 'C', 'S', 'K', 'even'],\n",
       "  9: [0, 2, 4, 6, 8, 10],\n",
       "  10: [0, 2, 4, 6, 8, 10],\n",
       "  11: 4,\n",
       "  12: 4,\n",
       "  13: 4,\n",
       "  14: <function __main__.<lambda>(num)>,\n",
       "  15: <function __main__.<lambda>(num)>,\n",
       "  16: 4,\n",
       "  17: [1, 4, 9, 16, 25],\n",
       "  18: [1, 4, 9, 16, 25],\n",
       "  19: [0, 2, 4, 6, 8, 10],\n",
       "  20: [1, 4, 9, 16, 25],\n",
       "  21: [1, 4, 9, 16, 25],\n",
       "  22: [0, 2, 4, 6, 8, 10],\n",
       "  23: <function __main__.<lambda>(s)>,\n",
       "  24: <function __main__.<lambda>(s)>,\n",
       "  25: <function __main__.<lambda>(x, y)>,\n",
       "  29: <function len(obj, /)>,\n",
       "  32: 2},\n",
       " '_dh': ['C:\\\\Users\\\\Gin\\\\Desktop\\\\PYTHON\\\\Python - Zero-2-Hero'],\n",
       " 'In': ['',\n",
       "  'map(myfunc,myiterable_object) # Basically its say apply this function to every iterable item in the iterable object',\n",
       "  'def myfunc(num):\\n    return num**2\\n\\nmyiterable_object = [1,2,3,4,5]\\n\\nmap(myfunc,myiterable_object) # Basically its say apply this function to every iterable item in the iterable object\\n\\n# To get the results, either iterate through map() \\n# or just cast to a list\\nlist(map(myfunc,myiterable_object))',\n",
       "  'def myfunc(num):\\n    return num**2\\n\\nmyiterable_object = [1,2,3,4,5]\\n\\nmap(myfunc,myiterable_object) # Basically its say apply this function to every iterable item in the iterable object\\n\\n# To get the results, either iterate through map() \\n# or just cast to a list\\n\\nlist(map(myfunc,myiterable_object))',\n",
       "  'The functions can also be more complex',\n",
       "  \"def splicer(mystring):\\n    if len(mystring) % 2 == 0:\\n        return 'even'\\n    else:\\n        return mystring[0]\\n    \\n# Here the function defined will interate with a string\\n\\nmynames = ['John','Cindy','Sarah','Kelly','Mike'] # but then we have a list of string\\n\\n# and we use the map function to apply that function to every item/string in the list of strings, and return it's result as a list\\n\\nlist(map(splicer,mynames))\",\n",
       "  \"def splicer(mystring):\\n    if len(mystring) % 2 == 0:\\n        return 'even'\\n    else:\\n        return mystring[0]\\n    \\n# Here the function defined will interate with a string\\n\\nmynames = ['John','Cindy','Sarah','Kelly','Mike'] # but then we have a list of string\\n\\n# and we use the map function to apply that function to every item/string in the list of strings, \\n# and return it's result as a list\\n\\nlist(map(splicer,mynames))\",\n",
       "  '## filter function\\n\\nThe filter function returns an iterator yielding those items of iterable for which function(item)\\nis true. Meaning you need to filter by a function that returns either True or False. Then passing that into filter (along with your iterable) and you will get back only the results that would return True when passed to the function.',\n",
       "  'def check_even(num):\\n    return num % 2 == 0 ',\n",
       "  'def check_even(num):\\n    return num % 2 == 0 # functions that returns a True or False result\\n\\nnums = [0,1,2,3,4,5,6,7,8,9,10] # iterable object through which the FILTER will apply a function\\n\\nlist(filter(check_even,nums)) # again, my iterate through the Filter or make a list of it',\n",
       "  'def check_even(num):\\n    return num % 2 == 0 # functions that returns a True or False result\\n\\nnums = [0,1,2,3,4,5,6,7,8,9,10] # iterable object through which the FILTER will apply a function\\n\\nlist(filter(check_even,nums)) # again, my iterate through the Filter or make a list of it\\n\\n#and below it returns only those items that returned True when the function was applied to them',\n",
       "  'def square(num):\\n    result = num**2\\n    return result\\n\\nsquare(2)',\n",
       "  '# We could simplify it:\\ndef square(num):\\n    return num**2\\n\\nsquare(2)',\n",
       "  '# We could actually even write this all on one line.\\ndef square(num): return num**2\\n\\nsquare(2)',\n",
       "  '# This is the form a function that a lambda expression intends to replicate. A lambda expression can then be written as:\\n\\nlambda num: num ** 2',\n",
       "  '# This is the form a function that a lambda expression intends to replicate. A lambda expression can then be written as:\\n\\nlambda num: num ** 2\\n\\n# \"lambda\" replaces the \"def\" and needs no name for it,\\n# the first \"num\" defines the item that would normally go between ()\\n# then the :\\n# then the expected return without the need to type \"return\"',\n",
       "  \"# You wouldn't usually assign a name to a lambda expression, this is just for demonstration!\\nsquare = lambda num: num **2\\n\\nsquare (2)\",\n",
       "  'list(map(lambda num: num ** 2, myiterable_object))',\n",
       "  'list(map(lambda item: item ** 2, myiterable_object))',\n",
       "  'list(filter(lambda n: n % 2 == 0,nums))',\n",
       "  'list(map(lambda item: item ** 2, myiterable_object))\\n# this will make a LIST \\n# that contains the MAPPING of an unnamed function (lambda) \\n# applied to every iterable part of an object',\n",
       "  'list(map(lambda item: item ** 2, myiterable_object))\\n# this will make a LIST \\n# that contains the MAPPING of an unnamed function (lambda) \\n# applied to every iterable part of an iterable object',\n",
       "  'list(filter(lambda n: n % 2 == 0,nums))\\n# this will make a LIST \\n# that contains the FILTERED the parts of an iterable object\\n# that returned TRUE when an unnamed function (lambda) was applied to that part',\n",
       "  '# ** Lambda expression for grabbing the first character of a string: **\\nlambda s: s[0]',\n",
       "  '# ** Lambda expression for reversing a string: **\\nlambda s: s[::-1]',\n",
       "  '# You can even pass in multiple arguments into a lambda expression. Again, keep in mind that not every function can be translated into a lambda expression.\\nlambda x,y : x + y',\n",
       "  '# x is local here:\\nf = lambda x:x**2',\n",
       "  \"name = 'This is a global name'\\n\\ndef greet():\\n    # Enclosing function\\n    name = 'Sammy'\\n    \\n    def hello():\\n        print('Hello '+name)\\n    \\n    hello()\\n\\ngreet()\",\n",
       "  'print(name)',\n",
       "  'len',\n",
       "  \"x = 50\\n\\ndef func(x):\\n    print('x is', x)\\n    x = 2\\n    print('Changed local x to', x)\\n\\nfunc(x)\\nprint('x is still', x)\",\n",
       "  \"x = 50\\n\\ndef func():\\n    global x\\n    print('This function is now using the global x!')\\n    print('Because of global x is: ', x)\\n    x = 2\\n    print('Ran func(), changed global x to', x)\\n\\nprint('Before calling func(), x is: ', x)\\nfunc()\\nprint('Value of x (outside of func()) is: ', x)\",\n",
       "  'x',\n",
       "  'The <code>global</code> statement is used to declare that **x** is a global variable - hence, when we assign a value to **x** inside the function, that change is reflected when we use the value of **x** in the main block.\\n\\nYou can specify more than one global variable using the same global statement e.g. <code>global x, y, z</code>.',\n",
       "  '## Conclusion\\nYou should now have a good understanding of Scope (you may have already intuitively felt right about Scope which is great!) One last mention is that you can use the **globals()** and **locals()** functions to check what are your current local and global variables.\\n\\nAnother thing to keep in mind is that everything in Python is an object! I can assign variables to functions just like I can with numbers! We will go over this again in the decorator section of the course!',\n",
       "  'global(name)',\n",
       "  'globals(name)',\n",
       "  'global(name)',\n",
       "  'global(x)',\n",
       "  'globals(x)',\n",
       "  'globals()'],\n",
       " 'Out': {2: [1, 4, 9, 16, 25],\n",
       "  3: [1, 4, 9, 16, 25],\n",
       "  5: ['even', 'C', 'S', 'K', 'even'],\n",
       "  6: ['even', 'C', 'S', 'K', 'even'],\n",
       "  9: [0, 2, 4, 6, 8, 10],\n",
       "  10: [0, 2, 4, 6, 8, 10],\n",
       "  11: 4,\n",
       "  12: 4,\n",
       "  13: 4,\n",
       "  14: <function __main__.<lambda>(num)>,\n",
       "  15: <function __main__.<lambda>(num)>,\n",
       "  16: 4,\n",
       "  17: [1, 4, 9, 16, 25],\n",
       "  18: [1, 4, 9, 16, 25],\n",
       "  19: [0, 2, 4, 6, 8, 10],\n",
       "  20: [1, 4, 9, 16, 25],\n",
       "  21: [1, 4, 9, 16, 25],\n",
       "  22: [0, 2, 4, 6, 8, 10],\n",
       "  23: <function __main__.<lambda>(s)>,\n",
       "  24: <function __main__.<lambda>(s)>,\n",
       "  25: <function __main__.<lambda>(x, y)>,\n",
       "  29: <function len(obj, /)>,\n",
       "  32: 2},\n",
       " 'get_ipython': <bound method InteractiveShell.get_ipython of <ipykernel.zmqshell.ZMQInteractiveShell object at 0x0000025ABDF7D580>>,\n",
       " 'exit': <IPython.core.autocall.ZMQExitAutocall at 0x25abdfd17c0>,\n",
       " 'quit': <IPython.core.autocall.ZMQExitAutocall at 0x25abdfd17c0>,\n",
       " '_': 2,\n",
       " '__': <function len(obj, /)>,\n",
       " '___': <function __main__.<lambda>(x, y)>,\n",
       " '_i': 'globals(x)',\n",
       " '_ii': 'global(x)',\n",
       " '_iii': 'global(name)',\n",
       " '_i1': 'map(myfunc,myiterable_object) # Basically its say apply this function to every iterable item in the iterable object',\n",
       " '_i2': 'def myfunc(num):\\n    return num**2\\n\\nmyiterable_object = [1,2,3,4,5]\\n\\nmap(myfunc,myiterable_object) # Basically its say apply this function to every iterable item in the iterable object\\n\\n# To get the results, either iterate through map() \\n# or just cast to a list\\nlist(map(myfunc,myiterable_object))',\n",
       " 'myfunc': <function __main__.myfunc(num)>,\n",
       " 'myiterable_object': [1, 2, 3, 4, 5],\n",
       " '_2': [1, 4, 9, 16, 25],\n",
       " '_i3': 'def myfunc(num):\\n    return num**2\\n\\nmyiterable_object = [1,2,3,4,5]\\n\\nmap(myfunc,myiterable_object) # Basically its say apply this function to every iterable item in the iterable object\\n\\n# To get the results, either iterate through map() \\n# or just cast to a list\\n\\nlist(map(myfunc,myiterable_object))',\n",
       " '_3': [1, 4, 9, 16, 25],\n",
       " '_i4': 'The functions can also be more complex',\n",
       " '_i5': \"def splicer(mystring):\\n    if len(mystring) % 2 == 0:\\n        return 'even'\\n    else:\\n        return mystring[0]\\n    \\n# Here the function defined will interate with a string\\n\\nmynames = ['John','Cindy','Sarah','Kelly','Mike'] # but then we have a list of string\\n\\n# and we use the map function to apply that function to every item/string in the list of strings, and return it's result as a list\\n\\nlist(map(splicer,mynames))\",\n",
       " 'splicer': <function __main__.splicer(mystring)>,\n",
       " 'mynames': ['John', 'Cindy', 'Sarah', 'Kelly', 'Mike'],\n",
       " '_5': ['even', 'C', 'S', 'K', 'even'],\n",
       " '_i6': \"def splicer(mystring):\\n    if len(mystring) % 2 == 0:\\n        return 'even'\\n    else:\\n        return mystring[0]\\n    \\n# Here the function defined will interate with a string\\n\\nmynames = ['John','Cindy','Sarah','Kelly','Mike'] # but then we have a list of string\\n\\n# and we use the map function to apply that function to every item/string in the list of strings, \\n# and return it's result as a list\\n\\nlist(map(splicer,mynames))\",\n",
       " '_6': ['even', 'C', 'S', 'K', 'even'],\n",
       " '_i7': '## filter function\\n\\nThe filter function returns an iterator yielding those items of iterable for which function(item)\\nis true. Meaning you need to filter by a function that returns either True or False. Then passing that into filter (along with your iterable) and you will get back only the results that would return True when passed to the function.',\n",
       " '_i8': 'def check_even(num):\\n    return num % 2 == 0 ',\n",
       " 'check_even': <function __main__.check_even(num)>,\n",
       " '_i9': 'def check_even(num):\\n    return num % 2 == 0 # functions that returns a True or False result\\n\\nnums = [0,1,2,3,4,5,6,7,8,9,10] # iterable object through which the FILTER will apply a function\\n\\nlist(filter(check_even,nums)) # again, my iterate through the Filter or make a list of it',\n",
       " 'nums': [0, 1, 2, 3, 4, 5, 6, 7, 8, 9, 10],\n",
       " '_9': [0, 2, 4, 6, 8, 10],\n",
       " '_i10': 'def check_even(num):\\n    return num % 2 == 0 # functions that returns a True or False result\\n\\nnums = [0,1,2,3,4,5,6,7,8,9,10] # iterable object through which the FILTER will apply a function\\n\\nlist(filter(check_even,nums)) # again, my iterate through the Filter or make a list of it\\n\\n#and below it returns only those items that returned True when the function was applied to them',\n",
       " '_10': [0, 2, 4, 6, 8, 10],\n",
       " '_i11': 'def square(num):\\n    result = num**2\\n    return result\\n\\nsquare(2)',\n",
       " 'square': <function __main__.<lambda>(num)>,\n",
       " '_11': 4,\n",
       " '_i12': '# We could simplify it:\\ndef square(num):\\n    return num**2\\n\\nsquare(2)',\n",
       " '_12': 4,\n",
       " '_i13': '# We could actually even write this all on one line.\\ndef square(num): return num**2\\n\\nsquare(2)',\n",
       " '_13': 4,\n",
       " '_i14': '# This is the form a function that a lambda expression intends to replicate. A lambda expression can then be written as:\\n\\nlambda num: num ** 2',\n",
       " '_14': <function __main__.<lambda>(num)>,\n",
       " '_i15': '# This is the form a function that a lambda expression intends to replicate. A lambda expression can then be written as:\\n\\nlambda num: num ** 2\\n\\n# \"lambda\" replaces the \"def\" and needs no name for it,\\n# the first \"num\" defines the item that would normally go between ()\\n# then the :\\n# then the expected return without the need to type \"return\"',\n",
       " '_15': <function __main__.<lambda>(num)>,\n",
       " '_i16': \"# You wouldn't usually assign a name to a lambda expression, this is just for demonstration!\\nsquare = lambda num: num **2\\n\\nsquare (2)\",\n",
       " '_16': 4,\n",
       " '_i17': 'list(map(lambda num: num ** 2, myiterable_object))',\n",
       " '_17': [1, 4, 9, 16, 25],\n",
       " '_i18': 'list(map(lambda item: item ** 2, myiterable_object))',\n",
       " '_18': [1, 4, 9, 16, 25],\n",
       " '_i19': 'list(filter(lambda n: n % 2 == 0,nums))',\n",
       " '_19': [0, 2, 4, 6, 8, 10],\n",
       " '_i20': 'list(map(lambda item: item ** 2, myiterable_object))\\n# this will make a LIST \\n# that contains the MAPPING of an unnamed function (lambda) \\n# applied to every iterable part of an object',\n",
       " '_20': [1, 4, 9, 16, 25],\n",
       " '_i21': 'list(map(lambda item: item ** 2, myiterable_object))\\n# this will make a LIST \\n# that contains the MAPPING of an unnamed function (lambda) \\n# applied to every iterable part of an iterable object',\n",
       " '_21': [1, 4, 9, 16, 25],\n",
       " '_i22': 'list(filter(lambda n: n % 2 == 0,nums))\\n# this will make a LIST \\n# that contains the FILTERED the parts of an iterable object\\n# that returned TRUE when an unnamed function (lambda) was applied to that part',\n",
       " '_22': [0, 2, 4, 6, 8, 10],\n",
       " '_i23': '# ** Lambda expression for grabbing the first character of a string: **\\nlambda s: s[0]',\n",
       " '_23': <function __main__.<lambda>(s)>,\n",
       " '_i24': '# ** Lambda expression for reversing a string: **\\nlambda s: s[::-1]',\n",
       " '_24': <function __main__.<lambda>(s)>,\n",
       " '_i25': '# You can even pass in multiple arguments into a lambda expression. Again, keep in mind that not every function can be translated into a lambda expression.\\nlambda x,y : x + y',\n",
       " '_25': <function __main__.<lambda>(x, y)>,\n",
       " '_i26': '# x is local here:\\nf = lambda x:x**2',\n",
       " 'f': <function __main__.<lambda>(x)>,\n",
       " '_i27': \"name = 'This is a global name'\\n\\ndef greet():\\n    # Enclosing function\\n    name = 'Sammy'\\n    \\n    def hello():\\n        print('Hello '+name)\\n    \\n    hello()\\n\\ngreet()\",\n",
       " 'name': 'This is a global name',\n",
       " 'greet': <function __main__.greet()>,\n",
       " '_i28': 'print(name)',\n",
       " '_i29': 'len',\n",
       " '_29': <function len(obj, /)>,\n",
       " '_i30': \"x = 50\\n\\ndef func(x):\\n    print('x is', x)\\n    x = 2\\n    print('Changed local x to', x)\\n\\nfunc(x)\\nprint('x is still', x)\",\n",
       " 'x': 2,\n",
       " 'func': <function __main__.func()>,\n",
       " '_i31': \"x = 50\\n\\ndef func():\\n    global x\\n    print('This function is now using the global x!')\\n    print('Because of global x is: ', x)\\n    x = 2\\n    print('Ran func(), changed global x to', x)\\n\\nprint('Before calling func(), x is: ', x)\\nfunc()\\nprint('Value of x (outside of func()) is: ', x)\",\n",
       " '_i32': 'x',\n",
       " '_32': 2,\n",
       " '_i33': 'The <code>global</code> statement is used to declare that **x** is a global variable - hence, when we assign a value to **x** inside the function, that change is reflected when we use the value of **x** in the main block.\\n\\nYou can specify more than one global variable using the same global statement e.g. <code>global x, y, z</code>.',\n",
       " '_i34': '## Conclusion\\nYou should now have a good understanding of Scope (you may have already intuitively felt right about Scope which is great!) One last mention is that you can use the **globals()** and **locals()** functions to check what are your current local and global variables.\\n\\nAnother thing to keep in mind is that everything in Python is an object! I can assign variables to functions just like I can with numbers! We will go over this again in the decorator section of the course!',\n",
       " '_i35': 'global(name)',\n",
       " '_i36': 'globals(name)',\n",
       " '_i37': 'global(name)',\n",
       " '_i38': 'global(x)',\n",
       " '_i39': 'globals(x)',\n",
       " '_i40': 'globals()'}"
      ]
     },
     "execution_count": 40,
     "metadata": {},
     "output_type": "execute_result"
    }
   ],
   "source": [
    "globals()"
   ]
  },
  {
   "cell_type": "code",
   "execution_count": 41,
   "id": "1c48c960",
   "metadata": {},
   "outputs": [
    {
     "data": {
      "text/plain": [
       "{'__name__': '__main__',\n",
       " '__doc__': 'Automatically created module for IPython interactive environment',\n",
       " '__package__': None,\n",
       " '__loader__': None,\n",
       " '__spec__': None,\n",
       " '__builtin__': <module 'builtins' (built-in)>,\n",
       " '__builtins__': <module 'builtins' (built-in)>,\n",
       " '_ih': ['',\n",
       "  'map(myfunc,myiterable_object) # Basically its say apply this function to every iterable item in the iterable object',\n",
       "  'def myfunc(num):\\n    return num**2\\n\\nmyiterable_object = [1,2,3,4,5]\\n\\nmap(myfunc,myiterable_object) # Basically its say apply this function to every iterable item in the iterable object\\n\\n# To get the results, either iterate through map() \\n# or just cast to a list\\nlist(map(myfunc,myiterable_object))',\n",
       "  'def myfunc(num):\\n    return num**2\\n\\nmyiterable_object = [1,2,3,4,5]\\n\\nmap(myfunc,myiterable_object) # Basically its say apply this function to every iterable item in the iterable object\\n\\n# To get the results, either iterate through map() \\n# or just cast to a list\\n\\nlist(map(myfunc,myiterable_object))',\n",
       "  'The functions can also be more complex',\n",
       "  \"def splicer(mystring):\\n    if len(mystring) % 2 == 0:\\n        return 'even'\\n    else:\\n        return mystring[0]\\n    \\n# Here the function defined will interate with a string\\n\\nmynames = ['John','Cindy','Sarah','Kelly','Mike'] # but then we have a list of string\\n\\n# and we use the map function to apply that function to every item/string in the list of strings, and return it's result as a list\\n\\nlist(map(splicer,mynames))\",\n",
       "  \"def splicer(mystring):\\n    if len(mystring) % 2 == 0:\\n        return 'even'\\n    else:\\n        return mystring[0]\\n    \\n# Here the function defined will interate with a string\\n\\nmynames = ['John','Cindy','Sarah','Kelly','Mike'] # but then we have a list of string\\n\\n# and we use the map function to apply that function to every item/string in the list of strings, \\n# and return it's result as a list\\n\\nlist(map(splicer,mynames))\",\n",
       "  '## filter function\\n\\nThe filter function returns an iterator yielding those items of iterable for which function(item)\\nis true. Meaning you need to filter by a function that returns either True or False. Then passing that into filter (along with your iterable) and you will get back only the results that would return True when passed to the function.',\n",
       "  'def check_even(num):\\n    return num % 2 == 0 ',\n",
       "  'def check_even(num):\\n    return num % 2 == 0 # functions that returns a True or False result\\n\\nnums = [0,1,2,3,4,5,6,7,8,9,10] # iterable object through which the FILTER will apply a function\\n\\nlist(filter(check_even,nums)) # again, my iterate through the Filter or make a list of it',\n",
       "  'def check_even(num):\\n    return num % 2 == 0 # functions that returns a True or False result\\n\\nnums = [0,1,2,3,4,5,6,7,8,9,10] # iterable object through which the FILTER will apply a function\\n\\nlist(filter(check_even,nums)) # again, my iterate through the Filter or make a list of it\\n\\n#and below it returns only those items that returned True when the function was applied to them',\n",
       "  'def square(num):\\n    result = num**2\\n    return result\\n\\nsquare(2)',\n",
       "  '# We could simplify it:\\ndef square(num):\\n    return num**2\\n\\nsquare(2)',\n",
       "  '# We could actually even write this all on one line.\\ndef square(num): return num**2\\n\\nsquare(2)',\n",
       "  '# This is the form a function that a lambda expression intends to replicate. A lambda expression can then be written as:\\n\\nlambda num: num ** 2',\n",
       "  '# This is the form a function that a lambda expression intends to replicate. A lambda expression can then be written as:\\n\\nlambda num: num ** 2\\n\\n# \"lambda\" replaces the \"def\" and needs no name for it,\\n# the first \"num\" defines the item that would normally go between ()\\n# then the :\\n# then the expected return without the need to type \"return\"',\n",
       "  \"# You wouldn't usually assign a name to a lambda expression, this is just for demonstration!\\nsquare = lambda num: num **2\\n\\nsquare (2)\",\n",
       "  'list(map(lambda num: num ** 2, myiterable_object))',\n",
       "  'list(map(lambda item: item ** 2, myiterable_object))',\n",
       "  'list(filter(lambda n: n % 2 == 0,nums))',\n",
       "  'list(map(lambda item: item ** 2, myiterable_object))\\n# this will make a LIST \\n# that contains the MAPPING of an unnamed function (lambda) \\n# applied to every iterable part of an object',\n",
       "  'list(map(lambda item: item ** 2, myiterable_object))\\n# this will make a LIST \\n# that contains the MAPPING of an unnamed function (lambda) \\n# applied to every iterable part of an iterable object',\n",
       "  'list(filter(lambda n: n % 2 == 0,nums))\\n# this will make a LIST \\n# that contains the FILTERED the parts of an iterable object\\n# that returned TRUE when an unnamed function (lambda) was applied to that part',\n",
       "  '# ** Lambda expression for grabbing the first character of a string: **\\nlambda s: s[0]',\n",
       "  '# ** Lambda expression for reversing a string: **\\nlambda s: s[::-1]',\n",
       "  '# You can even pass in multiple arguments into a lambda expression. Again, keep in mind that not every function can be translated into a lambda expression.\\nlambda x,y : x + y',\n",
       "  '# x is local here:\\nf = lambda x:x**2',\n",
       "  \"name = 'This is a global name'\\n\\ndef greet():\\n    # Enclosing function\\n    name = 'Sammy'\\n    \\n    def hello():\\n        print('Hello '+name)\\n    \\n    hello()\\n\\ngreet()\",\n",
       "  'print(name)',\n",
       "  'len',\n",
       "  \"x = 50\\n\\ndef func(x):\\n    print('x is', x)\\n    x = 2\\n    print('Changed local x to', x)\\n\\nfunc(x)\\nprint('x is still', x)\",\n",
       "  \"x = 50\\n\\ndef func():\\n    global x\\n    print('This function is now using the global x!')\\n    print('Because of global x is: ', x)\\n    x = 2\\n    print('Ran func(), changed global x to', x)\\n\\nprint('Before calling func(), x is: ', x)\\nfunc()\\nprint('Value of x (outside of func()) is: ', x)\",\n",
       "  'x',\n",
       "  'The <code>global</code> statement is used to declare that **x** is a global variable - hence, when we assign a value to **x** inside the function, that change is reflected when we use the value of **x** in the main block.\\n\\nYou can specify more than one global variable using the same global statement e.g. <code>global x, y, z</code>.',\n",
       "  '## Conclusion\\nYou should now have a good understanding of Scope (you may have already intuitively felt right about Scope which is great!) One last mention is that you can use the **globals()** and **locals()** functions to check what are your current local and global variables.\\n\\nAnother thing to keep in mind is that everything in Python is an object! I can assign variables to functions just like I can with numbers! We will go over this again in the decorator section of the course!',\n",
       "  'global(name)',\n",
       "  'globals(name)',\n",
       "  'global(name)',\n",
       "  'global(x)',\n",
       "  'globals(x)',\n",
       "  'globals()',\n",
       "  'locals()'],\n",
       " '_oh': {2: [1, 4, 9, 16, 25],\n",
       "  3: [1, 4, 9, 16, 25],\n",
       "  5: ['even', 'C', 'S', 'K', 'even'],\n",
       "  6: ['even', 'C', 'S', 'K', 'even'],\n",
       "  9: [0, 2, 4, 6, 8, 10],\n",
       "  10: [0, 2, 4, 6, 8, 10],\n",
       "  11: 4,\n",
       "  12: 4,\n",
       "  13: 4,\n",
       "  14: <function __main__.<lambda>(num)>,\n",
       "  15: <function __main__.<lambda>(num)>,\n",
       "  16: 4,\n",
       "  17: [1, 4, 9, 16, 25],\n",
       "  18: [1, 4, 9, 16, 25],\n",
       "  19: [0, 2, 4, 6, 8, 10],\n",
       "  20: [1, 4, 9, 16, 25],\n",
       "  21: [1, 4, 9, 16, 25],\n",
       "  22: [0, 2, 4, 6, 8, 10],\n",
       "  23: <function __main__.<lambda>(s)>,\n",
       "  24: <function __main__.<lambda>(s)>,\n",
       "  25: <function __main__.<lambda>(x, y)>,\n",
       "  29: <function len(obj, /)>,\n",
       "  32: 2,\n",
       "  40: {...}},\n",
       " '_dh': ['C:\\\\Users\\\\Gin\\\\Desktop\\\\PYTHON\\\\Python - Zero-2-Hero'],\n",
       " 'In': ['',\n",
       "  'map(myfunc,myiterable_object) # Basically its say apply this function to every iterable item in the iterable object',\n",
       "  'def myfunc(num):\\n    return num**2\\n\\nmyiterable_object = [1,2,3,4,5]\\n\\nmap(myfunc,myiterable_object) # Basically its say apply this function to every iterable item in the iterable object\\n\\n# To get the results, either iterate through map() \\n# or just cast to a list\\nlist(map(myfunc,myiterable_object))',\n",
       "  'def myfunc(num):\\n    return num**2\\n\\nmyiterable_object = [1,2,3,4,5]\\n\\nmap(myfunc,myiterable_object) # Basically its say apply this function to every iterable item in the iterable object\\n\\n# To get the results, either iterate through map() \\n# or just cast to a list\\n\\nlist(map(myfunc,myiterable_object))',\n",
       "  'The functions can also be more complex',\n",
       "  \"def splicer(mystring):\\n    if len(mystring) % 2 == 0:\\n        return 'even'\\n    else:\\n        return mystring[0]\\n    \\n# Here the function defined will interate with a string\\n\\nmynames = ['John','Cindy','Sarah','Kelly','Mike'] # but then we have a list of string\\n\\n# and we use the map function to apply that function to every item/string in the list of strings, and return it's result as a list\\n\\nlist(map(splicer,mynames))\",\n",
       "  \"def splicer(mystring):\\n    if len(mystring) % 2 == 0:\\n        return 'even'\\n    else:\\n        return mystring[0]\\n    \\n# Here the function defined will interate with a string\\n\\nmynames = ['John','Cindy','Sarah','Kelly','Mike'] # but then we have a list of string\\n\\n# and we use the map function to apply that function to every item/string in the list of strings, \\n# and return it's result as a list\\n\\nlist(map(splicer,mynames))\",\n",
       "  '## filter function\\n\\nThe filter function returns an iterator yielding those items of iterable for which function(item)\\nis true. Meaning you need to filter by a function that returns either True or False. Then passing that into filter (along with your iterable) and you will get back only the results that would return True when passed to the function.',\n",
       "  'def check_even(num):\\n    return num % 2 == 0 ',\n",
       "  'def check_even(num):\\n    return num % 2 == 0 # functions that returns a True or False result\\n\\nnums = [0,1,2,3,4,5,6,7,8,9,10] # iterable object through which the FILTER will apply a function\\n\\nlist(filter(check_even,nums)) # again, my iterate through the Filter or make a list of it',\n",
       "  'def check_even(num):\\n    return num % 2 == 0 # functions that returns a True or False result\\n\\nnums = [0,1,2,3,4,5,6,7,8,9,10] # iterable object through which the FILTER will apply a function\\n\\nlist(filter(check_even,nums)) # again, my iterate through the Filter or make a list of it\\n\\n#and below it returns only those items that returned True when the function was applied to them',\n",
       "  'def square(num):\\n    result = num**2\\n    return result\\n\\nsquare(2)',\n",
       "  '# We could simplify it:\\ndef square(num):\\n    return num**2\\n\\nsquare(2)',\n",
       "  '# We could actually even write this all on one line.\\ndef square(num): return num**2\\n\\nsquare(2)',\n",
       "  '# This is the form a function that a lambda expression intends to replicate. A lambda expression can then be written as:\\n\\nlambda num: num ** 2',\n",
       "  '# This is the form a function that a lambda expression intends to replicate. A lambda expression can then be written as:\\n\\nlambda num: num ** 2\\n\\n# \"lambda\" replaces the \"def\" and needs no name for it,\\n# the first \"num\" defines the item that would normally go between ()\\n# then the :\\n# then the expected return without the need to type \"return\"',\n",
       "  \"# You wouldn't usually assign a name to a lambda expression, this is just for demonstration!\\nsquare = lambda num: num **2\\n\\nsquare (2)\",\n",
       "  'list(map(lambda num: num ** 2, myiterable_object))',\n",
       "  'list(map(lambda item: item ** 2, myiterable_object))',\n",
       "  'list(filter(lambda n: n % 2 == 0,nums))',\n",
       "  'list(map(lambda item: item ** 2, myiterable_object))\\n# this will make a LIST \\n# that contains the MAPPING of an unnamed function (lambda) \\n# applied to every iterable part of an object',\n",
       "  'list(map(lambda item: item ** 2, myiterable_object))\\n# this will make a LIST \\n# that contains the MAPPING of an unnamed function (lambda) \\n# applied to every iterable part of an iterable object',\n",
       "  'list(filter(lambda n: n % 2 == 0,nums))\\n# this will make a LIST \\n# that contains the FILTERED the parts of an iterable object\\n# that returned TRUE when an unnamed function (lambda) was applied to that part',\n",
       "  '# ** Lambda expression for grabbing the first character of a string: **\\nlambda s: s[0]',\n",
       "  '# ** Lambda expression for reversing a string: **\\nlambda s: s[::-1]',\n",
       "  '# You can even pass in multiple arguments into a lambda expression. Again, keep in mind that not every function can be translated into a lambda expression.\\nlambda x,y : x + y',\n",
       "  '# x is local here:\\nf = lambda x:x**2',\n",
       "  \"name = 'This is a global name'\\n\\ndef greet():\\n    # Enclosing function\\n    name = 'Sammy'\\n    \\n    def hello():\\n        print('Hello '+name)\\n    \\n    hello()\\n\\ngreet()\",\n",
       "  'print(name)',\n",
       "  'len',\n",
       "  \"x = 50\\n\\ndef func(x):\\n    print('x is', x)\\n    x = 2\\n    print('Changed local x to', x)\\n\\nfunc(x)\\nprint('x is still', x)\",\n",
       "  \"x = 50\\n\\ndef func():\\n    global x\\n    print('This function is now using the global x!')\\n    print('Because of global x is: ', x)\\n    x = 2\\n    print('Ran func(), changed global x to', x)\\n\\nprint('Before calling func(), x is: ', x)\\nfunc()\\nprint('Value of x (outside of func()) is: ', x)\",\n",
       "  'x',\n",
       "  'The <code>global</code> statement is used to declare that **x** is a global variable - hence, when we assign a value to **x** inside the function, that change is reflected when we use the value of **x** in the main block.\\n\\nYou can specify more than one global variable using the same global statement e.g. <code>global x, y, z</code>.',\n",
       "  '## Conclusion\\nYou should now have a good understanding of Scope (you may have already intuitively felt right about Scope which is great!) One last mention is that you can use the **globals()** and **locals()** functions to check what are your current local and global variables.\\n\\nAnother thing to keep in mind is that everything in Python is an object! I can assign variables to functions just like I can with numbers! We will go over this again in the decorator section of the course!',\n",
       "  'global(name)',\n",
       "  'globals(name)',\n",
       "  'global(name)',\n",
       "  'global(x)',\n",
       "  'globals(x)',\n",
       "  'globals()',\n",
       "  'locals()'],\n",
       " 'Out': {2: [1, 4, 9, 16, 25],\n",
       "  3: [1, 4, 9, 16, 25],\n",
       "  5: ['even', 'C', 'S', 'K', 'even'],\n",
       "  6: ['even', 'C', 'S', 'K', 'even'],\n",
       "  9: [0, 2, 4, 6, 8, 10],\n",
       "  10: [0, 2, 4, 6, 8, 10],\n",
       "  11: 4,\n",
       "  12: 4,\n",
       "  13: 4,\n",
       "  14: <function __main__.<lambda>(num)>,\n",
       "  15: <function __main__.<lambda>(num)>,\n",
       "  16: 4,\n",
       "  17: [1, 4, 9, 16, 25],\n",
       "  18: [1, 4, 9, 16, 25],\n",
       "  19: [0, 2, 4, 6, 8, 10],\n",
       "  20: [1, 4, 9, 16, 25],\n",
       "  21: [1, 4, 9, 16, 25],\n",
       "  22: [0, 2, 4, 6, 8, 10],\n",
       "  23: <function __main__.<lambda>(s)>,\n",
       "  24: <function __main__.<lambda>(s)>,\n",
       "  25: <function __main__.<lambda>(x, y)>,\n",
       "  29: <function len(obj, /)>,\n",
       "  32: 2,\n",
       "  40: {...}},\n",
       " 'get_ipython': <bound method InteractiveShell.get_ipython of <ipykernel.zmqshell.ZMQInteractiveShell object at 0x0000025ABDF7D580>>,\n",
       " 'exit': <IPython.core.autocall.ZMQExitAutocall at 0x25abdfd17c0>,\n",
       " 'quit': <IPython.core.autocall.ZMQExitAutocall at 0x25abdfd17c0>,\n",
       " '_': {...},\n",
       " '__': 2,\n",
       " '___': <function len(obj, /)>,\n",
       " '_i': 'globals()',\n",
       " '_ii': 'globals(x)',\n",
       " '_iii': 'global(x)',\n",
       " '_i1': 'map(myfunc,myiterable_object) # Basically its say apply this function to every iterable item in the iterable object',\n",
       " '_i2': 'def myfunc(num):\\n    return num**2\\n\\nmyiterable_object = [1,2,3,4,5]\\n\\nmap(myfunc,myiterable_object) # Basically its say apply this function to every iterable item in the iterable object\\n\\n# To get the results, either iterate through map() \\n# or just cast to a list\\nlist(map(myfunc,myiterable_object))',\n",
       " 'myfunc': <function __main__.myfunc(num)>,\n",
       " 'myiterable_object': [1, 2, 3, 4, 5],\n",
       " '_2': [1, 4, 9, 16, 25],\n",
       " '_i3': 'def myfunc(num):\\n    return num**2\\n\\nmyiterable_object = [1,2,3,4,5]\\n\\nmap(myfunc,myiterable_object) # Basically its say apply this function to every iterable item in the iterable object\\n\\n# To get the results, either iterate through map() \\n# or just cast to a list\\n\\nlist(map(myfunc,myiterable_object))',\n",
       " '_3': [1, 4, 9, 16, 25],\n",
       " '_i4': 'The functions can also be more complex',\n",
       " '_i5': \"def splicer(mystring):\\n    if len(mystring) % 2 == 0:\\n        return 'even'\\n    else:\\n        return mystring[0]\\n    \\n# Here the function defined will interate with a string\\n\\nmynames = ['John','Cindy','Sarah','Kelly','Mike'] # but then we have a list of string\\n\\n# and we use the map function to apply that function to every item/string in the list of strings, and return it's result as a list\\n\\nlist(map(splicer,mynames))\",\n",
       " 'splicer': <function __main__.splicer(mystring)>,\n",
       " 'mynames': ['John', 'Cindy', 'Sarah', 'Kelly', 'Mike'],\n",
       " '_5': ['even', 'C', 'S', 'K', 'even'],\n",
       " '_i6': \"def splicer(mystring):\\n    if len(mystring) % 2 == 0:\\n        return 'even'\\n    else:\\n        return mystring[0]\\n    \\n# Here the function defined will interate with a string\\n\\nmynames = ['John','Cindy','Sarah','Kelly','Mike'] # but then we have a list of string\\n\\n# and we use the map function to apply that function to every item/string in the list of strings, \\n# and return it's result as a list\\n\\nlist(map(splicer,mynames))\",\n",
       " '_6': ['even', 'C', 'S', 'K', 'even'],\n",
       " '_i7': '## filter function\\n\\nThe filter function returns an iterator yielding those items of iterable for which function(item)\\nis true. Meaning you need to filter by a function that returns either True or False. Then passing that into filter (along with your iterable) and you will get back only the results that would return True when passed to the function.',\n",
       " '_i8': 'def check_even(num):\\n    return num % 2 == 0 ',\n",
       " 'check_even': <function __main__.check_even(num)>,\n",
       " '_i9': 'def check_even(num):\\n    return num % 2 == 0 # functions that returns a True or False result\\n\\nnums = [0,1,2,3,4,5,6,7,8,9,10] # iterable object through which the FILTER will apply a function\\n\\nlist(filter(check_even,nums)) # again, my iterate through the Filter or make a list of it',\n",
       " 'nums': [0, 1, 2, 3, 4, 5, 6, 7, 8, 9, 10],\n",
       " '_9': [0, 2, 4, 6, 8, 10],\n",
       " '_i10': 'def check_even(num):\\n    return num % 2 == 0 # functions that returns a True or False result\\n\\nnums = [0,1,2,3,4,5,6,7,8,9,10] # iterable object through which the FILTER will apply a function\\n\\nlist(filter(check_even,nums)) # again, my iterate through the Filter or make a list of it\\n\\n#and below it returns only those items that returned True when the function was applied to them',\n",
       " '_10': [0, 2, 4, 6, 8, 10],\n",
       " '_i11': 'def square(num):\\n    result = num**2\\n    return result\\n\\nsquare(2)',\n",
       " 'square': <function __main__.<lambda>(num)>,\n",
       " '_11': 4,\n",
       " '_i12': '# We could simplify it:\\ndef square(num):\\n    return num**2\\n\\nsquare(2)',\n",
       " '_12': 4,\n",
       " '_i13': '# We could actually even write this all on one line.\\ndef square(num): return num**2\\n\\nsquare(2)',\n",
       " '_13': 4,\n",
       " '_i14': '# This is the form a function that a lambda expression intends to replicate. A lambda expression can then be written as:\\n\\nlambda num: num ** 2',\n",
       " '_14': <function __main__.<lambda>(num)>,\n",
       " '_i15': '# This is the form a function that a lambda expression intends to replicate. A lambda expression can then be written as:\\n\\nlambda num: num ** 2\\n\\n# \"lambda\" replaces the \"def\" and needs no name for it,\\n# the first \"num\" defines the item that would normally go between ()\\n# then the :\\n# then the expected return without the need to type \"return\"',\n",
       " '_15': <function __main__.<lambda>(num)>,\n",
       " '_i16': \"# You wouldn't usually assign a name to a lambda expression, this is just for demonstration!\\nsquare = lambda num: num **2\\n\\nsquare (2)\",\n",
       " '_16': 4,\n",
       " '_i17': 'list(map(lambda num: num ** 2, myiterable_object))',\n",
       " '_17': [1, 4, 9, 16, 25],\n",
       " '_i18': 'list(map(lambda item: item ** 2, myiterable_object))',\n",
       " '_18': [1, 4, 9, 16, 25],\n",
       " '_i19': 'list(filter(lambda n: n % 2 == 0,nums))',\n",
       " '_19': [0, 2, 4, 6, 8, 10],\n",
       " '_i20': 'list(map(lambda item: item ** 2, myiterable_object))\\n# this will make a LIST \\n# that contains the MAPPING of an unnamed function (lambda) \\n# applied to every iterable part of an object',\n",
       " '_20': [1, 4, 9, 16, 25],\n",
       " '_i21': 'list(map(lambda item: item ** 2, myiterable_object))\\n# this will make a LIST \\n# that contains the MAPPING of an unnamed function (lambda) \\n# applied to every iterable part of an iterable object',\n",
       " '_21': [1, 4, 9, 16, 25],\n",
       " '_i22': 'list(filter(lambda n: n % 2 == 0,nums))\\n# this will make a LIST \\n# that contains the FILTERED the parts of an iterable object\\n# that returned TRUE when an unnamed function (lambda) was applied to that part',\n",
       " '_22': [0, 2, 4, 6, 8, 10],\n",
       " '_i23': '# ** Lambda expression for grabbing the first character of a string: **\\nlambda s: s[0]',\n",
       " '_23': <function __main__.<lambda>(s)>,\n",
       " '_i24': '# ** Lambda expression for reversing a string: **\\nlambda s: s[::-1]',\n",
       " '_24': <function __main__.<lambda>(s)>,\n",
       " '_i25': '# You can even pass in multiple arguments into a lambda expression. Again, keep in mind that not every function can be translated into a lambda expression.\\nlambda x,y : x + y',\n",
       " '_25': <function __main__.<lambda>(x, y)>,\n",
       " '_i26': '# x is local here:\\nf = lambda x:x**2',\n",
       " 'f': <function __main__.<lambda>(x)>,\n",
       " '_i27': \"name = 'This is a global name'\\n\\ndef greet():\\n    # Enclosing function\\n    name = 'Sammy'\\n    \\n    def hello():\\n        print('Hello '+name)\\n    \\n    hello()\\n\\ngreet()\",\n",
       " 'name': 'This is a global name',\n",
       " 'greet': <function __main__.greet()>,\n",
       " '_i28': 'print(name)',\n",
       " '_i29': 'len',\n",
       " '_29': <function len(obj, /)>,\n",
       " '_i30': \"x = 50\\n\\ndef func(x):\\n    print('x is', x)\\n    x = 2\\n    print('Changed local x to', x)\\n\\nfunc(x)\\nprint('x is still', x)\",\n",
       " 'x': 2,\n",
       " 'func': <function __main__.func()>,\n",
       " '_i31': \"x = 50\\n\\ndef func():\\n    global x\\n    print('This function is now using the global x!')\\n    print('Because of global x is: ', x)\\n    x = 2\\n    print('Ran func(), changed global x to', x)\\n\\nprint('Before calling func(), x is: ', x)\\nfunc()\\nprint('Value of x (outside of func()) is: ', x)\",\n",
       " '_i32': 'x',\n",
       " '_32': 2,\n",
       " '_i33': 'The <code>global</code> statement is used to declare that **x** is a global variable - hence, when we assign a value to **x** inside the function, that change is reflected when we use the value of **x** in the main block.\\n\\nYou can specify more than one global variable using the same global statement e.g. <code>global x, y, z</code>.',\n",
       " '_i34': '## Conclusion\\nYou should now have a good understanding of Scope (you may have already intuitively felt right about Scope which is great!) One last mention is that you can use the **globals()** and **locals()** functions to check what are your current local and global variables.\\n\\nAnother thing to keep in mind is that everything in Python is an object! I can assign variables to functions just like I can with numbers! We will go over this again in the decorator section of the course!',\n",
       " '_i35': 'global(name)',\n",
       " '_i36': 'globals(name)',\n",
       " '_i37': 'global(name)',\n",
       " '_i38': 'global(x)',\n",
       " '_i39': 'globals(x)',\n",
       " '_i40': 'globals()',\n",
       " '_40': {...},\n",
       " '_i41': 'locals()'}"
      ]
     },
     "execution_count": 41,
     "metadata": {},
     "output_type": "execute_result"
    }
   ],
   "source": [
    "locals()"
   ]
  },
  {
   "cell_type": "markdown",
   "id": "30d1bb7e",
   "metadata": {},
   "source": [
    "# Function Practice Exercises\n",
    "\n",
    "Problems are arranged in increasing difficulty:\n",
    "* Warmup - these can be solved using basic comparisons and methods\n",
    "* Level 1 - these may involve if/then conditional statements and simple methods\n",
    "* Level 2 - these may require iterating over sequences, usually with some kind of loop\n",
    "* Challenging - these will take some creativity to solve"
   ]
  },
  {
   "cell_type": "markdown",
   "id": "20e5145e",
   "metadata": {},
   "source": [
    "#### LESSER OF TWO EVENS: Write a function that returns the lesser of two given numbers *if* both numbers are even, but returns the greater if one or both numbers are odd\n",
    "    lesser_of_two_evens(2,4) --> 2\n",
    "    lesser_of_two_evens(2,5) --> 5"
   ]
  },
  {
   "cell_type": "code",
   "execution_count": 29,
   "id": "3c406d03",
   "metadata": {},
   "outputs": [],
   "source": [
    "def lesser_of_two_evens(a,b):\n",
    "    if (a%2 == 0) and (b%2 == 0):\n",
    "        if a < b:\n",
    "            return a\n",
    "        else:\n",
    "            return b\n",
    "    elif a > b:\n",
    "        return a\n",
    "    else:\n",
    "        return b"
   ]
  },
  {
   "cell_type": "code",
   "execution_count": 2,
   "id": "f8e9ffe0",
   "metadata": {},
   "outputs": [
    {
     "data": {
      "text/plain": [
       "2"
      ]
     },
     "execution_count": 2,
     "metadata": {},
     "output_type": "execute_result"
    }
   ],
   "source": [
    "lesser_of_two_evens(2,4)"
   ]
  },
  {
   "cell_type": "code",
   "execution_count": 33,
   "id": "e0dd19a7",
   "metadata": {
    "scrolled": true
   },
   "outputs": [
    {
     "data": {
      "text/plain": [
       "5"
      ]
     },
     "execution_count": 33,
     "metadata": {},
     "output_type": "execute_result"
    }
   ],
   "source": [
    "lesser_of_two_evens(2,5)"
   ]
  },
  {
   "cell_type": "code",
   "execution_count": 34,
   "id": "15aec8f3",
   "metadata": {},
   "outputs": [],
   "source": [
    "def lesser_of_2_evens(a,b):\n",
    "    if a%2 == 0 and b%2 == 0:\n",
    "        return min(a,b)\n",
    "    else:\n",
    "        return max(a,b)"
   ]
  },
  {
   "cell_type": "code",
   "execution_count": 35,
   "id": "2a53c840",
   "metadata": {
    "scrolled": true
   },
   "outputs": [
    {
     "data": {
      "text/plain": [
       "2"
      ]
     },
     "execution_count": 35,
     "metadata": {},
     "output_type": "execute_result"
    }
   ],
   "source": [
    "lesser_of_2_evens(2,4)"
   ]
  },
  {
   "cell_type": "code",
   "execution_count": 36,
   "id": "f5b06a9e",
   "metadata": {},
   "outputs": [
    {
     "data": {
      "text/plain": [
       "5"
      ]
     },
     "execution_count": 36,
     "metadata": {},
     "output_type": "execute_result"
    }
   ],
   "source": [
    "lesser_of_2_evens(2,5)"
   ]
  },
  {
   "cell_type": "markdown",
   "id": "c9246aab",
   "metadata": {},
   "source": [
    "#### ANIMAL CRACKERS: Write a function takes a two-word string and returns True if both words begin with same letter\n",
    "    animal_crackers('Levelheaded Llama') --> True\n",
    "    animal_crackers('Crazy Kangaroo') --> False"
   ]
  },
  {
   "cell_type": "code",
   "execution_count": 31,
   "id": "46df83bc",
   "metadata": {},
   "outputs": [],
   "source": [
    "def animal_crackers(text):\n",
    "    wordlist = str.split (text)\n",
    "    letterlist = []\n",
    "    for word in wordlist:\n",
    "        letterlist.append (word[0])\n",
    "    if letterlist[0] == letterlist[1]:\n",
    "        return True\n",
    "    else:\n",
    "        return False"
   ]
  },
  {
   "cell_type": "code",
   "execution_count": 29,
   "id": "d102662f",
   "metadata": {},
   "outputs": [
    {
     "data": {
      "text/plain": [
       "True"
      ]
     },
     "execution_count": 29,
     "metadata": {},
     "output_type": "execute_result"
    }
   ],
   "source": [
    "animal_crackers('Levelheaded Llama')"
   ]
  },
  {
   "cell_type": "code",
   "execution_count": 30,
   "id": "cdfd12ef",
   "metadata": {},
   "outputs": [
    {
     "data": {
      "text/plain": [
       "False"
      ]
     },
     "execution_count": 30,
     "metadata": {},
     "output_type": "execute_result"
    }
   ],
   "source": [
    "animal_crackers('Crazy Kangaroo')"
   ]
  },
  {
   "cell_type": "code",
   "execution_count": 43,
   "id": "a92f71f8",
   "metadata": {},
   "outputs": [],
   "source": [
    "def animal_crackers2(text):\n",
    "    wordlist = text.lower().split()\n",
    "\n",
    "    return wordlist[0][0] == wordlist[1][0]"
   ]
  },
  {
   "cell_type": "code",
   "execution_count": 46,
   "id": "4e7e5fdd",
   "metadata": {},
   "outputs": [
    {
     "data": {
      "text/plain": [
       "True"
      ]
     },
     "execution_count": 46,
     "metadata": {},
     "output_type": "execute_result"
    }
   ],
   "source": [
    "animal_crackers2('Levelheaded llama')"
   ]
  },
  {
   "cell_type": "code",
   "execution_count": 47,
   "id": "dcab21fc",
   "metadata": {},
   "outputs": [
    {
     "data": {
      "text/plain": [
       "False"
      ]
     },
     "execution_count": 47,
     "metadata": {},
     "output_type": "execute_result"
    }
   ],
   "source": [
    "animal_crackers2('Crazy Kangaroo')"
   ]
  },
  {
   "cell_type": "markdown",
   "id": "93869f1a",
   "metadata": {},
   "source": [
    "#### MAKES TWENTY: Given two integers, return True if the sum of the integers is 20 *or* if one of the integers is 20. If not, return False\n",
    "\n",
    "    makes_twenty(20,10) --> True\n",
    "    makes_twenty(12,8) --> True\n",
    "    makes_twenty(2,3) --> False"
   ]
  },
  {
   "cell_type": "code",
   "execution_count": 9,
   "id": "b462d72d",
   "metadata": {},
   "outputs": [],
   "source": [
    "def makes_twenty(n1,n2):\n",
    "    mylist = [n1,n2]\n",
    "    for num in mylist:\n",
    "        if num == 20:\n",
    "            return True\n",
    "        else:\n",
    "            pass\n",
    "    if (n1+n2)==20:\n",
    "        return True\n",
    "    else:\n",
    "        return False\n"
   ]
  },
  {
   "cell_type": "code",
   "execution_count": 10,
   "id": "d730f11f",
   "metadata": {},
   "outputs": [
    {
     "data": {
      "text/plain": [
       "True"
      ]
     },
     "execution_count": 10,
     "metadata": {},
     "output_type": "execute_result"
    }
   ],
   "source": [
    "makes_twenty(20,10)"
   ]
  },
  {
   "cell_type": "code",
   "execution_count": 11,
   "id": "aaddaafc",
   "metadata": {},
   "outputs": [
    {
     "data": {
      "text/plain": [
       "False"
      ]
     },
     "execution_count": 11,
     "metadata": {},
     "output_type": "execute_result"
    }
   ],
   "source": [
    "makes_twenty(2,3)"
   ]
  },
  {
   "cell_type": "code",
   "execution_count": 48,
   "id": "1df9b466",
   "metadata": {},
   "outputs": [],
   "source": [
    "def makes_20(n1,n2):\n",
    "    return (n1+n2) == 20 or n1==20 or n2==20"
   ]
  },
  {
   "cell_type": "code",
   "execution_count": 49,
   "id": "bafcf88f",
   "metadata": {},
   "outputs": [
    {
     "data": {
      "text/plain": [
       "True"
      ]
     },
     "execution_count": 49,
     "metadata": {},
     "output_type": "execute_result"
    }
   ],
   "source": [
    "makes_20(20,10)"
   ]
  },
  {
   "cell_type": "code",
   "execution_count": 50,
   "id": "9bb5dba4",
   "metadata": {},
   "outputs": [
    {
     "data": {
      "text/plain": [
       "False"
      ]
     },
     "execution_count": 50,
     "metadata": {},
     "output_type": "execute_result"
    }
   ],
   "source": [
    "makes_20(2,3)"
   ]
  },
  {
   "cell_type": "code",
   "execution_count": 51,
   "id": "1ecd9213",
   "metadata": {},
   "outputs": [
    {
     "data": {
      "text/plain": [
       "True"
      ]
     },
     "execution_count": 51,
     "metadata": {},
     "output_type": "execute_result"
    }
   ],
   "source": [
    "makes_20(12,8)"
   ]
  },
  {
   "cell_type": "code",
   "execution_count": 52,
   "id": "9041d44e",
   "metadata": {},
   "outputs": [
    {
     "data": {
      "text/plain": [
       "True"
      ]
     },
     "execution_count": 52,
     "metadata": {},
     "output_type": "execute_result"
    }
   ],
   "source": [
    "makes_20(20,0)"
   ]
  },
  {
   "cell_type": "markdown",
   "id": "fe62ebd1",
   "metadata": {},
   "source": [
    "#### OLD MACDONALD: Write a function that capitalizes the first and fourth letters of a name\n",
    "     \n",
    "    old_macdonald('macdonald') --> MacDonald\n",
    "    \n",
    "Note: `'macdonald'.capitalize()` returns `'Macdonald'`"
   ]
  },
  {
   "cell_type": "code",
   "execution_count": 53,
   "id": "61aca4a7",
   "metadata": {},
   "outputs": [],
   "source": [
    "def old_macdonald(name):\n",
    "    letter_list = list(name)\n",
    "    letter_list[0] = str.capitalize(letter_list[0])\n",
    "    letter_list[3] = str.capitalize(letter_list[3])\n",
    "    new_name = ('')\n",
    "    for let in letter_list:\n",
    "        new_name = new_name+let\n",
    "    return new_name"
   ]
  },
  {
   "cell_type": "code",
   "execution_count": 41,
   "id": "41a126ee",
   "metadata": {},
   "outputs": [
    {
     "data": {
      "text/plain": [
       "'MacDonald'"
      ]
     },
     "execution_count": 41,
     "metadata": {},
     "output_type": "execute_result"
    }
   ],
   "source": [
    "old_macdonald('macdonald')"
   ]
  },
  {
   "cell_type": "code",
   "execution_count": 57,
   "id": "356bde61",
   "metadata": {},
   "outputs": [],
   "source": [
    "def old_macdonald2(name):\n",
    "    first_letter = name [0]\n",
    "    inbetween = name[1:3]\n",
    "    fourth_letter = name[3]\n",
    "    rest = name[4:]\n",
    "    \n",
    "    return first_letter.upper() + inbetween + fourth_letter.upper()+rest"
   ]
  },
  {
   "cell_type": "code",
   "execution_count": 58,
   "id": "8e3c815f",
   "metadata": {},
   "outputs": [
    {
     "data": {
      "text/plain": [
       "'MacDonald'"
      ]
     },
     "execution_count": 58,
     "metadata": {},
     "output_type": "execute_result"
    }
   ],
   "source": [
    "old_macdonald2('macdonald')"
   ]
  },
  {
   "cell_type": "code",
   "execution_count": 60,
   "id": "ba386da3",
   "metadata": {},
   "outputs": [],
   "source": [
    "def old_macdonald3(name):\n",
    "    \n",
    "    first_half=name[:3]\n",
    "    second_half=name[3:]\n",
    "    \n",
    "    return first_half.capitalize()+second_half.capitalize()"
   ]
  },
  {
   "cell_type": "code",
   "execution_count": 61,
   "id": "3d0c5b6e",
   "metadata": {},
   "outputs": [
    {
     "data": {
      "text/plain": [
       "'MacDonald'"
      ]
     },
     "execution_count": 61,
     "metadata": {},
     "output_type": "execute_result"
    }
   ],
   "source": [
    "old_macdonald3('macdonald')"
   ]
  },
  {
   "cell_type": "markdown",
   "id": "8107eeec",
   "metadata": {},
   "source": [
    "#### MASTER YODA: Given a sentence, return a sentence with the words reversed\n",
    "\n",
    "    master_yoda('I am home') --> 'home am I'\n",
    "    master_yoda('We are ready') --> 'ready are We'\n",
    "    \n",
    "Note: The .join() method may be useful here. The .join() method allows you to join together strings in a list with some connector string. For example, some uses of the .join() method:\n",
    "\n",
    "    >>> \"--\".join(['a','b','c'])\n",
    "    >>> 'a--b--c'\n",
    "\n",
    "This means if you had a list of words you wanted to turn back into a sentence, you could just join them with a single space string:\n",
    "\n",
    "    >>> \" \".join(['Hello','world'])\n",
    "    >>> \"Hello world\""
   ]
  },
  {
   "cell_type": "code",
   "execution_count": 5,
   "id": "6b62a67d",
   "metadata": {},
   "outputs": [
    {
     "data": {
      "text/plain": [
       "'c > b > a'"
      ]
     },
     "execution_count": 5,
     "metadata": {},
     "output_type": "execute_result"
    }
   ],
   "source": [
    "m_list = ['a','b','c']\n",
    "\" > \".join(m_list[::-1])"
   ]
  },
  {
   "cell_type": "code",
   "execution_count": 63,
   "id": "d08b23d3",
   "metadata": {},
   "outputs": [],
   "source": [
    "def master_yoda(str):\n",
    "    w_list = str.split(' ')\n",
    "    y_list = []\n",
    "    for wrd in w_list:\n",
    "        y_list.append(wrd)\n",
    "    yoda_master = \" \".join(y_list[::-1])\n",
    "    return (yoda_master)"
   ]
  },
  {
   "cell_type": "code",
   "execution_count": 64,
   "id": "94d173e4",
   "metadata": {},
   "outputs": [
    {
     "data": {
      "text/plain": [
       "'home am I'"
      ]
     },
     "execution_count": 64,
     "metadata": {},
     "output_type": "execute_result"
    }
   ],
   "source": [
    "master_yoda('I am home')"
   ]
  },
  {
   "cell_type": "code",
   "execution_count": 65,
   "id": "e1d4b9eb",
   "metadata": {},
   "outputs": [
    {
     "data": {
      "text/plain": [
       "'ready are We'"
      ]
     },
     "execution_count": 65,
     "metadata": {},
     "output_type": "execute_result"
    }
   ],
   "source": [
    "master_yoda('We are ready')"
   ]
  },
  {
   "cell_type": "code",
   "execution_count": 67,
   "id": "03fbe5ef",
   "metadata": {},
   "outputs": [],
   "source": [
    "def master_yoda2(text):\n",
    "    wordlist= text.split()\n",
    "    reverse_word_list= ' '.join(wordlist[::-1])\n",
    "    return reverse_word_list"
   ]
  },
  {
   "cell_type": "code",
   "execution_count": 68,
   "id": "27dbd201",
   "metadata": {},
   "outputs": [
    {
     "data": {
      "text/plain": [
       "'home am I'"
      ]
     },
     "execution_count": 68,
     "metadata": {},
     "output_type": "execute_result"
    }
   ],
   "source": [
    "master_yoda2('I am home')"
   ]
  },
  {
   "cell_type": "code",
   "execution_count": 69,
   "id": "fb1da0e0",
   "metadata": {},
   "outputs": [
    {
     "data": {
      "text/plain": [
       "'ready are We'"
      ]
     },
     "execution_count": 69,
     "metadata": {},
     "output_type": "execute_result"
    }
   ],
   "source": [
    "master_yoda2('We are ready')"
   ]
  },
  {
   "cell_type": "code",
   "execution_count": null,
   "id": "d600229d",
   "metadata": {},
   "outputs": [],
   "source": []
  },
  {
   "cell_type": "markdown",
   "id": "c87569dc",
   "metadata": {},
   "source": [
    "#### ALMOST THERE: Given an integer n, return True if n is within 10 of either 100 or 200\n",
    "\n",
    "    almost_there(90) --> True\n",
    "    almost_there(104) --> True\n",
    "    almost_there(150) --> False\n",
    "    almost_there(209) --> True\n",
    "    \n",
    "NOTE: `abs(num)` returns the absolute value of a number"
   ]
  },
  {
   "cell_type": "code",
   "execution_count": 35,
   "id": "47b74d99",
   "metadata": {},
   "outputs": [],
   "source": [
    "def almost_there(int):\n",
    "    if (int > 89) and (int < 111):\n",
    "        return True\n",
    "    elif (int > 189) and (int < 211):\n",
    "        return True\n",
    "    else:\n",
    "        return False       "
   ]
  },
  {
   "cell_type": "code",
   "execution_count": 36,
   "id": "9c78dfd3",
   "metadata": {},
   "outputs": [
    {
     "data": {
      "text/plain": [
       "True"
      ]
     },
     "execution_count": 36,
     "metadata": {},
     "output_type": "execute_result"
    }
   ],
   "source": [
    "almost_there(90)"
   ]
  },
  {
   "cell_type": "code",
   "execution_count": 37,
   "id": "11c2ea44",
   "metadata": {},
   "outputs": [
    {
     "data": {
      "text/plain": [
       "True"
      ]
     },
     "execution_count": 37,
     "metadata": {},
     "output_type": "execute_result"
    }
   ],
   "source": [
    "almost_there(104)"
   ]
  },
  {
   "cell_type": "code",
   "execution_count": 39,
   "id": "e4d5c98e",
   "metadata": {},
   "outputs": [
    {
     "data": {
      "text/plain": [
       "False"
      ]
     },
     "execution_count": 39,
     "metadata": {},
     "output_type": "execute_result"
    }
   ],
   "source": [
    "almost_there(155)"
   ]
  },
  {
   "cell_type": "code",
   "execution_count": 47,
   "id": "5d57f9f2",
   "metadata": {},
   "outputs": [
    {
     "data": {
      "text/plain": [
       "True"
      ]
     },
     "execution_count": 47,
     "metadata": {},
     "output_type": "execute_result"
    }
   ],
   "source": [
    "almost_there(209)"
   ]
  },
  {
   "cell_type": "code",
   "execution_count": 76,
   "id": "861741d5",
   "metadata": {},
   "outputs": [],
   "source": [
    "def almost_there2(num):\n",
    "    return abs(num-100) <= 10 or abs(num-200) <= 10"
   ]
  },
  {
   "cell_type": "code",
   "execution_count": 77,
   "id": "b0e9c80a",
   "metadata": {},
   "outputs": [
    {
     "data": {
      "text/plain": [
       "True"
      ]
     },
     "execution_count": 77,
     "metadata": {},
     "output_type": "execute_result"
    }
   ],
   "source": [
    "almost_there2(90)"
   ]
  },
  {
   "cell_type": "code",
   "execution_count": 78,
   "id": "abb9241d",
   "metadata": {},
   "outputs": [
    {
     "data": {
      "text/plain": [
       "True"
      ]
     },
     "execution_count": 78,
     "metadata": {},
     "output_type": "execute_result"
    }
   ],
   "source": [
    "almost_there2(104)"
   ]
  },
  {
   "cell_type": "code",
   "execution_count": 79,
   "id": "391afa93",
   "metadata": {},
   "outputs": [
    {
     "data": {
      "text/plain": [
       "False"
      ]
     },
     "execution_count": 79,
     "metadata": {},
     "output_type": "execute_result"
    }
   ],
   "source": [
    "almost_there2(155)"
   ]
  },
  {
   "cell_type": "code",
   "execution_count": 80,
   "id": "93215def",
   "metadata": {},
   "outputs": [
    {
     "data": {
      "text/plain": [
       "True"
      ]
     },
     "execution_count": 80,
     "metadata": {},
     "output_type": "execute_result"
    }
   ],
   "source": [
    "almost_there2(209)"
   ]
  },
  {
   "cell_type": "markdown",
   "id": "323977bc",
   "metadata": {},
   "source": [
    "#### FIND 33: \n",
    "\n",
    "Given a list of ints, return True if the array contains a 3 next to a 3 somewhere.\n",
    "\n",
    "    has_33([1, 3, 3]) → True\n",
    "    has_33([1, 3, 1, 3]) → False\n",
    "    has_33([3, 1, 3]) → False"
   ]
  },
  {
   "cell_type": "code",
   "execution_count": 71,
   "id": "3a256198",
   "metadata": {},
   "outputs": [],
   "source": [
    "def has_33(list):\n",
    "    has_it = False\n",
    "    l_lenght = 0\n",
    "    while l_lenght < (len(list)-1):\n",
    "        if (list[(l_lenght)] == list[(l_lenght)+1]) and (list[(l_lenght)] == 3):\n",
    "            has_it = True\n",
    "        l_lenght += 1\n",
    "    return has_it"
   ]
  },
  {
   "cell_type": "code",
   "execution_count": 78,
   "id": "5630d4c1",
   "metadata": {},
   "outputs": [
    {
     "data": {
      "text/plain": [
       "True"
      ]
     },
     "execution_count": 78,
     "metadata": {},
     "output_type": "execute_result"
    }
   ],
   "source": [
    "has_33([1, 3, 3])"
   ]
  },
  {
   "cell_type": "code",
   "execution_count": 79,
   "id": "ba7c5866",
   "metadata": {},
   "outputs": [
    {
     "data": {
      "text/plain": [
       "False"
      ]
     },
     "execution_count": 79,
     "metadata": {},
     "output_type": "execute_result"
    }
   ],
   "source": [
    "has_33([1, 3, 1, 3])"
   ]
  },
  {
   "cell_type": "code",
   "execution_count": 80,
   "id": "f52aa541",
   "metadata": {},
   "outputs": [
    {
     "data": {
      "text/plain": [
       "False"
      ]
     },
     "execution_count": 80,
     "metadata": {},
     "output_type": "execute_result"
    }
   ],
   "source": [
    "has_33([3, 1, 3])"
   ]
  },
  {
   "cell_type": "code",
   "execution_count": 91,
   "id": "94a26239",
   "metadata": {},
   "outputs": [],
   "source": [
    "def has_33bis(nums):\n",
    "    for i in range(0,len(nums)-1):\n",
    "        if nums[i] == 3 and nums [i+1] == 3:\n",
    "            return True\n",
    "    return False"
   ]
  },
  {
   "cell_type": "code",
   "execution_count": 92,
   "id": "10610ce6",
   "metadata": {},
   "outputs": [
    {
     "data": {
      "text/plain": [
       "True"
      ]
     },
     "execution_count": 92,
     "metadata": {},
     "output_type": "execute_result"
    }
   ],
   "source": [
    "has_33bis([1, 3, 3])"
   ]
  },
  {
   "cell_type": "code",
   "execution_count": 93,
   "id": "0b9084e9",
   "metadata": {},
   "outputs": [
    {
     "data": {
      "text/plain": [
       "False"
      ]
     },
     "execution_count": 93,
     "metadata": {},
     "output_type": "execute_result"
    }
   ],
   "source": [
    "has_33bis([1, 3, 1, 3])"
   ]
  },
  {
   "cell_type": "code",
   "execution_count": 94,
   "id": "c68b4983",
   "metadata": {},
   "outputs": [
    {
     "data": {
      "text/plain": [
       "False"
      ]
     },
     "execution_count": 94,
     "metadata": {},
     "output_type": "execute_result"
    }
   ],
   "source": [
    "has_33bis([3, 1, 3])"
   ]
  },
  {
   "cell_type": "code",
   "execution_count": 95,
   "id": "f26dd4da",
   "metadata": {},
   "outputs": [],
   "source": [
    "def has_33tri(nums):\n",
    "    for i in range(0,len(nums)-1):\n",
    "        if nums[i:i+2] == [3,3]:\n",
    "            return True\n",
    "    return False"
   ]
  },
  {
   "cell_type": "code",
   "execution_count": 96,
   "id": "6174ea73",
   "metadata": {},
   "outputs": [
    {
     "data": {
      "text/plain": [
       "True"
      ]
     },
     "execution_count": 96,
     "metadata": {},
     "output_type": "execute_result"
    }
   ],
   "source": [
    "has_33tri([1, 3, 3])"
   ]
  },
  {
   "cell_type": "code",
   "execution_count": 97,
   "id": "066ad9b9",
   "metadata": {},
   "outputs": [
    {
     "data": {
      "text/plain": [
       "False"
      ]
     },
     "execution_count": 97,
     "metadata": {},
     "output_type": "execute_result"
    }
   ],
   "source": [
    "has_33tri([1, 3, 1, 3])"
   ]
  },
  {
   "cell_type": "code",
   "execution_count": 98,
   "id": "6b6c6f43",
   "metadata": {},
   "outputs": [
    {
     "data": {
      "text/plain": [
       "False"
      ]
     },
     "execution_count": 98,
     "metadata": {},
     "output_type": "execute_result"
    }
   ],
   "source": [
    "has_33tri([3, 1, 3])"
   ]
  },
  {
   "cell_type": "markdown",
   "id": "cfca500b",
   "metadata": {},
   "source": [
    "#### PAPER DOLL: Given a string, return a string where for every character in the original there are three characters\n",
    "    paper_doll('Hello') --> 'HHHeeellllllooo'\n",
    "    paper_doll('Mississippi') --> 'MMMiiissssssiiippppppiii'"
   ]
  },
  {
   "cell_type": "code",
   "execution_count": 85,
   "id": "49bd7174",
   "metadata": {},
   "outputs": [],
   "source": [
    "def paper_doll(str):\n",
    "    new_wrd = ''\n",
    "    for let in str:\n",
    "        new_wrd = new_wrd+(let*3)\n",
    "    return new_wrd"
   ]
  },
  {
   "cell_type": "code",
   "execution_count": 86,
   "id": "571b9453",
   "metadata": {},
   "outputs": [
    {
     "data": {
      "text/plain": [
       "'HHHeeellllllooo'"
      ]
     },
     "execution_count": 86,
     "metadata": {},
     "output_type": "execute_result"
    }
   ],
   "source": [
    "paper_doll('Hello')"
   ]
  },
  {
   "cell_type": "code",
   "execution_count": 87,
   "id": "e852e977",
   "metadata": {},
   "outputs": [
    {
     "data": {
      "text/plain": [
       "'MMMiiissssssiiissssssiiippppppiii'"
      ]
     },
     "execution_count": 87,
     "metadata": {},
     "output_type": "execute_result"
    }
   ],
   "source": [
    "paper_doll('Mississippi')"
   ]
  },
  {
   "cell_type": "code",
   "execution_count": 104,
   "id": "42037ef4",
   "metadata": {},
   "outputs": [],
   "source": [
    "def paper_doll2(text):\n",
    "    result = ''\n",
    "    for char in text:\n",
    "        result += char*3\n",
    "    return result"
   ]
  },
  {
   "cell_type": "code",
   "execution_count": 105,
   "id": "dc89185d",
   "metadata": {},
   "outputs": [
    {
     "data": {
      "text/plain": [
       "'HHHeeellllllooo'"
      ]
     },
     "execution_count": 105,
     "metadata": {},
     "output_type": "execute_result"
    }
   ],
   "source": [
    "paper_doll2('Hello')"
   ]
  },
  {
   "cell_type": "code",
   "execution_count": 106,
   "id": "9240a1e3",
   "metadata": {},
   "outputs": [
    {
     "data": {
      "text/plain": [
       "'MMMiiissssssiiissssssiiippppppiii'"
      ]
     },
     "execution_count": 106,
     "metadata": {},
     "output_type": "execute_result"
    }
   ],
   "source": [
    "paper_doll2('Mississippi')"
   ]
  },
  {
   "cell_type": "markdown",
   "id": "af873ec7",
   "metadata": {},
   "source": [
    "#### BLACKJACK: Given three integers between 1 and 11, if their sum is less than or equal to 21, return their sum. If their sum exceeds 21 *and* there's an eleven, reduce the total sum by 10. Finally, if the sum (even after adjustment) exceeds 21, return 'BUST'\n",
    "    blackjack(5,6,7) --> 18\n",
    "    blackjack(9,9,9) --> 'BUST'\n",
    "    blackjack(9,9,11) --> 19"
   ]
  },
  {
   "cell_type": "code",
   "execution_count": 95,
   "id": "ed863523",
   "metadata": {},
   "outputs": [],
   "source": [
    "def blackjack(a,b,c):\n",
    "    suma = (a + b + c)\n",
    "    if (a == 11) or (b== 11) or (c== 11):\n",
    "        suma = suma-10\n",
    "    \n",
    "    if suma <= 21:\n",
    "        return suma\n",
    "\n",
    "    else:\n",
    "        return 'BUST'"
   ]
  },
  {
   "cell_type": "code",
   "execution_count": 96,
   "id": "51fb3c43",
   "metadata": {},
   "outputs": [
    {
     "data": {
      "text/plain": [
       "18"
      ]
     },
     "execution_count": 96,
     "metadata": {},
     "output_type": "execute_result"
    }
   ],
   "source": [
    "blackjack(5,6,7)"
   ]
  },
  {
   "cell_type": "code",
   "execution_count": 97,
   "id": "83703ce1",
   "metadata": {},
   "outputs": [
    {
     "data": {
      "text/plain": [
       "'BUST'"
      ]
     },
     "execution_count": 97,
     "metadata": {},
     "output_type": "execute_result"
    }
   ],
   "source": [
    "blackjack(9,9,9)"
   ]
  },
  {
   "cell_type": "code",
   "execution_count": 102,
   "id": "417fa0de",
   "metadata": {},
   "outputs": [
    {
     "data": {
      "text/plain": [
       "19"
      ]
     },
     "execution_count": 102,
     "metadata": {},
     "output_type": "execute_result"
    }
   ],
   "source": [
    "blackjack(9,9,11)"
   ]
  },
  {
   "cell_type": "code",
   "execution_count": 107,
   "id": "3e0cbeb2",
   "metadata": {},
   "outputs": [],
   "source": [
    "def blackjack2(a,b,c):\n",
    "    if sum([a,b,c]) <= 21:\n",
    "        return sum([a,b,c])\n",
    "    elif 11 in [a,b,c] and sum ([a,b,c]) <= 31:\n",
    "        return sum([a,b,c])-10\n",
    "    else:\n",
    "        return 'BUST'"
   ]
  },
  {
   "cell_type": "code",
   "execution_count": 108,
   "id": "213606b0",
   "metadata": {},
   "outputs": [
    {
     "data": {
      "text/plain": [
       "18"
      ]
     },
     "execution_count": 108,
     "metadata": {},
     "output_type": "execute_result"
    }
   ],
   "source": [
    "blackjack2(5,6,7)"
   ]
  },
  {
   "cell_type": "code",
   "execution_count": 109,
   "id": "df44913a",
   "metadata": {},
   "outputs": [
    {
     "data": {
      "text/plain": [
       "'BUST'"
      ]
     },
     "execution_count": 109,
     "metadata": {},
     "output_type": "execute_result"
    }
   ],
   "source": [
    "blackjack2(9,9,9)"
   ]
  },
  {
   "cell_type": "code",
   "execution_count": 110,
   "id": "26bbd45e",
   "metadata": {},
   "outputs": [
    {
     "data": {
      "text/plain": [
       "19"
      ]
     },
     "execution_count": 110,
     "metadata": {},
     "output_type": "execute_result"
    }
   ],
   "source": [
    "blackjack2(9,9,11)"
   ]
  },
  {
   "cell_type": "markdown",
   "id": "ad5aecf8",
   "metadata": {},
   "source": [
    "#### SUMMER OF '69: Return the sum of the numbers in the array, except ignore sections of numbers starting with a 6 and extending to the next 9 (every 6 will be followed by at least one 9). Return 0 for no numbers.\n",
    " \n",
    "    summer_69([1, 3, 5]) --> 9\n",
    "    summer_69([4, 5, 6, 7, 8, 9]) --> 9\n",
    "    summer_69([2, 1, 6, 9, 11]) --> 14"
   ]
  },
  {
   "cell_type": "code",
   "execution_count": 121,
   "id": "0c98cfda",
   "metadata": {},
   "outputs": [],
   "source": [
    "def summer_69(list):\n",
    "    total = 0\n",
    "    l_pos = 0\n",
    "    its_69 = False\n",
    "    while l_pos < len(list):\n",
    "        if list[l_pos] == 6:\n",
    "            its_69 = True\n",
    "        elif its_69 == False:\n",
    "            total = total+(list[l_pos])\n",
    "            \n",
    "        elif list[l_pos] == 9:\n",
    "            its_69 = False\n",
    "        \n",
    "        l_pos += 1\n",
    "    return total"
   ]
  },
  {
   "cell_type": "code",
   "execution_count": 125,
   "id": "2f55b419",
   "metadata": {},
   "outputs": [
    {
     "data": {
      "text/plain": [
       "9"
      ]
     },
     "execution_count": 125,
     "metadata": {},
     "output_type": "execute_result"
    }
   ],
   "source": [
    "summer_69([1, 3, 5])"
   ]
  },
  {
   "cell_type": "code",
   "execution_count": 126,
   "id": "bee45d01",
   "metadata": {},
   "outputs": [
    {
     "data": {
      "text/plain": [
       "9"
      ]
     },
     "execution_count": 126,
     "metadata": {},
     "output_type": "execute_result"
    }
   ],
   "source": [
    "summer_69([4, 5, 6, 7, 8, 9])"
   ]
  },
  {
   "cell_type": "code",
   "execution_count": 127,
   "id": "fefb14bb",
   "metadata": {},
   "outputs": [
    {
     "data": {
      "text/plain": [
       "14"
      ]
     },
     "execution_count": 127,
     "metadata": {},
     "output_type": "execute_result"
    }
   ],
   "source": [
    "summer_69([2, 1, 6, 9, 11])"
   ]
  },
  {
   "cell_type": "code",
   "execution_count": 111,
   "id": "22603c46",
   "metadata": {},
   "outputs": [],
   "source": [
    "def summer_69bis(arr):\n",
    "    total = 0\n",
    "    add = True\n",
    "    for num in arr:\n",
    "        while add:\n",
    "            if num != 6:\n",
    "                total += num\n",
    "                break\n",
    "            else:\n",
    "                add = False\n",
    "        while not add:\n",
    "            if num != 9:\n",
    "                break\n",
    "            else:\n",
    "                add=True\n",
    "                break\n",
    "    return total"
   ]
  },
  {
   "cell_type": "code",
   "execution_count": 112,
   "id": "dd7e53d2",
   "metadata": {},
   "outputs": [
    {
     "data": {
      "text/plain": [
       "9"
      ]
     },
     "execution_count": 112,
     "metadata": {},
     "output_type": "execute_result"
    }
   ],
   "source": [
    "summer_69bis([1, 3, 5])"
   ]
  },
  {
   "cell_type": "code",
   "execution_count": 113,
   "id": "a88c1f6c",
   "metadata": {},
   "outputs": [
    {
     "data": {
      "text/plain": [
       "9"
      ]
     },
     "execution_count": 113,
     "metadata": {},
     "output_type": "execute_result"
    }
   ],
   "source": [
    "summer_69bis([4, 5, 6, 7, 8, 9])"
   ]
  },
  {
   "cell_type": "code",
   "execution_count": 114,
   "id": "f6ec588e",
   "metadata": {},
   "outputs": [
    {
     "data": {
      "text/plain": [
       "14"
      ]
     },
     "execution_count": 114,
     "metadata": {},
     "output_type": "execute_result"
    }
   ],
   "source": [
    "summer_69bis([2, 1, 6, 9, 11])"
   ]
  },
  {
   "cell_type": "markdown",
   "id": "738429b2",
   "metadata": {},
   "source": [
    "#### SPY GAME: Write a function that takes in a list of integers and returns True if it contains 007 in order\n",
    "\n",
    "     spy_game([1,2,4,0,0,7,5]) --> True\n",
    "     spy_game([1,0,2,4,0,5,7]) --> True\n",
    "     spy_game([1,7,2,0,4,5,0]) --> False"
   ]
  },
  {
   "cell_type": "code",
   "execution_count": 6,
   "id": "81701ef2",
   "metadata": {},
   "outputs": [],
   "source": [
    "def spy_game (list):\n",
    "    bond = False\n",
    "    l_pos = 0\n",
    "\n",
    "    while l_pos < (len(list)-2):\n",
    "        code = ''\n",
    "      \n",
    "        code = code+str(list[(l_pos)])+str(list[(l_pos)+1])+str(list[(l_pos)+2])\n",
    "        if code == '007':\n",
    "            bond = True\n",
    "        l_pos += 1\n",
    "        print (code)\n",
    "        print (type(code))\n",
    "    return bond\n"
   ]
  },
  {
   "cell_type": "code",
   "execution_count": 7,
   "id": "d3be5008",
   "metadata": {},
   "outputs": [],
   "source": [
    "def spy_game (list):\n",
    "    bond = False\n",
    "    l_pos = 0\n",
    "    code = ''\n",
    "    for numb in list:\n",
    "        if (numb == 0) or (numb == 7):\n",
    "            code = code+(str(numb))\n",
    "    if code == '007':\n",
    "        bond = True\n",
    "    \n",
    "    return bond"
   ]
  },
  {
   "cell_type": "code",
   "execution_count": 8,
   "id": "df353e74",
   "metadata": {
    "scrolled": true
   },
   "outputs": [
    {
     "data": {
      "text/plain": [
       "True"
      ]
     },
     "execution_count": 8,
     "metadata": {},
     "output_type": "execute_result"
    }
   ],
   "source": [
    "spy_game([1,2,4,0,0,7,5])"
   ]
  },
  {
   "cell_type": "code",
   "execution_count": 9,
   "id": "d450c6b2",
   "metadata": {
    "scrolled": true
   },
   "outputs": [
    {
     "data": {
      "text/plain": [
       "True"
      ]
     },
     "execution_count": 9,
     "metadata": {},
     "output_type": "execute_result"
    }
   ],
   "source": [
    "spy_game([1,0,2,4,0,5,7])"
   ]
  },
  {
   "cell_type": "code",
   "execution_count": 10,
   "id": "6e563ab0",
   "metadata": {},
   "outputs": [
    {
     "data": {
      "text/plain": [
       "False"
      ]
     },
     "execution_count": 10,
     "metadata": {},
     "output_type": "execute_result"
    }
   ],
   "source": [
    "spy_game([1,7,2,0,4,5,0])"
   ]
  },
  {
   "cell_type": "code",
   "execution_count": 118,
   "id": "0b2a3cc8",
   "metadata": {},
   "outputs": [],
   "source": [
    "def spy_game2(nums):\n",
    "    code = [0,0,7,'x']\n",
    "    for num in nums:\n",
    "        if num == code[0]:\n",
    "            code.pop(0)\n",
    "    return len(code) == 1"
   ]
  },
  {
   "cell_type": "code",
   "execution_count": 119,
   "id": "558c535a",
   "metadata": {},
   "outputs": [
    {
     "data": {
      "text/plain": [
       "True"
      ]
     },
     "execution_count": 119,
     "metadata": {},
     "output_type": "execute_result"
    }
   ],
   "source": [
    "spy_game2([1,2,4,0,0,7,5])"
   ]
  },
  {
   "cell_type": "code",
   "execution_count": 120,
   "id": "0f79d8de",
   "metadata": {},
   "outputs": [
    {
     "data": {
      "text/plain": [
       "True"
      ]
     },
     "execution_count": 120,
     "metadata": {},
     "output_type": "execute_result"
    }
   ],
   "source": [
    "spy_game2([1,0,2,4,0,5,7])"
   ]
  },
  {
   "cell_type": "code",
   "execution_count": 121,
   "id": "2678d6cb",
   "metadata": {},
   "outputs": [
    {
     "data": {
      "text/plain": [
       "False"
      ]
     },
     "execution_count": 121,
     "metadata": {},
     "output_type": "execute_result"
    }
   ],
   "source": [
    "spy_game2([1,7,2,0,4,5,0])"
   ]
  },
  {
   "cell_type": "markdown",
   "id": "3d38a7b5",
   "metadata": {},
   "source": [
    "#### COUNT PRIMES: Write a function that returns the *number* of prime numbers that exist up to and including a given number\n",
    "    count_primes(100) --> 25\n",
    "\n",
    "By convention, 0 and 1 are not prime."
   ]
  },
  {
   "cell_type": "code",
   "execution_count": 127,
   "id": "3d38c705",
   "metadata": {},
   "outputs": [],
   "source": [
    "def count_primes(int):\n",
    "    n_range = range(2,(int+1))\n",
    "    n_list = []\n",
    "    p_count = 0\n",
    "    p_list = []\n",
    "          \n",
    "    for n in n_range:\n",
    "        c_range = range(2,(n))\n",
    "        is_prime = True\n",
    "        m = n\n",
    "        for c in c_range:\n",
    "            if m%c == 0:\n",
    "                is_prime = False\n",
    "        if is_prime == True:\n",
    "            p_count += 1\n",
    "            p_list.append(m)\n",
    "        \n",
    "    print (p_count)\n",
    "    print (p_list)"
   ]
  },
  {
   "cell_type": "code",
   "execution_count": 128,
   "id": "4cd5c2fa",
   "metadata": {},
   "outputs": [
    {
     "name": "stdout",
     "output_type": "stream",
     "text": [
      "25\n",
      "[2, 3, 5, 7, 11, 13, 17, 19, 23, 29, 31, 37, 41, 43, 47, 53, 59, 61, 67, 71, 73, 79, 83, 89, 97]\n"
     ]
    }
   ],
   "source": [
    "count_primes(100)"
   ]
  },
  {
   "cell_type": "code",
   "execution_count": 129,
   "id": "23442467",
   "metadata": {},
   "outputs": [
    {
     "name": "stdout",
     "output_type": "stream",
     "text": [
      "46\n",
      "[2, 3, 5, 7, 11, 13, 17, 19, 23, 29, 31, 37, 41, 43, 47, 53, 59, 61, 67, 71, 73, 79, 83, 89, 97, 101, 103, 107, 109, 113, 127, 131, 137, 139, 149, 151, 157, 163, 167, 173, 179, 181, 191, 193, 197, 199]\n"
     ]
    }
   ],
   "source": [
    "count_primes(200)"
   ]
  },
  {
   "cell_type": "code",
   "execution_count": 133,
   "id": "6f77050e",
   "metadata": {},
   "outputs": [],
   "source": [
    "def count_primes2(num):\n",
    "    # Check for 0 or 1 input\n",
    "    if num < 2:\n",
    "        return 0\n",
    "    # 2 or greater\n",
    "    \n",
    "    primes=[2]\n",
    "    x = 3\n",
    "    \n",
    "    while x <= num:\n",
    "        for y in range(3,x,2): # or i could replace the range for the primes list\n",
    "            if x%y == 0:\n",
    "                x += 2\n",
    "                break\n",
    "        else:\n",
    "            primes.append(x)\n",
    "            x += 2\n",
    "    print(primes)\n",
    "    return len(primes)"
   ]
  },
  {
   "cell_type": "code",
   "execution_count": 134,
   "id": "7da5d20f",
   "metadata": {},
   "outputs": [
    {
     "name": "stdout",
     "output_type": "stream",
     "text": [
      "[2, 3, 5, 7, 11, 13, 17, 19, 23, 29, 31, 37, 41, 43, 47, 53, 59, 61, 67, 71, 73, 79, 83, 89, 97]\n"
     ]
    },
    {
     "data": {
      "text/plain": [
       "25"
      ]
     },
     "execution_count": 134,
     "metadata": {},
     "output_type": "execute_result"
    }
   ],
   "source": [
    "count_primes2(100)"
   ]
  },
  {
   "cell_type": "code",
   "execution_count": 135,
   "id": "b5add97c",
   "metadata": {},
   "outputs": [
    {
     "name": "stdout",
     "output_type": "stream",
     "text": [
      "[2, 3, 5, 7, 11, 13, 17, 19, 23, 29, 31, 37, 41, 43, 47, 53, 59, 61, 67, 71, 73, 79, 83, 89, 97, 101, 103, 107, 109, 113, 127, 131, 137, 139, 149, 151, 157, 163, 167, 173, 179, 181, 191, 193, 197, 199]\n"
     ]
    },
    {
     "data": {
      "text/plain": [
       "46"
      ]
     },
     "execution_count": 135,
     "metadata": {},
     "output_type": "execute_result"
    }
   ],
   "source": [
    "count_primes2(200)"
   ]
  },
  {
   "cell_type": "markdown",
   "id": "0bcc7f71",
   "metadata": {},
   "source": [
    "### Just for fun:\n",
    "#### PRINT BIG: Write a function that takes in a single letter, and returns a 5x5 representation of that letter\n",
    "    print_big('a')\n",
    "    \n",
    "    out:   *  \n",
    "          * *\n",
    "         *****\n",
    "         *   *\n",
    "         *   *\n",
    "HINT: Consider making a dictionary of possible patterns, and mapping the alphabet to specific 5-line combinations of patterns. <br>For purposes of this exercise, it's ok if your dictionary stops at \"E\"."
   ]
  },
  {
   "cell_type": "code",
   "execution_count": 6,
   "id": "a0e50731",
   "metadata": {},
   "outputs": [
    {
     "name": "stdout",
     "output_type": "stream",
     "text": [
      "  *  \n",
      " * * \n",
      "*****\n",
      "*   *\n",
      "*   *\n"
     ]
    }
   ],
   "source": [
    "print ('  *  \\n * * \\n*****\\n*   *\\n*   *')"
   ]
  },
  {
   "cell_type": "code",
   "execution_count": 23,
   "id": "1bc7c989",
   "metadata": {},
   "outputs": [],
   "source": [
    "let_dict = {'a':'  *  \\n * * \\n*****\\n*   *\\n*   *', 'b':'**** \\n*   *\\n**** \\n*   *\\n**** ', 'c':' ****\\n*   \\n*    \\n*    \\n ****', 'd':'**** \\n*   * \\n*   *\\n*   * \\n**** ', 'e':'*****\\n*    \\n*****\\n*    \\n*****'}"
   ]
  },
  {
   "cell_type": "code",
   "execution_count": 24,
   "id": "c0a0af06",
   "metadata": {},
   "outputs": [
    {
     "name": "stdout",
     "output_type": "stream",
     "text": [
      "*****\n",
      "*    \n",
      "*****\n",
      "*    \n",
      "*****\n"
     ]
    }
   ],
   "source": [
    "print(let_dict['e'])"
   ]
  },
  {
   "cell_type": "code",
   "execution_count": 12,
   "id": "f06868ea",
   "metadata": {},
   "outputs": [],
   "source": [
    "def print_big(key):\n",
    "    let_dict = {'a':'  *  \\n * * \\n*****\\n*   *\\n*   *', 'b':'**** \\n*   *\\n**** \\n*   *\\n**** ', 'c':' ****\\n*   \\n*    \\n*    \\n ****', 'd':'**** \\n*   * \\n*   *\\n*   * \\n**** ', 'e':'*****\\n*    \\n*****\\n*    \\n*****'}\n",
    "    \n",
    "    print(let_dict[key])"
   ]
  },
  {
   "cell_type": "code",
   "execution_count": 13,
   "id": "de68595e",
   "metadata": {},
   "outputs": [
    {
     "name": "stdout",
     "output_type": "stream",
     "text": [
      "  *  \n",
      " * * \n",
      "*****\n",
      "*   *\n",
      "*   *\n"
     ]
    }
   ],
   "source": [
    "print_big('a')"
   ]
  },
  {
   "cell_type": "code",
   "execution_count": 14,
   "id": "982492ed",
   "metadata": {},
   "outputs": [
    {
     "name": "stdout",
     "output_type": "stream",
     "text": [
      " ****\n",
      "*   \n",
      "*    \n",
      "*    \n",
      " ****\n"
     ]
    }
   ],
   "source": [
    "print_big('c')"
   ]
  },
  {
   "cell_type": "code",
   "execution_count": 15,
   "id": "37b44646",
   "metadata": {},
   "outputs": [
    {
     "name": "stdout",
     "output_type": "stream",
     "text": [
      "*****\n",
      "*    \n",
      "*****\n",
      "*    \n",
      "*****\n"
     ]
    }
   ],
   "source": [
    "print_big('e')"
   ]
  },
  {
   "cell_type": "code",
   "execution_count": 16,
   "id": "571f0857",
   "metadata": {},
   "outputs": [],
   "source": [
    "def print_big2(letter):\n",
    "    patterns = {1:'  *  ', 2:' * * ', 3:'*   *', 4:'*****', 5:'**** ', 6:'    *', 7:' *   ', 8:'*  * ', 9:'*    '}\n",
    "    \n",
    "    alphabet = {'A':[1,2,4,3,3], 'B':[5,3,5,3,5], 'C':[4,9,9,9,4], 'D':[5,3,3,3,5], 'E':[4,9,4,9,4]}\n",
    "    for pattern in alphabet[letter.upper()]:\n",
    "        print(patterns[pattern])"
   ]
  },
  {
   "cell_type": "code",
   "execution_count": 17,
   "id": "b945dd79",
   "metadata": {},
   "outputs": [
    {
     "name": "stdout",
     "output_type": "stream",
     "text": [
      "**** \n",
      "*   *\n",
      "**** \n",
      "*   *\n",
      "**** \n"
     ]
    }
   ],
   "source": [
    "print_big2('b')"
   ]
  },
  {
   "cell_type": "code",
   "execution_count": 18,
   "id": "c919d7bd",
   "metadata": {
    "scrolled": true
   },
   "outputs": [
    {
     "name": "stdout",
     "output_type": "stream",
     "text": [
      "**** \n",
      "*   *\n",
      "*   *\n",
      "*   *\n",
      "**** \n"
     ]
    }
   ],
   "source": [
    "print_big2('d')"
   ]
  },
  {
   "cell_type": "markdown",
   "id": "61155aad",
   "metadata": {},
   "source": [
    "# Lambda, Filter and Maps"
   ]
  },
  {
   "cell_type": "code",
   "execution_count": 25,
   "id": "187ca8f0",
   "metadata": {},
   "outputs": [
    {
     "name": "stdout",
     "output_type": "stream",
     "text": [
      "1\n",
      "4\n",
      "9\n",
      "16\n",
      "25\n"
     ]
    }
   ],
   "source": [
    "my_nums = [1,2,3,4,5]\n",
    "for item in map((lambda num: num**2),my_nums):\n",
    "    print (item)\n"
   ]
  },
  {
   "cell_type": "code",
   "execution_count": 26,
   "id": "b29772fb",
   "metadata": {},
   "outputs": [
    {
     "data": {
      "text/plain": [
       "[1, 4, 9, 16, 25]"
      ]
     },
     "execution_count": 26,
     "metadata": {},
     "output_type": "execute_result"
    }
   ],
   "source": [
    "my_nums = [1,2,3,4,5]\n",
    "list(map((lambda num: num**2),my_nums))"
   ]
  },
  {
   "cell_type": "code",
   "execution_count": 27,
   "id": "71407339",
   "metadata": {},
   "outputs": [],
   "source": [
    "def splicer(mystring):\n",
    "    if len(mystring)%2 == 0:\n",
    "        return 'EVEN'\n",
    "    else:\n",
    "        return mystring[0]"
   ]
  },
  {
   "cell_type": "code",
   "execution_count": 28,
   "id": "78cac92b",
   "metadata": {},
   "outputs": [],
   "source": [
    "names=['Andy','Eve','Sally']"
   ]
  },
  {
   "cell_type": "code",
   "execution_count": 29,
   "id": "d7d56eca",
   "metadata": {},
   "outputs": [
    {
     "data": {
      "text/plain": [
       "['EVEN', 'E', 'S']"
      ]
     },
     "execution_count": 29,
     "metadata": {},
     "output_type": "execute_result"
    }
   ],
   "source": [
    "list(map(splicer,names))"
   ]
  },
  {
   "cell_type": "code",
   "execution_count": 30,
   "id": "7d7eaee0",
   "metadata": {},
   "outputs": [],
   "source": [
    "def check_even(num):\n",
    "    return num%2 == 0"
   ]
  },
  {
   "cell_type": "code",
   "execution_count": 31,
   "id": "a81c0405",
   "metadata": {},
   "outputs": [],
   "source": [
    "mynums = [1,2,3,4,5,6]"
   ]
  },
  {
   "cell_type": "code",
   "execution_count": 33,
   "id": "5bcaa160",
   "metadata": {},
   "outputs": [
    {
     "data": {
      "text/plain": [
       "[2, 4, 6]"
      ]
     },
     "execution_count": 33,
     "metadata": {},
     "output_type": "execute_result"
    }
   ],
   "source": [
    "list(filter(check_even, mynums))"
   ]
  },
  {
   "cell_type": "code",
   "execution_count": 34,
   "id": "4b108c21",
   "metadata": {},
   "outputs": [],
   "source": [
    "def square(num):\n",
    "    result = num **2\n",
    "    return result"
   ]
  },
  {
   "cell_type": "code",
   "execution_count": 35,
   "id": "2b25c549",
   "metadata": {},
   "outputs": [
    {
     "data": {
      "text/plain": [
       "9"
      ]
     },
     "execution_count": 35,
     "metadata": {},
     "output_type": "execute_result"
    }
   ],
   "source": [
    "square(3)"
   ]
  },
  {
   "cell_type": "code",
   "execution_count": 36,
   "id": "11641c1c",
   "metadata": {},
   "outputs": [],
   "source": [
    "def square(num):\n",
    "    return num **2"
   ]
  },
  {
   "cell_type": "code",
   "execution_count": 38,
   "id": "0e860d7f",
   "metadata": {},
   "outputs": [],
   "source": [
    "def square(num): return num **2"
   ]
  },
  {
   "cell_type": "code",
   "execution_count": 40,
   "id": "40a47bb0",
   "metadata": {},
   "outputs": [],
   "source": [
    "square = lambda num: num **2"
   ]
  },
  {
   "cell_type": "code",
   "execution_count": 41,
   "id": "99f3172d",
   "metadata": {},
   "outputs": [
    {
     "data": {
      "text/plain": [
       "25"
      ]
     },
     "execution_count": 41,
     "metadata": {},
     "output_type": "execute_result"
    }
   ],
   "source": [
    "square(5)"
   ]
  },
  {
   "cell_type": "code",
   "execution_count": 42,
   "id": "1db60181",
   "metadata": {},
   "outputs": [
    {
     "data": {
      "text/plain": [
       "[1, 4, 9, 16, 25, 36]"
      ]
     },
     "execution_count": 42,
     "metadata": {},
     "output_type": "execute_result"
    }
   ],
   "source": [
    "list(map(lambda num:num**2, mynums))"
   ]
  },
  {
   "cell_type": "code",
   "execution_count": 43,
   "id": "c46a4a64",
   "metadata": {},
   "outputs": [
    {
     "data": {
      "text/plain": [
       "[4, 16, 36]"
      ]
     },
     "execution_count": 43,
     "metadata": {},
     "output_type": "execute_result"
    }
   ],
   "source": [
    "list(filter(lambda num:num%2 == 0, list(map(lambda num:num**2, mynums))))"
   ]
  },
  {
   "cell_type": "markdown",
   "id": "23f874b4",
   "metadata": {},
   "source": [
    "# Nested Statements and Scope"
   ]
  },
  {
   "cell_type": "code",
   "execution_count": 44,
   "id": "bb90aae0",
   "metadata": {},
   "outputs": [],
   "source": [
    "x = 25\n",
    "\n",
    "def printer():\n",
    "    x = 50\n",
    "    return x"
   ]
  },
  {
   "cell_type": "code",
   "execution_count": 45,
   "id": "01c3c4bd",
   "metadata": {},
   "outputs": [
    {
     "name": "stdout",
     "output_type": "stream",
     "text": [
      "25\n"
     ]
    }
   ],
   "source": [
    "print(x)"
   ]
  },
  {
   "cell_type": "code",
   "execution_count": 46,
   "id": "511a9946",
   "metadata": {},
   "outputs": [
    {
     "name": "stdout",
     "output_type": "stream",
     "text": [
      "50\n"
     ]
    }
   ],
   "source": [
    "print(printer())"
   ]
  },
  {
   "cell_type": "code",
   "execution_count": 48,
   "id": "6e63ec79",
   "metadata": {},
   "outputs": [],
   "source": [
    "name = 'This is a Global String'\n",
    "\n",
    "def greet():\n",
    "    name = 'Sammy'\n",
    "    \n",
    "    def hello():\n",
    "        print('Hello '+name)\n",
    "    hello()\n",
    "    "
   ]
  },
  {
   "cell_type": "code",
   "execution_count": 49,
   "id": "14655786",
   "metadata": {},
   "outputs": [
    {
     "name": "stdout",
     "output_type": "stream",
     "text": [
      "Hello Sammy\n"
     ]
    }
   ],
   "source": [
    "greet()"
   ]
  },
  {
   "cell_type": "code",
   "execution_count": 50,
   "id": "d3bad41a",
   "metadata": {},
   "outputs": [
    {
     "data": {
      "text/plain": [
       "'This is a Global String'"
      ]
     },
     "execution_count": 50,
     "metadata": {},
     "output_type": "execute_result"
    }
   ],
   "source": [
    "name"
   ]
  },
  {
   "cell_type": "code",
   "execution_count": 51,
   "id": "3d776dfa",
   "metadata": {},
   "outputs": [
    {
     "name": "stdout",
     "output_type": "stream",
     "text": [
      "Hello Sammy\n"
     ]
    },
    {
     "data": {
      "text/plain": [
       "'This is a Global String'"
      ]
     },
     "execution_count": 51,
     "metadata": {},
     "output_type": "execute_result"
    }
   ],
   "source": [
    "greet()\n",
    "name"
   ]
  },
  {
   "cell_type": "code",
   "execution_count": 55,
   "id": "2a50c7ce",
   "metadata": {},
   "outputs": [],
   "source": [
    "x = 50\n",
    "def func(x):\n",
    "    print(f'X is {x}')"
   ]
  },
  {
   "cell_type": "code",
   "execution_count": 56,
   "id": "bc59796c",
   "metadata": {},
   "outputs": [
    {
     "name": "stdout",
     "output_type": "stream",
     "text": [
      "X is 50\n"
     ]
    }
   ],
   "source": [
    "func(x)"
   ]
  },
  {
   "cell_type": "code",
   "execution_count": 57,
   "id": "fb8c69d5",
   "metadata": {},
   "outputs": [],
   "source": [
    "x = 50\n",
    "def func(x):\n",
    "    print(f'X is {x}')\n",
    "    \n",
    "    # Local Reassigment!\n",
    "    \n",
    "    x = 200\n",
    "    \n",
    "    print(f'I just locally changed X to {x}')"
   ]
  },
  {
   "cell_type": "code",
   "execution_count": 58,
   "id": "35345605",
   "metadata": {},
   "outputs": [
    {
     "name": "stdout",
     "output_type": "stream",
     "text": [
      "X is 50\n",
      "I just locally changed X to 200\n"
     ]
    }
   ],
   "source": [
    "func(x)"
   ]
  },
  {
   "cell_type": "code",
   "execution_count": 59,
   "id": "6e9aa57b",
   "metadata": {},
   "outputs": [
    {
     "name": "stdout",
     "output_type": "stream",
     "text": [
      "50\n"
     ]
    }
   ],
   "source": [
    "print(x)"
   ]
  },
  {
   "cell_type": "code",
   "execution_count": 63,
   "id": "f9ff3565",
   "metadata": {},
   "outputs": [],
   "source": [
    "x = 50\n",
    "def func():\n",
    "    global x\n",
    "    print(f'X is {x}')\n",
    "    \n",
    "    # Local Reassigment on a global variable!\n",
    "    \n",
    "    x = 'NEW VALUE'\n",
    "    \n",
    "    print(f'I just locally changed GLOBAL X to {x}')"
   ]
  },
  {
   "cell_type": "code",
   "execution_count": 64,
   "id": "3c6dbdba",
   "metadata": {},
   "outputs": [
    {
     "name": "stdout",
     "output_type": "stream",
     "text": [
      "50\n"
     ]
    }
   ],
   "source": [
    "print(x)"
   ]
  },
  {
   "cell_type": "code",
   "execution_count": 66,
   "id": "d4cff75e",
   "metadata": {},
   "outputs": [
    {
     "name": "stdout",
     "output_type": "stream",
     "text": [
      "X is 50\n",
      "I just locally changed GLOBAL X to NEW VALUE\n"
     ]
    }
   ],
   "source": [
    "func()"
   ]
  },
  {
   "cell_type": "code",
   "execution_count": 67,
   "id": "4ffe0a2b",
   "metadata": {},
   "outputs": [
    {
     "name": "stdout",
     "output_type": "stream",
     "text": [
      "NEW VALUE\n"
     ]
    }
   ],
   "source": [
    "print(x)"
   ]
  },
  {
   "cell_type": "markdown",
   "id": "35b528d2",
   "metadata": {},
   "source": [
    "# Functions and Methods Homework \n",
    "\n",
    "Complete the following questions:\n",
    "____\n",
    "**Write a function that computes the volume of a sphere given its radius.**\n",
    "<p>The volume of a sphere is given as $$\\frac{4}{3} πr^3$$</p>"
   ]
  },
  {
   "cell_type": "code",
   "execution_count": 248,
   "id": "1d8424f6",
   "metadata": {},
   "outputs": [],
   "source": [
    "\n",
    "def vol(rad):\n",
    "    from math import pi\n",
    "    return (4/3)*pi*(rad**3)"
   ]
  },
  {
   "cell_type": "code",
   "execution_count": 249,
   "id": "184f7192",
   "metadata": {},
   "outputs": [
    {
     "data": {
      "text/plain": [
       "33.510321638291124"
      ]
     },
     "execution_count": 249,
     "metadata": {},
     "output_type": "execute_result"
    }
   ],
   "source": [
    "# Check\n",
    "vol(2)"
   ]
  },
  {
   "cell_type": "markdown",
   "id": "5b3ea9bf",
   "metadata": {},
   "source": [
    "___\n",
    "**Write a function that checks whether a number is in a given range (inclusive of high and low)**"
   ]
  },
  {
   "cell_type": "code",
   "execution_count": 97,
   "id": "d8b02ffa",
   "metadata": {},
   "outputs": [],
   "source": [
    "def ran_check(num,low,high):\n",
    "    for i in range(low,high+1):\n",
    "        if i == num:\n",
    "            return f'Yes, {num} is between {low} and {high}'\n",
    "        else:\n",
    "            continue\n",
    "    return f'No, {num} is not between {low} and {high}'\n",
    "        "
   ]
  },
  {
   "cell_type": "code",
   "execution_count": 114,
   "id": "f598dfdb",
   "metadata": {},
   "outputs": [
    {
     "data": {
      "text/plain": [
       "'Yes, 5 is between 2 and 7'"
      ]
     },
     "execution_count": 114,
     "metadata": {},
     "output_type": "execute_result"
    }
   ],
   "source": [
    "ran_check(5,2,7)"
   ]
  },
  {
   "cell_type": "markdown",
   "id": "ebee451e",
   "metadata": {},
   "source": [
    "If you only wanted to return a boolean:"
   ]
  },
  {
   "cell_type": "code",
   "execution_count": 118,
   "id": "57d1d26b",
   "metadata": {},
   "outputs": [],
   "source": [
    "def ran_bool(num,low,high):\n",
    "    for i in range(low,high+1):\n",
    "        if i == num:\n",
    "            return i == num\n",
    "        else:\n",
    "            continue\n",
    "    return i == num"
   ]
  },
  {
   "cell_type": "code",
   "execution_count": 123,
   "id": "b9a6bede",
   "metadata": {
    "scrolled": true
   },
   "outputs": [
    {
     "data": {
      "text/plain": [
       "True"
      ]
     },
     "execution_count": 123,
     "metadata": {},
     "output_type": "execute_result"
    }
   ],
   "source": [
    "ran_bool(3,1,10)"
   ]
  },
  {
   "cell_type": "code",
   "execution_count": 251,
   "id": "8bf45d95",
   "metadata": {},
   "outputs": [],
   "source": [
    "def ran_check2(num,low,high):\n",
    "    if num in range(low,high+1):\n",
    "        return f'Yes, {num} is between {low} and {high}'\n",
    "    else:\n",
    "        return f'No, {num} is not between {low} and {high}'"
   ]
  },
  {
   "cell_type": "code",
   "execution_count": 254,
   "id": "5f5cc572",
   "metadata": {},
   "outputs": [
    {
     "data": {
      "text/plain": [
       "'Yes, 5 is between 2 and 7'"
      ]
     },
     "execution_count": 254,
     "metadata": {},
     "output_type": "execute_result"
    }
   ],
   "source": [
    "ran_check2(5,2,7)"
   ]
  },
  {
   "cell_type": "code",
   "execution_count": 257,
   "id": "4e6a6ee0",
   "metadata": {},
   "outputs": [],
   "source": [
    "def ran_bool2(num,low,high):\n",
    "    return num in range(low,high+1)"
   ]
  },
  {
   "cell_type": "code",
   "execution_count": 261,
   "id": "2fa31628",
   "metadata": {},
   "outputs": [
    {
     "data": {
      "text/plain": [
       "True"
      ]
     },
     "execution_count": 261,
     "metadata": {},
     "output_type": "execute_result"
    }
   ],
   "source": [
    "ran_bool2(3,1,10)"
   ]
  },
  {
   "cell_type": "markdown",
   "id": "85bcaa89",
   "metadata": {},
   "source": [
    "____\n",
    "**Write a Python function that accepts a string and calculates the number of upper case letters and lower case letters.**\n",
    "\n",
    "    Sample String : 'Hello Mr. Rogers, how are you this fine Tuesday?'\n",
    "    Expected Output : \n",
    "    No. of Upper case characters : 4\n",
    "    No. of Lower case Characters : 33\n",
    "\n",
    "HINT: Two string methods that might prove useful: **.isupper()** and **.islower()**\n",
    "\n",
    "If you feel ambitious, explore the Collections module to solve this problem!"
   ]
  },
  {
   "cell_type": "code",
   "execution_count": 193,
   "id": "339e2b18",
   "metadata": {},
   "outputs": [],
   "source": [
    "def up_low(str):\n",
    "    upp_count = 0\n",
    "    low_count = 0\n",
    "    str_list = []\n",
    "    for i in range(1,len(s)):\n",
    "        str_list.append(s[(i-1)])\n",
    "\n",
    "    for l in str_list:\n",
    "        if l.isupper() == True:\n",
    "            upp_count += 1\n",
    "        else:\n",
    "            low_count += 1\n",
    "    print (f'No. of Upper case characters : {upp_count}')\n",
    "    print (f'No. of Lower case Characters : {low_count}')"
   ]
  },
  {
   "cell_type": "code",
   "execution_count": 194,
   "id": "86818ce9",
   "metadata": {
    "scrolled": true
   },
   "outputs": [
    {
     "name": "stdout",
     "output_type": "stream",
     "text": [
      "No. of Upper case characters : 4\n",
      "No. of Lower case Characters : 43\n"
     ]
    }
   ],
   "source": [
    "s = 'Hello Mr. Rogers, how are you this fine Tuesday?'\n",
    "up_low(s)"
   ]
  },
  {
   "cell_type": "code",
   "execution_count": 262,
   "id": "f3a2fc2a",
   "metadata": {},
   "outputs": [],
   "source": [
    "def up_low2(s):\n",
    "    lowcase=0\n",
    "    uppcase=0\n",
    "    \n",
    "    for char in s:\n",
    "        if char.isupper():\n",
    "            uppcase +=1\n",
    "        elif char.islower():\n",
    "            lowcase+=1\n",
    "        else:\n",
    "            pass\n",
    "    print (f'No. of Upper case characters : {uppcase}')\n",
    "    print (f'No. of Lower case Characters : {lowcase}')"
   ]
  },
  {
   "cell_type": "code",
   "execution_count": 263,
   "id": "2cdbafa3",
   "metadata": {},
   "outputs": [
    {
     "name": "stdout",
     "output_type": "stream",
     "text": [
      "No. of Upper case characters : 4\n",
      "No. of Lower case Characters : 33\n"
     ]
    }
   ],
   "source": [
    "s = 'Hello Mr. Rogers, how are you this fine Tuesday?'\n",
    "up_low2(s)"
   ]
  },
  {
   "cell_type": "code",
   "execution_count": 268,
   "id": "03a4cdcb",
   "metadata": {},
   "outputs": [],
   "source": [
    "def up_low3(s):\n",
    "    d = {'upper':0,'lower':0}\n",
    "    \n",
    "    for char in s:\n",
    "        if char.isupper():\n",
    "            d['upper']+=1\n",
    "        elif char.islower():\n",
    "            d['lower']+=1\n",
    "        else:\n",
    "            pass\n",
    "    \n",
    "    print (f'No. of Upper case characters : {d[\"upper\"]}')\n",
    "    print (f'No. of Lower case Characters : {d[\"lower\"]}')"
   ]
  },
  {
   "cell_type": "code",
   "execution_count": 269,
   "id": "9295341a",
   "metadata": {},
   "outputs": [
    {
     "name": "stdout",
     "output_type": "stream",
     "text": [
      "No. of Upper case characters : 4\n",
      "No. of Lower case Characters : 33\n"
     ]
    }
   ],
   "source": [
    "s = 'Hello Mr. Rogers, how are you this fine Tuesday?'\n",
    "up_low3(s)"
   ]
  },
  {
   "cell_type": "markdown",
   "id": "68c55f61",
   "metadata": {},
   "source": [
    "____\n",
    "**Write a Python function that takes a list and returns a new list with unique elements of the first list.**\n",
    "\n",
    "    Sample List : [1,1,1,1,2,2,3,3,3,3,4,5]\n",
    "    Unique List : [1, 2, 3, 4, 5]"
   ]
  },
  {
   "cell_type": "code",
   "execution_count": 198,
   "id": "2b549c41",
   "metadata": {},
   "outputs": [],
   "source": [
    "def unique_list(lst):\n",
    "  \n",
    "    u_list = []\n",
    "      \n",
    "    for x in lst:\n",
    "        if x not in u_list:\n",
    "            u_list.append(x)\n",
    "\n",
    "    return u_list"
   ]
  },
  {
   "cell_type": "code",
   "execution_count": 199,
   "id": "566fdef5",
   "metadata": {},
   "outputs": [
    {
     "data": {
      "text/plain": [
       "[1, 2, 3, 4, 5]"
      ]
     },
     "execution_count": 199,
     "metadata": {},
     "output_type": "execute_result"
    }
   ],
   "source": [
    "unique_list([1,1,1,1,2,2,3,3,3,3,4,5])"
   ]
  },
  {
   "cell_type": "code",
   "execution_count": 270,
   "id": "f0d4a204",
   "metadata": {},
   "outputs": [],
   "source": [
    "def unique_list2(lst):\n",
    "    return list(set(lst))"
   ]
  },
  {
   "cell_type": "code",
   "execution_count": 271,
   "id": "11421af9",
   "metadata": {},
   "outputs": [
    {
     "data": {
      "text/plain": [
       "[1, 2, 3, 4, 5]"
      ]
     },
     "execution_count": 271,
     "metadata": {},
     "output_type": "execute_result"
    }
   ],
   "source": [
    "unique_list2([1,1,1,1,2,2,3,3,3,3,4,5])"
   ]
  },
  {
   "cell_type": "code",
   "execution_count": 203,
   "id": "49d7756d",
   "metadata": {},
   "outputs": [],
   "source": [
    "def unique_list3(lst):\n",
    "    import numpy as np\n",
    "    x = np.array(lst)\n",
    "    return np.unique(x)"
   ]
  },
  {
   "cell_type": "code",
   "execution_count": 204,
   "id": "897822b8",
   "metadata": {},
   "outputs": [
    {
     "data": {
      "text/plain": [
       "array([1, 2, 3, 4, 5])"
      ]
     },
     "execution_count": 204,
     "metadata": {},
     "output_type": "execute_result"
    }
   ],
   "source": [
    "unique_list3([1,1,1,1,2,2,3,3,3,3,4,5])"
   ]
  },
  {
   "cell_type": "markdown",
   "id": "9b811e2e",
   "metadata": {},
   "source": [
    "____\n",
    "**Write a Python function to multiply all the numbers in a list.**\n",
    "\n",
    "    Sample List : [1, 2, 3, -4]\n",
    "    Expected Output : -24"
   ]
  },
  {
   "cell_type": "code",
   "execution_count": 206,
   "id": "433f5430",
   "metadata": {},
   "outputs": [],
   "source": [
    "def multiply(numbers):  \n",
    "    result = 1\n",
    "    for n in numbers:\n",
    "        result = result*n\n",
    "    return result"
   ]
  },
  {
   "cell_type": "code",
   "execution_count": 207,
   "id": "ec61bd12",
   "metadata": {},
   "outputs": [
    {
     "data": {
      "text/plain": [
       "-24"
      ]
     },
     "execution_count": 207,
     "metadata": {},
     "output_type": "execute_result"
    }
   ],
   "source": [
    "multiply([1,2,3,-4])"
   ]
  },
  {
   "cell_type": "markdown",
   "id": "20c8fb7e",
   "metadata": {},
   "source": [
    "____\n",
    "**Write a Python function that checks whether a word or phrase is palindrome or not.**\n",
    "\n",
    "Note: A palindrome is word, phrase, or sequence that reads the same backward as forward, e.g., madam,kayak,racecar, or a phrase \"nurses run\". Hint: You may want to check out the .replace() method in a string to help out with dealing with spaces. Also google search how to reverse a string in Python, there are some clever ways to do it with slicing notation."
   ]
  },
  {
   "cell_type": "code",
   "execution_count": 213,
   "id": "91cc6b83",
   "metadata": {},
   "outputs": [],
   "source": [
    "def palindrome(s):\n",
    "    s_dir = s.replace(' ','')\n",
    "    print (s_dir)\n",
    "    s_inv = s_dir[::-1]\n",
    "    print (s_inv)\n",
    "    return s_dir.lower() == s_inv.lower()"
   ]
  },
  {
   "cell_type": "code",
   "execution_count": 214,
   "id": "d39d24d6",
   "metadata": {},
   "outputs": [
    {
     "name": "stdout",
     "output_type": "stream",
     "text": [
      "helleh\n",
      "helleh\n"
     ]
    },
    {
     "data": {
      "text/plain": [
       "True"
      ]
     },
     "execution_count": 214,
     "metadata": {},
     "output_type": "execute_result"
    }
   ],
   "source": [
    "palindrome('helleh')"
   ]
  },
  {
   "cell_type": "code",
   "execution_count": 215,
   "id": "95b22505",
   "metadata": {},
   "outputs": [
    {
     "name": "stdout",
     "output_type": "stream",
     "text": [
      "nursesrun\n",
      "nursesrun\n"
     ]
    },
    {
     "data": {
      "text/plain": [
       "True"
      ]
     },
     "execution_count": 215,
     "metadata": {},
     "output_type": "execute_result"
    }
   ],
   "source": [
    "palindrome('nurses run')"
   ]
  },
  {
   "cell_type": "code",
   "execution_count": 272,
   "id": "006b6c39",
   "metadata": {},
   "outputs": [],
   "source": [
    "def palindrome2(s):\n",
    "    s = s.replace(' ','')\n",
    "    return s == s[::-1]"
   ]
  },
  {
   "cell_type": "code",
   "execution_count": 273,
   "id": "938573c3",
   "metadata": {},
   "outputs": [
    {
     "data": {
      "text/plain": [
       "True"
      ]
     },
     "execution_count": 273,
     "metadata": {},
     "output_type": "execute_result"
    }
   ],
   "source": [
    "palindrome2('helleh')"
   ]
  },
  {
   "cell_type": "code",
   "execution_count": 274,
   "id": "618c68ed",
   "metadata": {},
   "outputs": [
    {
     "data": {
      "text/plain": [
       "True"
      ]
     },
     "execution_count": 274,
     "metadata": {},
     "output_type": "execute_result"
    }
   ],
   "source": [
    "palindrome2('nurses run')"
   ]
  },
  {
   "cell_type": "markdown",
   "id": "2218b597",
   "metadata": {},
   "source": [
    "____\n",
    "#### Hard:\n",
    "\n",
    "**Write a Python function to check whether a string is pangram or not. (Assume the string passed in does not have any punctuation)**\n",
    "\n",
    "    Note : Pangrams are words or sentences containing every letter of the alphabet at least once.\n",
    "    For example : \"The quick brown fox jumps over the lazy dog\"\n",
    "\n",
    "Hint: You may want to use .replace() method to get rid of spaces.\n",
    "\n",
    "Hint: Look at the [string module](https://stackoverflow.com/questions/16060899/alphabet-range-in-python)\n",
    "\n",
    "Hint: In case you want to use [set comparisons](https://medium.com/better-programming/a-visual-guide-to-set-comparisons-in-python-6ab7edb9ec41)"
   ]
  },
  {
   "cell_type": "code",
   "execution_count": 216,
   "id": "bc54a5c0",
   "metadata": {},
   "outputs": [],
   "source": [
    "import string\n",
    "\n",
    "def ispangram(str1, alphabet=string.ascii_lowercase):\n",
    "    pass"
   ]
  },
  {
   "cell_type": "code",
   "execution_count": null,
   "id": "678275b9",
   "metadata": {},
   "outputs": [],
   "source": [
    "ispangram(\"The quick brown fox jumps over the lazy dog\")"
   ]
  },
  {
   "cell_type": "code",
   "execution_count": 217,
   "id": "79cf9eee",
   "metadata": {},
   "outputs": [
    {
     "data": {
      "text/plain": [
       "'abcdefghijklmnopqrstuvwxyz'"
      ]
     },
     "execution_count": 217,
     "metadata": {},
     "output_type": "execute_result"
    }
   ],
   "source": [
    "string.ascii_lowercase"
   ]
  },
  {
   "cell_type": "code",
   "execution_count": 239,
   "id": "fb003a15",
   "metadata": {},
   "outputs": [],
   "source": [
    "def ispangram(str1, alphabet=string.ascii_lowercase):\n",
    "    str1 = str1.replace(' ','')\n",
    "    let_list = []\n",
    "    for let in str1:\n",
    "        let_list.append(let.lower())\n",
    "    let_list = sorted(list(set(let_list)))\n",
    "    str2 =''\n",
    "    for let in let_list:\n",
    "        str2 = str2+let\n",
    "\n",
    "    return alphabet == str2"
   ]
  },
  {
   "cell_type": "code",
   "execution_count": 240,
   "id": "6ba536fe",
   "metadata": {},
   "outputs": [
    {
     "data": {
      "text/plain": [
       "True"
      ]
     },
     "execution_count": 240,
     "metadata": {},
     "output_type": "execute_result"
    }
   ],
   "source": [
    "ispangram(\"The quick brown fox jumps over the lazy dog\")"
   ]
  },
  {
   "cell_type": "code",
   "execution_count": 241,
   "id": "4fab92b9",
   "metadata": {},
   "outputs": [
    {
     "data": {
      "text/plain": [
       "False"
      ]
     },
     "execution_count": 241,
     "metadata": {},
     "output_type": "execute_result"
    }
   ],
   "source": [
    "ispangram(\"The quick brown\")"
   ]
  },
  {
   "cell_type": "code",
   "execution_count": 242,
   "id": "1df1feb0",
   "metadata": {},
   "outputs": [
    {
     "data": {
      "text/plain": [
       "True"
      ]
     },
     "execution_count": 242,
     "metadata": {},
     "output_type": "execute_result"
    }
   ],
   "source": [
    "ispangram(\"M nvbc xgzdashdjhfjgkhljpio u y t r e e w q\")"
   ]
  },
  {
   "cell_type": "code",
   "execution_count": 243,
   "id": "64e7468b",
   "metadata": {},
   "outputs": [
    {
     "data": {
      "text/plain": [
       "True"
      ]
     },
     "execution_count": 243,
     "metadata": {},
     "output_type": "execute_result"
    }
   ],
   "source": [
    "ispangram(\"qwer tyuio pasdf ghjklzxcv   bnm\")"
   ]
  },
  {
   "cell_type": "code",
   "execution_count": 245,
   "id": "ab06ecba",
   "metadata": {},
   "outputs": [
    {
     "data": {
      "text/plain": [
       "False"
      ]
     },
     "execution_count": 245,
     "metadata": {},
     "output_type": "execute_result"
    }
   ],
   "source": [
    "ispangram(\"wer tyuio pasdf ghjklzxcv   bnmmmmm\")"
   ]
  },
  {
   "cell_type": "code",
   "execution_count": 283,
   "id": "37c9b3d2",
   "metadata": {},
   "outputs": [],
   "source": [
    "import string\n",
    "def ispangram2(str1, alphabet=string.ascii_lowercase):\n",
    "    alphaset=set(alphabet)\n",
    "    str1 = set(str1.replace(' ','').lower())\n",
    "    return alphaset == str1"
   ]
  },
  {
   "cell_type": "code",
   "execution_count": 284,
   "id": "dd31f22f",
   "metadata": {},
   "outputs": [
    {
     "data": {
      "text/plain": [
       "True"
      ]
     },
     "execution_count": 284,
     "metadata": {},
     "output_type": "execute_result"
    }
   ],
   "source": [
    "ispangram2(\"The quick brown fox jumps over the lazy dog\")"
   ]
  },
  {
   "cell_type": "code",
   "execution_count": 279,
   "id": "d69c4204",
   "metadata": {},
   "outputs": [
    {
     "data": {
      "text/plain": [
       "True"
      ]
     },
     "execution_count": 279,
     "metadata": {},
     "output_type": "execute_result"
    }
   ],
   "source": [
    "ispangram2(\"qwer tyuio pasdf ghjklzxcv   bnm\")"
   ]
  },
  {
   "cell_type": "code",
   "execution_count": 280,
   "id": "c418fef5",
   "metadata": {},
   "outputs": [
    {
     "data": {
      "text/plain": [
       "False"
      ]
     },
     "execution_count": 280,
     "metadata": {},
     "output_type": "execute_result"
    }
   ],
   "source": [
    "ispangram2(\"wer tyuio pasdf ghjklzxcv   bnmmmmm\")"
   ]
  },
  {
   "cell_type": "code",
   "execution_count": null,
   "id": "11c90047",
   "metadata": {},
   "outputs": [],
   "source": []
  }
 ],
 "metadata": {
  "kernelspec": {
   "display_name": "Python 3 (ipykernel)",
   "language": "python",
   "name": "python3"
  },
  "language_info": {
   "codemirror_mode": {
    "name": "ipython",
    "version": 3
   },
   "file_extension": ".py",
   "mimetype": "text/x-python",
   "name": "python",
   "nbconvert_exporter": "python",
   "pygments_lexer": "ipython3",
   "version": "3.9.12"
  }
 },
 "nbformat": 4,
 "nbformat_minor": 5
}
